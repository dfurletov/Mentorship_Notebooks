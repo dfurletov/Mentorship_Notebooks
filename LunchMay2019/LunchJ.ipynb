{
  "nbformat": 4,
  "nbformat_minor": 0,
  "metadata": {
    "colab": {
      "name": "LunchJ.ipynb",
      "provenance": [],
      "collapsed_sections": [
        "NyuRajilb7R6"
      ],
      "toc_visible": true
    },
    "kernelspec": {
      "name": "python3",
      "display_name": "Python 3"
    },
    "accelerator": "GPU"
  },
  "cells": [
    {
      "cell_type": "markdown",
      "metadata": {
        "id": "9F7tod_UzX87"
      },
      "source": [
        "# May 2019 JLab Lunch\n",
        "\n",
        "## Sep. 19, 2020"
      ]
    },
    {
      "cell_type": "markdown",
      "metadata": {
        "id": "GFwnu4mOacY4"
      },
      "source": [
        "## Questions:\n",
        "\n",
        "How to save History.history after a model.fit() call\n",
        "\n",
        "Does it always reset if you switch to GPU\n",
        "\n",
        "Can you store files or do you always have to load them?"
      ]
    },
    {
      "cell_type": "code",
      "metadata": {
        "id": "pr9BQ4D0djve"
      },
      "source": [
        "# Variables\n",
        "\n",
        "TRAIN_SAMPLE = 10000\n",
        "TEST_SAMPLE = 25\n",
        "EPOCHS = 50"
      ],
      "execution_count": null,
      "outputs": []
    },
    {
      "cell_type": "markdown",
      "metadata": {
        "id": "c5_0SY1ocqDi"
      },
      "source": [
        "## Before model setup"
      ]
    },
    {
      "cell_type": "markdown",
      "metadata": {
        "id": "x-7QNU1_a4Vz"
      },
      "source": [
        "### Download data"
      ]
    },
    {
      "cell_type": "code",
      "metadata": {
        "id": "AUtYRsufspp-"
      },
      "source": [
        "! wget https://halldweb.jlab.org/talks/ML_lunch/May2019/TRAIN/images.raw.gz\n",
        "! wget https://halldweb.jlab.org/talks/ML_lunch/May2019/TRAIN/track_parms.csv\n",
        "! pip install pypng"
      ],
      "execution_count": null,
      "outputs": []
    },
    {
      "cell_type": "markdown",
      "metadata": {
        "id": "ZP8ATEyIa9YI"
      },
      "source": [
        "### Extract images from file"
      ]
    },
    {
      "cell_type": "code",
      "metadata": {
        "id": "hFlc6kWNGCRa",
        "outputId": "c5138797-b8f5-4bd2-c9d9-23d95d8e8c27",
        "colab": {
          "base_uri": "https://localhost:8080/",
          "height": 71
        }
      },
      "source": [
        "import png\n",
        "import os\n",
        "import sys\n",
        "\n",
        "import requests\n",
        "import gzip\n",
        "import numpy as np\n",
        "import pandas as pd\n",
        "from tensorflow import keras\n",
        "\n",
        "\n",
        "MAX_IMG_USED = TRAIN_SAMPLE + TEST_SAMPLE\n",
        "\n",
        "\n",
        "\n",
        "def loadImages(amount):\n",
        "  # from https://halldweb.jlab.org/talks/ML_lunch/May2019/raw2png.py\n",
        "\n",
        "  #------------------ input parameters --------------------\n",
        "  width = 36\n",
        "  height = 100\n",
        "\n",
        "  iMIN = 0    # First image to grab starting from zero\n",
        "  iNUM = amount  # Number of images to grab\n",
        "\n",
        "  idx_fname = 'track_parms.csv'\n",
        "  outputdir = './images'\n",
        "  #--------------------------------------------------------\n",
        "\n",
        "  # Read in file names if index file if present\n",
        "  fnames = []\n",
        "  if os.path.exists( idx_fname ):\n",
        "    df = pd.read_csv( idx_fname )\n",
        "    fnames = df.filename\n",
        "\n",
        "  # Make sure output directory exists\n",
        "  if not os.path.exists(outputdir): os.mkdir( outputdir )\n",
        "\n",
        "  # Open gzipped images file and loop over images\n",
        "  Ncreated = 0\n",
        "  with gzip.open('images.raw.gz') as f:\n",
        "\n",
        "    # Skip iMIN images at front of file\n",
        "    if iMIN>0:\n",
        "      print('Skipping %d images ...' % iMIN)\n",
        "      f.read(width*height*iMIN)\n",
        "        \n",
        "    # Create images from next iNUM records\n",
        "    print('Creating %d images in %s ...' % (iNUM, outputdir))\n",
        "    for i in range(0,iNUM):\n",
        "\n",
        "      # Read record and make it the right shape\n",
        "      bytes = f.read(width*height)\n",
        "      if len(bytes) != (width*height):\n",
        "        print('\\n File truncated!')\n",
        "        break\n",
        "      data = np.frombuffer(bytes, dtype='B', count=width*height)\n",
        "      pixels = np.reshape(data, [height, width])\n",
        "      \n",
        "      # Image name\n",
        "      idx = i + iMIN\n",
        "      fname = 'img%06d.png' % idx \n",
        "      if idx < len(fnames): fname = fnames[idx]\n",
        "      \n",
        "      # Create image file\n",
        "      png.fromarray(pixels, 'L').save( outputdir + '/' + fname )\n",
        "\n",
        "      # Bookkeeping\n",
        "      Ncreated += 1\n",
        "      if (Ncreated%10) == 0:\n",
        "        sys.stdout.write(' created %d/%d images\\r' % (Ncreated,iNUM))\n",
        "        sys.stdout.flush()\n",
        "\n",
        "  print('Created ' + str(Ncreated) + ' image files')\n",
        "  print('Done')\n",
        "\n",
        "loadImages(MAX_IMG_USED)"
      ],
      "execution_count": null,
      "outputs": [
        {
          "output_type": "stream",
          "text": [
            "Creating 10025 images in ./images ...\n",
            "Created 10025 image files\n",
            "Done\n"
          ],
          "name": "stdout"
        }
      ]
    },
    {
      "cell_type": "code",
      "metadata": {
        "id": "U_SKRmLtgM2L"
      },
      "source": [
        "import os\n",
        "import sys\n",
        "import gzip\n",
        "import pandas as pd\n",
        "import numpy as np\n",
        "import math\n",
        "\n",
        "width  = 36\n",
        "height = 100\n",
        "\n",
        "# Open labels files so we can get number of samples and pass the\n",
        "# data frames to the generators later\n",
        "traindf = pd.read_csv('track_parms.csv')\n",
        "STEP_SIZE_TRAIN = len(traindf)/32\n",
        "\n",
        "#-----------------------------------------------------\n",
        "# generate_arrays_from_file\n",
        "#-----------------------------------------------------\n",
        "# Create generator to read in images and labels\n",
        "# (used for both training and validation samples)\n",
        "def generate_arrays_from_file( labelsdf ):\n",
        "\n",
        "\timages_path = './images.raw.gz'\n",
        "\tprint( 'generator created for: ' + images_path)\n",
        "\n",
        "\tbatch_input           = []\n",
        "\tbatch_labels_phi      = []\n",
        "\tbatch_labels_z        = []\n",
        "\tidx = 0\n",
        "\tibatch = 0\n",
        "\twhile True:  # loop forever, re-reading images from same file\n",
        "\t\twith gzip.open(images_path) as f:\n",
        "\t\t\twhile True: # loop over images in file\n",
        "\t\t\t\n",
        "\t\t\t\t# Read in one image\n",
        "\t\t\t\tbytes = f.read(width*height)\n",
        "\t\t\t\tif len(bytes) != (width*height): break # break into outer loop so we can re-open file\n",
        "\t\t\t\tdata = np.frombuffer(bytes, dtype='B', count=width*height)\n",
        "\t\t\t\tpixels = np.reshape(data, [width, height, 1], order='F')\n",
        "\t\t\t\tpixels_norm = np.transpose(pixels.astype(np.float) / 255., axes=(1, 0, 2) )\n",
        "\t\t\t\t\n",
        "\t\t\t\t# Labels\n",
        "\t\t\t\tphi = labelsdf.phi[idx]\n",
        "\t\t\t\tz   = labelsdf.z[idx]\n",
        "\t\t\t\tidx += 1\n",
        "\n",
        "\t\t\t\t# Add to batch and check if it is time to yield\n",
        "\t\t\t\tbatch_input.append( pixels_norm )\n",
        "\t\t\t\tbatch_labels_phi.append( phi )\n",
        "\t\t\t\tbatch_labels_z.append( z )\n",
        "\t\t\t\tif len(batch_input) == 32 :\n",
        "\t\t\t\t\tibatch += 1\n",
        "\t\t\t\t\t\n",
        "\t\t\t\t\t# Since we are training multiple loss functions we must\n",
        "\t\t\t\t\t# pass the labels back as a dictionary whose keys match\n",
        "\t\t\t\t\t# the layer their corresponding values are being applied to.\n",
        "\t\t\t\t\tlabels_dict = {\n",
        "\t\t\t\t\t\t'phi_output' :  np.array(batch_labels_phi ),\n",
        "\t\t\t\t\t\t'z_output'   :  np.array(batch_labels_z   ),\t\t\n",
        "\t\t\t\t\t}\n",
        "\t\t\t\t\t\n",
        "\t\t\t\t\tyield ( np.array(batch_input), labels_dict )\n",
        "\t\t\t\t\tbatch_input      = []\n",
        "\t\t\t\t\tbatch_labels_phi = []\n",
        "\t\t\t\t\tbatch_labels_z   = []\n",
        "\n",
        "\t\t\tidx = 0\n",
        "\t\t\tf.close()\n",
        "\n",
        "\n",
        "#===============================================================================\n",
        "# Create training generator\n",
        "train_generator = generate_arrays_from_file(traindf)"
      ],
      "execution_count": null,
      "outputs": []
    },
    {
      "cell_type": "markdown",
      "metadata": {
        "id": "4yKHmvEkbHLL"
      },
      "source": [
        "### Imports, reading in images, and setting up data"
      ]
    },
    {
      "cell_type": "code",
      "metadata": {
        "id": "9x7c38g7lNPY"
      },
      "source": [
        "import requests\n",
        "import gzip\n",
        "import numpy as np\n",
        "import pandas as pd\n",
        "from matplotlib import pyplot as plt\n",
        "from tensorflow import keras\n"
      ],
      "execution_count": null,
      "outputs": []
    },
    {
      "cell_type": "code",
      "metadata": {
        "id": "mZzaIQacy6lT",
        "outputId": "2897680b-248b-45a4-852c-c027af72c430",
        "colab": {
          "base_uri": "https://localhost:8080/",
          "height": 53
        }
      },
      "source": [
        "min_img = 0\n",
        "min_y = 0\n",
        "# returns normalized image array for given amout, does not reuse previous images\n",
        "# amout = size of array needed\n",
        "def getImgs(amount):\n",
        "  global min_img\n",
        "  data_x = np.zeros([amount,100,36])\n",
        "  for index, i in enumerate(data_x):\n",
        "    path = \"./images/img\" + \"{:06}\".format(index+min_img) + \".png\"\n",
        "    data_x[index] = keras.preprocessing.image.load_img(path,color_mode=\"grayscale\")\n",
        "    for indy,y in enumerate(data_x[index]):\n",
        "      for indx, x in enumerate(y):\n",
        "        data_x[index,indy,indx] /= 255.\n",
        "  return data_x\n",
        "    \n",
        "\n",
        "\n",
        "train_x = getImgs(TRAIN_SAMPLE)\n",
        "min_img = len(train_x)\n",
        "# full_y = pd.read_csv(\"https://halldweb.jlab.org/talks/ML_lunch/May2019/TRAIN/track_parms.csv\")\n",
        "full_y = pd.read_csv(\"./track_parms.csv\")\n",
        "\n",
        "def setup_data(datax,useLargest=False):\n",
        "  global min_y\n",
        "    # restrict size to what you have in datax\n",
        "  datay = full_y[min_y:min_y+len(datax)]\n",
        "    # restrict to only z and phi\n",
        "  datay = np.array(datay.to_numpy()[:,1:3]).astype(np.float32)\n",
        "  datay = datay.astype(np.float32)\n",
        "\n",
        "  # expand to show that it is a gray scale not RGB to keras ¯\\_(ツ)_/¯\n",
        "  datax = np.expand_dims(datax,axis=-1)\n",
        "  datax = datax.astype(np.float32)\n",
        "\n",
        "  return (datax,datay)\n",
        "\n",
        "(train_x,train_y) = setup_data(train_x)\n",
        "min_y = len(train_x)\n",
        "\n",
        "print(train_x.shape)\n",
        "print(train_y.shape)\n",
        "\n",
        "        "
      ],
      "execution_count": null,
      "outputs": [
        {
          "output_type": "stream",
          "text": [
            "(10000, 100, 36, 1)\n",
            "(10000, 2)\n"
          ],
          "name": "stdout"
        }
      ]
    },
    {
      "cell_type": "markdown",
      "metadata": {
        "id": "dWGTT9wSbgru"
      },
      "source": [
        "## Build 2 branch model for z and phi"
      ]
    },
    {
      "cell_type": "markdown",
      "metadata": {
        "id": "XmpTpEttc7Zo"
      },
      "source": [
        "### Branch building"
      ]
    },
    {
      "cell_type": "code",
      "metadata": {
        "id": "fglVN1DU0zpz"
      },
      "source": [
        "def buildBranch(input,str1):\n",
        "  x = keras.layers.Conv2D(32,(3,3),activation='relu')(input)\n",
        "  x = keras.layers.BatchNormalization()(x)\n",
        "  x = keras.layers.MaxPool2D()(x)\n",
        "\n",
        "  x = keras.layers.Conv2D(32,(3,3),activation='relu')(x)\n",
        "  x = keras.layers.BatchNormalization()(x)\n",
        "  x = keras.layers.MaxPool2D()(x)\n",
        "  \n",
        "  x = keras.layers.Dropout(0.25)(x)\n",
        "  x = keras.layers.Flatten()(x)\n",
        "  x = keras.layers.Dense(1,activation=\"linear\",name=str1)(x)\n",
        "  return x\n",
        "\n",
        "inputs = keras.Input(shape=(100, 36, 1))\n",
        "branch_z = buildBranch(inputs,\"z_output\")\n",
        "branch_phi = buildBranch(inputs,\"phi_output\")\n",
        "model = keras.Model(inputs=inputs, outputs={\"z_output\":branch_z, \"phi_output\":branch_phi}, name=\"detector\")\n",
        "losses = {\n",
        "    \"z\":\"mse\",\n",
        "    \"phi\":\"mse\"\n",
        "}\n",
        "lossWeights = 1.0\n",
        "opt = \"adam\"\n",
        "model.compile(optimizer=opt, loss=losses, loss_weights=lossWeights, metrics=[\"mae\"])\n",
        "model.summary()\n",
        "# print(train_y.shape)\n",
        "\n",
        "# model.summary()\n",
        "# # model.compile(optimizer=keras.optimizers.Adam, loss=keras.losses.categorical_crossentropy)\n",
        "# model.compile(optimizer='Adam', loss='categorical_crossentropy',metrics='accuracy')\n",
        "# # model.compile(optimizer='Adam', loss=keras.losses.,metrics='accuracy')\n",
        "# model.fit(train_x,train_y,batch_size=32,epochs=50,verbose=1)\n"
      ],
      "execution_count": null,
      "outputs": []
    },
    {
      "cell_type": "markdown",
      "metadata": {
        "id": "_boAuu9sbmak"
      },
      "source": [
        "### Train model"
      ]
    },
    {
      "cell_type": "code",
      "metadata": {
        "id": "uBmECqv4_6mb"
      },
      "source": [
        "H = model.fit(x=train_x, y={\"z\":train_y[:,0], \"phi\":train_y[:,1]}, epochs=EPOCHS, verbose=0)\n",
        "model.save(\"model.keras\",save_format=\"h5\")"
      ],
      "execution_count": null,
      "outputs": []
    },
    {
      "cell_type": "code",
      "metadata": {
        "id": "XvJ7NsWFlboj"
      },
      "source": [
        "# H = model.fit_generator(generator=train_generator, epochs=EPOCHS, verbose=1)\n",
        "# H = model.fit(generator=train_generator, epochs=EPOCHS, verbose=1)\n",
        "H = model.fit_generator(generator=train_generator,\n",
        "                        steps_per_epoch=100,\n",
        "                        epochs=15,\n",
        "                        use_multiprocessing=False\n",
        ")\n",
        "model.save(\"model.keras\",save_format=\"h5\")"
      ],
      "execution_count": null,
      "outputs": []
    },
    {
      "cell_type": "code",
      "metadata": {
        "id": "WLWrN3l1P54d",
        "outputId": "6c6c7175-d9c4-4d06-d2ff-483f05c8ad97",
        "colab": {
          "base_uri": "https://localhost:8080/",
          "height": 35
        }
      },
      "source": [
        "print(H.history.keys())"
      ],
      "execution_count": null,
      "outputs": [
        {
          "output_type": "stream",
          "text": [
            "dict_keys(['loss', 'phi_output_loss', 'phi_output_mae', 'z_output_mae'])\n"
          ],
          "name": "stdout"
        }
      ]
    },
    {
      "cell_type": "markdown",
      "metadata": {
        "id": "q3YpUmYgb2e-"
      },
      "source": [
        "### Plot loss and mae"
      ]
    },
    {
      "cell_type": "code",
      "metadata": {
        "id": "XqodQr9QI_Fk",
        "outputId": "732f0c47-a473-4b87-da8b-31b8581e64e1",
        "colab": {
          "base_uri": "https://localhost:8080/",
          "height": 573
        }
      },
      "source": [
        "\n",
        "plt.plot(H.history['loss'])\n",
        "plt.plot(H.history['phi_output_loss'])\n",
        "plt.title('model')\n",
        "plt.ylabel('loss')\n",
        "plt.xlabel('epoch')\n",
        "plt.legend(['z','phi'],loc='upper left')\n",
        "plt.show()\n",
        "plt.plot(H.history['z_output_mae'])\n",
        "plt.plot(H.history['phi_output_mae'])\n",
        "plt.title('model')\n",
        "plt.ylabel('mae')\n",
        "plt.xlabel('epoch')\n",
        "plt.legend(['z','phi'],loc='upper left')\n",
        "plt.show()\n"
      ],
      "execution_count": null,
      "outputs": [
        {
          "output_type": "display_data",
          "data": {
            "image/png": "[encoded data removed]",
            "text/plain": [
              "<Figure size 432x288 with 1 Axes>"
            ]
          },
          "metadata": {
            "tags": [],
            "needs_background": "light"
          }
        },
        {
          "output_type": "display_data",
          "data": {
            "image/png": "[encoded data removed]",
            "text/plain": [
              "<Figure size 432x288 with 1 Axes>"
            ]
          },
          "metadata": {
            "tags": [],
            "needs_background": "light"
          }
        }
      ]
    },
    {
      "cell_type": "markdown",
      "metadata": {
        "id": "ATUz35pDcSj_"
      },
      "source": [
        "### Validate data and show difference"
      ]
    },
    {
      "cell_type": "code",
      "metadata": {
        "id": "1cbvbHDX1T0q",
        "outputId": "410814f5-9ac0-4c32-cc93-d8f5d7426cb4",
        "colab": {
          "base_uri": "https://localhost:8080/",
          "height": 464
        }
      },
      "source": [
        "test_x = getImgs(TEST_SAMPLE)\n",
        "(test_x,test_y) = setup_data(test_x,True)\n",
        "\n",
        "ev = model.evaluate(x=test_x,y=test_y,batch_size=32)\n",
        "# print(\"net  loss: {:5.2f}\\nz:   loss: {:5.2f} mae:{:5.2f}\\nphi: loss: {:5.2f} mae:{:5.2f}\".format(ev[0],ev[1],ev[3],ev[2],ev[4]))\n",
        "print(ev)\n",
        "\n",
        "\n",
        "ans1 = model.predict(test_x)\n",
        "ans = np.asarray([ans1[\"z_output\"],ans1[\"phi_output\"]])\n",
        "ans = np.squeeze(ans)\n",
        "print(\"prediction shape:\",ans.shape,\"\\n\")\n",
        "print(\"true: z     phi   : pred:   z     phi  :        z     phi\")\n",
        "for (t,z,phi) in zip(test_y[:20],ans[0,:20],ans[1,:20]):\n",
        "  print(\"   {:6.3f},{:6.3f}\".format(t[0],t[1]),\" : \",\"    {:6.3f},{:6.3f}\".format(z,phi),\" : \",\"  {:5.2f},{:5.2}\".format(z-t[0],phi-t[1]))\n"
      ],
      "execution_count": null,
      "outputs": [
        {
          "output_type": "stream",
          "text": [
            "1/1 [==============================] - 0s 2ms/step - loss: 25.9396 - phi_output_loss: 25.9396 - phi_output_mae: 3.0881 - z_output_mae: 4.6765\n",
            "[25.939559936523438, 25.939559936523438, 3.0881152153015137, 4.6765313148498535]\n",
            "prediction shape: (2, 25) \n",
            "\n",
            "true: z     phi   : pred:   z     phi  :        z     phi\n",
            "    2.674, 5.344  :      -1.537, 2.586  :    -4.21, -2.8\n",
            "    7.178,-4.918  :       1.494, 6.836  :    -5.68,1.2e+01\n",
            "   -7.382,-0.411  :      -0.556,-7.786  :     6.83, -7.4\n",
            "   -9.922, 6.201  :      -4.098,-9.774  :     5.82,-1.6e+01\n",
            "   -9.664, 3.771  :      -1.889,-9.776  :     7.77,-1.4e+01\n",
            "   -0.463, 3.752  :      -1.131,-0.286  :    -0.67, -4.0\n",
            "    1.349, 5.474  :      -2.744, 1.414  :    -4.09, -4.1\n",
            "    4.347,-3.238  :       3.503, 4.240  :    -0.84,  7.5\n",
            "   -7.091,-1.302  :      -0.863,-7.483  :     6.23, -6.2\n",
            "   -4.344, 5.872  :      -0.300,-4.108  :     4.04,-1e+01\n",
            "   -0.627, 5.989  :      -0.753,-0.578  :    -0.13, -6.6\n",
            "    8.597, 4.432  :       2.314, 8.064  :    -6.28,  3.6\n",
            "    6.095,-6.724  :       1.391, 6.025  :    -4.70,1.3e+01\n",
            "   -1.010,-7.384  :      -0.532,-1.163  :     0.48,  6.2\n",
            "    0.854, 3.134  :      -4.594, 1.146  :    -5.45, -2.0\n",
            "   -0.210,-6.638  :      -3.555,-0.072  :    -3.34,  6.6\n",
            "   -5.900, 0.230  :       1.299,-6.213  :     7.20, -6.4\n",
            "    7.205, 4.895  :      -0.124, 6.675  :    -7.33,  1.8\n",
            "    2.106, 4.725  :      -0.028, 1.779  :    -2.13, -2.9\n",
            "   -3.307,-2.208  :      -0.207,-3.366  :     3.10, -1.2\n"
          ],
          "name": "stdout"
        }
      ]
    },
    {
      "cell_type": "markdown",
      "metadata": {
        "id": "NyuRajilb7R6"
      },
      "source": [
        "## Build single branch model with output [z,phi]"
      ]
    },
    {
      "cell_type": "code",
      "metadata": {
        "id": "I4fPrDD9Pjh3"
      },
      "source": [
        "def buildBranch(input):\n",
        "  x = keras.layers.Conv2D(32,(3,3),activation='relu')(input)\n",
        "  x = keras.layers.BatchNormalization()(x)\n",
        "  x = keras.layers.Dropout(0.25)(x)\n",
        "\n",
        "  x = keras.layers.Conv2D(32,(3,3),activation='relu')(x)\n",
        "  x = keras.layers.BatchNormalization()(x)\n",
        "  x = keras.layers.MaxPool2D((3,3))(x)\n",
        "  x = keras.layers.Dropout(0.25)(x)\n",
        "\n",
        "  x = keras.layers.Conv2D(64,(3,3),activation='relu')(x)\n",
        "  x = keras.layers.BatchNormalization()(x)\n",
        "  x = keras.layers.Dropout(0.25)(x)\n",
        "\n",
        "  x = keras.layers.Conv2D(64,(3,3),activation='relu')(x)\n",
        "  x = keras.layers.BatchNormalization()(x)\n",
        "  x = keras.layers.MaxPool2D((3,3))(x)\n",
        "  x = keras.layers.Dropout(0.25)(x)\n",
        "  \n",
        "  x = keras.layers.Flatten()(x)\n",
        "  x = keras.layers.Dropout(0.25)(x)\n",
        "  x = keras.layers.Dense(2,activation=\"linear\")(x)\n",
        "  return x\n",
        "\n",
        "inputs = keras.Input(shape=(100, 36, 1))\n",
        "branch = buildBranch(inputs)\n",
        "model = keras.Model(inputs=inputs, outputs=branch, name=\"detector\")\n",
        "losses = \"mse\"\n",
        "lossWeights = 1.0\n",
        "opt = \"adam\"\n",
        "model.compile(optimizer=opt, loss=losses, loss_weights=lossWeights, metrics=[\"mae\"])\n",
        "model.summary()\n",
        "print(train_y.shape)"
      ],
      "execution_count": null,
      "outputs": []
    },
    {
      "cell_type": "code",
      "metadata": {
        "id": "nQXH-vFClxZj"
      },
      "source": [
        "def buildBranch(input,NAME):\n",
        "  x = keras.layers.Conv2D(32,(3,3),activation='relu')(input)\n",
        "  x = keras.layers.BatchNormalization()(x)\n",
        "  x = keras.layers.Dropout(0.25)(x)\n",
        "\n",
        "  x = keras.layers.Conv2D(32,(3,3),activation='relu')(x)\n",
        "  x = keras.layers.BatchNormalization()(x)\n",
        "  x = keras.layers.MaxPool2D((3,3))(x)\n",
        "  x = keras.layers.Dropout(0.25)(x)\n",
        "\n",
        "  x = keras.layers.Conv2D(64,(3,3),activation='relu')(x)\n",
        "  x = keras.layers.BatchNormalization()(x)\n",
        "  x = keras.layers.Dropout(0.25)(x)\n",
        "\n",
        "  x = keras.layers.Conv2D(64,(3,3),activation='relu')(x)\n",
        "  x = keras.layers.BatchNormalization()(x)\n",
        "  x = keras.layers.MaxPool2D((3,3))(x)\n",
        "  x = keras.layers.Dropout(0.25)(x)\n",
        "  \n",
        "  x = keras.layers.Flatten()(x)\n",
        "  x = keras.layers.Dropout(0.25)(x)\n",
        "  x = keras.layers.Dense(2,activation=\"linear\",name=NAME)(x)\n",
        "  return x\n",
        "\n",
        "inputs = keras.Input(shape=(100, 36, 1))\n",
        "branch_phi = buildBranch(inputs,\"phi_ouput\")\n",
        "branch_z = buildBranch(inputs,\"z_output\")\n",
        "model = keras.Model(inputs=inputs, outputs={\"phi_output\":branch_phi,\"z_output\":branch_z}, name=\"detector\")\n",
        "losses = \"mse\"\n",
        "lossWeights = 1.0\n",
        "opt = \"adam\"\n",
        "model.compile(optimizer=opt, loss=losses, loss_weights=lossWeights, metrics=[\"mae\"])\n",
        "model.summary()"
      ],
      "execution_count": null,
      "outputs": []
    },
    {
      "cell_type": "markdown",
      "metadata": {
        "id": "De4AA3mBcIIX"
      },
      "source": [
        "### Train model"
      ]
    },
    {
      "cell_type": "code",
      "metadata": {
        "id": "_M7cMjRfcGRC"
      },
      "source": [
        "H = model.fit(x=train_x, y=train_y, epochs=EPOCHS, verbose=0)\n",
        "model.save(\"model.keras\",save_format=\"h5\")"
      ],
      "execution_count": null,
      "outputs": []
    },
    {
      "cell_type": "markdown",
      "metadata": {
        "id": "kn12xdOUcCES"
      },
      "source": [
        "### Plot loss and mae"
      ]
    },
    {
      "cell_type": "code",
      "metadata": {
        "id": "dOOAlBsdP-iR"
      },
      "source": [
        "plt.plot(H.history['loss'])\n",
        "plt.title('model')\n",
        "plt.ylabel('loss')\n",
        "plt.xlabel('epoch')\n",
        "plt.ylim(bottom=0)\n",
        "plt.show()"
      ],
      "execution_count": null,
      "outputs": []
    },
    {
      "cell_type": "markdown",
      "metadata": {
        "id": "IksWA5cXcMY_"
      },
      "source": [
        "### Validate data and show difference"
      ]
    },
    {
      "cell_type": "code",
      "metadata": {
        "id": "n5eZg62iVBDx"
      },
      "source": [
        "test_x = getImgs(TEST_SAMPLE)\n",
        "(test_x,test_y) = setup_data(test_x,True)\n",
        "\n",
        "ev = model.evaluate(x=test_x,y=test_y,batch_size=32)\n",
        "print(\"net  loss: {:5.2f} mae: {:5.2f}\".format(ev[0],ev[1]))\n",
        "\n",
        "\n",
        "ans = model.predict(test_x)\n",
        "print(\"prediction shape:\",ans.shape,\"\\n\")\n",
        "print(\"true: z     phi   : pred:   z     phi  :        z     phi\")\n",
        "for (t,z,phi) in zip(test_y[:20],ans[:20,0],ans[:20,1]):\n",
        "  print(\"   {:6.3f},{:6.3f}\".format(t[0],t[1]),\" : \",\"    {:6.3f},{:6.3f}\".format(z,phi),\" : \",\"  {:5.2f},{:5.2}\".format(z-t[0],phi-t[1]))\n"
      ],
      "execution_count": null,
      "outputs": []
    },
    {
      "cell_type": "markdown",
      "metadata": {
        "id": "SqiG4KlAn4V7"
      },
      "source": [
        "## Testing if data is OK"
      ]
    },
    {
      "cell_type": "code",
      "metadata": {
        "id": "gN1IoqgOii6n"
      },
      "source": [
        "val = next(train_generator)\n",
        "print(val[0].shape)\n",
        "print(val[1][\"phi_output\"])\n",
        "# print(val)"
      ],
      "execution_count": null,
      "outputs": []
    },
    {
      "cell_type": "code",
      "metadata": {
        "id": "_0rup3Grn0NP"
      },
      "source": [
        "import math\n",
        "import time\n",
        "from IPython.display import clear_output\n",
        "\n",
        "for i in range(100):\n",
        "# i = 1\n",
        "  clear_output(wait=True)\n",
        "  tx = np.squeeze(test_x[i])\n",
        "  ty = test_y[i]\n",
        "  an = ans[i]\n",
        "\n",
        "  OFF = 75\n",
        "\n",
        "  SCALE = 410\n",
        "\n",
        "  print(tx.shape)\n",
        "  print(\"trainz: \",ty[0])\n",
        "  print(\"trainphi: \",ty[1])\n",
        "  print(\"ansz:\",an[0])\n",
        "  print(\"ansphi:\",an[1])\n",
        "\n",
        "  points = []\n",
        "  offset = 0\n",
        "  flag = True\n",
        "  print(tx.shape)\n",
        "  for c in range(len(tx[0])):\n",
        "    for y in range(len(tx)):\n",
        "      if tx[y,c]>0:\n",
        "        if c % 6 == 0:\n",
        "          if flag:\n",
        "            flag = False\n",
        "          else:\n",
        "            offset += OFF\n",
        "        points.append((c+offset,y-50))\n",
        "        # print(\"col_ind\",col_in,\"x_ind\",x_in)\n",
        "  points = np.asarray(points)\n",
        "\n",
        "\n",
        "  # SCALE = points[-1,0]\n",
        "\n",
        "  y_t = -math.tan(math.radians(ty[1])) * (np.array(range(0,SCALE)) + (ty[0]+7.5))\n",
        "  y_a = -math.tan(math.radians(an[1])) * (np.array(range(0,SCALE)) + (an[0]+7.5))\n",
        "\n",
        "  maxY = max(abs(y_t[-1]),abs(y_a[-1]))\n",
        "\n",
        "\n",
        "\n",
        "  plt.imshow(tx)\n",
        "  plt.show()\n",
        "\n",
        "  plt.xlim(0,SCALE)\n",
        "  plt.ylim(50,-50)\n",
        "\n",
        "  m,b = np.polyfit(points[:,0],points[:,1],1)\n",
        "  func = m * np.array(points[:,0]) + b\n",
        "\n",
        "\n",
        "  print(\"slope:\",-math.tan(math.radians(an[1])))\n",
        "  print(\"m:\",m)\n",
        "\n",
        "  plt.plot(y_t)\n",
        "  plt.plot(y_a)\n",
        "  plt.plot(points[:,0],func)\n",
        "  plt.scatter(points[:,0],points[:,1])\n",
        "  plt.legend([\"y_t\",\"y_a\",\"func\"])\n",
        "  plt.show()\n",
        "\n",
        "\n",
        "  time.sleep(2)\n"
      ],
      "execution_count": null,
      "outputs": []
    },
    {
      "cell_type": "code",
      "metadata": {
        "id": "jUD_QQb9qID5"
      },
      "source": [
        ""
      ],
      "execution_count": null,
      "outputs": []
    }
  ]
}