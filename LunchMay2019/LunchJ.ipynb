{
  "nbformat": 4,
  "nbformat_minor": 0,
  "metadata": {
    "colab": {
      "name": "LunchJ.ipynb",
      "provenance": [],
      "collapsed_sections": [
        "c5_0SY1ocqDi",
        "dWGTT9wSbgru",
        "NyuRajilb7R6"
      ],
      "toc_visible": true
    },
    "kernelspec": {
      "name": "python3",
      "display_name": "Python 3"
    },
    "accelerator": "GPU"
  },
  "cells": [
    {
      "cell_type": "markdown",
      "metadata": {
        "id": "9F7tod_UzX87"
      },
      "source": [
        "# May 2019 JLab Lunch\n",
        "\n",
        "## Sep. 19, 2020"
      ]
    },
    {
      "cell_type": "markdown",
      "metadata": {
        "id": "GFwnu4mOacY4"
      },
      "source": [
        "## Questions:\n",
        "\n",
        "How to save History.history after a model.fit() call\n",
        "\n",
        "Does it always reset if you switch to GPU\n",
        "\n",
        "Can you store files or do you always have to load them?"
      ]
    },
    {
      "cell_type": "code",
      "metadata": {
        "id": "pr9BQ4D0djve"
      },
      "source": [
        "# Variables\n",
        "\n",
        "TRAIN_SAMPLE = 10000\n",
        "TEST_SAMPLE = 25\n",
        "EPOCHS = 50"
      ],
      "execution_count": 1,
      "outputs": []
    },
    {
      "cell_type": "markdown",
      "metadata": {
        "id": "c5_0SY1ocqDi"
      },
      "source": [
        "## Before model setup"
      ]
    },
    {
      "cell_type": "markdown",
      "metadata": {
        "id": "x-7QNU1_a4Vz"
      },
      "source": [
        "### Download data"
      ]
    },
    {
      "cell_type": "code",
      "metadata": {
        "id": "AUtYRsufspp-",
        "outputId": "2ef0f2c8-4ddb-48b4-8773-4588b4d731f1",
        "colab": {
          "base_uri": "https://localhost:8080/",
          "height": 0
        }
      },
      "source": [
        "! wget https://halldweb.jlab.org/talks/ML_lunch/May2019/TRAIN/images.raw.gz\n",
        "! wget https://halldweb.jlab.org/talks/ML_lunch/May2019/TRAIN/track_parms.csv\n",
        "! pip install pypng"
      ],
      "execution_count": 2,
      "outputs": [
        {
          "output_type": "stream",
          "text": [
            "--2020-09-29 20:06:00--  https://halldweb.jlab.org/talks/ML_lunch/May2019/TRAIN/images.raw.gz\n",
            "Resolving halldweb.jlab.org (halldweb.jlab.org)... 129.57.64.128\n",
            "Connecting to halldweb.jlab.org (halldweb.jlab.org)|129.57.64.128|:443... connected.\n",
            "HTTP request sent, awaiting response... 200 OK\n",
            "Length: 31813265 (30M) [application/x-gzip]\n",
            "Saving to: ‘images.raw.gz’\n",
            "\n",
            "images.raw.gz       100%[===================>]  30.34M  22.3MB/s    in 1.4s    \n",
            "\n",
            "2020-09-29 20:06:01 (22.3 MB/s) - ‘images.raw.gz’ saved [31813265/31813265]\n",
            "\n",
            "--2020-09-29 20:06:02--  https://halldweb.jlab.org/talks/ML_lunch/May2019/TRAIN/track_parms.csv\n",
            "Resolving halldweb.jlab.org (halldweb.jlab.org)... 129.57.64.128\n",
            "Connecting to halldweb.jlab.org (halldweb.jlab.org)|129.57.64.128|:443... connected.\n",
            "HTTP request sent, awaiting response... 200 OK\n",
            "Length: 38940211 (37M) [text/csv]\n",
            "Saving to: ‘track_parms.csv’\n",
            "\n",
            "track_parms.csv     100%[===================>]  37.14M  26.0MB/s    in 1.4s    \n",
            "\n",
            "2020-09-29 20:06:03 (26.0 MB/s) - ‘track_parms.csv’ saved [38940211/38940211]\n",
            "\n",
            "Collecting pypng\n",
            "\u001b[?25l  Downloading https://files.pythonhosted.org/packages/bc/fb/f719f1ac965e2101aa6ea6f54ef8b40f8fbb033f6ad07c017663467f5147/pypng-0.0.20.tar.gz (649kB)\n",
            "\u001b[K     |████████████████████████████████| 655kB 5.5MB/s \n",
            "\u001b[?25hBuilding wheels for collected packages: pypng\n",
            "  Building wheel for pypng (setup.py) ... \u001b[?25l\u001b[?25hdone\n",
            "  Created wheel for pypng: filename=pypng-0.0.20-cp36-none-any.whl size=67162 sha256=3a48c0a4fd277878154b4ab09b5574e7fd51a5ff9b128ff1dd45ad1dbe6ecda5\n",
            "  Stored in directory: /root/.cache/pip/wheels/41/6b/ef/0493b536b6d4722c2ae9486691b1d49b922b9877922beeabb3\n",
            "Successfully built pypng\n",
            "Installing collected packages: pypng\n",
            "Successfully installed pypng-0.0.20\n"
          ],
          "name": "stdout"
        }
      ]
    },
    {
      "cell_type": "markdown",
      "metadata": {
        "id": "ZP8ATEyIa9YI"
      },
      "source": [
        "### Extract images from file"
      ]
    },
    {
      "cell_type": "code",
      "metadata": {
        "id": "hFlc6kWNGCRa",
        "outputId": "8681ae3d-9b14-4c40-a730-b0b8eda04a25",
        "colab": {
          "base_uri": "https://localhost:8080/",
          "height": 0
        }
      },
      "source": [
        "import png\n",
        "import os\n",
        "import sys\n",
        "\n",
        "import requests\n",
        "import gzip\n",
        "import numpy as np\n",
        "import pandas as pd\n",
        "from tensorflow import keras\n",
        "\n",
        "\n",
        "MAX_IMG_USED = TRAIN_SAMPLE + TEST_SAMPLE\n",
        "\n",
        "\n",
        "\n",
        "def loadImages(amount):\n",
        "  # from https://halldweb.jlab.org/talks/ML_lunch/May2019/raw2png.py\n",
        "\n",
        "  #------------------ input parameters --------------------\n",
        "  width = 36\n",
        "  height = 100\n",
        "\n",
        "  iMIN = 0    # First image to grab starting from zero\n",
        "  iNUM = amount  # Number of images to grab\n",
        "\n",
        "  idx_fname = 'track_parms.csv'\n",
        "  outputdir = './images'\n",
        "  #--------------------------------------------------------\n",
        "\n",
        "  # Read in file names if index file if present\n",
        "  fnames = []\n",
        "  if os.path.exists( idx_fname ):\n",
        "    df = pd.read_csv( idx_fname )\n",
        "    fnames = df.filename\n",
        "\n",
        "  # Make sure output directory exists\n",
        "  if not os.path.exists(outputdir): os.mkdir( outputdir )\n",
        "\n",
        "  # Open gzipped images file and loop over images\n",
        "  Ncreated = 0\n",
        "  with gzip.open('images.raw.gz') as f:\n",
        "\n",
        "    # Skip iMIN images at front of file\n",
        "    if iMIN>0:\n",
        "      print('Skipping %d images ...' % iMIN)\n",
        "      f.read(width*height*iMIN)\n",
        "        \n",
        "    # Create images from next iNUM records\n",
        "    print('Creating %d images in %s ...' % (iNUM, outputdir))\n",
        "    for i in range(0,iNUM):\n",
        "\n",
        "      # Read record and make it the right shape\n",
        "      bytes = f.read(width*height)\n",
        "      if len(bytes) != (width*height):\n",
        "        print('\\n File truncated!')\n",
        "        break\n",
        "      data = np.frombuffer(bytes, dtype='B', count=width*height)\n",
        "      pixels = np.reshape(data, [height, width])\n",
        "      \n",
        "      # Image name\n",
        "      idx = i + iMIN\n",
        "      fname = 'img%06d.png' % idx \n",
        "      if idx < len(fnames): fname = fnames[idx]\n",
        "      \n",
        "      # Create image file\n",
        "      png.fromarray(pixels, 'L').save( outputdir + '/' + fname )\n",
        "\n",
        "      # Bookkeeping\n",
        "      Ncreated += 1\n",
        "      if (Ncreated%10) == 0:\n",
        "        sys.stdout.write(' created %d/%d images\\r' % (Ncreated,iNUM))\n",
        "        sys.stdout.flush()\n",
        "\n",
        "  print('Created ' + str(Ncreated) + ' image files')\n",
        "  print('Done')\n",
        "\n",
        "loadImages(MAX_IMG_USED)"
      ],
      "execution_count": 3,
      "outputs": [
        {
          "output_type": "stream",
          "text": [
            "Creating 10025 images in ./images ...\n",
            "Created 10025 image files\n",
            "Done\n"
          ],
          "name": "stdout"
        }
      ]
    },
    {
      "cell_type": "markdown",
      "metadata": {
        "id": "4yKHmvEkbHLL"
      },
      "source": [
        "### Imports, reading in images, and setting up data"
      ]
    },
    {
      "cell_type": "code",
      "metadata": {
        "id": "mZzaIQacy6lT",
        "outputId": "1ae075f5-c991-4253-c0b1-2c7f1e249a19",
        "colab": {
          "base_uri": "https://localhost:8080/",
          "height": 0
        }
      },
      "source": [
        "import requests\n",
        "import gzip\n",
        "import numpy as np\n",
        "import pandas as pd\n",
        "from matplotlib import pyplot as plt\n",
        "from tensorflow import keras\n",
        "\n",
        "min_img = 0\n",
        "min_y = 0\n",
        "# returns normalized image array for given amout, does not reuse previous images\n",
        "# amout = size of array needed\n",
        "def getImgs(amount):\n",
        "  global min_img\n",
        "  data_x = np.zeros([amount,100,36])\n",
        "  for index, i in enumerate(data_x):\n",
        "    path = \"./images/img\" + \"{:06}\".format(index+min_img) + \".png\"\n",
        "    data_x[index] = keras.preprocessing.image.load_img(path,color_mode=\"grayscale\")\n",
        "    for indy,y in enumerate(data_x[index]):\n",
        "      for indx, x in enumerate(y):\n",
        "        data_x[index,indy,indx] /= 255.\n",
        "  return data_x\n",
        "    \n",
        "\n",
        "\n",
        "train_x = getImgs(TRAIN_SAMPLE)\n",
        "min_img = len(train_x)\n",
        "# full_y = pd.read_csv(\"https://halldweb.jlab.org/talks/ML_lunch/May2019/TRAIN/track_parms.csv\")\n",
        "full_y = pd.read_csv(\"./track_parms.csv\")\n",
        "\n",
        "def setup_data(datax,useLargest=False):\n",
        "  global min_y\n",
        "    # restrict size to what you have in datax\n",
        "  datay = full_y[min_y:min_y+len(datax)]\n",
        "    # restrict to only z and phi\n",
        "  datay = np.array(datay.to_numpy()[:,1:3]).astype(np.float32)\n",
        "  datay = datay.astype(np.float32)\n",
        "\n",
        "  # expand to show that it is a gray scale not RGB to keras ¯\\_(ツ)_/¯\n",
        "  datax = np.expand_dims(datax,axis=-1)\n",
        "  datax = datax.astype(np.float32)\n",
        "\n",
        "  return (datax,datay)\n",
        "\n",
        "(train_x,train_y) = setup_data(train_x)\n",
        "min_y = len(train_x)\n",
        "\n",
        "print(train_x.shape)\n",
        "print(train_y.shape)\n",
        "\n",
        "        "
      ],
      "execution_count": 4,
      "outputs": [
        {
          "output_type": "stream",
          "text": [
            "(10000, 100, 36, 1)\n",
            "(10000, 2)\n"
          ],
          "name": "stdout"
        }
      ]
    },
    {
      "cell_type": "markdown",
      "metadata": {
        "id": "dWGTT9wSbgru"
      },
      "source": [
        "## Build 2 branch model for z and phi"
      ]
    },
    {
      "cell_type": "markdown",
      "metadata": {
        "id": "XmpTpEttc7Zo"
      },
      "source": [
        "### Branch building"
      ]
    },
    {
      "cell_type": "code",
      "metadata": {
        "id": "fglVN1DU0zpz",
        "outputId": "1bec7d8e-b551-4750-b66f-e8fa95c3e9a2",
        "colab": {
          "base_uri": "https://localhost:8080/",
          "height": 833
        }
      },
      "source": [
        "def buildBranch(input,str1):\n",
        "  x = keras.layers.Conv2D(32,(3,3),activation='relu')(input)\n",
        "  x = keras.layers.BatchNormalization()(x)\n",
        "  x = keras.layers.MaxPool2D()(x)\n",
        "\n",
        "  x = keras.layers.Conv2D(32,(3,3),activation='relu')(x)\n",
        "  x = keras.layers.BatchNormalization()(x)\n",
        "  x = keras.layers.MaxPool2D()(x)\n",
        "  \n",
        "  x = keras.layers.Dropout(0.25)(x)\n",
        "  x = keras.layers.Flatten()(x)\n",
        "  x = keras.layers.Dense(1,activation=\"linear\",name=str1)(x)\n",
        "  return x\n",
        "\n",
        "inputs = keras.Input(shape=(100, 36, 1))\n",
        "branch_z = buildBranch(inputs,\"z\")\n",
        "branch_phi = buildBranch(inputs,\"phi\")\n",
        "model = keras.Model(inputs=inputs, outputs={\"z\":branch_z, \"phi\":branch_phi}, name=\"detector\")\n",
        "losses = {\n",
        "    \"z\":\"mse\",\n",
        "    \"phi\":\"mse\"\n",
        "}\n",
        "lossWeights = 1.0\n",
        "opt = \"adam\"\n",
        "model.compile(optimizer=opt, loss=losses, loss_weights=lossWeights, metrics=[\"mae\"])\n",
        "model.summary()\n",
        "print(train_y.shape)\n",
        "\n",
        "# model.summary()\n",
        "# # model.compile(optimizer=keras.optimizers.Adam, loss=keras.losses.categorical_crossentropy)\n",
        "# model.compile(optimizer='Adam', loss='categorical_crossentropy',metrics='accuracy')\n",
        "# # model.compile(optimizer='Adam', loss=keras.losses.,metrics='accuracy')\n",
        "# model.fit(train_x,train_y,batch_size=32,epochs=50,verbose=1)\n"
      ],
      "execution_count": 5,
      "outputs": [
        {
          "output_type": "stream",
          "text": [
            "Model: \"detector\"\n",
            "__________________________________________________________________________________________________\n",
            "Layer (type)                    Output Shape         Param #     Connected to                     \n",
            "==================================================================================================\n",
            "input_1 (InputLayer)            [(None, 100, 36, 1)] 0                                            \n",
            "__________________________________________________________________________________________________\n",
            "conv2d_2 (Conv2D)               (None, 98, 34, 32)   320         input_1[0][0]                    \n",
            "__________________________________________________________________________________________________\n",
            "conv2d (Conv2D)                 (None, 98, 34, 32)   320         input_1[0][0]                    \n",
            "__________________________________________________________________________________________________\n",
            "batch_normalization_2 (BatchNor (None, 98, 34, 32)   128         conv2d_2[0][0]                   \n",
            "__________________________________________________________________________________________________\n",
            "batch_normalization (BatchNorma (None, 98, 34, 32)   128         conv2d[0][0]                     \n",
            "__________________________________________________________________________________________________\n",
            "max_pooling2d_2 (MaxPooling2D)  (None, 49, 17, 32)   0           batch_normalization_2[0][0]      \n",
            "__________________________________________________________________________________________________\n",
            "max_pooling2d (MaxPooling2D)    (None, 49, 17, 32)   0           batch_normalization[0][0]        \n",
            "__________________________________________________________________________________________________\n",
            "conv2d_3 (Conv2D)               (None, 47, 15, 32)   9248        max_pooling2d_2[0][0]            \n",
            "__________________________________________________________________________________________________\n",
            "conv2d_1 (Conv2D)               (None, 47, 15, 32)   9248        max_pooling2d[0][0]              \n",
            "__________________________________________________________________________________________________\n",
            "batch_normalization_3 (BatchNor (None, 47, 15, 32)   128         conv2d_3[0][0]                   \n",
            "__________________________________________________________________________________________________\n",
            "batch_normalization_1 (BatchNor (None, 47, 15, 32)   128         conv2d_1[0][0]                   \n",
            "__________________________________________________________________________________________________\n",
            "max_pooling2d_3 (MaxPooling2D)  (None, 23, 7, 32)    0           batch_normalization_3[0][0]      \n",
            "__________________________________________________________________________________________________\n",
            "max_pooling2d_1 (MaxPooling2D)  (None, 23, 7, 32)    0           batch_normalization_1[0][0]      \n",
            "__________________________________________________________________________________________________\n",
            "dropout_1 (Dropout)             (None, 23, 7, 32)    0           max_pooling2d_3[0][0]            \n",
            "__________________________________________________________________________________________________\n",
            "dropout (Dropout)               (None, 23, 7, 32)    0           max_pooling2d_1[0][0]            \n",
            "__________________________________________________________________________________________________\n",
            "flatten_1 (Flatten)             (None, 5152)         0           dropout_1[0][0]                  \n",
            "__________________________________________________________________________________________________\n",
            "flatten (Flatten)               (None, 5152)         0           dropout[0][0]                    \n",
            "__________________________________________________________________________________________________\n",
            "phi (Dense)                     (None, 1)            5153        flatten_1[0][0]                  \n",
            "__________________________________________________________________________________________________\n",
            "z (Dense)                       (None, 1)            5153        flatten[0][0]                    \n",
            "==================================================================================================\n",
            "Total params: 29,954\n",
            "Trainable params: 29,698\n",
            "Non-trainable params: 256\n",
            "__________________________________________________________________________________________________\n",
            "(10000, 2)\n"
          ],
          "name": "stdout"
        }
      ]
    },
    {
      "cell_type": "markdown",
      "metadata": {
        "id": "_boAuu9sbmak"
      },
      "source": [
        "### Train model"
      ]
    },
    {
      "cell_type": "code",
      "metadata": {
        "id": "uBmECqv4_6mb"
      },
      "source": [
        "H = model.fit(x=train_x, y={\"z\":train_y[:,0], \"phi\":train_y[:,1]}, epochs=EPOCHS, verbose=0)\n",
        "model.save(\"model.keras\",save_format=\"h5\")"
      ],
      "execution_count": 6,
      "outputs": []
    },
    {
      "cell_type": "code",
      "metadata": {
        "id": "WLWrN3l1P54d",
        "outputId": "210e915a-1b46-4e43-e0c8-4280abaf8028",
        "colab": {
          "base_uri": "https://localhost:8080/",
          "height": 34
        }
      },
      "source": [
        "print(H.history.keys())"
      ],
      "execution_count": 7,
      "outputs": [
        {
          "output_type": "stream",
          "text": [
            "dict_keys(['loss', 'phi_loss', 'z_loss', 'phi_mae', 'z_mae'])\n"
          ],
          "name": "stdout"
        }
      ]
    },
    {
      "cell_type": "markdown",
      "metadata": {
        "id": "q3YpUmYgb2e-"
      },
      "source": [
        "### Plot loss and mae"
      ]
    },
    {
      "cell_type": "code",
      "metadata": {
        "id": "XqodQr9QI_Fk",
        "outputId": "270ae2a3-70b0-4619-be74-b427910b8c80",
        "colab": {
          "base_uri": "https://localhost:8080/",
          "height": 573
        }
      },
      "source": [
        "\n",
        "plt.plot(H.history['z_loss'])\n",
        "plt.plot(H.history['phi_loss'])\n",
        "plt.title('model')\n",
        "plt.ylabel('loss')\n",
        "plt.xlabel('epoch')\n",
        "plt.legend(['z','phi'],loc='upper left')\n",
        "plt.show()\n",
        "plt.plot(H.history['z_mae'])\n",
        "plt.plot(H.history['phi_mae'])\n",
        "plt.title('model')\n",
        "plt.ylabel('mae')\n",
        "plt.xlabel('epoch')\n",
        "plt.legend(['z','phi'],loc='upper left')\n",
        "plt.show()\n"
      ],
      "execution_count": 10,
      "outputs": [
        {
          "output_type": "display_data",
          "data": {
            "image/png": "[encoded data removed]",
            "text/plain": [
              "<Figure size 432x288 with 1 Axes>"
            ]
          },
          "metadata": {
            "tags": [],
            "needs_background": "light"
          }
        },
        {
          "output_type": "display_data",
          "data": {
            "image/png": "[encoded data removed]",
            "text/plain": [
              "<Figure size 432x288 with 1 Axes>"
            ]
          },
          "metadata": {
            "tags": [],
            "needs_background": "light"
          }
        }
      ]
    },
    {
      "cell_type": "markdown",
      "metadata": {
        "id": "ATUz35pDcSj_"
      },
      "source": [
        "### Validate data and show difference"
      ]
    },
    {
      "cell_type": "code",
      "metadata": {
        "id": "1cbvbHDX1T0q",
        "outputId": "fd04a36f-baf2-413b-b6d3-e3e549ce202f",
        "colab": {
          "base_uri": "https://localhost:8080/",
          "height": 506
        }
      },
      "source": [
        "test_x = getImgs(TEST_SAMPLE)\n",
        "(test_x,test_y) = setup_data(test_x,True)\n",
        "\n",
        "ev = model.evaluate(x=test_x,y=test_y,batch_size=32)\n",
        "print(\"net  loss: {:5.2f}\\nz:   loss: {:5.2f} mae:{:5.2f}\\nphi: loss: {:5.2f} mae:{:5.2f}\".format(ev[0],ev[1],ev[3],ev[2],ev[4]))\n",
        "\n",
        "\n",
        "\n",
        "ans1 = model.predict(test_x)\n",
        "ans = np.asarray([ans1[\"z\"],ans1[\"phi\"]])\n",
        "ans = np.squeeze(ans)\n",
        "print(\"prediction shape:\",ans.shape,\"\\n\")\n",
        "print(\"true: z     phi   : pred:   z     phi  :        z     phi\")\n",
        "for (t,z,phi) in zip(test_y[:20],ans[0,:20],ans[1,:20]):\n",
        "  print(\"   {:6.3f},{:6.3f}\".format(t[0],t[1]),\" : \",\"    {:6.3f},{:6.3f}\".format(z,phi),\" : \",\"  {:5.2f},{:5.2}\".format(z-t[0],phi-t[1]))\n"
      ],
      "execution_count": 9,
      "outputs": [
        {
          "output_type": "stream",
          "text": [
            "1/1 [==============================] - 0s 2ms/step - loss: 50.3753 - phi_loss: 22.9923 - z_loss: 27.3830 - phi_mae: 3.1440 - z_mae: 3.1468\n",
            "net  loss: 50.38\n",
            "z:   loss: 22.99 mae: 3.14\n",
            "phi: loss: 27.38 mae: 3.15\n",
            "prediction shape: (2, 25) \n",
            "\n",
            "true: z     phi   : pred:   z     phi  :        z     phi\n",
            "    2.674, 5.344  :       2.728, 3.939  :     0.05, -1.4\n",
            "    7.178,-4.918  :       7.519,-4.162  :     0.34, 0.76\n",
            "   -7.382,-0.411  :      -7.344,-0.618  :     0.04,-0.21\n",
            "   -9.922, 6.201  :      -10.277, 5.833  :    -0.35,-0.37\n",
            "   -9.664, 3.771  :      -10.070, 2.880  :    -0.41,-0.89\n",
            "   -0.463, 3.752  :      -0.409, 1.359  :     0.05, -2.4\n",
            "    1.349, 5.474  :       1.265, 2.488  :    -0.08, -3.0\n",
            "    4.347,-3.238  :       4.507,-3.336  :     0.16,-0.099\n",
            "   -7.091,-1.302  :      -7.151,-1.479  :    -0.06,-0.18\n",
            "   -4.344, 5.872  :      -4.543, 3.853  :    -0.20, -2.0\n",
            "   -0.627, 5.989  :      -0.576, 3.422  :     0.05, -2.6\n",
            "    8.597, 4.432  :       8.916, 4.061  :     0.32,-0.37\n",
            "    6.095,-6.724  :       6.304,-5.400  :     0.21,  1.3\n",
            "   -1.010,-7.384  :      -0.998,-3.493  :     0.01,  3.9\n",
            "    0.854, 3.134  :       0.826, 2.235  :    -0.03, -0.9\n",
            "   -0.210,-6.638  :      -0.143,-0.604  :     0.07,  6.0\n",
            "   -5.900, 0.230  :      -6.165, 0.647  :    -0.27, 0.42\n",
            "    7.205, 4.895  :       7.489, 3.980  :     0.28,-0.92\n",
            "    2.106, 4.725  :       2.136, 3.876  :     0.03,-0.85\n",
            "   -3.307,-2.208  :      -3.476,-2.461  :    -0.17,-0.25\n"
          ],
          "name": "stdout"
        }
      ]
    },
    {
      "cell_type": "markdown",
      "metadata": {
        "id": "NyuRajilb7R6"
      },
      "source": [
        "## Build single branch model with output [z,phi]"
      ]
    },
    {
      "cell_type": "code",
      "metadata": {
        "id": "I4fPrDD9Pjh3",
        "outputId": "059c0144-9981-442d-cf27-d60a87e4f592",
        "colab": {
          "base_uri": "https://localhost:8080/",
          "height": 799
        }
      },
      "source": [
        "def buildBranch(input):\n",
        "  x = keras.layers.Conv2D(32,(3,3),activation='relu')(input)\n",
        "  x = keras.layers.BatchNormalization()(x)\n",
        "  x = keras.layers.Dropout(0.25)(x)\n",
        "\n",
        "  x = keras.layers.Conv2D(32,(3,3),activation='relu')(x)\n",
        "  x = keras.layers.BatchNormalization()(x)\n",
        "  x = keras.layers.MaxPool2D((3,3))(x)\n",
        "  x = keras.layers.Dropout(0.25)(x)\n",
        "\n",
        "  x = keras.layers.Conv2D(64,(3,3),activation='relu')(x)\n",
        "  x = keras.layers.BatchNormalization()(x)\n",
        "  x = keras.layers.Dropout(0.25)(x)\n",
        "\n",
        "  x = keras.layers.Conv2D(64,(3,3),activation='relu')(x)\n",
        "  x = keras.layers.BatchNormalization()(x)\n",
        "  x = keras.layers.MaxPool2D((3,3))(x)\n",
        "  x = keras.layers.Dropout(0.25)(x)\n",
        "  \n",
        "  x = keras.layers.Flatten()(x)\n",
        "  x = keras.layers.Dropout(0.25)(x)\n",
        "  x = keras.layers.Dense(1,activation=\"linear\")(x)\n",
        "  return x\n",
        "\n",
        "inputs = keras.Input(shape=(100, 36, 1))\n",
        "branch = buildBranch(inputs)\n",
        "model = keras.Model(inputs=inputs, outputs=branch, name=\"detector\")\n",
        "losses = \"mse\"\n",
        "lossWeights = 1.0\n",
        "opt = \"adam\"\n",
        "model.compile(optimizer=opt, loss=losses, loss_weights=lossWeights, metrics=[\"mae\"])\n",
        "model.summary()\n",
        "print(train_y.shape)"
      ],
      "execution_count": 11,
      "outputs": [
        {
          "output_type": "stream",
          "text": [
            "Model: \"detector\"\n",
            "_________________________________________________________________\n",
            "Layer (type)                 Output Shape              Param #   \n",
            "=================================================================\n",
            "input_2 (InputLayer)         [(None, 100, 36, 1)]      0         \n",
            "_________________________________________________________________\n",
            "conv2d_4 (Conv2D)            (None, 98, 34, 32)        320       \n",
            "_________________________________________________________________\n",
            "batch_normalization_4 (Batch (None, 98, 34, 32)        128       \n",
            "_________________________________________________________________\n",
            "dropout_2 (Dropout)          (None, 98, 34, 32)        0         \n",
            "_________________________________________________________________\n",
            "conv2d_5 (Conv2D)            (None, 96, 32, 32)        9248      \n",
            "_________________________________________________________________\n",
            "batch_normalization_5 (Batch (None, 96, 32, 32)        128       \n",
            "_________________________________________________________________\n",
            "max_pooling2d_4 (MaxPooling2 (None, 32, 10, 32)        0         \n",
            "_________________________________________________________________\n",
            "dropout_3 (Dropout)          (None, 32, 10, 32)        0         \n",
            "_________________________________________________________________\n",
            "conv2d_6 (Conv2D)            (None, 30, 8, 64)         18496     \n",
            "_________________________________________________________________\n",
            "batch_normalization_6 (Batch (None, 30, 8, 64)         256       \n",
            "_________________________________________________________________\n",
            "dropout_4 (Dropout)          (None, 30, 8, 64)         0         \n",
            "_________________________________________________________________\n",
            "conv2d_7 (Conv2D)            (None, 28, 6, 64)         36928     \n",
            "_________________________________________________________________\n",
            "batch_normalization_7 (Batch (None, 28, 6, 64)         256       \n",
            "_________________________________________________________________\n",
            "max_pooling2d_5 (MaxPooling2 (None, 9, 2, 64)          0         \n",
            "_________________________________________________________________\n",
            "dropout_5 (Dropout)          (None, 9, 2, 64)          0         \n",
            "_________________________________________________________________\n",
            "flatten_2 (Flatten)          (None, 1152)              0         \n",
            "_________________________________________________________________\n",
            "dropout_6 (Dropout)          (None, 1152)              0         \n",
            "_________________________________________________________________\n",
            "dense (Dense)                (None, 1)                 1153      \n",
            "=================================================================\n",
            "Total params: 66,913\n",
            "Trainable params: 66,529\n",
            "Non-trainable params: 384\n",
            "_________________________________________________________________\n",
            "(10000, 2)\n"
          ],
          "name": "stdout"
        }
      ]
    },
    {
      "cell_type": "markdown",
      "metadata": {
        "id": "De4AA3mBcIIX"
      },
      "source": [
        "### Train model"
      ]
    },
    {
      "cell_type": "code",
      "metadata": {
        "id": "_M7cMjRfcGRC"
      },
      "source": [
        "H = model.fit(x=train_x, y=train_y, epochs=EPOCHS, verbose=0)\n",
        "model.save(\"model.keras\",save_format=\"h5\")"
      ],
      "execution_count": 12,
      "outputs": []
    },
    {
      "cell_type": "markdown",
      "metadata": {
        "id": "kn12xdOUcCES"
      },
      "source": [
        "### Plot loss and mae"
      ]
    },
    {
      "cell_type": "code",
      "metadata": {
        "id": "dOOAlBsdP-iR",
        "outputId": "05fee5d6-82b9-422d-b864-6e4b704b4e1b",
        "colab": {
          "base_uri": "https://localhost:8080/",
          "height": 295
        }
      },
      "source": [
        "plt.plot(H.history['loss'])\n",
        "plt.title('model')\n",
        "plt.ylabel('loss')\n",
        "plt.xlabel('epoch')\n",
        "plt.ylim(bottom=0)\n",
        "plt.show()"
      ],
      "execution_count": 13,
      "outputs": [
        {
          "output_type": "display_data",
          "data": {
            "image/png": "[encoded data removed]",
            "text/plain": [
              "<Figure size 432x288 with 1 Axes>"
            ]
          },
          "metadata": {
            "tags": [],
            "needs_background": "light"
          }
        }
      ]
    },
    {
      "cell_type": "markdown",
      "metadata": {
        "id": "IksWA5cXcMY_"
      },
      "source": [
        "### Validate data and show difference"
      ]
    },
    {
      "cell_type": "code",
      "metadata": {
        "id": "n5eZg62iVBDx",
        "outputId": "638cdebd-5f06-4be7-c1fe-b9e0e193ee16",
        "colab": {
          "base_uri": "https://localhost:8080/",
          "height": 451
        }
      },
      "source": [
        "test_x = getImgs(TEST_SAMPLE)\n",
        "(test_x,test_y) = setup_data(test_x,True)\n",
        "\n",
        "ev = model.evaluate(x=test_x,y=test_y,batch_size=32)\n",
        "print(\"net  loss: {:5.2f} mae: {:5.2f}\".format(ev[0],ev[1]))\n",
        "\n",
        "\n",
        "ans1 = model.predict(test_x)\n",
        "print(\"prediction shape:\",ans.shape,\"\\n\")\n",
        "print(\"true: z     phi   : pred:   z     phi  :        z     phi\")\n",
        "for (t,z,phi) in zip(test_y[:20],ans[0,:20],ans[1,:20]):\n",
        "  print(\"   {:6.3f},{:6.3f}\".format(t[0],t[1]),\" : \",\"    {:6.3f},{:6.3f}\".format(z,phi),\" : \",\"  {:5.2f},{:5.2}\".format(z-t[0],phi-t[1]))\n"
      ],
      "execution_count": 14,
      "outputs": [
        {
          "output_type": "stream",
          "text": [
            "1/1 [==============================] - 0s 1ms/step - loss: 14.2755 - mae: 3.0794\n",
            "net  loss: 14.28 mae:  3.08\n",
            "prediction shape: (2, 25) \n",
            "\n",
            "true: z     phi   : pred:   z     phi  :        z     phi\n",
            "    2.674, 5.344  :       2.728, 3.939  :     0.05, -1.4\n",
            "    7.178,-4.918  :       7.519,-4.162  :     0.34, 0.76\n",
            "   -7.382,-0.411  :      -7.344,-0.618  :     0.04,-0.21\n",
            "   -9.922, 6.201  :      -10.277, 5.833  :    -0.35,-0.37\n",
            "   -9.664, 3.771  :      -10.070, 2.880  :    -0.41,-0.89\n",
            "   -0.463, 3.752  :      -0.409, 1.359  :     0.05, -2.4\n",
            "    1.349, 5.474  :       1.265, 2.488  :    -0.08, -3.0\n",
            "    4.347,-3.238  :       4.507,-3.336  :     0.16,-0.099\n",
            "   -7.091,-1.302  :      -7.151,-1.479  :    -0.06,-0.18\n",
            "   -4.344, 5.872  :      -4.543, 3.853  :    -0.20, -2.0\n",
            "   -0.627, 5.989  :      -0.576, 3.422  :     0.05, -2.6\n",
            "    8.597, 4.432  :       8.916, 4.061  :     0.32,-0.37\n",
            "    6.095,-6.724  :       6.304,-5.400  :     0.21,  1.3\n",
            "   -1.010,-7.384  :      -0.998,-3.493  :     0.01,  3.9\n",
            "    0.854, 3.134  :       0.826, 2.235  :    -0.03, -0.9\n",
            "   -0.210,-6.638  :      -0.143,-0.604  :     0.07,  6.0\n",
            "   -5.900, 0.230  :      -6.165, 0.647  :    -0.27, 0.42\n",
            "    7.205, 4.895  :       7.489, 3.980  :     0.28,-0.92\n",
            "    2.106, 4.725  :       2.136, 3.876  :     0.03,-0.85\n",
            "   -3.307,-2.208  :      -3.476,-2.461  :    -0.17,-0.25\n"
          ],
          "name": "stdout"
        }
      ]
    },
    {
      "cell_type": "code",
      "metadata": {
        "id": "HVZ-LKlGvaFK"
      },
      "source": [
        ""
      ],
      "execution_count": 14,
      "outputs": []
    }
  ]
}