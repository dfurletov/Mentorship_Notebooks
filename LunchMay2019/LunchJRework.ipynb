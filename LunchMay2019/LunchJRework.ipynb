{
  "nbformat": 4,
  "nbformat_minor": 0,
  "metadata": {
    "colab": {
      "name": "LunchJRework.ipynb",
      "provenance": [],
      "collapsed_sections": []
    },
    "kernelspec": {
      "name": "python3",
      "display_name": "Python 3"
    },
    "accelerator": "GPU"
  },
  "cells": [
    {
      "cell_type": "code",
      "metadata": {
        "id": "nYbWve1JtM3G",
        "outputId": "e751cd79-5d0d-4927-8200-cf53fe02bd63",
        "colab": {
          "base_uri": "https://localhost:8080/",
          "height": 410
        }
      },
      "source": [
        "! wget https://halldweb.jlab.org/talks/ML_lunch/May2019/TRAIN/images.raw.gz\n",
        "! wget https://halldweb.jlab.org/talks/ML_lunch/May2019/TRAIN/track_parms.csv"
      ],
      "execution_count": null,
      "outputs": [
        {
          "output_type": "stream",
          "text": [
            "--2020-10-01 13:44:16--  https://halldweb.jlab.org/talks/ML_lunch/May2019/TRAIN/images.raw.gz\n",
            "Resolving halldweb.jlab.org (halldweb.jlab.org)... 129.57.64.128\n",
            "Connecting to halldweb.jlab.org (halldweb.jlab.org)|129.57.64.128|:443... connected.\n",
            "HTTP request sent, awaiting response... 200 OK\n",
            "Length: 31813265 (30M) [application/x-gzip]\n",
            "Saving to: ‘images.raw.gz’\n",
            "\n",
            "images.raw.gz       100%[===================>]  30.34M  7.39MB/s    in 4.1s    \n",
            "\n",
            "2020-10-01 13:44:24 (7.39 MB/s) - ‘images.raw.gz’ saved [31813265/31813265]\n",
            "\n",
            "--2020-10-01 13:44:24--  https://halldweb.jlab.org/talks/ML_lunch/May2019/TRAIN/track_parms.csv\n",
            "Resolving halldweb.jlab.org (halldweb.jlab.org)... 129.57.64.128\n",
            "Connecting to halldweb.jlab.org (halldweb.jlab.org)|129.57.64.128|:443... connected.\n",
            "HTTP request sent, awaiting response... 200 OK\n",
            "Length: 38940211 (37M) [text/csv]\n",
            "Saving to: ‘track_parms.csv’\n",
            "\n",
            "track_parms.csv     100%[===================>]  37.14M  8.76MB/s    in 4.7s    \n",
            "\n",
            "2020-10-01 13:44:30 (7.88 MB/s) - ‘track_parms.csv’ saved [38940211/38940211]\n",
            "\n"
          ],
          "name": "stdout"
        }
      ]
    },
    {
      "cell_type": "code",
      "metadata": {
        "id": "KyDg5cm5tSXq"
      },
      "source": [
        "import os\n",
        "import sys\n",
        "import gzip\n",
        "import pandas as pd\n",
        "import numpy as np\n",
        "import math\n",
        "\n",
        "width  = 36\n",
        "height = 100\n",
        "\n",
        "# Open labels files so we can get number of samples and pass the\n",
        "# data frames to the generators later\n",
        "traindf = pd.read_csv('track_parms.csv')\n",
        "STEP_SIZE_TRAIN = len(traindf)/32\n",
        "\n",
        "#-----------------------------------------------------\n",
        "# generate_arrays_from_file\n",
        "#-----------------------------------------------------\n",
        "# Create generator to read in images and labels\n",
        "# (used for both training and validation samples)\n",
        "def generate_arrays_from_file( labelsdf ):\n",
        "\n",
        "\timages_path = './images.raw.gz'\n",
        "\tprint( 'generator created for: ' + images_path)\n",
        "\n",
        "\tbatch_input           = []\n",
        "\tbatch_labels_phi      = []\n",
        "\tbatch_labels_z        = []\n",
        "\tidx = 0\n",
        "\tibatch = 0\n",
        "\twhile True:  # loop forever, re-reading images from same file\n",
        "\t\twith gzip.open(images_path) as f:\n",
        "\t\t\twhile True: # loop over images in file\n",
        "\t\t\t\n",
        "\t\t\t\t# Read in one image\n",
        "\t\t\t\tbytes = f.read(width*height)\n",
        "\t\t\t\tif len(bytes) != (width*height): break # break into outer loop so we can re-open file\n",
        "\t\t\t\tdata = np.frombuffer(bytes, dtype='B', count=width*height)\n",
        "\t\t\t\tpixels = np.reshape(data, [width, height, 1], order='F')\n",
        "\t\t\t\tpixels_norm = np.transpose(pixels.astype(np.float) / 255., axes=(1, 0, 2) )\n",
        "\t\t\t\t\n",
        "\t\t\t\t# Labels\n",
        "\t\t\t\tphi = labelsdf.phi[idx]\n",
        "\t\t\t\tz   = labelsdf.z[idx]\n",
        "\t\t\t\tidx += 1\n",
        "\n",
        "\t\t\t\t# Add to batch and check if it is time to yield\n",
        "\t\t\t\tbatch_input.append( pixels_norm )\n",
        "\t\t\t\tbatch_labels_phi.append( phi )\n",
        "\t\t\t\tbatch_labels_z.append( z )\n",
        "\t\t\t\tif len(batch_input) == 32 :\n",
        "\t\t\t\t\tibatch += 1\n",
        "\t\t\t\t\t\n",
        "\t\t\t\t\t# Since we are training multiple loss functions we must\n",
        "\t\t\t\t\t# pass the labels back as a dictionary whose keys match\n",
        "\t\t\t\t\t# the layer their corresponding values are being applied to.\n",
        "\t\t\t\t\tlabels_dict = {\n",
        "\t\t\t\t\t\t'phi_output' :  np.array(batch_labels_phi ),\n",
        "\t\t\t\t\t\t'z_output'   :  np.array(batch_labels_z   ),\t\t\n",
        "\t\t\t\t\t}\n",
        "\t\t\t\t\t\n",
        "\t\t\t\t\tyield ( np.array(batch_input), labels_dict )\n",
        "\t\t\t\t\tbatch_input      = []\n",
        "\t\t\t\t\tbatch_labels_phi = []\n",
        "\t\t\t\t\tbatch_labels_z   = []\n",
        "\n",
        "\t\t\tidx = 0\n",
        "\t\t\tf.close()\n",
        "\n",
        "\n",
        "#===============================================================================\n",
        "# Create training generator"
      ],
      "execution_count": null,
      "outputs": []
    },
    {
      "cell_type": "code",
      "metadata": {
        "id": "SnDR39_8tYbd"
      },
      "source": [
        "import requests\n",
        "import gzip\n",
        "import numpy as np\n",
        "import pandas as pd\n",
        "from matplotlib import pyplot as plt\n",
        "from tensorflow import keras"
      ],
      "execution_count": null,
      "outputs": []
    },
    {
      "cell_type": "code",
      "metadata": {
        "id": "5ArjHl6htd5T",
        "outputId": "9d6a1a8b-cf67-48e0-a449-49444d4c8665",
        "colab": {
          "base_uri": "https://localhost:8080/",
          "height": 839
        }
      },
      "source": [
        "def buildBranch(input,str1):\n",
        "  x = keras.layers.Conv2D(32,(3,3),activation='relu')(input)\n",
        "  x = keras.layers.BatchNormalization()(x)\n",
        "  x = keras.layers.MaxPool2D()(x)\n",
        "\n",
        "  x = keras.layers.Conv2D(32,(3,3),activation='relu')(x)\n",
        "  x = keras.layers.BatchNormalization()(x)\n",
        "  x = keras.layers.MaxPool2D()(x)\n",
        "  \n",
        "  x = keras.layers.Dropout(0.25)(x)\n",
        "  x = keras.layers.Flatten()(x)\n",
        "  x = keras.layers.Dense(1,activation=\"linear\",name=str1)(x)\n",
        "  return x\n",
        "\n",
        "inputs = keras.Input(shape=(100, 36, 1))\n",
        "branch_z = buildBranch(inputs,\"z_output\")\n",
        "branch_phi = buildBranch(inputs,\"phi_output\")\n",
        "model = keras.Model(inputs=inputs, outputs={\"z_output\":branch_z, \"phi_output\":branch_phi}, name=\"detector\")\n",
        "losses = {\n",
        "    \"z\":\"mse\",\n",
        "    \"phi\":\"mse\"\n",
        "}\n",
        "lossWeights = 1.0\n",
        "opt = \"adam\"\n",
        "model.compile(optimizer=opt, loss=losses, loss_weights=lossWeights, metrics=[\"mae\"])\n",
        "model.summary()"
      ],
      "execution_count": null,
      "outputs": [
        {
          "output_type": "stream",
          "text": [
            "Model: \"detector\"\n",
            "__________________________________________________________________________________________________\n",
            "Layer (type)                    Output Shape         Param #     Connected to                     \n",
            "==================================================================================================\n",
            "input_1 (InputLayer)            [(None, 100, 36, 1)] 0                                            \n",
            "__________________________________________________________________________________________________\n",
            "conv2d_2 (Conv2D)               (None, 98, 34, 32)   320         input_1[0][0]                    \n",
            "__________________________________________________________________________________________________\n",
            "conv2d (Conv2D)                 (None, 98, 34, 32)   320         input_1[0][0]                    \n",
            "__________________________________________________________________________________________________\n",
            "batch_normalization_2 (BatchNor (None, 98, 34, 32)   128         conv2d_2[0][0]                   \n",
            "__________________________________________________________________________________________________\n",
            "batch_normalization (BatchNorma (None, 98, 34, 32)   128         conv2d[0][0]                     \n",
            "__________________________________________________________________________________________________\n",
            "max_pooling2d_2 (MaxPooling2D)  (None, 49, 17, 32)   0           batch_normalization_2[0][0]      \n",
            "__________________________________________________________________________________________________\n",
            "max_pooling2d (MaxPooling2D)    (None, 49, 17, 32)   0           batch_normalization[0][0]        \n",
            "__________________________________________________________________________________________________\n",
            "conv2d_3 (Conv2D)               (None, 47, 15, 32)   9248        max_pooling2d_2[0][0]            \n",
            "__________________________________________________________________________________________________\n",
            "conv2d_1 (Conv2D)               (None, 47, 15, 32)   9248        max_pooling2d[0][0]              \n",
            "__________________________________________________________________________________________________\n",
            "batch_normalization_3 (BatchNor (None, 47, 15, 32)   128         conv2d_3[0][0]                   \n",
            "__________________________________________________________________________________________________\n",
            "batch_normalization_1 (BatchNor (None, 47, 15, 32)   128         conv2d_1[0][0]                   \n",
            "__________________________________________________________________________________________________\n",
            "max_pooling2d_3 (MaxPooling2D)  (None, 23, 7, 32)    0           batch_normalization_3[0][0]      \n",
            "__________________________________________________________________________________________________\n",
            "max_pooling2d_1 (MaxPooling2D)  (None, 23, 7, 32)    0           batch_normalization_1[0][0]      \n",
            "__________________________________________________________________________________________________\n",
            "dropout_1 (Dropout)             (None, 23, 7, 32)    0           max_pooling2d_3[0][0]            \n",
            "__________________________________________________________________________________________________\n",
            "dropout (Dropout)               (None, 23, 7, 32)    0           max_pooling2d_1[0][0]            \n",
            "__________________________________________________________________________________________________\n",
            "flatten_1 (Flatten)             (None, 5152)         0           dropout_1[0][0]                  \n",
            "__________________________________________________________________________________________________\n",
            "flatten (Flatten)               (None, 5152)         0           dropout[0][0]                    \n",
            "__________________________________________________________________________________________________\n",
            "phi_output (Dense)              (None, 1)            5153        flatten_1[0][0]                  \n",
            "__________________________________________________________________________________________________\n",
            "z_output (Dense)                (None, 1)            5153        flatten[0][0]                    \n",
            "==================================================================================================\n",
            "Total params: 29,954\n",
            "Trainable params: 29,698\n",
            "Non-trainable params: 256\n",
            "__________________________________________________________________________________________________\n"
          ],
          "name": "stdout"
        }
      ]
    },
    {
      "cell_type": "code",
      "metadata": {
        "id": "BrOJbD70t4ab"
      },
      "source": [
        "train_generator = generate_arrays_from_file(traindf)"
      ],
      "execution_count": null,
      "outputs": []
    },
    {
      "cell_type": "code",
      "metadata": {
        "id": "0tw-j8FhtfRg",
        "outputId": "defc5b00-4a0d-4dbf-f798-c0a1bde6c813",
        "colab": {
          "base_uri": "https://localhost:8080/",
          "height": 1000
        }
      },
      "source": [
        "H = model.fit_generator(generator=train_generator,\n",
        "                        steps_per_epoch=200,\n",
        "                        epochs=25,\n",
        "                        use_multiprocessing=False\n",
        ")\n",
        "model.save(\"model.keras\",save_format=\"h5\")"
      ],
      "execution_count": null,
      "outputs": [
        {
          "output_type": "stream",
          "text": [
            "WARNING:tensorflow:From <ipython-input-7-eae3bc784a82>:4: Model.fit_generator (from tensorflow.python.keras.engine.training) is deprecated and will be removed in a future version.\n",
            "Instructions for updating:\n",
            "Please use Model.fit, which supports generators.\n",
            "generator created for: ./images.raw.gz\n",
            "Epoch 1/25\n",
            "WARNING:tensorflow:Gradients do not exist for variables ['conv2d/kernel:0', 'conv2d/bias:0', 'batch_normalization/gamma:0', 'batch_normalization/beta:0', 'conv2d_1/kernel:0', 'conv2d_1/bias:0', 'batch_normalization_1/gamma:0', 'batch_normalization_1/beta:0', 'z_output/kernel:0', 'z_output/bias:0'] when minimizing the loss.\n",
            "WARNING:tensorflow:Gradients do not exist for variables ['conv2d/kernel:0', 'conv2d/bias:0', 'batch_normalization/gamma:0', 'batch_normalization/beta:0', 'conv2d_1/kernel:0', 'conv2d_1/bias:0', 'batch_normalization_1/gamma:0', 'batch_normalization_1/beta:0', 'z_output/kernel:0', 'z_output/bias:0'] when minimizing the loss.\n",
            "WARNING:tensorflow:Gradients do not exist for variables ['conv2d/kernel:0', 'conv2d/bias:0', 'batch_normalization/gamma:0', 'batch_normalization/beta:0', 'conv2d_1/kernel:0', 'conv2d_1/bias:0', 'batch_normalization_1/gamma:0', 'batch_normalization_1/beta:0', 'z_output/kernel:0', 'z_output/bias:0'] when minimizing the loss.\n",
            "WARNING:tensorflow:Gradients do not exist for variables ['conv2d/kernel:0', 'conv2d/bias:0', 'batch_normalization/gamma:0', 'batch_normalization/beta:0', 'conv2d_1/kernel:0', 'conv2d_1/bias:0', 'batch_normalization_1/gamma:0', 'batch_normalization_1/beta:0', 'z_output/kernel:0', 'z_output/bias:0'] when minimizing the loss.\n",
            "200/200 [==============================] - 1s 7ms/step - loss: 2.6008 - phi_output_loss: 2.6008 - phi_output_mae: 1.2019 - z_output_mae: 4.5055\n",
            "Epoch 2/25\n",
            "200/200 [==============================] - 1s 7ms/step - loss: 0.8823 - phi_output_loss: 0.8823 - phi_output_mae: 0.7391 - z_output_mae: 4.4270\n",
            "Epoch 3/25\n",
            "200/200 [==============================] - 1s 7ms/step - loss: 0.5227 - phi_output_loss: 0.5227 - phi_output_mae: 0.5687 - z_output_mae: 4.4487\n",
            "Epoch 4/25\n",
            "200/200 [==============================] - 1s 7ms/step - loss: 0.3494 - phi_output_loss: 0.3494 - phi_output_mae: 0.4634 - z_output_mae: 4.4827\n",
            "Epoch 5/25\n",
            "200/200 [==============================] - 1s 7ms/step - loss: 0.2592 - phi_output_loss: 0.2592 - phi_output_mae: 0.3980 - z_output_mae: 4.4500\n",
            "Epoch 6/25\n",
            "200/200 [==============================] - 1s 7ms/step - loss: 0.1806 - phi_output_loss: 0.1806 - phi_output_mae: 0.3310 - z_output_mae: 4.4252\n",
            "Epoch 7/25\n",
            "200/200 [==============================] - 1s 7ms/step - loss: 0.1562 - phi_output_loss: 0.1562 - phi_output_mae: 0.3089 - z_output_mae: 4.4307\n",
            "Epoch 8/25\n",
            "200/200 [==============================] - 1s 7ms/step - loss: 0.1407 - phi_output_loss: 0.1407 - phi_output_mae: 0.2932 - z_output_mae: 4.5113\n",
            "Epoch 9/25\n",
            "200/200 [==============================] - 1s 7ms/step - loss: 0.1408 - phi_output_loss: 0.1408 - phi_output_mae: 0.2942 - z_output_mae: 4.4174\n",
            "Epoch 10/25\n",
            "200/200 [==============================] - 1s 7ms/step - loss: 0.1134 - phi_output_loss: 0.1134 - phi_output_mae: 0.2649 - z_output_mae: 4.5556\n",
            "Epoch 11/25\n",
            "200/200 [==============================] - 1s 7ms/step - loss: 0.1103 - phi_output_loss: 0.1103 - phi_output_mae: 0.2625 - z_output_mae: 4.5126\n",
            "Epoch 12/25\n",
            "200/200 [==============================] - 1s 7ms/step - loss: 0.1498 - phi_output_loss: 0.1498 - phi_output_mae: 0.3046 - z_output_mae: 4.4172\n",
            "Epoch 13/25\n",
            "200/200 [==============================] - 1s 7ms/step - loss: 0.1108 - phi_output_loss: 0.1108 - phi_output_mae: 0.2632 - z_output_mae: 4.4228\n",
            "Epoch 14/25\n",
            "200/200 [==============================] - 1s 7ms/step - loss: 0.1209 - phi_output_loss: 0.1209 - phi_output_mae: 0.2727 - z_output_mae: 4.4302\n",
            "Epoch 15/25\n",
            "200/200 [==============================] - 1s 7ms/step - loss: 0.1326 - phi_output_loss: 0.1326 - phi_output_mae: 0.2855 - z_output_mae: 4.4525\n",
            "Epoch 16/25\n",
            "200/200 [==============================] - 1s 7ms/step - loss: 0.1198 - phi_output_loss: 0.1198 - phi_output_mae: 0.2710 - z_output_mae: 4.5162\n",
            "Epoch 17/25\n",
            "200/200 [==============================] - 1s 7ms/step - loss: 0.1206 - phi_output_loss: 0.1206 - phi_output_mae: 0.2723 - z_output_mae: 4.4021\n",
            "Epoch 18/25\n",
            "200/200 [==============================] - 1s 7ms/step - loss: 0.1339 - phi_output_loss: 0.1339 - phi_output_mae: 0.2880 - z_output_mae: 4.4521\n",
            "Epoch 19/25\n",
            "200/200 [==============================] - 1s 7ms/step - loss: 0.1208 - phi_output_loss: 0.1208 - phi_output_mae: 0.2735 - z_output_mae: 4.4723\n",
            "Epoch 20/25\n",
            "200/200 [==============================] - 1s 7ms/step - loss: 0.1287 - phi_output_loss: 0.1287 - phi_output_mae: 0.2811 - z_output_mae: 4.5186\n",
            "Epoch 21/25\n",
            "200/200 [==============================] - 1s 7ms/step - loss: 0.1009 - phi_output_loss: 0.1009 - phi_output_mae: 0.2513 - z_output_mae: 4.3949\n",
            "Epoch 22/25\n",
            "200/200 [==============================] - 1s 7ms/step - loss: 0.1130 - phi_output_loss: 0.1130 - phi_output_mae: 0.2620 - z_output_mae: 4.4622\n",
            "Epoch 23/25\n",
            "200/200 [==============================] - 1s 7ms/step - loss: 0.1198 - phi_output_loss: 0.1198 - phi_output_mae: 0.2688 - z_output_mae: 4.4354\n",
            "Epoch 24/25\n",
            "200/200 [==============================] - 1s 7ms/step - loss: 0.0968 - phi_output_loss: 0.0968 - phi_output_mae: 0.2452 - z_output_mae: 4.4886\n",
            "Epoch 25/25\n",
            "200/200 [==============================] - 1s 7ms/step - loss: 0.0903 - phi_output_loss: 0.0903 - phi_output_mae: 0.2356 - z_output_mae: 4.3848\n"
          ],
          "name": "stdout"
        }
      ]
    },
    {
      "cell_type": "code",
      "metadata": {
        "id": "_43-Bxa4th9G",
        "outputId": "8ac463e4-e387-4865-9333-ebb3734c08bb",
        "colab": {
          "base_uri": "https://localhost:8080/",
          "height": 591
        }
      },
      "source": [
        "print(H.history.keys())\n",
        "try:\n",
        "  plt.plot(H.history['loss'])\n",
        "  plt.plot(H.history['phi_output_loss'])\n",
        "  plt.title('model')\n",
        "  plt.ylabel('loss')\n",
        "  plt.xlabel('epoch')\n",
        "  plt.legend(['z','phi'],loc='upper left')\n",
        "  plt.show()\n",
        "  plt.plot(H.history['z_output_mae'])\n",
        "  plt.plot(H.history['phi_output_mae'])\n",
        "  plt.title('model')\n",
        "  plt.ylabel('mae')\n",
        "  plt.xlabel('epoch')\n",
        "  plt.legend(['z','phi'],loc='upper left')\n",
        "  plt.show()\n",
        "except e:\n",
        "  print(\"error:\")\n",
        "  print(e)"
      ],
      "execution_count": null,
      "outputs": [
        {
          "output_type": "stream",
          "text": [
            "dict_keys(['loss', 'phi_output_loss', 'phi_output_mae', 'z_output_mae'])\n"
          ],
          "name": "stdout"
        },
        {
          "output_type": "display_data",
          "data": {
            "image/png": "[encoded data removed]",
            "text/plain": [
              "<Figure size 432x288 with 1 Axes>"
            ]
          },
          "metadata": {
            "tags": [],
            "needs_background": "light"
          }
        },
        {
          "output_type": "display_data",
          "data": {
            "image/png": "[encoded data removed]",
            "text/plain": [
              "<Figure size 432x288 with 1 Axes>"
            ]
          },
          "metadata": {
            "tags": [],
            "needs_background": "light"
          }
        }
      ]
    },
    {
      "cell_type": "markdown",
      "metadata": {
        "id": "toTDgmRveRz1"
      },
      "source": [
        "### Seems like it doesn't learn well for the z value...\n",
        "\n"
      ]
    },
    {
      "cell_type": "code",
      "metadata": {
        "id": "WwwH8st7tyUl",
        "outputId": "a464677f-a38a-484e-aca0-23fe6d405309",
        "colab": {
          "base_uri": "https://localhost:8080/",
          "height": 1000
        }
      },
      "source": [
        "test_generator = generate_arrays_from_file(traindf)\n",
        "\n",
        "ev = model.evaluate(test_generator,steps=100,batch_size=32)\n",
        "\n",
        "test = next(test_generator)\n",
        "test = np.array(test)\n",
        "test_x = test[0]\n",
        "test_y = test[1]\n",
        "print(test_x.shape)\n",
        "print(test_y)\n",
        "\n",
        "plt.imshow(np.squeeze(test_x[0]))\n",
        "plt.show()\n",
        "\n",
        "pred = model.predict(x=test_x,verbose=1)\n",
        "for i in range(25):\n",
        "  print(pred[\"phi_output\"][i],\" : \",np.reshape(test_y[\"phi_output\"],[32,1])[i],\" : \",pred[\"phi_output\"][i]-np.reshape(test_y[\"phi_output\"],[32,1])[i])\n",
        "for i in range(25):\n",
        "  print(pred[\"z_output\"][i],\" : \",np.reshape(test_y[\"z_output\"],[32,1])[i],\" : \",pred[\"z_output\"][i]-np.reshape(test_y[\"z_output\"],[32,1])[i])\n",
        "\n",
        "print(pred[\"phi_output\"].shape,\" : \",np.reshape(test_y[\"phi_output\"],[32,1]).shape)\n"
      ],
      "execution_count": null,
      "outputs": [
        {
          "output_type": "stream",
          "text": [
            "generator created for: ./images.raw.gz\n",
            "100/100 [==============================] - 1s 6ms/step - loss: 0.0845 - phi_output_loss: 0.0845 - phi_output_mae: 0.2333 - z_output_mae: 4.3927\n",
            "(32, 100, 36, 1)\n",
            "{'phi_output': array([ 2.01213779, -4.39434358, -1.19735912,  3.00760576, -5.85278725,\n",
            "        6.46863751, -3.60917171,  2.37215453,  6.83380298, -9.54461488,\n",
            "       -9.32296813, -0.70031347, -3.67992828, -5.7734495 ,  1.65462479,\n",
            "        7.9345067 ,  2.94476379, -9.39887459, -2.54422206,  9.49064753,\n",
            "       -0.93451917, -4.84790649,  6.67486713,  7.54354584,  0.90785022,\n",
            "        5.55145817, -3.79873593, -7.16952992,  2.45861179,  4.85348222,\n",
            "       -2.57945959, -5.82820785]), 'z_output': array([ 3.19583565,  0.70618132, -7.19851558,  6.21130989,  5.21913547,\n",
            "       -3.45651178, -0.11615041,  2.95434614, -1.52207262, -5.36276174,\n",
            "       -3.65968532, -0.12459283, -2.3465705 ,  6.82702275,  1.84031584,\n",
            "        4.11370385,  4.24321601,  3.47043357,  6.7092321 , -5.08201092,\n",
            "        6.9085916 , -2.39167621,  5.35371938,  3.68034547,  6.39239284,\n",
            "        5.69764138,  3.70170609, -6.00974145,  0.71583358, -4.68701612,\n",
            "        7.08133589,  4.75872837])}\n"
          ],
          "name": "stdout"
        },
        {
          "output_type": "display_data",
          "data": {
            "image/png": "[encoded data removed]",
            "text/plain": [
              "<Figure size 432x288 with 1 Axes>"
            ]
          },
          "metadata": {
            "tags": [],
            "needs_background": "light"
          }
        },
        {
          "output_type": "stream",
          "text": [
            "1/1 [==============================] - 0s 5ms/step\n",
            "[1.8577756]  :  [2.01213779]  :  [-0.15436222]\n",
            "[-3.859254]  :  [-4.39434358]  :  [0.5350897]\n",
            "[-1.0647193]  :  [-1.19735912]  :  [0.1326398]\n",
            "[2.8391538]  :  [3.00760576]  :  [-0.16845199]\n",
            "[-5.305758]  :  [-5.85278725]  :  [0.54702925]\n",
            "[6.36619]  :  [6.46863751]  :  [-0.10244755]\n",
            "[-3.316372]  :  [-3.60917171]  :  [0.29279979]\n",
            "[2.455346]  :  [2.37215453]  :  [0.08319158]\n",
            "[6.842071]  :  [6.83380298]  :  [0.00826808]\n",
            "[-9.366061]  :  [-9.54461488]  :  [0.17855367]\n",
            "[-9.323065]  :  [-9.32296813]  :  [-9.66740771e-05]\n",
            "[-0.4357373]  :  [-0.70031347]  :  [0.26457616]\n",
            "[-3.2731485]  :  [-3.67992828]  :  [0.40677974]\n",
            "[-5.1116076]  :  [-5.7734495]  :  [0.66184195]\n",
            "[1.5957298]  :  [1.65462479]  :  [-0.05889496]\n",
            "[7.8388567]  :  [7.9345067]  :  [-0.09565]\n",
            "[2.9210835]  :  [2.94476379]  :  [-0.02368034]\n",
            "[-9.175933]  :  [-9.39887459]  :  [0.22294171]\n",
            "[-2.1405897]  :  [-2.54422206]  :  [0.40363235]\n",
            "[9.680544]  :  [9.49064753]  :  [0.18989637]\n",
            "[-0.7629736]  :  [-0.93451917]  :  [0.17154556]\n",
            "[-4.3259783]  :  [-4.84790649]  :  [0.52192821]\n",
            "[6.5359797]  :  [6.67486713]  :  [-0.13888738]\n",
            "[7.2231283]  :  [7.54354584]  :  [-0.32041752]\n",
            "[0.87383366]  :  [0.90785022]  :  [-0.03401656]\n",
            "[-0.8235596]  :  [3.19583565]  :  [-4.01939523]\n",
            "[-5.1308675]  :  [0.70618132]  :  [-5.8370488]\n",
            "[-0.41015097]  :  [-7.19851558]  :  [6.78836461]\n",
            "[-1.7724745]  :  [6.21130989]  :  [-7.98378442]\n",
            "[-2.0685415]  :  [5.21913547]  :  [-7.287677]\n",
            "[2.2551157]  :  [-3.45651178]  :  [5.71162753]\n",
            "[0.6140807]  :  [-0.11615041]  :  [0.73023114]\n",
            "[-3.0026]  :  [2.95434614]  :  [-5.95694609]\n",
            "[2.2168093]  :  [-1.52207262]  :  [3.73888189]\n",
            "[0.07686166]  :  [-5.36276174]  :  [5.4396234]\n",
            "[4.2540526]  :  [-3.65968532]  :  [7.91373796]\n",
            "[-0.4742031]  :  [-0.12459283]  :  [-0.34961028]\n",
            "[1.2143168]  :  [-2.3465705]  :  [3.56088734]\n",
            "[-2.3652725]  :  [6.82702275]  :  [-9.19229527]\n",
            "[-3.552749]  :  [1.84031584]  :  [-5.39306476]\n",
            "[4.808787]  :  [4.11370385]  :  [0.69508302]\n",
            "[-2.040098]  :  [4.24321601]  :  [-6.28331396]\n",
            "[4.7609186]  :  [3.47043357]  :  [1.29048505]\n",
            "[-0.8806732]  :  [6.7092321]  :  [-7.58990533]\n",
            "[3.39325]  :  [-5.08201092]  :  [8.47526091]\n",
            "[-0.21807909]  :  [6.9085916]  :  [-7.12667069]\n",
            "[-0.40923235]  :  [-2.39167621]  :  [1.98244386]\n",
            "[2.9872644]  :  [5.35371938]  :  [-2.36645499]\n",
            "[2.4397523]  :  [3.68034547]  :  [-1.24059313]\n",
            "[-3.5692656]  :  [6.39239284]  :  [-9.96165844]\n",
            "(32, 1)  :  (32, 1)\n"
          ],
          "name": "stdout"
        }
      ]
    },
    {
      "cell_type": "code",
      "metadata": {
        "id": "EfRlc0rbudiA"
      },
      "source": [
        ""
      ],
      "execution_count": null,
      "outputs": []
    }
  ]
}