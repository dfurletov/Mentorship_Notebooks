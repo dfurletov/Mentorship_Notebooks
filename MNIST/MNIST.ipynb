{
  "nbformat": 4,
  "nbformat_minor": 0,
  "metadata": {
    "colab": {
      "name": "MNIST.ipynb",
      "provenance": [],
      "collapsed_sections": [],
      "toc_visible": true
    },
    "kernelspec": {
      "name": "python3",
      "display_name": "Python 3"
    },
    "accelerator": "GPU"
  },
  "cells": [
    {
      "cell_type": "markdown",
      "metadata": {
        "id": "PG9CWTs7Vdjg",
        "colab_type": "text"
      },
      "source": [
        "# Reading Numbers Using Keras and their training data\n",
        "### Imports for keras and others:\n",
        "### Read data for training and testing from keras dataset:\n",
        "### Run very bottom block once to get images and colors"
      ]
    },
    {
      "cell_type": "code",
      "metadata": {
        "id": "jIxZZzELVIF7",
        "colab_type": "code",
        "colab": {}
      },
      "source": [
        "import tensorflow as tf\n",
        "import numpy as np\n",
        "import time\n",
        "from tensorflow import keras\n",
        "import os\n",
        "import resource\n",
        "def getMemUse():\n",
        "    return \" mem use: {:.5f}MB \".format(resource.getrusage(resource.RUSAGE_SELF).ru_maxrss*0.000001)\n",
        "\n",
        "from tensorflow.keras.models import Sequential\n",
        "from tensorflow.keras.layers import Input, Dense, Flatten\n",
        "from tensorflow.keras.layers import Dropout, Activation, Conv2D, MaxPooling2D\n",
        "\n",
        "from matplotlib import pyplot as plt\n",
        "from IPython.display import clear_output\n",
        "import random\n",
        "\n",
        "red_mask = (0.9,0.2,0.2)\n",
        "green_mask = (0.2,0.9,0.2)\n",
        "blue_mask = (0.2,0.2,0.9)\n",
        "colors = {0:red_mask, 1:blue_mask, 2:green_mask}\n",
        "colls = {0:\"red\", 1:\"blue\", 2:\"green\"}\n"
      ],
      "execution_count": 1,
      "outputs": []
    },
    {
      "cell_type": "markdown",
      "metadata": {
        "id": "fe1wf4JxVnFq",
        "colab_type": "text"
      },
      "source": [
        "### Normalize inputs from 0-255 to 0-1 as a float point:\n",
        "### Change correct outputs to a 10 size categorical numpy array"
      ]
    },
    {
      "cell_type": "code",
      "metadata": {
        "id": "UZhtJFqbVo1c",
        "colab_type": "code",
        "colab": {
          "base_uri": "https://localhost:8080/",
          "height": 160
        },
        "outputId": "c950cef7-f844-4c87-dae5-03b6aad0f370"
      },
      "source": [
        "# normalization by dividing by 255 seems to work well\n",
        "# X_train = keras.utils.normalize(X_train, axis=1)\n",
        "# X_test = keras.utils.normalize(X_test, axis=1)\n",
        "\n",
        "# datagen = keras.preprocessing.image.ImageDataGenerator(rescale=1./255)\n",
        "# train_it = datagen.flow_from_directory('images/train/', class_mode='categorical', target_size=(28,28), batch_size=64)\n",
        "# test_it = datagen.flow_from_directory('images/test/', class_mode='categorical', target_size=(28,28), batch_size=64)\n",
        "\n",
        "X_train = np.zeros([60000,28,28,3])\n",
        "X_test = np.zeros([10000,28,28,3])\n",
        "\n",
        "Y_train = np.zeros([60000,10])\n",
        "Y_test = np.zeros([10000,10])\n",
        "\n",
        "Y_train_color = np.zeros([60000,3])\n",
        "Y_test_color = np.zeros([10000,3])\n",
        "for i in range(len(X_train)):\n",
        "    name = \"images/train/image{:05d}.npy\".format(i)\n",
        "    data = np.load(name, allow_pickle=True)\n",
        "    X_train[i] = data[0]\n",
        "    Y_train[i] = data[1]\n",
        "    Y_train_color[i] = data[2]\n",
        "    if i % 1000 == 0:\n",
        "        print(\"\\rreading training data: {:3.2f}% {} \".format((i/len(X_train))*100,getMemUse()), end='')\n",
        "print(\"\\rreading training data: 100% {} \".format(getMemUse()))\n",
        "for i in range(len(X_test)):\n",
        "    name = \"images/test/image{:05d}.npy\".format(i)\n",
        "    data = np.load(name, allow_pickle=True)\n",
        "    X_test[i] = data[0]\n",
        "    Y_test[i] = data[1]\n",
        "    Y_test_color[i] = data[2]\n",
        "    if i % 1000 == 0:\n",
        "        print(\"\\rreading testing data: {:3.2f}% {} \".format((i/len(X_test))*100,getMemUse()), end='')\n",
        "print(\"\\rreading testing data: 100% {} \".format(getMemUse()))\n",
        "    \n",
        "print(X_train.shape)\n",
        "print(X_test.shape)\n",
        "\n",
        "print(Y_train.shape)\n",
        "print(Y_test.shape)\n",
        "\n",
        "print(Y_train_color.shape)\n",
        "print(Y_test_color.shape)"
      ],
      "execution_count": 19,
      "outputs": [
        {
          "output_type": "stream",
          "text": [
            "reading training data: 100%  mem use: 7.22713MB  \n",
            "reading testing data: 100%  mem use: 7.22713MB  \n",
            "(60000, 28, 28, 3)\n",
            "(10000, 28, 28, 3)\n",
            "(60000, 10)\n",
            "(10000, 10)\n",
            "(60000, 3)\n",
            "(10000, 3)\n"
          ],
          "name": "stdout"
        }
      ]
    },
    {
      "cell_type": "markdown",
      "metadata": {
        "id": "dCL-Ec4KVsqi",
        "colab_type": "text"
      },
      "source": [
        "### Create a sequential model and add neurons/nodes: choose\n",
        "- First - simple\n",
        "- Second - complex\n",
        "- Third - Differenciate color too"
      ]
    },
    {
      "cell_type": "code",
      "metadata": {
        "id": "07iAPIhIVuyy",
        "colab_type": "code",
        "colab": {}
      },
      "source": [
        "model = Sequential()\n",
        "model.add(Input(shape=(28,28,3)))\n",
        "\n",
        "model.add(Flatten());\n",
        "model.add(Dense(128, activation='relu'))\n",
        "model.add(Dense(10, activation='softmax'))\n",
        "\n",
        "model.summary()"
      ],
      "execution_count": null,
      "outputs": []
    },
    {
      "cell_type": "code",
      "metadata": {
        "id": "LpXWmLXJVw5u",
        "colab_type": "code",
        "colab": {}
      },
      "source": [
        "model = Sequential()\n",
        "model.add(Input(shape=(28,28,1)))\n",
        "\n",
        "model.add(Conv2D(32, (3, 3), activation='relu', kernel_initializer='he_uniform'))\n",
        "model.add(Conv2D(32, (3, 3), activation='relu'))\n",
        "model.add(MaxPooling2D(pool_size=(2,2)))\n",
        "model.add(Dropout(0.25))\n",
        "model.add(Flatten())\n",
        "model.add(Dense(128, activation='relu', kernel_initializer='he_uniform'))\n",
        "model.add(Dropout(0.5))\n",
        "model.add(Dense(10, activation='softmax'))\n",
        "\n",
        "model.summary()"
      ],
      "execution_count": null,
      "outputs": []
    },
    {
      "cell_type": "code",
      "metadata": {
        "id": "QDYoGXmzVyaa",
        "colab_type": "code",
        "colab": {
          "base_uri": "https://localhost:8080/",
          "height": 1000
        },
        "outputId": "b3a2a31d-860a-4c8e-cb8a-fb820564806b"
      },
      "source": [
        "# Legit no clue what this does, but it works...\n",
        "# https://www.pyimagesearch.com/2018/06/04/keras-multiple-outputs-and-multiple-losses/\n",
        "from tensorflow.keras.models import Model\n",
        "from tensorflow.keras.layers import BatchNormalization\n",
        "from tensorflow.keras.layers import Conv2D\n",
        "from tensorflow.keras.layers import MaxPooling2D\n",
        "from tensorflow.keras.layers import Activation\n",
        "from tensorflow.keras.layers import Dropout\n",
        "from tensorflow.keras.layers import Lambda\n",
        "def build_category_branch(inputs):\n",
        "    # utilize a lambda layer to convert the 3 channel input to a\n",
        "    # grayscale representation\n",
        "    x = Lambda(lambda c: tf.image.rgb_to_grayscale(c))(inputs)\n",
        "    # CONV => RELU => POOL\n",
        "    x = Conv2D(32, (3, 3), padding=\"same\",activation='relu')(x)\n",
        "    # x = Activation(\"relu\")(x)\n",
        "    x = BatchNormalization(axis=-1)(x)\n",
        "    x = MaxPooling2D(pool_size=(3, 3))(x)\n",
        "    x = Dropout(0.25)(x)\n",
        "        \n",
        "    # (CONV => RELU) * 2 => POOL\n",
        "    x = Conv2D(64, (3, 3), padding=\"same\")(x)\n",
        "    x = Activation(\"relu\")(x)\n",
        "    x = BatchNormalization(axis=-1)(x)\n",
        "    x = Conv2D(64, (3, 3), padding=\"same\")(x)\n",
        "    x = Activation(\"relu\")(x)\n",
        "    x = BatchNormalization(axis=-1)(x)\n",
        "    x = MaxPooling2D(pool_size=(2, 2))(x)\n",
        "    x = Dropout(0.25)(x)\n",
        "    # (CONV => RELU) * 2 => POOL\n",
        "    x = Conv2D(128, (3, 3), padding=\"same\")(x)\n",
        "    x = Activation(\"relu\")(x)\n",
        "    x = BatchNormalization(axis=-1)(x)\n",
        "    x = Conv2D(128, (3, 3), padding=\"same\")(x)\n",
        "    x = Activation(\"relu\")(x)\n",
        "    x = BatchNormalization(axis=-1)(x)\n",
        "    x = MaxPooling2D(pool_size=(2, 2))(x)\n",
        "    x = Dropout(0.25)(x)\n",
        "        \n",
        "    x = Flatten()(x)\n",
        "    x = Dense(256)(x)\n",
        "    x = Activation(\"relu\")(x)\n",
        "    x = BatchNormalization()(x)\n",
        "    x = Dropout(0.5)(x)\n",
        "    x = Dense(10)(x)\n",
        "    x = Activation(\"softmax\", name=\"category_output\")(x)\n",
        "    # return the category prediction sub-network\n",
        "    return x\n",
        "def build_color_branch(inputs):\n",
        "    # CONV => RELU => POOL\n",
        "    x = Conv2D(16, (3, 3), padding=\"same\")(inputs)\n",
        "    x = Activation(\"relu\")(x)\n",
        "    x = BatchNormalization(axis=-1)(x)\n",
        "    x = MaxPooling2D(pool_size=(3, 3))(x)\n",
        "    x = Dropout(0.25)(x)\n",
        "    # CONV => RELU => POOL\n",
        "    x = Conv2D(32, (3, 3), padding=\"same\")(x)\n",
        "    x = Activation(\"relu\")(x)\n",
        "    x = BatchNormalization(axis=-1)(x)\n",
        "    x = MaxPooling2D(pool_size=(2, 2))(x)\n",
        "    x = Dropout(0.25)(x)\n",
        "    # CONV => RELU => POOL\n",
        "    x = Conv2D(32, (3, 3), padding=\"same\")(x)\n",
        "    x = Activation(\"relu\")(x)\n",
        "    x = BatchNormalization(axis=-1)(x)\n",
        "    x = MaxPooling2D(pool_size=(2, 2))(x)\n",
        "    x = Dropout(0.25)(x)\n",
        "\n",
        "    x = Flatten()(x)\n",
        "    x = Dense(128)(x)\n",
        "    x = Activation(\"relu\")(x)\n",
        "    x = BatchNormalization()(x)\n",
        "    x = Dropout(0.5)(x)\n",
        "    x = Dense(3)(x)\n",
        "    x = Activation(\"softmax\", name=\"color_output\")(x)\n",
        "    # return the color prediction sub-network\n",
        "    return x\n",
        "\n",
        "inputs = Input(shape=(28, 28, 3))\n",
        "categoryBranch = build_category_branch(inputs)\n",
        "colorBranch = build_color_branch(inputs)\n",
        "model = Model(inputs=inputs, outputs=[categoryBranch, colorBranch], name=\"num-color-tegorizer\")\n",
        "losses = {\n",
        "    \"category_output\": \"categorical_crossentropy\",\n",
        "    \"color_output\": \"categorical_crossentropy\",\n",
        "}\n",
        "lossWeights = {\"category_output\": 1.0, \"color_output\": 1.0}\n",
        "opt = keras.optimizers.Adam(lr=1e-3, decay=1e-3 / 5)\n",
        "model.compile(optimizer=opt, loss=losses, loss_weights=lossWeights, metrics=[\"accuracy\"])\n",
        "model.summary()\n",
        "\n",
        "H = model.fit(x=X_train, y={\"category_output\": Y_train, \"color_output\": Y_train_color}, \n",
        "              validation_data=(X_test, {\"category_output\": Y_test, \"color_output\": Y_test_color}),\n",
        "              epochs=5, verbose=1)\n",
        "print(H)\n",
        "# save to model.keras as h5\n",
        "model.save(\"model.keras\", save_format=\"h5\")\n",
        "\n"
      ],
      "execution_count": 3,
      "outputs": [
        {
          "output_type": "stream",
          "text": [
            "Model: \"num-color-tegorizer\"\n",
            "__________________________________________________________________________________________________\n",
            "Layer (type)                    Output Shape         Param #     Connected to                     \n",
            "==================================================================================================\n",
            "input_1 (InputLayer)            [(None, 28, 28, 3)]  0                                            \n",
            "__________________________________________________________________________________________________\n",
            "lambda (Lambda)                 (None, 28, 28, 1)    0           input_1[0][0]                    \n",
            "__________________________________________________________________________________________________\n",
            "conv2d (Conv2D)                 (None, 28, 28, 32)   320         lambda[0][0]                     \n",
            "__________________________________________________________________________________________________\n",
            "batch_normalization (BatchNorma (None, 28, 28, 32)   128         conv2d[0][0]                     \n",
            "__________________________________________________________________________________________________\n",
            "max_pooling2d (MaxPooling2D)    (None, 9, 9, 32)     0           batch_normalization[0][0]        \n",
            "__________________________________________________________________________________________________\n",
            "dropout (Dropout)               (None, 9, 9, 32)     0           max_pooling2d[0][0]              \n",
            "__________________________________________________________________________________________________\n",
            "conv2d_1 (Conv2D)               (None, 9, 9, 64)     18496       dropout[0][0]                    \n",
            "__________________________________________________________________________________________________\n",
            "activation (Activation)         (None, 9, 9, 64)     0           conv2d_1[0][0]                   \n",
            "__________________________________________________________________________________________________\n",
            "conv2d_5 (Conv2D)               (None, 28, 28, 16)   448         input_1[0][0]                    \n",
            "__________________________________________________________________________________________________\n",
            "batch_normalization_1 (BatchNor (None, 9, 9, 64)     256         activation[0][0]                 \n",
            "__________________________________________________________________________________________________\n",
            "activation_5 (Activation)       (None, 28, 28, 16)   0           conv2d_5[0][0]                   \n",
            "__________________________________________________________________________________________________\n",
            "conv2d_2 (Conv2D)               (None, 9, 9, 64)     36928       batch_normalization_1[0][0]      \n",
            "__________________________________________________________________________________________________\n",
            "batch_normalization_6 (BatchNor (None, 28, 28, 16)   64          activation_5[0][0]               \n",
            "__________________________________________________________________________________________________\n",
            "activation_1 (Activation)       (None, 9, 9, 64)     0           conv2d_2[0][0]                   \n",
            "__________________________________________________________________________________________________\n",
            "max_pooling2d_3 (MaxPooling2D)  (None, 9, 9, 16)     0           batch_normalization_6[0][0]      \n",
            "__________________________________________________________________________________________________\n",
            "batch_normalization_2 (BatchNor (None, 9, 9, 64)     256         activation_1[0][0]               \n",
            "__________________________________________________________________________________________________\n",
            "dropout_4 (Dropout)             (None, 9, 9, 16)     0           max_pooling2d_3[0][0]            \n",
            "__________________________________________________________________________________________________\n",
            "max_pooling2d_1 (MaxPooling2D)  (None, 4, 4, 64)     0           batch_normalization_2[0][0]      \n",
            "__________________________________________________________________________________________________\n",
            "conv2d_6 (Conv2D)               (None, 9, 9, 32)     4640        dropout_4[0][0]                  \n",
            "__________________________________________________________________________________________________\n",
            "dropout_1 (Dropout)             (None, 4, 4, 64)     0           max_pooling2d_1[0][0]            \n",
            "__________________________________________________________________________________________________\n",
            "activation_6 (Activation)       (None, 9, 9, 32)     0           conv2d_6[0][0]                   \n",
            "__________________________________________________________________________________________________\n",
            "conv2d_3 (Conv2D)               (None, 4, 4, 128)    73856       dropout_1[0][0]                  \n",
            "__________________________________________________________________________________________________\n",
            "batch_normalization_7 (BatchNor (None, 9, 9, 32)     128         activation_6[0][0]               \n",
            "__________________________________________________________________________________________________\n",
            "activation_2 (Activation)       (None, 4, 4, 128)    0           conv2d_3[0][0]                   \n",
            "__________________________________________________________________________________________________\n",
            "max_pooling2d_4 (MaxPooling2D)  (None, 4, 4, 32)     0           batch_normalization_7[0][0]      \n",
            "__________________________________________________________________________________________________\n",
            "batch_normalization_3 (BatchNor (None, 4, 4, 128)    512         activation_2[0][0]               \n",
            "__________________________________________________________________________________________________\n",
            "dropout_5 (Dropout)             (None, 4, 4, 32)     0           max_pooling2d_4[0][0]            \n",
            "__________________________________________________________________________________________________\n",
            "conv2d_4 (Conv2D)               (None, 4, 4, 128)    147584      batch_normalization_3[0][0]      \n",
            "__________________________________________________________________________________________________\n",
            "conv2d_7 (Conv2D)               (None, 4, 4, 32)     9248        dropout_5[0][0]                  \n",
            "__________________________________________________________________________________________________\n",
            "activation_3 (Activation)       (None, 4, 4, 128)    0           conv2d_4[0][0]                   \n",
            "__________________________________________________________________________________________________\n",
            "activation_7 (Activation)       (None, 4, 4, 32)     0           conv2d_7[0][0]                   \n",
            "__________________________________________________________________________________________________\n",
            "batch_normalization_4 (BatchNor (None, 4, 4, 128)    512         activation_3[0][0]               \n",
            "__________________________________________________________________________________________________\n",
            "batch_normalization_8 (BatchNor (None, 4, 4, 32)     128         activation_7[0][0]               \n",
            "__________________________________________________________________________________________________\n",
            "max_pooling2d_2 (MaxPooling2D)  (None, 2, 2, 128)    0           batch_normalization_4[0][0]      \n",
            "__________________________________________________________________________________________________\n",
            "max_pooling2d_5 (MaxPooling2D)  (None, 2, 2, 32)     0           batch_normalization_8[0][0]      \n",
            "__________________________________________________________________________________________________\n",
            "dropout_2 (Dropout)             (None, 2, 2, 128)    0           max_pooling2d_2[0][0]            \n",
            "__________________________________________________________________________________________________\n",
            "dropout_6 (Dropout)             (None, 2, 2, 32)     0           max_pooling2d_5[0][0]            \n",
            "__________________________________________________________________________________________________\n",
            "flatten (Flatten)               (None, 512)          0           dropout_2[0][0]                  \n",
            "__________________________________________________________________________________________________\n",
            "flatten_1 (Flatten)             (None, 128)          0           dropout_6[0][0]                  \n",
            "__________________________________________________________________________________________________\n",
            "dense (Dense)                   (None, 256)          131328      flatten[0][0]                    \n",
            "__________________________________________________________________________________________________\n",
            "dense_2 (Dense)                 (None, 128)          16512       flatten_1[0][0]                  \n",
            "__________________________________________________________________________________________________\n",
            "activation_4 (Activation)       (None, 256)          0           dense[0][0]                      \n",
            "__________________________________________________________________________________________________\n",
            "activation_8 (Activation)       (None, 128)          0           dense_2[0][0]                    \n",
            "__________________________________________________________________________________________________\n",
            "batch_normalization_5 (BatchNor (None, 256)          1024        activation_4[0][0]               \n",
            "__________________________________________________________________________________________________\n",
            "batch_normalization_9 (BatchNor (None, 128)          512         activation_8[0][0]               \n",
            "__________________________________________________________________________________________________\n",
            "dropout_3 (Dropout)             (None, 256)          0           batch_normalization_5[0][0]      \n",
            "__________________________________________________________________________________________________\n",
            "dropout_7 (Dropout)             (None, 128)          0           batch_normalization_9[0][0]      \n",
            "__________________________________________________________________________________________________\n",
            "dense_1 (Dense)                 (None, 10)           2570        dropout_3[0][0]                  \n",
            "__________________________________________________________________________________________________\n",
            "dense_3 (Dense)                 (None, 3)            387         dropout_7[0][0]                  \n",
            "__________________________________________________________________________________________________\n",
            "category_output (Activation)    (None, 10)           0           dense_1[0][0]                    \n",
            "__________________________________________________________________________________________________\n",
            "color_output (Activation)       (None, 3)            0           dense_3[0][0]                    \n",
            "==================================================================================================\n",
            "Total params: 445,837\n",
            "Trainable params: 444,077\n",
            "Non-trainable params: 1,760\n",
            "__________________________________________________________________________________________________\n",
            "Epoch 1/5\n",
            "1875/1875 [==============================] - 17s 9ms/step - loss: 0.2939 - category_output_loss: 0.2793 - color_output_loss: 0.0146 - category_output_accuracy: 0.9145 - color_output_accuracy: 0.9952 - val_loss: 0.0434 - val_category_output_loss: 0.0434 - val_color_output_loss: 1.6013e-05 - val_category_output_accuracy: 0.9859 - val_color_output_accuracy: 1.0000\n",
            "Epoch 2/5\n",
            "1875/1875 [==============================] - 16s 9ms/step - loss: 0.0883 - category_output_loss: 0.0881 - color_output_loss: 2.3201e-04 - category_output_accuracy: 0.9729 - color_output_accuracy: 1.0000 - val_loss: 0.0447 - val_category_output_loss: 0.0447 - val_color_output_loss: 2.5467e-06 - val_category_output_accuracy: 0.9856 - val_color_output_accuracy: 1.0000\n",
            "Epoch 3/5\n",
            "1875/1875 [==============================] - 16s 9ms/step - loss: 0.0624 - category_output_loss: 0.0623 - color_output_loss: 9.0843e-05 - category_output_accuracy: 0.9810 - color_output_accuracy: 1.0000 - val_loss: 0.0353 - val_category_output_loss: 0.0353 - val_color_output_loss: 5.0396e-07 - val_category_output_accuracy: 0.9888 - val_color_output_accuracy: 1.0000\n",
            "Epoch 4/5\n",
            "1875/1875 [==============================] - 16s 9ms/step - loss: 0.0517 - category_output_loss: 0.0517 - color_output_loss: 3.7653e-05 - category_output_accuracy: 0.9843 - color_output_accuracy: 1.0000 - val_loss: 0.0234 - val_category_output_loss: 0.0234 - val_color_output_loss: 1.9966e-07 - val_category_output_accuracy: 0.9926 - val_color_output_accuracy: 1.0000\n",
            "Epoch 5/5\n",
            "1875/1875 [==============================] - 16s 9ms/step - loss: 0.0427 - category_output_loss: 0.0427 - color_output_loss: 2.2340e-05 - category_output_accuracy: 0.9871 - color_output_accuracy: 1.0000 - val_loss: 0.0190 - val_category_output_loss: 0.0190 - val_color_output_loss: 3.1412e-08 - val_category_output_accuracy: 0.9938 - val_color_output_accuracy: 1.0000\n",
            "<tensorflow.python.keras.callbacks.History object at 0x7f44901d8da0>\n"
          ],
          "name": "stdout"
        }
      ]
    },
    {
      "cell_type": "markdown",
      "metadata": {
        "id": "tNlEXb6zV270",
        "colab_type": "text"
      },
      "source": [
        "### Run model training and save to \"test\" folder"
      ]
    },
    {
      "cell_type": "code",
      "metadata": {
        "id": "enliKSuXV3Q1",
        "colab_type": "code",
        "colab": {}
      },
      "source": [
        "# loss_fn = keras.losses.categorical_crossentropy\n",
        "# optimizer = keras.optimizers.Adam()\n",
        "# metrics = [keras.metrics.Accuracy()]\n",
        "# model.compile(loss=loss_fn, optimizer=optimizer, metrics=metrics)\n",
        "# print(process.memory_info().rss)  # print(process.memory_info()[0]) # bytes\n",
        "model.compile(loss='categorical_crossentropy', optimizer='Adam', metrics=['accuracy'])\n",
        "model.fit(X_train, Y_train, epochs=5, verbose=1)\n",
        "model.save(\"test\")"
      ],
      "execution_count": null,
      "outputs": []
    },
    {
      "cell_type": "markdown",
      "metadata": {
        "id": "uonpkfDIV40T",
        "colab_type": "text"
      },
      "source": [
        "### Load and show score of \"test\" model"
      ]
    },
    {
      "cell_type": "code",
      "metadata": {
        "id": "A2CdaOgeV6ol",
        "colab_type": "code",
        "colab": {
          "base_uri": "https://localhost:8080/",
          "height": 73
        },
        "outputId": "45d85906-94a5-4e0a-fb2d-5b53481cc951"
      },
      "source": [
        "model = tf.keras.models.load_model(\"model.keras\")\n",
        "score = model.evaluate(X_test, {\"category_output\": Y_test, \"color_output\": Y_test_color}, verbose=1)\n",
        "print(score)"
      ],
      "execution_count": 4,
      "outputs": [
        {
          "output_type": "stream",
          "text": [
            "313/313 [==============================] - 2s 5ms/step - loss: 0.0190 - category_output_loss: 0.0190 - color_output_loss: 3.1412e-08 - category_output_accuracy: 0.9938 - color_output_accuracy: 1.0000\n",
            "[0.019049840047955513, 0.019049804657697678, 3.141160220820893e-08, 0.9937999844551086, 1.0]\n"
          ],
          "name": "stdout"
        }
      ]
    },
    {
      "cell_type": "markdown",
      "metadata": {
        "id": "ZEWO2aAqV8FQ",
        "colab_type": "text"
      },
      "source": [
        "### Loop through the test list and show comparison of image and value guessed"
      ]
    },
    {
      "cell_type": "code",
      "metadata": {
        "id": "NtXNDpwDV9Z7",
        "colab_type": "code",
        "colab": {
          "base_uri": "https://localhost:8080/",
          "height": 491
        },
        "outputId": "ab4e01f5-7e4d-4f38-be11-fb3dfad38ad5"
      },
      "source": [
        "predictions = model.predict(X_test)\n",
        "good_list = tuple(zip(X_test, predictions[0], predictions[1]))\n",
        "for (test, prediction, color) in good_list:\n",
        "    clear_output(wait=True)\n",
        "    print(np.argmax(prediction))\n",
        "    col = np.argmax(color)\n",
        "    if col == 0:\n",
        "        print(\"red\")\n",
        "    if col == 1:\n",
        "        print(\"blue\")\n",
        "    if col == 2:\n",
        "        print(\"green\")\n",
        "    test = np.reshape(test,(28,28,3))\n",
        "    plt.imshow(test)\n",
        "    plt.show()\n",
        "    time.sleep(1.5)"
      ],
      "execution_count": 5,
      "outputs": [
        {
          "output_type": "stream",
          "text": [
            "4\n",
            "green\n"
          ],
          "name": "stdout"
        },
        {
          "output_type": "display_data",
          "data": {
            "image/png": "[encoded data removed]",
            "text/plain": [
              "<Figure size 432x288 with 1 Axes>"
            ]
          },
          "metadata": {
            "tags": [],
            "needs_background": "light"
          }
        },
        {
          "output_type": "error",
          "ename": "KeyboardInterrupt",
          "evalue": "ignored",
          "traceback": [
            "\u001b[0;31m---------------------------------------------------------------------------\u001b[0m",
            "\u001b[0;31mKeyboardInterrupt\u001b[0m                         Traceback (most recent call last)",
            "\u001b[0;32m<ipython-input-5-71fb507022b5>\u001b[0m in \u001b[0;36m<module>\u001b[0;34m()\u001b[0m\n\u001b[1;32m     14\u001b[0m     \u001b[0mplt\u001b[0m\u001b[0;34m.\u001b[0m\u001b[0mimshow\u001b[0m\u001b[0;34m(\u001b[0m\u001b[0mtest\u001b[0m\u001b[0;34m)\u001b[0m\u001b[0;34m\u001b[0m\u001b[0;34m\u001b[0m\u001b[0m\n\u001b[1;32m     15\u001b[0m     \u001b[0mplt\u001b[0m\u001b[0;34m.\u001b[0m\u001b[0mshow\u001b[0m\u001b[0;34m(\u001b[0m\u001b[0;34m)\u001b[0m\u001b[0;34m\u001b[0m\u001b[0;34m\u001b[0m\u001b[0m\n\u001b[0;32m---> 16\u001b[0;31m     \u001b[0mtime\u001b[0m\u001b[0;34m.\u001b[0m\u001b[0msleep\u001b[0m\u001b[0;34m(\u001b[0m\u001b[0;36m1.5\u001b[0m\u001b[0;34m)\u001b[0m\u001b[0;34m\u001b[0m\u001b[0;34m\u001b[0m\u001b[0m\n\u001b[0m",
            "\u001b[0;31mKeyboardInterrupt\u001b[0m: "
          ]
        }
      ]
    },
    {
      "cell_type": "markdown",
      "metadata": {
        "id": "expz4F8dV-8g",
        "colab_type": "text"
      },
      "source": [
        "# Just for Randomizing image color\n",
        "### if you want to try, run after getting the data from mnist"
      ]
    },
    {
      "cell_type": "code",
      "metadata": {
        "id": "pq56EVlhWCO2",
        "colab_type": "code",
        "colab": {
          "base_uri": "https://localhost:8080/",
          "height": 88
        },
        "outputId": "c4bb372a-bdb1-4b1d-dff9-15b7ca73be78"
      },
      "source": [
        "# colorize images\n",
        "\n",
        "random.seed()\n",
        "\n",
        "def apply_mask(img, mask):\n",
        "    for i, col in enumerate(img[:]):\n",
        "        for j, pixel in enumerate(col[:]):\n",
        "            if pixel[0] != 0.0:\n",
        "                img[i,j] = [pixel[0]*mask[0], pixel[1]*mask[1], pixel[2]*mask[2]]\n",
        "    return img\n",
        "\n",
        "! mkdir images\n",
        "! mkdir images/train\n",
        "! mkdir images/test\n",
        "\n",
        "# returns randomized color images and its solution\n",
        "def randomize_colors(data, data_sol, data_type):\n",
        "    data = data / 255.\n",
        "    data = np.expand_dims(data,3)\n",
        "    randomized_data = np.zeros([len(data), 28, 28, 3])\n",
        "    solution = np.zeros([len(data), len(colors)])\n",
        "    for i, img in enumerate(data):\n",
        "        img = np.concatenate((data[i], np.expand_dims(data[i][:,:,0], 2)), axis=2)\n",
        "        randomized_data[i] = np.concatenate((img, np.expand_dims(data[i][:,:,0], 2)), axis=2)\n",
        "        rand = random.randint(0,len(colors)-1)\n",
        "        randomized_data[i] = apply_mask(randomized_data[i], colors[rand])\n",
        "        solution[i,rand] = 1.\n",
        "        name = \"images/{}/image{:05d}\".format(data_type,i)\n",
        "        np.save(name,np.array((randomized_data[i], data_sol[i], solution[i]), dtype=object))\n",
        "        keras.preprocessing.image.save_img(name+\".png\",randomized_data[i])\n",
        "        if i % 1000 == 0:\n",
        "            print(\"\\r{:3.2f}% {} \".format((i/len(data))*100,getMemUse()), end='')\n",
        "    print(\"\\r100% {} \".format(getMemUse()))\n",
        "    return (randomized_data, solution)\n",
        "\n",
        "(X_train, Y_train), (X_test, Y_test) = keras.datasets.mnist.load_data()\n",
        "Y_train = keras.utils.to_categorical(Y_train, 10)\n",
        "Y_test = keras.utils.to_categorical(Y_test, 10)\n",
        "X_train, Y_train_color = randomize_colors(X_train,Y_train,\"train\")\n",
        "X_test, Y_test_color = randomize_colors(X_test,Y_test,\"test\")"
      ],
      "execution_count": 2,
      "outputs": [
        {
          "output_type": "stream",
          "text": [
            "Downloading data from https://storage.googleapis.com/tensorflow/tf-keras-datasets/mnist.npz\n",
            "11493376/11490434 [==============================] - 0s 0us/step\n",
            "100%  mem use: 1.86705MB  \n",
            "100%  mem use: 1.86705MB  \n"
          ],
          "name": "stdout"
        }
      ]
    },
    {
      "cell_type": "code",
      "metadata": {
        "id": "83NYLA8PWl5s",
        "colab_type": "code",
        "colab": {}
      },
      "source": [
        ""
      ],
      "execution_count": null,
      "outputs": []
    }
  ]
}