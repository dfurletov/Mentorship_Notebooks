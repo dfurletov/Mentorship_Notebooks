{
  "nbformat": 4,
  "nbformat_minor": 0,
  "metadata": {
    "colab": {
      "name": "MNIST.ipynb",
      "provenance": [],
      "collapsed_sections": [],
      "toc_visible": true
    },
    "kernelspec": {
      "name": "python3",
      "display_name": "Python 3"
    },
    "accelerator": "GPU"
  },
  "cells": [
    {
      "cell_type": "markdown",
      "metadata": {
        "id": "PG9CWTs7Vdjg"
      },
      "source": [
        "# Reading Numbers Using Keras and their training data\n",
        "### Final edit date: September 28 , 2020\n",
        "### Imports for keras and others:\n",
        "### Read data for training and testing from keras dataset:\n",
        "### Run very bottom block once to get images and colors"
      ]
    },
    {
      "cell_type": "markdown",
      "metadata": {
        "id": "HLvTZYI1OAqX"
      },
      "source": [
        "Notes:\n",
        "\n",
        "Playing around with MNIST data, added extra layer to turn into regression problem to return a number 0-9"
      ]
    },
    {
      "cell_type": "code",
      "metadata": {
        "id": "jIxZZzELVIF7"
      },
      "source": [
        "import tensorflow as tf\n",
        "import numpy as np\n",
        "import time\n",
        "from tensorflow import keras\n",
        "import os\n",
        "import resource\n",
        "def getMemUse():\n",
        "    return \" mem use: {:.5f}MB \".format(resource.getrusage(resource.RUSAGE_SELF).ru_maxrss*0.000001)\n",
        "\n",
        "from tensorflow.keras.models import Sequential\n",
        "from tensorflow.keras.layers import Input, Dense, Flatten\n",
        "from tensorflow.keras.layers import Dropout, Activation, Conv2D, MaxPooling2D\n",
        "\n",
        "from matplotlib import pyplot as plt\n",
        "from IPython.display import clear_output\n",
        "import random\n",
        "\n",
        "red_mask = (0.9,0.2,0.2)\n",
        "green_mask = (0.2,0.9,0.2)\n",
        "blue_mask = (0.2,0.2,0.9)\n",
        "colors = {0:red_mask, 1:blue_mask, 2:green_mask}\n",
        "colls = {0:\"red\", 1:\"blue\", 2:\"green\"}\n"
      ],
      "execution_count": null,
      "outputs": []
    },
    {
      "cell_type": "markdown",
      "metadata": {
        "id": "fe1wf4JxVnFq"
      },
      "source": [
        "### Read data from generated .npy array\n",
        "### ~Normalize inputs from 0-255 to 0-1 as a float point:~\n",
        "### ~Change correct outputs to a 10 size categorical numpy array~"
      ]
    },
    {
      "cell_type": "code",
      "metadata": {
        "id": "UZhtJFqbVo1c",
        "colab": {
          "base_uri": "https://localhost:8080/",
          "height": 160
        },
        "outputId": "7396ec0d-a4fb-43ff-f88c-74860b3c9584"
      },
      "source": [
        "# normalization by dividing by 255 seems to work well\n",
        "# X_train = keras.utils.normalize(X_train, axis=1)\n",
        "# X_test = keras.utils.normalize(X_test, axis=1)\n",
        "\n",
        "# datagen = keras.preprocessing.image.ImageDataGenerator(rescale=1./255)\n",
        "# train_it = datagen.flow_from_directory('images/train/', class_mode='categorical', target_size=(28,28), batch_size=64)\n",
        "# test_it = datagen.flow_from_directory('images/test/', class_mode='categorical', target_size=(28,28), batch_size=64)\n",
        "\n",
        "X_train = np.zeros([60000,28,28,3])\n",
        "X_test = np.zeros([10000,28,28,3])\n",
        "\n",
        "Y_train = np.zeros([60000,10])\n",
        "Y_test = np.zeros([10000,10])\n",
        "\n",
        "Y_train_color = np.zeros([60000,3])\n",
        "Y_test_color = np.zeros([10000,3])\n",
        "for i in range(len(X_train)):\n",
        "    name = \"images/train/image{:05d}.npy\".format(i)\n",
        "    data = np.load(name, allow_pickle=True)\n",
        "    X_train[i] = data[0]\n",
        "    Y_train[i] = data[1]\n",
        "    Y_train_color[i] = data[2]\n",
        "    if i % 1000 == 0:\n",
        "        print(\"\\rreading training data: {:3.2f}% {} \".format((i/len(X_train))*100,getMemUse()), end='')\n",
        "print(\"\\rreading training data: 100% {} \".format(getMemUse()))\n",
        "for i in range(len(X_test)):\n",
        "    name = \"images/test/image{:05d}.npy\".format(i)\n",
        "    data = np.load(name, allow_pickle=True)\n",
        "    X_test[i] = data[0]\n",
        "    Y_test[i] = data[1]\n",
        "    Y_test_color[i] = data[2]\n",
        "    if i % 1000 == 0:\n",
        "        print(\"\\rreading testing data: {:3.2f}% {} \".format((i/len(X_test))*100,getMemUse()), end='')\n",
        "print(\"\\rreading testing data: 100% {} \".format(getMemUse()))\n",
        "    \n",
        "print(X_train.shape)\n",
        "print(X_test.shape)\n",
        "\n",
        "print(Y_train.shape)\n",
        "print(Y_test.shape)\n",
        "\n",
        "print(Y_train_color.shape)\n",
        "print(Y_test_color.shape)"
      ],
      "execution_count": null,
      "outputs": [
        {
          "output_type": "stream",
          "text": [
            "reading training data: 100%  mem use: 2.97077MB  \n",
            "reading testing data: 100%  mem use: 2.97077MB  \n",
            "(60000, 28, 28, 3)\n",
            "(10000, 28, 28, 3)\n",
            "(60000, 10)\n",
            "(10000, 10)\n",
            "(60000, 3)\n",
            "(10000, 3)\n"
          ],
          "name": "stdout"
        }
      ]
    },
    {
      "cell_type": "markdown",
      "metadata": {
        "id": "dCL-Ec4KVsqi"
      },
      "source": [
        "### Create a sequential model and add neurons/nodes: choose\n",
        "- First - simple\n",
        "- Second - complex\n",
        "- Third - Differenciate color too"
      ]
    },
    {
      "cell_type": "code",
      "metadata": {
        "id": "07iAPIhIVuyy"
      },
      "source": [
        "model = Sequential()\n",
        "model.add(Input(shape=(28,28,3)))\n",
        "\n",
        "model.add(Flatten());\n",
        "model.add(Dense(128, activation='relu'))\n",
        "model.add(Dense(10, activation='softmax'))\n",
        "\n",
        "model.summary()\n",
        "\n",
        "model.compile(loss='categorical_crossentropy', optimizer='Adam', metrics=['accuracy'])\n",
        "H = model.fit(X_train, Y_train, epochs=5, verbose=1)\n",
        "model.save(\"model.keras\", save_format=\"h5\")"
      ],
      "execution_count": null,
      "outputs": []
    },
    {
      "cell_type": "code",
      "metadata": {
        "id": "LpXWmLXJVw5u"
      },
      "source": [
        "model = Sequential()\n",
        "model.add(Input(shape=(28,28,1)))\n",
        "\n",
        "model.add(Conv2D(32, (3, 3), activation='relu', kernel_initializer='he_uniform'))\n",
        "model.add(Conv2D(32, (3, 3), activation='relu'))\n",
        "model.add(MaxPooling2D(pool_size=(2,2)))\n",
        "model.add(Dropout(0.25))\n",
        "model.add(Flatten())\n",
        "model.add(Dense(128, activation='relu', kernel_initializer='he_uniform'))\n",
        "model.add(Dropout(0.5))\n",
        "model.add(Dense(10, activation='softmax'))\n",
        "\n",
        "model.summary()\n",
        "\n",
        "model.compile(loss='categorical_crossentropy', optimizer='Adam', metrics=['accuracy'])\n",
        "H = model.fit(X_train, Y_train, epochs=5, verbose=1)\n",
        "model.save(\"model.keras\", save_format=\"h5\")"
      ],
      "execution_count": null,
      "outputs": []
    },
    {
      "cell_type": "code",
      "metadata": {
        "id": "QDYoGXmzVyaa"
      },
      "source": [
        "# Legit no clue what this does, but it works...\n",
        "# https://www.pyimagesearch.com/2018/06/04/keras-multiple-outputs-and-multiple-losses/\n",
        "from tensorflow.keras.models import Model\n",
        "from tensorflow.keras.layers import BatchNormalization\n",
        "from tensorflow.keras.layers import Conv2D\n",
        "from tensorflow.keras.layers import MaxPooling2D\n",
        "from tensorflow.keras.layers import Activation\n",
        "from tensorflow.keras.layers import Dropout\n",
        "from tensorflow.keras.layers import Lambda\n",
        "def build_category_branch(inputs):\n",
        "    # utilize a lambda layer to convert the 3 channel input to a\n",
        "    # grayscale representation\n",
        "    x = Lambda(lambda c: tf.image.rgb_to_grayscale(c))(inputs)\n",
        "    # CONV => RELU => POOL\n",
        "    x = Conv2D(32, (3, 3), padding=\"same\",activation='relu')(x)\n",
        "    # x = Activation(\"relu\")(x)\n",
        "    x = BatchNormalization(axis=-1)(x)\n",
        "    x = MaxPooling2D(pool_size=(3, 3))(x)\n",
        "    x = Dropout(0.25)(x)\n",
        "    \n",
        "    # (CONV => RELU) * 2 => POOL\n",
        "    x = Conv2D(64, (3, 3), padding=\"same\", activation='relu')(x)\n",
        "    x = BatchNormalization(axis=-1)(x)\n",
        "    x = Conv2D(64, (3, 3), padding=\"same\", activation='relu')(x)\n",
        "    x = BatchNormalization(axis=-1)(x)\n",
        "    x = MaxPooling2D(pool_size=(2, 2))(x)\n",
        "    x = Dropout(0.25)(x)\n",
        "    # (CONV => RELU) * 2 => POOL\n",
        "    x = Conv2D(128, (3, 3), padding=\"same\",activation='relu')(x)\n",
        "    x = BatchNormalization(axis=-1)(x)\n",
        "    x = Conv2D(128, (3, 3), padding=\"same\",activation='relu')(x)\n",
        "    x = BatchNormalization(axis=-1)(x)\n",
        "    x = MaxPooling2D(pool_size=(2, 2))(x)\n",
        "    x = Dropout(0.25)(x)\n",
        "        \n",
        "    x = Flatten()(x)\n",
        "    x = Dense(256,activation='relu')(x)\n",
        "    x = BatchNormalization()(x)\n",
        "    x = Dropout(0.5)(x)\n",
        "    # x = Dense(10, activation=\"softmax\")(x)\n",
        "    x = Dense(10)(x)\n",
        "    # x = Activation(\"softmax\", name=\"category_output\")(x)\n",
        "    # x = Activation(\"softmax\")(x)\n",
        "    x = Dense(1,activation=\"linear\", name=\"category_output\")(x)\n",
        "    # return the category prediction sub-network\n",
        "    return x\n",
        "def build_color_branch(inputs):\n",
        "    # CONV => RELU => POOL\n",
        "    x = Conv2D(16, (3, 3), padding=\"same\",activation='relu')(inputs)\n",
        "    x = BatchNormalization(axis=-1)(x)\n",
        "    x = MaxPooling2D(pool_size=(3, 3))(x)\n",
        "    x = Dropout(0.25)(x)\n",
        "    # CONV => RELU => POOL\n",
        "    x = Conv2D(32, (3, 3), padding=\"same\",activation='relu')(x)\n",
        "    x = BatchNormalization(axis=-1)(x)\n",
        "    x = MaxPooling2D(pool_size=(2, 2))(x)\n",
        "    x = Dropout(0.25)(x)\n",
        "    # CONV => RELU => POOL\n",
        "    x = Conv2D(32, (3, 3), padding=\"same\",activation='relu')(x)\n",
        "    x = BatchNormalization(axis=-1)(x)\n",
        "    x = MaxPooling2D(pool_size=(2, 2))(x)\n",
        "    x = Dropout(0.25)(x)\n",
        "\n",
        "    x = Flatten()(x)\n",
        "    x = Dense(128,activation='relu')(x)\n",
        "    x = BatchNormalization()(x)\n",
        "    x = Dropout(0.5)(x)\n",
        "    x = Dense(3)(x)\n",
        "    x = Activation(\"softmax\", name=\"color_output\")(x)\n",
        "    # return the color prediction sub-network\n",
        "    return x\n",
        "\n",
        "inputs = Input(shape=(28, 28, 3))\n",
        "categoryBranch = build_category_branch(inputs)\n",
        "colorBranch = build_color_branch(inputs)\n",
        "model = Model(inputs=inputs, outputs=[categoryBranch, colorBranch], name=\"num-color-tegorizer\")\n",
        "losses = {\n",
        "    \"category_output\": \"mse\",\n",
        "    \"color_output\": \"categorical_crossentropy\",\n",
        "}\n",
        "lossWeights = {\"category_output\": 1.0, \"color_output\": 1.0}\n",
        "opt = keras.optimizers.Adam(lr=1e-3, decay=1e-3 / 5)\n",
        "model.compile(optimizer=opt, loss=losses, loss_weights=lossWeights, metrics=[\"accuracy\"])\n",
        "model.summary()\n",
        "\n",
        "H = model.fit(x=X_train, y={\"category_output\": Y_train, \"color_output\": Y_train_color}, \n",
        "              validation_data=(X_test, {\"category_output\": Y_test, \"color_output\": Y_test_color}),\n",
        "              epochs=5, verbose=1)\n",
        "# save to model.keras as h5\n",
        "model.save(\"model.keras\", save_format=\"h5\")\n",
        "\n"
      ],
      "execution_count": null,
      "outputs": []
    },
    {
      "cell_type": "code",
      "metadata": {
        "id": "zMU9sTvmLrwR"
      },
      "source": [
        "\n",
        "def build_category_branch(inputs):\n",
        "    # utilize a lambda layer to convert the 3 channel input to a\n",
        "    # grayscale representation\n",
        "    x = Lambda(lambda c: tf.image.rgb_to_grayscale(c))(inputs)\n",
        "    # CONV => RELU => POOL\n",
        "    x = Conv2D(32, (3, 3), padding=\"same\",activation='relu')(x)\n",
        "    # x = Activation(\"relu\")(x)\n",
        "    x = BatchNormalization(axis=-1)(x)\n",
        "    x = MaxPooling2D(pool_size=(3, 3))(x)\n",
        "    x = Dropout(0.25)(x)\n",
        "    \n",
        "    # (CONV => RELU) * 2 => POOL\n",
        "    x = Conv2D(64, (3, 3), padding=\"same\", activation='relu')(x)\n",
        "    x = BatchNormalization(axis=-1)(x)\n",
        "    x = Conv2D(64, (3, 3), padding=\"same\", activation='relu')(x)\n",
        "    x = BatchNormalization(axis=-1)(x)\n",
        "    x = MaxPooling2D(pool_size=(2, 2))(x)\n",
        "    x = Dropout(0.25)(x)\n",
        "    # (CONV => RELU) * 2 => POOL\n",
        "    x = Conv2D(128, (3, 3), padding=\"same\",activation='relu')(x)\n",
        "    x = BatchNormalization(axis=-1)(x)\n",
        "    x = Conv2D(128, (3, 3), padding=\"same\",activation='relu')(x)\n",
        "    x = BatchNormalization(axis=-1)(x)\n",
        "    x = MaxPooling2D(pool_size=(2, 2))(x)\n",
        "    x = Dropout(0.25)(x)\n",
        "        \n",
        "    x = Flatten()(x)\n",
        "    x = Dense(256,activation='relu')(x)\n",
        "    x = BatchNormalization()(x)\n",
        "    x = Dropout(0.5)(x)\n",
        "    # x = Dense(10, activation=\"softmax\")(x)\n",
        "    x = Dense(10,activation=\"softmax\")(x)\n",
        "    # x = Activation(\"softmax\", name=\"category_output\")(x)\n",
        "    # x = Activation(\"softmax\")(x)\n",
        "    x = Dense(1,activation=\"linear\")(x)\n",
        "    # return the category prediction sub-network\n",
        "    return x\n",
        "\n",
        "\n",
        "inputs = Input(shape=(28, 28, 3))\n",
        "categoryBranch = build_category_branch(inputs)\n",
        "model = Model(inputs=inputs, outputs=categoryBranch, name=\"num-color-tegorizer\")\n",
        "losses = \"mse\"\n",
        "lossWeights = 1.0\n",
        "opt = keras.optimizers.Adam(lr=1e-3, decay=1e-3 / 5)\n",
        "model.compile(optimizer=opt, loss=losses, loss_weights=lossWeights, metrics=[\"mae\"])\n",
        "model.summary()\n",
        "\n",
        "\n",
        "# save to model.keras as h5"
      ],
      "execution_count": null,
      "outputs": []
    },
    {
      "cell_type": "code",
      "metadata": {
        "id": "LSBaaKITNhLy",
        "colab": {
          "base_uri": "https://localhost:8080/",
          "height": 191
        },
        "outputId": "859928c2-da53-497b-ef3a-6a2da4a057a1"
      },
      "source": [
        "H = model.fit(x=X_train, y=Y_train, \n",
        "              validation_data=(X_test, Y_test),\n",
        "              epochs=5, verbose=1)\n",
        "model.save(\"model.keras\", save_format=\"h5\")"
      ],
      "execution_count": null,
      "outputs": [
        {
          "output_type": "stream",
          "text": [
            "Epoch 1/5\n",
            "1875/1875 [==============================] - 8s 4ms/step - loss: 0.5320 - mae: 0.4385 - val_loss: 0.2783 - val_mae: 0.2758\n",
            "Epoch 2/5\n",
            "1875/1875 [==============================] - 8s 4ms/step - loss: 0.3672 - mae: 0.3295 - val_loss: 0.2046 - val_mae: 0.2165\n",
            "Epoch 3/5\n",
            "1875/1875 [==============================] - 8s 4ms/step - loss: 0.2951 - mae: 0.2697 - val_loss: 0.1971 - val_mae: 0.1804\n",
            "Epoch 4/5\n",
            "1875/1875 [==============================] - 8s 4ms/step - loss: 0.2406 - mae: 0.2280 - val_loss: 0.1602 - val_mae: 0.1486\n",
            "Epoch 5/5\n",
            "1875/1875 [==============================] - 8s 4ms/step - loss: 0.2238 - mae: 0.2049 - val_loss: 0.1471 - val_mae: 0.1212\n"
          ],
          "name": "stdout"
        }
      ]
    },
    {
      "cell_type": "markdown",
      "metadata": {
        "id": "uonpkfDIV40T"
      },
      "source": [
        "### Load and show score of \"test\" model"
      ]
    },
    {
      "cell_type": "code",
      "metadata": {
        "id": "pk7IKSMwLn5M",
        "colab": {
          "base_uri": "https://localhost:8080/",
          "height": 642
        },
        "outputId": "026aa9cf-e914-4986-f27b-b16997a8f9d9"
      },
      "source": [
        "model = tf.keras.models.load_model(\"model.keras\")\n",
        "score = model.evaluate(X_test, {\"category_output\": Y_test, \"color_output\": Y_test_color}, verbose=0)\n",
        "print(score)\n",
        "print(\"net loss: {:5.2f}\\ncateg: loss:{:5.2f} acc:{:5.2f}\\ncolor: loss:{:5.2f} acc:{:5.2f}\".format(score[0],score[1],score[3],score[2],score[4]))\n",
        "\n",
        "plt.plot(H.history['loss'])\n",
        "plt.plot(H.history['val_loss'])\n",
        "plt.title('model')\n",
        "plt.ylabel('loss')\n",
        "plt.xlabel('epoch')\n",
        "plt.legend(['train','test'],loc='upper left')\n",
        "plt.show()\n",
        "plt.plot(H.history['category_output_accuracy'])\n",
        "plt.plot(H.history['color_output_accuracy'])\n",
        "plt.title('model')\n",
        "plt.ylabel('accuracy')\n",
        "plt.xlabel('epoch')\n",
        "plt.legend(['number','color'],loc='upper left')\n",
        "plt.show()\n"
      ],
      "execution_count": null,
      "outputs": [
        {
          "output_type": "stream",
          "text": [
            "[0.22439457476139069, 0.2243945300579071, 3.101821732798271e-08, 0.19789999723434448, 1.0]\n",
            "net loss:  0.22\n",
            "categ: loss: 0.22 acc: 0.20\n",
            "color: loss: 0.00 acc: 1.00\n"
          ],
          "name": "stdout"
        },
        {
          "output_type": "display_data",
          "data": {
            "image/png": "[encoded data removed]",
            "text/plain": [
              "<Figure size 432x288 with 1 Axes>"
            ]
          },
          "metadata": {
            "tags": [],
            "needs_background": "light"
          }
        },
        {
          "output_type": "display_data",
          "data": {
            "image/png": "[encoded data removed]",
            "text/plain": [
              "<Figure size 432x288 with 1 Axes>"
            ]
          },
          "metadata": {
            "tags": [],
            "needs_background": "light"
          }
        }
      ]
    },
    {
      "cell_type": "markdown",
      "metadata": {
        "id": "ZEWO2aAqV8FQ"
      },
      "source": [
        "### Loop through the test list and show comparison of image and value guessed"
      ]
    },
    {
      "cell_type": "code",
      "metadata": {
        "id": "ljD3RQu4IkRP",
        "colab": {
          "base_uri": "https://localhost:8080/",
          "height": 121
        },
        "outputId": "f5aa851a-dffe-4fa3-dcad-b29564ad97ba"
      },
      "source": [
        "prediction = model.predict(X_test)\n",
        "print(prediction[0:5])\n",
        "print(Y_test[0:5])"
      ],
      "execution_count": null,
      "outputs": [
        {
          "output_type": "stream",
          "text": [
            "[[7.4921007 ]\n",
            " [2.27156   ]\n",
            " [1.125756  ]\n",
            " [0.19103026]\n",
            " [4.24261   ]]\n",
            "[7 2 1 0 4]\n"
          ],
          "name": "stdout"
        }
      ]
    },
    {
      "cell_type": "code",
      "metadata": {
        "id": "NtXNDpwDV9Z7",
        "colab": {
          "base_uri": "https://localhost:8080/",
          "height": 500
        },
        "outputId": "aead8883-5a41-44a0-b314-eb59931fe076"
      },
      "source": [
        "predictions = model.predict(X_test)\n",
        "good_list = tuple(zip(X_test, predictions[0], predictions[1]))\n",
        "\n",
        "\n",
        "\n",
        "\n",
        "for (test, prediction, color) in good_list:\n",
        "    clear_output(wait=True)\n",
        "    print(np.argmax(prediction))\n",
        "    col = np.argmax(color)\n",
        "    print(colls[col])\n",
        "    if col == 0:\n",
        "        print(\"red\")\n",
        "    if col == 1:\n",
        "        print(\"blue\")\n",
        "    if col == 2:\n",
        "        print(\"green\")\n",
        "    test = np.reshape(test,(28,28,3))\n",
        "    plt.imshow(test)\n",
        "    plt.show()\n",
        "    time.sleep(1.5)"
      ],
      "execution_count": null,
      "outputs": [
        {
          "output_type": "stream",
          "text": [
            "0\n",
            "green\n",
            "green\n"
          ],
          "name": "stdout"
        },
        {
          "output_type": "display_data",
          "data": {
            "image/png": "[encoded data removed]",
            "text/plain": [
              "<Figure size 432x288 with 1 Axes>"
            ]
          },
          "metadata": {
            "tags": [],
            "needs_background": "light"
          }
        },
        {
          "output_type": "error",
          "ename": "KeyboardInterrupt",
          "evalue": "ignored",
          "traceback": [
            "\u001b[0;31m---------------------------------------------------------------------------\u001b[0m",
            "\u001b[0;31mKeyboardInterrupt\u001b[0m                         Traceback (most recent call last)",
            "\u001b[0;32m<ipython-input-11-40b339cbcd6b>\u001b[0m in \u001b[0;36m<module>\u001b[0;34m()\u001b[0m\n\u001b[1;32m     15\u001b[0m     \u001b[0mplt\u001b[0m\u001b[0;34m.\u001b[0m\u001b[0mimshow\u001b[0m\u001b[0;34m(\u001b[0m\u001b[0mtest\u001b[0m\u001b[0;34m)\u001b[0m\u001b[0;34m\u001b[0m\u001b[0;34m\u001b[0m\u001b[0m\n\u001b[1;32m     16\u001b[0m     \u001b[0mplt\u001b[0m\u001b[0;34m.\u001b[0m\u001b[0mshow\u001b[0m\u001b[0;34m(\u001b[0m\u001b[0;34m)\u001b[0m\u001b[0;34m\u001b[0m\u001b[0;34m\u001b[0m\u001b[0m\n\u001b[0;32m---> 17\u001b[0;31m     \u001b[0mtime\u001b[0m\u001b[0;34m.\u001b[0m\u001b[0msleep\u001b[0m\u001b[0;34m(\u001b[0m\u001b[0;36m1.5\u001b[0m\u001b[0;34m)\u001b[0m\u001b[0;34m\u001b[0m\u001b[0;34m\u001b[0m\u001b[0m\n\u001b[0m",
            "\u001b[0;31mKeyboardInterrupt\u001b[0m: "
          ]
        }
      ]
    },
    {
      "cell_type": "markdown",
      "metadata": {
        "id": "expz4F8dV-8g"
      },
      "source": [
        "# Just for Randomizing image color"
      ]
    },
    {
      "cell_type": "code",
      "metadata": {
        "id": "pq56EVlhWCO2",
        "colab": {
          "base_uri": "https://localhost:8080/",
          "height": 104
        },
        "outputId": "e957f38d-64c7-46ee-c58b-aa7256cc27d8"
      },
      "source": [
        "# colorize images\n",
        "\n",
        "random.seed()\n",
        "\n",
        "def apply_mask(img, mask):\n",
        "    for i, col in enumerate(img[:]):\n",
        "        for j, pixel in enumerate(col[:]):\n",
        "            if pixel[0] != 0.0:\n",
        "                img[i,j] = [pixel[0]*mask[0], pixel[1]*mask[1], pixel[2]*mask[2]]\n",
        "    return img\n",
        "\n",
        "! mkdir images\n",
        "! mkdir images/train\n",
        "! mkdir images/test\n",
        "\n",
        "# returns randomized color images and its solution\n",
        "def randomize_colors(data, data_sol, data_type):\n",
        "    data = data / 255.\n",
        "    data = np.expand_dims(data,3)\n",
        "    randomized_data = np.zeros([len(data), 28, 28, 3])\n",
        "    solution = np.zeros([len(data), len(colors)])\n",
        "    for i, img in enumerate(data):\n",
        "        img = np.concatenate((data[i], np.expand_dims(data[i][:,:,0], 2)), axis=2)\n",
        "        randomized_data[i] = np.concatenate((img, np.expand_dims(data[i][:,:,0], 2)), axis=2)\n",
        "        rand = random.randint(0,len(colors)-1)\n",
        "        randomized_data[i] = apply_mask(randomized_data[i], colors[rand])\n",
        "        solution[i,rand] = 1.\n",
        "        name = \"images/{}/image{:05d}\".format(data_type,i)\n",
        "        np.save(name,np.array((randomized_data[i], data_sol[i], solution[i]), dtype=object))\n",
        "        keras.preprocessing.image.save_img(name+\".png\",randomized_data[i])\n",
        "        if i % 1000 == 0:\n",
        "            print(\"\\r{:3.2f}% {} \".format((i/len(data))*100,getMemUse()), end='')\n",
        "    print(\"\\r100% {} \".format(getMemUse()))\n",
        "    return (randomized_data, solution)\n",
        "\n",
        "(X_train, Y_train), (X_test, Y_test) = keras.datasets.mnist.load_data()\n",
        "# Y_train = keras.utils.to_categorical(Y_train, 10)\n",
        "# Y_test = keras.utils.to_categorical(Y_test, 10)\n",
        "X_train, Y_train_color = randomize_colors(X_train,Y_train,\"train\")\n",
        "X_test, Y_test_color = randomize_colors(X_test,Y_test,\"test\")"
      ],
      "execution_count": null,
      "outputs": [
        {
          "output_type": "stream",
          "text": [
            "mkdir: cannot create directory ‘images’: File exists\n",
            "mkdir: cannot create directory ‘images/train’: File exists\n",
            "mkdir: cannot create directory ‘images/test’: File exists\n",
            "100%  mem use: 5.15716MB  \n",
            "100%  mem use: 5.15716MB  \n"
          ],
          "name": "stdout"
        }
      ]
    },
    {
      "cell_type": "code",
      "metadata": {
        "id": "YIIC27_ark8B"
      },
      "source": [
        ""
      ],
      "execution_count": null,
      "outputs": []
    }
  ]
}