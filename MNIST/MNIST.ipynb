{
  "nbformat": 4,
  "nbformat_minor": 0,
  "metadata": {
    "colab": {
      "name": "MNIST.ipynb",
      "provenance": [],
      "collapsed_sections": [],
      "toc_visible": true
    },
    "kernelspec": {
      "name": "python3",
      "display_name": "Python 3"
    },
    "accelerator": "GPU"
  },
  "cells": [
    {
      "cell_type": "markdown",
      "metadata": {
        "id": "PG9CWTs7Vdjg",
        "colab_type": "text"
      },
      "source": [
        "# Reading Numbers Using Keras and their training data\n",
        "### Imports for keras and others:\n",
        "### Read data for training and testing from keras dataset:\n",
        "### Run very bottom block once to get images and colors"
      ]
    },
    {
      "cell_type": "code",
      "metadata": {
        "id": "jIxZZzELVIF7",
        "colab_type": "code",
        "colab": {}
      },
      "source": [
        "import tensorflow as tf\n",
        "import numpy as np\n",
        "import time\n",
        "from tensorflow import keras\n",
        "import os\n",
        "import resource\n",
        "def getMemUse():\n",
        "    return \" mem use: {:.5f}MB \".format(resource.getrusage(resource.RUSAGE_SELF).ru_maxrss*0.000001)\n",
        "\n",
        "from tensorflow.keras.models import Sequential\n",
        "from tensorflow.keras.layers import Input, Dense, Flatten\n",
        "from tensorflow.keras.layers import Dropout, Activation, Conv2D, MaxPooling2D\n",
        "\n",
        "from matplotlib import pyplot as plt\n",
        "from IPython.display import clear_output\n",
        "import random\n",
        "\n",
        "red_mask = (0.9,0.2,0.2)\n",
        "green_mask = (0.2,0.9,0.2)\n",
        "blue_mask = (0.2,0.2,0.9)\n",
        "colors = {0:red_mask, 1:blue_mask, 2:green_mask}\n",
        "colls = {0:\"red\", 1:\"blue\", 2:\"green\"}\n"
      ],
      "execution_count": 5,
      "outputs": []
    },
    {
      "cell_type": "markdown",
      "metadata": {
        "id": "fe1wf4JxVnFq",
        "colab_type": "text"
      },
      "source": [
        "### Read data from generated .npy array\n",
        "### ~Normalize inputs from 0-255 to 0-1 as a float point:~\n",
        "### ~Change correct outputs to a 10 size categorical numpy array~"
      ]
    },
    {
      "cell_type": "code",
      "metadata": {
        "id": "UZhtJFqbVo1c",
        "colab_type": "code",
        "colab": {
          "base_uri": "https://localhost:8080/",
          "height": 160
        },
        "outputId": "ad756ceb-74f0-47a5-e17d-1dd7b33d93d3"
      },
      "source": [
        "# normalization by dividing by 255 seems to work well\n",
        "# X_train = keras.utils.normalize(X_train, axis=1)\n",
        "# X_test = keras.utils.normalize(X_test, axis=1)\n",
        "\n",
        "# datagen = keras.preprocessing.image.ImageDataGenerator(rescale=1./255)\n",
        "# train_it = datagen.flow_from_directory('images/train/', class_mode='categorical', target_size=(28,28), batch_size=64)\n",
        "# test_it = datagen.flow_from_directory('images/test/', class_mode='categorical', target_size=(28,28), batch_size=64)\n",
        "\n",
        "X_train = np.zeros([60000,28,28,3])\n",
        "X_test = np.zeros([10000,28,28,3])\n",
        "\n",
        "Y_train = np.zeros([60000,10])\n",
        "Y_test = np.zeros([10000,10])\n",
        "\n",
        "Y_train_color = np.zeros([60000,3])\n",
        "Y_test_color = np.zeros([10000,3])\n",
        "for i in range(len(X_train)):\n",
        "    name = \"images/train/image{:05d}.npy\".format(i)\n",
        "    data = np.load(name, allow_pickle=True)\n",
        "    X_train[i] = data[0]\n",
        "    Y_train[i] = data[1]\n",
        "    Y_train_color[i] = data[2]\n",
        "    if i % 1000 == 0:\n",
        "        print(\"\\rreading training data: {:3.2f}% {} \".format((i/len(X_train))*100,getMemUse()), end='')\n",
        "print(\"\\rreading training data: 100% {} \".format(getMemUse()))\n",
        "for i in range(len(X_test)):\n",
        "    name = \"images/test/image{:05d}.npy\".format(i)\n",
        "    data = np.load(name, allow_pickle=True)\n",
        "    X_test[i] = data[0]\n",
        "    Y_test[i] = data[1]\n",
        "    Y_test_color[i] = data[2]\n",
        "    if i % 1000 == 0:\n",
        "        print(\"\\rreading testing data: {:3.2f}% {} \".format((i/len(X_test))*100,getMemUse()), end='')\n",
        "print(\"\\rreading testing data: 100% {} \".format(getMemUse()))\n",
        "    \n",
        "print(X_train.shape)\n",
        "print(X_test.shape)\n",
        "\n",
        "print(Y_train.shape)\n",
        "print(Y_test.shape)\n",
        "\n",
        "print(Y_train_color.shape)\n",
        "print(Y_test_color.shape)"
      ],
      "execution_count": 7,
      "outputs": [
        {
          "output_type": "stream",
          "text": [
            "reading training data: 100%  mem use: 3.89621MB  \n",
            "reading testing data: 100%  mem use: 3.89621MB  \n",
            "(60000, 28, 28, 3)\n",
            "(10000, 28, 28, 3)\n",
            "(60000, 10)\n",
            "(10000, 10)\n",
            "(60000, 3)\n",
            "(10000, 3)\n"
          ],
          "name": "stdout"
        }
      ]
    },
    {
      "cell_type": "markdown",
      "metadata": {
        "id": "dCL-Ec4KVsqi",
        "colab_type": "text"
      },
      "source": [
        "### Create a sequential model and add neurons/nodes: choose\n",
        "- First - simple\n",
        "- Second - complex\n",
        "- Third - Differenciate color too"
      ]
    },
    {
      "cell_type": "code",
      "metadata": {
        "id": "07iAPIhIVuyy",
        "colab_type": "code",
        "colab": {
          "base_uri": "https://localhost:8080/",
          "height": 243
        },
        "outputId": "8dfd9e19-ea5c-4c83-a565-69f36d1b4a3e"
      },
      "source": [
        "model = Sequential()\n",
        "model.add(Input(shape=(28,28,3)))\n",
        "\n",
        "model.add(Flatten());\n",
        "model.add(Dense(128, activation='relu'))\n",
        "model.add(Dense(10, activation='softmax'))\n",
        "\n",
        "model.summary()"
      ],
      "execution_count": 2,
      "outputs": [
        {
          "output_type": "error",
          "ename": "NameError",
          "evalue": "ignored",
          "traceback": [
            "\u001b[0;31m---------------------------------------------------------------------------\u001b[0m",
            "\u001b[0;31mNameError\u001b[0m                                 Traceback (most recent call last)",
            "\u001b[0;32m<ipython-input-2-ae24f2c31d4a>\u001b[0m in \u001b[0;36m<module>\u001b[0;34m()\u001b[0m\n\u001b[0;32m----> 1\u001b[0;31m \u001b[0mmodel\u001b[0m \u001b[0;34m=\u001b[0m \u001b[0mSequential\u001b[0m\u001b[0;34m(\u001b[0m\u001b[0;34m)\u001b[0m\u001b[0;34m\u001b[0m\u001b[0;34m\u001b[0m\u001b[0m\n\u001b[0m\u001b[1;32m      2\u001b[0m \u001b[0mmodel\u001b[0m\u001b[0;34m.\u001b[0m\u001b[0madd\u001b[0m\u001b[0;34m(\u001b[0m\u001b[0mInput\u001b[0m\u001b[0;34m(\u001b[0m\u001b[0mshape\u001b[0m\u001b[0;34m=\u001b[0m\u001b[0;34m(\u001b[0m\u001b[0;36m28\u001b[0m\u001b[0;34m,\u001b[0m\u001b[0;36m28\u001b[0m\u001b[0;34m,\u001b[0m\u001b[0;36m3\u001b[0m\u001b[0;34m)\u001b[0m\u001b[0;34m)\u001b[0m\u001b[0;34m)\u001b[0m\u001b[0;34m\u001b[0m\u001b[0;34m\u001b[0m\u001b[0m\n\u001b[1;32m      3\u001b[0m \u001b[0;34m\u001b[0m\u001b[0m\n\u001b[1;32m      4\u001b[0m \u001b[0mmodel\u001b[0m\u001b[0;34m.\u001b[0m\u001b[0madd\u001b[0m\u001b[0;34m(\u001b[0m\u001b[0mFlatten\u001b[0m\u001b[0;34m(\u001b[0m\u001b[0;34m)\u001b[0m\u001b[0;34m)\u001b[0m\u001b[0;34m;\u001b[0m\u001b[0;34m\u001b[0m\u001b[0;34m\u001b[0m\u001b[0m\n\u001b[1;32m      5\u001b[0m \u001b[0mmodel\u001b[0m\u001b[0;34m.\u001b[0m\u001b[0madd\u001b[0m\u001b[0;34m(\u001b[0m\u001b[0mDense\u001b[0m\u001b[0;34m(\u001b[0m\u001b[0;36m128\u001b[0m\u001b[0;34m,\u001b[0m \u001b[0mactivation\u001b[0m\u001b[0;34m=\u001b[0m\u001b[0;34m'relu'\u001b[0m\u001b[0;34m)\u001b[0m\u001b[0;34m)\u001b[0m\u001b[0;34m\u001b[0m\u001b[0;34m\u001b[0m\u001b[0m\n",
            "\u001b[0;31mNameError\u001b[0m: name 'Sequential' is not defined"
          ]
        }
      ]
    },
    {
      "cell_type": "code",
      "metadata": {
        "id": "LpXWmLXJVw5u",
        "colab_type": "code",
        "colab": {}
      },
      "source": [
        "model = Sequential()\n",
        "model.add(Input(shape=(28,28,1)))\n",
        "\n",
        "model.add(Conv2D(32, (3, 3), activation='relu', kernel_initializer='he_uniform'))\n",
        "model.add(Conv2D(32, (3, 3), activation='relu'))\n",
        "model.add(MaxPooling2D(pool_size=(2,2)))\n",
        "model.add(Dropout(0.25))\n",
        "model.add(Flatten())\n",
        "model.add(Dense(128, activation='relu', kernel_initializer='he_uniform'))\n",
        "model.add(Dropout(0.5))\n",
        "model.add(Dense(10, activation='softmax'))\n",
        "\n",
        "model.summary()"
      ],
      "execution_count": null,
      "outputs": []
    },
    {
      "cell_type": "code",
      "metadata": {
        "id": "QDYoGXmzVyaa",
        "colab_type": "code",
        "colab": {
          "base_uri": "https://localhost:8080/",
          "height": 1000
        },
        "outputId": "cc54575c-30d7-4e46-bb83-5bdc2250c1b2"
      },
      "source": [
        "# Legit no clue what this does, but it works...\n",
        "# https://www.pyimagesearch.com/2018/06/04/keras-multiple-outputs-and-multiple-losses/\n",
        "from tensorflow.keras.models import Model\n",
        "from tensorflow.keras.layers import BatchNormalization\n",
        "from tensorflow.keras.layers import Conv2D\n",
        "from tensorflow.keras.layers import MaxPooling2D\n",
        "from tensorflow.keras.layers import Activation\n",
        "from tensorflow.keras.layers import Dropout\n",
        "from tensorflow.keras.layers import Lambda\n",
        "def build_category_branch(inputs):\n",
        "    # utilize a lambda layer to convert the 3 channel input to a\n",
        "    # grayscale representation\n",
        "    x = Lambda(lambda c: tf.image.rgb_to_grayscale(c))(inputs)\n",
        "    # CONV => RELU => POOL\n",
        "    x = Conv2D(32, (3, 3), padding=\"same\",activation='relu')(x)\n",
        "    # x = Activation(\"relu\")(x)\n",
        "    x = BatchNormalization(axis=-1)(x)\n",
        "    x = MaxPooling2D(pool_size=(3, 3))(x)\n",
        "    x = Dropout(0.25)(x)\n",
        "        \n",
        "    # (CONV => RELU) * 2 => POOL\n",
        "    x = Conv2D(64, (3, 3), padding=\"same\", activation='relu')(x)\n",
        "    x = BatchNormalization(axis=-1)(x)\n",
        "    x = Conv2D(64, (3, 3), padding=\"same\", activation='relu')(x)\n",
        "    x = BatchNormalization(axis=-1)(x)\n",
        "    x = MaxPooling2D(pool_size=(2, 2))(x)\n",
        "    x = Dropout(0.25)(x)\n",
        "    # (CONV => RELU) * 2 => POOL\n",
        "    x = Conv2D(128, (3, 3), padding=\"same\",activation='relu')(x)\n",
        "    x = BatchNormalization(axis=-1)(x)\n",
        "    x = Conv2D(128, (3, 3), padding=\"same\",activation='relu')(x)\n",
        "    x = BatchNormalization(axis=-1)(x)\n",
        "    x = MaxPooling2D(pool_size=(2, 2))(x)\n",
        "    x = Dropout(0.25)(x)\n",
        "        \n",
        "    x = Flatten()(x)\n",
        "    x = Dense(256,activation='relu')(x)\n",
        "    x = BatchNormalization()(x)\n",
        "    x = Dropout(0.5)(x)\n",
        "    x = Dense(10)(x)\n",
        "    x = Activation(\"softmax\", name=\"category_output\")(x)\n",
        "    # return the category prediction sub-network\n",
        "    return x\n",
        "def build_color_branch(inputs):\n",
        "    # CONV => RELU => POOL\n",
        "    x = Conv2D(16, (3, 3), padding=\"same\")(inputs)\n",
        "    x = Activation(\"relu\")(x)\n",
        "    x = BatchNormalization(axis=-1)(x)\n",
        "    x = MaxPooling2D(pool_size=(3, 3))(x)\n",
        "    x = Dropout(0.25)(x)\n",
        "    # CONV => RELU => POOL\n",
        "    x = Conv2D(32, (3, 3), padding=\"same\")(x)\n",
        "    x = Activation(\"relu\")(x)\n",
        "    x = BatchNormalization(axis=-1)(x)\n",
        "    x = MaxPooling2D(pool_size=(2, 2))(x)\n",
        "    x = Dropout(0.25)(x)\n",
        "    # CONV => RELU => POOL\n",
        "    x = Conv2D(32, (3, 3), padding=\"same\")(x)\n",
        "    x = Activation(\"relu\")(x)\n",
        "    x = BatchNormalization(axis=-1)(x)\n",
        "    x = MaxPooling2D(pool_size=(2, 2))(x)\n",
        "    x = Dropout(0.25)(x)\n",
        "\n",
        "    x = Flatten()(x)\n",
        "    x = Dense(128)(x)\n",
        "    x = Activation(\"relu\")(x)\n",
        "    x = BatchNormalization()(x)\n",
        "    x = Dropout(0.5)(x)\n",
        "    x = Dense(3)(x)\n",
        "    x = Activation(\"softmax\", name=\"color_output\")(x)\n",
        "    # return the color prediction sub-network\n",
        "    return x\n",
        "\n",
        "inputs = Input(shape=(28, 28, 3))\n",
        "categoryBranch = build_category_branch(inputs)\n",
        "colorBranch = build_color_branch(inputs)\n",
        "model = Model(inputs=inputs, outputs=[categoryBranch, colorBranch], name=\"num-color-tegorizer\")\n",
        "losses = {\n",
        "    \"category_output\": \"categorical_crossentropy\",\n",
        "    \"color_output\": \"categorical_crossentropy\",\n",
        "}\n",
        "lossWeights = {\"category_output\": 1.0, \"color_output\": 1.0}\n",
        "opt = keras.optimizers.Adam(lr=1e-3, decay=1e-3 / 5)\n",
        "model.compile(optimizer=opt, loss=losses, loss_weights=lossWeights, metrics=[\"accuracy\"])\n",
        "model.summary()\n",
        "\n",
        "H = model.fit(x=X_train, y={\"category_output\": Y_train, \"color_output\": Y_train_color}, \n",
        "              validation_data=(X_test, {\"category_output\": Y_test, \"color_output\": Y_test_color}),\n",
        "              epochs=5, verbose=1)\n",
        "print(H)\n",
        "# save to model.keras as h5\n",
        "model.save(\"model.keras\", save_format=\"h5\")\n",
        "\n"
      ],
      "execution_count": 8,
      "outputs": [
        {
          "output_type": "stream",
          "text": [
            "Model: \"num-color-tegorizer\"\n",
            "__________________________________________________________________________________________________\n",
            "Layer (type)                    Output Shape         Param #     Connected to                     \n",
            "==================================================================================================\n",
            "input_1 (InputLayer)            [(None, 28, 28, 3)]  0                                            \n",
            "__________________________________________________________________________________________________\n",
            "lambda (Lambda)                 (None, 28, 28, 1)    0           input_1[0][0]                    \n",
            "__________________________________________________________________________________________________\n",
            "conv2d (Conv2D)                 (None, 28, 28, 32)   320         lambda[0][0]                     \n",
            "__________________________________________________________________________________________________\n",
            "conv2d_5 (Conv2D)               (None, 28, 28, 16)   448         input_1[0][0]                    \n",
            "__________________________________________________________________________________________________\n",
            "batch_normalization (BatchNorma (None, 28, 28, 32)   128         conv2d[0][0]                     \n",
            "__________________________________________________________________________________________________\n",
            "activation (Activation)         (None, 28, 28, 16)   0           conv2d_5[0][0]                   \n",
            "__________________________________________________________________________________________________\n",
            "max_pooling2d (MaxPooling2D)    (None, 9, 9, 32)     0           batch_normalization[0][0]        \n",
            "__________________________________________________________________________________________________\n",
            "batch_normalization_6 (BatchNor (None, 28, 28, 16)   64          activation[0][0]                 \n",
            "__________________________________________________________________________________________________\n",
            "dropout (Dropout)               (None, 9, 9, 32)     0           max_pooling2d[0][0]              \n",
            "__________________________________________________________________________________________________\n",
            "max_pooling2d_3 (MaxPooling2D)  (None, 9, 9, 16)     0           batch_normalization_6[0][0]      \n",
            "__________________________________________________________________________________________________\n",
            "conv2d_1 (Conv2D)               (None, 9, 9, 64)     18496       dropout[0][0]                    \n",
            "__________________________________________________________________________________________________\n",
            "dropout_4 (Dropout)             (None, 9, 9, 16)     0           max_pooling2d_3[0][0]            \n",
            "__________________________________________________________________________________________________\n",
            "batch_normalization_1 (BatchNor (None, 9, 9, 64)     256         conv2d_1[0][0]                   \n",
            "__________________________________________________________________________________________________\n",
            "conv2d_6 (Conv2D)               (None, 9, 9, 32)     4640        dropout_4[0][0]                  \n",
            "__________________________________________________________________________________________________\n",
            "conv2d_2 (Conv2D)               (None, 9, 9, 64)     36928       batch_normalization_1[0][0]      \n",
            "__________________________________________________________________________________________________\n",
            "activation_1 (Activation)       (None, 9, 9, 32)     0           conv2d_6[0][0]                   \n",
            "__________________________________________________________________________________________________\n",
            "batch_normalization_2 (BatchNor (None, 9, 9, 64)     256         conv2d_2[0][0]                   \n",
            "__________________________________________________________________________________________________\n",
            "batch_normalization_7 (BatchNor (None, 9, 9, 32)     128         activation_1[0][0]               \n",
            "__________________________________________________________________________________________________\n",
            "max_pooling2d_1 (MaxPooling2D)  (None, 4, 4, 64)     0           batch_normalization_2[0][0]      \n",
            "__________________________________________________________________________________________________\n",
            "max_pooling2d_4 (MaxPooling2D)  (None, 4, 4, 32)     0           batch_normalization_7[0][0]      \n",
            "__________________________________________________________________________________________________\n",
            "dropout_1 (Dropout)             (None, 4, 4, 64)     0           max_pooling2d_1[0][0]            \n",
            "__________________________________________________________________________________________________\n",
            "dropout_5 (Dropout)             (None, 4, 4, 32)     0           max_pooling2d_4[0][0]            \n",
            "__________________________________________________________________________________________________\n",
            "conv2d_3 (Conv2D)               (None, 4, 4, 128)    73856       dropout_1[0][0]                  \n",
            "__________________________________________________________________________________________________\n",
            "conv2d_7 (Conv2D)               (None, 4, 4, 32)     9248        dropout_5[0][0]                  \n",
            "__________________________________________________________________________________________________\n",
            "batch_normalization_3 (BatchNor (None, 4, 4, 128)    512         conv2d_3[0][0]                   \n",
            "__________________________________________________________________________________________________\n",
            "activation_2 (Activation)       (None, 4, 4, 32)     0           conv2d_7[0][0]                   \n",
            "__________________________________________________________________________________________________\n",
            "conv2d_4 (Conv2D)               (None, 4, 4, 128)    147584      batch_normalization_3[0][0]      \n",
            "__________________________________________________________________________________________________\n",
            "batch_normalization_8 (BatchNor (None, 4, 4, 32)     128         activation_2[0][0]               \n",
            "__________________________________________________________________________________________________\n",
            "batch_normalization_4 (BatchNor (None, 4, 4, 128)    512         conv2d_4[0][0]                   \n",
            "__________________________________________________________________________________________________\n",
            "max_pooling2d_5 (MaxPooling2D)  (None, 2, 2, 32)     0           batch_normalization_8[0][0]      \n",
            "__________________________________________________________________________________________________\n",
            "max_pooling2d_2 (MaxPooling2D)  (None, 2, 2, 128)    0           batch_normalization_4[0][0]      \n",
            "__________________________________________________________________________________________________\n",
            "dropout_6 (Dropout)             (None, 2, 2, 32)     0           max_pooling2d_5[0][0]            \n",
            "__________________________________________________________________________________________________\n",
            "dropout_2 (Dropout)             (None, 2, 2, 128)    0           max_pooling2d_2[0][0]            \n",
            "__________________________________________________________________________________________________\n",
            "flatten_1 (Flatten)             (None, 128)          0           dropout_6[0][0]                  \n",
            "__________________________________________________________________________________________________\n",
            "flatten (Flatten)               (None, 512)          0           dropout_2[0][0]                  \n",
            "__________________________________________________________________________________________________\n",
            "dense_2 (Dense)                 (None, 128)          16512       flatten_1[0][0]                  \n",
            "__________________________________________________________________________________________________\n",
            "dense (Dense)                   (None, 256)          131328      flatten[0][0]                    \n",
            "__________________________________________________________________________________________________\n",
            "activation_3 (Activation)       (None, 128)          0           dense_2[0][0]                    \n",
            "__________________________________________________________________________________________________\n",
            "batch_normalization_5 (BatchNor (None, 256)          1024        dense[0][0]                      \n",
            "__________________________________________________________________________________________________\n",
            "batch_normalization_9 (BatchNor (None, 128)          512         activation_3[0][0]               \n",
            "__________________________________________________________________________________________________\n",
            "dropout_3 (Dropout)             (None, 256)          0           batch_normalization_5[0][0]      \n",
            "__________________________________________________________________________________________________\n",
            "dropout_7 (Dropout)             (None, 128)          0           batch_normalization_9[0][0]      \n",
            "__________________________________________________________________________________________________\n",
            "dense_1 (Dense)                 (None, 10)           2570        dropout_3[0][0]                  \n",
            "__________________________________________________________________________________________________\n",
            "dense_3 (Dense)                 (None, 3)            387         dropout_7[0][0]                  \n",
            "__________________________________________________________________________________________________\n",
            "category_output (Activation)    (None, 10)           0           dense_1[0][0]                    \n",
            "__________________________________________________________________________________________________\n",
            "color_output (Activation)       (None, 3)            0           dense_3[0][0]                    \n",
            "==================================================================================================\n",
            "Total params: 445,837\n",
            "Trainable params: 444,077\n",
            "Non-trainable params: 1,760\n",
            "__________________________________________________________________________________________________\n",
            "Epoch 1/5\n",
            "1875/1875 [==============================] - 16s 8ms/step - loss: 0.2893 - category_output_loss: 0.2771 - color_output_loss: 0.0122 - category_output_accuracy: 0.9144 - color_output_accuracy: 0.9961 - val_loss: 0.0516 - val_category_output_loss: 0.0516 - val_color_output_loss: 1.9064e-05 - val_category_output_accuracy: 0.9824 - val_color_output_accuracy: 1.0000\n",
            "Epoch 2/5\n",
            "1875/1875 [==============================] - 15s 8ms/step - loss: 0.0916 - category_output_loss: 0.0914 - color_output_loss: 2.5220e-04 - category_output_accuracy: 0.9725 - color_output_accuracy: 0.9999 - val_loss: 0.0303 - val_category_output_loss: 0.0303 - val_color_output_loss: 5.3544e-06 - val_category_output_accuracy: 0.9899 - val_color_output_accuracy: 1.0000\n",
            "Epoch 3/5\n",
            "1875/1875 [==============================] - 15s 8ms/step - loss: 0.0645 - category_output_loss: 0.0644 - color_output_loss: 1.0198e-04 - category_output_accuracy: 0.9804 - color_output_accuracy: 1.0000 - val_loss: 0.0304 - val_category_output_loss: 0.0304 - val_color_output_loss: 5.8551e-07 - val_category_output_accuracy: 0.9899 - val_color_output_accuracy: 1.0000\n",
            "Epoch 4/5\n",
            "1875/1875 [==============================] - 15s 8ms/step - loss: 0.0525 - category_output_loss: 0.0525 - color_output_loss: 4.6677e-05 - category_output_accuracy: 0.9841 - color_output_accuracy: 1.0000 - val_loss: 0.0323 - val_category_output_loss: 0.0323 - val_color_output_loss: 3.7471e-06 - val_category_output_accuracy: 0.9889 - val_color_output_accuracy: 1.0000\n",
            "Epoch 5/5\n",
            "1875/1875 [==============================] - 14s 8ms/step - loss: 0.0412 - category_output_loss: 0.0412 - color_output_loss: 2.3076e-05 - category_output_accuracy: 0.9873 - color_output_accuracy: 1.0000 - val_loss: 0.0228 - val_category_output_loss: 0.0228 - val_color_output_loss: 4.3225e-08 - val_category_output_accuracy: 0.9925 - val_color_output_accuracy: 1.0000\n",
            "<tensorflow.python.keras.callbacks.History object at 0x7f09b01ba470>\n"
          ],
          "name": "stdout"
        }
      ]
    },
    {
      "cell_type": "markdown",
      "metadata": {
        "id": "tNlEXb6zV270",
        "colab_type": "text"
      },
      "source": [
        "### Run model training and save to \"test\" folder"
      ]
    },
    {
      "cell_type": "code",
      "metadata": {
        "id": "enliKSuXV3Q1",
        "colab_type": "code",
        "colab": {
          "base_uri": "https://localhost:8080/",
          "height": 196
        },
        "outputId": "1342c3ec-2f08-4adf-872a-fba6820d8530"
      },
      "source": [
        "# loss_fn = keras.losses.categorical_crossentropy\n",
        "# optimizer = keras.optimizers.Adam()\n",
        "# metrics = [keras.metrics.Accuracy()]\n",
        "# model.compile(loss=loss_fn, optimizer=optimizer, metrics=metrics)\n",
        "# print(process.memory_info().rss)  # print(process.memory_info()[0]) # bytes\n",
        "model.compile(loss='categorical_crossentropy', optimizer='Adam', metrics=['accuracy'])\n",
        "history = model.fit(X_train, Y_train, epochs=5, verbose=1)\n",
        "model.save(\"model.keras\", save_format=\"h5\")"
      ],
      "execution_count": 10,
      "outputs": [
        {
          "output_type": "stream",
          "text": [
            "Epoch 1/5\n",
            "1875/1875 [==============================] - 7s 4ms/step - loss: 0.0246 - accuracy: 0.9922\n",
            "Epoch 2/5\n",
            "1875/1875 [==============================] - 7s 4ms/step - loss: 0.0176 - accuracy: 0.9943\n",
            "Epoch 3/5\n",
            "1875/1875 [==============================] - 7s 4ms/step - loss: 0.0136 - accuracy: 0.9957\n",
            "Epoch 4/5\n",
            "1875/1875 [==============================] - 7s 4ms/step - loss: 0.0112 - accuracy: 0.9967\n",
            "Epoch 5/5\n",
            "1875/1875 [==============================] - 7s 4ms/step - loss: 0.0101 - accuracy: 0.9968\n"
          ],
          "name": "stdout"
        }
      ]
    },
    {
      "cell_type": "markdown",
      "metadata": {
        "id": "uonpkfDIV40T",
        "colab_type": "text"
      },
      "source": [
        "### Load and show score of \"test\" model"
      ]
    },
    {
      "cell_type": "code",
      "metadata": {
        "id": "pk7IKSMwLn5M",
        "colab_type": "code",
        "colab": {
          "base_uri": "https://localhost:8080/",
          "height": 647
        },
        "outputId": "f35eecf0-04cf-43f3-f43b-6991f3fb38d8"
      },
      "source": [
        "model = tf.keras.models.load_model(\"model.keras\")\n",
        "score = model.evaluate(X_test, {\"category_output\": Y_test, \"color_output\": Y_test_color}, verbose=1)\n",
        "print(score)\n",
        "\n",
        "print(H.history.keys())\n",
        "plt.plot(H.history['loss'])\n",
        "plt.plot(H.history['val_loss'])\n",
        "plt.title('model')\n",
        "plt.ylabel('loss')\n",
        "plt.xlabel('epoch')\n",
        "plt.legend(['train','test'],loc='upper left')\n",
        "plt.show()\n",
        "plt.plot(H.history['category_output_accuracy'])\n",
        "plt.plot(H.history['color_output_accuracy'])\n",
        "plt.title('model')\n",
        "plt.ylabel('accuracy')\n",
        "plt.xlabel('epoch')\n",
        "plt.legend(['number','color'],loc='upper left')\n",
        "plt.show()\n"
      ],
      "execution_count": 13,
      "outputs": [
        {
          "output_type": "stream",
          "text": [
            "313/313 [==============================] - 1s 4ms/step - loss: 0.0228 - category_output_loss: 0.0228 - color_output_loss: 4.3225e-08 - category_output_accuracy: 0.9925 - color_output_accuracy: 1.0000\n",
            "[0.022760767489671707, 0.022760719060897827, 4.322522428878983e-08, 0.9925000071525574, 1.0]\n",
            "dict_keys(['loss', 'category_output_loss', 'color_output_loss', 'category_output_accuracy', 'color_output_accuracy', 'val_loss', 'val_category_output_loss', 'val_color_output_loss', 'val_category_output_accuracy', 'val_color_output_accuracy'])\n"
          ],
          "name": "stdout"
        },
        {
          "output_type": "display_data",
          "data": {
            "image/png": "[encoded data removed]",
            "text/plain": [
              "<Figure size 432x288 with 1 Axes>"
            ]
          },
          "metadata": {
            "tags": [],
            "needs_background": "light"
          }
        },
        {
          "output_type": "display_data",
          "data": {
            "image/png": "[encoded data removed]",
            "text/plain": [
              "<Figure size 432x288 with 1 Axes>"
            ]
          },
          "metadata": {
            "tags": [],
            "needs_background": "light"
          }
        }
      ]
    },
    {
      "cell_type": "markdown",
      "metadata": {
        "id": "ZEWO2aAqV8FQ",
        "colab_type": "text"
      },
      "source": [
        "### Loop through the test list and show comparison of image and value guessed"
      ]
    },
    {
      "cell_type": "code",
      "metadata": {
        "id": "NtXNDpwDV9Z7",
        "colab_type": "code",
        "colab": {
          "base_uri": "https://localhost:8080/",
          "height": 491
        },
        "outputId": "c013ee61-1a14-404b-93f7-9f4e60f5cfb3"
      },
      "source": [
        "predictions = model.predict(X_test)\n",
        "good_list = tuple(zip(X_test, predictions[0], predictions[1]))\n",
        "for (test, prediction, color) in good_list:\n",
        "    clear_output(wait=True)\n",
        "    print(np.argmax(prediction))\n",
        "    col = np.argmax(color)\n",
        "    if col == 0:\n",
        "        print(\"red\")\n",
        "    if col == 1:\n",
        "        print(\"blue\")\n",
        "    if col == 2:\n",
        "        print(\"green\")\n",
        "    test = np.reshape(test,(28,28,3))\n",
        "    plt.imshow(test)\n",
        "    plt.show()\n",
        "    time.sleep(1.5)"
      ],
      "execution_count": 14,
      "outputs": [
        {
          "output_type": "stream",
          "text": [
            "2\n",
            "red\n"
          ],
          "name": "stdout"
        },
        {
          "output_type": "display_data",
          "data": {
            "image/png": "[encoded data removed]",
            "text/plain": [
              "<Figure size 432x288 with 1 Axes>"
            ]
          },
          "metadata": {
            "tags": [],
            "needs_background": "light"
          }
        },
        {
          "output_type": "error",
          "ename": "KeyboardInterrupt",
          "evalue": "ignored",
          "traceback": [
            "\u001b[0;31m---------------------------------------------------------------------------\u001b[0m",
            "\u001b[0;31mKeyboardInterrupt\u001b[0m                         Traceback (most recent call last)",
            "\u001b[0;32m<ipython-input-14-71fb507022b5>\u001b[0m in \u001b[0;36m<module>\u001b[0;34m()\u001b[0m\n\u001b[1;32m     14\u001b[0m     \u001b[0mplt\u001b[0m\u001b[0;34m.\u001b[0m\u001b[0mimshow\u001b[0m\u001b[0;34m(\u001b[0m\u001b[0mtest\u001b[0m\u001b[0;34m)\u001b[0m\u001b[0;34m\u001b[0m\u001b[0;34m\u001b[0m\u001b[0m\n\u001b[1;32m     15\u001b[0m     \u001b[0mplt\u001b[0m\u001b[0;34m.\u001b[0m\u001b[0mshow\u001b[0m\u001b[0;34m(\u001b[0m\u001b[0;34m)\u001b[0m\u001b[0;34m\u001b[0m\u001b[0;34m\u001b[0m\u001b[0m\n\u001b[0;32m---> 16\u001b[0;31m     \u001b[0mtime\u001b[0m\u001b[0;34m.\u001b[0m\u001b[0msleep\u001b[0m\u001b[0;34m(\u001b[0m\u001b[0;36m1.5\u001b[0m\u001b[0;34m)\u001b[0m\u001b[0;34m\u001b[0m\u001b[0;34m\u001b[0m\u001b[0m\n\u001b[0m",
            "\u001b[0;31mKeyboardInterrupt\u001b[0m: "
          ]
        }
      ]
    },
    {
      "cell_type": "markdown",
      "metadata": {
        "id": "expz4F8dV-8g",
        "colab_type": "text"
      },
      "source": [
        "# Just for Randomizing image color"
      ]
    },
    {
      "cell_type": "code",
      "metadata": {
        "id": "pq56EVlhWCO2",
        "colab_type": "code",
        "colab": {
          "base_uri": "https://localhost:8080/",
          "height": 88
        },
        "outputId": "0750ee66-2484-445a-a7e4-c638a3fade78"
      },
      "source": [
        "# colorize images\n",
        "\n",
        "random.seed()\n",
        "\n",
        "def apply_mask(img, mask):\n",
        "    for i, col in enumerate(img[:]):\n",
        "        for j, pixel in enumerate(col[:]):\n",
        "            if pixel[0] != 0.0:\n",
        "                img[i,j] = [pixel[0]*mask[0], pixel[1]*mask[1], pixel[2]*mask[2]]\n",
        "    return img\n",
        "\n",
        "! mkdir images\n",
        "! mkdir images/train\n",
        "! mkdir images/test\n",
        "\n",
        "# returns randomized color images and its solution\n",
        "def randomize_colors(data, data_sol, data_type):\n",
        "    data = data / 255.\n",
        "    data = np.expand_dims(data,3)\n",
        "    randomized_data = np.zeros([len(data), 28, 28, 3])\n",
        "    solution = np.zeros([len(data), len(colors)])\n",
        "    for i, img in enumerate(data):\n",
        "        img = np.concatenate((data[i], np.expand_dims(data[i][:,:,0], 2)), axis=2)\n",
        "        randomized_data[i] = np.concatenate((img, np.expand_dims(data[i][:,:,0], 2)), axis=2)\n",
        "        rand = random.randint(0,len(colors)-1)\n",
        "        randomized_data[i] = apply_mask(randomized_data[i], colors[rand])\n",
        "        solution[i,rand] = 1.\n",
        "        name = \"images/{}/image{:05d}\".format(data_type,i)\n",
        "        np.save(name,np.array((randomized_data[i], data_sol[i], solution[i]), dtype=object))\n",
        "        keras.preprocessing.image.save_img(name+\".png\",randomized_data[i])\n",
        "        if i % 1000 == 0:\n",
        "            print(\"\\r{:3.2f}% {} \".format((i/len(data))*100,getMemUse()), end='')\n",
        "    print(\"\\r100% {} \".format(getMemUse()))\n",
        "    return (randomized_data, solution)\n",
        "\n",
        "(X_train, Y_train), (X_test, Y_test) = keras.datasets.mnist.load_data()\n",
        "Y_train = keras.utils.to_categorical(Y_train, 10)\n",
        "Y_test = keras.utils.to_categorical(Y_test, 10)\n",
        "X_train, Y_train_color = randomize_colors(X_train,Y_train,\"train\")\n",
        "X_test, Y_test_color = randomize_colors(X_test,Y_test,\"test\")"
      ],
      "execution_count": 6,
      "outputs": [
        {
          "output_type": "stream",
          "text": [
            "Downloading data from https://storage.googleapis.com/tensorflow/tf-keras-datasets/mnist.npz\n",
            "11493376/11490434 [==============================] - 0s 0us/step\n",
            "100%  mem use: 2.79257MB  \n",
            "100%  mem use: 2.79260MB  \n"
          ],
          "name": "stdout"
        }
      ]
    },
    {
      "cell_type": "code",
      "metadata": {
        "id": "83NYLA8PWl5s",
        "colab_type": "code",
        "colab": {}
      },
      "source": [
        ""
      ],
      "execution_count": null,
      "outputs": []
    }
  ]
}