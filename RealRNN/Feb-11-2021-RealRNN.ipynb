{
  "nbformat": 4,
  "nbformat_minor": 0,
  "metadata": {
    "colab": {
      "name": "CopyOfRNN.ipynb",
      "provenance": [],
      "collapsed_sections": [
        "DBknRRcl6LMm",
        "Ie8Rhqf765N5"
      ],
      "toc_visible": true
    },
    "kernelspec": {
      "name": "python3",
      "display_name": "Python 3"
    },
    "accelerator": "GPU"
  },
  "cells": [
    {
      "cell_type": "markdown",
      "metadata": {
        "id": "Te6rdZgT5yAW"
      },
      "source": [
        "# Copy of Previous RNN"
      ]
    },
    {
      "cell_type": "markdown",
      "metadata": {
        "id": "fdsGeayZ523e"
      },
      "source": [
        "### Reminders:\n",
        "\n",
        "Read up on some of these:\n",
        "- https://machinelearningmastery.com/stateful-stateless-lstm-time-series-forecasting-python/\n",
        "- https://fairyonice.github.io/Stateful-LSTM-model-training-in-Keras.html \n",
        "- https://github.com/keras-team/keras/issues/5714\n",
        "- https://machinelearningmastery.com/use-different-batch-sizes-training-predicting-python-keras/\n",
        "\n",
        "###Shuffle Data!!!!!\n",
        "\n"
      ]
    },
    {
      "cell_type": "code",
      "metadata": {
        "id": "ro1oh9-25xM9",
        "colab": {
          "base_uri": "https://localhost:8080/"
        },
        "outputId": "bed81e58-ca45-4411-a37b-70bf52199f2d"
      },
      "source": [
        "from google.colab import drive\n",
        "drive.mount('/content/drive')"
      ],
      "execution_count": 1,
      "outputs": [
        {
          "output_type": "stream",
          "text": [
            "Mounted at /content/drive\n"
          ],
          "name": "stdout"
        }
      ]
    },
    {
      "cell_type": "markdown",
      "metadata": {
        "id": "l7yOaxkJ58hh"
      },
      "source": [
        "# Pre-processing"
      ]
    },
    {
      "cell_type": "markdown",
      "metadata": {
        "id": "o5Lupm0J6Hre"
      },
      "source": [
        "## Do Basic Imports"
      ]
    },
    {
      "cell_type": "code",
      "metadata": {
        "id": "gE8NHB9v6IDc"
      },
      "source": [
        "import numpy as np\n",
        "from tensorflow import keras\n",
        "import tensorflow as tf\n",
        "import pandas\n",
        "from matplotlib import pyplot as plt\n",
        "from math import isnan\n",
        "from scipy.stats import norm\n",
        "\n",
        "pandas.set_option('display.max_columns', None)\n",
        "np.set_printoptions(suppress=True, precision=3)"
      ],
      "execution_count": 2,
      "outputs": []
    },
    {
      "cell_type": "markdown",
      "metadata": {
        "id": "Yhg_bSj36CSt"
      },
      "source": [
        "## Obtain data"
      ]
    },
    {
      "cell_type": "code",
      "metadata": {
        "id": "1LMf25vB5_vs"
      },
      "source": [
        "# read data from drive\n",
        "csv_train = pandas.read_csv(\"drive/MyDrive/first_10k.csv\")\n",
        "unparsed_train = np.array(csv_train)"
      ],
      "execution_count": 3,
      "outputs": []
    },
    {
      "cell_type": "markdown",
      "metadata": {
        "id": "DBknRRcl6LMm"
      },
      "source": [
        "## Parse Data"
      ]
    },
    {
      "cell_type": "markdown",
      "metadata": {
        "id": "rzjvgYAH0oTD"
      },
      "source": [
        "The data is a 403 value array with the following splits:\n",
        "\n"
      ]
    },
    {
      "cell_type": "code",
      "metadata": {
        "colab": {
          "base_uri": "https://localhost:8080/"
        },
        "id": "-5zeu3jZDGM0",
        "outputId": "4e7836cb-472e-41c3-dabf-f48b4e63e246"
      },
      "source": [
        "print(csv_train.keys()[0:6])  # labels\n",
        "print(csv_train.keys()[6:31]) # cov\n",
        "print(csv_train.keys()[31:56])# invcov\n",
        "print(csv_train.keys()[56:59])# fit\n",
        "print(csv_train.keys()[59:67])# timers\n",
        "# print(csv_train.keys()[67:81])# hit1\n",
        "print(csv_train.keys()[67:69])# hit1\n",
        "print(csv_train.keys()[73:81],\"\\n\")# hit1\n",
        "print(csv_train.keys()[67:])  # hit\n",
        "print(unparsed_train.shape)"
      ],
      "execution_count": null,
      "outputs": [
        {
          "output_type": "stream",
          "text": [
            "Index(['event', 'q_over_pt', 'phi', 'tanl', 'D', 'z'], dtype='object')\n",
            "Index(['cov_00', 'cov_01', 'cov_02', 'cov_03', 'cov_04', 'cov_10', 'cov_11',\n",
            "       'cov_12', 'cov_13', 'cov_14', 'cov_20', 'cov_21', 'cov_22', 'cov_23',\n",
            "       'cov_24', 'cov_30', 'cov_31', 'cov_32', 'cov_33', 'cov_34', 'cov_40',\n",
            "       'cov_41', 'cov_42', 'cov_43', 'cov_44'],\n",
            "      dtype='object')\n",
            "Index(['invcov_00', 'invcov_01', 'invcov_02', 'invcov_03', 'invcov_04',\n",
            "       'invcov_10', 'invcov_11', 'invcov_12', 'invcov_13', 'invcov_14',\n",
            "       'invcov_20', 'invcov_21', 'invcov_22', 'invcov_23', 'invcov_24',\n",
            "       'invcov_30', 'invcov_31', 'invcov_32', 'invcov_33', 'invcov_34',\n",
            "       'invcov_40', 'invcov_41', 'invcov_42', 'invcov_43', 'invcov_44'],\n",
            "      dtype='object')\n",
            "Index(['chisq', 'Ndof', 'rms'], dtype='object')\n",
            "Index(['t_start_cntr', 't_start_cntr_valid', 't_tof', 't_tof_valid', 't_bcal',\n",
            "       't_bcal_valid', 't_fcal', 't_fcal_valid'],\n",
            "      dtype='object')\n",
            "\n",
            "\n",
            "Index(['hit1_u', 'hit1_v'], dtype='object')\n",
            "Index(['hit1_s', 'hit1_ds', 'hit1_wire', 'hit1_glayer', 'hit1_z', 'hit1_time',\n",
            "       'hit1_dE_amp', 'hit1_q'],\n",
            "      dtype='object') \n",
            "\n",
            "Index(['hit1_u', 'hit1_v', 'hit1_sinv', 'hit1_cosv', 'hit1_sinu', 'hit1_cosu',\n",
            "       'hit1_s', 'hit1_ds', 'hit1_wire', 'hit1_glayer',\n",
            "       ...\n",
            "       'hit24_sinu', 'hit24_cosu', 'hit24_s', 'hit24_ds', 'hit24_wire',\n",
            "       'hit24_glayer', 'hit24_z', 'hit24_time', 'hit24_dE_amp', 'hit24_q'],\n",
            "      dtype='object', length=336)\n",
            "(10000, 403)\n"
          ],
          "name": "stdout"
        }
      ]
    },
    {
      "cell_type": "markdown",
      "metadata": {
        "id": "KtCiBud4XMfC"
      },
      "source": [
        "### Normalize"
      ]
    },
    {
      "cell_type": "markdown",
      "metadata": {
        "id": "3jZ4O3AxXELw"
      },
      "source": [
        "#### Absolute Normalizer\n",
        "\n",
        "Find the smallest and largest values in training sample data (67,403) and store them for later use"
      ]
    },
    {
      "cell_type": "code",
      "metadata": {
        "id": "EXWGAuNcbMA0"
      },
      "source": [
        "max = -1000\n",
        "min = 1000\n",
        "for event in unparsed_train:\n",
        "  norm_data = []\n",
        "  for i in range(67,403):\n",
        "    if event[i] > max:\n",
        "      max = event[i]\n",
        "    if event[i] < min:\n",
        "      min = event[i]"
      ],
      "execution_count": null,
      "outputs": []
    },
    {
      "cell_type": "markdown",
      "metadata": {
        "id": "ZSRV0DM4XH0k"
      },
      "source": [
        "#### Variable Normalizer\n",
        "\n",
        "Find smallest and largest value for each of the 14 variables in train hit data and store them for later use"
      ]
    },
    {
      "cell_type": "code",
      "metadata": {
        "colab": {
          "base_uri": "https://localhost:8080/"
        },
        "id": "63AifPc8KntT",
        "outputId": "3f41e7f4-a13f-4663-9955-28e905eb0a51"
      },
      "source": [
        "_max = [-1000 for i in range(10)]\n",
        "_min = [1000 for i in range(10)]\n",
        "for index,event in enumerate(unparsed_train):\n",
        "  lower = 67\n",
        "  for upper in range(lower+14, event.shape[0]+1, 14):\n",
        "    d = event[lower:upper]\n",
        "    d = np.append(d[:2],d[6:])\n",
        "    for a in range(len(d)):\n",
        "      if d[a] > _max[a]:\n",
        "        _max[a] = d[a]\n",
        "      if d[a] < _min[a]:\n",
        "        _min[a] = d[a]\n",
        "    lower = upper\n",
        "print(_max)\n",
        "print(_min)"
      ],
      "execution_count": null,
      "outputs": [
        {
          "output_type": "stream",
          "text": [
            "[47.588573718740314, 47.716949659038654, 47.920741252343745, 0.04333333333333333, 96.0, 24.0, 343.5052137331197, 274.8641357421875, 3.24600255369344e-07, 137.76808719278492]\n",
            "[-47.69482374702719, -47.64816097490715, -47.78196688638672, 0.010072585750472143, 1.0, 1.0, 176.8656847042481, -77.76896667480467, 7.068405941829982e-10, 0.3]\n"
          ],
          "name": "stdout"
        }
      ]
    },
    {
      "cell_type": "markdown",
      "metadata": {
        "id": "BGX_cUUwkVFa"
      },
      "source": [
        "### Whole data parser\n",
        "\n",
        "Take the data input and convert it into python list of numpy ndarrays of shape: (1,hits,14)\n",
        "\n",
        "It will normalize each of the 14 variables seperately using the \"Variable Normalizer\" from above.\n"
      ]
    },
    {
      "cell_type": "code",
      "metadata": {
        "id": "4DfVVuFT6Ld8"
      },
      "source": [
        "def parser(unparsed):\n",
        "  global _min, _max\n",
        "  x_final = []\n",
        "  y_final = []\n",
        "  other_final = []\n",
        "  for event in unparsed:\n",
        "    x = []\n",
        "    y = []\n",
        "    other = []\n",
        "\n",
        "    nEvent = event[0]\n",
        "    state = event[1:6]\n",
        "    coVar = event[6:31]\n",
        "    invCoVar = event[31:56]\n",
        "    goodnessOfFit = event[56:59]\n",
        "    TOF = event[59:67]\n",
        "\n",
        "\n",
        "    if goodnessOfFit[2] > 0.1:\n",
        "      continue\n",
        "\n",
        "    other = np.append(TOF, invCoVar)\n",
        "\n",
        "\n",
        "    hits = []\n",
        "\n",
        "    lower = 67\n",
        "    for upper in range(lower+14, event.shape[0]+1, 14): # to flip just go from end to 67 by -14 steps?\n",
        "      hasNAN = False\n",
        "      for val in event[lower:upper]:\n",
        "        if isnan(val):\n",
        "          hasNAN = True\n",
        "      if not hasNAN:\n",
        "        hit_data = event[lower:upper]\n",
        "        hit_data = np.append(hit_data[:2],hit_data[6:])\n",
        "        # --== Using absolute normalizer ==--\n",
        "        # hit_data = (hit_data - min) / (max - min)\n",
        "        # hits.append(hit_data)\n",
        "        \n",
        "        for z in range(len(hit_data)):\n",
        "          hit_data[z] = (hit_data[z] - _min[z]) / (_max[z] - _min[z])\n",
        "        \n",
        "        # hit_data = np.append(hit_data,TOF)\n",
        "        # hit_data = np.append(hit_data)\n",
        "\n",
        "        hits.append(hit_data)\n",
        "      else:\n",
        "        hits.append([0 for z in range(10)])\n",
        "        # hits.append([0 for z in range(18)])\n",
        "      lower = upper\n",
        "    hits = np.array(hits)\n",
        "\n",
        "    for i in range(hits.shape[0]):\n",
        "      x.append(hits[i])\n",
        "      # y.append(hits[i+1])\n",
        "      # y.append(state)\n",
        "    y = state\n",
        "\n",
        "    # x = np.expand_dims(np.array(x),0)\n",
        "    # y = np.expand_dims(np.array(y),0)\n",
        "\n",
        "    x_final.append(x)\n",
        "    y_final.append(y)\n",
        "    other_final.append(other)\n",
        "\n",
        "  x_final = np.array(x_final)\n",
        "  y_final = np.array(y_final)\n",
        "  other_final = np.array(other_final)\n",
        "\n",
        "  return x_final, y_final, other_final"
      ],
      "execution_count": null,
      "outputs": []
    },
    {
      "cell_type": "code",
      "metadata": {
        "colab": {
          "base_uri": "https://localhost:8080/"
        },
        "id": "BQ9LQDGfky27",
        "outputId": "598db9ef-79d6-4663-bd42-5d1ebb0a6a8c"
      },
      "source": [
        "x_train, y_train, other_train = parser(unparsed_train)\n",
        "# print(len(x_train))\n",
        "# if len(x_train) >= 5:\n",
        "#   for i in range(5):\n",
        "#     print(x_train[i].shape)\n",
        "# else:\n",
        "#   for i in range(len(x_train)):\n",
        "#     print(x_train[i].shape)\n",
        "\n",
        "# print(x_train.shape)\n",
        "\n",
        "i = 0\n",
        "print(\"x_shape:\", x_train[i].shape)\n",
        "print(\"y_shape:\", y_train[i].shape)\n",
        "print(\"other s:\", other_train[i].shape)\n",
        "print(\"x:\\n\",x_train[i])\n",
        "print(\"y:\\n\",y_train[i])\n",
        "print(\"o:\\n\",other_train[i])"
      ],
      "execution_count": null,
      "outputs": [
        {
          "output_type": "stream",
          "text": [
            "x_shape: (24, 10)\n",
            "y_shape: (5,)\n",
            "other s: (33,)\n",
            "x:\n",
            " [[0.769 0.766 0.224 0.264 0.495 0.913 0.974 0.819 0.006 0.006]\n",
            " [0.693 0.569 0.365 0.06  0.263 0.87  0.961 0.286 0.033 0.033]\n",
            " [0.239 0.241 0.767 0.105 0.505 0.783 0.935 0.504 0.018 0.018]\n",
            " [0.338 0.448 0.61  0.074 0.716 0.739 0.768 0.336 0.027 0.027]\n",
            " [0.571 0.674 0.373 0.288 0.705 0.696 0.755 0.731 0.005 0.005]\n",
            " [0.733 0.724 0.264 0.041 0.484 0.652 0.742 0.543 0.048 0.048]\n",
            " [0.654 0.547 0.395 0.124 0.295 0.609 0.729 0.573 0.015 0.015]\n",
            " [0.428 0.327 0.626 0.043 0.305 0.565 0.716 0.302 0.047 0.047]\n",
            " [0.275 0.283 0.728 0.024 0.516 0.522 0.703 0.33  0.081 0.081]\n",
            " [0.393 0.476 0.567 0.083 0.663 0.478 0.416 0.502 0.023 0.023]\n",
            " [0.568 0.64  0.392 0.03  0.642 0.435 0.403 0.295 0.066 0.066]\n",
            " [0.676 0.661 0.325 0.056 0.474 0.391 0.39  0.457 0.035 0.035]\n",
            " [0.607 0.522 0.433 0.066 0.337 0.348 0.377 0.448 0.03  0.03 ]\n",
            " [0.332 0.345 0.666 0.023 0.526 0.261 0.351 0.427 0.085 0.085]\n",
            " [0.437 0.493 0.536 0.038 0.611 0.217 0.065 0.287 0.052 0.052]\n",
            " [0.615 0.601 0.388 0.045 0.474 0.13  0.039 0.495 0.045 0.045]\n",
            " [0.451 0.409 0.572 0.041 0.421 0.043 0.013 0.337 0.048 0.048]\n",
            " [0.393 0.405 0.604 0.032 0.526 0.    0.    0.65  0.061 0.061]\n",
            " [0.    0.    0.    0.    0.    0.    0.    0.    0.    0.   ]\n",
            " [0.    0.    0.    0.    0.    0.    0.    0.    0.    0.   ]\n",
            " [0.    0.    0.    0.    0.    0.    0.    0.    0.    0.   ]\n",
            " [0.    0.    0.    0.    0.    0.    0.    0.    0.    0.   ]\n",
            " [0.    0.    0.    0.    0.    0.    0.    0.    0.    0.   ]\n",
            " [0.    0.    0.    0.    0.    0.    0.    0.    0.    0.   ]]\n",
            "y:\n",
            " [-4.805 -1.959  9.798  0.297 77.505]\n",
            "o:\n",
            " [    0.        0.        9.21      1.        0.        0.        0.\n",
            "     0.      143.934  -584.752    71.106   -51.758     0.297  -584.752\n",
            " 31170.963  -196.156  3392.621   -41.964    71.106  -196.156   354.599\n",
            "   -67.525   -34.888   -51.758  3392.621   -67.525   399.795     1.239\n",
            "     0.297   -41.964   -34.888     1.239     4.102]\n"
          ],
          "name": "stdout"
        }
      ]
    },
    {
      "cell_type": "code",
      "metadata": {
        "id": "3muuDmEgtsz3"
      },
      "source": [
        "for i in range(100):\n",
        "  yy = y_train[i]\n",
        "  print(\"i:\",i,yy)"
      ],
      "execution_count": null,
      "outputs": []
    },
    {
      "cell_type": "markdown",
      "metadata": {
        "id": "AxV5Vpbluw0Q"
      },
      "source": [
        "### List parsing?"
      ]
    },
    {
      "cell_type": "code",
      "metadata": {
        "id": "1CxhVlB0uwqW"
      },
      "source": [
        "def list_parser(unparsed):\n",
        "  global _min, _max\n",
        "  x_final = []\n",
        "  y_final = []\n",
        "  other_final = []\n",
        "  for event in unparsed:\n",
        "    x = []\n",
        "    y = []\n",
        "    other = []\n",
        "\n",
        "    nEvent = event[0]\n",
        "    state = event[1:6]\n",
        "    coVar = event[6:31]\n",
        "    invCoVar = event[31:56]\n",
        "    goodnessOfFit = event[56:59]\n",
        "    TOF = event[59:67]\n",
        "\n",
        "\n",
        "    if goodnessOfFit[2] > 0.1:\n",
        "      continue\n",
        "\n",
        "    # other = np.append(TOF, invCoVar)\n",
        "    other = invCoVar[:]\n",
        "\n",
        "\n",
        "    hits = []\n",
        "\n",
        "    lower = 67\n",
        "    for upper in range(lower+14, event.shape[0]+1, 14): # to flip just go from end to 67 by -14 steps?\n",
        "      hasNAN = False\n",
        "      for val in event[lower:upper]:\n",
        "        if isnan(val):\n",
        "          hasNAN = True\n",
        "      if not hasNAN:\n",
        "        hit_data = event[lower:upper]\n",
        "        hit_data = np.append(hit_data[:2],hit_data[6:])\n",
        "        # --== Using absolute normalizer ==--\n",
        "        # hit_data = (hit_data - min) / (max - min)\n",
        "        # hits.append(hit_data)\n",
        "        for z in range(len(hit_data)):\n",
        "          hit_data[z] = (hit_data[z] - _min[z]) / (_max[z] - _min[z])\n",
        "        hits.append(hit_data)         # list of all hits in the event (hit,10)\n",
        "      # else:\n",
        "      #   hits.append([0 for z in range(10)])\n",
        "      lower = upper\n",
        "    hits = np.array(hits)   # hits is now an np.array shape (hit,10) with \"hit\" changing every event\n",
        "\n",
        "    for i in range(hits.shape[0]):\n",
        "      x.append(hits[i])                 # could just copy, but y may be needed?\n",
        "      # y.append(hits[i+1])\n",
        "      # y.append(state)\n",
        "    y = state                  # y is now np.array of (5,)\n",
        "\n",
        "    # x = np.expand_dims(np.array(x),0)  # x now (1, hit, 10)\n",
        "    # y = np.expand_dims(np.array(y),0)  # y now (1, 5)\n",
        "    # x = np.array(x).astype('float32')\n",
        "    # y = np.array(y).astype('float32')\n",
        "    x = np.array(x)\n",
        "    y = np.array(y)\n",
        "\n",
        "    x_final.append(x)\n",
        "    y_final.append(y)\n",
        "    other_final.append(other)\n",
        "\n",
        "  x_final = np.array(x_final,dtype=object)     # want x_final to be shape (event, hit, 10)\n",
        "  y_final = np.array(y_final,dtype=object)     # want y_final to be shape (event, 5)\n",
        "  # other_final = np.array(other_final)        # want other_f to be shape (event, 25)\n",
        "\n",
        "  return x_final, y_final, other_final"
      ],
      "execution_count": null,
      "outputs": []
    },
    {
      "cell_type": "code",
      "metadata": {
        "colab": {
          "base_uri": "https://localhost:8080/"
        },
        "id": "kRUpTfnEu67h",
        "outputId": "0612104c-b515-468a-bfd0-cec20d2d222b"
      },
      "source": [
        "x_train, y_train, oth_train = list_parser(unparsed_train)\n",
        "print(len(x_train))\n",
        "print(type(x_train))\n",
        "print(len(x_train[0]))\n",
        "print(type(x_train[0]))\n",
        "print(len(x_train[0][0]))\n",
        "print(type(x_train[0][0]))\n",
        "if len(x_train) >= 5:\n",
        "  for i in range(5):\n",
        "    print(x_train[i].shape)\n",
        "else:\n",
        "  for i in range(len(x_train)):\n",
        "    print(x_train[i].shape)\n",
        "# 1, 24, 10 would be the largest\n",
        "\n",
        "x_train = tf.ragged.constant(x_train)\n",
        "y_train = tf.ragged.constant(y_train)\n",
        "# print(x_raggedTensor)\n",
        "\n",
        "x_train = np.array(x_train,dtype=object)\n",
        "y_train = np.array(y_train,dtype=object)\n",
        "\n",
        "aax = x_train[0]\n",
        "aay = y_train[0]\n",
        "print(type(x_train))\n",
        "print(type(y_train))\n",
        "print(type(oth_train))\n",
        "print(\"first data:\")\n",
        "print(aax.shape)\n",
        "print(aay.shape)\n",
        "print(\"x: \",aax)\n",
        "print(\"y: \",aay)"
      ],
      "execution_count": null,
      "outputs": [
        {
          "output_type": "stream",
          "text": [
            "9301\n",
            "<class 'numpy.ndarray'>\n",
            "18\n",
            "<class 'numpy.ndarray'>\n",
            "10\n",
            "<class 'numpy.ndarray'>\n",
            "(18, 10)\n",
            "(21, 10)\n",
            "(17, 10)\n",
            "(20, 10)\n",
            "(21, 10)\n",
            "<class 'tensorflow.python.ops.ragged.ragged_tensor.RaggedTensor'>\n",
            "<class 'tensorflow.python.ops.ragged.ragged_tensor.RaggedTensor'>\n",
            "<class 'list'>\n",
            "first data:\n",
            "(18, None)\n",
            "(5,)\n",
            "x:  <tf.RaggedTensor [[0.7692640196597368, 0.7656061434791201, 0.22407018927649977, 0.2642020021171528, 0.49473684210526314, 0.9130434782608695, 0.9742011925282865, 0.8189674386978577, 0.006027945235375407, 0.006027945235375406], [0.6926482121090056, 0.5690751957357647, 0.3645309484715406, 0.05952612998302842, 0.2631578947368421, 0.8695652173913043, 0.9611853611213622, 0.2864930950508657, 0.0332599374371844, 0.0332599374371844], [0.2387550449911297, 0.24075621620053428, 0.767228079688474, 0.10457572204360073, 0.5052631578947369, 0.782608695652174, 0.9352953386873323, 0.5040214342062408, 0.0183040676061293, 0.018304067606129303], [0.33787239221846777, 0.4484703467662496, 0.6097946425343194, 0.07363839170018947, 0.7157894736842105, 0.7391304347826086, 0.7676599649189606, 0.3356281281962399, 0.02666318522013744, 0.02666318522013745], [0.571077005980619, 0.6744455851464201, 0.37305063910680347, 0.2882801841711805, 0.7052631578947368, 0.6956521739130435, 0.7548211719633284, 0.730982079183085, 0.005347346645835301, 0.005347346645835299], [0.7333151043267875, 0.7239073390136557, 0.26361377180730106, 0.04105576894894549, 0.4842105263157895, 0.6521739130434783, 0.7418310973036062, 0.5430606222898556, 0.048400090997179894, 0.048400090997179894], [0.654321937904323, 0.5472460157612252, 0.3954412841879387, 0.1239938516488669, 0.29473684210526313, 0.6086956521739131, 0.7289157952718806, 0.5731130066023332, 0.01515127416918657, 0.015151274169186572], [0.4282416912120033, 0.32723174852729975, 0.6255077412828313, 0.04272006245793674, 0.30526315789473685, 0.5652173913043478, 0.716091718314621, 0.3023133047568725, 0.0465252689343552, 0.046525268934355206], [0.2750035566593153, 0.28259046420816886, 0.7278001350563652, 0.024007416162418332, 0.5157894736842106, 0.5217391304347826, 0.7030814833733143, 0.33001995702064063, 0.08132698677587073, 0.08132698677587073], [0.3927527796796089, 0.47597991600589457, 0.5672175202970791, 0.08297774020669353, 0.6631578947368421, 0.4782608695652174, 0.4162442757320239, 0.5024588749114404, 0.02349975092507326, 0.023499750925073264], [0.567786456452167, 0.6398308133937011, 0.3921426402309617, 0.030097602965216883, 0.6421052631578947, 0.43478260869565216, 0.40303485432120845, 0.2945617475740002, 0.06557145869394736, 0.06557145869394734], [0.6758876502871672, 0.6613656975525217, 0.3252999804389994, 0.055981783586766184, 0.47368421052631576, 0.391304347826087, 0.39034583459775607, 0.45713284237761537, 0.03541968264363351, 0.035419682643633515], [0.6067799905911585, 0.5218054021100128, 0.433348679191327, 0.06648389427485188, 0.3368421052631579, 0.34782608695652173, 0.3770085295804537, 0.448062092854992, 0.029668667820935517, 0.029668667820935527], [0.33219148401081366, 0.3447727891986897, 0.6660985094256516, 0.022861686966938913, 0.5263157894736842, 0.2608695652173913, 0.35123490996953066, 0.4274588413764109, 0.08514742327647692, 0.08514742327647692], [0.43659855423286126, 0.49299495254753184, 0.5362541410036082, 0.03817495340879646, 0.6105263157894737, 0.21739130434782608, 0.06489392647518806, 0.28679841526864175, 0.05201080549624136, 0.05201080549624135], [0.6153600566498107, 0.6007119987977707, 0.3877481996290278, 0.04457264871107007, 0.47368421052631576, 0.13043478260869565, 0.03874856487161335, 0.4948866435948547, 0.04459531342784544, 0.044595313427845444], [0.4505679191119365, 0.40904944427465545, 0.5723205166331156, 0.041067822343909266, 0.42105263157894735, 0.043478260869565216, 0.012867040024243482, 0.3368328146365735, 0.048385994170317394, 0.048385994170317394], [0.3925012809741766, 0.4053120077998748, 0.6041624732254547, 0.03248749924479318, 0.5263157894736842, 0.0, 0.0001747890554092764, 0.6500389893398848, 0.06090098459076735, 0.06090098459076735]]>\n",
            "y:  tf.Tensor([-4.805 -1.959  9.798  0.297 77.505], shape=(5,), dtype=float32)\n"
          ],
          "name": "stdout"
        }
      ]
    },
    {
      "cell_type": "markdown",
      "metadata": {
        "id": "UdSEMTgPtTKF"
      },
      "source": [
        "### Ragged Array Parsing"
      ]
    },
    {
      "cell_type": "code",
      "metadata": {
        "id": "yfeuFuogtTBl"
      },
      "source": [
        "def list_parser(unparsed):\n",
        "  global _min, _max\n",
        "  x_final = []\n",
        "  y_final = []\n",
        "  other_final = []\n",
        "  for event in unparsed:\n",
        "    x = []\n",
        "    y = []\n",
        "    other = []\n",
        "\n",
        "    nEvent = event[0]\n",
        "    state = event[1:6]\n",
        "    coVar = event[6:31]\n",
        "    invCoVar = event[31:56]\n",
        "    goodnessOfFit = event[56:59]\n",
        "    TOF = event[59:67]\n",
        "\n",
        "\n",
        "    if goodnessOfFit[2] > 0.1:\n",
        "      continue\n",
        "\n",
        "    # other = np.append(TOF, invCoVar)\n",
        "    other = invCoVar[:]\n",
        "\n",
        "\n",
        "    hits = []\n",
        "\n",
        "    lower = 67\n",
        "    for upper in range(lower+14, event.shape[0]+1, 14): # to flip just go from end to 67 by -14 steps?\n",
        "      hasNAN = False\n",
        "      for val in event[lower:upper]:\n",
        "        if isnan(val):\n",
        "          hasNAN = True\n",
        "      if not hasNAN:\n",
        "        hit_data = event[lower:upper]\n",
        "        hit_data = np.append(hit_data[:2],hit_data[6:])\n",
        "        # --== Using absolute normalizer ==--\n",
        "        # hit_data = (hit_data - min) / (max - min)\n",
        "        # hits.append(hit_data)\n",
        "        for z in range(len(hit_data)):\n",
        "          hit_data[z] = (hit_data[z] - _min[z]) / (_max[z] - _min[z])\n",
        "        hit_data = np.ndarray.tolist(hit_data)\n",
        "        hits.append(hit_data)         # list of all hits in the event (hit,10)\n",
        "      # else:\n",
        "      #   hits.append([0 for z in range(10)])\n",
        "      lower = upper\n",
        "    #hits = np.array(hits)   # hits is now an np.array shape (hit,10) with \"hit\" changing every event\n",
        "\n",
        "    # for i in range(hits.shape[0]):\n",
        "    for i in range(len(hits)):\n",
        "      x.append(hits[i])                 # could just copy, but y may be needed?\n",
        "      # y.append(hits[i+1])\n",
        "      # y.append(state)\n",
        "    y = np.ndarray.tolist(state)                  # y is now np.array of (5,)\n",
        "\n",
        "    # x = np.expand_dims(np.array(x),0)  # x now (1, hit, 10)\n",
        "    # y = np.expand_dims(np.array(y),0)  # y now (1, 5)\n",
        "    # x = np.array(x).astype('float32')\n",
        "    # y = np.array(y).astype('float32')\n",
        "    # x = np.array(x)\n",
        "    # y = np.array(y)\n",
        "\n",
        "    x_final.append(x)\n",
        "    y_final.append(y)\n",
        "    other_final.append(other)\n",
        "\n",
        "  # x_final = np.array(x_final,dtype=object)     # want x_final to be shape (event, hit, 10)\n",
        "  # y_final = np.array(y_final,dtype=object)     # want y_final to be shape (event, 5)\n",
        "  # other_final = np.array(other_final)        # want other_f to be shape (event, 25)\n",
        "\n",
        "  return x_final, y_final, other_final"
      ],
      "execution_count": null,
      "outputs": []
    },
    {
      "cell_type": "code",
      "metadata": {
        "colab": {
          "base_uri": "https://localhost:8080/"
        },
        "id": "8K3C09XatS2W",
        "outputId": "27d5c003-d574-45f3-ac15-3ae11a7265d6"
      },
      "source": [
        "x_train, y_train, oth_train = list_parser(unparsed_train)\n",
        "print(\"x\")\n",
        "print(len(x_train))\n",
        "print(type(x_train))\n",
        "print(len(x_train[0]))\n",
        "print(type(x_train[0]))\n",
        "print(len(x_train[0][0]))\n",
        "print(type(x_train[0][0]))\n",
        "print(type(x_train[0][0][0]))\n",
        "print(\"y\")\n",
        "print(type(y_train))\n",
        "print(type(y_train[0]))\n",
        "print(type(y_train[0][0]))\n",
        "if len(x_train) >= 5:\n",
        "  for i in range(5):\n",
        "    # print(x_train[i].shape)\n",
        "    pass\n",
        "else:\n",
        "  for i in range(len(x_train)):\n",
        "    print(x_train[i].shape)\n",
        "# 1, 24, 10 would be the largest\n",
        "\n",
        "x_train = tf.ragged.constant(x_train)\n",
        "# y_train = tf.ragged.constant(y_train)\n",
        "y_train = np.array(y_train)\n",
        "# print(x_raggedTensor)\n",
        "\n",
        "aax = x_train[0]\n",
        "aay = y_train[0]\n",
        "print(type(x_train))\n",
        "print(type(y_train))\n",
        "print(type(oth_train))\n",
        "print(\"first data:\")\n",
        "print(aax.shape)\n",
        "print(aax[0].shape)\n",
        "print(aay.shape)\n",
        "print(\"x: \",aax)\n",
        "print(\"y: \",aay)"
      ],
      "execution_count": null,
      "outputs": [
        {
          "output_type": "stream",
          "text": [
            "x\n",
            "9301\n",
            "<class 'list'>\n",
            "18\n",
            "<class 'list'>\n",
            "10\n",
            "<class 'list'>\n",
            "<class 'float'>\n",
            "y\n",
            "<class 'list'>\n",
            "<class 'list'>\n",
            "<class 'float'>\n",
            "<class 'tensorflow.python.ops.ragged.ragged_tensor.RaggedTensor'>\n",
            "<class 'numpy.ndarray'>\n",
            "<class 'list'>\n",
            "first data:\n",
            "(18, None)\n",
            "(10,)\n",
            "(5,)\n",
            "x:  <tf.RaggedTensor [[0.7692640423774719, 0.765606164932251, 0.22407019138336182, 0.2642019987106323, 0.49473685026168823, 0.9130434989929199, 0.9742012023925781, 0.8189674615859985, 0.006027945317327976, 0.006027945317327976], [0.6926482319831848, 0.5690751671791077, 0.3645309507846832, 0.05952613055706024, 0.2631579041481018, 0.8695651888847351, 0.9611853361129761, 0.28649309277534485, 0.033259935677051544, 0.033259935677051544], [0.23875504732131958, 0.24075621366500854, 0.7672280669212341, 0.10457572340965271, 0.5052631497383118, 0.782608687877655, 0.9352953433990479, 0.504021406173706, 0.018304066732525826, 0.018304066732525826], [0.33787238597869873, 0.4484703540802002, 0.6097946166992188, 0.07363839447498322, 0.7157894968986511, 0.739130437374115, 0.7676599621772766, 0.33562812209129333, 0.02666318602859974, 0.02666318602859974], [0.5710769891738892, 0.6744455695152283, 0.37305063009262085, 0.288280189037323, 0.7052631378173828, 0.695652186870575, 0.7548211812973022, 0.7309820652008057, 0.005347346421331167, 0.005347346421331167], [0.733315110206604, 0.7239073514938354, 0.263613760471344, 0.041055768728256226, 0.4842105209827423, 0.6521739363670349, 0.7418311238288879, 0.5430606007575989, 0.048400089144706726, 0.048400089144706726], [0.6543219089508057, 0.5472460389137268, 0.39544129371643066, 0.12399385124444962, 0.2947368323802948, 0.6086956262588501, 0.728915810585022, 0.5731130242347717, 0.015151274390518665, 0.015151274390518665], [0.42824169993400574, 0.3272317349910736, 0.6255077123641968, 0.04272006079554558, 0.3052631616592407, 0.5652173757553101, 0.7160916924476624, 0.30231329798698425, 0.046525269746780396, 0.046525269746780396], [0.2750035524368286, 0.28259047865867615, 0.7278001308441162, 0.024007415398955345, 0.5157894492149353, 0.52173912525177, 0.703081488609314, 0.3300199508666992, 0.08132698386907578, 0.08132698386907578], [0.3927527666091919, 0.47597992420196533, 0.5672175288200378, 0.08297774195671082, 0.6631578803062439, 0.47826087474823, 0.4162442684173584, 0.5024588704109192, 0.023499751463532448, 0.023499751463532448], [0.567786455154419, 0.6398308277130127, 0.392142653465271, 0.030097603797912598, 0.6421052813529968, 0.43478259444236755, 0.40303486585617065, 0.2945617437362671, 0.06557145714759827, 0.06557145714759827], [0.6758876442909241, 0.6613656878471375, 0.3252999782562256, 0.05598178505897522, 0.4736842215061188, 0.3913043439388275, 0.39034584164619446, 0.45713284611701965, 0.035419683903455734, 0.035419683903455734], [0.6067799925804138, 0.5218054056167603, 0.433348685503006, 0.06648389250040054, 0.3368421196937561, 0.3478260934352875, 0.3770085275173187, 0.44806209206581116, 0.029668668285012245, 0.029668668285012245], [0.33219149708747864, 0.3447727859020233, 0.6660985350608826, 0.02286168746650219, 0.5263158082962036, 0.260869562625885, 0.35123491287231445, 0.42745885252952576, 0.085147425532341, 0.085147425532341], [0.436598539352417, 0.4929949641227722, 0.5362541675567627, 0.03817495331168175, 0.6105263233184814, 0.21739129722118378, 0.0648939236998558, 0.2867984175682068, 0.052010804414749146, 0.052010804414749146], [0.6153600811958313, 0.6007120013237, 0.38774821162223816, 0.04457264766097069, 0.4736842215061188, 0.1304347813129425, 0.038748566061258316, 0.4948866367340088, 0.04459531232714653, 0.04459531232714653], [0.45056793093681335, 0.40904945135116577, 0.5723205208778381, 0.04106782376766205, 0.42105263471603394, 0.043478261679410934, 0.012867040000855923, 0.33683282136917114, 0.048385992646217346, 0.048385992646217346], [0.3925012946128845, 0.4053120017051697, 0.6041624546051025, 0.032487500458955765, 0.5263158082962036, 0.0, 0.00017478904919698834, 0.65003901720047, 0.060900986194610596, 0.060900986194610596]]>\n",
            "y:  [-4.805 -1.959  9.798  0.297 77.505]\n"
          ],
          "name": "stdout"
        }
      ]
    },
    {
      "cell_type": "markdown",
      "metadata": {
        "id": "9GOaGELDwuNm"
      },
      "source": [
        "### Ragged Custom Loss"
      ]
    },
    {
      "cell_type": "code",
      "metadata": {
        "id": "76xopjEZwuC-"
      },
      "source": [
        "def list_parser(unparsed):\n",
        "  global _min, _max\n",
        "  x_final = []\n",
        "  y_final = []\n",
        "  other_final = []\n",
        "  for event in unparsed:\n",
        "    x = []\n",
        "    y = []\n",
        "    other = []\n",
        "\n",
        "    nEvent = event[0]\n",
        "    state = event[1:6]\n",
        "    coVar = event[6:31]\n",
        "    invCoVar = event[31:56]\n",
        "    goodnessOfFit = event[56:59]\n",
        "    TOF = event[59:67]\n",
        "\n",
        "\n",
        "    if goodnessOfFit[2] > 0.1:\n",
        "      continue\n",
        "\n",
        "    # other = np.append(TOF, invCoVar)\n",
        "    other = invCoVar[:]\n",
        "\n",
        "\n",
        "    hits = []\n",
        "\n",
        "    lower = 67\n",
        "    for upper in range(lower+14, event.shape[0]+1, 14): # to flip just go from end to 67 by -14 steps?\n",
        "      hasNAN = False\n",
        "      for val in event[lower:upper]:\n",
        "        if isnan(val):\n",
        "          hasNAN = True\n",
        "      if not hasNAN:\n",
        "        hit_data = event[lower:upper]\n",
        "        hit_data = np.append(hit_data[:2],hit_data[6:])\n",
        "        # --== Using absolute normalizer ==--\n",
        "        # hit_data = (hit_data - min) / (max - min)\n",
        "        # hits.append(hit_data)\n",
        "        for z in range(len(hit_data)):\n",
        "          hit_data[z] = (hit_data[z] - _min[z]) / (_max[z] - _min[z])\n",
        "        hit_data = np.ndarray.tolist(hit_data)\n",
        "        hits.append(hit_data)         # list of all hits in the event (hit,10)\n",
        "      # else:\n",
        "      #   hits.append([0 for z in range(10)])\n",
        "      lower = upper\n",
        "    #hits = np.array(hits)   # hits is now an np.array shape (hit,10) with \"hit\" changing every event\n",
        "\n",
        "    # for i in range(hits.shape[0]):\n",
        "    for i in range(len(hits)):\n",
        "      x.append(hits[i])                 # could just copy, but y may be needed?\n",
        "      # y.append(hits[i+1])\n",
        "      # y.append(state)\n",
        "    y = np.ndarray.tolist(state)                  # y is now np.array of (5,)\n",
        "\n",
        "    # x = np.expand_dims(np.array(x),0)  # x now (1, hit, 10)\n",
        "    # y = np.expand_dims(np.array(y),0)  # y now (1, 5)\n",
        "    # x = np.array(x).astype('float32')\n",
        "    # y = np.array(y).astype('float32')\n",
        "    # x = np.array(x)\n",
        "    # y = np.array(y)\n",
        "\n",
        "    x_final.append(x)\n",
        "    y_final.append(y)\n",
        "    other_final.append(other)\n",
        "\n",
        "  # x_final = np.array(x_final,dtype=object)     # want x_final to be shape (event, hit, 10)\n",
        "  # y_final = np.array(y_final,dtype=object)     # want y_final to be shape (event, 5)\n",
        "  # other_final = np.array(other_final)        # want other_f to be shape (event, 25)\n",
        "\n",
        "  return [x_final, other_final, y_final], y_final"
      ],
      "execution_count": null,
      "outputs": []
    },
    {
      "cell_type": "code",
      "metadata": {
        "colab": {
          "base_uri": "https://localhost:8080/"
        },
        "id": "OCIGI9ghwt5E",
        "outputId": "934815a6-d8b2-43dd-d7a9-7ea3aeb51b4e"
      },
      "source": [
        "x_train, y_train = list_parser(unparsed_train[:10])\n",
        "\n",
        "x_train[0] = tf.ragged.constant(x_train[0])\n",
        "x_train[1] = np.array(x_train[1])\n",
        "x_train[2] = np.array(x_train[2])\n",
        "y_train = np.array(y_train)\n",
        "\n",
        "# x_train = tf.ragged.constant(x_train)\n",
        "# y_train = tf.ragged.constant(y_train)\n",
        "# y_train = np.array(y_train)\n",
        "# print(x_raggedTensor)\n",
        "\n",
        "aax = x_train[0]\n",
        "aay = y_train[0]\n",
        "print(type(x_train))\n",
        "print(type(y_train))\n",
        "# print(type(oth_train))\n",
        "print(\"first data:\")\n",
        "print(aax.shape)\n",
        "print(aax[0].shape)\n",
        "print(aay.shape)\n",
        "# print(\"x: \",aax)\n",
        "# print(\"y: \",aay)"
      ],
      "execution_count": null,
      "outputs": [
        {
          "output_type": "stream",
          "text": [
            "<class 'list'>\n",
            "<class 'numpy.ndarray'>\n",
            "first data:\n",
            "(9, None, None)\n",
            "(18, None)\n",
            "(5,)\n"
          ],
          "name": "stdout"
        }
      ]
    },
    {
      "cell_type": "markdown",
      "metadata": {
        "id": "FgUfJ7UXLkqh"
      },
      "source": [
        "### List parsing with custom loss"
      ]
    },
    {
      "cell_type": "code",
      "metadata": {
        "id": "M6BJfOwTLkd2"
      },
      "source": [
        "def list_parser(unparsed):\n",
        "  global _min, _max\n",
        "  x_final = []\n",
        "  y_final = []\n",
        "  other_final = []\n",
        "  for event in unparsed:\n",
        "    x = []\n",
        "    y = []\n",
        "    other = []\n",
        "\n",
        "    nEvent = event[0]\n",
        "    state = event[1:6]\n",
        "    coVar = event[6:31]\n",
        "    invCoVar = event[31:56]\n",
        "    goodnessOfFit = event[56:59]\n",
        "    TOF = event[59:67]\n",
        "\n",
        "\n",
        "    if goodnessOfFit[2] > 0.1:\n",
        "      continue\n",
        "\n",
        "    # other = np.append(TOF, invCoVar)\n",
        "    other = invCoVar[:]\n",
        "\n",
        "\n",
        "    hits = []\n",
        "\n",
        "    lower = 67\n",
        "    for upper in range(lower+14, event.shape[0]+1, 14): # to flip just go from end to 67 by -14 steps?\n",
        "      hasNAN = False\n",
        "      for val in event[lower:upper]:\n",
        "        if isnan(val):\n",
        "          hasNAN = True\n",
        "      if not hasNAN:\n",
        "        hit_data = event[lower:upper]\n",
        "        hit_data = np.append(hit_data[:2],hit_data[6:])\n",
        "        # --== Using absolute normalizer ==--\n",
        "        # hit_data = (hit_data - min) / (max - min)\n",
        "        # hits.append(hit_data)\n",
        "        for z in range(len(hit_data)):\n",
        "          hit_data[z] = (hit_data[z] - _min[z]) / (_max[z] - _min[z])\n",
        "        hits.append(hit_data)\n",
        "      # else:\n",
        "      #   hits.append([0 for z in range(10)])\n",
        "      lower = upper\n",
        "    hits = np.array(hits)\n",
        "\n",
        "    for i in range(hits.shape[0]):\n",
        "      x.append(hits[i])\n",
        "      # y.append(hits[i+1])\n",
        "      # y.append(state)\n",
        "    y = state\n",
        "\n",
        "    # x = np.expand_dims(np.array(x),0)\n",
        "    # y = np.expand_dims(np.array(y),0)\n",
        "    # other = np.expand_dims(other,0)\n",
        "    x = np.array(x)\n",
        "    y = np.array(y)\n",
        "\n",
        "    x_final.append(x)\n",
        "    y_final.append(y)\n",
        "    other_final.append(other)\n",
        "\n",
        "  # x_final = np.array(x_final,dtype=object)\n",
        "  # y_final = np.array(y_final,dtype=object)\n",
        "  # other_final = np.array(other_final,dtype=object)\n",
        "\n",
        "  return [x_final, other_final, y_final], y_final"
      ],
      "execution_count": null,
      "outputs": []
    },
    {
      "cell_type": "code",
      "metadata": {
        "id": "hILq_qTFLoqz",
        "colab": {
          "base_uri": "https://localhost:8080/"
        },
        "outputId": "ebe5e6d3-bd55-4ac4-9857-b3522eb3429b"
      },
      "source": [
        "[x_train, o_train, _], y_train = list_parser(unparsed_train)\n",
        "print(len(x_train))\n",
        "if len(x_train) >= 5:\n",
        "  for i in range(5):\n",
        "    print(x_train[i].shape)\n",
        "else:\n",
        "  for i in range(len(x_train)):\n",
        "    print(x_train[i].shape)\n",
        "# 1, 24, 14 would be the largest\n",
        "\n",
        "# x_raggedTensor = tf.ragged.constant(x_train)\n",
        "# y_raggedTensor = tf.ragged.constant(y_train)\n",
        "# print(x_raggedTensor)\n",
        "\n",
        "x_train = np.array(x_train,dtype=object)\n",
        "o_train = np.array(o_train,dtype=object)\n",
        "y_train = np.array(y_train,dtype=object)\n",
        "\n",
        "# x_train = [x_train, o_train, y_train]\n",
        "# y_train = y_train\n",
        "\n",
        "\n",
        "aax = x_train[0]\n",
        "aay = y_train[0]\n",
        "print(\"first data:\")\n",
        "print(aax.shape)\n",
        "print(aay.shape)\n",
        "print(\"x: \",aax)\n",
        "print(\"y: \",aay)"
      ],
      "execution_count": null,
      "outputs": [
        {
          "output_type": "stream",
          "text": [
            "9301\n",
            "(18, 10)\n",
            "(21, 10)\n",
            "(17, 10)\n",
            "(20, 10)\n",
            "(21, 10)\n",
            "first data:\n",
            "(18, 10)\n",
            "(5,)\n",
            "x:  [[0.769 0.766 0.224 0.264 0.495 0.913 0.974 0.819 0.006 0.006]\n",
            " [0.693 0.569 0.365 0.06  0.263 0.87  0.961 0.286 0.033 0.033]\n",
            " [0.239 0.241 0.767 0.105 0.505 0.783 0.935 0.504 0.018 0.018]\n",
            " [0.338 0.448 0.61  0.074 0.716 0.739 0.768 0.336 0.027 0.027]\n",
            " [0.571 0.674 0.373 0.288 0.705 0.696 0.755 0.731 0.005 0.005]\n",
            " [0.733 0.724 0.264 0.041 0.484 0.652 0.742 0.543 0.048 0.048]\n",
            " [0.654 0.547 0.395 0.124 0.295 0.609 0.729 0.573 0.015 0.015]\n",
            " [0.428 0.327 0.626 0.043 0.305 0.565 0.716 0.302 0.047 0.047]\n",
            " [0.275 0.283 0.728 0.024 0.516 0.522 0.703 0.33  0.081 0.081]\n",
            " [0.393 0.476 0.567 0.083 0.663 0.478 0.416 0.502 0.023 0.023]\n",
            " [0.568 0.64  0.392 0.03  0.642 0.435 0.403 0.295 0.066 0.066]\n",
            " [0.676 0.661 0.325 0.056 0.474 0.391 0.39  0.457 0.035 0.035]\n",
            " [0.607 0.522 0.433 0.066 0.337 0.348 0.377 0.448 0.03  0.03 ]\n",
            " [0.332 0.345 0.666 0.023 0.526 0.261 0.351 0.427 0.085 0.085]\n",
            " [0.437 0.493 0.536 0.038 0.611 0.217 0.065 0.287 0.052 0.052]\n",
            " [0.615 0.601 0.388 0.045 0.474 0.13  0.039 0.495 0.045 0.045]\n",
            " [0.451 0.409 0.572 0.041 0.421 0.043 0.013 0.337 0.048 0.048]\n",
            " [0.393 0.405 0.604 0.032 0.526 0.    0.    0.65  0.061 0.061]]\n",
            "y:  [-4.80515106805654 -1.959486255086148 9.798481516481372 0.2974276780563659\n",
            " 77.5051204085058]\n"
          ],
          "name": "stdout"
        }
      ]
    },
    {
      "cell_type": "markdown",
      "metadata": {
        "id": "nXWxjgeBkSBE"
      },
      "source": [
        "### TimeDist Gen"
      ]
    },
    {
      "cell_type": "code",
      "metadata": {
        "id": "EcxvHN8ONKTG"
      },
      "source": [
        "# parse data\n",
        "def generator(data):\n",
        "\n",
        "  index = 0\n",
        "\n",
        "  while True:\n",
        "\n",
        "    if index >= len(data):\n",
        "      index = 0\n",
        "\n",
        "    event = data[index]\n",
        "\n",
        "    x = []\n",
        "    y = []\n",
        "\n",
        "    state = event[1:6]\n",
        "    coVar = event[6:31]\n",
        "    invCoVar = event[31:56]\n",
        "    goodnessOfFit = event[56:59]\n",
        "    TOF = event[59:67]\n",
        "\n",
        "    hits = []\n",
        "\n",
        "    # for i in range(24):\n",
        "    # hits.append(event[67+(i)*14:67+(i+1)*14])\n",
        "\n",
        "    j = 67\n",
        "    upTo = event.shape[0]+1\n",
        "    for i in range(j+14,upTo,14):\n",
        "      hasNAN = False\n",
        "      for a in event[j:i]:\n",
        "        if isnan(a):\n",
        "          hasNAN = True\n",
        "      # print(j,i,hasNAN)\n",
        "      if not hasNAN:\n",
        "        hits.append(event[j:i])\n",
        "      else:\n",
        "        hits.append([0 for z in range(14)])\n",
        "      j = i\n",
        "    hits = np.array(hits)\n",
        "\n",
        "    for i in range(hits.shape[0]-1):\n",
        "      x.append(hits[i])\n",
        "      y.append(hits[i+1])\n",
        "    # x = np.expand_dims(np.array(x),0)\n",
        "    # y = np.expand_dims(np.array(y),0)\n",
        "\n",
        "    # x_final.append(x)\n",
        "    # y_final.append(y)\n",
        "\n",
        "    # x_final = np.array(x_final)\n",
        "    # y_final = np.array(y_final)\n",
        "\n",
        "    x = np.expand_dims(np.array(x),0)\n",
        "    y = np.expand_dims(np.array(y),0)\n",
        "    index += 1\n",
        "    yield (x, y)"
      ],
      "execution_count": null,
      "outputs": []
    },
    {
      "cell_type": "code",
      "metadata": {
        "id": "RqC9yq97PXWu"
      },
      "source": [
        "train_gen = generator(unparsed_train)"
      ],
      "execution_count": null,
      "outputs": []
    },
    {
      "cell_type": "markdown",
      "metadata": {
        "id": "fqvIeNaLkOaF"
      },
      "source": [
        "### Only Final State Gen"
      ]
    },
    {
      "cell_type": "code",
      "metadata": {
        "id": "a30fxyKYkNEM"
      },
      "source": [
        "def generator_final_state(unparsed):\n",
        "  global _min, _max\n",
        "\n",
        "  while True:\n",
        "\n",
        "    for event in unparsed:\n",
        "      x = []\n",
        "      y = []\n",
        "      other = []\n",
        "\n",
        "      nEvent = event[0]\n",
        "      state = event[1:6]\n",
        "      coVar = event[6:31]\n",
        "      invCoVar = event[31:56]\n",
        "      goodnessOfFit = event[56:59]\n",
        "      TOF = event[59:67]\n",
        "\n",
        "      # if goodnessOfFit[2] > 0.1:\n",
        "      #   continue\n",
        "\n",
        "      # other = np.append(TOF, invCoVar)\n",
        "      other = invCoVar[:]\n",
        "      hits = []\n",
        "\n",
        "      lower = 67\n",
        "      for upper in range(lower+14, event.shape[0]+1, 14): # to flip just go from end to 67 by -14 steps?\n",
        "        hasNAN = False\n",
        "        for val in event[lower:upper]:\n",
        "          if isnan(val):\n",
        "            hasNAN = True\n",
        "        if not hasNAN:\n",
        "          hit_data = event[lower:upper]\n",
        "          hit_data = np.append(hit_data[:2],hit_data[6:])\n",
        "          # --== Using absolute normalizer ==--\n",
        "          # hit_data = (hit_data - min) / (max - min)\n",
        "          # hits.append(hit_data)\n",
        "          for z in range(len(hit_data)):\n",
        "            hit_data[z] = (hit_data[z] - _min[z]) / (_max[z] - _min[z])\n",
        "          hits.append(hit_data)\n",
        "        lower = upper\n",
        "      hits = np.array(hits)\n",
        "\n",
        "      for i in range(hits.shape[0]):\n",
        "        x.append(hits[i])\n",
        "        # y.append(hits[i+1])\n",
        "        # y.append(state)\n",
        "      y = state\n",
        "\n",
        "      x = np.expand_dims(np.array(x),0)\n",
        "      y = np.expand_dims(np.array(y),0)\n",
        "\n",
        "      yield x, y, other"
      ],
      "execution_count": null,
      "outputs": []
    },
    {
      "cell_type": "code",
      "metadata": {
        "id": "e-jnEnMPliDf"
      },
      "source": [
        "train_gen = generator_final_state(unparsed_train[:9000])\n",
        "test_gen = generator_final_state(unparsed_train[9000:])"
      ],
      "execution_count": null,
      "outputs": []
    },
    {
      "cell_type": "markdown",
      "metadata": {
        "id": "5sPUt-OSurmQ"
      },
      "source": [
        "### Final State with Custom Loss"
      ]
    },
    {
      "cell_type": "code",
      "metadata": {
        "id": "fbHLlEbvuraS"
      },
      "source": [
        "def generator_final_state(unparsed):\n",
        "  global _min, _max\n",
        "\n",
        "  while True:\n",
        "\n",
        "    for event in unparsed:\n",
        "      x = []\n",
        "      y = []\n",
        "      other = []\n",
        "\n",
        "      nEvent = event[0]\n",
        "      state = event[1:6]\n",
        "      coVar = event[6:31]\n",
        "      invCoVar = event[31:56]\n",
        "      goodnessOfFit = event[56:59]\n",
        "      TOF = event[59:67]\n",
        "\n",
        "      if goodnessOfFit[2] > 0.1:\n",
        "        continue\n",
        "\n",
        "      # other = np.append(TOF, invCoVar)\n",
        "      other = invCoVar[:]\n",
        "      hits = []\n",
        "\n",
        "      lower = 67\n",
        "      for upper in range(lower+14, event.shape[0]+1, 14): # to flip just go from end to 67 by -14 steps?\n",
        "        hasNAN = False\n",
        "        for val in event[lower:upper]:\n",
        "          if isnan(val):\n",
        "            hasNAN = True\n",
        "        if not hasNAN:\n",
        "          hit_data = event[lower:upper]\n",
        "          hit_data = np.append(hit_data[:2],hit_data[6:])\n",
        "          # --== Using absolute normalizer ==--\n",
        "          # hit_data = (hit_data - min) / (max - min)\n",
        "          # hits.append(hit_data)\n",
        "          for z in range(len(hit_data)):\n",
        "            hit_data[z] = (hit_data[z] - _min[z]) / (_max[z] - _min[z])\n",
        "          hits.append(hit_data)\n",
        "        lower = upper\n",
        "      hits = np.array(hits)\n",
        "\n",
        "      for i in range(hits.shape[0]):\n",
        "        x.append(hits[i])\n",
        "        # y.append(hits[i+1])\n",
        "        # y.append(state)\n",
        "      y = state\n",
        "\n",
        "      x = np.expand_dims(np.array(x),0)\n",
        "      y = np.expand_dims(np.array(y),0)\n",
        "      other = np.expand_dims(other,0)\n",
        "\n",
        "      yield [x, other, y], y"
      ],
      "execution_count": null,
      "outputs": []
    },
    {
      "cell_type": "code",
      "metadata": {
        "id": "B-U2MPtdu5Lg"
      },
      "source": [
        "train_gen = generator_final_state(unparsed_train[:9000])\n",
        "test_gen = generator_final_state(unparsed_train[9000:])"
      ],
      "execution_count": null,
      "outputs": []
    },
    {
      "cell_type": "code",
      "metadata": {
        "id": "RcrHYOcvLj2S"
      },
      "source": [
        "ggx, ggy = next(train_gen)\n",
        "x, o, y = ggx"
      ],
      "execution_count": null,
      "outputs": []
    },
    {
      "cell_type": "code",
      "metadata": {
        "colab": {
          "base_uri": "https://localhost:8080/"
        },
        "id": "YN4SmQZ_Lm7O",
        "outputId": "9a974fb2-31e5-4ee1-dadc-9f73429f8793"
      },
      "source": [
        "print(x.shape)"
      ],
      "execution_count": null,
      "outputs": [
        {
          "output_type": "stream",
          "text": [
            "(1, 21, 10)\n"
          ],
          "name": "stdout"
        }
      ]
    },
    {
      "cell_type": "code",
      "metadata": {
        "id": "ojqIPY1YLu6f"
      },
      "source": [
        ""
      ],
      "execution_count": null,
      "outputs": []
    },
    {
      "cell_type": "markdown",
      "metadata": {
        "id": "7L54wTFh-NGU"
      },
      "source": [
        "## Ragged Custom Loss"
      ]
    },
    {
      "cell_type": "code",
      "metadata": {
        "colab": {
          "base_uri": "https://localhost:8080/"
        },
        "id": "KoN7P86yCif6",
        "outputId": "1a38778c-675d-44c4-9fe5-3bfe8f04f79f"
      },
      "source": [
        "_max = [-1000 for i in range(10)]\n",
        "_min = [1000 for i in range(10)]\n",
        "for index,event in enumerate(unparsed_train):\n",
        "  lower = 67\n",
        "  for upper in range(lower+14, event.shape[0]+1, 14):\n",
        "    d = event[lower:upper]\n",
        "    d = np.append(d[:2],d[6:])\n",
        "    for a in range(len(d)):\n",
        "      if d[a] > _max[a]:\n",
        "        _max[a] = d[a]\n",
        "      if d[a] < _min[a]:\n",
        "        _min[a] = d[a]\n",
        "    lower = upper\n",
        "print(_max)\n",
        "print(_min)"
      ],
      "execution_count": 4,
      "outputs": [
        {
          "output_type": "stream",
          "text": [
            "[47.588573718740314, 47.716949659038654, 47.920741252343745, 0.04333333333333333, 96.0, 24.0, 343.5052137331197, 274.8641357421875, 3.24600255369344e-07, 137.76808719278492]\n",
            "[-47.69482374702719, -47.64816097490715, -47.78196688638672, 0.010072585750472143, 1.0, 1.0, 176.8656847042481, -77.76896667480467, 7.068405941829982e-10, 0.3]\n"
          ],
          "name": "stdout"
        }
      ]
    },
    {
      "cell_type": "markdown",
      "metadata": {
        "id": "iOfDY5F8yJyl"
      },
      "source": [
        "After trying out many different possibilities, I have found making a RaggedTensor is the way to make variable timesteps.\n",
        "\n",
        "Once you create a RaggedTensor ONLY FOR X DATA, you need to also add:\n",
        "\n",
        "ragged=True\n",
        "\n",
        "to the keras.Inputs() function\n"
      ]
    },
    {
      "cell_type": "code",
      "metadata": {
        "id": "BfACUWvW-NGd"
      },
      "source": [
        "def ragged_parser(unparsed):\n",
        "  global _min, _max\n",
        "  x_final = []\n",
        "  y_final = []\n",
        "  invCov_final = []\n",
        "  cov_final = []\n",
        "  for event in unparsed:\n",
        "    x = []\n",
        "    y = []\n",
        "\n",
        "    nEvent = event[0]     # all the data split into neat little arrays...\n",
        "    state = event[1:6]\n",
        "    coVar = event[6:31]\n",
        "    invCoVar = event[31:56]\n",
        "    goodnessOfFit = event[56:59]\n",
        "    TOF = event[59:67]\n",
        "\n",
        "    if goodnessOfFit[2] > 0.1:   # Cutting if rms is too high\n",
        "      continue\n",
        "    hits = []\n",
        "    lower = 67\n",
        "    for upper in range(lower+14, event.shape[0]+1, 14): # to flip just go from end to 67 by -14 steps?\n",
        "\n",
        "      # hasNAN = False\n",
        "      # for val in event[lower:upper]:\n",
        "      #   if isnan(val):\n",
        "      #     hasNAN = True\n",
        "      # if not hasNAN:\n",
        "\n",
        "      if not isnan(event[lower]):            # Check if we are done with hits, because data is cut short, the rest will be nan\n",
        "        hit_data = event[lower:upper]                      # retrieving the hit\n",
        "        hit_data = np.append(hit_data[:2],hit_data[6:])    # cutting out the sin and cos data\n",
        "        for z in range(len(hit_data)):\n",
        "          hit_data[z] = (hit_data[z] - _min[z]) / (_max[z] - _min[z])    # we need to normalize the data; this can be moved to a lambda layer in the network if needed.\n",
        "        hits.append(np.ndarray.tolist(hit_data))       # we want it as a list to convert to RaggedTensor later; last time I checked it didnt work with array.\n",
        "      lower = upper\n",
        "    for i in range(len(hits)):   # this could be simplified to just: \"x = hits\" if im not mistaken...\n",
        "      x.append(hits[i])          # however we might need to add y.append(hits[i+1]) for later testing so leaving it like this for now...\n",
        "    y = np.ndarray.tolist(state)   # technically not needed, can be removed later... at first I thought i need to pass RaggedTensor labels, but that is not the case.\n",
        "    x_final.append(x)          # want x_final to be shape (event, hit, 10) as a list\n",
        "    y_final.append(y)          # want y_final to be shape (event, 5)       as a np.array\n",
        "    invCov_final.append(invCoVar[:])  # want other_f to be shape (event, 25)      as a np.array\n",
        "    cov_final.append(coVar[:])\n",
        "  x_final = tf.ragged.constant(x_final)   # convert list to RaggedTensor because timesteps (number of hits) are variable between events\n",
        "  y_final = np.array(y_final)\n",
        "  invCov_final = np.array(invCov_final)\n",
        "  cov_final = np.array(cov_final)\n",
        "  return [x_final, invCov_final, cov_final, y_final], y_final   # with the custom loss the x_train (input) needs to be a list of [inputs, inverseCovariance, labels]\n",
        "  # return [x_final, invCov_final], y_final   # with the custom loss the x_train (input) needs to be a list of [inputs, inverseCovariance, labels]"
      ],
      "execution_count": 43,
      "outputs": []
    },
    {
      "cell_type": "code",
      "metadata": {
        "colab": {
          "base_uri": "https://localhost:8080/"
        },
        "id": "J7H0PK6Q-NGg",
        "outputId": "8fa89dc4-7a38-44b5-9415-7d52f3e5b8e5"
      },
      "source": [
        "split = 8\n",
        "x_train, y_train = ragged_parser(unparsed_train[:split])\n",
        "x_test , y_test  = ragged_parser(unparsed_train[split:split+100])\n",
        "\n",
        "print(\"--==Types==--\")\n",
        "print(\"--x_train:--\")\n",
        "print(\"\\n  -> input_data: x_train[0]\\n  -> type expected: RaggedTensor\\n \"+str(type(x_train[0])))\n",
        "print(\"\\n  -> invCov: x_train[1]\\n  -> type expected: np.array\\n \"+str(type(x_train[1])))\n",
        "print(\"\\n  -> y_train: x_train[2]\\n  -> type expected: np.array\\n \"+str(type(x_train[2])))\n",
        "print(\"\\n--y_train:--\")\n",
        "print(\"\\n  -> y_train: y_train\\n  -> type expected: np.array\\n \"+str(type(y_train)))\n",
        "\n",
        "print(\"\\n\\n--==Shapes==--\")\n",
        "print(\"--x_train:--  \\nnum of events: \" + str(x_train[0].shape[0]))\n",
        "print(\"\\n  RaggedTensor | Input:  shape = \" + \"(\" + str(x_train[0].shape[0]) + \", \"+ str(x_train[0][0].shape[0]) + \", \"+ str(x_train[0][0][0].shape[0]) + \")\")\n",
        "print(\"  np.array     | InvCov: shape = \" + str(x_train[1].shape))\n",
        "print(\"  np.array     | Labels: shape = \" + str(x_train[2].shape))\n",
        "print(\"\\n--x_train:--\")\n",
        "print(\"  np.array     | Labels: shape = \" + str(y_train.shape))\n",
        "\n",
        "print(\"x_train : \" + str(x_train[0][0]))\n"
      ],
      "execution_count": 44,
      "outputs": [
        {
          "output_type": "stream",
          "text": [
            "--==Types==--\n",
            "--x_train:--\n",
            "\n",
            "  -> input_data: x_train[0]\n",
            "  -> type expected: RaggedTensor\n",
            " <class 'tensorflow.python.ops.ragged.ragged_tensor.RaggedTensor'>\n",
            "\n",
            "  -> invCov: x_train[1]\n",
            "  -> type expected: np.array\n",
            " <class 'numpy.ndarray'>\n",
            "\n",
            "  -> y_train: x_train[2]\n",
            "  -> type expected: np.array\n",
            " <class 'numpy.ndarray'>\n",
            "\n",
            "--y_train:--\n",
            "\n",
            "  -> y_train: y_train\n",
            "  -> type expected: np.array\n",
            " <class 'numpy.ndarray'>\n",
            "\n",
            "\n",
            "--==Shapes==--\n",
            "--x_train:--  \n",
            "num of events: 7\n",
            "\n",
            "  RaggedTensor | Input:  shape = (7, 18, 10)\n",
            "  np.array     | InvCov: shape = (7, 25)\n",
            "  np.array     | Labels: shape = (7, 25)\n",
            "\n",
            "--x_train:--\n",
            "  np.array     | Labels: shape = (7, 5)\n",
            "x_train : <tf.RaggedTensor [[0.7692640423774719, 0.765606164932251, 0.22407019138336182, 0.2642019987106323, 0.49473685026168823, 0.9130434989929199, 0.9742012023925781, 0.8189674615859985, 0.006027945317327976, 0.006027945317327976], [0.6926482319831848, 0.5690751671791077, 0.3645309507846832, 0.05952613055706024, 0.2631579041481018, 0.8695651888847351, 0.9611853361129761, 0.28649309277534485, 0.033259935677051544, 0.033259935677051544], [0.23875504732131958, 0.24075621366500854, 0.7672280669212341, 0.10457572340965271, 0.5052631497383118, 0.782608687877655, 0.9352953433990479, 0.504021406173706, 0.018304066732525826, 0.018304066732525826], [0.33787238597869873, 0.4484703540802002, 0.6097946166992188, 0.07363839447498322, 0.7157894968986511, 0.739130437374115, 0.7676599621772766, 0.33562812209129333, 0.02666318602859974, 0.02666318602859974], [0.5710769891738892, 0.6744455695152283, 0.37305063009262085, 0.288280189037323, 0.7052631378173828, 0.695652186870575, 0.7548211812973022, 0.7309820652008057, 0.005347346421331167, 0.005347346421331167], [0.733315110206604, 0.7239073514938354, 0.263613760471344, 0.041055768728256226, 0.4842105209827423, 0.6521739363670349, 0.7418311238288879, 0.5430606007575989, 0.048400089144706726, 0.048400089144706726], [0.6543219089508057, 0.5472460389137268, 0.39544129371643066, 0.12399385124444962, 0.2947368323802948, 0.6086956262588501, 0.728915810585022, 0.5731130242347717, 0.015151274390518665, 0.015151274390518665], [0.42824169993400574, 0.3272317349910736, 0.6255077123641968, 0.04272006079554558, 0.3052631616592407, 0.5652173757553101, 0.7160916924476624, 0.30231329798698425, 0.046525269746780396, 0.046525269746780396], [0.2750035524368286, 0.28259047865867615, 0.7278001308441162, 0.024007415398955345, 0.5157894492149353, 0.52173912525177, 0.703081488609314, 0.3300199508666992, 0.08132698386907578, 0.08132698386907578], [0.3927527666091919, 0.47597992420196533, 0.5672175288200378, 0.08297774195671082, 0.6631578803062439, 0.47826087474823, 0.4162442684173584, 0.5024588704109192, 0.023499751463532448, 0.023499751463532448], [0.567786455154419, 0.6398308277130127, 0.392142653465271, 0.030097603797912598, 0.6421052813529968, 0.43478259444236755, 0.40303486585617065, 0.2945617437362671, 0.06557145714759827, 0.06557145714759827], [0.6758876442909241, 0.6613656878471375, 0.3252999782562256, 0.05598178505897522, 0.4736842215061188, 0.3913043439388275, 0.39034584164619446, 0.45713284611701965, 0.035419683903455734, 0.035419683903455734], [0.6067799925804138, 0.5218054056167603, 0.433348685503006, 0.06648389250040054, 0.3368421196937561, 0.3478260934352875, 0.3770085275173187, 0.44806209206581116, 0.029668668285012245, 0.029668668285012245], [0.33219149708747864, 0.3447727859020233, 0.6660985350608826, 0.02286168746650219, 0.5263158082962036, 0.260869562625885, 0.35123491287231445, 0.42745885252952576, 0.085147425532341, 0.085147425532341], [0.436598539352417, 0.4929949641227722, 0.5362541675567627, 0.03817495331168175, 0.6105263233184814, 0.21739129722118378, 0.0648939236998558, 0.2867984175682068, 0.052010804414749146, 0.052010804414749146], [0.6153600811958313, 0.6007120013237, 0.38774821162223816, 0.04457264766097069, 0.4736842215061188, 0.1304347813129425, 0.038748566061258316, 0.4948866367340088, 0.04459531232714653, 0.04459531232714653], [0.45056793093681335, 0.40904945135116577, 0.5723205208778381, 0.04106782376766205, 0.42105263471603394, 0.043478261679410934, 0.012867040000855923, 0.33683282136917114, 0.048385992646217346, 0.048385992646217346], [0.3925012946128845, 0.4053120017051697, 0.6041624546051025, 0.032487500458955765, 0.5263158082962036, 0.0, 0.00017478904919698834, 0.65003901720047, 0.060900986194610596, 0.060900986194610596]]>\n"
          ],
          "name": "stdout"
        }
      ]
    },
    {
      "cell_type": "markdown",
      "metadata": {
        "id": "SMvnihIl6ail"
      },
      "source": [
        "# Model"
      ]
    },
    {
      "cell_type": "markdown",
      "metadata": {
        "id": "zdreWH016c08"
      },
      "source": [
        "## Defining Models\n",
        "\n",
        "- model\n",
        "  - Very basic testing RNN model\n",
        "  - Output every timestep\n",
        "\n",
        "- model_timeless\n",
        "  - Very basic testing RNN model\n",
        "  - Output only at the end\n",
        "\n",
        "- RNNTime\n",
        "  - Advanced\n",
        "  - Time distributed, output every timestep\n",
        "\n",
        "- RNNTimeless\n",
        "  - Advanced\n",
        "  - Only output at final layer\n",
        "  "
      ]
    },
    {
      "cell_type": "code",
      "metadata": {
        "id": "e8qCwtNw6bFk"
      },
      "source": [
        "def model(x):\n",
        "  x = keras.layers.LSTM(64,activation=\"tanh\", name='input_lstm1', return_sequences=True)(x)\n",
        "  x = keras.layers.TimeDistributed(keras.layers.Dense(32, activation='relu'), name=\"TD1-Dense\")(x)\n",
        "  x = keras.layers.TimeDistributed(keras.layers.Dense(14, activation='linear'), name=\"output-Dense\")(x)\n",
        "  return x\n",
        "def model_timeless(x):\n",
        "  x = keras.layers.LSTM(64,activation=\"tanh\", name='input_lstm1', return_sequences=False)(x)\n",
        "  x = keras.layers.Dense(32, activation='relu', name=\"Dense1\")(x)\n",
        "  x = keras.layers.Dense(5, activation='relu', name=\"output-Dense\")(x)\n",
        "  return x\n",
        "\n",
        "def RNNTime(x):\n",
        "  x = keras.layers.LSTM(128,activation=\"tanh\", name='input_lstm1', stateful=False, return_sequences=True)(x)\n",
        "  x = keras.layers.LSTM(64,activation=\"tanh\", name='lstm2', stateful=False, return_sequences=True)(x)\n",
        "  x = keras.layers.LSTM(32,activation=\"tanh\", name='lstm3', stateful=False, return_sequences=True)(x)\n",
        "  x = keras.layers.TimeDistributed(keras.layers.Dense(32, activation='relu'), name=\"TD1-Dense\")(x)\n",
        "  x = keras.layers.TimeDistributed(keras.layers.Dense(5, activation='linear'), name=\"output-Dense\")(x)\n",
        "  return x\n",
        "\n",
        "def RNNTimeless(x):\n",
        "  x = keras.layers.LSTM(128,activation=\"tanh\", name='input_lstm1', stateful=False, return_sequences=True)(x)\n",
        "  x = keras.layers.LSTM(64,activation=\"tanh\", name='lstm2', stateful=False, return_sequences=True)(x)\n",
        "  x = keras.layers.LSTM(64,activation=\"tanh\", name='lstm3', stateful=False, return_sequences=True)(x)\n",
        "  x = keras.layers.LSTM(64,activation=\"tanh\", name='lstm4', stateful=False, return_sequences=True)(x)\n",
        "  x = keras.layers.LSTM(64,activation=\"tanh\", name='lstm5', stateful=False, return_sequences=True)(x)\n",
        "  x = keras.layers.LSTM(64,activation=\"tanh\", name='lstm6', stateful=False, return_sequences=True)(x)\n",
        "  x = keras.layers.LSTM(32,activation=\"tanh\", name='lstm7', stateful=False, return_sequences=False)(x)\n",
        "  x = keras.layers.Dense(32, activation='relu', name=\"Dense1\")(x)\n",
        "  x = keras.layers.Dense(5, activation='linear', name=\"output-Dense\")(x)\n",
        "  # x = keras.layers.lambda(# normalize)\n",
        "  return x"
      ],
      "execution_count": 38,
      "outputs": []
    },
    {
      "cell_type": "markdown",
      "metadata": {
        "id": "Gtf37tFTB5HU"
      },
      "source": [
        "## Custom Loss"
      ]
    },
    {
      "cell_type": "markdown",
      "metadata": {
        "id": "JOZIj6R8u0VG"
      },
      "source": [
        "### V1 Originial, unedited"
      ]
    },
    {
      "cell_type": "code",
      "metadata": {
        "id": "v8iA9da3HLBs"
      },
      "source": [
        "import tensorflow as tf\n",
        "import tensorflow.keras.backend as K\n",
        "#--------------------------------------------\n",
        "# Define custom loss function \n",
        "def customLoss(y_true, y_pred, invcov):\n",
        "  # print(type(y_true))    #<class 'tensorflow.python.ops.resource_variable_ops.ResourceVariable'>\n",
        "\n",
        "  batch_size = tf.shape(y_pred)[0]\n",
        "  print('y_pred shape: ' + str(y_pred.shape) )  # y_pred shape is (batch, 5)\n",
        "  print('y_true shape: ' + str(y_true.shape) )  # y_true shape is (batch, 5)\n",
        "  print('invcov shape: ' + str(invcov.shape) )  # invcov shape is (batch, 25)\n",
        "  \n",
        "  y_pred = K.reshape(y_pred, (batch_size, 5,1)) # y_pred  shape is now (batch, 5,1)\n",
        "  y_true = K.reshape(y_true, (batch_size, 5,1)) # y_state shape is now (batch, 5,1)\n",
        "  invcov = K.reshape(invcov, (batch_size, 5,5)) # invcov  shape is now (batch, 5,5)\n",
        "  \n",
        "  # n.b. we must use tf.transpose here an not K.transpose since the latter does not allow perm argument\n",
        "  invcov = tf.transpose(invcov, perm=[0,2,1])     # invcov shape is now (batch, 5,5)\n",
        "  \n",
        "  # Difference between prediction and true state vectors\n",
        "  y_diff = y_pred - y_true\n",
        "\n",
        "  # n.b. use \"batch_dot\" and not \"dot\"!\n",
        "  y_dot = K.batch_dot(invcov, y_diff)           # y_dot shape is (batch,5,1)\n",
        "  y_dot = K.reshape(y_dot, (batch_size, 1, 5))  # y_dot shape is now (batch,1,5)\n",
        "  y_loss = K.batch_dot(y_dot, y_diff)           # y_loss shape is (batch,1,1)\n",
        "  y_loss = K.reshape(y_loss, (batch_size,))     # y_loss shape is now (batch)\n",
        "  return y_loss\n",
        "\n",
        "#--------------------------------------------\n",
        "# Test loss function\n",
        "# x_test = x_train[2][0]\n",
        "# y_test = model.predict([x_train[0][0:1],x_train[1][0:1],x_train[2][0:1]])\n",
        "# y_test = np.squeeze(y_test)\n",
        "# inconv_test = x_train[1][0]\n",
        "\n",
        "# loss = K.eval(customLoss(K.variable([x_test,x_test,x_test]), K.variable([y_test,y_test,y_test]), K.variable([inconv_test,inconv_test,inconv_test])))\n",
        "# print('loss shape: '    + str(loss.shape)    )\n",
        "# print(loss)"
      ],
      "execution_count": null,
      "outputs": []
    },
    {
      "cell_type": "code",
      "metadata": {
        "colab": {
          "base_uri": "https://localhost:8080/"
        },
        "id": "wxeF2souN-Qr",
        "outputId": "3e0a343d-1ede-431f-dd4b-3ad6571fe75d"
      },
      "source": [
        "inv_co = x_train[1][0:1]\n",
        "inv_co = np.reshape(inv_co,(5,5))\n",
        "inv_co1 = tf.transpose(inv_co, perm=[1,0])\n",
        "print(inv_co1.shape)\n",
        "print(inv_co1)"
      ],
      "execution_count": null,
      "outputs": [
        {
          "output_type": "stream",
          "text": [
            "(5, 5)\n",
            "tf.Tensor(\n",
            "[[  143.934  -584.752    71.106   -51.758     0.297]\n",
            " [ -584.752 31170.963  -196.156  3392.621   -41.964]\n",
            " [   71.106  -196.156   354.599   -67.525   -34.888]\n",
            " [  -51.758  3392.621   -67.525   399.795     1.239]\n",
            " [    0.297   -41.964   -34.888     1.239     4.102]], shape=(5, 5), dtype=float64)\n"
          ],
          "name": "stdout"
        }
      ]
    },
    {
      "cell_type": "markdown",
      "metadata": {
        "id": "wUBj5VjBuyL9"
      },
      "source": [
        "### V2"
      ]
    },
    {
      "cell_type": "code",
      "metadata": {
        "colab": {
          "base_uri": "https://localhost:8080/"
        },
        "id": "R7-v4CJdyQk8",
        "outputId": "940df566-bd20-4356-a2cb-da3bcfaa5fd9"
      },
      "source": [
        "import tensorflow as tf\n",
        "import tensorflow.keras.backend as K\n",
        "#--------------------------------------------\n",
        "# Define custom loss function \n",
        "def customLoss(y_true, y_pred, invcov):\n",
        "  # print(type(y_true))    #<class 'tensorflow.python.ops.resource_variable_ops.ResourceVariable'>\n",
        "\n",
        "\n",
        "  # print(y_pred)\n",
        "\n",
        "  y_pred_a = []\n",
        "  for k in y_pred.keys():\n",
        "    y_pred_a.append(np.squeeze(y_pred[k]))\n",
        "\n",
        "  y_pred = np.array(y_pred_a).astype(\"float64\")\n",
        "  y_pred = tf.transpose(y_pred, perm=(1,0))\n",
        "  # print(y_pred.shape)\n",
        "  print(y_pred)\n",
        "\n",
        "  batch_size = tf.shape(y_pred)[0]\n",
        "  print('y_pred shape: ' + str(y_pred.shape) )  # y_pred dict shape of each is (batch, 1)\n",
        "  print('y_true shape: ' + str(y_true.shape) )  # y_true shape is (batch, 5)\n",
        "  print('invcov shape: ' + str(invcov.shape) )  # invcov shape is (batch, 25)\n",
        "  \n",
        "  y_pred = K.reshape(y_pred, (batch_size, 5,1)) # y_pred  shape is now (batch, 5,1)\n",
        "  y_true = K.reshape(y_true, (batch_size, 5,1)) # y_state shape is now (batch, 5,1)\n",
        "  invcov = K.reshape(invcov, (batch_size, 5,5)) # invcov  shape is now (batch, 5,5)\n",
        "  \n",
        "  # n.b. we must use tf.transpose here an not K.transpose since the latter does not allow perm argument\n",
        "  invcov = tf.transpose(invcov, perm=[0,2,1])     # invcov shape is now (batch, 5,5)\n",
        "  \n",
        "  # Difference between prediction and true state vectors\n",
        "  y_diff = y_pred - y_true\n",
        "\n",
        "  # n.b. use \"batch_dot\" and not \"dot\"!\n",
        "  y_dot = K.batch_dot(invcov, y_diff)           # y_dot shape is (batch,5,1)\n",
        "  y_loss = K.reshape(y_dot, (batch_size, 5))  # y_dot shape is now (batch,5)\n",
        "\n",
        "  y_dict = {\n",
        "      \"q_pt\":y_loss[:,0],\n",
        "      \"phi\":y_loss[:,1],\n",
        "      \"tanl\":y_loss[:,2],\n",
        "      \"D\":y_loss[:,3],\n",
        "      \"z\":y_loss[:,4],\n",
        "  }\n",
        "\n",
        "  # y_dot = K.reshape(y_dot, (batch_size, 1, 5))  # y_dot shape is now (batch,1,5)\n",
        "  # y_loss = K.batch_dot(y_dot, y_diff)           # y_loss shape is (batch,1,1)\n",
        "  # y_loss = K.reshape(y_loss, (batch_size,))     # y_loss shape is now (batch)\n",
        "  return y_dict\n",
        "#--------------------------------------------\n",
        "# Test loss function\n",
        "# x_test = y_train[0]\n",
        "x_test = x_train[2][0:4]\n",
        "y_test = model.predict([x_train[0][0:4],x_train[1][0:4],x_train[2][0:4]])\n",
        "inconv_test = x_train[1][0:4]\n",
        "\n",
        "# for k in y_test.keys():\n",
        "#   y_test[k] = np.squeeze(y_test[k])\n",
        "# print(y_test)\n",
        "\n",
        "# print(y_test)\n",
        "# y_test_a = []\n",
        "# for k in y_test.keys():\n",
        "#   y_test_a.append(y_test[k])\n",
        "# y_test = np.squeeze(np.array(y_test_a))\n",
        "# print(y_test.shape)\n",
        "# print(y_test)\n",
        "\n",
        "# loss = K.eval(customLoss(K.variable([x_test,x_test,x_test]), K.variable([y_test,y_test,y_test]), K.variable([inconv_test,inconv_test,inconv_test])))\n",
        "loss = K.eval(customLoss(x_test, y_test, inconv_test))\n",
        "# print('loss shape: '    + str(loss.shape)    )\n",
        "print(loss)"
      ],
      "execution_count": null,
      "outputs": [
        {
          "output_type": "stream",
          "text": [
            "tf.Tensor(\n",
            "[[ 0.038 -0.059 -0.059 -0.     0.096]\n",
            " [ 0.038 -0.061 -0.065  0.     0.101]\n",
            " [ 0.044 -0.06  -0.068 -0.003  0.1  ]\n",
            " [ 0.041 -0.061 -0.066  0.     0.1  ]], shape=(4, 5), dtype=float64)\n",
            "y_pred shape: (4, 5)\n",
            "y_true shape: (4, 5)\n",
            "invcov shape: (4, 25)\n",
            "{'q_pt': <tf.Tensor: shape=(4,), dtype=float64, numpy=array([ -1122.772,   4077.902,   7595.823, -38609.101])>, 'phi': <tf.Tensor: shape=(4,), dtype=float64, numpy=array([  60584.135, -227988.582, -165207.6  , 1557084.374])>, 'tanl': <tf.Tensor: shape=(4,), dtype=float64, numpy=array([    -803.018,    -1454.704, -2744813.525,   163247.627])>, 'D': <tf.Tensor: shape=(4,), dtype=float64, numpy=array([  6648.104,  42484.366, 847086.41 , 178299.645])>, 'z': <tf.Tensor: shape=(4,), dtype=float64, numpy=array([    -52.311,    1574.12 , -462097.079,  -33232.834])>}\n"
          ],
          "name": "stdout"
        }
      ]
    },
    {
      "cell_type": "markdown",
      "metadata": {
        "id": "CAP0kzRvu2hz"
      },
      "source": [
        "### V3"
      ]
    },
    {
      "cell_type": "code",
      "metadata": {
        "colab": {
          "base_uri": "https://localhost:8080/"
        },
        "id": "U7mcvkxuuweK",
        "outputId": "1197158f-904e-4103-f45a-2f015a71f639"
      },
      "source": [
        "import tensorflow as tf\n",
        "import tensorflow.keras.backend as K\n",
        "#--------------------------------------------\n",
        "# Define custom loss function \n",
        "def customLoss(q_pt_true, phi_true, tanl_true, D_true, z_true, q_pt_pred, phi_pred, tanl_pred, D_pred, z_pred, invcov):\n",
        "\n",
        "\n",
        "  y_pred = [q_pt_pred, phi_pred, tanl_pred, D_pred, z_pred]\n",
        "  # y_pred = np.array(y_pred).astype(\"float64\")\n",
        "  y_pred = tf.transpose(y_pred, perm=(1,0))\n",
        "  y_pred = tf.cast(y_pred, \"float64\")\n",
        "\n",
        "  y_true = [q_pt_true, phi_true, tanl_true, D_true, z_true]\n",
        "  # y_true = np.array(y_true).astype(\"float64\")\n",
        "  y_true = tf.transpose(y_true, perm=(1,0))\n",
        "  y_true = tf.cast(y_true, \"float64\")\n",
        "\n",
        "  batch_size = tf.shape(y_pred)[0]\n",
        "  print('y_pred shape: ' + str(y_pred.shape) )  # y_pred dict shape of each is (batch, 1)\n",
        "  print('y_true shape: ' + str(y_true.shape) )  # y_true shape is (batch, 5)\n",
        "  print('invcov shape: ' + str(invcov.shape) )  # invcov shape is (batch, 25)\n",
        "  \n",
        "  y_pred = K.reshape(y_pred, (batch_size, 5,1)) # y_pred  shape is now (batch, 5,1)\n",
        "  y_true = K.reshape(y_true, (batch_size, 5,1)) # y_state shape is now (batch, 5,1)\n",
        "  invcov = K.reshape(invcov, (batch_size, 5,5)) # invcov  shape is now (batch, 5,5)\n",
        "  \n",
        "  # n.b. we must use tf.transpose here an not K.transpose since the latter does not allow perm argument\n",
        "  invcov = tf.transpose(invcov, perm=[0,2,1])     # invcov shape is now (batch, 5,5)\n",
        "  \n",
        "  # Difference between prediction and true state vectors\n",
        "  y_diff = y_pred - y_true\n",
        "\n",
        "  # n.b. use \"batch_dot\" and not \"dot\"!\n",
        "  y_dot = K.batch_dot(invcov, y_diff)           # y_dot shape is (batch,5,1)\n",
        "  y_loss = K.reshape(y_dot, (batch_size, 5))  # y_dot shape is now (batch,5)\n",
        "\n",
        "  y_dict = {\n",
        "      \"q_pt\":y_loss[:,0],\n",
        "      \"phi\":y_loss[:,1],\n",
        "      \"tanl\":y_loss[:,2],\n",
        "      \"D\":y_loss[:,3],\n",
        "      \"z\":y_loss[:,4],\n",
        "  }\n",
        "\n",
        "  # y_dot = K.reshape(y_dot, (batch_size, 1, 5))  # y_dot shape is now (batch,1,5)\n",
        "  # y_loss = K.batch_dot(y_dot, y_diff)           # y_loss shape is (batch,1,1)\n",
        "  # y_loss = K.reshape(y_loss, (batch_size,))     # y_loss shape is now (batch)\n",
        "  return y_dict\n",
        "#--------------------------------------------\n",
        "# Test loss function\n",
        "# x_test = y_train[0]\n",
        "x_test = x_train[2][0:4]\n",
        "y_test = model.predict([x_train[0][0:4],x_train[1][0:4],x_train[2][0:4]])\n",
        "inconv_test = x_train[1][0:4]\n",
        "\n",
        "y_test_a = []\n",
        "for k in y_test.keys():\n",
        "  y_test_a.append(y_test[k])\n",
        "y_test = np.squeeze(np.array(y_test_a))\n",
        "y_test = np.swapaxes(y_test, 0, 1)\n",
        "print(y_test.shape)\n",
        "\n",
        "\n",
        "# loss = K.eval(customLoss(K.variable([x_test,x_test,x_test]), K.variable([y_test,y_test,y_test]), K.variable([inconv_test,inconv_test,inconv_test])))\n",
        "loss = K.eval(customLoss(x_test[:,0],x_test[:,1],x_test[:,2],x_test[:,3],x_test[:,4], y_test[:,0], y_test[:,1],y_test[:,2],y_test[:,3],y_test[:,4], inconv_test))\n",
        "# print('loss shape: '    + str(loss.shape)    )\n",
        "print(loss)"
      ],
      "execution_count": null,
      "outputs": [
        {
          "output_type": "stream",
          "text": [
            "(4, 5)\n",
            "y_pred shape: (4, 5)\n",
            "y_true shape: (4, 5)\n",
            "invcov shape: (4, 25)\n",
            "{'q_pt': <tf.Tensor: shape=(4,), dtype=float64, numpy=array([ -1061.771,   4372.332,   7881.196, -36064.875])>, 'phi': <tf.Tensor: shape=(4,), dtype=float64, numpy=array([  57235.145, -248049.595, -165266.274, 1454356.488])>, 'tanl': <tf.Tensor: shape=(4,), dtype=float64, numpy=array([    -732.311,    -1325.223, -2734167.605,   166518.404])>, 'D': <tf.Tensor: shape=(4,), dtype=float64, numpy=array([  6276.015,  46733.275, 844334.634, 165478.962])>, 'z': <tf.Tensor: shape=(4,), dtype=float64, numpy=array([    -53.358,    1700.773, -460627.371,  -33624.897])>}\n"
          ],
          "name": "stdout"
        }
      ]
    },
    {
      "cell_type": "markdown",
      "metadata": {
        "id": "_kuUpxAuz1sz"
      },
      "source": [
        "### V4"
      ]
    },
    {
      "cell_type": "markdown",
      "metadata": {
        "id": "ZRUvQVjHAD2U"
      },
      "source": [
        "So, we have the prediction and true vector\n",
        "\n",
        "$$\n",
        "y_{pred}=\n",
        "\\begin{bmatrix}\n",
        "q\\_pt \\\\ phi \\\\ tanl \\\\ D \\\\ z\n",
        "\\end{bmatrix}\n",
        "$$\n",
        "\n",
        "We have the inverse covariance matrix, we'll label it $C^{-1}$:\n",
        "\n",
        "and $y_p = y_{predict}$\n",
        "\n",
        "$$\n",
        "C^{-1} = \n",
        "\\begin{bmatrix}\n",
        "qq & qp & qt & qd & qz \\\\\n",
        "qp & pp & pt & pd & pz \\\\\n",
        "qt & pt & tt & td & tz \\\\\n",
        "qd & pd & td & dd & dz \\\\\n",
        "qz & pz & tz & dz & zz \\\\\n",
        "\\end{bmatrix}\n",
        "$$\n",
        "\n",
        "Thus, the formula before was:\n",
        "\n",
        "$$\n",
        "loss = C^{-1} \\cdot \\vec{y_p}  \\cdot \\vec{y_p}\n",
        "$$\n",
        "\n",
        "$$\n",
        "  y_{dot} =\n",
        "  \\begin{bmatrix}\n",
        "    qq & qp & qt & qd & qz \\\\\n",
        "    qp & pp & pt & pd & pz \\\\\n",
        "    qt & pt & tt & td & tz \\\\\n",
        "    qd & pd & td & dd & dz \\\\\n",
        "    qz & pz & tz & dz & zz \n",
        "  \\end{bmatrix} \n",
        "  \\cdot\n",
        "  \\begin{bmatrix}\n",
        "    q\\_pt \\\\ phi \\\\ tanl \\\\ D \\\\ z\n",
        "  \\end{bmatrix}\n",
        "$$\n",
        "\n",
        "$$\n",
        "  y_{dot} = \n",
        "  \\begin{bmatrix}\n",
        "    qq*q\\_pt + qp*phi + qt*tanl + qd*D + qz*z \\\\\n",
        "    qp*q\\_pt + pp*phi + pt*tanl + pd*D + pz*z \\\\\n",
        "    qt*q\\_pt + pt*phi + tt*tanl + td*D + tz*z \\\\\n",
        "    qd*q\\_pt + pd*phi + td*tanl + dd*D + dz*z \\\\\n",
        "    qz*q\\_pt + dz*phi + tz*tanl + pz*D + zz*z\n",
        "  \\end{bmatrix}\n",
        "$$\n",
        "\n",
        "---\n",
        "\n",
        "Now, working on the output split for each variable, im looking for ways to seperate the variables after that operation.\n",
        "So maybe just sum the q_pt column of the matrix and multiply by q_pt?\n",
        "\n",
        "Maybe this would work? :\n",
        "\n",
        "$$\n",
        "loss_{q\\_pt} =  y_p^{q\\_pt} * \\sum_{i=0}^{4} C^{-1}_{qi}\n",
        "$$\n",
        "\n",
        "Where $C^{-1}_q$ is one row or column of the matrix of that variable\n",
        "\n",
        "\n",
        "\n"
      ]
    },
    {
      "cell_type": "code",
      "metadata": {
        "id": "8shIh2axz1g_",
        "colab": {
          "base_uri": "https://localhost:8080/"
        },
        "outputId": "bbc9620f-ee91-4ed5-a02c-8e29e698e46b"
      },
      "source": [
        "import tensorflow as tf\n",
        "import tensorflow.keras.backend as K\n",
        "#--------------------------------------------\n",
        "# Define custom loss function \n",
        "def customLoss(y_true, y_pred, invcov):\n",
        "  # print(type(y_true))    #<class 'tensorflow.python.ops.resource_variable_ops.ResourceVariable'>\n",
        "\n",
        "  # print(y_pred)\n",
        "\n",
        "  # Theoretically:\n",
        "  # K.dot(invcov[0,:] * q_pt,q_pt)    # ?\n",
        "  \n",
        "\n",
        "\n",
        "  y_pred_a = []\n",
        "  for k in y_pred.keys():\n",
        "    y_pred_a.append(np.squeeze(y_pred[k]))\n",
        "\n",
        "  y_pred = np.array(y_pred_a).astype(\"float64\")\n",
        "  y_pred = tf.transpose(y_pred, perm=(1,0))\n",
        "  # print(y_pred.shape)\n",
        "  print(y_pred)\n",
        "\n",
        "  batch_size = tf.shape(y_pred)[0]\n",
        "  print('y_pred shape: ' + str(y_pred.shape) )  # y_pred dict shape of each is (batch, 1)\n",
        "  print('y_true shape: ' + str(y_true.shape) )  # y_true shape is (batch, 5)\n",
        "  print('invcov shape: ' + str(invcov.shape) )  # invcov shape is (batch, 25)\n",
        "  \n",
        "  y_pred = K.reshape(y_pred, (batch_size, 5,1)) # y_pred  shape is now (batch, 5,1)\n",
        "  y_true = K.reshape(y_true, (batch_size, 5,1)) # y_state shape is now (batch, 5,1)\n",
        "  invcov = K.reshape(invcov, (batch_size, 5,5)) # invcov  shape is now (batch, 5,5)\n",
        "  \n",
        "  # n.b. we must use tf.transpose here an not K.transpose since the latter does not allow perm argument\n",
        "  invcov = tf.transpose(invcov, perm=[0,2,1])     # invcov shape is now (batch, 5,5)\n",
        "  \n",
        "  # Difference between prediction and true state vectors\n",
        "  y_diff = y_pred - y_true\n",
        "\n",
        "  # n.b. use \"batch_dot\" and not \"dot\"!\n",
        "  y_dot = K.batch_dot(invcov, y_diff)           # y_dot shape is (batch,5,1)\n",
        "  y_loss = K.reshape(y_dot, (batch_size, 5))  # y_dot shape is now (batch,5)\n",
        "\n",
        "  y_dict = {\n",
        "      \"q_pt\":y_loss[:,0],\n",
        "      \"phi\":y_loss[:,1],\n",
        "      \"tanl\":y_loss[:,2],\n",
        "      \"D\":y_loss[:,3],\n",
        "      \"z\":y_loss[:,4],\n",
        "  }\n",
        "\n",
        "  # y_dot = K.reshape(y_dot, (batch_size, 1, 5))  # y_dot shape is now (batch,1,5)\n",
        "  # y_loss = K.batch_dot(y_dot, y_diff)           # y_loss shape is (batch,1,1)\n",
        "  # y_loss = K.reshape(y_loss, (batch_size,))     # y_loss shape is now (batch)\n",
        "  return y_dict\n",
        "#--------------------------------------------\n",
        "# Test loss function\n",
        "# x_test = y_train[0]\n",
        "x_test = x_train[2][0:4]\n",
        "y_test = model.predict([x_train[0][0:4],x_train[1][0:4],x_train[2][0:4]])\n",
        "inconv_test = x_train[1][0:4]\n",
        "\n",
        "# for k in y_test.keys():\n",
        "#   y_test[k] = np.squeeze(y_test[k])\n",
        "# print(y_test)\n",
        "\n",
        "# print(y_test)\n",
        "# y_test_a = []\n",
        "# for k in y_test.keys():\n",
        "#   y_test_a.append(y_test[k])\n",
        "# y_test = np.squeeze(np.array(y_test_a))\n",
        "# print(y_test.shape)\n",
        "# print(y_test)\n",
        "\n",
        "# loss = K.eval(customLoss(K.variable([x_test,x_test,x_test]), K.variable([y_test,y_test,y_test]), K.variable([inconv_test,inconv_test,inconv_test])))\n",
        "loss = K.eval(customLoss(x_test, y_test, inconv_test))\n",
        "# print('loss shape: '    + str(loss.shape)    )\n",
        "print(loss)"
      ],
      "execution_count": null,
      "outputs": [
        {
          "output_type": "stream",
          "text": [
            "tf.Tensor(\n",
            "[[ 0.007  0.113  0.033  0.058 -0.017]\n",
            " [ 0.013  0.121  0.04   0.069 -0.005]\n",
            " [-0.     0.111  0.015  0.046 -0.026]\n",
            " [ 0.011  0.117  0.039  0.066 -0.007]], shape=(4, 5), dtype=float64)\n",
            "y_pred shape: (4, 5)\n",
            "y_true shape: (4, 5)\n",
            "invcov shape: (4, 25)\n",
            "{'q_pt': <tf.Tensor: shape=(4,), dtype=float64, numpy=array([ -1224.067,   3643.161,   7666.265, -42736.995])>, 'phi': <tf.Tensor: shape=(4,), dtype=float64, numpy=array([  66131.389, -200227.747, -164338.066, 1729944.529])>, 'tanl': <tf.Tensor: shape=(4,), dtype=float64, numpy=array([    -806.507,    -1456.426, -2739154.044,   164777.003])>, 'D': <tf.Tensor: shape=(4,), dtype=float64, numpy=array([  7248.412,  36849.516, 845443.653, 200036.97 ])>, 'z': <tf.Tensor: shape=(4,), dtype=float64, numpy=array([    -63.089,    1371.309, -461302.971,  -33497.33 ])>}\n"
          ],
          "name": "stdout"
        }
      ]
    },
    {
      "cell_type": "markdown",
      "metadata": {
        "id": "7htvZHbENgC7"
      },
      "source": [
        "### V5 unedited"
      ]
    },
    {
      "cell_type": "code",
      "metadata": {
        "id": "hK6jqei9Nf5W"
      },
      "source": [
        "import tensorflow as tf\n",
        "import tensorflow.keras.backend as K\n",
        "#--------------------------------------------\n",
        "# Define custom loss function \n",
        "def customLoss(y_true, y_pred, invcov):\n",
        "  # print(type(y_true))    #<class 'tensorflow.python.ops.resource_variable_ops.ResourceVariable'>\n",
        "\n",
        "  batch_size = tf.shape(y_pred)[0]\n",
        "  print('y_pred shape: ' + str(y_pred.shape) )  # y_pred shape is (batch, 5)\n",
        "  print('y_true shape: ' + str(y_true.shape) )  # y_true shape is (batch, 5)\n",
        "  print('invcov shape: ' + str(invcov.shape) )  # invcov shape is (batch, 25)\n",
        "  \n",
        "  y_pred = K.reshape(y_pred, (batch_size, 5,1)) # y_pred  shape is now (batch, 5,1)\n",
        "  y_true = K.reshape(y_true, (batch_size, 5,1)) # y_state shape is now (batch, 5,1)\n",
        "  invcov = K.reshape(invcov, (batch_size, 5,5)) # invcov  shape is now (batch, 5,5)\n",
        "  \n",
        "  # n.b. we must use tf.transpose here an not K.transpose since the latter does not allow perm argument\n",
        "  invcov = tf.transpose(invcov, perm=[0,2,1])     # invcov shape is now (batch, 5,5)\n",
        "  \n",
        "  # Difference between prediction and true state vectors\n",
        "  y_diff = y_pred - y_true\n",
        "\n",
        "  # n.b. use \"batch_dot\" and not \"dot\"!\n",
        "  y_dot = K.batch_dot(invcov, y_diff)           # y_dot shape is (batch,5,1)\n",
        "  y_dot = K.reshape(y_dot, (batch_size, 1, 5))  # y_dot shape is now (batch,1,5)\n",
        "  y_loss = K.batch_dot(y_dot, y_diff)           # y_loss shape is (batch,1,1)\n",
        "  y_loss = K.reshape(y_loss, (batch_size,))     # y_loss shape is now (batch)\n",
        "  # y_dict = {\n",
        "  #     \"q_pt\":y_diff[0]*y_diff[0],\n",
        "  #     \"phi\":y_diff[0]*y_diff[0]\n",
        "  # }\n",
        "  # y_diff[0] / invcov[0][0]\n",
        "  return y_loss\n",
        "\n",
        "#--------------------------------------------\n",
        "# Test loss function\n",
        "# x_test = x_train[2][0]\n",
        "# y_test = model.predict([x_train[0][0:1],x_train[1][0:1],x_train[2][0:1]])\n",
        "# y_test = np.squeeze(y_test)\n",
        "# inconv_test = x_train[1][0]\n",
        "\n",
        "# loss = K.eval(customLoss(K.variable([x_test,x_test,x_test]), K.variable([y_test,y_test,y_test]), K.variable([inconv_test,inconv_test,inconv_test])))\n",
        "# # print('loss shape: '    + str(loss.shape)    )\n",
        "# print(loss)"
      ],
      "execution_count": null,
      "outputs": []
    },
    {
      "cell_type": "markdown",
      "metadata": {
        "id": "N4XBVGilP4tc"
      },
      "source": [
        "### V6 New Way"
      ]
    },
    {
      "cell_type": "code",
      "metadata": {
        "id": "JsGirPS0P4jb"
      },
      "source": [
        "import tensorflow as tf\n",
        "import tensorflow.keras.backend as K\n",
        "def customLoss(m_invcov):\n",
        "  def customLoss_fn(y_true, y_pred):\n",
        "    batch_size = tf.shape(y_pred)[0]\n",
        "\n",
        "    y_pred = tf.cast(K.reshape(y_pred, (batch_size, 5,1)),\"float64\") # y_pred  shape is now (batch, 5,1)\n",
        "    y_true = tf.cast(K.reshape(y_true, (batch_size, 5,1)),\"float64\") # y_state shape is now (batch, 5,1)\n",
        "    invcov = tf.cast(K.reshape(m_invcov, (batch_size, 5,5)),\"float64\") # invcov  shape is now (batch, 5,5)\n",
        "    \n",
        "    # n.b. we must use tf.transpose here an not K.transpose since the latter does not allow perm argument\n",
        "    invcov = tf.transpose(invcov, perm=[0,2,1])     # invcov shape is now (batch, 5,5)\n",
        "    \n",
        "    # Difference between prediction and true state vectors\n",
        "    y_diff = y_pred - y_true\n",
        "\n",
        "    # n.b. use \"batch_dot\" and not \"dot\"!\n",
        "    y_dot = K.batch_dot(invcov, y_diff)           # y_dot shape is (batch,5,1)\n",
        "    y_dot = K.reshape(y_dot, (batch_size, 1, 5))  # y_dot shape is now (batch,1,5)\n",
        "    y_loss = K.batch_dot(y_dot, y_diff)           # y_loss shape is (batch,1,1)\n",
        "    y_loss = K.reshape(y_loss, (batch_size,))     # y_loss shape is now (batch)\n",
        "    return y_loss\n",
        "  return customLoss_fn"
      ],
      "execution_count": null,
      "outputs": []
    },
    {
      "cell_type": "markdown",
      "metadata": {
        "id": "tE4lKfJMjNK4"
      },
      "source": [
        "### V7 unedited"
      ]
    },
    {
      "cell_type": "code",
      "metadata": {
        "id": "rkuUUNJWjM_i"
      },
      "source": [
        "import tensorflow as tf\n",
        "import tensorflow.keras.backend as K\n",
        "def customLoss(y_true, y_pred, invcov):\n",
        "  batch_size = tf.shape(y_pred)[0]\n",
        "\n",
        "  print('y_pred shape: ' + str(y_pred.shape) )  # y_pred shape is (batch, 5)\n",
        "  print('y_true shape: ' + str(y_true.shape) )  # y_true shape is (batch, 5)\n",
        "  print('invcov shape: ' + str(invcov.shape) )  # invcov shape is (batch, 25)\n",
        "\n",
        "  y_pred = tf.cast(K.reshape(y_pred, (batch_size, 5,1)),\"float64\") # y_pred  shape is now (batch, 5,1)\n",
        "  y_true = tf.cast(K.reshape(y_true, (batch_size, 5,1)),\"float64\") # y_state shape is now (batch, 5,1)\n",
        "  invcov = tf.cast(K.reshape(invcov, (batch_size, 5,5)),\"float64\") # invcov  shape is now (batch, 5,5)\n",
        "  \n",
        "  # n.b. we must use tf.transpose here an not K.transpose since the latter does not allow perm argument\n",
        "  invcov = tf.transpose(invcov, perm=[0,2,1])     # invcov shape is now (batch, 5,5)\n",
        "  \n",
        "  # Difference between prediction and true state vectors\n",
        "  y_diff = y_pred - y_true\n",
        "\n",
        "  # n.b. use \"batch_dot\" and not \"dot\"!\n",
        "  y_dot = K.batch_dot(invcov, y_diff)           # y_dot shape is (batch,5,1)\n",
        "  y_dot = K.reshape(y_dot, (batch_size, 1, 5))  # y_dot shape is now (batch,1,5)\n",
        "  y_loss = K.batch_dot(y_dot, y_diff)           # y_loss shape is (batch,1,1)\n",
        "  y_loss = K.reshape(y_loss, (batch_size,))     # y_loss shape is now (batch)\n",
        "  return y_loss"
      ],
      "execution_count": 25,
      "outputs": []
    },
    {
      "cell_type": "markdown",
      "metadata": {
        "id": "ZXxfMKTqTvBC"
      },
      "source": [
        "### Metric"
      ]
    },
    {
      "cell_type": "code",
      "metadata": {
        "id": "ZX3nAlhgTu4h",
        "colab": {
          "base_uri": "https://localhost:8080/"
        },
        "outputId": "4a10f740-6552-45b1-ad74-88a00d295a6b"
      },
      "source": [
        "def customMetric(y_true, y_pred, cov, id=0):\n",
        "  batch_size = tf.shape(y_pred)[0]\n",
        "\n",
        "  y_pred = K.reshape(y_pred, (batch_size, 5,1)) # y_pred  shape is now (batch, 5,1)\n",
        "  y_true = K.reshape(y_true, (batch_size, 5,1)) # y_state shape is now (batch, 5,1)\n",
        "  cov = K.reshape(cov, (batch_size, 5,5)) # cov  shape is now (batch, 5,5)\n",
        "  # cov = tf.transpose(cov, perm=[0,2,1])     # cov shape is now (batch, 5,5)\n",
        "  y_diff = y_pred[:,id] - y_true[:,id]\n",
        "  # y_diff = K.reshape(y_diff, (batch_size,1))\n",
        "  cov = K.reshape(cov[:,id,id], (batch_size,1))\n",
        "  # print(\"diff:\\n\",y_diff)\n",
        "  print(\"cov:\\n\",cov)\n",
        "  # return (y_diff*y_diff)/(cov[:,id,id])\n",
        "  return tf.math.square(y_diff)/(cov)\n",
        "\n",
        "ccov = x_train[2][0:6]\n",
        "ccov = np.reshape(ccov, (6,5,5))\n",
        "\n",
        "print(ccov)\n",
        "\n",
        "metric = K.eval(customMetric(y_train[0:6],y_train[1:7],x_train[2][0:6],3))\n",
        "print(\"metric: \\n\",metric)"
      ],
      "execution_count": 89,
      "outputs": [
        {
          "output_type": "stream",
          "text": [
            "[[[  0.021   0.001  -0.027  -0.007  -0.224]\n",
            "  [  0.001   0.001  -0.     -0.005   0.008]\n",
            "  [ -0.027  -0.      0.056   0.005   0.48 ]\n",
            "  [ -0.007  -0.005   0.005   0.048  -0.03 ]\n",
            "  [ -0.224   0.008   0.48   -0.03    4.431]]\n",
            "\n",
            " [[  0.067   0.003  -0.004   0.009  -0.006]\n",
            "  [  0.003   0.     -0.      0.001   0.001]\n",
            "  [ -0.004  -0.      0.013  -0.002   0.058]\n",
            "  [  0.009   0.001  -0.002   0.002  -0.008]\n",
            "  [ -0.006   0.001   0.058  -0.008   0.321]]\n",
            "\n",
            " [[  0.056  -0.     -0.01   -0.026   0.013]\n",
            "  [ -0.      0.      0.      0.001   0.001]\n",
            "  [ -0.01    0.      0.002   0.005  -0.002]\n",
            "  [ -0.026   0.001   0.005   0.016  -0.001]\n",
            "  [  0.013   0.001  -0.002  -0.001   0.012]]\n",
            "\n",
            " [[  0.002   0.     -0.     -0.001  -0.   ]\n",
            "  [  0.      0.     -0.     -0.      0.   ]\n",
            "  [ -0.     -0.      0.     -0.      0.002]\n",
            "  [ -0.001  -0.     -0.      0.     -0.   ]\n",
            "  [ -0.      0.      0.002  -0.      0.012]]\n",
            "\n",
            " [[  0.822   0.018  -0.321  -0.047  -0.182]\n",
            "  [  0.018   0.001   0.     -0.002   0.006]\n",
            "  [ -0.321   0.      0.503   0.001   0.532]\n",
            "  [ -0.047  -0.002   0.001   0.006  -0.02 ]\n",
            "  [ -0.182   0.006   0.532  -0.02    2.106]]\n",
            "\n",
            " [[135.328   2.371 -36.022   7.108 146.509]\n",
            "  [  2.371   0.205   0.385   0.427  12.194]\n",
            "  [-36.022   0.385  17.86    0.423  31.618]\n",
            "  [  7.108   0.427   0.423   1.193  28.178]\n",
            "  [146.509  12.194  31.618  28.178 857.865]]]\n",
            "cov:\n",
            " tf.Tensor(\n",
            "[[0.048]\n",
            " [0.002]\n",
            " [0.016]\n",
            " [0.   ]\n",
            " [0.006]\n",
            " [1.193]], shape=(6, 1), dtype=float64)\n",
            "metric: \n",
            " [[    1.933]\n",
            " [16419.148]\n",
            " [ 2245.412]\n",
            " [  127.861]\n",
            " [   24.275]\n",
            " [   74.054]]\n"
          ],
          "name": "stdout"
        }
      ]
    },
    {
      "cell_type": "markdown",
      "metadata": {
        "id": "Qw41A73h-zGB"
      },
      "source": [
        "## Create Model"
      ]
    },
    {
      "cell_type": "code",
      "metadata": {
        "id": "SZ7d8PMx652m",
        "colab": {
          "base_uri": "https://localhost:8080/"
        },
        "outputId": "9f1eab0b-ed42-4e9a-fcfe-7e477ac2294b"
      },
      "source": [
        "# --==Not in use?==--\n",
        "# lr_schedule = keras.optimizers.schedules.ExponentialDecay(\n",
        "#     initial_learning_rate=1e-3,\n",
        "#     decay_steps=10000,\n",
        "#     decay_rate=0.8)\n",
        "from keras.layers import Dense\n",
        "\n",
        "nInput = 10\n",
        "\n",
        "# --==Set seed to get identical results==-- begin\n",
        "# from tensorflow.random import set_seed\n",
        "# np.random.seed(1)\n",
        "# set_seed(2)\n",
        "# --==Set seed to get identical results==-- end\n",
        "\n",
        "#--==Set Weights==--\n",
        "# loss_weights = [1/(sd**2)]\n",
        "# loss_weights = np.array(loss_weights)/sum(loss_weights)\n",
        "# model.compile(optimizer=optimizer, loss=\"mse\", loss_weights=loss_weights, metrics=[\"mae\"])\n",
        "\n",
        "inputs = keras.Input((None,nInput))\n",
        "input_true = keras.Input((5,))\n",
        "input_incov = keras.Input((25,))\n",
        "input_cov_f = keras.Input((25,))\n",
        "all_inputs = [inputs, input_incov, input_cov_f, input_true]\n",
        "# all_inputs = [inputs, input_incov, input_true]\n",
        "\n",
        "# --==Choose model==--\n",
        "# x = model(inputs)\n",
        "# x = model_timeless(inputs)\n",
        "# x = RNNTime(inputs)\n",
        "x = RNNTimeless(inputs)\n",
        "# x = RNNTimeStateful(inputs)\n",
        "\n",
        "optimizer = keras.optimizers.Adam(learning_rate=0.01)\n",
        "\n",
        "\n",
        "\n",
        "outs = {\n",
        "    \"q_pt\":Dense(1, name=\"q_pt\")(x),\n",
        "    \"phi\":Dense(1, name=\"phi\")(x),\n",
        "    \"tanl\":Dense(1, name=\"tanl\")(x),\n",
        "    \"D\":Dense(1, name=\"D\")(x),\n",
        "    \"z\":Dense(1, name=\"z\")(x)\n",
        "}\n",
        "\n",
        "# y_dict = {\n",
        "#     \"q_pt\":y_train[:,0],\n",
        "#     \"phi\":y_train[:,1],\n",
        "#     \"tanl\":y_train[:,2],\n",
        "#     \"D\":y_train[:,3],\n",
        "#     \"z\":y_train[:,4]\n",
        "# }\n",
        "\n",
        "model = keras.Model(inputs=all_inputs, outputs=x, name=\"RNNModel\")\n",
        "# model = keras.Model(inputs=all_inputs, outputs=outs, name=\"RNNModel\")\n",
        "\n",
        "\n",
        "# model.add_metric(customMetric_pt(input_true, x, input_cov_f),name=\"q_pt\")\n",
        "# model.add_metric(customMetric_phi(input_true, x, input_cov_f),name=\"phi\")\n",
        "# model.add_metric(customMetric_tanl(input_true, x, input_cov_f),name=\"tanl\")\n",
        "# model.add_metric(customMetric_D(input_true, x, input_cov_f),name=\"D\")\n",
        "# model.add_metric(customMetric_z(input_true, x, input_cov_f),name=\"z\")\n",
        "\n",
        "\n",
        "model.add_metric(customMetric(input_true, x, input_cov_f, 0),name=\"q_pt\")\n",
        "model.add_metric(customMetric(input_true, x, input_cov_f, 1),name=\"phi\")\n",
        "model.add_metric(customMetric(input_true, x, input_cov_f, 2),name=\"tanl\")\n",
        "model.add_metric(customMetric(input_true, x, input_cov_f, 3),name=\"D\")\n",
        "model.add_metric(customMetric(input_true, x, input_cov_f, 4),name=\"z\")\n",
        "\n",
        "model.add_loss(customLoss(input_true, x, input_incov))\n",
        "# model.add_loss(customLoss(y_train[:,0],y_train[:,1],y_train[:,2],y_train[:,3],y_train[:,4], outs[\"q_pt\"], outs[\"phi\"], outs[\"tanl\"], outs[\"D\"], outs[\"z\"], input_incov))\n",
        "# model.compile(loss=customLoss(m_invcov=input_cov_f), optimizer=optimizer, metrics=[\"mae\"])\n",
        "model.compile(loss=None, optimizer=optimizer, metrics=[\"mae\"])\n",
        "# model.compile(loss=\"mse\", optimizer=optimizer, metrics=[\"mae\"])\n",
        "# model.compile(loss=customLoss(), optimizer=optimizer, metrics=[\"mae\"])\n",
        "\n",
        "model.summary()"
      ],
      "execution_count": 84,
      "outputs": [
        {
          "output_type": "stream",
          "text": [
            "y_pred shape: (None, 5)\n",
            "y_true shape: (None, 5)\n",
            "invcov shape: (None, 25)\n",
            "Model: \"RNNModel\"\n",
            "__________________________________________________________________________________________________\n",
            "Layer (type)                    Output Shape         Param #     Connected to                     \n",
            "==================================================================================================\n",
            "input_21 (InputLayer)           [(None, None, 10)]   0                                            \n",
            "__________________________________________________________________________________________________\n",
            "input_lstm1 (LSTM)              (None, None, 128)    71168       input_21[0][0]                   \n",
            "__________________________________________________________________________________________________\n",
            "lstm2 (LSTM)                    (None, None, 64)     49408       input_lstm1[0][0]                \n",
            "__________________________________________________________________________________________________\n",
            "lstm3 (LSTM)                    (None, None, 64)     33024       lstm2[0][0]                      \n",
            "__________________________________________________________________________________________________\n",
            "lstm4 (LSTM)                    (None, None, 64)     33024       lstm3[0][0]                      \n",
            "__________________________________________________________________________________________________\n",
            "lstm5 (LSTM)                    (None, None, 64)     33024       lstm4[0][0]                      \n",
            "__________________________________________________________________________________________________\n",
            "lstm6 (LSTM)                    (None, None, 64)     33024       lstm5[0][0]                      \n",
            "__________________________________________________________________________________________________\n",
            "lstm7 (LSTM)                    (None, 32)           12416       lstm6[0][0]                      \n",
            "__________________________________________________________________________________________________\n",
            "Dense1 (Dense)                  (None, 32)           1056        lstm7[0][0]                      \n",
            "__________________________________________________________________________________________________\n",
            "input_23 (InputLayer)           [(None, 25)]         0                                            \n",
            "__________________________________________________________________________________________________\n",
            "input_24 (InputLayer)           [(None, 25)]         0                                            \n",
            "__________________________________________________________________________________________________\n",
            "input_22 (InputLayer)           [(None, 5)]          0                                            \n",
            "__________________________________________________________________________________________________\n",
            "output-Dense (Dense)            (None, 5)            165         Dense1[0][0]                     \n",
            "__________________________________________________________________________________________________\n",
            "tf.compat.v1.shape_25 (TFOpLamb (2,)                 0           output-Dense[0][0]               \n",
            "__________________________________________________________________________________________________\n",
            "tf.__operators__.getitem_66 (Sl ()                   0           tf.compat.v1.shape_25[0][0]      \n",
            "__________________________________________________________________________________________________\n",
            "tf.reshape_69 (TFOpLambda)      (None, 5, 1)         0           output-Dense[0][0]               \n",
            "                                                                 tf.__operators__.getitem_66[0][0]\n",
            "__________________________________________________________________________________________________\n",
            "tf.reshape_70 (TFOpLambda)      (None, 5, 1)         0           input_22[0][0]                   \n",
            "                                                                 tf.__operators__.getitem_66[0][0]\n",
            "__________________________________________________________________________________________________\n",
            "tf.__operators__.getitem_67 (Sl (None, 1)            0           tf.reshape_69[0][0]              \n",
            "__________________________________________________________________________________________________\n",
            "tf.__operators__.getitem_68 (Sl (None, 1)            0           tf.reshape_70[0][0]              \n",
            "__________________________________________________________________________________________________\n",
            "tf.reshape_71 (TFOpLambda)      (None, 5, 5)         0           input_24[0][0]                   \n",
            "                                                                 tf.__operators__.getitem_66[0][0]\n",
            "__________________________________________________________________________________________________\n",
            "tf.math.subtract_19 (TFOpLambda (None, 1)            0           tf.__operators__.getitem_67[0][0]\n",
            "                                                                 tf.__operators__.getitem_68[0][0]\n",
            "__________________________________________________________________________________________________\n",
            "tf.__operators__.getitem_69 (Sl (None,)              0           tf.reshape_71[0][0]              \n",
            "__________________________________________________________________________________________________\n",
            "tf.math.square_5 (TFOpLambda)   (None, 1)            0           tf.math.subtract_19[0][0]        \n",
            "__________________________________________________________________________________________________\n",
            "tf.reshape_72 (TFOpLambda)      (None, 1)            0           tf.__operators__.getitem_69[0][0]\n",
            "                                                                 tf.__operators__.getitem_66[0][0]\n",
            "__________________________________________________________________________________________________\n",
            "tf.math.truediv_15 (TFOpLambda) (None, 1)            0           tf.math.square_5[0][0]           \n",
            "                                                                 tf.reshape_72[0][0]              \n",
            "__________________________________________________________________________________________________\n",
            "add_metric_15 (AddMetric)       (None, 1)            0           tf.math.truediv_15[0][0]         \n",
            "__________________________________________________________________________________________________\n",
            "tf.compat.v1.shape_26 (TFOpLamb (2,)                 0           output-Dense[0][0]               \n",
            "__________________________________________________________________________________________________\n",
            "tf.__operators__.getitem_70 (Sl ()                   0           tf.compat.v1.shape_26[0][0]      \n",
            "__________________________________________________________________________________________________\n",
            "tf.reshape_73 (TFOpLambda)      (None, 5, 1)         0           output-Dense[0][0]               \n",
            "                                                                 tf.__operators__.getitem_70[0][0]\n",
            "__________________________________________________________________________________________________\n",
            "tf.reshape_74 (TFOpLambda)      (None, 5, 1)         0           input_22[0][0]                   \n",
            "                                                                 tf.__operators__.getitem_70[0][0]\n",
            "__________________________________________________________________________________________________\n",
            "tf.__operators__.getitem_71 (Sl (None, 1)            0           tf.reshape_73[0][0]              \n",
            "__________________________________________________________________________________________________\n",
            "tf.__operators__.getitem_72 (Sl (None, 1)            0           tf.reshape_74[0][0]              \n",
            "__________________________________________________________________________________________________\n",
            "tf.reshape_75 (TFOpLambda)      (None, 5, 5)         0           input_24[0][0]                   \n",
            "                                                                 tf.__operators__.getitem_70[0][0]\n",
            "__________________________________________________________________________________________________\n",
            "tf.math.subtract_20 (TFOpLambda (None, 1)            0           tf.__operators__.getitem_71[0][0]\n",
            "                                                                 tf.__operators__.getitem_72[0][0]\n",
            "__________________________________________________________________________________________________\n",
            "tf.__operators__.getitem_73 (Sl (None,)              0           tf.reshape_75[0][0]              \n",
            "__________________________________________________________________________________________________\n",
            "tf.math.square_6 (TFOpLambda)   (None, 1)            0           tf.math.subtract_20[0][0]        \n",
            "__________________________________________________________________________________________________\n",
            "tf.reshape_76 (TFOpLambda)      (None, 1)            0           tf.__operators__.getitem_73[0][0]\n",
            "                                                                 tf.__operators__.getitem_70[0][0]\n",
            "__________________________________________________________________________________________________\n",
            "tf.math.truediv_16 (TFOpLambda) (None, 1)            0           tf.math.square_6[0][0]           \n",
            "                                                                 tf.reshape_76[0][0]              \n",
            "__________________________________________________________________________________________________\n",
            "add_metric_16 (AddMetric)       (None, 1)            0           tf.math.truediv_16[0][0]         \n",
            "__________________________________________________________________________________________________\n",
            "tf.compat.v1.shape_27 (TFOpLamb (2,)                 0           output-Dense[0][0]               \n",
            "__________________________________________________________________________________________________\n",
            "tf.__operators__.getitem_74 (Sl ()                   0           tf.compat.v1.shape_27[0][0]      \n",
            "__________________________________________________________________________________________________\n",
            "tf.reshape_77 (TFOpLambda)      (None, 5, 1)         0           output-Dense[0][0]               \n",
            "                                                                 tf.__operators__.getitem_74[0][0]\n",
            "__________________________________________________________________________________________________\n",
            "tf.reshape_78 (TFOpLambda)      (None, 5, 1)         0           input_22[0][0]                   \n",
            "                                                                 tf.__operators__.getitem_74[0][0]\n",
            "__________________________________________________________________________________________________\n",
            "tf.__operators__.getitem_75 (Sl (None, 1)            0           tf.reshape_77[0][0]              \n",
            "__________________________________________________________________________________________________\n",
            "tf.__operators__.getitem_76 (Sl (None, 1)            0           tf.reshape_78[0][0]              \n",
            "__________________________________________________________________________________________________\n",
            "tf.reshape_79 (TFOpLambda)      (None, 5, 5)         0           input_24[0][0]                   \n",
            "                                                                 tf.__operators__.getitem_74[0][0]\n",
            "__________________________________________________________________________________________________\n",
            "tf.math.subtract_21 (TFOpLambda (None, 1)            0           tf.__operators__.getitem_75[0][0]\n",
            "                                                                 tf.__operators__.getitem_76[0][0]\n",
            "__________________________________________________________________________________________________\n",
            "tf.__operators__.getitem_77 (Sl (None,)              0           tf.reshape_79[0][0]              \n",
            "__________________________________________________________________________________________________\n",
            "tf.math.square_7 (TFOpLambda)   (None, 1)            0           tf.math.subtract_21[0][0]        \n",
            "__________________________________________________________________________________________________\n",
            "tf.reshape_80 (TFOpLambda)      (None, 1)            0           tf.__operators__.getitem_77[0][0]\n",
            "                                                                 tf.__operators__.getitem_74[0][0]\n",
            "__________________________________________________________________________________________________\n",
            "tf.math.truediv_17 (TFOpLambda) (None, 1)            0           tf.math.square_7[0][0]           \n",
            "                                                                 tf.reshape_80[0][0]              \n",
            "__________________________________________________________________________________________________\n",
            "add_metric_17 (AddMetric)       (None, 1)            0           tf.math.truediv_17[0][0]         \n",
            "__________________________________________________________________________________________________\n",
            "tf.compat.v1.shape_28 (TFOpLamb (2,)                 0           output-Dense[0][0]               \n",
            "__________________________________________________________________________________________________\n",
            "tf.__operators__.getitem_78 (Sl ()                   0           tf.compat.v1.shape_28[0][0]      \n",
            "__________________________________________________________________________________________________\n",
            "tf.reshape_81 (TFOpLambda)      (None, 5, 1)         0           output-Dense[0][0]               \n",
            "                                                                 tf.__operators__.getitem_78[0][0]\n",
            "__________________________________________________________________________________________________\n",
            "tf.reshape_82 (TFOpLambda)      (None, 5, 1)         0           input_22[0][0]                   \n",
            "                                                                 tf.__operators__.getitem_78[0][0]\n",
            "__________________________________________________________________________________________________\n",
            "tf.__operators__.getitem_79 (Sl (None, 1)            0           tf.reshape_81[0][0]              \n",
            "__________________________________________________________________________________________________\n",
            "tf.__operators__.getitem_80 (Sl (None, 1)            0           tf.reshape_82[0][0]              \n",
            "__________________________________________________________________________________________________\n",
            "tf.reshape_83 (TFOpLambda)      (None, 5, 5)         0           input_24[0][0]                   \n",
            "                                                                 tf.__operators__.getitem_78[0][0]\n",
            "__________________________________________________________________________________________________\n",
            "tf.math.subtract_22 (TFOpLambda (None, 1)            0           tf.__operators__.getitem_79[0][0]\n",
            "                                                                 tf.__operators__.getitem_80[0][0]\n",
            "__________________________________________________________________________________________________\n",
            "tf.__operators__.getitem_81 (Sl (None,)              0           tf.reshape_83[0][0]              \n",
            "__________________________________________________________________________________________________\n",
            "tf.math.square_8 (TFOpLambda)   (None, 1)            0           tf.math.subtract_22[0][0]        \n",
            "__________________________________________________________________________________________________\n",
            "tf.reshape_84 (TFOpLambda)      (None, 1)            0           tf.__operators__.getitem_81[0][0]\n",
            "                                                                 tf.__operators__.getitem_78[0][0]\n",
            "__________________________________________________________________________________________________\n",
            "tf.math.truediv_18 (TFOpLambda) (None, 1)            0           tf.math.square_8[0][0]           \n",
            "                                                                 tf.reshape_84[0][0]              \n",
            "__________________________________________________________________________________________________\n",
            "add_metric_18 (AddMetric)       (None, 1)            0           tf.math.truediv_18[0][0]         \n",
            "__________________________________________________________________________________________________\n",
            "tf.compat.v1.shape_29 (TFOpLamb (2,)                 0           output-Dense[0][0]               \n",
            "__________________________________________________________________________________________________\n",
            "tf.__operators__.getitem_82 (Sl ()                   0           tf.compat.v1.shape_29[0][0]      \n",
            "__________________________________________________________________________________________________\n",
            "tf.reshape_85 (TFOpLambda)      (None, 5, 1)         0           output-Dense[0][0]               \n",
            "                                                                 tf.__operators__.getitem_82[0][0]\n",
            "__________________________________________________________________________________________________\n",
            "tf.reshape_86 (TFOpLambda)      (None, 5, 1)         0           input_22[0][0]                   \n",
            "                                                                 tf.__operators__.getitem_82[0][0]\n",
            "__________________________________________________________________________________________________\n",
            "tf.__operators__.getitem_83 (Sl (None, 1)            0           tf.reshape_85[0][0]              \n",
            "__________________________________________________________________________________________________\n",
            "tf.__operators__.getitem_84 (Sl (None, 1)            0           tf.reshape_86[0][0]              \n",
            "__________________________________________________________________________________________________\n",
            "tf.reshape_87 (TFOpLambda)      (None, 5, 5)         0           input_24[0][0]                   \n",
            "                                                                 tf.__operators__.getitem_82[0][0]\n",
            "__________________________________________________________________________________________________\n",
            "tf.math.subtract_23 (TFOpLambda (None, 1)            0           tf.__operators__.getitem_83[0][0]\n",
            "                                                                 tf.__operators__.getitem_84[0][0]\n",
            "__________________________________________________________________________________________________\n",
            "tf.__operators__.getitem_85 (Sl (None,)              0           tf.reshape_87[0][0]              \n",
            "__________________________________________________________________________________________________\n",
            "tf.math.square_9 (TFOpLambda)   (None, 1)            0           tf.math.subtract_23[0][0]        \n",
            "__________________________________________________________________________________________________\n",
            "tf.reshape_88 (TFOpLambda)      (None, 1)            0           tf.__operators__.getitem_85[0][0]\n",
            "                                                                 tf.__operators__.getitem_82[0][0]\n",
            "__________________________________________________________________________________________________\n",
            "tf.math.truediv_19 (TFOpLambda) (None, 1)            0           tf.math.square_9[0][0]           \n",
            "                                                                 tf.reshape_88[0][0]              \n",
            "__________________________________________________________________________________________________\n",
            "add_metric_19 (AddMetric)       (None, 1)            0           tf.math.truediv_19[0][0]         \n",
            "__________________________________________________________________________________________________\n",
            "tf.compat.v1.shape_30 (TFOpLamb (2,)                 0           output-Dense[0][0]               \n",
            "__________________________________________________________________________________________________\n",
            "tf.__operators__.getitem_86 (Sl ()                   0           tf.compat.v1.shape_30[0][0]      \n",
            "__________________________________________________________________________________________________\n",
            "tf.reshape_91 (TFOpLambda)      (None, 5, 5)         0           input_23[0][0]                   \n",
            "                                                                 tf.__operators__.getitem_86[0][0]\n",
            "__________________________________________________________________________________________________\n",
            "tf.reshape_89 (TFOpLambda)      (None, 5, 1)         0           output-Dense[0][0]               \n",
            "                                                                 tf.__operators__.getitem_86[0][0]\n",
            "__________________________________________________________________________________________________\n",
            "tf.reshape_90 (TFOpLambda)      (None, 5, 1)         0           input_22[0][0]                   \n",
            "                                                                 tf.__operators__.getitem_86[0][0]\n",
            "__________________________________________________________________________________________________\n",
            "tf.cast_11 (TFOpLambda)         (None, 5, 5)         0           tf.reshape_91[0][0]              \n",
            "__________________________________________________________________________________________________\n",
            "tf.cast_9 (TFOpLambda)          (None, 5, 1)         0           tf.reshape_89[0][0]              \n",
            "__________________________________________________________________________________________________\n",
            "tf.cast_10 (TFOpLambda)         (None, 5, 1)         0           tf.reshape_90[0][0]              \n",
            "__________________________________________________________________________________________________\n",
            "tf.compat.v1.transpose_3 (TFOpL (None, 5, 5)         0           tf.cast_11[0][0]                 \n",
            "__________________________________________________________________________________________________\n",
            "tf.math.subtract_24 (TFOpLambda (None, 5, 1)         0           tf.cast_9[0][0]                  \n",
            "                                                                 tf.cast_10[0][0]                 \n",
            "__________________________________________________________________________________________________\n",
            "tf.linalg.matmul_6 (TFOpLambda) (None, 5, 1)         0           tf.compat.v1.transpose_3[0][0]   \n",
            "                                                                 tf.math.subtract_24[0][0]        \n",
            "__________________________________________________________________________________________________\n",
            "tf.reshape_92 (TFOpLambda)      (None, 1, 5)         0           tf.linalg.matmul_6[0][0]         \n",
            "                                                                 tf.__operators__.getitem_86[0][0]\n",
            "__________________________________________________________________________________________________\n",
            "tf.linalg.matmul_7 (TFOpLambda) (None, 1, 1)         0           tf.reshape_92[0][0]              \n",
            "                                                                 tf.math.subtract_24[0][0]        \n",
            "__________________________________________________________________________________________________\n",
            "tf.reshape_93 (TFOpLambda)      (None,)              0           tf.linalg.matmul_7[0][0]         \n",
            "                                                                 tf.__operators__.getitem_86[0][0]\n",
            "__________________________________________________________________________________________________\n",
            "add_loss_3 (AddLoss)            (None,)              0           tf.reshape_93[0][0]              \n",
            "==================================================================================================\n",
            "Total params: 266,309\n",
            "Trainable params: 266,309\n",
            "Non-trainable params: 0\n",
            "__________________________________________________________________________________________________\n"
          ],
          "name": "stdout"
        }
      ]
    },
    {
      "cell_type": "markdown",
      "metadata": {
        "id": "nkjx1-6Gr76F"
      },
      "source": [
        "### Custom Train"
      ]
    },
    {
      "cell_type": "code",
      "metadata": {
        "id": "sjLh8Eh07HRW",
        "colab": {
          "base_uri": "https://localhost:8080/"
        },
        "outputId": "b0d3834a-f493-475a-ba56-a4805597de2d"
      },
      "source": [
        "# Using custom loss and gen\n",
        "# es = keras.callbacks.EarlyStopping(monitor='loss', min_delta=0.01, patience=10, mode='min', verbose=1, restore_best_weights=True)\n",
        "# H = model.fit(x=x_train, y=y_train, batch_size=64, epochs=100, validation_data=(x_test, y_test), verbose=1, callbacks=[es])\n",
        "\n",
        "# H = model.fit(x=x_train, y=y_train, batch_size=64, epochs=100, validation_data=test_gen, validation_steps=50, validation_batch_size=32, verbose=1)\n",
        "\n",
        "# Example how it kind of looks like\n",
        "# H = model.fit(x=[x_train, invCov, y_train], y=y_train, batch_size=64, epochs=100, verbose=1)\n",
        "\n",
        "# Overfit\n",
        "es = keras.callbacks.EarlyStopping(monitor='loss', min_delta=0.001, patience=100, mode='min', verbose=1, restore_best_weights=True)\n",
        "H = model.fit(x=x_train, y=y_train, batch_size=1, epochs=100, verbose=1, callbacks=[es])\n"
      ],
      "execution_count": 90,
      "outputs": [
        {
          "output_type": "stream",
          "text": [
            "Epoch 1/100\n",
            "7/7 [==============================] - 2s 210ms/step - loss: 13750938.0000 - mae: 28.5957 - q_pt: 1328.0695 - phi: 45214.1797 - tanl: 37452.4609 - D: 496.5587 - z: 578998.1250\n",
            "Epoch 2/100\n",
            "7/7 [==============================] - 2s 219ms/step - loss: 12678968.0000 - mae: 28.6218 - q_pt: 1614.2711 - phi: 34053.1641 - tanl: 31435.5273 - D: 1494.4353 - z: 576439.1250\n",
            "Epoch 3/100\n",
            "7/7 [==============================] - 2s 209ms/step - loss: 11817690.0000 - mae: 28.1344 - q_pt: 1226.3658 - phi: 17331.1602 - tanl: 14338.7197 - D: 6574.5894 - z: 569097.8125\n",
            "Epoch 4/100\n",
            "7/7 [==============================] - 1s 208ms/step - loss: 9788834.0000 - mae: 27.6044 - q_pt: 995.1754 - phi: 12673.7832 - tanl: 11991.8486 - D: 10075.6924 - z: 560910.9375\n",
            "Epoch 5/100\n",
            "7/7 [==============================] - 1s 212ms/step - loss: 8025408.0000 - mae: 26.8995 - q_pt: 480.9853 - phi: 44947.9375 - tanl: 4531.5669 - D: 27851.1543 - z: 542555.3125\n",
            "Epoch 6/100\n",
            "7/7 [==============================] - 2s 216ms/step - loss: 5763145.0000 - mae: 26.6690 - q_pt: 411.7152 - phi: 27106.4062 - tanl: 4998.8330 - D: 48238.6953 - z: 523158.9062\n",
            "Epoch 7/100\n",
            "7/7 [==============================] - 2s 211ms/step - loss: 4512619.5000 - mae: 26.5526 - q_pt: 378.6262 - phi: 21131.4629 - tanl: 9471.5312 - D: 71978.9453 - z: 505195.4375\n",
            "Epoch 8/100\n",
            "7/7 [==============================] - 2s 214ms/step - loss: 3702525.5000 - mae: 26.4955 - q_pt: 1164.9169 - phi: 71780.9922 - tanl: 37640.5391 - D: 152146.7344 - z: 470649.6562\n",
            "Epoch 9/100\n",
            "7/7 [==============================] - 1s 210ms/step - loss: 3568030.7500 - mae: 26.1127 - q_pt: 1134.4597 - phi: 49591.7617 - tanl: 43900.7227 - D: 165360.9844 - z: 461021.4375\n",
            "Epoch 10/100\n",
            "7/7 [==============================] - 2s 221ms/step - loss: 3955002.2500 - mae: 25.7114 - q_pt: 2626.2566 - phi: 18891.7090 - tanl: 83597.1328 - D: 213445.1250 - z: 431193.0000\n",
            "Epoch 11/100\n",
            "7/7 [==============================] - 1s 206ms/step - loss: 3743342.5000 - mae: 24.9948 - q_pt: 2780.2166 - phi: 35602.2500 - tanl: 85309.1328 - D: 199138.5781 - z: 416940.8125\n",
            "Epoch 12/100\n",
            "7/7 [==============================] - 2s 216ms/step - loss: 3706808.7500 - mae: 24.2305 - q_pt: 3160.4634 - phi: 145389.6562 - tanl: 66228.7109 - D: 149380.3750 - z: 407449.0312\n",
            "Epoch 13/100\n",
            "7/7 [==============================] - 2s 208ms/step - loss: 3112715.2500 - mae: 23.6352 - q_pt: 2633.1055 - phi: 21634.9004 - tanl: 61734.8633 - D: 119595.7656 - z: 399281.1562\n",
            "Epoch 14/100\n",
            "7/7 [==============================] - 1s 212ms/step - loss: 2967698.5000 - mae: 23.1386 - q_pt: 3222.4082 - phi: 26611.9512 - tanl: 63462.7617 - D: 112055.3750 - z: 385975.2188\n",
            "Epoch 15/100\n",
            "7/7 [==============================] - 1s 212ms/step - loss: 2834482.7500 - mae: 22.5512 - q_pt: 3328.1755 - phi: 38733.0273 - tanl: 60258.8828 - D: 103697.0156 - z: 374811.4375\n",
            "Epoch 16/100\n",
            "7/7 [==============================] - 1s 211ms/step - loss: 2772070.7500 - mae: 22.0516 - q_pt: 3500.1335 - phi: 58442.9961 - tanl: 55870.0664 - D: 95757.7656 - z: 360805.1562\n",
            "Epoch 17/100\n",
            "7/7 [==============================] - 1s 212ms/step - loss: 2589424.2500 - mae: 21.4448 - q_pt: 3063.3411 - phi: 40633.7539 - tanl: 51760.4648 - D: 88398.3984 - z: 348381.2188\n",
            "Epoch 18/100\n",
            "7/7 [==============================] - 1s 209ms/step - loss: 2476912.0000 - mae: 20.8519 - q_pt: 3343.2903 - phi: 25195.5840 - tanl: 54772.3438 - D: 88069.4766 - z: 330894.2500\n",
            "Epoch 19/100\n",
            "7/7 [==============================] - 2s 219ms/step - loss: 2443341.7500 - mae: 20.2120 - q_pt: 5590.0483 - phi: 33290.8672 - tanl: 66330.4766 - D: 96925.9766 - z: 312105.0938\n",
            "Epoch 20/100\n",
            "7/7 [==============================] - 2s 215ms/step - loss: 2244902.7500 - mae: 19.7245 - q_pt: 6745.9062 - phi: 34721.7148 - tanl: 68060.1484 - D: 92353.1016 - z: 289961.6562\n",
            "Epoch 21/100\n",
            "7/7 [==============================] - 1s 210ms/step - loss: 2140347.2500 - mae: 19.1780 - q_pt: 7057.5776 - phi: 32043.3398 - tanl: 62395.8008 - D: 85330.5078 - z: 281641.5938\n",
            "Epoch 22/100\n",
            "7/7 [==============================] - 2s 213ms/step - loss: 2095322.2500 - mae: 18.5897 - q_pt: 7053.3843 - phi: 34512.9062 - tanl: 55133.3672 - D: 78440.8203 - z: 273723.0312\n",
            "Epoch 23/100\n",
            "7/7 [==============================] - 2s 224ms/step - loss: 1944093.7500 - mae: 17.9267 - q_pt: 8636.7129 - phi: 28815.8301 - tanl: 50266.7812 - D: 74704.9375 - z: 256972.3281\n",
            "Epoch 24/100\n",
            "7/7 [==============================] - 1s 202ms/step - loss: 1768504.6250 - mae: 17.3344 - q_pt: 8635.1982 - phi: 27676.4258 - tanl: 46608.5625 - D: 70116.0234 - z: 239186.0312\n",
            "Epoch 25/100\n",
            "7/7 [==============================] - 1s 204ms/step - loss: 1720978.8750 - mae: 16.6798 - q_pt: 8613.4736 - phi: 29487.9102 - tanl: 44363.2891 - D: 67597.1406 - z: 232603.0469\n",
            "Epoch 26/100\n",
            "7/7 [==============================] - 2s 220ms/step - loss: 1601844.1250 - mae: 15.9315 - q_pt: 8978.1934 - phi: 36268.8164 - tanl: 40089.9648 - D: 65874.9766 - z: 217660.5469\n",
            "Epoch 27/100\n",
            "7/7 [==============================] - 1s 210ms/step - loss: 1451234.3750 - mae: 15.3485 - q_pt: 9520.0830 - phi: 23992.0410 - tanl: 37259.1758 - D: 67140.0859 - z: 195192.5469\n",
            "Epoch 28/100\n",
            "7/7 [==============================] - 1s 208ms/step - loss: 1365838.0000 - mae: 14.9253 - q_pt: 9889.7168 - phi: 30274.8555 - tanl: 35522.6875 - D: 65091.1953 - z: 185662.1250\n",
            "Epoch 29/100\n",
            "7/7 [==============================] - 2s 211ms/step - loss: 1253111.3750 - mae: 14.2504 - q_pt: 10976.1699 - phi: 34063.1797 - tanl: 31786.8301 - D: 62157.8398 - z: 167945.5156\n",
            "Epoch 30/100\n",
            "7/7 [==============================] - 1s 225ms/step - loss: 1156130.2500 - mae: 13.8229 - q_pt: 11018.0889 - phi: 22588.6055 - tanl: 29880.2168 - D: 62660.8203 - z: 155384.4688\n",
            "Epoch 31/100\n",
            "7/7 [==============================] - 1s 202ms/step - loss: 1089226.0000 - mae: 13.3123 - q_pt: 10301.5010 - phi: 27059.5977 - tanl: 25660.4180 - D: 58410.3164 - z: 144388.9844\n",
            "Epoch 32/100\n",
            "7/7 [==============================] - 1s 201ms/step - loss: 984736.4375 - mae: 13.1790 - q_pt: 8942.7861 - phi: 36912.3945 - tanl: 19970.4863 - D: 50912.8789 - z: 131704.1250\n",
            "Epoch 33/100\n",
            "7/7 [==============================] - 1s 207ms/step - loss: 916110.1250 - mae: 12.9749 - q_pt: 8165.2671 - phi: 18447.5234 - tanl: 18403.1660 - D: 50808.6133 - z: 119330.2734\n",
            "Epoch 34/100\n",
            "7/7 [==============================] - 1s 206ms/step - loss: 806509.3750 - mae: 12.9300 - q_pt: 7747.4038 - phi: 41222.2148 - tanl: 16838.2305 - D: 49567.6641 - z: 103972.4766\n",
            "Epoch 35/100\n",
            "7/7 [==============================] - 1s 200ms/step - loss: 742639.9375 - mae: 13.1803 - q_pt: 7620.1045 - phi: 20352.5508 - tanl: 16477.1133 - D: 55467.2852 - z: 91909.8047\n",
            "Epoch 36/100\n",
            "7/7 [==============================] - 1s 205ms/step - loss: 778653.5625 - mae: 13.3450 - q_pt: 8701.2412 - phi: 63907.9336 - tanl: 14237.1426 - D: 52994.6445 - z: 83978.4219\n",
            "Epoch 37/100\n",
            "7/7 [==============================] - 1s 215ms/step - loss: 641777.6250 - mae: 13.4390 - q_pt: 7954.5713 - phi: 22933.5176 - tanl: 12829.4209 - D: 53598.0938 - z: 77042.3984\n",
            "Epoch 38/100\n",
            "7/7 [==============================] - 1s 216ms/step - loss: 584688.5000 - mae: 13.3278 - q_pt: 5691.6147 - phi: 20618.3633 - tanl: 7714.6597 - D: 50107.5352 - z: 66826.6875\n",
            "Epoch 39/100\n",
            "7/7 [==============================] - 2s 215ms/step - loss: 918962.0000 - mae: 13.4522 - q_pt: 6356.9424 - phi: 117128.1641 - tanl: 7497.1172 - D: 49986.7266 - z: 59669.7461\n",
            "Epoch 40/100\n",
            "7/7 [==============================] - 1s 207ms/step - loss: 1088650.7500 - mae: 13.7367 - q_pt: 4380.6021 - phi: 25450.8281 - tanl: 7583.1240 - D: 66180.2109 - z: 50347.2578\n",
            "Epoch 41/100\n",
            "7/7 [==============================] - 2s 219ms/step - loss: 443909.7188 - mae: 13.8345 - q_pt: 4594.3560 - phi: 43533.7891 - tanl: 6297.1001 - D: 53920.2305 - z: 47775.7539\n",
            "Epoch 42/100\n",
            "7/7 [==============================] - 1s 214ms/step - loss: 727853.8750 - mae: 13.7452 - q_pt: 3634.7964 - phi: 97231.6953 - tanl: 4125.8442 - D: 44303.5391 - z: 45193.8203\n",
            "Epoch 43/100\n",
            "7/7 [==============================] - 1s 208ms/step - loss: 766188.6250 - mae: 13.8214 - q_pt: 1768.6200 - phi: 18238.3828 - tanl: 4455.6802 - D: 56876.1523 - z: 42139.5547\n",
            "Epoch 44/100\n",
            "7/7 [==============================] - 1s 203ms/step - loss: 355468.0938 - mae: 13.8958 - q_pt: 1892.0890 - phi: 28211.0977 - tanl: 5224.2031 - D: 51478.2812 - z: 36151.8164\n",
            "Epoch 45/100\n",
            "7/7 [==============================] - 1s 200ms/step - loss: 885580.0000 - mae: 13.8141 - q_pt: 1716.1024 - phi: 130247.2031 - tanl: 4639.5264 - D: 39730.2617 - z: 31887.1758\n",
            "Epoch 46/100\n",
            "7/7 [==============================] - 1s 219ms/step - loss: 677197.5625 - mae: 13.9195 - q_pt: 703.1722 - phi: 17876.5898 - tanl: 4401.4517 - D: 46107.9141 - z: 29958.0117\n",
            "Epoch 47/100\n",
            "7/7 [==============================] - 1s 211ms/step - loss: 476283.2812 - mae: 13.9376 - q_pt: 977.2036 - phi: 73007.8672 - tanl: 4295.7871 - D: 37189.3984 - z: 29121.9473\n",
            "Epoch 48/100\n",
            "7/7 [==============================] - 2s 217ms/step - loss: 290949.7500 - mae: 13.9469 - q_pt: 739.4015 - phi: 26277.2930 - tanl: 4220.5605 - D: 43376.8711 - z: 26397.0039\n",
            "Epoch 49/100\n",
            "7/7 [==============================] - 2s 212ms/step - loss: 295365.7812 - mae: 14.1699 - q_pt: 592.6203 - phi: 19524.6562 - tanl: 4127.6377 - D: 44099.1055 - z: 23914.5410\n",
            "Epoch 50/100\n",
            "7/7 [==============================] - 1s 201ms/step - loss: 317413.2500 - mae: 14.2539 - q_pt: 583.4404 - phi: 49351.8555 - tanl: 4155.4248 - D: 41497.6875 - z: 22680.0117\n",
            "Epoch 51/100\n",
            "7/7 [==============================] - 2s 220ms/step - loss: 265778.8750 - mae: 14.3777 - q_pt: 468.9872 - phi: 26207.6367 - tanl: 4204.6577 - D: 45773.1016 - z: 20796.4961\n",
            "Epoch 52/100\n",
            "7/7 [==============================] - 2s 216ms/step - loss: 265704.5312 - mae: 14.4360 - q_pt: 458.3140 - phi: 37181.3711 - tanl: 4321.1948 - D: 45113.2461 - z: 19557.4688\n",
            "Epoch 53/100\n",
            "7/7 [==============================] - 2s 217ms/step - loss: 251085.1406 - mae: 14.5370 - q_pt: 423.5583 - phi: 32329.6719 - tanl: 4497.5103 - D: 45178.8867 - z: 18690.8965\n",
            "Epoch 54/100\n",
            "7/7 [==============================] - 1s 203ms/step - loss: 257366.2031 - mae: 14.6545 - q_pt: 482.2090 - phi: 30240.7285 - tanl: 4448.1665 - D: 43993.5039 - z: 17480.8340\n",
            "Epoch 55/100\n",
            "7/7 [==============================] - 1s 204ms/step - loss: 249999.6562 - mae: 14.6589 - q_pt: 480.9897 - phi: 34455.0977 - tanl: 4482.3384 - D: 40331.9141 - z: 16671.6191\n",
            "Epoch 56/100\n",
            "7/7 [==============================] - 1s 209ms/step - loss: 244748.8438 - mae: 14.8011 - q_pt: 488.6165 - phi: 31012.5723 - tanl: 4626.3545 - D: 41020.3828 - z: 16291.9541\n",
            "Epoch 57/100\n",
            "7/7 [==============================] - 1s 213ms/step - loss: 244230.6094 - mae: 14.8887 - q_pt: 553.3467 - phi: 29449.4668 - tanl: 4685.5356 - D: 40836.0195 - z: 15407.8896\n",
            "Epoch 58/100\n",
            "7/7 [==============================] - 2s 210ms/step - loss: 276058.2812 - mae: 14.9018 - q_pt: 586.0306 - phi: 47111.0000 - tanl: 4799.3853 - D: 40577.4609 - z: 14659.7295\n",
            "Epoch 59/100\n",
            "7/7 [==============================] - 1s 216ms/step - loss: 269765.6562 - mae: 15.0405 - q_pt: 658.2076 - phi: 33500.8945 - tanl: 4872.6709 - D: 42504.9609 - z: 14432.8584\n",
            "Epoch 60/100\n",
            "7/7 [==============================] - 2s 217ms/step - loss: 289785.0000 - mae: 15.1107 - q_pt: 794.2497 - phi: 22052.9004 - tanl: 5144.2334 - D: 44781.1562 - z: 14113.4971\n",
            "Epoch 61/100\n",
            "7/7 [==============================] - 1s 214ms/step - loss: 320372.0625 - mae: 15.1671 - q_pt: 806.7694 - phi: 60667.6055 - tanl: 5341.5532 - D: 42140.8711 - z: 14122.3594\n",
            "Epoch 62/100\n",
            "7/7 [==============================] - 2s 220ms/step - loss: 251529.6250 - mae: 15.2909 - q_pt: 1164.8403 - phi: 29952.4043 - tanl: 5024.6040 - D: 44820.8828 - z: 14182.9893\n",
            "Epoch 63/100\n",
            "7/7 [==============================] - 1s 212ms/step - loss: 239703.3906 - mae: 15.3099 - q_pt: 1307.3154 - phi: 28519.2871 - tanl: 5044.1411 - D: 43602.4336 - z: 14123.5312\n",
            "Epoch 64/100\n",
            "7/7 [==============================] - 1s 202ms/step - loss: 244392.3594 - mae: 15.3011 - q_pt: 1281.0675 - phi: 37906.4961 - tanl: 5343.3989 - D: 41323.7148 - z: 14075.6104\n",
            "Epoch 65/100\n",
            "7/7 [==============================] - 1s 212ms/step - loss: 255147.7812 - mae: 15.3541 - q_pt: 1411.5433 - phi: 37380.4023 - tanl: 5159.3350 - D: 40692.2773 - z: 13990.7861\n",
            "Epoch 66/100\n",
            "7/7 [==============================] - 2s 217ms/step - loss: 236468.7344 - mae: 15.3177 - q_pt: 1396.5702 - phi: 23097.2773 - tanl: 5296.6914 - D: 41125.0938 - z: 13382.8691\n",
            "Epoch 67/100\n",
            "7/7 [==============================] - 1s 203ms/step - loss: 344866.9375 - mae: 15.2778 - q_pt: 1110.4143 - phi: 65304.6836 - tanl: 5530.7158 - D: 39237.6875 - z: 13348.5967\n",
            "Epoch 68/100\n",
            "7/7 [==============================] - 1s 209ms/step - loss: 319383.5625 - mae: 15.4005 - q_pt: 1082.3782 - phi: 16677.0918 - tanl: 5726.2695 - D: 48714.9102 - z: 13227.4688\n",
            "Epoch 69/100\n",
            "7/7 [==============================] - 1s 220ms/step - loss: 226035.8281 - mae: 15.2518 - q_pt: 1088.4309 - phi: 25326.7402 - tanl: 5658.2812 - D: 44451.9727 - z: 13262.5303\n",
            "Epoch 70/100\n",
            "7/7 [==============================] - 1s 208ms/step - loss: 478569.9062 - mae: 15.1613 - q_pt: 1058.8156 - phi: 86128.3672 - tanl: 5166.0718 - D: 33787.8633 - z: 13301.6025\n",
            "Epoch 71/100\n",
            "7/7 [==============================] - 1s 205ms/step - loss: 347394.3438 - mae: 15.3948 - q_pt: 1213.6726 - phi: 46192.7852 - tanl: 4899.4761 - D: 37847.1250 - z: 13225.8652\n",
            "Epoch 72/100\n",
            "7/7 [==============================] - 2s 212ms/step - loss: 1357892.2500 - mae: 15.7780 - q_pt: 1737.7422 - phi: 44737.9062 - tanl: 5004.4888 - D: 55132.8320 - z: 12860.0420\n",
            "Epoch 73/100\n",
            "7/7 [==============================] - 1s 220ms/step - loss: 1772130.6250 - mae: 15.0647 - q_pt: 746.9674 - phi: 245347.2031 - tanl: 6745.5962 - D: 29948.7520 - z: 15075.4561\n",
            "Epoch 74/100\n",
            "7/7 [==============================] - 1s 216ms/step - loss: 456890.7188 - mae: 14.9756 - q_pt: 941.2466 - phi: 78190.2422 - tanl: 5109.7144 - D: 36934.7422 - z: 15610.9453\n",
            "Epoch 75/100\n",
            "7/7 [==============================] - 1s 206ms/step - loss: 1906407.0000 - mae: 15.5221 - q_pt: 2008.6561 - phi: 72657.2422 - tanl: 4078.3264 - D: 54762.5625 - z: 17140.9648\n",
            "Epoch 76/100\n",
            "7/7 [==============================] - 1s 213ms/step - loss: 483243.2188 - mae: 15.0412 - q_pt: 1055.0159 - phi: 83464.4219 - tanl: 4465.9019 - D: 35012.5547 - z: 20714.3867\n",
            "Epoch 77/100\n",
            "7/7 [==============================] - 2s 217ms/step - loss: 373071.8438 - mae: 14.9186 - q_pt: 1054.8772 - phi: 66433.7422 - tanl: 4218.9170 - D: 37892.5938 - z: 20683.9492\n",
            "Epoch 78/100\n",
            "7/7 [==============================] - 1s 217ms/step - loss: 439884.5625 - mae: 15.1807 - q_pt: 1357.1448 - phi: 16623.7383 - tanl: 4138.3804 - D: 51004.5938 - z: 19213.3242\n",
            "Epoch 79/100\n",
            "7/7 [==============================] - 1s 205ms/step - loss: 247094.0000 - mae: 15.0279 - q_pt: 1240.4813 - phi: 23808.6230 - tanl: 4188.5605 - D: 46821.5664 - z: 19064.1758\n",
            "Epoch 80/100\n",
            "7/7 [==============================] - 2s 226ms/step - loss: 333239.1562 - mae: 15.0561 - q_pt: 1049.8752 - phi: 61818.7422 - tanl: 4566.1938 - D: 41800.2695 - z: 18661.1621\n",
            "Epoch 81/100\n",
            "7/7 [==============================] - 2s 210ms/step - loss: 242968.2656 - mae: 15.0601 - q_pt: 1098.5209 - phi: 30794.3594 - tanl: 4494.2192 - D: 44496.6016 - z: 17291.3730\n",
            "Epoch 82/100\n",
            "7/7 [==============================] - 1s 215ms/step - loss: 253465.1562 - mae: 15.1403 - q_pt: 1047.0338 - phi: 26993.9590 - tanl: 4792.2002 - D: 44295.4688 - z: 16754.1152\n",
            "Epoch 83/100\n",
            "7/7 [==============================] - 2s 208ms/step - loss: 259527.5000 - mae: 15.1187 - q_pt: 941.2493 - phi: 40541.6953 - tanl: 4929.4873 - D: 42811.4609 - z: 15884.1299\n",
            "Epoch 84/100\n",
            "7/7 [==============================] - 1s 201ms/step - loss: 245755.3594 - mae: 15.1500 - q_pt: 1037.8107 - phi: 36791.8047 - tanl: 4908.1665 - D: 43097.6875 - z: 15058.5215\n",
            "Epoch 85/100\n",
            "7/7 [==============================] - 1s 213ms/step - loss: 253291.3438 - mae: 15.2084 - q_pt: 1142.5791 - phi: 26711.3477 - tanl: 5221.1323 - D: 42804.5352 - z: 14935.4199\n",
            "Epoch 86/100\n",
            "7/7 [==============================] - 2s 214ms/step - loss: 239491.2344 - mae: 15.1984 - q_pt: 1131.8816 - phi: 28365.2207 - tanl: 5154.8916 - D: 41689.3398 - z: 14744.7764\n",
            "Epoch 87/100\n",
            "7/7 [==============================] - 1s 208ms/step - loss: 280071.2188 - mae: 15.1630 - q_pt: 1095.3898 - phi: 50592.0625 - tanl: 5034.9956 - D: 38809.1875 - z: 14209.6221\n",
            "Epoch 88/100\n",
            "7/7 [==============================] - 1s 196ms/step - loss: 229382.3750 - mae: 15.1840 - q_pt: 1174.4260 - phi: 27510.9961 - tanl: 4834.7671 - D: 41780.6836 - z: 13689.9160\n",
            "Epoch 89/100\n",
            "7/7 [==============================] - 2s 212ms/step - loss: 244866.8906 - mae: 15.2561 - q_pt: 1229.1102 - phi: 27566.0000 - tanl: 4910.8506 - D: 41381.8633 - z: 13782.3613\n",
            "Epoch 90/100\n",
            "7/7 [==============================] - 1s 213ms/step - loss: 237935.2656 - mae: 15.2507 - q_pt: 1359.9225 - phi: 30667.9375 - tanl: 4920.5322 - D: 38228.4805 - z: 13819.2480\n",
            "Epoch 91/100\n",
            "7/7 [==============================] - 1s 206ms/step - loss: 243128.0938 - mae: 15.2620 - q_pt: 1321.0233 - phi: 36411.4453 - tanl: 5221.6089 - D: 36711.2070 - z: 13678.5850\n",
            "Epoch 92/100\n",
            "7/7 [==============================] - 2s 225ms/step - loss: 240792.5156 - mae: 15.3185 - q_pt: 1260.9392 - phi: 32837.7422 - tanl: 5193.7471 - D: 38435.8008 - z: 13043.1455\n",
            "Epoch 93/100\n",
            "7/7 [==============================] - 2s 220ms/step - loss: 240751.7188 - mae: 15.3698 - q_pt: 1153.1229 - phi: 30195.3164 - tanl: 5461.8008 - D: 40384.4102 - z: 12780.3281\n",
            "Epoch 94/100\n",
            "7/7 [==============================] - 1s 214ms/step - loss: 241926.3594 - mae: 15.3746 - q_pt: 1180.0166 - phi: 33435.3438 - tanl: 5430.9009 - D: 40011.0938 - z: 12623.7451\n",
            "Epoch 95/100\n",
            "7/7 [==============================] - 1s 209ms/step - loss: 237627.5781 - mae: 15.3820 - q_pt: 1293.1873 - phi: 31560.7910 - tanl: 5227.5596 - D: 39321.2109 - z: 12742.0303\n",
            "Epoch 96/100\n",
            "7/7 [==============================] - 1s 194ms/step - loss: 267620.2812 - mae: 15.3517 - q_pt: 1138.8132 - phi: 47436.8672 - tanl: 5449.0903 - D: 40347.4102 - z: 12824.4697\n",
            "Epoch 97/100\n",
            "7/7 [==============================] - 2s 214ms/step - loss: 272747.4375 - mae: 15.4144 - q_pt: 1213.0160 - phi: 41079.2305 - tanl: 5432.1470 - D: 41884.2070 - z: 12760.8936\n",
            "Epoch 98/100\n",
            "7/7 [==============================] - 1s 203ms/step - loss: 292456.8125 - mae: 15.4482 - q_pt: 1427.5824 - phi: 17504.4824 - tanl: 5387.8350 - D: 43962.2852 - z: 12757.8076\n",
            "Epoch 99/100\n",
            "7/7 [==============================] - 1s 210ms/step - loss: 327042.5625 - mae: 15.4150 - q_pt: 1032.5184 - phi: 62265.1328 - tanl: 6075.0542 - D: 41356.4180 - z: 12881.9092\n",
            "Epoch 100/100\n",
            "7/7 [==============================] - 1s 206ms/step - loss: 245296.9219 - mae: 15.4354 - q_pt: 1223.6119 - phi: 38324.0430 - tanl: 5692.9150 - D: 43958.7695 - z: 12866.1875\n"
          ],
          "name": "stdout"
        }
      ]
    },
    {
      "cell_type": "markdown",
      "metadata": {
        "id": "Ie8Rhqf765N5"
      },
      "source": [
        "## Non Custom Loss"
      ]
    },
    {
      "cell_type": "code",
      "metadata": {
        "id": "CpJHFBHy74vp"
      },
      "source": [
        "# --==Not in use?==--\n",
        "# lr_schedule = keras.optimizers.schedules.ExponentialDecay(\n",
        "#     initial_learning_rate=1e-3,\n",
        "#     decay_steps=10000,\n",
        "#     decay_rate=0.8)\n",
        "\n",
        "from keras.layers import Dense\n",
        "\n",
        "nInput = 10\n",
        "\n",
        "# inputs = keras.layers.Input((None,nInput))\n",
        "# print(\"train shape of one batch:\", x_train.shape[1:])\n",
        "\n",
        "# --==Set seed to get identical results==-- begin\n",
        "# from tensorflow.random import set_seed\n",
        "# np.random.seed(1)\n",
        "# set_seed(2)\n",
        "# --==Set seed to get identical results==-- end\n",
        "\n",
        "\n",
        "#--==Set Weights==--\n",
        "# loss_weights = [1/(sd**2)]\n",
        "# loss_weights = np.array(loss_weights)/sum(loss_weights)\n",
        "# model.compile(optimizer=optimizer, loss=\"mse\", loss_weights=loss_weights, metrics=[\"mae\"])\n",
        "\n",
        "inputs = keras.Input((None,nInput),ragged=True)\n",
        "\n",
        "# --==Choose model==--\n",
        "# x = model(inputs)\n",
        "# x = model_timeless(inputs)\n",
        "# x = RNNTime(inputs)\n",
        "x = RNNTimeless(inputs)\n",
        "# x = RNNTimeStateful(inputs)\n",
        "\n",
        "\n",
        "outs = {\n",
        "    \"q_pt\":Dense(1, name=\"q_pt\")(x),\n",
        "    \"phi\":Dense(1, name=\"phi\")(x),\n",
        "    \"tanl\":Dense(1, name=\"tanl\")(x),\n",
        "    \"D\":Dense(1, name=\"D\")(x),\n",
        "    \"z\":Dense(1, name=\"z\")(x)\n",
        "}\n",
        "\n",
        "y_dict = {\n",
        "    \"q_pt\":y_train[:,0],\n",
        "    \"phi\":y_train[:,1],\n",
        "    \"tanl\":y_train[:,2],\n",
        "    \"D\":y_train[:,3],\n",
        "    \"z\":y_train[:,4]\n",
        "}\n",
        "\n",
        "\n",
        "# model = keras.Model(inputs=inputs, outputs=x, name=\"RNNModel\")\n",
        "# model = keras.Model(inputs=inputs, outputs=x, name=\"RNNModel\")\n",
        "model = keras.Model(inputs=inputs, outputs=outs, name=\"RNNModel\")\n",
        "\n",
        "model.compile(optimizer=\"adam\", loss=\"mse\", metrics=[\"mae\"])\n",
        "\n",
        "model.summary()"
      ],
      "execution_count": null,
      "outputs": []
    },
    {
      "cell_type": "code",
      "metadata": {
        "id": "Hw07sS4jFgJI"
      },
      "source": [
        "es = keras.callbacks.EarlyStopping(monitor='loss', min_delta=0.01, patience=50, mode='min', verbose=1, restore_best_weights=True)\n",
        "rag_x = x_train[0]\n",
        "H = model.fit(x=rag_x, y=y_dict, batch_size=64, epochs=100, verbose=1, callbacks=[es])\n",
        "\n",
        "# Overfit\n",
        "# es = keras.callbacks.EarlyStopping(monitor='loss', min_delta=0.001, patience=100, mode='min', verbose=1, restore_best_weights=True)\n",
        "# H = model.fit(x=x_train[:10], y=y_train[:10], batch_size=1, epochs=200, verbose=1, shuffle=True, callbacks=[es])"
      ],
      "execution_count": null,
      "outputs": []
    },
    {
      "cell_type": "markdown",
      "metadata": {
        "id": "XZ5XBwDV7MGY"
      },
      "source": [
        "# Save model"
      ]
    },
    {
      "cell_type": "code",
      "metadata": {
        "id": "xWvST6o27MYI"
      },
      "source": [
        "# model.save('model.h5', save_format=\"h5\")\n",
        "# TODO check if file exists, increment counter\n",
        "model.save('drive/MyDrive/RealRNN_11-2-2021.h5', save_format=\"h5\")"
      ],
      "execution_count": 31,
      "outputs": []
    },
    {
      "cell_type": "markdown",
      "metadata": {
        "id": "Xw4xzpuKYEld"
      },
      "source": [
        "# Test Model"
      ]
    },
    {
      "cell_type": "code",
      "metadata": {
        "colab": {
          "base_uri": "https://localhost:8080/"
        },
        "id": "kZHLFMS1YE40",
        "outputId": "dc03b9ab-4f22-4b53-f6da-b8013ee55537"
      },
      "source": [
        "np.set_printoptions(suppress=True, precision=3)\n",
        "from time import sleep\n",
        "\n",
        "for i in range(10):\n",
        "  # aax, aay = next(test_gen)\n",
        "  # x, o, y = aax\n",
        "  # print(x.shape)\n",
        "  # print(o.shape)\n",
        "  # print(y.shape)\n",
        "  aax = x_train[0][i:i+1]\n",
        "  oax = x_train[1][i:i+1]\n",
        "  cax = x_train[2][i:i+1]\n",
        "  yax = x_train[3][i:i+1]\n",
        "  aay = y_train[i]\n",
        "  pred = model.predict([aax, oax, cax, yax])[0]\n",
        "  # print(pred.shape)\n",
        "  diff = pred - aay\n",
        "  # print(\"i: \",i)\n",
        "  # print(\"aax:  \",aax[0,0])\n",
        "  # print(\"aay:  \",aay)\n",
        "  print(\"pred: \",pred)\n",
        "  # print(\"diff: \",diff)\n",
        "  print(\"\")\n",
        "\n",
        "  # plt.plot(aay[0])\n",
        "  # plt.plot(pred[0])\n",
        "  # plt.show()\n",
        "\n",
        "  # for i in range(23):\n",
        "  #   print(\"aax:  \",aax[0,i,:5])\n",
        "  #   print(\"pred: \",pred[0,:5])\n",
        "  #   print(\"aay:  \",aay[0,:5])\n",
        "  #   print(\"diff: \",diff[0,:5])\n",
        "  #   print(\"\")\n",
        "\n",
        "# [Q/PT, phi, tanl, D, z]\n"
      ],
      "execution_count": 33,
      "outputs": [
        {
          "output_type": "stream",
          "text": [
            "pred:  [  1.32    0.369   7.304  -4.472 145.267]\n",
            "\n",
            "pred:  [  1.32    0.369   7.304  -4.472 145.267]\n",
            "\n",
            "pred:  [  1.32    0.369   7.304  -4.472 145.267]\n",
            "\n",
            "pred:  [  1.32    0.369   7.304  -4.472 145.267]\n",
            "\n",
            "pred:  [  1.32    0.369   7.304  -4.472 145.267]\n",
            "\n",
            "pred:  [  1.32    0.369   7.304  -4.472 145.267]\n",
            "\n",
            "pred:  [  1.32    0.369   7.304  -4.472 145.267]\n",
            "\n",
            "pred:  [  1.32    0.369   7.304  -4.472 145.267]\n",
            "\n",
            "pred:  [  1.32    0.369   7.304  -4.472 145.267]\n",
            "\n",
            "pred:  [  1.32    0.369   7.304  -4.472 145.266]\n",
            "\n"
          ],
          "name": "stdout"
        }
      ]
    },
    {
      "cell_type": "markdown",
      "metadata": {
        "id": "T56J0X6g7O2k"
      },
      "source": [
        "# Load Model"
      ]
    },
    {
      "cell_type": "code",
      "metadata": {
        "id": "zgLQh0jf7Ova"
      },
      "source": [
        "# model.save('drive/MyDrive/RealRNN_1-2-2021_2.h5', save_format=\"h5\")\n",
        "model = keras.models.load_model('drive/MyDrive/RealRNN_1-2-2021_2.h5')"
      ],
      "execution_count": null,
      "outputs": []
    },
    {
      "cell_type": "markdown",
      "metadata": {
        "id": "X72YH9S87cvW"
      },
      "source": [
        "# Graphs"
      ]
    },
    {
      "cell_type": "markdown",
      "metadata": {
        "id": "o6LGBSia7fg3"
      },
      "source": [
        "## Graph loss and mae"
      ]
    },
    {
      "cell_type": "code",
      "metadata": {
        "colab": {
          "base_uri": "https://localhost:8080/",
          "height": 1000
        },
        "id": "OUPAStLMtq7m",
        "outputId": "a167cdd2-7ed9-4808-a50a-2b05185b0b0c"
      },
      "source": [
        "print(H.history.keys())\n",
        "print(\"loss: \", H.history[\"loss\"])\n",
        "print(\"mae: \", H.history[\"mae\"])\n",
        "# print(\"val_loss: \", H.history[\"val_loss\"])\n",
        "# print(\"val_mae: \", H.history[\"val_mae\"])\n",
        "\n",
        "lim = 0\n",
        "\n",
        "if len(H.history.keys()) > 4:\n",
        "  fig, ax = plt.subplots(4,1,figsize=(5,20))\n",
        "  fig.subplots_adjust(hspace=0.35)\n",
        "\n",
        "  ax[0].plot(H.history[\"loss\"][lim:])\n",
        "  # ax[0].plot(H.history[\"val_loss\"][lim:])\n",
        "  ax[0].set_title(\"loss vs epoch\", fontsize=20)\n",
        "  ax[0].set_xlabel(\"epoch\", fontsize=15)\n",
        "  ax[0].set_ylabel(\"loss\", fontsize=15)\n",
        "  # ax[0].set_yscale(\"log\")\n",
        "  ax[0].legend([\"train\",\"val\"])\n",
        "  ax[0].grid(True)\n",
        "\n",
        "\n",
        "  ax[1].plot(H.history[\"mae\"][lim:])\n",
        "  # ax[1].plot(H.history[\"val_mae\"][lim:])\n",
        "  ax[1].set_title(\"mae vs epoch\", fontsize=20)\n",
        "  ax[1].set_xlabel(\"epoch\", fontsize=15)\n",
        "  ax[1].set_ylabel(\"mae\", fontsize=15)\n",
        "  ax[1].legend([\"train\",\"val\"])\n",
        "  ax[1].grid(True)\n",
        "\n",
        "  # ax[2].plot(H.history[\"q_pt\"][lim:])\n",
        "  ax[2].plot(H.history[\"phi\"][lim:])\n",
        "  ax[2].plot(H.history[\"tanl\"][lim:])\n",
        "  ax[2].plot(H.history[\"D\"][lim:])\n",
        "  ax[2].plot(H.history[\"z\"][lim:])\n",
        "  ax[2].set_title(\"data vs epoch\", fontsize=20)\n",
        "  ax[2].set_xlabel(\"epoch\", fontsize=15)\n",
        "  ax[2].set_ylabel(\"data\", fontsize=15)\n",
        "  # ax[2].legend([\"q_pt\",\"phi\",\"tanl\",\"D\",\"z\"])\n",
        "  ax[2].legend([\"phi\",\"tanl\",\"D\",\"z\"])\n",
        "  # ax[2].legend([\"phi\",\"D\",\"z\"])\n",
        "  ax[2].grid(True)\n",
        "\n",
        "  # ax[3].plot(H.history[\"val_q_pt\"][lim:])\n",
        "  ax[3].plot(H.history[\"val_phi\"][lim:])\n",
        "  ax[3].plot(H.history[\"val_tanl\"][lim:])\n",
        "  ax[3].plot(H.history[\"val_D\"][lim:])\n",
        "  ax[3].plot(H.history[\"val_z\"][lim:])\n",
        "  ax[3].set_title(\"data vs epoch\", fontsize=20)\n",
        "  ax[3].set_xlabel(\"epoch\", fontsize=15)\n",
        "  ax[3].set_ylabel(\"data\", fontsize=15)\n",
        "  # ax[3].legend([\"val_q_pt\",\"val_phi\",\"val_tanl\",\"val_D\",\"val_z\"])\n",
        "  ax[3].legend([\"val_phi\",\"val_tanl\",\"val_D\",\"val_z\"])\n",
        "  # ax[3].legend([\"val_phi\",\"val_D\",\"val_z\"])\n",
        "  ax[3].grid(True)\n",
        "\n",
        "else:\n",
        "  fig, ax = plt.subplots(2,1,figsize=(5,10))\n",
        "  fig.subplots_adjust(hspace=0.35)\n",
        "\n",
        "  ax[0].plot(H.history[\"loss\"][lim:])\n",
        "  # ax[0].plot(H.history[\"val_loss\"][lim:])\n",
        "  ax[0].set_title(\"loss vs epoch\", fontsize=20)\n",
        "  ax[0].set_xlabel(\"epoch\", fontsize=15)\n",
        "  ax[0].set_ylabel(\"loss\", fontsize=15)\n",
        "  # ax[0].set_yscale(\"log\")\n",
        "  ax[0].legend([\"train\",\"val\"])\n",
        "  ax[0].grid(True)\n",
        "\n",
        "\n",
        "  ax[1].plot(H.history[\"mae\"][lim:])\n",
        "  # ax[1].plot(H.history[\"val_mae\"][lim:])\n",
        "  ax[1].set_title(\"mae vs epoch\", fontsize=20)\n",
        "  ax[1].set_xlabel(\"epoch\", fontsize=15)\n",
        "  ax[1].set_ylabel(\"mae\", fontsize=15)\n",
        "  ax[1].legend([\"train\",\"val\"])\n",
        "  ax[1].grid(True)\n"
      ],
      "execution_count": 92,
      "outputs": [
        {
          "output_type": "stream",
          "text": [
            "dict_keys(['loss', 'mae', 'q_pt', 'phi', 'tanl', 'D', 'z'])\n",
            "loss:  [13750938.0, 12678968.0, 11817690.0, 9788834.0, 8025408.0, 5763145.0, 4512619.5, 3702525.5, 3568030.75, 3955002.25, 3743342.5, 3706808.75, 3112715.25, 2967698.5, 2834482.75, 2772070.75, 2589424.25, 2476912.0, 2443341.75, 2244902.75, 2140347.25, 2095322.25, 1944093.75, 1768504.625, 1720978.875, 1601844.125, 1451234.375, 1365838.0, 1253111.375, 1156130.25, 1089226.0, 984736.4375, 916110.125, 806509.375, 742639.9375, 778653.5625, 641777.625, 584688.5, 918962.0, 1088650.75, 443909.71875, 727853.875, 766188.625, 355468.09375, 885580.0, 677197.5625, 476283.28125, 290949.75, 295365.78125, 317413.25, 265778.875, 265704.53125, 251085.140625, 257366.203125, 249999.65625, 244748.84375, 244230.609375, 276058.28125, 269765.65625, 289785.0, 320372.0625, 251529.625, 239703.390625, 244392.359375, 255147.78125, 236468.734375, 344866.9375, 319383.5625, 226035.828125, 478569.90625, 347394.34375, 1357892.25, 1772130.625, 456890.71875, 1906407.0, 483243.21875, 373071.84375, 439884.5625, 247094.0, 333239.15625, 242968.265625, 253465.15625, 259527.5, 245755.359375, 253291.34375, 239491.234375, 280071.21875, 229382.375, 244866.890625, 237935.265625, 243128.09375, 240792.515625, 240751.71875, 241926.359375, 237627.578125, 267620.28125, 272747.4375, 292456.8125, 327042.5625, 245296.921875]\n",
            "mae:  [28.595748901367188, 28.621763229370117, 28.134374618530273, 27.604448318481445, 26.899459838867188, 26.66904640197754, 26.55263900756836, 26.49549674987793, 26.11273765563965, 25.711380004882812, 24.99479866027832, 24.230480194091797, 23.63519859313965, 23.13861656188965, 22.551158905029297, 22.051572799682617, 21.444807052612305, 20.85189437866211, 20.211963653564453, 19.724498748779297, 19.177980422973633, 18.589656829833984, 17.926727294921875, 17.334440231323242, 16.679777145385742, 15.931500434875488, 15.348472595214844, 14.92533016204834, 14.250393867492676, 13.822924613952637, 13.3123197555542, 13.178955078125, 12.974873542785645, 12.930023193359375, 13.180253982543945, 13.345040321350098, 13.438958168029785, 13.327750205993652, 13.452231407165527, 13.736693382263184, 13.834548950195312, 13.745237350463867, 13.821438789367676, 13.89575481414795, 13.81406307220459, 13.919478416442871, 13.937637329101562, 13.946944236755371, 14.169880867004395, 14.253949165344238, 14.37773323059082, 14.435986518859863, 14.537035942077637, 14.65446949005127, 14.658934593200684, 14.801064491271973, 14.88874340057373, 14.901755332946777, 15.04051399230957, 15.110700607299805, 15.16710090637207, 15.290911674499512, 15.309903144836426, 15.30113697052002, 15.354104042053223, 15.317680358886719, 15.27778434753418, 15.400522232055664, 15.251763343811035, 15.161328315734863, 15.39477825164795, 15.77796459197998, 15.064651489257812, 14.975631713867188, 15.522073745727539, 15.04124641418457, 14.918603897094727, 15.180746078491211, 15.027914047241211, 15.056071281433105, 15.060111045837402, 15.140332221984863, 15.118721008300781, 15.14996337890625, 15.208379745483398, 15.198410987854004, 15.162961959838867, 15.184019088745117, 15.256108283996582, 15.250738143920898, 15.262001991271973, 15.318467140197754, 15.369830131530762, 15.374552726745605, 15.382013320922852, 15.35167121887207, 15.41440486907959, 15.44817066192627, 15.415010452270508, 15.435407638549805]\n"
          ],
          "name": "stdout"
        },
        {
          "output_type": "error",
          "ename": "KeyError",
          "evalue": "ignored",
          "traceback": [
            "\u001b[0;31m---------------------------------------------------------------------------\u001b[0m",
            "\u001b[0;31mKeyError\u001b[0m                                  Traceback (most recent call last)",
            "\u001b[0;32m<ipython-input-92-d77adbe3990f>\u001b[0m in \u001b[0;36m<module>\u001b[0;34m()\u001b[0m\n\u001b[1;32m     43\u001b[0m \u001b[0;34m\u001b[0m\u001b[0m\n\u001b[1;32m     44\u001b[0m   \u001b[0;31m# ax[3].plot(H.history[\"val_q_pt\"][lim:])\u001b[0m\u001b[0;34m\u001b[0m\u001b[0;34m\u001b[0m\u001b[0;34m\u001b[0m\u001b[0m\n\u001b[0;32m---> 45\u001b[0;31m   \u001b[0max\u001b[0m\u001b[0;34m[\u001b[0m\u001b[0;36m3\u001b[0m\u001b[0;34m]\u001b[0m\u001b[0;34m.\u001b[0m\u001b[0mplot\u001b[0m\u001b[0;34m(\u001b[0m\u001b[0mH\u001b[0m\u001b[0;34m.\u001b[0m\u001b[0mhistory\u001b[0m\u001b[0;34m[\u001b[0m\u001b[0;34m\"val_phi\"\u001b[0m\u001b[0;34m]\u001b[0m\u001b[0;34m[\u001b[0m\u001b[0mlim\u001b[0m\u001b[0;34m:\u001b[0m\u001b[0;34m]\u001b[0m\u001b[0;34m)\u001b[0m\u001b[0;34m\u001b[0m\u001b[0;34m\u001b[0m\u001b[0m\n\u001b[0m\u001b[1;32m     46\u001b[0m   \u001b[0max\u001b[0m\u001b[0;34m[\u001b[0m\u001b[0;36m3\u001b[0m\u001b[0;34m]\u001b[0m\u001b[0;34m.\u001b[0m\u001b[0mplot\u001b[0m\u001b[0;34m(\u001b[0m\u001b[0mH\u001b[0m\u001b[0;34m.\u001b[0m\u001b[0mhistory\u001b[0m\u001b[0;34m[\u001b[0m\u001b[0;34m\"val_tanl\"\u001b[0m\u001b[0;34m]\u001b[0m\u001b[0;34m[\u001b[0m\u001b[0mlim\u001b[0m\u001b[0;34m:\u001b[0m\u001b[0;34m]\u001b[0m\u001b[0;34m)\u001b[0m\u001b[0;34m\u001b[0m\u001b[0;34m\u001b[0m\u001b[0m\n\u001b[1;32m     47\u001b[0m   \u001b[0max\u001b[0m\u001b[0;34m[\u001b[0m\u001b[0;36m3\u001b[0m\u001b[0;34m]\u001b[0m\u001b[0;34m.\u001b[0m\u001b[0mplot\u001b[0m\u001b[0;34m(\u001b[0m\u001b[0mH\u001b[0m\u001b[0;34m.\u001b[0m\u001b[0mhistory\u001b[0m\u001b[0;34m[\u001b[0m\u001b[0;34m\"val_D\"\u001b[0m\u001b[0;34m]\u001b[0m\u001b[0;34m[\u001b[0m\u001b[0mlim\u001b[0m\u001b[0;34m:\u001b[0m\u001b[0;34m]\u001b[0m\u001b[0;34m)\u001b[0m\u001b[0;34m\u001b[0m\u001b[0;34m\u001b[0m\u001b[0m\n",
            "\u001b[0;31mKeyError\u001b[0m: 'val_phi'"
          ]
        },
        {
          "output_type": "display_data",
          "data": {
            "image/png": "[encoded data removed]",
            "text/plain": [
              "<Figure size 360x1440 with 4 Axes>"
            ]
          },
          "metadata": {
            "tags": [],
            "needs_background": "light"
          }
        }
      ]
    },
    {
      "cell_type": "code",
      "metadata": {
        "id": "k6XSgSit7dE3",
        "colab": {
          "base_uri": "https://localhost:8080/",
          "height": 704
        },
        "outputId": "b3a1caaf-1b21-4348-bfe7-1315ccb39171"
      },
      "source": [
        "print(H.history.keys())\n",
        "print(\"loss: \", H.history[\"loss\"])\n",
        "print(\"mae: \", H.history[\"mae\"])\n",
        "# print(\"val_loss: \", H.history[\"val_loss\"])\n",
        "# print(\"val_mae: \", H.history[\"val_mae\"])\n",
        "\n",
        "lim = 2\n",
        "\n",
        "fig, ax = plt.subplots(2,1,figsize=(5,10))\n",
        "fig.subplots_adjust(hspace=0.35)\n",
        "\n",
        "ax[0].plot(H.history[\"loss\"][lim:])\n",
        "# ax[0].plot(H.history[\"val_loss\"][lim:])\n",
        "ax[0].set_title(\"loss vs epoch\", fontsize=20)\n",
        "ax[0].set_xlabel(\"epoch\", fontsize=15)\n",
        "ax[0].set_ylabel(\"loss\", fontsize=15)\n",
        "ax[0].set_yscale(\"log\")\n",
        "ax[0].legend([\"train\",\"val\"])\n",
        "ax[0].grid(True)\n",
        "\n",
        "\n",
        "ax[1].plot(H.history[\"mae\"][lim:])\n",
        "# ax[1].plot(H.history[\"val_mae\"][lim:])\n",
        "ax[1].set_title(\"mae vs epoch\", fontsize=20)\n",
        "ax[1].set_xlabel(\"epoch\", fontsize=15)\n",
        "ax[1].set_ylabel(\"mae\", fontsize=15)\n",
        "ax[1].legend([\"train\",\"val\"])\n",
        "ax[1].grid(True)\n"
      ],
      "execution_count": null,
      "outputs": [
        {
          "output_type": "stream",
          "text": [
            "dict_keys(['loss', 'mae'])\n",
            "loss:  [126944.15625, 125522.3984375, 124109.0546875, 122704.2421875, 121308.1015625, 119920.734375, 118542.296875, 117172.9140625, 115812.6953125, 114461.796875, 113120.296875, 111788.3046875, 110465.9296875, 109153.2890625, 107850.4453125, 106557.4921875, 105274.5546875, 104001.6484375, 102738.8984375, 101486.3046875, 100243.9921875, 99011.9765625, 97790.296875, 96579.0546875, 95378.234375, 94187.8671875, 93007.9921875, 91838.6484375, 90679.8203125, 89531.53125, 88393.8125, 87266.6640625, 86150.0546875, 85043.9609375, 83948.4375, 82863.4296875, 81788.9375, 80724.9375, 79671.390625, 78628.3046875, 77595.609375, 76573.28125, 75561.328125, 74559.640625, 73568.2421875, 72587.078125, 71616.0859375, 70655.21875, 69704.4609375, 68763.75, 67833.0078125, 66912.2109375, 66001.3203125, 65100.234375, 64208.93359375, 63327.3671875, 62455.44140625, 61593.12890625, 60740.3671875, 59897.09375, 59063.25, 58238.7421875, 57423.5625, 56617.60546875, 55820.84375, 55033.1796875, 54254.58984375, 53484.98046875, 52724.28515625, 51972.453125, 51229.40234375, 50495.0859375, 49769.4375, 49052.37890625, 48343.87109375, 47643.8203125, 46952.1640625, 46268.8515625, 45593.8046875, 44926.95703125, 44268.25, 43617.62109375, 42974.99609375, 42340.3046875, 41713.5, 41094.4921875, 40483.23046875, 39879.65625, 39283.6796875, 38695.2578125, 38114.3125, 37540.7890625, 36974.62109375, 36415.7265625, 35864.0546875, 35319.5546875, 34782.13671875, 34251.73828125, 33728.3125, 33211.78515625, 32702.091796875, 32199.173828125, 31702.95703125, 31213.396484375, 30730.40625, 30253.9375, 29783.921875, 29320.302734375, 28863.0234375, 28411.99609375, 27967.1875, 27528.517578125, 27095.935546875, 26669.3828125, 26248.78125, 25834.08984375, 25425.232421875, 25022.162109375, 24624.814453125, 24233.12109375, 23847.03515625, 23466.486328125, 23091.4296875, 22721.79296875, 22357.52734375, 21998.57421875, 21644.86328125, 21296.349609375, 20952.9765625, 20614.677734375, 20281.408203125, 19953.09765625, 19629.71484375, 19311.173828125, 18997.44140625, 18688.453125, 18384.154296875, 18084.4921875, 17789.419921875, 17498.875, 17212.802734375, 16931.158203125, 16653.880859375, 16380.923828125, 16112.23046875, 15847.755859375, 15587.443359375, 15331.2421875, 15079.107421875, 14830.98046875, 14586.81640625, 14346.564453125, 14110.17578125, 13877.6015625, 13648.7919921875, 13423.7041015625, 13202.2783203125, 12984.474609375, 12770.25390625, 12559.5615234375, 12352.3486328125, 12148.57421875, 11948.1943359375, 11751.154296875, 11557.4189453125, 11366.939453125, 11179.67578125, 10995.576171875, 10814.609375, 10636.7236328125, 10461.8740234375, 10290.0283203125, 10121.140625, 9955.1630859375, 9792.060546875, 9631.794921875, 9474.3212890625, 9319.6015625, 9167.5947265625, 9018.267578125, 8871.5703125, 8727.4716796875, 8585.9326171875, 8446.91796875, 8310.384765625, 8176.3037109375, 8044.6318359375, 7915.33837890625, 7788.3779296875, 7663.7255859375, 7541.34375, 7421.19775390625, 7303.248046875, 7187.466796875, 7073.8203125, 6962.27490234375, 6852.796875, 6745.349609375, 6639.90673828125, 6536.4326171875, 6434.904296875, 6335.2822265625, 6237.5380859375, 6141.6435546875, 6047.5634765625, 5955.2734375, 5864.7431640625, 5775.947265625, 5688.8486328125, 5603.42578125, 5519.65087890625, 5437.49609375, 5356.9326171875, 5277.9306640625, 5200.4716796875, 5124.5205078125, 5050.0615234375, 4977.060546875, 4905.5, 4835.35009765625, 4766.587890625, 4699.189453125, 4633.1328125, 4568.38427734375, 4504.93359375, 4442.75537109375, 4381.82421875, 4322.11865234375, 4263.6171875, 4206.3017578125, 4150.140625, 4095.12548828125, 4041.22314453125, 3988.4248046875, 3936.708740234375, 3886.046875, 3836.42822265625, 3787.83154296875, 3740.2373046875, 3693.626220703125, 3647.973876953125, 3603.2734375, 3559.50048828125, 3516.64013671875, 3474.675537109375, 3433.587890625, 3393.358154296875, 3353.978515625, 3315.421875, 3277.6767578125, 3240.73388671875, 3204.5693359375, 3169.17138671875, 3134.52099609375, 3100.60986328125, 3067.421142578125, 3034.940185546875, 3003.14892578125, 2972.04248046875, 2941.6025390625, 2911.814453125, 2882.668212890625, 2854.140869140625, 2826.2353515625, 2798.930908203125, 2772.2158203125, 2746.080810546875, 2720.506591796875, 2695.48974609375, 2671.017578125, 2647.0751953125, 2623.6552734375, 2600.74365234375, 2578.33447265625, 2556.412109375, 2534.96630859375, 2513.9912109375, 2493.4794921875, 2473.40966796875, 2453.784423828125, 2434.5869140625, 2415.814453125, 2397.45166015625, 2379.491943359375, 2361.9296875, 2344.75146484375, 2327.9521484375, 2311.5244140625, 2295.45556640625, 2279.742919921875, 2264.3740234375, 2249.343017578125, 2234.6484375, 2220.27490234375, 2206.21923828125, 2192.4716796875, 2179.024658203125, 2165.877685546875, 2153.0205078125, 2140.44677734375, 2128.14599609375, 2116.11962890625, 2104.357666015625, 2092.85009765625, 2081.60009765625, 2070.593994140625, 2059.830322265625, 2049.306396484375, 2039.0087890625, 2028.936279296875, 2019.08837890625, 2009.4501953125, 2000.025390625, 1990.80126953125, 1981.7802734375, 1972.957763671875, 1964.32470703125, 1955.8739013671875, 1947.61669921875, 1939.5274658203125, 1931.617431640625, 1923.87646484375, 1916.300048828125, 1908.8916015625, 1901.6361083984375, 1894.5350341796875, 1887.585693359375, 1880.7877197265625, 1874.1258544921875, 1867.607421875, 1861.2275390625, 1854.98388671875, 1848.868896484375, 1842.880615234375, 1837.0172119140625, 1831.276611328125, 1825.6513671875, 1820.1416015625, 1814.7486572265625, 1809.46435546875, 1804.285888671875, 1799.21533203125, 1794.24609375, 1789.373291015625, 1784.60498046875, 1779.926025390625, 1775.34423828125, 1770.85009765625, 1766.443115234375, 1762.125732421875, 1757.890380859375, 1753.740234375, 1749.6630859375, 1745.6719970703125, 1741.751708984375, 1737.907470703125, 1734.1357421875, 1730.432861328125, 1726.802734375, 1723.236083984375, 1719.73291015625, 1716.29833984375, 1712.92822265625, 1709.6162109375, 1706.36181640625, 1703.168701171875, 1700.02978515625, 1696.94580078125, 1693.9141845703125, 1690.938232421875, 1688.013427734375, 1685.1357421875, 1682.3076171875, 1679.526123046875, 1676.79345703125, 1674.1046142578125, 1671.4578857421875, 1668.8551025390625, 1666.2960205078125, 1663.77978515625, 1661.29736328125, 1658.855712890625, 1656.453369140625, 1654.0902099609375, 1651.758544921875, 1649.46435546875, 1647.2032470703125, 1644.9755859375, 1642.7822265625, 1640.6201171875, 1638.491943359375, 1636.389404296875, 1634.31884765625, 1632.2774658203125, 1630.26318359375, 1628.281494140625, 1626.319091796875, 1624.3857421875, 1622.47607421875, 1620.596435546875, 1618.739990234375, 1616.904052734375, 1615.0919189453125, 1613.30615234375, 1611.541748046875, 1609.7974853515625, 1608.0751953125, 1606.375, 1604.69287109375, 1603.0303955078125, 1601.38818359375, 1599.760986328125, 1598.155029296875, 1596.5711669921875, 1595.0006103515625, 1593.447509765625, 1591.9105224609375, 1590.39111328125, 1588.8843994140625, 1587.399658203125, 1585.927978515625, 1584.470947265625, 1583.029541015625, 1581.5986328125, 1580.184814453125, 1578.785888671875, 1577.3990478515625, 1576.026123046875, 1574.666259765625, 1573.317138671875, 1571.978515625, 1570.656494140625, 1569.34521484375, 1568.0443115234375, 1566.7581787109375, 1565.482177734375, 1564.2169189453125, 1562.957275390625, 1561.715087890625, 1560.479248046875, 1559.255615234375, 1558.041259765625, 1556.8349609375, 1555.6416015625, 1554.454833984375, 1553.280517578125, 1552.1126708984375, 1550.9541015625, 1549.805419921875, 1548.6619873046875, 1547.529296875, 1546.40380859375, 1545.28857421875, 1544.1802978515625, 1543.079345703125, 1541.98681640625, 1540.90185546875, 1539.8258056640625, 1538.7548828125, 1537.689453125, 1536.6326904296875, 1535.586181640625, 1534.5439453125, 1533.50732421875, 1532.4764404296875, 1531.456787109375, 1530.4420166015625, 1529.433349609375, 1528.43017578125, 1527.434326171875, 1526.440185546875, 1525.4580078125, 1524.4794921875, 1523.5069580078125, 1522.5400390625, 1521.5791015625, 1520.619873046875, 1519.670654296875, 1518.728271484375, 1517.789306640625, 1516.8564453125, 1515.92724609375, 1515.0028076171875, 1514.08447265625, 1513.172607421875, 1512.263671875, 1511.35986328125, 1510.462890625, 1509.5673828125, 1508.6790771484375, 1507.795654296875, 1506.919921875, 1506.04150390625, 1505.1748046875, 1504.3092041015625, 1503.4471435546875, 1502.594482421875, 1501.738525390625, 1500.8916015625, 1500.049560546875, 1499.2099609375, 1498.3739013671875, 1497.545166015625, 1496.7181396484375, 1495.894775390625, 1495.080078125, 1494.263671875, 1493.45263671875, 1492.6492919921875, 1491.843994140625, 1491.0447998046875, 1490.2509765625, 1489.462646484375, 1488.673828125, 1487.890869140625, 1487.1083984375, 1486.33837890625, 1485.56103515625, 1484.7955322265625, 1484.02783203125, 1483.26708984375, 1482.5087890625, 1481.75830078125, 1481.0048828125, 1480.260009765625, 1479.5137939453125, 1478.7724609375, 1478.03662109375, 1477.302001953125, 1476.571044921875, 1475.847412109375, 1475.1204833984375, 1474.400390625, 1473.6805419921875, 1472.96826171875, 1472.2591552734375, 1471.550048828125, 1470.847900390625, 1470.144775390625, 1469.446044921875, 1468.7509765625, 1468.0562744140625, 1467.3671875, 1466.681640625, 1465.99951171875, 1465.31640625, 1464.64111328125, 1463.96728515625, 1463.2958984375, 1462.6260986328125, 1461.958740234375, 1461.29541015625, 1460.636962890625, 1459.979736328125, 1459.3258056640625, 1458.6767578125, 1458.0257568359375, 1457.3779296875, 1456.7344970703125, 1456.09326171875, 1455.456787109375, 1454.820556640625, 1454.1878662109375, 1453.55517578125, 1452.93017578125, 1452.3056640625, 1451.68212890625, 1451.06396484375, 1450.4482421875, 1449.832275390625, 1449.2205810546875, 1448.60888671875, 1448.00146484375, 1447.399658203125, 1446.799560546875, 1446.197021484375, 1445.6015625, 1445.00390625, 1444.413330078125, 1443.822998046875, 1443.234375, 1442.650146484375, 1442.06640625, 1441.485595703125, 1440.906982421875, 1440.330810546875, 1439.7591552734375, 1439.187255859375, 1438.6182861328125, 1438.046875, 1437.4862060546875, 1436.923828125, 1436.364013671875, 1435.8056640625, 1435.24560546875, 1434.69482421875, 1434.144287109375, 1433.59326171875, 1433.043212890625, 1432.49755859375, 1431.957763671875, 1431.4144287109375, 1430.8779296875, 1430.34130859375, 1429.804443359375, 1429.27197265625, 1428.738525390625, 1428.212890625, 1427.68359375, 1427.160888671875, 1426.6405029296875, 1426.11767578125, 1425.59765625, 1425.0794677734375, 1424.5655517578125, 1424.0478515625, 1423.5408935546875, 1423.029541015625, 1422.517822265625, 1422.013427734375, 1421.51123046875, 1421.0087890625, 1420.510009765625, 1420.011962890625, 1419.51611328125, 1419.0177001953125, 1418.526123046875, 1418.0321044921875, 1417.5450439453125, 1417.05712890625, 1416.56982421875, 1416.08642578125, 1415.6036376953125, 1415.120361328125, 1414.6390380859375, 1414.1617431640625, 1413.6864013671875, 1413.213623046875, 1412.7427978515625, 1412.26708984375, 1411.7982177734375, 1411.331298828125, 1410.865966796875, 1410.3988037109375, 1409.93994140625, 1409.472412109375, 1409.0155029296875, 1408.555908203125, 1408.09814453125, 1407.64306640625, 1407.193603515625, 1406.737548828125, 1406.284912109375, 1405.837646484375, 1405.3892822265625, 1404.9405517578125, 1404.4989013671875, 1404.054443359375, 1403.6112060546875, 1403.1695556640625, 1402.732177734375, 1402.2911376953125, 1401.857421875, 1401.4212646484375, 1400.9893798828125, 1400.5546875, 1400.123779296875, 1399.690673828125, 1399.265869140625, 1398.83740234375, 1398.411865234375, 1397.9873046875, 1397.5662841796875, 1397.14111328125, 1396.7215576171875, 1396.303955078125, 1395.8836669921875, 1395.46923828125, 1395.054443359375, 1394.634521484375, 1394.2275390625, 1393.810302734375, 1393.40185546875, 1392.98876953125, 1392.5849609375, 1392.17431640625, 1391.769775390625, 1391.36474609375, 1390.9610595703125, 1390.56103515625, 1390.157470703125, 1389.75830078125, 1389.3582763671875, 1388.961181640625, 1388.56201171875, 1388.1656494140625, 1387.7755126953125, 1387.380126953125, 1386.98681640625, 1386.592529296875, 1386.203369140625, 1385.8153076171875, 1385.4267578125, 1385.0390625, 1384.6512451171875, 1384.27099609375, 1383.8858642578125, 1383.4993896484375, 1383.11865234375, 1382.7364501953125, 1382.356201171875, 1381.9749755859375, 1381.599365234375, 1381.2227783203125, 1380.8463134765625, 1380.4725341796875, 1380.0968017578125, 1379.722900390625, 1379.3515625, 1378.9801025390625, 1378.605224609375, 1378.2354736328125, 1377.8701171875, 1377.5013427734375, 1377.134765625, 1376.7677001953125, 1376.40087890625, 1376.0384521484375, 1375.67333984375, 1375.31005859375, 1374.9447021484375, 1374.58740234375, 1374.22509765625, 1373.8658447265625, 1373.5068359375, 1373.149658203125, 1372.7906494140625, 1372.43701171875, 1372.080322265625, 1371.7242431640625, 1371.370849609375, 1371.018798828125, 1370.6630859375, 1370.3145751953125, 1369.961669921875, 1369.610595703125, 1369.2603759765625, 1368.9130859375, 1368.56689453125, 1368.2193603515625, 1367.8726806640625, 1367.52392578125, 1367.1798095703125, 1366.83544921875, 1366.4888916015625, 1366.1474609375, 1365.8037109375, 1365.463623046875, 1365.1224365234375, 1364.780029296875, 1364.44091796875, 1364.102294921875, 1363.763427734375, 1363.4267578125, 1363.089599609375, 1362.7550048828125, 1362.4166259765625, 1362.0833740234375, 1361.74462890625, 1361.41259765625, 1361.079345703125, 1360.7447509765625, 1360.41015625, 1360.080810546875, 1359.7496337890625, 1359.4207763671875, 1359.0908203125, 1358.76123046875, 1358.429931640625, 1358.1044921875, 1357.774658203125, 1357.4488525390625, 1357.12353515625, 1356.792236328125, 1356.4703369140625, 1356.14208984375, 1355.820556640625, 1355.4970703125, 1355.17236328125, 1354.847900390625, 1354.52978515625, 1354.20166015625, 1353.8802490234375, 1353.5616455078125, 1353.2384033203125, 1352.92236328125, 1352.6024169921875, 1352.2845458984375, 1351.96240234375, 1351.645751953125, 1351.326904296875, 1351.0089111328125, 1350.6943359375, 1350.3778076171875, 1350.0618896484375, 1349.7469482421875, 1349.4315185546875, 1349.116455078125, 1348.802001953125, 1348.48486328125, 1348.1719970703125, 1347.8594970703125, 1347.5517578125, 1347.23779296875, 1346.9251708984375, 1346.6138916015625, 1346.302001953125, 1345.990966796875, 1345.6812744140625, 1345.3740234375, 1345.0648193359375, 1344.75146484375, 1344.444091796875, 1344.1376953125, 1343.829345703125, 1343.52001953125, 1343.21533203125, 1342.908447265625, 1342.598388671875, 1342.295654296875, 1341.98681640625, 1341.68408203125, 1341.3797607421875, 1341.07080078125, 1340.7666015625, 1340.4658203125, 1340.15966796875, 1339.854736328125, 1339.5535888671875, 1339.24853515625, 1338.95068359375, 1338.645751953125, 1338.34228515625, 1338.043701171875, 1337.7418212890625, 1337.440185546875, 1337.1390380859375, 1336.837890625, 1336.538330078125, 1336.23876953125, 1335.93994140625, 1335.640380859375, 1335.3419189453125, 1335.0391845703125, 1334.7447509765625, 1334.446044921875, 1334.147216796875, 1333.8504638671875, 1333.55029296875, 1333.255126953125, 1332.959228515625, 1332.660888671875, 1332.3648681640625, 1332.0704345703125, 1331.77392578125, 1331.476318359375, 1331.1815185546875, 1330.8834228515625, 1330.5921630859375, 1330.2998046875, 1330.0013427734375, 1329.70849609375, 1329.415283203125, 1329.118408203125, 1328.824462890625, 1328.5325927734375, 1328.2381591796875, 1327.9439697265625, 1327.65234375, 1327.359130859375, 1327.068115234375, 1326.77392578125, 1326.4854736328125, 1326.192626953125, 1325.8984375, 1325.6065673828125, 1325.317138671875, 1325.0240478515625, 1324.7353515625, 1324.44384765625, 1324.1544189453125, 1323.86181640625, 1323.5731201171875, 1323.27978515625, 1322.991943359375, 1322.6998291015625, 1322.411865234375, 1322.12255859375, 1321.83447265625, 1321.544189453125, 1321.258544921875, 1320.96533203125, 1320.6776123046875, 1320.3900146484375, 1320.1014404296875, 1319.8165283203125, 1319.5234375, 1319.239990234375, 1318.948974609375, 1318.6661376953125, 1318.3763427734375, 1318.087890625, 1317.80029296875, 1317.5130615234375, 1317.224609375, 1316.9378662109375, 1316.650146484375, 1316.37060546875, 1316.0810546875, 1315.7923583984375, 1315.508056640625, 1315.2193603515625, 1314.9342041015625, 1314.6488037109375, 1314.3642578125, 1314.07666015625, 1313.790771484375, 1313.507080078125, 1313.2216796875, 1312.938232421875, 1312.64892578125, 1312.3677978515625, 1312.079345703125, 1311.79541015625, 1311.510009765625, 1311.2264404296875, 1310.943115234375, 1310.6575927734375, 1310.373046875, 1310.08837890625, 1309.8050537109375, 1309.5181884765625, 1309.2373046875, 1308.955078125, 1308.668212890625, 1308.38427734375, 1308.102294921875, 1307.8193359375, 1307.533447265625, 1307.25244140625, 1306.9688720703125, 1306.6827392578125, 1306.403076171875, 1306.1168212890625, 1305.8363037109375, 1305.552978515625, 1305.26806640625, 1304.9853515625, 1304.7008056640625, 1304.4219970703125, 1304.13818359375, 1303.853515625, 1303.571533203125, 1303.291259765625, 1303.005859375, 1302.723876953125, 1302.442626953125, 1302.160400390625, 1301.8795166015625, 1301.5960693359375, 1301.3160400390625, 1301.0323486328125, 1300.7470703125, 1300.4678955078125, 1300.187255859375, 1299.9019775390625, 1299.62158203125, 1299.3388671875, 1299.058837890625, 1298.775390625, 1298.4931640625, 1298.2169189453125, 1297.9326171875, 1297.6494140625, 1297.3677978515625, 1297.0872802734375, 1296.809326171875, 1296.5272216796875, 1296.24462890625, 1295.96142578125, 1295.6842041015625, 1295.4013671875, 1295.11962890625, 1294.8387451171875, 1294.556640625, 1294.2779541015625, 1293.994140625, 1293.713134765625, 1293.43310546875, 1293.150146484375]\n",
            "mae:  [18.873132705688477, 18.87113380432129, 18.8691349029541, 18.86713409423828, 18.865135192871094, 18.863134384155273, 18.861135482788086, 18.859140396118164, 18.85714340209961, 18.855144500732422, 18.853151321411133, 18.85115623474121, 18.849163055419922, 18.847171783447266, 18.84518051147461, 18.843191146850586, 18.841203689575195, 18.839216232299805, 18.83723258972168, 18.835248947143555, 18.833271026611328, 18.831289291381836, 18.82931137084961, 18.82733726501465, 18.825363159179688, 18.82339096069336, 18.821422576904297, 18.819456100463867, 18.817493438720703, 18.81553077697754, 18.81357192993164, 18.811614990234375, 18.809659957885742, 18.807708740234375, 18.80575942993164, 18.803813934326172, 18.801870346069336, 18.799930572509766, 18.797992706298828, 18.796056747436523, 18.794124603271484, 18.79219627380371, 18.790271759033203, 18.788349151611328, 18.786428451538086, 18.78451156616211, 18.7825984954834, 18.780689239501953, 18.77878189086914, 18.776880264282227, 18.774980545043945, 18.773082733154297, 18.771188735961914, 18.769298553466797, 18.767414093017578, 18.76552963256836, 18.76365089416504, 18.761775970458984, 18.759902954101562, 18.758031845092773, 18.756168365478516, 18.754304885864258, 18.7524471282959, 18.750591278076172, 18.748743057250977, 18.74689292907715, 18.74505043029785, 18.743209838867188, 18.741374969482422, 18.73954200744629, 18.737712860107422, 18.735889434814453, 18.734066009521484, 18.732250213623047, 18.73043441772461, 18.728626251220703, 18.72681999206543, 18.725017547607422, 18.72321891784668, 18.721426010131836, 18.719635009765625, 18.71784782409668, 18.716066360473633, 18.71428680419922, 18.712512969970703, 18.71074104309082, 18.708972930908203, 18.707210540771484, 18.7054500579834, 18.70369529724121, 18.70194435119629, 18.700197219848633, 18.698453903198242, 18.696714401245117, 18.69498062133789, 18.693248748779297, 18.69152069091797, 18.68979835510254, 18.688077926635742, 18.686363220214844, 18.68465232849121, 18.68294334411621, 18.68124008178711, 18.679540634155273, 18.677845001220703, 18.6761531829834, 18.67446517944336, 18.67278289794922, 18.67110252380371, 18.6694278717041, 18.667755126953125, 18.666088104248047, 18.664424896240234, 18.662765502929688, 18.661109924316406, 18.65945816040039, 18.65781021118164, 18.656166076660156, 18.654525756835938, 18.652889251708984, 18.651256561279297, 18.649629592895508, 18.648006439208984, 18.64638328552246, 18.644765853881836, 18.64315414428711, 18.641544342041016, 18.63994026184082, 18.638338088989258, 18.63673973083496, 18.635147094726562, 18.633556365966797, 18.631969451904297, 18.630386352539062, 18.628808975219727, 18.627233505249023, 18.625659942626953, 18.62409019470215, 18.622528076171875, 18.620967864990234, 18.619409561157227, 18.617855072021484, 18.61630630493164, 18.614757537841797, 18.61321449279785, 18.611675262451172, 18.610137939453125, 18.608606338500977, 18.60707664489746, 18.60555076599121, 18.60402488708496, 18.602506637573242, 18.60099220275879, 18.599477767944336, 18.59796714782715, 18.59646224975586, 18.594959259033203, 18.593456268310547, 18.591960906982422, 18.590465545654297, 18.58897590637207, 18.587488174438477, 18.586002349853516, 18.58452033996582, 18.58304214477539, 18.581565856933594, 18.580093383789062, 18.578622817993164, 18.5771541595459, 18.5756893157959, 18.574228286743164, 18.572769165039062, 18.571311950683594, 18.56985855102539, 18.568408966064453, 18.566957473754883, 18.56551170349121, 18.564067840576172, 18.562625885009766, 18.561189651489258, 18.55975341796875, 18.558319091796875, 18.556888580322266, 18.55545997619629, 18.554033279418945, 18.552608489990234, 18.55118751525879, 18.54976463317871, 18.548349380493164, 18.546932220458984, 18.545520782470703, 18.544109344482422, 18.54269790649414, 18.541292190551758, 18.539886474609375, 18.538482666015625, 18.53708267211914, 18.535682678222656, 18.534284591674805, 18.532888412475586, 18.531494140625, 18.53010368347168, 18.52871322631836, 18.527324676513672, 18.525936126708984, 18.524551391601562, 18.52316665649414, 18.52178382873535, 18.520404815673828, 18.519023895263672, 18.51764678955078, 18.51626968383789, 18.514894485473633, 18.51352310180664, 18.512149810791016, 18.510778427124023, 18.509408950805664, 18.508039474487305, 18.506671905517578, 18.505306243896484, 18.503942489624023, 18.502578735351562, 18.501216888427734, 18.499855041503906, 18.498493194580078, 18.497135162353516, 18.495777130126953, 18.49441909790039, 18.49306297302246, 18.491708755493164, 18.490352630615234, 18.48900032043457, 18.487646102905273, 18.48629379272461, 18.484943389892578, 18.483592987060547, 18.482242584228516, 18.480894088745117, 18.47954750061035, 18.478199005126953, 18.476850509643555, 18.475505828857422, 18.474159240722656, 18.472814559936523, 18.47146987915039, 18.47012710571289, 18.468782424926758, 18.467437744140625, 18.466096878051758, 18.464754104614258, 18.46341323852539, 18.46207046508789, 18.460729598999023, 18.45939064025879, 18.458049774169922, 18.456708908081055, 18.45536994934082, 18.454029083251953, 18.45269012451172, 18.451351165771484, 18.45001220703125, 18.448673248291016, 18.447336196899414, 18.445999145507812, 18.444660186767578, 18.443323135375977, 18.441984176635742, 18.44064712524414, 18.43931007385254, 18.437973022460938, 18.436634063720703, 18.4352970123291, 18.4339599609375, 18.432621002197266, 18.431283950805664, 18.429946899414062, 18.428607940673828, 18.42727279663086, 18.425933837890625, 18.42459487915039, 18.42325782775879, 18.421920776367188, 18.420581817626953, 18.41924476623535, 18.417903900146484, 18.41656494140625, 18.415225982666016, 18.41388702392578, 18.412548065185547, 18.411209106445312, 18.409870147705078, 18.408527374267578, 18.40718650817871, 18.405847549438477, 18.40450668334961, 18.40316390991211, 18.401823043823242, 18.400480270385742, 18.399139404296875, 18.397796630859375, 18.396453857421875, 18.395109176635742, 18.393766403198242, 18.39242172241211, 18.39107894897461, 18.389732360839844, 18.38838768005371, 18.387042999267578, 18.385696411132812, 18.384349822998047, 18.38300132751465, 18.38165283203125, 18.380306243896484, 18.378957748413086, 18.377607345581055, 18.376256942749023, 18.374908447265625, 18.37355613708496, 18.37220573425293, 18.370853424072266, 18.369503021240234, 18.368148803710938, 18.36679458618164, 18.365442276000977, 18.364086151123047, 18.36273193359375, 18.361377716064453, 18.36001968383789, 18.35866355895996, 18.3573055267334, 18.355945587158203, 18.35458755493164, 18.353229522705078, 18.351869583129883, 18.350509643554688, 18.34914779663086, 18.3477840423584, 18.34642219543457, 18.34505844116211, 18.34369468688965, 18.342330932617188, 18.340965270996094, 18.339599609375, 18.338232040405273, 18.336864471435547, 18.33549690246582, 18.33412742614746, 18.3327579498291, 18.33138656616211, 18.33001708984375, 18.328645706176758, 18.327274322509766, 18.325899124145508, 18.324525833129883, 18.323150634765625, 18.321775436401367, 18.32040023803711, 18.319021224975586, 18.317644119262695, 18.316265106201172, 18.31488609313965, 18.313507080078125, 18.31212615966797, 18.31074333190918, 18.30936050415039, 18.3079776763916, 18.306594848632812, 18.30521011352539, 18.303823471069336, 18.302438735961914, 18.301050186157227, 18.299663543701172, 18.29827308654785, 18.296884536743164, 18.295494079589844, 18.29410171508789, 18.292709350585938, 18.291316986083984, 18.2899227142334, 18.288528442382812, 18.287132263183594, 18.285736083984375, 18.284337997436523, 18.282939910888672, 18.281543731689453, 18.280141830444336, 18.278743743896484, 18.277341842651367, 18.27593994140625, 18.2745361328125, 18.27313232421875, 18.271728515625, 18.270320892333984, 18.2689151763916, 18.267507553100586, 18.26609992980957, 18.264690399169922, 18.263280868530273, 18.261869430541992, 18.26045799255371, 18.259044647216797, 18.257633209228516, 18.2562198638916, 18.254802703857422, 18.253387451171875, 18.251972198486328, 18.250553131103516, 18.249134063720703, 18.24771499633789, 18.246294021606445, 18.244873046875, 18.243450164794922, 18.24202537536621, 18.240604400634766, 18.239177703857422, 18.23775291442871, 18.236324310302734, 18.23489761352539, 18.233470916748047, 18.232040405273438, 18.230609893798828, 18.22918128967285, 18.227746963500977, 18.226314544677734, 18.22488021850586, 18.223445892333984, 18.222009658813477, 18.2205753326416, 18.21913719177246, 18.21769905090332, 18.216259002685547, 18.214818954467773, 18.21337890625, 18.211936950683594, 18.210494995117188, 18.209049224853516, 18.207605361938477, 18.206159591674805, 18.204715728759766, 18.203266143798828, 18.201818466186523, 18.200368881225586, 18.19891929626465, 18.19746971130371, 18.19601821899414, 18.194564819335938, 18.193111419677734, 18.1916561126709, 18.190202713012695, 18.18874740600586, 18.18729019165039, 18.18583106994629, 18.184371948242188, 18.182912826538086, 18.18145179748535, 18.179988861083984, 18.17852783203125, 18.177064895629883, 18.175601959228516, 18.174135208129883, 18.17266845703125, 18.17120361328125, 18.169734954833984, 18.168264389038086, 18.16679573059082, 18.165325164794922, 18.163854598999023, 18.162382125854492, 18.16090965270996, 18.159435272216797, 18.157962799072266, 18.156484603881836, 18.15500831604004, 18.15353012084961, 18.152053833007812, 18.15057373046875, 18.149091720581055, 18.14760971069336, 18.146129608154297, 18.1446475982666, 18.143163681030273, 18.141677856445312, 18.140193939208984, 18.13870620727539, 18.137218475341797, 18.135732650756836, 18.13424301147461, 18.132753372192383, 18.131261825561523, 18.129772186279297, 18.128276824951172, 18.126785278320312, 18.125289916992188, 18.123794555664062, 18.12230110168457, 18.120803833007812, 18.119304656982422, 18.117807388305664, 18.116308212280273, 18.11480712890625, 18.113306045532227, 18.111804962158203, 18.110301971435547, 18.10879898071289, 18.1072940826416, 18.10578727722168, 18.10428237915039, 18.102773666381836, 18.101268768310547, 18.09975814819336, 18.098247528076172, 18.096736907958984, 18.095226287841797, 18.093713760375977, 18.09220314025879, 18.090686798095703, 18.08917236328125, 18.087657928466797, 18.086139678955078, 18.084623336791992, 18.083105087280273, 18.081584930419922, 18.080066680908203, 18.078548431396484, 18.077024459838867, 18.075502395629883, 18.073978424072266, 18.07245635986328, 18.07093048095703, 18.06940460205078, 18.06787872314453, 18.06635093688965, 18.064823150634766, 18.06329345703125, 18.061763763427734, 18.06023406982422, 18.05870246887207, 18.057170867919922, 18.05563735961914, 18.05410385131836, 18.052568435668945, 18.05103302001953, 18.049495697021484, 18.04796028137207, 18.04642105102539, 18.044883728027344, 18.043344497680664, 18.04180335998535, 18.04026222229004, 18.038721084594727, 18.03717803955078, 18.035633087158203, 18.034090042114258, 18.032543182373047, 18.03099822998047, 18.029451370239258, 18.027904510498047, 18.026355743408203, 18.02480697631836, 18.023256301879883, 18.021705627441406, 18.020153045654297, 18.018600463867188, 18.017047882080078, 18.015493392944336, 18.013938903808594, 18.01238250732422, 18.010828018188477, 18.00926971435547, 18.00771141052246, 18.006153106689453, 18.004592895507812, 18.003032684326172, 18.00147247314453, 17.999910354614258, 17.998348236083984, 17.996784210205078, 17.995220184326172, 17.993656158447266, 17.992090225219727, 17.990522384643555, 17.988956451416016, 17.98738670349121, 17.985820770263672, 17.984249114990234, 17.982677459716797, 17.981107711791992, 17.979536056518555, 17.977962493896484, 17.976390838623047, 17.974815368652344, 17.97323989868164, 17.971664428710938, 17.970088958740234, 17.968509674072266, 17.966934204101562, 17.965354919433594, 17.963775634765625, 17.962194442749023, 17.960613250732422, 17.95903205871582, 17.95745086669922, 17.955867767333984, 17.954282760620117, 17.95269775390625, 17.951112747192383, 17.949527740478516, 17.947938919067383, 17.946352005004883, 17.94476318359375, 17.943174362182617, 17.941585540771484, 17.939992904663086, 17.93840217590332, 17.936809539794922, 17.935216903686523, 17.933624267578125, 17.93202781677246, 17.930435180664062, 17.9288387298584, 17.927242279052734, 17.92564582824707, 17.92404556274414, 17.922449111938477, 17.920848846435547, 17.919248580932617, 17.917648315429688, 17.916046142578125, 17.914445877075195, 17.912841796875, 17.911235809326172, 17.90963363647461, 17.90802764892578, 17.906421661376953, 17.904817581176758, 17.903209686279297, 17.901599884033203, 17.899991989135742, 17.89838218688965, 17.896772384643555, 17.895160675048828, 17.893550872802734, 17.891937255859375, 17.89032554626465, 17.88871192932129, 17.887096405029297, 17.885480880737305, 17.883867263793945, 17.882251739501953, 17.880634307861328, 17.87901496887207, 17.877397537231445, 17.875776290893555, 17.874156951904297, 17.87253761291504, 17.870914459228516, 17.869293212890625, 17.867671966552734, 17.866046905517578, 17.864421844482422, 17.8627986907959, 17.86117172241211, 17.859546661376953, 17.857921600341797, 17.856292724609375, 17.854665756225586, 17.853036880493164, 17.85140609741211, 17.849777221679688, 17.848146438598633, 17.846513748168945, 17.84488296508789, 17.843250274658203, 17.841617584228516, 17.839981079101562, 17.838346481323242, 17.836711883544922, 17.83507537841797, 17.833438873291016, 17.83180046081543, 17.830163955688477, 17.828523635864258, 17.826885223388672, 17.82524299621582, 17.823604583740234, 17.821962356567383, 17.8203182220459, 17.818675994873047, 17.817033767700195, 17.815387725830078, 17.813745498657227, 17.81209945678711, 17.81045150756836, 17.808805465698242, 17.807159423828125, 17.805509567260742, 17.803861618041992, 17.80221176147461, 17.800561904907227, 17.798912048339844, 17.797260284423828, 17.795608520507812, 17.793956756591797, 17.792301177978516, 17.790647506713867, 17.78899383544922, 17.78734016418457, 17.785682678222656, 17.784027099609375, 17.782367706298828, 17.780712127685547, 17.779052734375, 17.777393341064453, 17.77573585510254, 17.77407455444336, 17.772415161132812, 17.770751953125, 17.76909065246582, 17.76742935180664, 17.765764236450195, 17.764101028442383, 17.762435913085938, 17.76076889038086, 17.759103775024414, 17.757436752319336, 17.755769729614258, 17.75410270690918, 17.75243377685547, 17.750764846801758, 17.749095916748047, 17.747425079345703, 17.74575424194336, 17.744083404541016, 17.74241065979004, 17.740737915039062, 17.739063262939453, 17.737390518188477, 17.735713958740234, 17.734039306640625, 17.732364654541016, 17.730688095092773, 17.72901153564453, 17.727333068847656, 17.725656509399414, 17.723976135253906, 17.72229766845703, 17.720617294311523, 17.718936920166016, 17.717256546020508, 17.715572357177734, 17.713891983032227, 17.712207794189453, 17.71052360534668, 17.70884132385254, 17.707155227661133, 17.70547103881836, 17.703784942626953, 17.702096939086914, 17.700408935546875, 17.698720932006836, 17.697032928466797, 17.695344924926758, 17.693655014038086, 17.691965103149414, 17.69027328491211, 17.688581466674805, 17.6868896484375, 17.685197830200195, 17.683504104614258, 17.68181037902832, 17.68011474609375, 17.678421020507812, 17.676725387573242, 17.675029754638672, 17.6733341217041, 17.671634674072266, 17.669937133789062, 17.66823959350586, 17.666540145874023, 17.664840698242188, 17.66314125061035, 17.661439895629883, 17.659738540649414, 17.658035278320312, 17.656333923339844, 17.654630661010742, 17.65292739868164, 17.651222229003906, 17.649517059326172, 17.647811889648438, 17.646106719970703, 17.644399642944336, 17.64269256591797, 17.6409854888916, 17.6392765045166, 17.637569427490234, 17.635860443115234, 17.6341495513916, 17.63243865966797, 17.630725860595703, 17.629016876220703, 17.627304077148438, 17.625591278076172, 17.623876571655273, 17.622163772583008, 17.62044906616211, 17.61873435974121, 17.617019653320312, 17.61530303955078, 17.61358642578125, 17.61186981201172, 17.610151290893555, 17.60843276977539, 17.606714248657227, 17.60499382019043, 17.603275299072266, 17.60155487060547, 17.599834442138672, 17.598112106323242, 17.59638786315918, 17.59466552734375, 17.59294319152832, 17.591218948364258, 17.589494705200195, 17.587770462036133, 17.586044311523438, 17.584318161010742, 17.582592010498047, 17.58086395263672, 17.579137802124023, 17.577407836914062, 17.575679779052734, 17.573951721191406, 17.572221755981445, 17.570491790771484, 17.56875991821289, 17.567028045654297, 17.565296173095703, 17.56356430053711, 17.561830520629883, 17.560096740722656, 17.558361053466797, 17.556629180908203, 17.55489158630371, 17.553157806396484, 17.55141830444336, 17.549684524536133, 17.54794692993164, 17.54620933532715, 17.544469833374023, 17.5427303314209, 17.540990829467773, 17.539249420166016, 17.53750991821289, 17.535770416259766, 17.534027099609375, 17.532285690307617, 17.53054428100586, 17.528799057006836, 17.527055740356445, 17.525312423706055, 17.52356719970703, 17.521821975708008, 17.520076751708984, 17.518329620361328, 17.516582489013672, 17.514835357666016, 17.51308822631836, 17.51133918762207, 17.50959014892578, 17.50783920288086, 17.506092071533203, 17.50433921813965, 17.50259017944336, 17.500837326049805, 17.49908447265625, 17.497333526611328, 17.49557876586914, 17.493825912475586, 17.4920711517334, 17.49031639099121, 17.488561630249023, 17.486806869506836, 17.485050201416016, 17.483293533325195, 17.481536865234375, 17.479778289794922, 17.47801971435547, 17.476261138916016, 17.474502563476562, 17.47274398803711, 17.470983505249023, 17.469221115112305, 17.46746063232422, 17.4656982421875, 17.463937759399414, 17.462173461914062, 17.46040916442871, 17.45864486694336, 17.45688247680664, 17.45511817932129, 17.453351974487305, 17.451587677001953, 17.449819564819336, 17.44805335998535, 17.446285247802734, 17.444517135620117, 17.4427490234375, 17.440980911254883, 17.439210891723633, 17.437442779541016, 17.435672760009766, 17.433900833129883, 17.432126998901367, 17.430355072021484, 17.428585052490234, 17.42681121826172, 17.425037384033203, 17.42326545715332, 17.421489715576172, 17.419713973999023, 17.41794204711914, 17.41616439819336, 17.414386749267578, 17.41261100769043, 17.41083335876465, 17.409055709838867, 17.407278060913086, 17.405498504638672, 17.40372085571289, 17.401939392089844, 17.40015983581543, 17.398380279541016, 17.39659881591797, 17.394817352294922, 17.393033981323242, 17.391252517700195, 17.389469146728516, 17.387683868408203, 17.385900497436523, 17.384117126464844, 17.38233184814453, 17.380544662475586, 17.378759384155273, 17.376972198486328, 17.375186920166016, 17.37339973449707, 17.371610641479492, 17.369823455810547, 17.36803436279297, 17.36624526977539, 17.36445426940918, 17.3626651763916, 17.36087417602539, 17.359081268310547, 17.357290267944336, 17.355497360229492, 17.35370445251465, 17.351911544799805, 17.35011863708496, 17.348323822021484, 17.34653091430664, 17.344736099243164, 17.342939376831055, 17.341144561767578, 17.339345932006836, 17.337549209594727, 17.335750579833984, 17.333953857421875, 17.332157135009766, 17.33035659790039, 17.328556060791016, 17.326757431030273, 17.3249568939209, 17.323156356811523, 17.321353912353516, 17.31955337524414, 17.317752838134766, 17.315948486328125, 17.314144134521484, 17.312341690063477, 17.310537338256836, 17.308732986450195, 17.306926727294922, 17.305124282836914, 17.30331802368164, 17.301509857177734, 17.29970359802246, 17.297897338867188, 17.29608726501465, 17.294279098510742, 17.292470932006836, 17.29066276550293, 17.28885269165039, 17.28704261779785, 17.285232543945312, 17.28342056274414, 17.2816104888916, 17.27979850769043, 17.277986526489258]\n"
          ],
          "name": "stdout"
        },
        {
          "output_type": "display_data",
          "data": {
            "image/png": "[encoded data removed]",
            "text/plain": [
              "<Figure size 360x720 with 2 Axes>"
            ]
          },
          "metadata": {
            "tags": [],
            "needs_background": "light"
          }
        }
      ]
    },
    {
      "cell_type": "markdown",
      "metadata": {
        "id": "QOi6MC8u7swr"
      },
      "source": [
        "# Graphs"
      ]
    },
    {
      "cell_type": "code",
      "metadata": {
        "id": "Pqqb7Riq7tAY"
      },
      "source": [
        "# Maybe copy over previous function and edit that?\n",
        "def graph(pred, true, diff):\n",
        "\n",
        "  values = [\"u\",\"v\",\"sin(v)\",\"cos(v)\",\"sin(u)\",\"cos(u)\",\"s\",\"ds\",\"wire\",\"glayer\",\"z\",\"time\",\"dE_amp\",\"q\"]\n",
        "  limits = [[\"todo\"]]\n",
        "\n",
        "  size = len(values)\n",
        "\n",
        "  fig, axs = plt.subplots(4,size,figsize=(size*5,20))\n",
        "  fig.subplots_adjust(wspace=0.3, hspace=0.3)\n",
        "\n",
        "\n",
        "  for i in range(size):\n",
        "    (mu, sigma) = norm.fit(diff[:,i])\n",
        "    print(\"data\" , values[i] ,\" |: mu: \", mu, \"sigma: \" , sigma)\n",
        "    _, bins, _ = axs[0,i].hist(diff[:,i], 20, density=True)\n",
        "    y = norm.pdf(bins, mu, sigma)\n",
        "    l = axs[0,i].plot(bins, y, 'r--', linewidth=2)\n",
        "\n",
        "    axs[0,i].set_title(values[i] + ' diff')\n",
        "    axs[0,i].set_ylabel('freq')\n",
        "    axs[0,i].set_xlabel(values[i] + ' diff')\n",
        "\n",
        "  #--------------------------------------\n",
        "  # PREDICTED VS TRUE\n",
        "  #--------------------------------------\n",
        "    \n",
        "  for i in range(size):\n",
        "    axs[1,i].scatter(true[:,i],pred[:,i])\n",
        "    axs[1,i].grid(True)\n",
        "\n",
        "    axs[1,i].set_title(values[i] + ' (predicted vs true)')\n",
        "    axs[1,i].set_ylabel('pred ' + values[i])\n",
        "    axs[1,i].set_xlabel('true ' + values[i])\n",
        "\n",
        "    # axs[1,i].set_xlim(limits[i])\n",
        "    # axs[1,i].set_ylim(limits[i])\n",
        "    # axs[1,i].plot(limits[i],limits[i], color='b')\n",
        "\n",
        "  #--------------------------------------\n",
        "  # DIFFERENCE VS TRUE\n",
        "  #--------------------------------------\n",
        "\n",
        "  for i in range(size):\n",
        "    axs[2,i].scatter(true[:,i],diff[:,i])\n",
        "    l, r = axs[2,i].get_xlim()\n",
        "    axs[2,i].hlines(0, l, r)\n",
        "    axs[2,i].grid(True)\n",
        "\n",
        "    axs[2,i].set_title(values[i] + ' (difference vs true)')\n",
        "    axs[2,i].set_ylabel('diff ' + values[i])\n",
        "    axs[2,i].set_xlabel('true ' + values[i])\n",
        "\n",
        "  #--------------------------------------\n",
        "  # DIFFERENCE VS TRUE 2D HIST\n",
        "  #--------------------------------------\n",
        "\n",
        "  for i in range(size):\n",
        "    axs[3,i].hist2d(true[:,i],diff[:,i],bins=20)\n",
        "\n",
        "    axs[2,i].set_title(values[i] + ' (difference vs true)')\n",
        "    axs[2,i].set_ylabel('diff ' + values[i])\n",
        "    axs[2,i].set_xlabel('true ' + values[i])\n",
        "\n",
        "  fig.show()\n"
      ],
      "execution_count": null,
      "outputs": []
    },
    {
      "cell_type": "code",
      "metadata": {
        "id": "zHuUmXPCiXt9"
      },
      "source": [
        "def gen_test_data(x_test, y_test, size=1000):\n",
        "  pred = model.predict(x_test)\n",
        "  diff = pred - y_test\n",
        "  return pred, y_test, diff"
      ],
      "execution_count": null,
      "outputs": []
    },
    {
      "cell_type": "code",
      "metadata": {
        "id": "2AMRhD6Wi7Xh"
      },
      "source": [
        "graph(gen_test_data(x_test, y_test));"
      ],
      "execution_count": null,
      "outputs": []
    },
    {
      "cell_type": "markdown",
      "metadata": {
        "id": "ZAUyMneo7Xj1"
      },
      "source": [
        "# Test model"
      ]
    },
    {
      "cell_type": "code",
      "metadata": {
        "id": "sBsHjTgG7X2y"
      },
      "source": [
        "# make test function"
      ],
      "execution_count": null,
      "outputs": []
    },
    {
      "cell_type": "markdown",
      "metadata": {
        "id": "hWkYEQvFZ7HC"
      },
      "source": [
        "# Verification of proper data processing"
      ]
    },
    {
      "cell_type": "markdown",
      "metadata": {
        "id": "wqKxKcOQYEO4"
      },
      "source": [
        "## Using Generator"
      ]
    },
    {
      "cell_type": "code",
      "metadata": {
        "id": "ml3HHzoEaAhr"
      },
      "source": [
        "aax, aay = next(train_gen)\n",
        "print(aax.shape)\n",
        "print(aay.shape)"
      ],
      "execution_count": null,
      "outputs": []
    },
    {
      "cell_type": "code",
      "metadata": {
        "id": "gv72llYMaUYd"
      },
      "source": [
        "print(\"x\",aax[0])\n",
        "print(\"y\",aay[0])"
      ],
      "execution_count": null,
      "outputs": []
    },
    {
      "cell_type": "markdown",
      "metadata": {
        "id": "DcwDKKLLe079"
      },
      "source": [
        "## Non Genenerator"
      ]
    },
    {
      "cell_type": "code",
      "metadata": {
        "id": "DlU3tRGpYxQV",
        "colab": {
          "base_uri": "https://localhost:8080/"
        },
        "outputId": "a24ded2d-d1d0-4555-84a9-428edf5b2e7d"
      },
      "source": [
        "for i in range(10):\n",
        "  aax = x_train[i]\n",
        "  aay = y_train[i]\n",
        "  # print(aax.shape)\n",
        "  # print(aay.shape)\n",
        "  # print(\"x\",aax)\n",
        "  print(\"y\",aay)"
      ],
      "execution_count": null,
      "outputs": [
        {
          "output_type": "stream",
          "text": [
            "y [-4.805 -1.959  9.798  0.297 77.505]\n",
            "y [-5.881  1.876 19.786 -0.007 85.963]\n",
            "y [-13.532   2.467   1.919  -5.848 169.211]\n",
            "y [ -2.51   -1.784   7.588   0.107 138.047]\n",
            "y [-17.129   1.434  26.423  -0.118  77.014]\n",
            "y [-51.732  -0.04   20.991  -0.511  62.764]\n",
            "y [ -7.787  -2.598   6.704  -9.91  168.021]\n",
            "y [-755.88    -2.511   56.192  -11.262  177.016]\n",
            "y [-9.942 -1.74   6.379  0.622 62.467]\n",
            "y [-3.746  0.884 14.103 -0.305 66.462]\n"
          ],
          "name": "stdout"
        }
      ]
    },
    {
      "cell_type": "markdown",
      "metadata": {
        "id": "rCpP2wsfdeGl"
      },
      "source": [
        "## Graphs of Data"
      ]
    },
    {
      "cell_type": "markdown",
      "metadata": {
        "id": "fAxLbw94GYzm"
      },
      "source": [
        "### filter_ignore\n",
        "\n",
        "Filters out large and small values and graphs them"
      ]
    },
    {
      "cell_type": "code",
      "metadata": {
        "id": "FiUKfbtfAoLm"
      },
      "source": [
        "def filter_ignore(var,min=None,max=None,bins=25,ylog=False,xlog=False,cut=True):\n",
        "  list_ignore = []\n",
        "\n",
        "  print(\"--== {} ==--\\n\".format(var))\n",
        "\n",
        "  largest = 0\n",
        "  smallest = 0\n",
        "  for i in range(len(csv_train[var])):\n",
        "    if csv_train[var][i] > csv_train[var][largest]:\n",
        "      largest = i\n",
        "    if csv_train[var][i] < csv_train[var][smallest]:\n",
        "      smallest = i\n",
        "  print(\"largest value:  ({}, {:.3f})\".format(largest,csv_train[var][largest]))\n",
        "  print(\"smallest value: ({}, {:.3f})\".format(smallest,csv_train[var][smallest]))\n",
        "\n",
        "  print(\"\")\n",
        "\n",
        "  if min:\n",
        "    for i in range(len(csv_train[var])):\n",
        "      if csv_train[var][i] < min:\n",
        "        list_ignore.append(i)\n",
        "    print(\"min IDs to ignore for '{}':\".format(var))\n",
        "    print(csv_train[var][list_ignore])\n",
        "    print(\"\")\n",
        "  if max:\n",
        "    for i in range(len(csv_train[var])):\n",
        "      if csv_train[var][i] > max:\n",
        "        list_ignore.append(i)\n",
        "    print(\"max IDs to ignore for '{}':\".format(var))\n",
        "    print(csv_train[var][list_ignore])\n",
        "    print(\"\")\n",
        "  if min and max:\n",
        "    print(\"total IDs to ignore for '{}':\".format(var))\n",
        "    print(csv_train[var][list_ignore])\n",
        "    print(\"\")\n",
        "    plt.hist(csv_train[var],range=[min,max],bins=bins)\n",
        "  elif min:\n",
        "    plt.hist(csv_train[var],range=[min,csv_train[var][largest]],bins=bins)\n",
        "  elif max:\n",
        "    plt.hist(csv_train[var],range=[csv_train[var][smallest],max],bins=bins)\n",
        "  else:\n",
        "    plt.hist(csv_train[var],bins=bins)\n",
        "  \n",
        "  plt.title(var)\n",
        "  if cut:\n",
        "    plt.xlim(left=min,right=max)\n",
        "  if ylog:\n",
        "    plt.yscale(\"log\")\n",
        "  if xlog:\n",
        "    plt.xscale(\"log\")\n",
        "  plt.show()\n",
        "  return list_ignore"
      ],
      "execution_count": null,
      "outputs": []
    },
    {
      "cell_type": "code",
      "metadata": {
        "id": "BwsJ0YIoBiew",
        "colab": {
          "base_uri": "https://localhost:8080/",
          "height": 542
        },
        "outputId": "962724f0-0845-4ab5-8b27-043de6744e44"
      },
      "source": [
        "filter_ignore(\"q_over_pt\",min=-4000,bins=30,ylog=True)"
      ],
      "execution_count": null,
      "outputs": [
        {
          "output_type": "stream",
          "text": [
            "--== q_over_pt ==--\n",
            "\n",
            "largest value:  (3355, 381.860)\n",
            "smallest value: (9135, -20149.830)\n",
            "\n",
            "min IDs to ignore for 'q_over_pt':\n",
            "1317    -4724.393347\n",
            "1481    -7912.062393\n",
            "3410    -7389.880383\n",
            "8777    -9841.475468\n",
            "9135   -20149.829875\n",
            "9584    -5357.554147\n",
            "Name: q_over_pt, dtype: float64\n",
            "\n"
          ],
          "name": "stdout"
        },
        {
          "output_type": "display_data",
          "data": {
            "image/png": "[encoded data removed]",
            "text/plain": [
              "<Figure size 432x288 with 1 Axes>"
            ]
          },
          "metadata": {
            "tags": [],
            "needs_background": "light"
          }
        },
        {
          "output_type": "execute_result",
          "data": {
            "text/plain": [
              "[1317, 1481, 3410, 8777, 9135, 9584]"
            ]
          },
          "metadata": {
            "tags": []
          },
          "execution_count": 78
        }
      ]
    },
    {
      "cell_type": "code",
      "metadata": {
        "id": "2Wyjq07YGjBF",
        "colab": {
          "base_uri": "https://localhost:8080/",
          "height": 455
        },
        "outputId": "9a82db49-7e7e-49aa-8d4b-a0da738ec1f5"
      },
      "source": [
        "filter_ignore(\"tanl\",max=1000,bins=25,ylog=True)"
      ],
      "execution_count": null,
      "outputs": [
        {
          "output_type": "stream",
          "text": [
            "--== tanl ==--\n",
            "\n",
            "largest value:  (9135, 1908.868)\n",
            "smallest value: (2535, 0.001)\n",
            "\n",
            "max IDs to ignore for 'tanl':\n",
            "9135    1908.868217\n",
            "Name: tanl, dtype: float64\n",
            "\n"
          ],
          "name": "stdout"
        },
        {
          "output_type": "display_data",
          "data": {
            "image/png": "[encoded data removed]",
            "text/plain": [
              "<Figure size 432x288 with 1 Axes>"
            ]
          },
          "metadata": {
            "tags": [],
            "needs_background": "light"
          }
        },
        {
          "output_type": "execute_result",
          "data": {
            "text/plain": [
              "[9135]"
            ]
          },
          "metadata": {
            "tags": []
          },
          "execution_count": 79
        }
      ]
    },
    {
      "cell_type": "code",
      "metadata": {
        "id": "xauTTOyrHPyT"
      },
      "source": [
        "rms_ignore = filter_ignore(\"rms\",max=0.1,bins=25,ylog=True)"
      ],
      "execution_count": null,
      "outputs": []
    },
    {
      "cell_type": "code",
      "metadata": {
        "colab": {
          "base_uri": "https://localhost:8080/",
          "height": 385
        },
        "id": "ERa-RZDbN6Hm",
        "outputId": "ac4577c9-f719-47d4-bc16-8fdbb7e413a5"
      },
      "source": [
        "# 'q_over_pt', 'phi', 'tanl', 'D', 'z'\n",
        "# filter_ignore(\"D\", min=-200, ylog=True,bins=25)\n",
        "filter_ignore(\"z\",bins=100)"
      ],
      "execution_count": null,
      "outputs": [
        {
          "output_type": "stream",
          "text": [
            "--== z ==--\n",
            "\n",
            "largest value:  (5317, 340.485)\n",
            "smallest value: (1775, -101.769)\n",
            "\n"
          ],
          "name": "stdout"
        },
        {
          "output_type": "display_data",
          "data": {
            "image/png": "[encoded data removed]",
            "text/plain": [
              "<Figure size 432x288 with 1 Axes>"
            ]
          },
          "metadata": {
            "tags": [],
            "needs_background": "light"
          }
        },
        {
          "output_type": "execute_result",
          "data": {
            "text/plain": [
              "[]"
            ]
          },
          "metadata": {
            "tags": []
          },
          "execution_count": 90
        }
      ]
    },
    {
      "cell_type": "code",
      "metadata": {
        "id": "UBO9wKCH2ePH"
      },
      "source": [
        "csv_train.keys()"
      ],
      "execution_count": null,
      "outputs": []
    },
    {
      "cell_type": "markdown",
      "metadata": {
        "id": "yc3WNfPaYwaL"
      },
      "source": [
        "### 1D Hist of all Data"
      ]
    },
    {
      "cell_type": "code",
      "metadata": {
        "colab": {
          "base_uri": "https://localhost:8080/",
          "height": 809
        },
        "id": "2VqlQxZRgTB7",
        "outputId": "2a5ce7d3-1665-4d71-80f5-5b7ed7ceb673"
      },
      "source": [
        "plt.hist(csv_train[\"phi\"],bins=50) # -3 to 3, even distrib\n",
        "plt.title(\"phi\")\n",
        "plt.show()\n",
        "# ---\n",
        "plt.hist(csv_train[\"D\"],range=[-3000,80],bins=25) # -3000 to 50, but val in 65\n",
        "plt.yscale(\"log\")\n",
        "plt.title(\"D\")\n",
        "plt.show()\n",
        "# ---\n",
        "plt.hist(csv_train[\"z\"],bins=100)\n",
        "plt.title(\"z\")\n",
        "plt.show()"
      ],
      "execution_count": null,
      "outputs": [
        {
          "output_type": "display_data",
          "data": {
            "image/png": "[encoded data removed]",
            "text/plain": [
              "<Figure size 432x288 with 1 Axes>"
            ]
          },
          "metadata": {
            "tags": [],
            "needs_background": "light"
          }
        },
        {
          "output_type": "display_data",
          "data": {
            "image/png": "[encoded data removed]",
            "text/plain": [
              "<Figure size 432x288 with 1 Axes>"
            ]
          },
          "metadata": {
            "tags": [],
            "needs_background": "light"
          }
        },
        {
          "output_type": "display_data",
          "data": {
            "image/png": "[encoded data removed]",
            "text/plain": [
              "<Figure size 432x288 with 1 Axes>"
            ]
          },
          "metadata": {
            "tags": [],
            "needs_background": "light"
          }
        }
      ]
    },
    {
      "cell_type": "code",
      "metadata": {
        "id": "TbqYK55L05mB"
      },
      "source": [
        "# fig, ax = plt.subplots(2,1,figsize=(5,10))\n",
        "# fig.subplots_adjust(hspace=0.35)\n",
        "\n",
        "plt.hist(csv_train[\"cov_00\"],range=[0,1e8],bins=25) # 0 to 1e13\n",
        "plt.yscale(\"log\")\n",
        "plt.title(\"cov_00\")\n",
        "plt.show()\n",
        "# ---\n",
        "plt.hist(csv_train[\"cov_01\"],bins=25) # -1e6 to over 1e5\n",
        "plt.yscale(\"log\")\n",
        "plt.title(\"cov_01\")\n",
        "plt.show()\n",
        "# ---\n",
        "plt.hist(csv_train[\"chisq\"],bins=25) # 0 to 200\n",
        "plt.yscale(\"log\")\n",
        "plt.title(\"chisq\")\n",
        "plt.show()\n",
        "# ---\n",
        "plt.hist(csv_train[\"Ndof\"],range=[0,44],bins=45) # ? this one weird 0 to ~43\n",
        "plt.yscale(\"log\")\n",
        "plt.title(\"Ndof\")\n",
        "plt.show()\n",
        "# ---\n",
        "plt.hist(csv_train[\"rms\"],range=[0,0.1],bins=25) # \n",
        "# plt.xscale(\"log\")\n",
        "plt.yscale(\"log\")\n",
        "plt.title(\"rms\")\n",
        "plt.show()\n",
        "# ---\n",
        "# plt.hist(csv_train[\"t_start_cntr\"],bins=25) # -60 to ~50\n",
        "plt.hist(csv_train[csv_train[\"t_start_cntr_valid\"] == 1][\"t_start_cntr\"],bins=25) # -60 to ~50\n",
        "plt.title(\"t_start_cntr\")\n",
        "plt.show()\n",
        "\n",
        "# plt.hist(csv_train[\"t_tof\"],bins=25) # ~-120 to ~175\n",
        "plt.hist(csv_train[csv_train[\"t_tof_valid\"] == 1][\"t_tof\"],bins=25) # ~-120 to ~175\n",
        "plt.title(\"t_tof\")\n",
        "plt.show()\n",
        "plt.hist(csv_train[\"t_bcal\"],bins=25) # ~-22 to 20\n",
        "plt.title(\"t_bcal\")\n",
        "plt.show()\n",
        "plt.hist(csv_train[\"t_fcal\"],bins=25) # ~-100 to ~75\n",
        "plt.yscale(\"log\")\n",
        "plt.title(\"t_fcal\")\n",
        "plt.show()\n",
        "# ---\n",
        "plt.hist(csv_train[\"t_start_cntr_valid\"],bins=25) # a lot more 0s\n",
        "plt.title(\"t_start_cntr_valid\")\n",
        "plt.show()\n",
        "plt.hist(csv_train[\"t_tof_valid\"],bins=25) # about 5050\n",
        "plt.title(\"t_tof_valid\")\n",
        "plt.show()\n",
        "plt.hist(csv_train[\"t_bcal_valid\"],bins=25) # almost all 0s\n",
        "plt.title(\"t_bcal_valid\")\n",
        "plt.show()\n",
        "plt.hist(csv_train[\"t_fcal_valid\"],bins=25) # almost all 0s\n",
        "plt.title(\"t_fcal_valid\")\n",
        "plt.show()\n",
        "# ---\n",
        "\n"
      ],
      "execution_count": null,
      "outputs": []
    },
    {
      "cell_type": "markdown",
      "metadata": {
        "id": "LbzN70C9MCrQ"
      },
      "source": [
        "### 1D Hist of Hit1 Data"
      ]
    },
    {
      "cell_type": "code",
      "metadata": {
        "colab": {
          "base_uri": "https://localhost:8080/",
          "height": 1000
        },
        "id": "VGzHLbKsLUZ9",
        "outputId": "0e1a0a14-8881-439d-c2f3-f0ec09006cc4"
      },
      "source": [
        "plt.hist(csv_train[\"hit1_u\"],bins=25) # -42 to 42\n",
        "plt.title(\"hit1_u\")\n",
        "plt.show()\n",
        "plt.hist(csv_train[\"hit1_v\"],bins=25) # -42 to 42\n",
        "plt.title(\"hit1_v\")\n",
        "plt.show()\n",
        "# plt.hist(csv_train[\"hit1_sinv\"],bins=25) # most are 0.96603 almost all are around that though\n",
        "# plt.title(\"hit1_sinv\")\n",
        "# plt.show()\n",
        "# plt.hist(csv_train[\"hit1_cosv\"],bins=25) # most -0.2585\n",
        "# plt.title(\"hit1_cosv\")\n",
        "# plt.show()\n",
        "# plt.hist(csv_train[\"hit1_sinu\"],bins=25) # most 0.96585\n",
        "# plt.title(\"hit1_sinu\")\n",
        "# plt.show()\n",
        "# plt.hist(csv_train[\"hit1_cosu\"],bins=25) # most 0.2591\n",
        "# plt.title(\"hit1_cosu\")\n",
        "# plt.show()\n",
        "plt.hist(csv_train[\"hit1_s\"],bins=25) # -42 to 42\n",
        "plt.title(\"hit1_s\")\n",
        "plt.show()\n",
        "plt.hist(csv_train[\"hit1_ds\"],bins=25) # 0.01 to 0.04\n",
        "plt.title(\"hit1_ds\")\n",
        "plt.show()\n",
        "plt.hist(csv_train[\"hit1_wire\"],bins=101,range=[0,100]) # 0 to 100\n",
        "plt.title(\"hit1_wire\")\n",
        "plt.show()\n",
        "plt.hist(csv_train[\"hit1_glayer\"],bins=25,range=[0,26]) # 6 to 23\n",
        "plt.title(\"hit1_glayer\")\n",
        "plt.show()\n",
        "plt.hist(csv_train[\"hit1_z\"],bins=25) # spaced out between 180 and 340\n",
        "plt.title(\"hit1_z\")\n",
        "plt.show()\n",
        "plt.hist(csv_train[\"hit1_time\"],bins=25) # -75 to 270\n",
        "plt.title(\"hit1_time\")\n",
        "plt.show()\n",
        "plt.hist(csv_train[\"hit1_dE_amp\"],bins=25) # 0 to 2e-7\n",
        "plt.title(\"hit1_dE_amp\")\n",
        "plt.show()\n",
        "plt.hist(csv_train[\"hit1_q\"],bins=25) # 0 to 85\n",
        "plt.yscale(\"log\")\n",
        "plt.title(\"hit1_q\")\n",
        "plt.show()\n",
        "# ---"
      ],
      "execution_count": null,
      "outputs": [
        {
          "output_type": "display_data",
          "data": {
            "image/png": "[encoded data removed]",
            "text/plain": [
              "<Figure size 432x288 with 1 Axes>"
            ]
          },
          "metadata": {
            "tags": [],
            "needs_background": "light"
          }
        },
        {
          "output_type": "display_data",
          "data": {
            "image/png": "[encoded data removed]",
            "text/plain": [
              "<Figure size 432x288 with 1 Axes>"
            ]
          },
          "metadata": {
            "tags": [],
            "needs_background": "light"
          }
        },
        {
          "output_type": "display_data",
          "data": {
            "image/png": "[encoded data removed]",
            "text/plain": [
              "<Figure size 432x288 with 1 Axes>"
            ]
          },
          "metadata": {
            "tags": [],
            "needs_background": "light"
          }
        },
        {
          "output_type": "display_data",
          "data": {
            "image/png": "[encoded data removed]",
            "text/plain": [
              "<Figure size 432x288 with 1 Axes>"
            ]
          },
          "metadata": {
            "tags": [],
            "needs_background": "light"
          }
        },
        {
          "output_type": "display_data",
          "data": {
            "image/png": "[encoded data removed]",
            "text/plain": [
              "<Figure size 432x288 with 1 Axes>"
            ]
          },
          "metadata": {
            "tags": [],
            "needs_background": "light"
          }
        },
        {
          "output_type": "display_data",
          "data": {
            "image/png": "[encoded data removed]",
            "text/plain": [
              "<Figure size 432x288 with 1 Axes>"
            ]
          },
          "metadata": {
            "tags": [],
            "needs_background": "light"
          }
        },
        {
          "output_type": "display_data",
          "data": {
            "image/png": "[encoded data removed]",
            "text/plain": [
              "<Figure size 432x288 with 1 Axes>"
            ]
          },
          "metadata": {
            "tags": [],
            "needs_background": "light"
          }
        },
        {
          "output_type": "display_data",
          "data": {
            "image/png": "[encoded data removed]",
            "text/plain": [
              "<Figure size 432x288 with 1 Axes>"
            ]
          },
          "metadata": {
            "tags": [],
            "needs_background": "light"
          }
        },
        {
          "output_type": "display_data",
          "data": {
            "image/png": "[encoded data removed]",
            "text/plain": [
              "<Figure size 432x288 with 1 Axes>"
            ]
          },
          "metadata": {
            "tags": [],
            "needs_background": "light"
          }
        },
        {
          "output_type": "display_data",
          "data": {
            "image/png": "[encoded data removed]",
            "text/plain": [
              "<Figure size 432x288 with 1 Axes>"
            ]
          },
          "metadata": {
            "tags": [],
            "needs_background": "light"
          }
        }
      ]
    },
    {
      "cell_type": "markdown",
      "metadata": {
        "id": "oxIRSBXpYzU7"
      },
      "source": [
        "### 2D Scatters of various data"
      ]
    },
    {
      "cell_type": "code",
      "metadata": {
        "colab": {
          "base_uri": "https://localhost:8080/",
          "height": 299
        },
        "id": "8hgtNdVxY-4_",
        "outputId": "9e12924e-9cb0-492c-fcbb-8cbc7ed4680e"
      },
      "source": [
        "plt.scatter(csv_train[\"tanl\"],abs(csv_train[\"q_over_pt\"]),s=0.01) # a lot more 0s\n",
        "plt.title(\"q_over_pt vs tanl\")\n",
        "plt.xlabel(\"tanl\")\n",
        "plt.ylabel(\"q_over_pt\")\n",
        "plt.yscale(\"log\")\n",
        "plt.xscale(\"log\")\n",
        "plt.grid(True)\n",
        "plt.show()"
      ],
      "execution_count": null,
      "outputs": [
        {
          "output_type": "display_data",
          "data": {
            "image/png": "[encoded data removed]",
            "text/plain": [
              "<Figure size 432x288 with 1 Axes>"
            ]
          },
          "metadata": {
            "tags": [],
            "needs_background": "light"
          }
        }
      ]
    },
    {
      "cell_type": "code",
      "metadata": {
        "colab": {
          "base_uri": "https://localhost:8080/",
          "height": 296
        },
        "id": "4pjOeJd85uWM",
        "outputId": "887b1312-0399-4223-ff5d-576875baa7e8"
      },
      "source": [
        "# all create a plus sign\n",
        "plt.scatter(csv_train[\"t_start_cntr\"],csv_train[\"t_tof\"]) # a lot more 0s\n",
        "plt.title(\"t_tof vs t_start_cntr\")\n",
        "plt.xlabel(\"t_start_cntr\")\n",
        "plt.ylabel(\"t_tof\")\n",
        "plt.show()\n",
        "\n",
        "# plt.hist(csv_train[\"t_start_cntr\"],bins=25) # -60 to ~50\n",
        "# plt.hist(csv_train[\"t_tof\"],bins=25) # ~-120 to ~175\n",
        "# plt.hist(csv_train[\"t_bcal\"],bins=25) # ~-22 to 20\n",
        "# plt.hist(csv_train[\"t_fcal\"],bins=25) # ~-100 to ~75"
      ],
      "execution_count": null,
      "outputs": [
        {
          "output_type": "display_data",
          "data": {
            "image/png": "[encoded data removed]",
            "text/plain": [
              "<Figure size 432x288 with 1 Axes>"
            ]
          },
          "metadata": {
            "tags": [],
            "needs_background": "light"
          }
        }
      ]
    },
    {
      "cell_type": "code",
      "metadata": {
        "colab": {
          "base_uri": "https://localhost:8080/",
          "height": 265
        },
        "id": "IFF2_7npOseE",
        "outputId": "8e8bec48-6610-41d1-8faa-64814bb75af9"
      },
      "source": [
        "plt.hist(csv_train[\"hit1_glayer\"],bins=24)\n",
        "plt.hist(csv_train[\"hit2_glayer\"],bins=24)\n",
        "plt.hist(csv_train[\"hit3_glayer\"],bins=24)\n",
        "plt.hist(csv_train[\"hit4_glayer\"],bins=24)\n",
        "plt.hist(csv_train[\"hit5_glayer\"],bins=24)\n",
        "plt.hist(csv_train[\"hit6_glayer\"],bins=24)\n",
        "plt.hist(csv_train[\"hit10_glayer\"],bins=24)\n",
        "plt.show()"
      ],
      "execution_count": null,
      "outputs": [
        {
          "output_type": "display_data",
          "data": {
            "image/png": "[encoded data removed]",
            "text/plain": [
              "<Figure size 432x288 with 1 Axes>"
            ]
          },
          "metadata": {
            "tags": [],
            "needs_background": "light"
          }
        }
      ]
    },
    {
      "cell_type": "markdown",
      "metadata": {
        "id": "IdRImNvKZ0Fa"
      },
      "source": [
        "### 2D Scatters of various hit data"
      ]
    },
    {
      "cell_type": "code",
      "metadata": {
        "id": "4mxK94YV2FM2"
      },
      "source": [
        "# Oval\n",
        "plt.scatter(csv_train[\"hit1_u\"],csv_train[\"hit1_v\"]) # -3 to 3, even distrib\n",
        "plt.title(\"v vs u\")\n",
        "plt.xlabel(\"u\")\n",
        "plt.ylabel(\"v\")\n",
        "plt.show()\n",
        "\n",
        "# like a flame\n",
        "plt.scatter(csv_train[\"hit1_s\"],csv_train[\"hit1_ds\"]) # -3 to 3, even distrib\n",
        "plt.title(\"ds vs s\")\n",
        "plt.xlabel(\"s\")\n",
        "plt.ylabel(\"ds\")\n",
        "plt.show()\n",
        "\n",
        "# hit1_wire, with single letters, forms an oval\n",
        "plt.scatter(csv_train[\"hit1_wire\"],csv_train[\"hit1_s\"]) # -3 to 3, even distrib\n",
        "plt.title(\"hit1_s vs hit1_wire\")\n",
        "plt.xlabel(\"hit1_wire\")\n",
        "plt.ylabel(\"hit1_s\")\n",
        "plt.show()\n",
        "\n",
        "# go up in steps\n",
        "plt.scatter(csv_train[\"hit1_glayer\"],csv_train[\"hit1_z\"]) # -3 to 3, even distrib\n",
        "plt.title(\"z vs glayer\")\n",
        "plt.xlabel(\"glayer\")\n",
        "plt.ylabel(\"z\")\n",
        "plt.show()\n",
        "\n",
        "# 1:1\n",
        "plt.scatter(csv_train[\"hit1_q\"],csv_train[\"hit1_dE_amp\"]) # -3 to 3, even distrib\n",
        "plt.title(\"dE_amp vs q\")\n",
        "plt.xlabel(\"q\")\n",
        "plt.ylabel(\"dE_amp\")\n",
        "plt.show()\n",
        "\n"
      ],
      "execution_count": null,
      "outputs": []
    },
    {
      "cell_type": "code",
      "metadata": {
        "id": "bhNGqPbNQ8fX"
      },
      "source": [
        "aax = \n",
        "plt.plot()"
      ],
      "execution_count": null,
      "outputs": []
    }
  ]
}