{
  "nbformat": 4,
  "nbformat_minor": 0,
  "metadata": {
    "colab": {
      "name": "CopyOfRNN.ipynb",
      "provenance": [],
      "collapsed_sections": [],
      "toc_visible": true
    },
    "kernelspec": {
      "name": "python3",
      "display_name": "Python 3"
    },
    "accelerator": "GPU"
  },
  "cells": [
    {
      "cell_type": "markdown",
      "metadata": {
        "id": "Te6rdZgT5yAW"
      },
      "source": [
        "# Copy of Previous RNN"
      ]
    },
    {
      "cell_type": "markdown",
      "metadata": {
        "id": "fdsGeayZ523e"
      },
      "source": [
        "### Reminders:\n",
        "\n",
        "Read up on some of these:\n",
        "- https://machinelearningmastery.com/stateful-stateless-lstm-time-series-forecasting-python/\n",
        "- https://fairyonice.github.io/Stateful-LSTM-model-training-in-Keras.html \n",
        "- https://github.com/keras-team/keras/issues/5714\n",
        "- https://machinelearningmastery.com/use-different-batch-sizes-training-predicting-python-keras/\n",
        "\n",
        "###Shuffle Data!!!!!\n",
        "\n"
      ]
    },
    {
      "cell_type": "code",
      "metadata": {
        "id": "ro1oh9-25xM9",
        "colab": {
          "base_uri": "https://localhost:8080/"
        },
        "outputId": "5ccd49e5-db62-41dc-d91b-6a2b23a9f8dc"
      },
      "source": [
        "from google.colab import drive\n",
        "drive.mount('/content/drive')"
      ],
      "execution_count": 1,
      "outputs": [
        {
          "output_type": "stream",
          "text": [
            "Mounted at /content/drive\n"
          ],
          "name": "stdout"
        }
      ]
    },
    {
      "cell_type": "markdown",
      "metadata": {
        "id": "l7yOaxkJ58hh"
      },
      "source": [
        "# Pre-processing"
      ]
    },
    {
      "cell_type": "markdown",
      "metadata": {
        "id": "o5Lupm0J6Hre"
      },
      "source": [
        "## Do Basic Imports"
      ]
    },
    {
      "cell_type": "code",
      "metadata": {
        "id": "gE8NHB9v6IDc"
      },
      "source": [
        "import numpy as np\n",
        "from tensorflow import keras\n",
        "import tensorflow as tf\n",
        "import pandas\n",
        "from matplotlib import pyplot as plt\n",
        "from math import isnan\n",
        "from scipy.stats import norm\n",
        "\n",
        "pandas.set_option('display.max_columns', None)\n",
        "np.set_printoptions(suppress=True, precision=3)"
      ],
      "execution_count": 2,
      "outputs": []
    },
    {
      "cell_type": "markdown",
      "metadata": {
        "id": "Yhg_bSj36CSt"
      },
      "source": [
        "## Obtain data"
      ]
    },
    {
      "cell_type": "code",
      "metadata": {
        "id": "1LMf25vB5_vs"
      },
      "source": [
        "# read data from drive\n",
        "csv_train = pandas.read_csv(\"drive/MyDrive/first_10k.csv\")\n",
        "unparsed_train = np.array(csv_train)"
      ],
      "execution_count": 3,
      "outputs": []
    },
    {
      "cell_type": "markdown",
      "metadata": {
        "id": "DBknRRcl6LMm"
      },
      "source": [
        "## Parse Data"
      ]
    },
    {
      "cell_type": "markdown",
      "metadata": {
        "id": "rzjvgYAH0oTD"
      },
      "source": [
        "The data is a 403 value array with the following splits:\n",
        "\n"
      ]
    },
    {
      "cell_type": "code",
      "metadata": {
        "colab": {
          "base_uri": "https://localhost:8080/"
        },
        "id": "-5zeu3jZDGM0",
        "outputId": "4e7836cb-472e-41c3-dabf-f48b4e63e246"
      },
      "source": [
        "print(csv_train.keys()[0:6])  # labels\n",
        "print(csv_train.keys()[6:31]) # cov\n",
        "print(csv_train.keys()[31:56])# invcov\n",
        "print(csv_train.keys()[56:59])# fit\n",
        "print(csv_train.keys()[59:67])# timers\n",
        "# print(csv_train.keys()[67:81])# hit1\n",
        "print(csv_train.keys()[67:69])# hit1\n",
        "print(csv_train.keys()[73:81],\"\\n\")# hit1\n",
        "print(csv_train.keys()[67:])  # hit\n",
        "print(unparsed_train.shape)"
      ],
      "execution_count": null,
      "outputs": [
        {
          "output_type": "stream",
          "text": [
            "Index(['event', 'q_over_pt', 'phi', 'tanl', 'D', 'z'], dtype='object')\n",
            "Index(['cov_00', 'cov_01', 'cov_02', 'cov_03', 'cov_04', 'cov_10', 'cov_11',\n",
            "       'cov_12', 'cov_13', 'cov_14', 'cov_20', 'cov_21', 'cov_22', 'cov_23',\n",
            "       'cov_24', 'cov_30', 'cov_31', 'cov_32', 'cov_33', 'cov_34', 'cov_40',\n",
            "       'cov_41', 'cov_42', 'cov_43', 'cov_44'],\n",
            "      dtype='object')\n",
            "Index(['invcov_00', 'invcov_01', 'invcov_02', 'invcov_03', 'invcov_04',\n",
            "       'invcov_10', 'invcov_11', 'invcov_12', 'invcov_13', 'invcov_14',\n",
            "       'invcov_20', 'invcov_21', 'invcov_22', 'invcov_23', 'invcov_24',\n",
            "       'invcov_30', 'invcov_31', 'invcov_32', 'invcov_33', 'invcov_34',\n",
            "       'invcov_40', 'invcov_41', 'invcov_42', 'invcov_43', 'invcov_44'],\n",
            "      dtype='object')\n",
            "Index(['chisq', 'Ndof', 'rms'], dtype='object')\n",
            "Index(['t_start_cntr', 't_start_cntr_valid', 't_tof', 't_tof_valid', 't_bcal',\n",
            "       't_bcal_valid', 't_fcal', 't_fcal_valid'],\n",
            "      dtype='object')\n",
            "\n",
            "\n",
            "Index(['hit1_u', 'hit1_v'], dtype='object')\n",
            "Index(['hit1_s', 'hit1_ds', 'hit1_wire', 'hit1_glayer', 'hit1_z', 'hit1_time',\n",
            "       'hit1_dE_amp', 'hit1_q'],\n",
            "      dtype='object') \n",
            "\n",
            "Index(['hit1_u', 'hit1_v', 'hit1_sinv', 'hit1_cosv', 'hit1_sinu', 'hit1_cosu',\n",
            "       'hit1_s', 'hit1_ds', 'hit1_wire', 'hit1_glayer',\n",
            "       ...\n",
            "       'hit24_sinu', 'hit24_cosu', 'hit24_s', 'hit24_ds', 'hit24_wire',\n",
            "       'hit24_glayer', 'hit24_z', 'hit24_time', 'hit24_dE_amp', 'hit24_q'],\n",
            "      dtype='object', length=336)\n",
            "(10000, 403)\n"
          ],
          "name": "stdout"
        }
      ]
    },
    {
      "cell_type": "markdown",
      "metadata": {
        "id": "KtCiBud4XMfC"
      },
      "source": [
        "### Normalize"
      ]
    },
    {
      "cell_type": "markdown",
      "metadata": {
        "id": "3jZ4O3AxXELw"
      },
      "source": [
        "#### Absolute Normalizer\n",
        "\n",
        "Find the smallest and largest values in training sample data (67,403) and store them for later use"
      ]
    },
    {
      "cell_type": "code",
      "metadata": {
        "id": "EXWGAuNcbMA0"
      },
      "source": [
        "max = -1000\n",
        "min = 1000\n",
        "for event in unparsed_train:\n",
        "  norm_data = []\n",
        "  for i in range(67,403):\n",
        "    if event[i] > max:\n",
        "      max = event[i]\n",
        "    if event[i] < min:\n",
        "      min = event[i]"
      ],
      "execution_count": null,
      "outputs": []
    },
    {
      "cell_type": "markdown",
      "metadata": {
        "id": "ZSRV0DM4XH0k"
      },
      "source": [
        "#### Variable Normalizer\n",
        "\n",
        "Find smallest and largest value for each of the 14 variables in train hit data and store them for later use"
      ]
    },
    {
      "cell_type": "code",
      "metadata": {
        "colab": {
          "base_uri": "https://localhost:8080/"
        },
        "id": "63AifPc8KntT",
        "outputId": "2e16e495-f531-4a35-caed-b418639bae50"
      },
      "source": [
        "_max = [-1000 for i in range(10)]\n",
        "_min = [1000 for i in range(10)]\n",
        "for index,event in enumerate(unparsed_train):\n",
        "  lower = 67\n",
        "  for upper in range(lower+14, event.shape[0]+1, 14):\n",
        "    d = event[lower:upper]\n",
        "    d = np.append(d[:2],d[6:])\n",
        "    for a in range(len(d)):\n",
        "      if d[a] > _max[a]:\n",
        "        _max[a] = d[a]\n",
        "      if d[a] < _min[a]:\n",
        "        _min[a] = d[a]\n",
        "    lower = upper\n",
        "print(_max)\n",
        "print(_min)"
      ],
      "execution_count": null,
      "outputs": [
        {
          "output_type": "stream",
          "text": [
            "[47.588573718740314, 47.716949659038654, 47.920741252343745, 0.04333333333333333, 96.0, 24.0, 343.5052137331197, 274.8641357421875, 3.24600255369344e-07, 137.76808719278492]\n",
            "[-47.69482374702719, -47.64816097490715, -47.78196688638672, 0.010072585750472143, 1.0, 1.0, 176.8656847042481, -77.76896667480467, 7.068405941829982e-10, 0.3]\n"
          ],
          "name": "stdout"
        }
      ]
    },
    {
      "cell_type": "markdown",
      "metadata": {
        "id": "BGX_cUUwkVFa"
      },
      "source": [
        "### Whole data parser\n",
        "\n",
        "Take the data input and convert it into python list of numpy ndarrays of shape: (1,hits,14)\n",
        "\n",
        "It will normalize each of the 14 variables seperately using the \"Variable Normalizer\" from above.\n"
      ]
    },
    {
      "cell_type": "code",
      "metadata": {
        "id": "4DfVVuFT6Ld8"
      },
      "source": [
        "def parser(unparsed):\n",
        "  global _min, _max\n",
        "  x_final = []\n",
        "  y_final = []\n",
        "  other_final = []\n",
        "  for event in unparsed:\n",
        "    x = []\n",
        "    y = []\n",
        "    other = []\n",
        "\n",
        "    nEvent = event[0]\n",
        "    state = event[1:6]\n",
        "    coVar = event[6:31]\n",
        "    invCoVar = event[31:56]\n",
        "    goodnessOfFit = event[56:59]\n",
        "    TOF = event[59:67]\n",
        "\n",
        "\n",
        "    if goodnessOfFit[2] > 0.1:\n",
        "      continue\n",
        "\n",
        "    other = np.append(TOF, invCoVar)\n",
        "\n",
        "\n",
        "    hits = []\n",
        "\n",
        "    lower = 67\n",
        "    for upper in range(lower+14, event.shape[0]+1, 14): # to flip just go from end to 67 by -14 steps?\n",
        "      hasNAN = False\n",
        "      for val in event[lower:upper]:\n",
        "        if isnan(val):\n",
        "          hasNAN = True\n",
        "      if not hasNAN:\n",
        "        hit_data = event[lower:upper]\n",
        "        hit_data = np.append(hit_data[:2],hit_data[6:])\n",
        "        # --== Using absolute normalizer ==--\n",
        "        # hit_data = (hit_data - min) / (max - min)\n",
        "        # hits.append(hit_data)\n",
        "        \n",
        "        for z in range(len(hit_data)):\n",
        "          hit_data[z] = (hit_data[z] - _min[z]) / (_max[z] - _min[z])\n",
        "        \n",
        "        # hit_data = np.append(hit_data,TOF)\n",
        "        # hit_data = np.append(hit_data)\n",
        "\n",
        "        hits.append(hit_data)\n",
        "      else:\n",
        "        hits.append([0 for z in range(10)])\n",
        "        # hits.append([0 for z in range(18)])\n",
        "      lower = upper\n",
        "    hits = np.array(hits)\n",
        "\n",
        "    for i in range(hits.shape[0]):\n",
        "      x.append(hits[i])\n",
        "      # y.append(hits[i+1])\n",
        "      # y.append(state)\n",
        "    y = state\n",
        "\n",
        "    # x = np.expand_dims(np.array(x),0)\n",
        "    # y = np.expand_dims(np.array(y),0)\n",
        "\n",
        "    x_final.append(x)\n",
        "    y_final.append(y)\n",
        "    other_final.append(other)\n",
        "\n",
        "  x_final = np.array(x_final)\n",
        "  y_final = np.array(y_final)\n",
        "  other_final = np.array(other_final)\n",
        "\n",
        "  return x_final, y_final, other_final"
      ],
      "execution_count": null,
      "outputs": []
    },
    {
      "cell_type": "code",
      "metadata": {
        "colab": {
          "base_uri": "https://localhost:8080/"
        },
        "id": "BQ9LQDGfky27",
        "outputId": "598db9ef-79d6-4663-bd42-5d1ebb0a6a8c"
      },
      "source": [
        "x_train, y_train, other_train = parser(unparsed_train)\n",
        "# print(len(x_train))\n",
        "# if len(x_train) >= 5:\n",
        "#   for i in range(5):\n",
        "#     print(x_train[i].shape)\n",
        "# else:\n",
        "#   for i in range(len(x_train)):\n",
        "#     print(x_train[i].shape)\n",
        "\n",
        "# print(x_train.shape)\n",
        "\n",
        "i = 0\n",
        "print(\"x_shape:\", x_train[i].shape)\n",
        "print(\"y_shape:\", y_train[i].shape)\n",
        "print(\"other s:\", other_train[i].shape)\n",
        "print(\"x:\\n\",x_train[i])\n",
        "print(\"y:\\n\",y_train[i])\n",
        "print(\"o:\\n\",other_train[i])"
      ],
      "execution_count": null,
      "outputs": [
        {
          "output_type": "stream",
          "text": [
            "x_shape: (24, 10)\n",
            "y_shape: (5,)\n",
            "other s: (33,)\n",
            "x:\n",
            " [[0.769 0.766 0.224 0.264 0.495 0.913 0.974 0.819 0.006 0.006]\n",
            " [0.693 0.569 0.365 0.06  0.263 0.87  0.961 0.286 0.033 0.033]\n",
            " [0.239 0.241 0.767 0.105 0.505 0.783 0.935 0.504 0.018 0.018]\n",
            " [0.338 0.448 0.61  0.074 0.716 0.739 0.768 0.336 0.027 0.027]\n",
            " [0.571 0.674 0.373 0.288 0.705 0.696 0.755 0.731 0.005 0.005]\n",
            " [0.733 0.724 0.264 0.041 0.484 0.652 0.742 0.543 0.048 0.048]\n",
            " [0.654 0.547 0.395 0.124 0.295 0.609 0.729 0.573 0.015 0.015]\n",
            " [0.428 0.327 0.626 0.043 0.305 0.565 0.716 0.302 0.047 0.047]\n",
            " [0.275 0.283 0.728 0.024 0.516 0.522 0.703 0.33  0.081 0.081]\n",
            " [0.393 0.476 0.567 0.083 0.663 0.478 0.416 0.502 0.023 0.023]\n",
            " [0.568 0.64  0.392 0.03  0.642 0.435 0.403 0.295 0.066 0.066]\n",
            " [0.676 0.661 0.325 0.056 0.474 0.391 0.39  0.457 0.035 0.035]\n",
            " [0.607 0.522 0.433 0.066 0.337 0.348 0.377 0.448 0.03  0.03 ]\n",
            " [0.332 0.345 0.666 0.023 0.526 0.261 0.351 0.427 0.085 0.085]\n",
            " [0.437 0.493 0.536 0.038 0.611 0.217 0.065 0.287 0.052 0.052]\n",
            " [0.615 0.601 0.388 0.045 0.474 0.13  0.039 0.495 0.045 0.045]\n",
            " [0.451 0.409 0.572 0.041 0.421 0.043 0.013 0.337 0.048 0.048]\n",
            " [0.393 0.405 0.604 0.032 0.526 0.    0.    0.65  0.061 0.061]\n",
            " [0.    0.    0.    0.    0.    0.    0.    0.    0.    0.   ]\n",
            " [0.    0.    0.    0.    0.    0.    0.    0.    0.    0.   ]\n",
            " [0.    0.    0.    0.    0.    0.    0.    0.    0.    0.   ]\n",
            " [0.    0.    0.    0.    0.    0.    0.    0.    0.    0.   ]\n",
            " [0.    0.    0.    0.    0.    0.    0.    0.    0.    0.   ]\n",
            " [0.    0.    0.    0.    0.    0.    0.    0.    0.    0.   ]]\n",
            "y:\n",
            " [-4.805 -1.959  9.798  0.297 77.505]\n",
            "o:\n",
            " [    0.        0.        9.21      1.        0.        0.        0.\n",
            "     0.      143.934  -584.752    71.106   -51.758     0.297  -584.752\n",
            " 31170.963  -196.156  3392.621   -41.964    71.106  -196.156   354.599\n",
            "   -67.525   -34.888   -51.758  3392.621   -67.525   399.795     1.239\n",
            "     0.297   -41.964   -34.888     1.239     4.102]\n"
          ],
          "name": "stdout"
        }
      ]
    },
    {
      "cell_type": "code",
      "metadata": {
        "id": "3muuDmEgtsz3"
      },
      "source": [
        "for i in range(100):\n",
        "  yy = y_train[i]\n",
        "  print(\"i:\",i,yy)"
      ],
      "execution_count": null,
      "outputs": []
    },
    {
      "cell_type": "markdown",
      "metadata": {
        "id": "AxV5Vpbluw0Q"
      },
      "source": [
        "### List parsing?"
      ]
    },
    {
      "cell_type": "code",
      "metadata": {
        "id": "1CxhVlB0uwqW"
      },
      "source": [
        "def list_parser(unparsed):\n",
        "  global _min, _max\n",
        "  x_final = []\n",
        "  y_final = []\n",
        "  other_final = []\n",
        "  for event in unparsed:\n",
        "    x = []\n",
        "    y = []\n",
        "    other = []\n",
        "\n",
        "    nEvent = event[0]\n",
        "    state = event[1:6]\n",
        "    coVar = event[6:31]\n",
        "    invCoVar = event[31:56]\n",
        "    goodnessOfFit = event[56:59]\n",
        "    TOF = event[59:67]\n",
        "\n",
        "\n",
        "    if goodnessOfFit[2] > 0.1:\n",
        "      continue\n",
        "\n",
        "    # other = np.append(TOF, invCoVar)\n",
        "    other = invCoVar[:]\n",
        "\n",
        "\n",
        "    hits = []\n",
        "\n",
        "    lower = 67\n",
        "    for upper in range(lower+14, event.shape[0]+1, 14): # to flip just go from end to 67 by -14 steps?\n",
        "      hasNAN = False\n",
        "      for val in event[lower:upper]:\n",
        "        if isnan(val):\n",
        "          hasNAN = True\n",
        "      if not hasNAN:\n",
        "        hit_data = event[lower:upper]\n",
        "        hit_data = np.append(hit_data[:2],hit_data[6:])\n",
        "        # --== Using absolute normalizer ==--\n",
        "        # hit_data = (hit_data - min) / (max - min)\n",
        "        # hits.append(hit_data)\n",
        "        for z in range(len(hit_data)):\n",
        "          hit_data[z] = (hit_data[z] - _min[z]) / (_max[z] - _min[z])\n",
        "        hits.append(hit_data)         # list of all hits in the event (hit,10)\n",
        "      # else:\n",
        "      #   hits.append([0 for z in range(10)])\n",
        "      lower = upper\n",
        "    hits = np.array(hits)   # hits is now an np.array shape (hit,10) with \"hit\" changing every event\n",
        "\n",
        "    for i in range(hits.shape[0]):\n",
        "      x.append(hits[i])                 # could just copy, but y may be needed?\n",
        "      # y.append(hits[i+1])\n",
        "      # y.append(state)\n",
        "    y = state                  # y is now np.array of (5,)\n",
        "\n",
        "    # x = np.expand_dims(np.array(x),0)  # x now (1, hit, 10)\n",
        "    # y = np.expand_dims(np.array(y),0)  # y now (1, 5)\n",
        "    # x = np.array(x).astype('float32')\n",
        "    # y = np.array(y).astype('float32')\n",
        "    x = np.array(x)\n",
        "    y = np.array(y)\n",
        "\n",
        "    x_final.append(x)\n",
        "    y_final.append(y)\n",
        "    other_final.append(other)\n",
        "\n",
        "  x_final = np.array(x_final,dtype=object)     # want x_final to be shape (event, hit, 10)\n",
        "  y_final = np.array(y_final,dtype=object)     # want y_final to be shape (event, 5)\n",
        "  # other_final = np.array(other_final)        # want other_f to be shape (event, 25)\n",
        "\n",
        "  return x_final, y_final, other_final"
      ],
      "execution_count": null,
      "outputs": []
    },
    {
      "cell_type": "code",
      "metadata": {
        "colab": {
          "base_uri": "https://localhost:8080/"
        },
        "id": "kRUpTfnEu67h",
        "outputId": "0612104c-b515-468a-bfd0-cec20d2d222b"
      },
      "source": [
        "x_train, y_train, oth_train = list_parser(unparsed_train)\n",
        "print(len(x_train))\n",
        "print(type(x_train))\n",
        "print(len(x_train[0]))\n",
        "print(type(x_train[0]))\n",
        "print(len(x_train[0][0]))\n",
        "print(type(x_train[0][0]))\n",
        "if len(x_train) >= 5:\n",
        "  for i in range(5):\n",
        "    print(x_train[i].shape)\n",
        "else:\n",
        "  for i in range(len(x_train)):\n",
        "    print(x_train[i].shape)\n",
        "# 1, 24, 10 would be the largest\n",
        "\n",
        "x_train = tf.ragged.constant(x_train)\n",
        "y_train = tf.ragged.constant(y_train)\n",
        "# print(x_raggedTensor)\n",
        "\n",
        "x_train = np.array(x_train,dtype=object)\n",
        "y_train = np.array(y_train,dtype=object)\n",
        "\n",
        "aax = x_train[0]\n",
        "aay = y_train[0]\n",
        "print(type(x_train))\n",
        "print(type(y_train))\n",
        "print(type(oth_train))\n",
        "print(\"first data:\")\n",
        "print(aax.shape)\n",
        "print(aay.shape)\n",
        "print(\"x: \",aax)\n",
        "print(\"y: \",aay)"
      ],
      "execution_count": null,
      "outputs": [
        {
          "output_type": "stream",
          "text": [
            "9301\n",
            "<class 'numpy.ndarray'>\n",
            "18\n",
            "<class 'numpy.ndarray'>\n",
            "10\n",
            "<class 'numpy.ndarray'>\n",
            "(18, 10)\n",
            "(21, 10)\n",
            "(17, 10)\n",
            "(20, 10)\n",
            "(21, 10)\n",
            "<class 'tensorflow.python.ops.ragged.ragged_tensor.RaggedTensor'>\n",
            "<class 'tensorflow.python.ops.ragged.ragged_tensor.RaggedTensor'>\n",
            "<class 'list'>\n",
            "first data:\n",
            "(18, None)\n",
            "(5,)\n",
            "x:  <tf.RaggedTensor [[0.7692640196597368, 0.7656061434791201, 0.22407018927649977, 0.2642020021171528, 0.49473684210526314, 0.9130434782608695, 0.9742011925282865, 0.8189674386978577, 0.006027945235375407, 0.006027945235375406], [0.6926482121090056, 0.5690751957357647, 0.3645309484715406, 0.05952612998302842, 0.2631578947368421, 0.8695652173913043, 0.9611853611213622, 0.2864930950508657, 0.0332599374371844, 0.0332599374371844], [0.2387550449911297, 0.24075621620053428, 0.767228079688474, 0.10457572204360073, 0.5052631578947369, 0.782608695652174, 0.9352953386873323, 0.5040214342062408, 0.0183040676061293, 0.018304067606129303], [0.33787239221846777, 0.4484703467662496, 0.6097946425343194, 0.07363839170018947, 0.7157894736842105, 0.7391304347826086, 0.7676599649189606, 0.3356281281962399, 0.02666318522013744, 0.02666318522013745], [0.571077005980619, 0.6744455851464201, 0.37305063910680347, 0.2882801841711805, 0.7052631578947368, 0.6956521739130435, 0.7548211719633284, 0.730982079183085, 0.005347346645835301, 0.005347346645835299], [0.7333151043267875, 0.7239073390136557, 0.26361377180730106, 0.04105576894894549, 0.4842105263157895, 0.6521739130434783, 0.7418310973036062, 0.5430606222898556, 0.048400090997179894, 0.048400090997179894], [0.654321937904323, 0.5472460157612252, 0.3954412841879387, 0.1239938516488669, 0.29473684210526313, 0.6086956521739131, 0.7289157952718806, 0.5731130066023332, 0.01515127416918657, 0.015151274169186572], [0.4282416912120033, 0.32723174852729975, 0.6255077412828313, 0.04272006245793674, 0.30526315789473685, 0.5652173913043478, 0.716091718314621, 0.3023133047568725, 0.0465252689343552, 0.046525268934355206], [0.2750035566593153, 0.28259046420816886, 0.7278001350563652, 0.024007416162418332, 0.5157894736842106, 0.5217391304347826, 0.7030814833733143, 0.33001995702064063, 0.08132698677587073, 0.08132698677587073], [0.3927527796796089, 0.47597991600589457, 0.5672175202970791, 0.08297774020669353, 0.6631578947368421, 0.4782608695652174, 0.4162442757320239, 0.5024588749114404, 0.02349975092507326, 0.023499750925073264], [0.567786456452167, 0.6398308133937011, 0.3921426402309617, 0.030097602965216883, 0.6421052631578947, 0.43478260869565216, 0.40303485432120845, 0.2945617475740002, 0.06557145869394736, 0.06557145869394734], [0.6758876502871672, 0.6613656975525217, 0.3252999804389994, 0.055981783586766184, 0.47368421052631576, 0.391304347826087, 0.39034583459775607, 0.45713284237761537, 0.03541968264363351, 0.035419682643633515], [0.6067799905911585, 0.5218054021100128, 0.433348679191327, 0.06648389427485188, 0.3368421052631579, 0.34782608695652173, 0.3770085295804537, 0.448062092854992, 0.029668667820935517, 0.029668667820935527], [0.33219148401081366, 0.3447727891986897, 0.6660985094256516, 0.022861686966938913, 0.5263157894736842, 0.2608695652173913, 0.35123490996953066, 0.4274588413764109, 0.08514742327647692, 0.08514742327647692], [0.43659855423286126, 0.49299495254753184, 0.5362541410036082, 0.03817495340879646, 0.6105263157894737, 0.21739130434782608, 0.06489392647518806, 0.28679841526864175, 0.05201080549624136, 0.05201080549624135], [0.6153600566498107, 0.6007119987977707, 0.3877481996290278, 0.04457264871107007, 0.47368421052631576, 0.13043478260869565, 0.03874856487161335, 0.4948866435948547, 0.04459531342784544, 0.044595313427845444], [0.4505679191119365, 0.40904944427465545, 0.5723205166331156, 0.041067822343909266, 0.42105263157894735, 0.043478260869565216, 0.012867040024243482, 0.3368328146365735, 0.048385994170317394, 0.048385994170317394], [0.3925012809741766, 0.4053120077998748, 0.6041624732254547, 0.03248749924479318, 0.5263157894736842, 0.0, 0.0001747890554092764, 0.6500389893398848, 0.06090098459076735, 0.06090098459076735]]>\n",
            "y:  tf.Tensor([-4.805 -1.959  9.798  0.297 77.505], shape=(5,), dtype=float32)\n"
          ],
          "name": "stdout"
        }
      ]
    },
    {
      "cell_type": "markdown",
      "metadata": {
        "id": "UdSEMTgPtTKF"
      },
      "source": [
        "### Ragged Array Parsing"
      ]
    },
    {
      "cell_type": "code",
      "metadata": {
        "id": "yfeuFuogtTBl"
      },
      "source": [
        "def list_parser(unparsed):\n",
        "  global _min, _max\n",
        "  x_final = []\n",
        "  y_final = []\n",
        "  other_final = []\n",
        "  for event in unparsed:\n",
        "    x = []\n",
        "    y = []\n",
        "    other = []\n",
        "\n",
        "    nEvent = event[0]\n",
        "    state = event[1:6]\n",
        "    coVar = event[6:31]\n",
        "    invCoVar = event[31:56]\n",
        "    goodnessOfFit = event[56:59]\n",
        "    TOF = event[59:67]\n",
        "\n",
        "\n",
        "    if goodnessOfFit[2] > 0.1:\n",
        "      continue\n",
        "\n",
        "    # other = np.append(TOF, invCoVar)\n",
        "    other = invCoVar[:]\n",
        "\n",
        "\n",
        "    hits = []\n",
        "\n",
        "    lower = 67\n",
        "    for upper in range(lower+14, event.shape[0]+1, 14): # to flip just go from end to 67 by -14 steps?\n",
        "      hasNAN = False\n",
        "      for val in event[lower:upper]:\n",
        "        if isnan(val):\n",
        "          hasNAN = True\n",
        "      if not hasNAN:\n",
        "        hit_data = event[lower:upper]\n",
        "        hit_data = np.append(hit_data[:2],hit_data[6:])\n",
        "        # --== Using absolute normalizer ==--\n",
        "        # hit_data = (hit_data - min) / (max - min)\n",
        "        # hits.append(hit_data)\n",
        "        for z in range(len(hit_data)):\n",
        "          hit_data[z] = (hit_data[z] - _min[z]) / (_max[z] - _min[z])\n",
        "        hit_data = np.ndarray.tolist(hit_data)\n",
        "        hits.append(hit_data)         # list of all hits in the event (hit,10)\n",
        "      # else:\n",
        "      #   hits.append([0 for z in range(10)])\n",
        "      lower = upper\n",
        "    #hits = np.array(hits)   # hits is now an np.array shape (hit,10) with \"hit\" changing every event\n",
        "\n",
        "    # for i in range(hits.shape[0]):\n",
        "    for i in range(len(hits)):\n",
        "      x.append(hits[i])                 # could just copy, but y may be needed?\n",
        "      # y.append(hits[i+1])\n",
        "      # y.append(state)\n",
        "    y = np.ndarray.tolist(state)                  # y is now np.array of (5,)\n",
        "\n",
        "    # x = np.expand_dims(np.array(x),0)  # x now (1, hit, 10)\n",
        "    # y = np.expand_dims(np.array(y),0)  # y now (1, 5)\n",
        "    # x = np.array(x).astype('float32')\n",
        "    # y = np.array(y).astype('float32')\n",
        "    # x = np.array(x)\n",
        "    # y = np.array(y)\n",
        "\n",
        "    x_final.append(x)\n",
        "    y_final.append(y)\n",
        "    other_final.append(other)\n",
        "\n",
        "  # x_final = np.array(x_final,dtype=object)     # want x_final to be shape (event, hit, 10)\n",
        "  # y_final = np.array(y_final,dtype=object)     # want y_final to be shape (event, 5)\n",
        "  # other_final = np.array(other_final)        # want other_f to be shape (event, 25)\n",
        "\n",
        "  return x_final, y_final, other_final"
      ],
      "execution_count": null,
      "outputs": []
    },
    {
      "cell_type": "code",
      "metadata": {
        "colab": {
          "base_uri": "https://localhost:8080/"
        },
        "id": "8K3C09XatS2W",
        "outputId": "27d5c003-d574-45f3-ac15-3ae11a7265d6"
      },
      "source": [
        "x_train, y_train, oth_train = list_parser(unparsed_train)\n",
        "print(\"x\")\n",
        "print(len(x_train))\n",
        "print(type(x_train))\n",
        "print(len(x_train[0]))\n",
        "print(type(x_train[0]))\n",
        "print(len(x_train[0][0]))\n",
        "print(type(x_train[0][0]))\n",
        "print(type(x_train[0][0][0]))\n",
        "print(\"y\")\n",
        "print(type(y_train))\n",
        "print(type(y_train[0]))\n",
        "print(type(y_train[0][0]))\n",
        "if len(x_train) >= 5:\n",
        "  for i in range(5):\n",
        "    # print(x_train[i].shape)\n",
        "    pass\n",
        "else:\n",
        "  for i in range(len(x_train)):\n",
        "    print(x_train[i].shape)\n",
        "# 1, 24, 10 would be the largest\n",
        "\n",
        "x_train = tf.ragged.constant(x_train)\n",
        "# y_train = tf.ragged.constant(y_train)\n",
        "y_train = np.array(y_train)\n",
        "# print(x_raggedTensor)\n",
        "\n",
        "aax = x_train[0]\n",
        "aay = y_train[0]\n",
        "print(type(x_train))\n",
        "print(type(y_train))\n",
        "print(type(oth_train))\n",
        "print(\"first data:\")\n",
        "print(aax.shape)\n",
        "print(aax[0].shape)\n",
        "print(aay.shape)\n",
        "print(\"x: \",aax)\n",
        "print(\"y: \",aay)"
      ],
      "execution_count": null,
      "outputs": [
        {
          "output_type": "stream",
          "text": [
            "x\n",
            "9301\n",
            "<class 'list'>\n",
            "18\n",
            "<class 'list'>\n",
            "10\n",
            "<class 'list'>\n",
            "<class 'float'>\n",
            "y\n",
            "<class 'list'>\n",
            "<class 'list'>\n",
            "<class 'float'>\n",
            "<class 'tensorflow.python.ops.ragged.ragged_tensor.RaggedTensor'>\n",
            "<class 'numpy.ndarray'>\n",
            "<class 'list'>\n",
            "first data:\n",
            "(18, None)\n",
            "(10,)\n",
            "(5,)\n",
            "x:  <tf.RaggedTensor [[0.7692640423774719, 0.765606164932251, 0.22407019138336182, 0.2642019987106323, 0.49473685026168823, 0.9130434989929199, 0.9742012023925781, 0.8189674615859985, 0.006027945317327976, 0.006027945317327976], [0.6926482319831848, 0.5690751671791077, 0.3645309507846832, 0.05952613055706024, 0.2631579041481018, 0.8695651888847351, 0.9611853361129761, 0.28649309277534485, 0.033259935677051544, 0.033259935677051544], [0.23875504732131958, 0.24075621366500854, 0.7672280669212341, 0.10457572340965271, 0.5052631497383118, 0.782608687877655, 0.9352953433990479, 0.504021406173706, 0.018304066732525826, 0.018304066732525826], [0.33787238597869873, 0.4484703540802002, 0.6097946166992188, 0.07363839447498322, 0.7157894968986511, 0.739130437374115, 0.7676599621772766, 0.33562812209129333, 0.02666318602859974, 0.02666318602859974], [0.5710769891738892, 0.6744455695152283, 0.37305063009262085, 0.288280189037323, 0.7052631378173828, 0.695652186870575, 0.7548211812973022, 0.7309820652008057, 0.005347346421331167, 0.005347346421331167], [0.733315110206604, 0.7239073514938354, 0.263613760471344, 0.041055768728256226, 0.4842105209827423, 0.6521739363670349, 0.7418311238288879, 0.5430606007575989, 0.048400089144706726, 0.048400089144706726], [0.6543219089508057, 0.5472460389137268, 0.39544129371643066, 0.12399385124444962, 0.2947368323802948, 0.6086956262588501, 0.728915810585022, 0.5731130242347717, 0.015151274390518665, 0.015151274390518665], [0.42824169993400574, 0.3272317349910736, 0.6255077123641968, 0.04272006079554558, 0.3052631616592407, 0.5652173757553101, 0.7160916924476624, 0.30231329798698425, 0.046525269746780396, 0.046525269746780396], [0.2750035524368286, 0.28259047865867615, 0.7278001308441162, 0.024007415398955345, 0.5157894492149353, 0.52173912525177, 0.703081488609314, 0.3300199508666992, 0.08132698386907578, 0.08132698386907578], [0.3927527666091919, 0.47597992420196533, 0.5672175288200378, 0.08297774195671082, 0.6631578803062439, 0.47826087474823, 0.4162442684173584, 0.5024588704109192, 0.023499751463532448, 0.023499751463532448], [0.567786455154419, 0.6398308277130127, 0.392142653465271, 0.030097603797912598, 0.6421052813529968, 0.43478259444236755, 0.40303486585617065, 0.2945617437362671, 0.06557145714759827, 0.06557145714759827], [0.6758876442909241, 0.6613656878471375, 0.3252999782562256, 0.05598178505897522, 0.4736842215061188, 0.3913043439388275, 0.39034584164619446, 0.45713284611701965, 0.035419683903455734, 0.035419683903455734], [0.6067799925804138, 0.5218054056167603, 0.433348685503006, 0.06648389250040054, 0.3368421196937561, 0.3478260934352875, 0.3770085275173187, 0.44806209206581116, 0.029668668285012245, 0.029668668285012245], [0.33219149708747864, 0.3447727859020233, 0.6660985350608826, 0.02286168746650219, 0.5263158082962036, 0.260869562625885, 0.35123491287231445, 0.42745885252952576, 0.085147425532341, 0.085147425532341], [0.436598539352417, 0.4929949641227722, 0.5362541675567627, 0.03817495331168175, 0.6105263233184814, 0.21739129722118378, 0.0648939236998558, 0.2867984175682068, 0.052010804414749146, 0.052010804414749146], [0.6153600811958313, 0.6007120013237, 0.38774821162223816, 0.04457264766097069, 0.4736842215061188, 0.1304347813129425, 0.038748566061258316, 0.4948866367340088, 0.04459531232714653, 0.04459531232714653], [0.45056793093681335, 0.40904945135116577, 0.5723205208778381, 0.04106782376766205, 0.42105263471603394, 0.043478261679410934, 0.012867040000855923, 0.33683282136917114, 0.048385992646217346, 0.048385992646217346], [0.3925012946128845, 0.4053120017051697, 0.6041624546051025, 0.032487500458955765, 0.5263158082962036, 0.0, 0.00017478904919698834, 0.65003901720047, 0.060900986194610596, 0.060900986194610596]]>\n",
            "y:  [-4.805 -1.959  9.798  0.297 77.505]\n"
          ],
          "name": "stdout"
        }
      ]
    },
    {
      "cell_type": "markdown",
      "metadata": {
        "id": "9GOaGELDwuNm"
      },
      "source": [
        "### Ragged Custom Loss"
      ]
    },
    {
      "cell_type": "code",
      "metadata": {
        "id": "76xopjEZwuC-"
      },
      "source": [
        "def list_parser(unparsed):\n",
        "  global _min, _max\n",
        "  x_final = []\n",
        "  y_final = []\n",
        "  other_final = []\n",
        "  for event in unparsed:\n",
        "    x = []\n",
        "    y = []\n",
        "    other = []\n",
        "\n",
        "    nEvent = event[0]\n",
        "    state = event[1:6]\n",
        "    coVar = event[6:31]\n",
        "    invCoVar = event[31:56]\n",
        "    goodnessOfFit = event[56:59]\n",
        "    TOF = event[59:67]\n",
        "\n",
        "\n",
        "    if goodnessOfFit[2] > 0.1:\n",
        "      continue\n",
        "\n",
        "    # other = np.append(TOF, invCoVar)\n",
        "    other = invCoVar[:]\n",
        "\n",
        "\n",
        "    hits = []\n",
        "\n",
        "    lower = 67\n",
        "    for upper in range(lower+14, event.shape[0]+1, 14): # to flip just go from end to 67 by -14 steps?\n",
        "      hasNAN = False\n",
        "      for val in event[lower:upper]:\n",
        "        if isnan(val):\n",
        "          hasNAN = True\n",
        "      if not hasNAN:\n",
        "        hit_data = event[lower:upper]\n",
        "        hit_data = np.append(hit_data[:2],hit_data[6:])\n",
        "        # --== Using absolute normalizer ==--\n",
        "        # hit_data = (hit_data - min) / (max - min)\n",
        "        # hits.append(hit_data)\n",
        "        for z in range(len(hit_data)):\n",
        "          hit_data[z] = (hit_data[z] - _min[z]) / (_max[z] - _min[z])\n",
        "        hit_data = np.ndarray.tolist(hit_data)\n",
        "        hits.append(hit_data)         # list of all hits in the event (hit,10)\n",
        "      # else:\n",
        "      #   hits.append([0 for z in range(10)])\n",
        "      lower = upper\n",
        "    #hits = np.array(hits)   # hits is now an np.array shape (hit,10) with \"hit\" changing every event\n",
        "\n",
        "    # for i in range(hits.shape[0]):\n",
        "    for i in range(len(hits)):\n",
        "      x.append(hits[i])                 # could just copy, but y may be needed?\n",
        "      # y.append(hits[i+1])\n",
        "      # y.append(state)\n",
        "    y = np.ndarray.tolist(state)                  # y is now np.array of (5,)\n",
        "\n",
        "    # x = np.expand_dims(np.array(x),0)  # x now (1, hit, 10)\n",
        "    # y = np.expand_dims(np.array(y),0)  # y now (1, 5)\n",
        "    # x = np.array(x).astype('float32')\n",
        "    # y = np.array(y).astype('float32')\n",
        "    # x = np.array(x)\n",
        "    # y = np.array(y)\n",
        "\n",
        "    x_final.append(x)\n",
        "    y_final.append(y)\n",
        "    other_final.append(other)\n",
        "\n",
        "  # x_final = np.array(x_final,dtype=object)     # want x_final to be shape (event, hit, 10)\n",
        "  # y_final = np.array(y_final,dtype=object)     # want y_final to be shape (event, 5)\n",
        "  # other_final = np.array(other_final)        # want other_f to be shape (event, 25)\n",
        "\n",
        "  return [x_final, other_final, y_final], y_final"
      ],
      "execution_count": null,
      "outputs": []
    },
    {
      "cell_type": "code",
      "metadata": {
        "colab": {
          "base_uri": "https://localhost:8080/"
        },
        "id": "OCIGI9ghwt5E",
        "outputId": "934815a6-d8b2-43dd-d7a9-7ea3aeb51b4e"
      },
      "source": [
        "x_train, y_train = list_parser(unparsed_train[:10])\n",
        "\n",
        "x_train[0] = tf.ragged.constant(x_train[0])\n",
        "x_train[1] = np.array(x_train[1])\n",
        "x_train[2] = np.array(x_train[2])\n",
        "y_train = np.array(y_train)\n",
        "\n",
        "# x_train = tf.ragged.constant(x_train)\n",
        "# y_train = tf.ragged.constant(y_train)\n",
        "# y_train = np.array(y_train)\n",
        "# print(x_raggedTensor)\n",
        "\n",
        "aax = x_train[0]\n",
        "aay = y_train[0]\n",
        "print(type(x_train))\n",
        "print(type(y_train))\n",
        "# print(type(oth_train))\n",
        "print(\"first data:\")\n",
        "print(aax.shape)\n",
        "print(aax[0].shape)\n",
        "print(aay.shape)\n",
        "# print(\"x: \",aax)\n",
        "# print(\"y: \",aay)"
      ],
      "execution_count": null,
      "outputs": [
        {
          "output_type": "stream",
          "text": [
            "<class 'list'>\n",
            "<class 'numpy.ndarray'>\n",
            "first data:\n",
            "(9, None, None)\n",
            "(18, None)\n",
            "(5,)\n"
          ],
          "name": "stdout"
        }
      ]
    },
    {
      "cell_type": "markdown",
      "metadata": {
        "id": "FgUfJ7UXLkqh"
      },
      "source": [
        "### List parsing with custom loss"
      ]
    },
    {
      "cell_type": "code",
      "metadata": {
        "id": "M6BJfOwTLkd2"
      },
      "source": [
        "def list_parser(unparsed):\n",
        "  global _min, _max\n",
        "  x_final = []\n",
        "  y_final = []\n",
        "  other_final = []\n",
        "  for event in unparsed:\n",
        "    x = []\n",
        "    y = []\n",
        "    other = []\n",
        "\n",
        "    nEvent = event[0]\n",
        "    state = event[1:6]\n",
        "    coVar = event[6:31]\n",
        "    invCoVar = event[31:56]\n",
        "    goodnessOfFit = event[56:59]\n",
        "    TOF = event[59:67]\n",
        "\n",
        "\n",
        "    if goodnessOfFit[2] > 0.1:\n",
        "      continue\n",
        "\n",
        "    # other = np.append(TOF, invCoVar)\n",
        "    other = invCoVar[:]\n",
        "\n",
        "\n",
        "    hits = []\n",
        "\n",
        "    lower = 67\n",
        "    for upper in range(lower+14, event.shape[0]+1, 14): # to flip just go from end to 67 by -14 steps?\n",
        "      hasNAN = False\n",
        "      for val in event[lower:upper]:\n",
        "        if isnan(val):\n",
        "          hasNAN = True\n",
        "      if not hasNAN:\n",
        "        hit_data = event[lower:upper]\n",
        "        hit_data = np.append(hit_data[:2],hit_data[6:])\n",
        "        # --== Using absolute normalizer ==--\n",
        "        # hit_data = (hit_data - min) / (max - min)\n",
        "        # hits.append(hit_data)\n",
        "        for z in range(len(hit_data)):\n",
        "          hit_data[z] = (hit_data[z] - _min[z]) / (_max[z] - _min[z])\n",
        "        hits.append(hit_data)\n",
        "      # else:\n",
        "      #   hits.append([0 for z in range(10)])\n",
        "      lower = upper\n",
        "    hits = np.array(hits)\n",
        "\n",
        "    for i in range(hits.shape[0]):\n",
        "      x.append(hits[i])\n",
        "      # y.append(hits[i+1])\n",
        "      # y.append(state)\n",
        "    y = state\n",
        "\n",
        "    # x = np.expand_dims(np.array(x),0)\n",
        "    # y = np.expand_dims(np.array(y),0)\n",
        "    # other = np.expand_dims(other,0)\n",
        "    x = np.array(x)\n",
        "    y = np.array(y)\n",
        "\n",
        "    x_final.append(x)\n",
        "    y_final.append(y)\n",
        "    other_final.append(other)\n",
        "\n",
        "  # x_final = np.array(x_final,dtype=object)\n",
        "  # y_final = np.array(y_final,dtype=object)\n",
        "  # other_final = np.array(other_final,dtype=object)\n",
        "\n",
        "  return [x_final, other_final, y_final], y_final"
      ],
      "execution_count": null,
      "outputs": []
    },
    {
      "cell_type": "code",
      "metadata": {
        "id": "hILq_qTFLoqz",
        "colab": {
          "base_uri": "https://localhost:8080/"
        },
        "outputId": "ebe5e6d3-bd55-4ac4-9857-b3522eb3429b"
      },
      "source": [
        "[x_train, o_train, _], y_train = list_parser(unparsed_train)\n",
        "print(len(x_train))\n",
        "if len(x_train) >= 5:\n",
        "  for i in range(5):\n",
        "    print(x_train[i].shape)\n",
        "else:\n",
        "  for i in range(len(x_train)):\n",
        "    print(x_train[i].shape)\n",
        "# 1, 24, 14 would be the largest\n",
        "\n",
        "# x_raggedTensor = tf.ragged.constant(x_train)\n",
        "# y_raggedTensor = tf.ragged.constant(y_train)\n",
        "# print(x_raggedTensor)\n",
        "\n",
        "x_train = np.array(x_train,dtype=object)\n",
        "o_train = np.array(o_train,dtype=object)\n",
        "y_train = np.array(y_train,dtype=object)\n",
        "\n",
        "# x_train = [x_train, o_train, y_train]\n",
        "# y_train = y_train\n",
        "\n",
        "\n",
        "aax = x_train[0]\n",
        "aay = y_train[0]\n",
        "print(\"first data:\")\n",
        "print(aax.shape)\n",
        "print(aay.shape)\n",
        "print(\"x: \",aax)\n",
        "print(\"y: \",aay)"
      ],
      "execution_count": null,
      "outputs": [
        {
          "output_type": "stream",
          "text": [
            "9301\n",
            "(18, 10)\n",
            "(21, 10)\n",
            "(17, 10)\n",
            "(20, 10)\n",
            "(21, 10)\n",
            "first data:\n",
            "(18, 10)\n",
            "(5,)\n",
            "x:  [[0.769 0.766 0.224 0.264 0.495 0.913 0.974 0.819 0.006 0.006]\n",
            " [0.693 0.569 0.365 0.06  0.263 0.87  0.961 0.286 0.033 0.033]\n",
            " [0.239 0.241 0.767 0.105 0.505 0.783 0.935 0.504 0.018 0.018]\n",
            " [0.338 0.448 0.61  0.074 0.716 0.739 0.768 0.336 0.027 0.027]\n",
            " [0.571 0.674 0.373 0.288 0.705 0.696 0.755 0.731 0.005 0.005]\n",
            " [0.733 0.724 0.264 0.041 0.484 0.652 0.742 0.543 0.048 0.048]\n",
            " [0.654 0.547 0.395 0.124 0.295 0.609 0.729 0.573 0.015 0.015]\n",
            " [0.428 0.327 0.626 0.043 0.305 0.565 0.716 0.302 0.047 0.047]\n",
            " [0.275 0.283 0.728 0.024 0.516 0.522 0.703 0.33  0.081 0.081]\n",
            " [0.393 0.476 0.567 0.083 0.663 0.478 0.416 0.502 0.023 0.023]\n",
            " [0.568 0.64  0.392 0.03  0.642 0.435 0.403 0.295 0.066 0.066]\n",
            " [0.676 0.661 0.325 0.056 0.474 0.391 0.39  0.457 0.035 0.035]\n",
            " [0.607 0.522 0.433 0.066 0.337 0.348 0.377 0.448 0.03  0.03 ]\n",
            " [0.332 0.345 0.666 0.023 0.526 0.261 0.351 0.427 0.085 0.085]\n",
            " [0.437 0.493 0.536 0.038 0.611 0.217 0.065 0.287 0.052 0.052]\n",
            " [0.615 0.601 0.388 0.045 0.474 0.13  0.039 0.495 0.045 0.045]\n",
            " [0.451 0.409 0.572 0.041 0.421 0.043 0.013 0.337 0.048 0.048]\n",
            " [0.393 0.405 0.604 0.032 0.526 0.    0.    0.65  0.061 0.061]]\n",
            "y:  [-4.80515106805654 -1.959486255086148 9.798481516481372 0.2974276780563659\n",
            " 77.5051204085058]\n"
          ],
          "name": "stdout"
        }
      ]
    },
    {
      "cell_type": "markdown",
      "metadata": {
        "id": "nXWxjgeBkSBE"
      },
      "source": [
        "### TimeDist Gen"
      ]
    },
    {
      "cell_type": "code",
      "metadata": {
        "id": "EcxvHN8ONKTG"
      },
      "source": [
        "# parse data\n",
        "def generator(data):\n",
        "\n",
        "  index = 0\n",
        "\n",
        "  while True:\n",
        "\n",
        "    if index >= len(data):\n",
        "      index = 0\n",
        "\n",
        "    event = data[index]\n",
        "\n",
        "    x = []\n",
        "    y = []\n",
        "\n",
        "    state = event[1:6]\n",
        "    coVar = event[6:31]\n",
        "    invCoVar = event[31:56]\n",
        "    goodnessOfFit = event[56:59]\n",
        "    TOF = event[59:67]\n",
        "\n",
        "    hits = []\n",
        "\n",
        "    # for i in range(24):\n",
        "    # hits.append(event[67+(i)*14:67+(i+1)*14])\n",
        "\n",
        "    j = 67\n",
        "    upTo = event.shape[0]+1\n",
        "    for i in range(j+14,upTo,14):\n",
        "      hasNAN = False\n",
        "      for a in event[j:i]:\n",
        "        if isnan(a):\n",
        "          hasNAN = True\n",
        "      # print(j,i,hasNAN)\n",
        "      if not hasNAN:\n",
        "        hits.append(event[j:i])\n",
        "      else:\n",
        "        hits.append([0 for z in range(14)])\n",
        "      j = i\n",
        "    hits = np.array(hits)\n",
        "\n",
        "    for i in range(hits.shape[0]-1):\n",
        "      x.append(hits[i])\n",
        "      y.append(hits[i+1])\n",
        "    # x = np.expand_dims(np.array(x),0)\n",
        "    # y = np.expand_dims(np.array(y),0)\n",
        "\n",
        "    # x_final.append(x)\n",
        "    # y_final.append(y)\n",
        "\n",
        "    # x_final = np.array(x_final)\n",
        "    # y_final = np.array(y_final)\n",
        "\n",
        "    x = np.expand_dims(np.array(x),0)\n",
        "    y = np.expand_dims(np.array(y),0)\n",
        "    index += 1\n",
        "    yield (x, y)"
      ],
      "execution_count": null,
      "outputs": []
    },
    {
      "cell_type": "code",
      "metadata": {
        "id": "RqC9yq97PXWu"
      },
      "source": [
        "train_gen = generator(unparsed_train)"
      ],
      "execution_count": null,
      "outputs": []
    },
    {
      "cell_type": "markdown",
      "metadata": {
        "id": "fqvIeNaLkOaF"
      },
      "source": [
        "### Only Final State Gen"
      ]
    },
    {
      "cell_type": "code",
      "metadata": {
        "id": "a30fxyKYkNEM"
      },
      "source": [
        "def generator_final_state(unparsed):\n",
        "  global _min, _max\n",
        "\n",
        "  while True:\n",
        "\n",
        "    for event in unparsed:\n",
        "      x = []\n",
        "      y = []\n",
        "      other = []\n",
        "\n",
        "      nEvent = event[0]\n",
        "      state = event[1:6]\n",
        "      coVar = event[6:31]\n",
        "      invCoVar = event[31:56]\n",
        "      goodnessOfFit = event[56:59]\n",
        "      TOF = event[59:67]\n",
        "\n",
        "      # if goodnessOfFit[2] > 0.1:\n",
        "      #   continue\n",
        "\n",
        "      # other = np.append(TOF, invCoVar)\n",
        "      other = invCoVar[:]\n",
        "      hits = []\n",
        "\n",
        "      lower = 67\n",
        "      for upper in range(lower+14, event.shape[0]+1, 14): # to flip just go from end to 67 by -14 steps?\n",
        "        hasNAN = False\n",
        "        for val in event[lower:upper]:\n",
        "          if isnan(val):\n",
        "            hasNAN = True\n",
        "        if not hasNAN:\n",
        "          hit_data = event[lower:upper]\n",
        "          hit_data = np.append(hit_data[:2],hit_data[6:])\n",
        "          # --== Using absolute normalizer ==--\n",
        "          # hit_data = (hit_data - min) / (max - min)\n",
        "          # hits.append(hit_data)\n",
        "          for z in range(len(hit_data)):\n",
        "            hit_data[z] = (hit_data[z] - _min[z]) / (_max[z] - _min[z])\n",
        "          hits.append(hit_data)\n",
        "        lower = upper\n",
        "      hits = np.array(hits)\n",
        "\n",
        "      for i in range(hits.shape[0]):\n",
        "        x.append(hits[i])\n",
        "        # y.append(hits[i+1])\n",
        "        # y.append(state)\n",
        "      y = state\n",
        "\n",
        "      x = np.expand_dims(np.array(x),0)\n",
        "      y = np.expand_dims(np.array(y),0)\n",
        "\n",
        "      yield x, y, other"
      ],
      "execution_count": null,
      "outputs": []
    },
    {
      "cell_type": "code",
      "metadata": {
        "id": "e-jnEnMPliDf"
      },
      "source": [
        "train_gen = generator_final_state(unparsed_train[:9000])\n",
        "test_gen = generator_final_state(unparsed_train[9000:])"
      ],
      "execution_count": null,
      "outputs": []
    },
    {
      "cell_type": "markdown",
      "metadata": {
        "id": "5sPUt-OSurmQ"
      },
      "source": [
        "### Final State with Custom Loss"
      ]
    },
    {
      "cell_type": "code",
      "metadata": {
        "id": "fbHLlEbvuraS"
      },
      "source": [
        "def generator_final_state(unparsed):\n",
        "  global _min, _max\n",
        "\n",
        "  while True:\n",
        "\n",
        "    for event in unparsed:\n",
        "      x = []\n",
        "      y = []\n",
        "      other = []\n",
        "\n",
        "      nEvent = event[0]\n",
        "      state = event[1:6]\n",
        "      coVar = event[6:31]\n",
        "      invCoVar = event[31:56]\n",
        "      goodnessOfFit = event[56:59]\n",
        "      TOF = event[59:67]\n",
        "\n",
        "      if goodnessOfFit[2] > 0.1:\n",
        "        continue\n",
        "\n",
        "      # other = np.append(TOF, invCoVar)\n",
        "      other = invCoVar[:]\n",
        "      hits = []\n",
        "\n",
        "      lower = 67\n",
        "      for upper in range(lower+14, event.shape[0]+1, 14): # to flip just go from end to 67 by -14 steps?\n",
        "        hasNAN = False\n",
        "        for val in event[lower:upper]:\n",
        "          if isnan(val):\n",
        "            hasNAN = True\n",
        "        if not hasNAN:\n",
        "          hit_data = event[lower:upper]\n",
        "          hit_data = np.append(hit_data[:2],hit_data[6:])\n",
        "          # --== Using absolute normalizer ==--\n",
        "          # hit_data = (hit_data - min) / (max - min)\n",
        "          # hits.append(hit_data)\n",
        "          for z in range(len(hit_data)):\n",
        "            hit_data[z] = (hit_data[z] - _min[z]) / (_max[z] - _min[z])\n",
        "          hits.append(hit_data)\n",
        "        lower = upper\n",
        "      hits = np.array(hits)\n",
        "\n",
        "      for i in range(hits.shape[0]):\n",
        "        x.append(hits[i])\n",
        "        # y.append(hits[i+1])\n",
        "        # y.append(state)\n",
        "      y = state\n",
        "\n",
        "      x = np.expand_dims(np.array(x),0)\n",
        "      y = np.expand_dims(np.array(y),0)\n",
        "      other = np.expand_dims(other,0)\n",
        "\n",
        "      yield [x, other, y], y"
      ],
      "execution_count": null,
      "outputs": []
    },
    {
      "cell_type": "code",
      "metadata": {
        "id": "B-U2MPtdu5Lg"
      },
      "source": [
        "train_gen = generator_final_state(unparsed_train[:9000])\n",
        "test_gen = generator_final_state(unparsed_train[9000:])"
      ],
      "execution_count": null,
      "outputs": []
    },
    {
      "cell_type": "code",
      "metadata": {
        "id": "RcrHYOcvLj2S"
      },
      "source": [
        "ggx, ggy = next(train_gen)\n",
        "x, o, y = ggx"
      ],
      "execution_count": null,
      "outputs": []
    },
    {
      "cell_type": "code",
      "metadata": {
        "colab": {
          "base_uri": "https://localhost:8080/"
        },
        "id": "YN4SmQZ_Lm7O",
        "outputId": "9a974fb2-31e5-4ee1-dadc-9f73429f8793"
      },
      "source": [
        "print(x.shape)"
      ],
      "execution_count": null,
      "outputs": [
        {
          "output_type": "stream",
          "text": [
            "(1, 21, 10)\n"
          ],
          "name": "stdout"
        }
      ]
    },
    {
      "cell_type": "code",
      "metadata": {
        "id": "ojqIPY1YLu6f"
      },
      "source": [
        ""
      ],
      "execution_count": null,
      "outputs": []
    },
    {
      "cell_type": "markdown",
      "metadata": {
        "id": "7L54wTFh-NGU"
      },
      "source": [
        "## Ragged Custom Loss"
      ]
    },
    {
      "cell_type": "code",
      "metadata": {
        "colab": {
          "base_uri": "https://localhost:8080/"
        },
        "id": "KoN7P86yCif6",
        "outputId": "04cee351-be2f-4f7f-ef9b-edd269199bb5"
      },
      "source": [
        "_max = [-1000 for i in range(10)]\n",
        "_min = [1000 for i in range(10)]\n",
        "for index,event in enumerate(unparsed_train):\n",
        "  lower = 67\n",
        "  for upper in range(lower+14, event.shape[0]+1, 14):\n",
        "    d = event[lower:upper]\n",
        "    d = np.append(d[:2],d[6:])\n",
        "    for a in range(len(d)):\n",
        "      if d[a] > _max[a]:\n",
        "        _max[a] = d[a]\n",
        "      if d[a] < _min[a]:\n",
        "        _min[a] = d[a]\n",
        "    lower = upper\n",
        "print(_max)\n",
        "print(_min)"
      ],
      "execution_count": 4,
      "outputs": [
        {
          "output_type": "stream",
          "text": [
            "[47.588573718740314, 47.716949659038654, 47.920741252343745, 0.04333333333333333, 96.0, 24.0, 343.5052137331197, 274.8641357421875, 3.24600255369344e-07, 137.76808719278492]\n",
            "[-47.69482374702719, -47.64816097490715, -47.78196688638672, 0.010072585750472143, 1.0, 1.0, 176.8656847042481, -77.76896667480467, 7.068405941829982e-10, 0.3]\n"
          ],
          "name": "stdout"
        }
      ]
    },
    {
      "cell_type": "markdown",
      "metadata": {
        "id": "iOfDY5F8yJyl"
      },
      "source": [
        "After trying out many different possibilities, I have found making a RaggedTensor is the way to make variable timesteps.\n",
        "\n",
        "Once you create a RaggedTensor ONLY FOR X DATA, you need to also add:\n",
        "\n",
        "ragged=True\n",
        "\n",
        "to the keras.Inputs() function\n"
      ]
    },
    {
      "cell_type": "code",
      "metadata": {
        "id": "BfACUWvW-NGd"
      },
      "source": [
        "def ragged_parser(unparsed):\n",
        "  global _min, _max\n",
        "  x_final = []\n",
        "  y_final = []\n",
        "  invCov_final = []\n",
        "  for event in unparsed:\n",
        "    x = []\n",
        "    y = []\n",
        "\n",
        "    nEvent = event[0]     # all the data split into neat little arrays...\n",
        "    state = event[1:6]\n",
        "    coVar = event[6:31]\n",
        "    invCoVar = event[31:56]\n",
        "    goodnessOfFit = event[56:59]\n",
        "    TOF = event[59:67]\n",
        "\n",
        "    if goodnessOfFit[2] > 0.1:   # Cutting if rms is too high\n",
        "      continue\n",
        "    hits = []\n",
        "    lower = 67\n",
        "    for upper in range(lower+14, event.shape[0]+1, 14): # to flip just go from end to 67 by -14 steps?\n",
        "\n",
        "      # hasNAN = False\n",
        "      # for val in event[lower:upper]:\n",
        "      #   if isnan(val):\n",
        "      #     hasNAN = True\n",
        "      # if not hasNAN:\n",
        "\n",
        "      if not isnan(event[lower]):            # Check if we are done with hits, because data is cut short, the rest will be nan\n",
        "        hit_data = event[lower:upper]                      # retrieving the hit\n",
        "        hit_data = np.append(hit_data[:2],hit_data[6:])    # cutting out the sin and cos data\n",
        "        for z in range(len(hit_data)):\n",
        "          hit_data[z] = (hit_data[z] - _min[z]) / (_max[z] - _min[z])    # we need to normalize the data; this can be moved to a lambda layer in the network if needed.\n",
        "        hits.append(np.ndarray.tolist(hit_data))       # we want it as a list to convert to RaggedTensor later; last time I checked it didnt work with array.\n",
        "      lower = upper\n",
        "    for i in range(len(hits)):   # this could be simplified to just: \"x = hits\" if im not mistaken...\n",
        "      x.append(hits[i])          # however we might need to add y.append(hits[i+1]) for later testing so leaving it like this for now...\n",
        "    y = np.ndarray.tolist(state)   # technically not needed, can be removed later... at first I thought i need to pass RaggedTensor labels, but that is not the case.\n",
        "    x_final.append(x)          # want x_final to be shape (event, hit, 10) as a list\n",
        "    y_final.append(y)          # want y_final to be shape (event, 5)       as a np.array\n",
        "    invCov_final.append(invCoVar[:])  # want other_f to be shape (event, 25)      as a np.array\n",
        "  x_final = tf.ragged.constant(x_final)   # convert list to RaggedTensor because timesteps (number of hits) are variable between events\n",
        "  y_final = np.array(y_final)\n",
        "  invCov_final = np.array(invCov_final)\n",
        "  return [x_final, invCov_final, y_final], y_final   # with the custom loss the x_train (input) needs to be a list of [inputs, inverseCovariance, labels]"
      ],
      "execution_count": 68,
      "outputs": []
    },
    {
      "cell_type": "code",
      "metadata": {
        "colab": {
          "base_uri": "https://localhost:8080/"
        },
        "id": "J7H0PK6Q-NGg",
        "outputId": "2304a1da-6e24-4e1a-9c01-3531bb84d60c"
      },
      "source": [
        "split = 4\n",
        "x_train, y_train = ragged_parser(unparsed_train[:split])\n",
        "x_test , y_test  = ragged_parser(unparsed_train[split:split+100])\n",
        "\n",
        "print(\"--==Types==--\")\n",
        "print(\"--x_train:--\")\n",
        "print(\"\\n  -> input_data: x_train[0]\\n  -> type expected: RaggedTensor\\n \"+str(type(x_train[0])))\n",
        "print(\"\\n  -> invCov: x_train[1]\\n  -> type expected: np.array\\n \"+str(type(x_train[1])))\n",
        "print(\"\\n  -> y_train: x_train[2]\\n  -> type expected: np.array\\n \"+str(type(x_train[2])))\n",
        "print(\"\\n--y_train:--\")\n",
        "print(\"\\n  -> y_train: y_train\\n  -> type expected: np.array\\n \"+str(type(y_train)))\n",
        "\n",
        "print(\"\\n\\n--==Shapes==--\")\n",
        "print(\"--x_train:--  \\nnum of events: \" + str(x_train[0].shape[0]))\n",
        "print(\"\\n  RaggedTensor | Input:  shape = \" + \"(\" + str(x_train[0].shape[0]) + \", \"+ str(x_train[0][0].shape[0]) + \", \"+ str(x_train[0][0][0].shape[0]) + \")\")\n",
        "print(\"  np.array     | InvCov: shape = \" + str(x_train[1].shape))\n",
        "print(\"  np.array     | Labels: shape = \" + str(x_train[2].shape))\n",
        "print(\"\\n--x_train:--\")\n",
        "print(\"  np.array     | Labels: shape = \" + str(y_train.shape))\n",
        "\n",
        "print(\"x_train : \" + str(x_train[0][0]))\n"
      ],
      "execution_count": 76,
      "outputs": [
        {
          "output_type": "stream",
          "text": [
            "--==Types==--\n",
            "--x_train:--\n",
            "\n",
            "  -> input_data: x_train[0]\n",
            "  -> type expected: RaggedTensor\n",
            " <class 'tensorflow.python.ops.ragged.ragged_tensor.RaggedTensor'>\n",
            "\n",
            "  -> invCov: x_train[1]\n",
            "  -> type expected: np.array\n",
            " <class 'numpy.ndarray'>\n",
            "\n",
            "  -> y_train: x_train[2]\n",
            "  -> type expected: np.array\n",
            " <class 'numpy.ndarray'>\n",
            "\n",
            "--y_train:--\n",
            "\n",
            "  -> y_train: y_train\n",
            "  -> type expected: np.array\n",
            " <class 'numpy.ndarray'>\n",
            "\n",
            "\n",
            "--==Shapes==--\n",
            "--x_train:--  \n",
            "num of events: 4\n",
            "\n",
            "  RaggedTensor | Input:  shape = (4, 18, 10)\n",
            "  np.array     | InvCov: shape = (4, 25)\n",
            "  np.array     | Labels: shape = (4, 5)\n",
            "\n",
            "--x_train:--\n",
            "  np.array     | Labels: shape = (4, 5)\n",
            "x_train : <tf.RaggedTensor [[0.7692640423774719, 0.765606164932251, 0.22407019138336182, 0.2642019987106323, 0.49473685026168823, 0.9130434989929199, 0.9742012023925781, 0.8189674615859985, 0.006027945317327976, 0.006027945317327976], [0.6926482319831848, 0.5690751671791077, 0.3645309507846832, 0.05952613055706024, 0.2631579041481018, 0.8695651888847351, 0.9611853361129761, 0.28649309277534485, 0.033259935677051544, 0.033259935677051544], [0.23875504732131958, 0.24075621366500854, 0.7672280669212341, 0.10457572340965271, 0.5052631497383118, 0.782608687877655, 0.9352953433990479, 0.504021406173706, 0.018304066732525826, 0.018304066732525826], [0.33787238597869873, 0.4484703540802002, 0.6097946166992188, 0.07363839447498322, 0.7157894968986511, 0.739130437374115, 0.7676599621772766, 0.33562812209129333, 0.02666318602859974, 0.02666318602859974], [0.5710769891738892, 0.6744455695152283, 0.37305063009262085, 0.288280189037323, 0.7052631378173828, 0.695652186870575, 0.7548211812973022, 0.7309820652008057, 0.005347346421331167, 0.005347346421331167], [0.733315110206604, 0.7239073514938354, 0.263613760471344, 0.041055768728256226, 0.4842105209827423, 0.6521739363670349, 0.7418311238288879, 0.5430606007575989, 0.048400089144706726, 0.048400089144706726], [0.6543219089508057, 0.5472460389137268, 0.39544129371643066, 0.12399385124444962, 0.2947368323802948, 0.6086956262588501, 0.728915810585022, 0.5731130242347717, 0.015151274390518665, 0.015151274390518665], [0.42824169993400574, 0.3272317349910736, 0.6255077123641968, 0.04272006079554558, 0.3052631616592407, 0.5652173757553101, 0.7160916924476624, 0.30231329798698425, 0.046525269746780396, 0.046525269746780396], [0.2750035524368286, 0.28259047865867615, 0.7278001308441162, 0.024007415398955345, 0.5157894492149353, 0.52173912525177, 0.703081488609314, 0.3300199508666992, 0.08132698386907578, 0.08132698386907578], [0.3927527666091919, 0.47597992420196533, 0.5672175288200378, 0.08297774195671082, 0.6631578803062439, 0.47826087474823, 0.4162442684173584, 0.5024588704109192, 0.023499751463532448, 0.023499751463532448], [0.567786455154419, 0.6398308277130127, 0.392142653465271, 0.030097603797912598, 0.6421052813529968, 0.43478259444236755, 0.40303486585617065, 0.2945617437362671, 0.06557145714759827, 0.06557145714759827], [0.6758876442909241, 0.6613656878471375, 0.3252999782562256, 0.05598178505897522, 0.4736842215061188, 0.3913043439388275, 0.39034584164619446, 0.45713284611701965, 0.035419683903455734, 0.035419683903455734], [0.6067799925804138, 0.5218054056167603, 0.433348685503006, 0.06648389250040054, 0.3368421196937561, 0.3478260934352875, 0.3770085275173187, 0.44806209206581116, 0.029668668285012245, 0.029668668285012245], [0.33219149708747864, 0.3447727859020233, 0.6660985350608826, 0.02286168746650219, 0.5263158082962036, 0.260869562625885, 0.35123491287231445, 0.42745885252952576, 0.085147425532341, 0.085147425532341], [0.436598539352417, 0.4929949641227722, 0.5362541675567627, 0.03817495331168175, 0.6105263233184814, 0.21739129722118378, 0.0648939236998558, 0.2867984175682068, 0.052010804414749146, 0.052010804414749146], [0.6153600811958313, 0.6007120013237, 0.38774821162223816, 0.04457264766097069, 0.4736842215061188, 0.1304347813129425, 0.038748566061258316, 0.4948866367340088, 0.04459531232714653, 0.04459531232714653], [0.45056793093681335, 0.40904945135116577, 0.5723205208778381, 0.04106782376766205, 0.42105263471603394, 0.043478261679410934, 0.012867040000855923, 0.33683282136917114, 0.048385992646217346, 0.048385992646217346], [0.3925012946128845, 0.4053120017051697, 0.6041624546051025, 0.032487500458955765, 0.5263158082962036, 0.0, 0.00017478904919698834, 0.65003901720047, 0.060900986194610596, 0.060900986194610596]]>\n"
          ],
          "name": "stdout"
        }
      ]
    },
    {
      "cell_type": "markdown",
      "metadata": {
        "id": "SMvnihIl6ail"
      },
      "source": [
        "# Model"
      ]
    },
    {
      "cell_type": "markdown",
      "metadata": {
        "id": "zdreWH016c08"
      },
      "source": [
        "## Defining Models\n",
        "\n",
        "- model\n",
        "  - Very basic testing RNN model\n",
        "  - Output every timestep\n",
        "\n",
        "- model_timeless\n",
        "  - Very basic testing RNN model\n",
        "  - Output only at the end\n",
        "\n",
        "- RNNTime\n",
        "  - Advanced\n",
        "  - Time distributed, output every timestep\n",
        "\n",
        "- RNNTimeless\n",
        "  - Advanced\n",
        "  - Only output at final layer\n",
        "  "
      ]
    },
    {
      "cell_type": "code",
      "metadata": {
        "id": "e8qCwtNw6bFk"
      },
      "source": [
        "def model(x):\n",
        "  x = keras.layers.LSTM(64,activation=\"tanh\", name='input_lstm1', return_sequences=True)(x)\n",
        "  x = keras.layers.TimeDistributed(keras.layers.Dense(32, activation='relu'), name=\"TD1-Dense\")(x)\n",
        "  x = keras.layers.TimeDistributed(keras.layers.Dense(14, activation='linear'), name=\"output-Dense\")(x)\n",
        "  return x\n",
        "def model_timeless(x):\n",
        "  x = keras.layers.LSTM(64,activation=\"tanh\", name='input_lstm1', return_sequences=False)(x)\n",
        "  x = keras.layers.Dense(32, activation='relu', name=\"Dense1\")(x)\n",
        "  x = keras.layers.Dense(5, activation='relu', name=\"output-Dense\")(x)\n",
        "  return x\n",
        "\n",
        "def RNNTime(x):\n",
        "  x = keras.layers.LSTM(128,activation=\"tanh\", name='input_lstm1', stateful=False, return_sequences=True)(x)\n",
        "  x = keras.layers.LSTM(64,activation=\"tanh\", name='lstm2', stateful=False, return_sequences=True)(x)\n",
        "  x = keras.layers.LSTM(32,activation=\"tanh\", name='lstm3', stateful=False, return_sequences=True)(x)\n",
        "  x = keras.layers.TimeDistributed(keras.layers.Dense(32, activation='relu'), name=\"TD1-Dense\")(x)\n",
        "  x = keras.layers.TimeDistributed(keras.layers.Dense(5, activation='linear'), name=\"output-Dense\")(x)\n",
        "  return x\n",
        "\n",
        "def RNNTimeless(x):\n",
        "  x = keras.layers.LSTM(128,activation=\"tanh\", name='input_lstm1', stateful=False, return_sequences=True)(x)\n",
        "  x = keras.layers.LSTM(64,activation=\"tanh\", name='lstm2', stateful=False, return_sequences=True)(x)\n",
        "  x = keras.layers.LSTM(32,activation=\"tanh\", name='lstm3', stateful=False, return_sequences=False)(x)\n",
        "  x = keras.layers.Dense(32, activation='relu', name=\"Dense1\")(x)\n",
        "  x = keras.layers.Dense(5, activation='linear', name=\"output-Dense\")(x)\n",
        "  # x = keras.layers.lambda(# normalize)\n",
        "  return x"
      ],
      "execution_count": 77,
      "outputs": []
    },
    {
      "cell_type": "markdown",
      "metadata": {
        "id": "Gtf37tFTB5HU"
      },
      "source": [
        "## Custom Loss"
      ]
    },
    {
      "cell_type": "code",
      "metadata": {
        "id": "v8iA9da3HLBs"
      },
      "source": [
        "import tensorflow as tf\n",
        "import tensorflow.keras.backend as K\n",
        "#--------------------------------------------\n",
        "# Define custom loss function \n",
        "def customLoss(y_true, y_pred, invcov):\n",
        "  batch_size = tf.shape(y_pred)[0]\n",
        "  print('y_pred shape: ' + str(y_pred.shape) )  # y_pred shape is (batch, 5)\n",
        "  print('y_true shape: ' + str(y_true.shape) )  # y_true shape is (batch, 5)\n",
        "  print('invcov shape: ' + str(invcov.shape) )  # invcov shape is (batch,)\n",
        "  \n",
        "  y_pred = K.reshape(y_pred, (batch_size, 5,1)) # y_pred  shape is now (batch, 5,1)\n",
        "  y_true = K.reshape(y_true, (batch_size, 5,1)) # y_state shape is now (batch, 5,1)\n",
        "  invcov = K.reshape(invcov, (batch_size, 5,5)) # invcov  shape is now (batch, 5,5)\n",
        "  \n",
        "  # n.b. we must use tf.transpose here an not K.transpose since the latter does not allow perm argument\n",
        "  invcov = tf.transpose(invcov, perm=[0,2,1])     # invcov shape is now (batch, 5,5)\n",
        "  \n",
        "  # Difference between prediction and true state vectors\n",
        "  y_diff = y_pred - y_true\n",
        "\n",
        "  # n.b. use \"batch_dot\" and not \"dot\"!\n",
        "  y_dot = K.batch_dot(invcov, y_diff)           # y_dot shape is (batch,5,1)\n",
        "  y_dot = K.reshape(y_dot, (batch_size, 1, 5))  # y_dot shape is now (batch,1,5)\n",
        "  y_loss = K.batch_dot(y_dot, y_diff)           # y_loss shape is (batch,1,1)\n",
        "  y_loss = K.reshape(y_loss, (batch_size,))     # y_loss shape is now (batch)\n",
        "  return y_loss\n",
        "\n",
        "#--------------------------------------------\n",
        "# Test loss function\n",
        "# x_test = y_train[0]\n",
        "# y_test = y_train[1]\n",
        "# inconv_test = other_train[0,8:]\n",
        "\n",
        "# loss = K.eval(customLoss(K.variable([x_test,x_test,x_test]), K.variable([y_test,y_test,y_test]), K.variable([inconv_test,inconv_test,inconv_test])))\n",
        "# print('loss shape: '    + str(loss.shape)    )\n",
        "# print(loss)"
      ],
      "execution_count": 78,
      "outputs": []
    },
    {
      "cell_type": "code",
      "metadata": {
        "id": "SZ7d8PMx652m",
        "colab": {
          "base_uri": "https://localhost:8080/"
        },
        "outputId": "e09495ad-9fce-4dc0-f3c8-78d1c968b3cd"
      },
      "source": [
        "# --==Not in use?==--\n",
        "# lr_schedule = keras.optimizers.schedules.ExponentialDecay(\n",
        "#     initial_learning_rate=1e-3,\n",
        "#     decay_steps=10000,\n",
        "#     decay_rate=0.8)\n",
        "\n",
        "nInput = 10\n",
        "\n",
        "# --==Set seed to get identical results==-- begin\n",
        "# from tensorflow.random import set_seed\n",
        "# np.random.seed(1)\n",
        "# set_seed(2)\n",
        "# --==Set seed to get identical results==-- end\n",
        "\n",
        "#--==Set Weights==--\n",
        "# loss_weights = [1/(sd**2)]\n",
        "# loss_weights = np.array(loss_weights)/sum(loss_weights)\n",
        "# model.compile(optimizer=optimizer, loss=\"mse\", loss_weights=loss_weights, metrics=[\"mae\"])\n",
        "\n",
        "inputs = keras.Input((None,nInput))\n",
        "input_true = keras.Input((5,))\n",
        "input_incov = keras.Input((25,))\n",
        "all_inputs = [inputs, input_incov, input_true]\n",
        "\n",
        "# --==Choose model==--\n",
        "# x = model(inputs)\n",
        "# x = model_timeless(inputs)\n",
        "# x = RNNTime(inputs)\n",
        "x = RNNTimeless(inputs)\n",
        "# x = RNNTimeStateful(inputs)\n",
        "\n",
        "optimizer = keras.optimizers.Adam(learning_rate=0.01)\n",
        "\n",
        "model = keras.Model(inputs=all_inputs, outputs=x, name=\"RNNModel\")\n",
        "\n",
        "model.add_loss(customLoss(input_true, x, input_incov))\n",
        "model.compile(loss=None, optimizer=optimizer, metrics=[\"mae\"])\n",
        "\n",
        "model.summary()"
      ],
      "execution_count": 79,
      "outputs": [
        {
          "output_type": "stream",
          "text": [
            "y_pred shape: (None, 5)\n",
            "y_true shape: (None, 5)\n",
            "invcov shape: (None, 25)\n",
            "Model: \"RNNModel\"\n",
            "__________________________________________________________________________________________________\n",
            "Layer (type)                    Output Shape         Param #     Connected to                     \n",
            "==================================================================================================\n",
            "input_22 (InputLayer)           [(None, None, 10)]   0                                            \n",
            "__________________________________________________________________________________________________\n",
            "input_lstm1 (LSTM)              (None, None, 128)    71168       input_22[0][0]                   \n",
            "__________________________________________________________________________________________________\n",
            "lstm2 (LSTM)                    (None, None, 64)     49408       input_lstm1[0][0]                \n",
            "__________________________________________________________________________________________________\n",
            "lstm3 (LSTM)                    (None, 32)           12416       lstm2[0][0]                      \n",
            "__________________________________________________________________________________________________\n",
            "Dense1 (Dense)                  (None, 32)           1056        lstm3[0][0]                      \n",
            "__________________________________________________________________________________________________\n",
            "input_24 (InputLayer)           [(None, 25)]         0                                            \n",
            "__________________________________________________________________________________________________\n",
            "input_23 (InputLayer)           [(None, 5)]          0                                            \n",
            "__________________________________________________________________________________________________\n",
            "output-Dense (Dense)            (None, 5)            165         Dense1[0][0]                     \n",
            "__________________________________________________________________________________________________\n",
            "tf.compat.v1.shape_21 (TFOpLamb (2,)                 0           output-Dense[0][0]               \n",
            "__________________________________________________________________________________________________\n",
            "tf.__operators__.getitem_7 (Sli ()                   0           tf.compat.v1.shape_21[0][0]      \n",
            "__________________________________________________________________________________________________\n",
            "tf.reshape_37 (TFOpLambda)      (None, 5, 5)         0           input_24[0][0]                   \n",
            "                                                                 tf.__operators__.getitem_7[0][0] \n",
            "__________________________________________________________________________________________________\n",
            "tf.reshape_35 (TFOpLambda)      (None, 5, 1)         0           output-Dense[0][0]               \n",
            "                                                                 tf.__operators__.getitem_7[0][0] \n",
            "__________________________________________________________________________________________________\n",
            "tf.reshape_36 (TFOpLambda)      (None, 5, 1)         0           input_23[0][0]                   \n",
            "                                                                 tf.__operators__.getitem_7[0][0] \n",
            "__________________________________________________________________________________________________\n",
            "tf.compat.v1.transpose_7 (TFOpL (None, 5, 5)         0           tf.reshape_37[0][0]              \n",
            "__________________________________________________________________________________________________\n",
            "tf.math.subtract_7 (TFOpLambda) (None, 5, 1)         0           tf.reshape_35[0][0]              \n",
            "                                                                 tf.reshape_36[0][0]              \n",
            "__________________________________________________________________________________________________\n",
            "tf.linalg.matmul_14 (TFOpLambda (None, 5, 1)         0           tf.compat.v1.transpose_7[0][0]   \n",
            "                                                                 tf.math.subtract_7[0][0]         \n",
            "__________________________________________________________________________________________________\n",
            "tf.reshape_38 (TFOpLambda)      (None, 1, 5)         0           tf.linalg.matmul_14[0][0]        \n",
            "                                                                 tf.__operators__.getitem_7[0][0] \n",
            "__________________________________________________________________________________________________\n",
            "tf.linalg.matmul_15 (TFOpLambda (None, 1, 1)         0           tf.reshape_38[0][0]              \n",
            "                                                                 tf.math.subtract_7[0][0]         \n",
            "__________________________________________________________________________________________________\n",
            "tf.reshape_39 (TFOpLambda)      (None,)              0           tf.linalg.matmul_15[0][0]        \n",
            "                                                                 tf.__operators__.getitem_7[0][0] \n",
            "__________________________________________________________________________________________________\n",
            "add_loss_7 (AddLoss)            (None,)              0           tf.reshape_39[0][0]              \n",
            "==================================================================================================\n",
            "Total params: 134,213\n",
            "Trainable params: 134,213\n",
            "Non-trainable params: 0\n",
            "__________________________________________________________________________________________________\n"
          ],
          "name": "stdout"
        }
      ]
    },
    {
      "cell_type": "markdown",
      "metadata": {
        "id": "nkjx1-6Gr76F"
      },
      "source": [
        "### Custom Train"
      ]
    },
    {
      "cell_type": "code",
      "metadata": {
        "id": "sjLh8Eh07HRW",
        "colab": {
          "base_uri": "https://localhost:8080/",
          "height": 1000
        },
        "outputId": "28ce769f-f7a6-45d8-e257-e6db0d174ed2"
      },
      "source": [
        "# Using custom loss and gen\n",
        "# es = keras.callbacks.EarlyStopping(monitor='loss', min_delta=0.01, patience=50, mode='min', verbose=1, restore_best_weights=True)\n",
        "# H = model.fit(x=x_train, y=y_train, batch_size=64, epochs=100, verbose=1, callbacks=[es])\n",
        "\n",
        "# H = model.fit(x=x_train, y=y_train, batch_size=64, epochs=100, validation_data=test_gen, validation_steps=50, validation_batch_size=32, verbose=1)\n",
        "\n",
        "# Example how it kind of looks like\n",
        "# H = model.fit(x=[x_train, invCov, y_train], y=y_train, batch_size=64, epochs=100, verbose=1)\n",
        "\n",
        "# Overfit\n",
        "es = keras.callbacks.EarlyStopping(monitor='loss', min_delta=0.001, patience=100, mode='min', verbose=1, restore_best_weights=True)\n",
        "# H = model.fit(x=x_train, y=y_train, batch_size=1, epochs=100, verbose=1, validation_data=(x_test,y_test), validation_batch_size=1, callbacks=[es])\n",
        "H = model.fit(x=x_train, y=y_train, batch_size=1, epochs=100, verbose=1, callbacks=[es])\n"
      ],
      "execution_count": 80,
      "outputs": [
        {
          "output_type": "stream",
          "text": [
            "Epoch 1/500\n",
            "4/4 [==============================] - 3s 96ms/step - loss: 15671873.4062 - mae: 25.1345\n",
            "Epoch 2/500\n",
            "4/4 [==============================] - 0s 96ms/step - loss: 15086713.6625 - mae: 26.8196\n",
            "Epoch 3/500\n",
            "4/4 [==============================] - 0s 91ms/step - loss: 21035214.0125 - mae: 26.9398\n",
            "Epoch 4/500\n",
            "4/4 [==============================] - 0s 116ms/step - loss: 18967588.1725 - mae: 26.0155\n",
            "Epoch 5/500\n",
            "4/4 [==============================] - 0s 104ms/step - loss: 29394790.4000 - mae: 29.4353\n",
            "Epoch 6/500\n",
            "4/4 [==============================] - 0s 94ms/step - loss: 9207043.7500 - mae: 24.4592\n",
            "Epoch 7/500\n",
            "4/4 [==============================] - 0s 108ms/step - loss: 23039336.4000 - mae: 30.3835\n",
            "Epoch 8/500\n",
            "4/4 [==============================] - 0s 93ms/step - loss: 7766714.3187 - mae: 25.9514\n",
            "Epoch 9/500\n",
            "4/4 [==============================] - 0s 107ms/step - loss: 4147130.9875 - mae: 22.5542\n",
            "Epoch 10/500\n",
            "4/4 [==============================] - 0s 107ms/step - loss: 13761534.2000 - mae: 31.1022\n",
            "Epoch 11/500\n",
            "4/4 [==============================] - 0s 100ms/step - loss: 8018170.0000 - mae: 27.6122\n",
            "Epoch 12/500\n",
            "4/4 [==============================] - 0s 102ms/step - loss: 3601818.8297 - mae: 22.5702\n",
            "Epoch 13/500\n",
            "4/4 [==============================] - 0s 93ms/step - loss: 4656228.6625 - mae: 25.3402\n",
            "Epoch 14/500\n",
            "4/4 [==============================] - 0s 105ms/step - loss: 5420763.0250 - mae: 23.6389\n",
            "Epoch 15/500\n",
            "4/4 [==============================] - 0s 102ms/step - loss: 3559152.6500 - mae: 22.5699\n",
            "Epoch 16/500\n",
            "4/4 [==============================] - 0s 97ms/step - loss: 6045407.5750 - mae: 24.3770\n",
            "Epoch 17/500\n",
            "4/4 [==============================] - 0s 105ms/step - loss: 6338994.4000 - mae: 28.8961\n",
            "Epoch 18/500\n",
            "4/4 [==============================] - 0s 107ms/step - loss: 3648333.3250 - mae: 23.7325\n",
            "Epoch 19/500\n",
            "4/4 [==============================] - 0s 93ms/step - loss: 5547830.3250 - mae: 23.6397\n",
            "Epoch 20/500\n",
            "4/4 [==============================] - 0s 96ms/step - loss: 8537416.7000 - mae: 27.8587\n",
            "Epoch 21/500\n",
            "4/4 [==============================] - 0s 101ms/step - loss: 3436180.2625 - mae: 20.5253\n",
            "Epoch 22/500\n",
            "4/4 [==============================] - 0s 97ms/step - loss: 8163756.5000 - mae: 27.2674\n",
            "Epoch 23/500\n",
            "4/4 [==============================] - 0s 99ms/step - loss: 8012004.6000 - mae: 26.9885\n",
            "Epoch 24/500\n",
            "4/4 [==============================] - 0s 100ms/step - loss: 6649257.8000 - mae: 23.5735\n",
            "Epoch 25/500\n",
            "4/4 [==============================] - 0s 106ms/step - loss: 3012810.5938 - mae: 19.6053\n",
            "Epoch 26/500\n",
            "4/4 [==============================] - 0s 114ms/step - loss: 3234852.3078 - mae: 21.5019\n",
            "Epoch 27/500\n",
            "4/4 [==============================] - 0s 101ms/step - loss: 6848125.0000 - mae: 24.2258\n",
            "Epoch 28/500\n",
            "4/4 [==============================] - 0s 105ms/step - loss: 2416288.1437 - mae: 19.2126\n",
            "Epoch 29/500\n",
            "4/4 [==============================] - 0s 97ms/step - loss: 2444246.2625 - mae: 19.0921\n",
            "Epoch 30/500\n",
            "4/4 [==============================] - 0s 98ms/step - loss: 3550009.4422 - mae: 21.3225\n",
            "Epoch 31/500\n",
            "4/4 [==============================] - 0s 100ms/step - loss: 3815725.7875 - mae: 19.4988\n",
            "Epoch 32/500\n",
            "4/4 [==============================] - 0s 104ms/step - loss: 2165170.3516 - mae: 18.0977\n",
            "Epoch 33/500\n",
            "4/4 [==============================] - 0s 103ms/step - loss: 2162621.5719 - mae: 17.9740\n",
            "Epoch 34/500\n",
            "4/4 [==============================] - 0s 103ms/step - loss: 4343977.3000 - mae: 23.7340\n",
            "Epoch 35/500\n",
            "4/4 [==============================] - 0s 105ms/step - loss: 2044899.1062 - mae: 17.3514\n",
            "Epoch 36/500\n",
            "4/4 [==============================] - 0s 103ms/step - loss: 3154159.1437 - mae: 17.7560\n",
            "Epoch 37/500\n",
            "4/4 [==============================] - 0s 101ms/step - loss: 3962889.0500 - mae: 22.4033\n",
            "Epoch 38/500\n",
            "4/4 [==============================] - 0s 108ms/step - loss: 4665061.1000 - mae: 23.2724\n",
            "Epoch 39/500\n",
            "4/4 [==============================] - 0s 96ms/step - loss: 2694829.7859 - mae: 18.1115\n",
            "Epoch 40/500\n",
            "4/4 [==============================] - 0s 96ms/step - loss: 1689235.3250 - mae: 15.5899\n",
            "Epoch 41/500\n",
            "4/4 [==============================] - 0s 104ms/step - loss: 2041192.7063 - mae: 16.9848\n",
            "Epoch 42/500\n",
            "4/4 [==============================] - 0s 101ms/step - loss: 2728748.2250 - mae: 19.7996\n",
            "Epoch 43/500\n",
            "4/4 [==============================] - 0s 94ms/step - loss: 1729451.0281 - mae: 14.1784\n",
            "Epoch 44/500\n",
            "4/4 [==============================] - 0s 99ms/step - loss: 2212048.7094 - mae: 16.0257\n",
            "Epoch 45/500\n",
            "4/4 [==============================] - 0s 107ms/step - loss: 3522433.8000 - mae: 20.4078\n",
            "Epoch 46/500\n",
            "4/4 [==============================] - 0s 101ms/step - loss: 2277207.2000 - mae: 17.7323\n",
            "Epoch 47/500\n",
            "4/4 [==============================] - 0s 104ms/step - loss: 3236233.0000 - mae: 15.8086\n",
            "Epoch 48/500\n",
            "4/4 [==============================] - 0s 99ms/step - loss: 1437330.5676 - mae: 13.1545\n",
            "Epoch 49/500\n",
            "4/4 [==============================] - 0s 103ms/step - loss: 2816257.1500 - mae: 18.2835\n",
            "Epoch 50/500\n",
            "4/4 [==============================] - 0s 102ms/step - loss: 3102410.2000 - mae: 16.6011\n",
            "Epoch 51/500\n",
            "4/4 [==============================] - 0s 108ms/step - loss: 1698682.1625 - mae: 15.2053\n",
            "Epoch 52/500\n",
            "4/4 [==============================] - 0s 96ms/step - loss: 894498.0312 - mae: 10.2352\n",
            "Epoch 53/500\n",
            "4/4 [==============================] - 0s 100ms/step - loss: 1510297.0406 - mae: 11.6967\n",
            "Epoch 54/500\n",
            "4/4 [==============================] - 0s 93ms/step - loss: 1995113.9500 - mae: 12.3291\n",
            "Epoch 55/500\n",
            "4/4 [==============================] - 0s 104ms/step - loss: 1929564.9750 - mae: 15.2471\n",
            "Epoch 56/500\n",
            "4/4 [==============================] - 0s 96ms/step - loss: 1095372.1938 - mae: 11.6230\n",
            "Epoch 57/500\n",
            "4/4 [==============================] - 0s 99ms/step - loss: 1625969.1000 - mae: 12.5235\n",
            "Epoch 58/500\n",
            "4/4 [==============================] - 0s 108ms/step - loss: 1502099.3000 - mae: 14.0908\n",
            "Epoch 59/500\n",
            "4/4 [==============================] - 0s 98ms/step - loss: 1414208.4750 - mae: 11.9458\n",
            "Epoch 60/500\n",
            "4/4 [==============================] - 0s 97ms/step - loss: 770991.6457 - mae: 11.0937\n",
            "Epoch 61/500\n",
            "4/4 [==============================] - 0s 107ms/step - loss: 1005610.6250 - mae: 11.0024\n",
            "Epoch 62/500\n",
            "4/4 [==============================] - 0s 99ms/step - loss: 948823.7250 - mae: 11.0844\n",
            "Epoch 63/500\n",
            "4/4 [==============================] - 0s 101ms/step - loss: 578503.7180 - mae: 11.0027\n",
            "Epoch 64/500\n",
            "4/4 [==============================] - 0s 104ms/step - loss: 510188.2594 - mae: 11.5587\n",
            "Epoch 65/500\n",
            "4/4 [==============================] - 0s 99ms/step - loss: 416405.3461 - mae: 11.8949\n",
            "Epoch 66/500\n",
            "4/4 [==============================] - 0s 97ms/step - loss: 347330.5137 - mae: 11.9453\n",
            "Epoch 67/500\n",
            "4/4 [==============================] - 0s 101ms/step - loss: 527810.9250 - mae: 11.8209\n",
            "Epoch 68/500\n",
            "4/4 [==============================] - 0s 98ms/step - loss: 686293.2125 - mae: 9.9112\n",
            "Epoch 69/500\n",
            "4/4 [==============================] - 0s 104ms/step - loss: 388111.2141 - mae: 11.8480\n",
            "Epoch 70/500\n",
            "4/4 [==============================] - 0s 101ms/step - loss: 645754.9250 - mae: 11.8850\n",
            "Epoch 71/500\n",
            "4/4 [==============================] - 0s 102ms/step - loss: 574083.9812 - mae: 11.3272\n",
            "Epoch 72/500\n",
            "4/4 [==============================] - 0s 97ms/step - loss: 768076.9250 - mae: 12.0865\n",
            "Epoch 73/500\n",
            "4/4 [==============================] - 0s 104ms/step - loss: 791560.7937 - mae: 11.8257\n",
            "Epoch 74/500\n",
            "4/4 [==============================] - 0s 100ms/step - loss: 633114.6250 - mae: 12.7464\n",
            "Epoch 75/500\n",
            "4/4 [==============================] - 0s 97ms/step - loss: 666387.5375 - mae: 9.1596\n",
            "Epoch 76/500\n",
            "4/4 [==============================] - 0s 108ms/step - loss: 472135.1875 - mae: 11.1777\n",
            "Epoch 77/500\n",
            "4/4 [==============================] - 0s 97ms/step - loss: 468236.8750 - mae: 12.0627\n",
            "Epoch 78/500\n",
            "4/4 [==============================] - 0s 104ms/step - loss: 304072.0359 - mae: 11.8406\n",
            "Epoch 79/500\n",
            "4/4 [==============================] - 0s 95ms/step - loss: 452565.2250 - mae: 8.6160\n",
            "Epoch 80/500\n",
            "4/4 [==============================] - 0s 104ms/step - loss: 298938.8273 - mae: 12.7512\n",
            "Epoch 81/500\n",
            "4/4 [==============================] - 0s 107ms/step - loss: 485158.1937 - mae: 10.0860\n",
            "Epoch 82/500\n",
            "4/4 [==============================] - 0s 98ms/step - loss: 459747.3063 - mae: 8.4393\n",
            "Epoch 83/500\n",
            "4/4 [==============================] - 0s 102ms/step - loss: 299027.1703 - mae: 12.9679\n",
            "Epoch 84/500\n",
            "4/4 [==============================] - 0s 93ms/step - loss: 364520.5187 - mae: 13.1294\n",
            "Epoch 85/500\n",
            "4/4 [==============================] - 0s 101ms/step - loss: 483457.6500 - mae: 10.1060\n",
            "Epoch 86/500\n",
            "4/4 [==============================] - 0s 99ms/step - loss: 436964.2250 - mae: 8.4628\n",
            "Epoch 87/500\n",
            "4/4 [==============================] - 0s 93ms/step - loss: 482940.5563 - mae: 11.6931\n",
            "Epoch 88/500\n",
            "4/4 [==============================] - 0s 97ms/step - loss: 368406.3125 - mae: 13.4007\n",
            "Epoch 89/500\n",
            "4/4 [==============================] - 0s 101ms/step - loss: 441028.2000 - mae: 9.1120\n",
            "Epoch 90/500\n",
            "4/4 [==============================] - 0s 111ms/step - loss: 483362.1000 - mae: 12.6721\n",
            "Epoch 91/500\n",
            "4/4 [==============================] - 0s 105ms/step - loss: 375131.2031 - mae: 14.0909\n",
            "Epoch 92/500\n",
            "4/4 [==============================] - 0s 97ms/step - loss: 415464.3250 - mae: 9.5995\n",
            "Epoch 93/500\n",
            "4/4 [==============================] - 0s 104ms/step - loss: 282922.0047 - mae: 11.7696\n",
            "Epoch 94/500\n",
            "4/4 [==============================] - 0s 95ms/step - loss: 425959.8937 - mae: 9.2457\n",
            "Epoch 95/500\n",
            "4/4 [==============================] - 0s 98ms/step - loss: 526928.4875 - mae: 12.6883\n",
            "Epoch 96/500\n",
            "4/4 [==============================] - 0s 110ms/step - loss: 463169.2875 - mae: 12.8232\n",
            "Epoch 97/500\n",
            "4/4 [==============================] - 0s 108ms/step - loss: 305228.4949 - mae: 11.8482\n",
            "Epoch 98/500\n",
            "4/4 [==============================] - 0s 98ms/step - loss: 346960.7562 - mae: 9.5791\n",
            "Epoch 99/500\n",
            "4/4 [==============================] - 0s 106ms/step - loss: 362617.2664 - mae: 13.3985\n",
            "Epoch 100/500\n",
            "4/4 [==============================] - 0s 123ms/step - loss: 304027.7531 - mae: 12.2624\n",
            "Epoch 101/500\n",
            "4/4 [==============================] - 0s 105ms/step - loss: 726312.4000 - mae: 8.7535\n",
            "Epoch 102/500\n",
            "4/4 [==============================] - 0s 104ms/step - loss: 343945.8117 - mae: 13.4319\n",
            "Epoch 103/500\n",
            "4/4 [==============================] - 0s 107ms/step - loss: 497582.4125 - mae: 10.1583\n",
            "Epoch 104/500\n",
            "4/4 [==============================] - 0s 92ms/step - loss: 546970.7688 - mae: 14.4309\n",
            "Epoch 105/500\n",
            "4/4 [==============================] - 0s 106ms/step - loss: 437534.3563 - mae: 10.3113\n",
            "Epoch 106/500\n",
            "4/4 [==============================] - 0s 103ms/step - loss: 656351.6000 - mae: 9.6077\n",
            "Epoch 107/500\n",
            "4/4 [==============================] - 0s 98ms/step - loss: 416253.0500 - mae: 12.3294\n",
            "Epoch 108/500\n",
            "4/4 [==============================] - 0s 96ms/step - loss: 465487.5062 - mae: 12.4063\n",
            "Epoch 109/500\n",
            "4/4 [==============================] - 0s 99ms/step - loss: 262635.4043 - mae: 12.1611\n",
            "Epoch 110/500\n",
            "4/4 [==============================] - 0s 100ms/step - loss: 365791.3969 - mae: 9.1542\n",
            "Epoch 111/500\n",
            "4/4 [==============================] - 0s 105ms/step - loss: 494065.3625 - mae: 11.6217\n",
            "Epoch 112/500\n",
            "4/4 [==============================] - 0s 107ms/step - loss: 280212.3063 - mae: 13.6140\n",
            "Epoch 113/500\n",
            "4/4 [==============================] - 0s 107ms/step - loss: 349643.2719 - mae: 9.6590\n",
            "Epoch 114/500\n",
            "4/4 [==============================] - 0s 93ms/step - loss: 461541.4062 - mae: 12.1144\n",
            "Epoch 115/500\n",
            "4/4 [==============================] - 0s 105ms/step - loss: 456868.6437 - mae: 12.0979\n",
            "Epoch 116/500\n",
            "4/4 [==============================] - 0s 109ms/step - loss: 467709.6937 - mae: 10.3312\n",
            "Epoch 117/500\n",
            "4/4 [==============================] - 0s 104ms/step - loss: 450572.4188 - mae: 12.5680\n",
            "Epoch 118/500\n",
            "4/4 [==============================] - 0s 101ms/step - loss: 457922.0750 - mae: 12.9154\n",
            "Epoch 119/500\n",
            "4/4 [==============================] - 0s 98ms/step - loss: 419969.5438 - mae: 12.6010\n",
            "Epoch 120/500\n",
            "4/4 [==============================] - 0s 97ms/step - loss: 358758.5031 - mae: 9.7701\n",
            "Epoch 121/500\n",
            "4/4 [==============================] - 0s 100ms/step - loss: 389594.5000 - mae: 9.7742\n",
            "Epoch 122/500\n",
            "4/4 [==============================] - 0s 100ms/step - loss: 402345.3063 - mae: 13.7637\n",
            "Epoch 123/500\n",
            "4/4 [==============================] - 0s 98ms/step - loss: 455667.9875 - mae: 12.8972\n",
            "Epoch 124/500\n",
            "4/4 [==============================] - 0s 112ms/step - loss: 475265.6813 - mae: 12.6200\n",
            "Epoch 125/500\n",
            "4/4 [==============================] - 0s 94ms/step - loss: 435952.5625 - mae: 12.5884\n",
            "Epoch 126/500\n",
            "4/4 [==============================] - 0s 102ms/step - loss: 488167.7375 - mae: 10.2959\n",
            "Epoch 127/500\n",
            "4/4 [==============================] - 0s 98ms/step - loss: 363432.3125 - mae: 9.7866\n",
            "Epoch 128/500\n",
            "4/4 [==============================] - 0s 99ms/step - loss: 499265.0250 - mae: 13.0011\n",
            "Epoch 129/500\n",
            "4/4 [==============================] - 0s 102ms/step - loss: 415114.8250 - mae: 8.8208\n",
            "Epoch 130/500\n",
            "4/4 [==============================] - 0s 108ms/step - loss: 432728.0500 - mae: 10.3147\n",
            "Epoch 131/500\n",
            "4/4 [==============================] - 0s 105ms/step - loss: 397000.5125 - mae: 12.5190\n",
            "Epoch 132/500\n",
            "4/4 [==============================] - 0s 108ms/step - loss: 385298.8688 - mae: 12.5076\n",
            "Epoch 133/500\n",
            "4/4 [==============================] - 0s 93ms/step - loss: 379392.4625 - mae: 13.9810\n",
            "Epoch 134/500\n",
            "4/4 [==============================] - 0s 102ms/step - loss: 360072.6656 - mae: 9.8323\n",
            "Epoch 135/500\n",
            "4/4 [==============================] - 0s 95ms/step - loss: 405484.1312 - mae: 14.3816\n",
            "Epoch 136/500\n",
            "4/4 [==============================] - 0s 101ms/step - loss: 292434.3797 - mae: 12.7245\n",
            "Epoch 137/500\n",
            "4/4 [==============================] - 0s 116ms/step - loss: 434928.4188 - mae: 10.3213\n",
            "Epoch 138/500\n",
            "4/4 [==============================] - 0s 98ms/step - loss: 434769.7875 - mae: 10.2860\n",
            "Epoch 139/500\n",
            "4/4 [==============================] - 0s 99ms/step - loss: 430878.9688 - mae: 12.5817\n",
            "Epoch 140/500\n",
            "4/4 [==============================] - 0s 100ms/step - loss: 293923.9766 - mae: 14.2962\n",
            "Epoch 141/500\n",
            "4/4 [==============================] - 0s 101ms/step - loss: 397399.7375 - mae: 11.6531\n",
            "Epoch 142/500\n",
            "4/4 [==============================] - 0s 100ms/step - loss: 351345.8844 - mae: 9.7584\n",
            "Epoch 143/500\n",
            "4/4 [==============================] - 0s 105ms/step - loss: 306553.0453 - mae: 14.1828\n",
            "Epoch 144/500\n",
            "4/4 [==============================] - 0s 105ms/step - loss: 300284.5812 - mae: 13.6422\n",
            "Epoch 145/500\n",
            "4/4 [==============================] - 0s 98ms/step - loss: 359681.7625 - mae: 9.8007\n",
            "Epoch 146/500\n",
            "4/4 [==============================] - 0s 97ms/step - loss: 493225.2875 - mae: 12.9383\n",
            "Epoch 147/500\n",
            "4/4 [==============================] - 0s 99ms/step - loss: 470522.1125 - mae: 11.7189\n",
            "Epoch 148/500\n",
            "4/4 [==============================] - 0s 103ms/step - loss: 400328.4437 - mae: 11.6392\n",
            "Epoch 149/500\n",
            "4/4 [==============================] - 0s 99ms/step - loss: 344321.8750 - mae: 9.7456\n",
            "Epoch 150/500\n",
            "4/4 [==============================] - 0s 97ms/step - loss: 513131.1312 - mae: 8.7524\n",
            "Epoch 151/500\n",
            "4/4 [==============================] - 0s 105ms/step - loss: 346787.4688 - mae: 9.3463\n",
            "Epoch 152/500\n",
            "4/4 [==============================] - 0s 100ms/step - loss: 474134.2875 - mae: 12.2333\n",
            "Epoch 153/500\n",
            "4/4 [==============================] - 0s 95ms/step - loss: 395548.1312 - mae: 13.8687\n",
            "Epoch 154/500\n",
            "4/4 [==============================] - 0s 97ms/step - loss: 376885.0375 - mae: 9.8371\n",
            "Epoch 155/500\n",
            "4/4 [==============================] - 0s 106ms/step - loss: 471871.5187 - mae: 12.7492\n",
            "Epoch 156/500\n",
            "4/4 [==============================] - 0s 104ms/step - loss: 417592.3812 - mae: 11.7306\n",
            "Epoch 157/500\n",
            "4/4 [==============================] - 0s 98ms/step - loss: 496547.0938 - mae: 10.3404\n",
            "Epoch 158/500\n",
            "4/4 [==============================] - 0s 104ms/step - loss: 386461.3375 - mae: 9.4779\n",
            "Epoch 159/500\n",
            "4/4 [==============================] - 0s 96ms/step - loss: 283535.6320 - mae: 12.0399\n",
            "Epoch 160/500\n",
            "4/4 [==============================] - 0s 100ms/step - loss: 329697.5422 - mae: 13.7264\n",
            "Epoch 161/500\n",
            "4/4 [==============================] - 0s 104ms/step - loss: 445812.6188 - mae: 12.6170\n",
            "Epoch 162/500\n",
            "4/4 [==============================] - 0s 101ms/step - loss: 462074.4000 - mae: 12.2029\n",
            "Epoch 163/500\n",
            "4/4 [==============================] - 0s 97ms/step - loss: 400918.5125 - mae: 8.7666\n",
            "Epoch 164/500\n",
            "4/4 [==============================] - 0s 94ms/step - loss: 386889.9688 - mae: 9.7323\n",
            "Epoch 165/500\n",
            "4/4 [==============================] - 0s 99ms/step - loss: 428296.5250 - mae: 9.7315\n",
            "Epoch 166/500\n",
            "4/4 [==============================] - 0s 102ms/step - loss: 271398.7273 - mae: 11.9243\n",
            "Epoch 167/500\n",
            "4/4 [==============================] - 0s 104ms/step - loss: 386956.3187 - mae: 8.7646\n",
            "Epoch 168/500\n",
            "4/4 [==============================] - 0s 96ms/step - loss: 478077.4562 - mae: 13.7529\n",
            "Epoch 169/500\n",
            "4/4 [==============================] - 0s 99ms/step - loss: 303561.3156 - mae: 13.6704\n",
            "Epoch 170/500\n",
            "4/4 [==============================] - 0s 103ms/step - loss: 409875.4625 - mae: 14.0302\n",
            "Epoch 171/500\n",
            "4/4 [==============================] - 0s 108ms/step - loss: 298239.5953 - mae: 13.6860\n",
            "Epoch 172/500\n",
            "4/4 [==============================] - 0s 99ms/step - loss: 360390.2750 - mae: 14.3738\n",
            "Epoch 173/500\n",
            "4/4 [==============================] - 0s 103ms/step - loss: 459154.0875 - mae: 8.8517\n",
            "Epoch 174/500\n",
            "4/4 [==============================] - 0s 94ms/step - loss: 451897.8312 - mae: 12.5783\n",
            "Epoch 175/500\n",
            "4/4 [==============================] - 0s 104ms/step - loss: 304822.9906 - mae: 11.9236\n",
            "Epoch 176/500\n",
            "4/4 [==============================] - 0s 96ms/step - loss: 349936.0781 - mae: 9.3235\n",
            "Epoch 177/500\n",
            "4/4 [==============================] - 0s 104ms/step - loss: 264988.9082 - mae: 12.3419\n",
            "Epoch 178/500\n",
            "4/4 [==============================] - 0s 98ms/step - loss: 304337.9813 - mae: 11.9471\n",
            "Epoch 179/500\n",
            "4/4 [==============================] - 0s 105ms/step - loss: 454902.9437 - mae: 12.6331\n",
            "Epoch 180/500\n",
            "4/4 [==============================] - 0s 100ms/step - loss: 433148.9375 - mae: 8.8810\n",
            "Epoch 181/500\n",
            "4/4 [==============================] - 0s 98ms/step - loss: 305634.5242 - mae: 12.0636\n",
            "Epoch 182/500\n",
            "4/4 [==============================] - 0s 101ms/step - loss: 500092.6000 - mae: 10.3633\n",
            "Epoch 183/500\n",
            "4/4 [==============================] - 0s 110ms/step - loss: 457294.6437 - mae: 9.9008\n",
            "Epoch 184/500\n",
            "4/4 [==============================] - 0s 112ms/step - loss: 520603.5875 - mae: 11.8512\n",
            "Epoch 185/500\n",
            "4/4 [==============================] - 0s 98ms/step - loss: 433508.8937 - mae: 8.8508\n",
            "Epoch 186/500\n",
            "4/4 [==============================] - 0s 102ms/step - loss: 343426.5953 - mae: 13.5556\n",
            "Epoch 187/500\n",
            "4/4 [==============================] - 0s 99ms/step - loss: 474569.9625 - mae: 10.2964\n",
            "Epoch 188/500\n",
            "4/4 [==============================] - 0s 103ms/step - loss: 627807.1125 - mae: 10.3782\n",
            "Epoch 189/500\n",
            "4/4 [==============================] - 0s 110ms/step - loss: 303947.7062 - mae: 11.8808\n",
            "Epoch 190/500\n",
            "4/4 [==============================] - 0s 100ms/step - loss: 398074.8422 - mae: 11.8664\n",
            "Epoch 191/500\n",
            "4/4 [==============================] - 0s 101ms/step - loss: 291214.7539 - mae: 12.3020\n",
            "Epoch 192/500\n",
            "4/4 [==============================] - 0s 110ms/step - loss: 420797.9000 - mae: 12.5459\n",
            "Epoch 193/500\n",
            "4/4 [==============================] - 0s 101ms/step - loss: 446624.7500 - mae: 12.5510\n",
            "Epoch 194/500\n",
            "4/4 [==============================] - 0s 108ms/step - loss: 434145.4188 - mae: 12.5772\n",
            "Epoch 195/500\n",
            "4/4 [==============================] - 0s 109ms/step - loss: 424295.6437 - mae: 8.8123\n",
            "Epoch 196/500\n",
            "4/4 [==============================] - 0s 106ms/step - loss: 457269.8750 - mae: 12.5779\n",
            "Epoch 197/500\n",
            "4/4 [==============================] - 0s 115ms/step - loss: 476851.0500 - mae: 9.4576\n",
            "Epoch 198/500\n",
            "4/4 [==============================] - 0s 108ms/step - loss: 356139.6914 - mae: 13.6960\n",
            "Epoch 199/500\n",
            "4/4 [==============================] - 0s 98ms/step - loss: 298472.8695 - mae: 12.6938\n",
            "Epoch 200/500\n",
            "4/4 [==============================] - 0s 100ms/step - loss: 454440.4875 - mae: 9.3020\n",
            "Epoch 201/500\n",
            "4/4 [==============================] - 0s 99ms/step - loss: 437630.7250 - mae: 9.4152\n",
            "Epoch 202/500\n",
            "4/4 [==============================] - 0s 106ms/step - loss: 353026.0250 - mae: 9.3074\n",
            "Epoch 203/500\n",
            "4/4 [==============================] - 0s 92ms/step - loss: 456846.0125 - mae: 12.1548\n",
            "Epoch 204/500\n",
            "4/4 [==============================] - 0s 108ms/step - loss: 293333.7633 - mae: 12.7478\n",
            "Epoch 205/500\n",
            "4/4 [==============================] - 0s 101ms/step - loss: 435284.1562 - mae: 10.3807\n",
            "Epoch 206/500\n",
            "4/4 [==============================] - 0s 96ms/step - loss: 274476.3656 - mae: 12.4034\n",
            "Epoch 207/500\n",
            "4/4 [==============================] - 0s 101ms/step - loss: 484148.4562 - mae: 11.7459\n",
            "Epoch 208/500\n",
            "4/4 [==============================] - 0s 103ms/step - loss: 296970.3578 - mae: 13.6958\n",
            "Epoch 209/500\n",
            "4/4 [==============================] - 0s 110ms/step - loss: 461185.0812 - mae: 12.2812\n",
            "Epoch 210/500\n",
            "4/4 [==============================] - 0s 101ms/step - loss: 293900.7469 - mae: 12.7391\n",
            "Epoch 211/500\n",
            "4/4 [==============================] - 0s 100ms/step - loss: 287825.4766 - mae: 12.7200\n",
            "Epoch 212/500\n",
            "4/4 [==============================] - 0s 97ms/step - loss: 483554.9375 - mae: 12.9464\n",
            "Epoch 213/500\n",
            "4/4 [==============================] - 0s 101ms/step - loss: 281309.4109 - mae: 13.7861\n",
            "Epoch 214/500\n",
            "4/4 [==============================] - 0s 105ms/step - loss: 300878.3367 - mae: 13.6716\n",
            "Epoch 215/500\n",
            "4/4 [==============================] - 0s 100ms/step - loss: 276360.1039 - mae: 11.9776\n",
            "Epoch 216/500\n",
            "4/4 [==============================] - 0s 99ms/step - loss: 430766.9938 - mae: 9.4223\n",
            "Epoch 217/500\n",
            "4/4 [==============================] - 0s 94ms/step - loss: 397529.3656 - mae: 13.8020\n",
            "Epoch 218/500\n",
            "4/4 [==============================] - 0s 103ms/step - loss: 442070.2000 - mae: 12.1931\n",
            "Epoch 219/500\n",
            "4/4 [==============================] - 0s 103ms/step - loss: 296611.7031 - mae: 11.9718\n",
            "Epoch 220/500\n",
            "4/4 [==============================] - 0s 100ms/step - loss: 429271.7875 - mae: 12.5062\n",
            "Epoch 221/500\n",
            "4/4 [==============================] - 0s 115ms/step - loss: 458416.6750 - mae: 11.6353\n",
            "Epoch 222/500\n",
            "4/4 [==============================] - 0s 95ms/step - loss: 478079.4125 - mae: 13.9214\n",
            "Epoch 223/500\n",
            "4/4 [==============================] - 0s 103ms/step - loss: 456164.0062 - mae: 9.5090\n",
            "Epoch 224/500\n",
            "4/4 [==============================] - 0s 101ms/step - loss: 416339.4594 - mae: 14.0836\n",
            "Epoch 225/500\n",
            "4/4 [==============================] - 0s 102ms/step - loss: 414595.1688 - mae: 11.4667\n",
            "Epoch 226/500\n",
            "4/4 [==============================] - 0s 109ms/step - loss: 422794.4656 - mae: 12.6995\n",
            "Epoch 227/500\n",
            "4/4 [==============================] - 0s 107ms/step - loss: 393048.9883 - mae: 13.4572\n",
            "Epoch 228/500\n",
            "4/4 [==============================] - 0s 97ms/step - loss: 299057.8328 - mae: 13.4827\n",
            "Epoch 229/500\n",
            "4/4 [==============================] - 0s 111ms/step - loss: 474215.7125 - mae: 12.1414\n",
            "Epoch 230/500\n",
            "4/4 [==============================] - 0s 97ms/step - loss: 518803.4750 - mae: 12.9408\n",
            "Epoch 231/500\n",
            "4/4 [==============================] - 0s 108ms/step - loss: 475226.2938 - mae: 10.3040\n",
            "Epoch 232/500\n",
            "4/4 [==============================] - 0s 99ms/step - loss: 481644.8812 - mae: 10.2766\n",
            "Epoch 233/500\n",
            "4/4 [==============================] - 0s 101ms/step - loss: 406129.1312 - mae: 12.5088\n",
            "Epoch 234/500\n",
            "4/4 [==============================] - 0s 106ms/step - loss: 386574.6125 - mae: 13.8254\n",
            "Epoch 235/500\n",
            "4/4 [==============================] - 0s 108ms/step - loss: 482740.2125 - mae: 11.7126\n",
            "Epoch 236/500\n",
            "4/4 [==============================] - 0s 102ms/step - loss: 386851.3500 - mae: 14.3002\n",
            "Epoch 237/500\n",
            "4/4 [==============================] - 0s 93ms/step - loss: 451206.4813 - mae: 12.1174\n",
            "Epoch 238/500\n",
            "4/4 [==============================] - 0s 104ms/step - loss: 484251.7625 - mae: 11.7390\n",
            "Epoch 239/500\n",
            "4/4 [==============================] - 0s 97ms/step - loss: 448914.8312 - mae: 13.7907\n",
            "Epoch 240/500\n",
            "4/4 [==============================] - 0s 115ms/step - loss: 297020.8109 - mae: 13.6366\n",
            "Epoch 241/500\n",
            "4/4 [==============================] - 0s 100ms/step - loss: 400208.3625 - mae: 12.5294\n",
            "Epoch 242/500\n",
            "4/4 [==============================] - 0s 99ms/step - loss: 411211.6500 - mae: 8.7840\n",
            "Epoch 243/500\n",
            "4/4 [==============================] - 0s 100ms/step - loss: 394498.9750 - mae: 9.7844\n",
            "Epoch 244/500\n",
            "4/4 [==============================] - 0s 110ms/step - loss: 426574.6875 - mae: 11.5724\n",
            "Epoch 245/500\n",
            "4/4 [==============================] - 0s 102ms/step - loss: 296754.3961 - mae: 14.2272\n",
            "Epoch 246/500\n",
            "4/4 [==============================] - 0s 100ms/step - loss: 451451.8688 - mae: 13.8462\n",
            "Epoch 247/500\n",
            "4/4 [==============================] - 0s 103ms/step - loss: 377727.0563 - mae: 14.4019\n",
            "Epoch 248/500\n",
            "4/4 [==============================] - 0s 102ms/step - loss: 458711.4062 - mae: 12.9860\n",
            "Epoch 249/500\n",
            "4/4 [==============================] - 0s 104ms/step - loss: 476251.1125 - mae: 11.7624\n",
            "Epoch 250/500\n",
            "4/4 [==============================] - 0s 108ms/step - loss: 389896.9250 - mae: 11.6135\n",
            "Epoch 251/500\n",
            "4/4 [==============================] - 0s 107ms/step - loss: 406947.9375 - mae: 8.7870\n",
            "Epoch 252/500\n",
            "4/4 [==============================] - 0s 104ms/step - loss: 303808.2852 - mae: 14.2253\n",
            "Epoch 253/500\n",
            "4/4 [==============================] - 0s 106ms/step - loss: 403244.7750 - mae: 12.5060\n",
            "Epoch 254/500\n",
            "4/4 [==============================] - 0s 97ms/step - loss: 446206.3937 - mae: 8.8721\n",
            "Epoch 255/500\n",
            "4/4 [==============================] - 0s 108ms/step - loss: 299868.4664 - mae: 13.6570\n",
            "Epoch 256/500\n",
            "4/4 [==============================] - 0s 106ms/step - loss: 475830.6688 - mae: 11.7280\n",
            "Epoch 257/500\n",
            "4/4 [==============================] - 0s 106ms/step - loss: 456588.8312 - mae: 12.9873\n",
            "Epoch 258/500\n",
            "4/4 [==============================] - 0s 108ms/step - loss: 289086.0273 - mae: 13.8281\n",
            "Epoch 259/500\n",
            "4/4 [==============================] - 0s 105ms/step - loss: 282007.8281 - mae: 13.7544\n",
            "Epoch 260/500\n",
            "4/4 [==============================] - 0s 99ms/step - loss: 299507.2906 - mae: 13.6149\n",
            "Epoch 261/500\n",
            "4/4 [==============================] - 0s 112ms/step - loss: 414753.5312 - mae: 9.7988\n",
            "Epoch 262/500\n",
            "4/4 [==============================] - 0s 105ms/step - loss: 434539.7625 - mae: 12.6306\n",
            "Epoch 263/500\n",
            "4/4 [==============================] - 0s 119ms/step - loss: 471788.0312 - mae: 12.6362\n",
            "Epoch 264/500\n",
            "4/4 [==============================] - 0s 101ms/step - loss: 458475.8438 - mae: 11.7021\n",
            "Epoch 265/500\n",
            "4/4 [==============================] - 0s 105ms/step - loss: 428673.5375 - mae: 12.6213\n",
            "Epoch 266/500\n",
            "4/4 [==============================] - 0s 109ms/step - loss: 365900.7594 - mae: 9.4027\n",
            "Epoch 267/500\n",
            "4/4 [==============================] - 0s 99ms/step - loss: 639465.2250 - mae: 9.2903\n",
            "Epoch 268/500\n",
            "4/4 [==============================] - 0s 98ms/step - loss: 273318.5102 - mae: 11.8900\n",
            "Epoch 269/500\n",
            "4/4 [==============================] - 0s 109ms/step - loss: 408277.7625 - mae: 11.6213\n",
            "Epoch 270/500\n",
            "4/4 [==============================] - 0s 105ms/step - loss: 344902.7062 - mae: 9.2933\n",
            "Epoch 271/500\n",
            "4/4 [==============================] - 0s 103ms/step - loss: 504090.2125 - mae: 11.6801\n",
            "Epoch 272/500\n",
            "4/4 [==============================] - 0s 103ms/step - loss: 469447.5125 - mae: 8.8914\n",
            "Epoch 273/500\n",
            "4/4 [==============================] - 0s 93ms/step - loss: 532249.6813 - mae: 12.7233\n",
            "Epoch 274/500\n",
            "4/4 [==============================] - 0s 106ms/step - loss: 457628.0625 - mae: 12.5768\n",
            "Epoch 275/500\n",
            "4/4 [==============================] - 0s 106ms/step - loss: 539092.9875 - mae: 9.4441\n",
            "Epoch 276/500\n",
            "4/4 [==============================] - 0s 100ms/step - loss: 1006622.6125 - mae: 12.1775\n",
            "Epoch 277/500\n",
            "4/4 [==============================] - 0s 100ms/step - loss: 594702.4250 - mae: 11.8172\n",
            "Epoch 278/500\n",
            "4/4 [==============================] - 0s 106ms/step - loss: 478839.0938 - mae: 11.7476\n",
            "Epoch 279/500\n",
            "4/4 [==============================] - 0s 101ms/step - loss: 423029.6562 - mae: 9.5400\n",
            "Epoch 280/500\n",
            "4/4 [==============================] - 0s 116ms/step - loss: 624702.9125 - mae: 14.5906\n",
            "Epoch 281/500\n",
            "4/4 [==============================] - 0s 107ms/step - loss: 530472.5125 - mae: 12.9368\n",
            "Epoch 282/500\n",
            "4/4 [==============================] - 0s 109ms/step - loss: 525169.9375 - mae: 11.8751\n",
            "Epoch 283/500\n",
            "4/4 [==============================] - 0s 102ms/step - loss: 457753.9250 - mae: 9.1200\n",
            "Epoch 284/500\n",
            "4/4 [==============================] - 0s 110ms/step - loss: 568714.5813 - mae: 12.9182\n",
            "Epoch 285/500\n",
            "4/4 [==============================] - 0s 102ms/step - loss: 535287.3375 - mae: 12.0267\n",
            "Epoch 286/500\n",
            "4/4 [==============================] - 0s 106ms/step - loss: 632414.2625 - mae: 12.1096\n",
            "Epoch 287/500\n",
            "4/4 [==============================] - 0s 102ms/step - loss: 450235.1937 - mae: 11.8700\n",
            "Epoch 288/500\n",
            "4/4 [==============================] - 0s 107ms/step - loss: 444715.9688 - mae: 9.8030\n",
            "Epoch 289/500\n",
            "4/4 [==============================] - 0s 105ms/step - loss: 620723.2250 - mae: 10.4690\n",
            "Epoch 290/500\n",
            "4/4 [==============================] - 0s 107ms/step - loss: 457991.8625 - mae: 12.6819\n",
            "Epoch 291/500\n",
            "4/4 [==============================] - 0s 111ms/step - loss: 423249.6312 - mae: 12.6637\n",
            "Epoch 292/500\n",
            "4/4 [==============================] - 0s 105ms/step - loss: 271374.7742 - mae: 11.9678\n",
            "Epoch 293/500\n",
            "4/4 [==============================] - 0s 117ms/step - loss: 421643.7500 - mae: 11.6270\n",
            "Epoch 294/500\n",
            "4/4 [==============================] - 0s 113ms/step - loss: 442334.7000 - mae: 10.3010\n",
            "Epoch 295/500\n",
            "4/4 [==============================] - 0s 106ms/step - loss: 438206.2812 - mae: 10.3396\n",
            "Epoch 296/500\n",
            "4/4 [==============================] - 0s 104ms/step - loss: 422202.7687 - mae: 9.4756\n",
            "Epoch 297/500\n",
            "4/4 [==============================] - 0s 107ms/step - loss: 415091.3906 - mae: 14.2894\n",
            "Epoch 298/500\n",
            "4/4 [==============================] - 0s 124ms/step - loss: 402121.2562 - mae: 12.5178\n",
            "Epoch 299/500\n",
            "4/4 [==============================] - 0s 93ms/step - loss: 437372.1188 - mae: 9.8748\n",
            "Epoch 300/500\n",
            "4/4 [==============================] - 0s 112ms/step - loss: 403164.8000 - mae: 11.6501\n",
            "Epoch 301/500\n",
            "4/4 [==============================] - 0s 101ms/step - loss: 454151.8750 - mae: 12.1626\n",
            "Epoch 302/500\n",
            "4/4 [==============================] - 0s 101ms/step - loss: 354227.3031 - mae: 9.7508\n",
            "Epoch 303/500\n",
            "4/4 [==============================] - 0s 105ms/step - loss: 396595.3563 - mae: 8.7887\n",
            "Epoch 304/500\n",
            "4/4 [==============================] - 0s 116ms/step - loss: 307682.9797 - mae: 13.5691\n",
            "Epoch 305/500\n",
            "4/4 [==============================] - 0s 110ms/step - loss: 395433.7875 - mae: 11.6017\n",
            "Epoch 306/500\n",
            "4/4 [==============================] - 0s 95ms/step - loss: 471543.7125 - mae: 12.3100\n",
            "Epoch 307/500\n",
            "4/4 [==============================] - 0s 103ms/step - loss: 436072.9562 - mae: 9.5276\n",
            "Epoch 308/500\n",
            "4/4 [==============================] - 0s 101ms/step - loss: 483267.8812 - mae: 10.3409\n",
            "Epoch 309/500\n",
            "4/4 [==============================] - 0s 107ms/step - loss: 435574.7687 - mae: 10.2968\n",
            "Epoch 310/500\n",
            "4/4 [==============================] - 0s 96ms/step - loss: 470078.5938 - mae: 12.2397\n",
            "Epoch 311/500\n",
            "4/4 [==============================] - 0s 106ms/step - loss: 399654.2000 - mae: 11.6364\n",
            "Epoch 312/500\n",
            "4/4 [==============================] - 0s 105ms/step - loss: 433100.0500 - mae: 10.3200\n",
            "Epoch 313/500\n",
            "4/4 [==============================] - 0s 105ms/step - loss: 404986.2250 - mae: 8.8399\n",
            "Epoch 314/500\n",
            "4/4 [==============================] - 0s 106ms/step - loss: 300215.8391 - mae: 13.6274\n",
            "Epoch 315/500\n",
            "4/4 [==============================] - 0s 100ms/step - loss: 473588.8312 - mae: 9.4892\n",
            "Epoch 316/500\n",
            "4/4 [==============================] - 0s 103ms/step - loss: 328682.0320 - mae: 13.8109\n",
            "Epoch 317/500\n",
            "4/4 [==============================] - 0s 101ms/step - loss: 334924.7687 - mae: 9.6978\n",
            "Epoch 318/500\n",
            "4/4 [==============================] - 0s 109ms/step - loss: 569826.6625 - mae: 11.6242\n",
            "Epoch 319/500\n",
            "4/4 [==============================] - 0s 103ms/step - loss: 392954.4000 - mae: 12.4648\n",
            "Epoch 320/500\n",
            "4/4 [==============================] - 0s 103ms/step - loss: 631206.8500 - mae: 13.0706\n",
            "Epoch 321/500\n",
            "4/4 [==============================] - 0s 99ms/step - loss: 397379.0125 - mae: 8.7150\n",
            "Epoch 322/500\n",
            "4/4 [==============================] - 0s 103ms/step - loss: 522168.5297 - mae: 12.1637\n",
            "Epoch 323/500\n",
            "4/4 [==============================] - 0s 103ms/step - loss: 386129.1656 - mae: 9.6202\n",
            "Epoch 324/500\n",
            "4/4 [==============================] - 0s 100ms/step - loss: 614422.3125 - mae: 8.7859\n",
            "Epoch 325/500\n",
            "4/4 [==============================] - 0s 101ms/step - loss: 320317.8453 - mae: 13.5339\n",
            "Epoch 326/500\n"
          ],
          "name": "stdout"
        },
        {
          "output_type": "error",
          "ename": "KeyboardInterrupt",
          "evalue": "ignored",
          "traceback": [
            "\u001b[0;31m---------------------------------------------------------------------------\u001b[0m",
            "\u001b[0;31mKeyboardInterrupt\u001b[0m                         Traceback (most recent call last)",
            "\u001b[0;32m<ipython-input-80-8a49012696d5>\u001b[0m in \u001b[0;36m<module>\u001b[0;34m()\u001b[0m\n\u001b[1;32m     11\u001b[0m \u001b[0mes\u001b[0m \u001b[0;34m=\u001b[0m \u001b[0mkeras\u001b[0m\u001b[0;34m.\u001b[0m\u001b[0mcallbacks\u001b[0m\u001b[0;34m.\u001b[0m\u001b[0mEarlyStopping\u001b[0m\u001b[0;34m(\u001b[0m\u001b[0mmonitor\u001b[0m\u001b[0;34m=\u001b[0m\u001b[0;34m'loss'\u001b[0m\u001b[0;34m,\u001b[0m \u001b[0mmin_delta\u001b[0m\u001b[0;34m=\u001b[0m\u001b[0;36m0.001\u001b[0m\u001b[0;34m,\u001b[0m \u001b[0mpatience\u001b[0m\u001b[0;34m=\u001b[0m\u001b[0;36m100\u001b[0m\u001b[0;34m,\u001b[0m \u001b[0mmode\u001b[0m\u001b[0;34m=\u001b[0m\u001b[0;34m'min'\u001b[0m\u001b[0;34m,\u001b[0m \u001b[0mverbose\u001b[0m\u001b[0;34m=\u001b[0m\u001b[0;36m1\u001b[0m\u001b[0;34m,\u001b[0m \u001b[0mrestore_best_weights\u001b[0m\u001b[0;34m=\u001b[0m\u001b[0;32mTrue\u001b[0m\u001b[0;34m)\u001b[0m\u001b[0;34m\u001b[0m\u001b[0;34m\u001b[0m\u001b[0m\n\u001b[1;32m     12\u001b[0m \u001b[0;31m# H = model.fit(x=x_train, y=y_train, batch_size=1, epochs=100, verbose=1, validation_data=(x_test,y_test), validation_batch_size=1, callbacks=[es])\u001b[0m\u001b[0;34m\u001b[0m\u001b[0;34m\u001b[0m\u001b[0;34m\u001b[0m\u001b[0m\n\u001b[0;32m---> 13\u001b[0;31m \u001b[0mH\u001b[0m \u001b[0;34m=\u001b[0m \u001b[0mmodel\u001b[0m\u001b[0;34m.\u001b[0m\u001b[0mfit\u001b[0m\u001b[0;34m(\u001b[0m\u001b[0mx\u001b[0m\u001b[0;34m=\u001b[0m\u001b[0mx_train\u001b[0m\u001b[0;34m,\u001b[0m \u001b[0my\u001b[0m\u001b[0;34m=\u001b[0m\u001b[0my_train\u001b[0m\u001b[0;34m,\u001b[0m \u001b[0mbatch_size\u001b[0m\u001b[0;34m=\u001b[0m\u001b[0;36m1\u001b[0m\u001b[0;34m,\u001b[0m \u001b[0mepochs\u001b[0m\u001b[0;34m=\u001b[0m\u001b[0;36m500\u001b[0m\u001b[0;34m,\u001b[0m \u001b[0mverbose\u001b[0m\u001b[0;34m=\u001b[0m\u001b[0;36m1\u001b[0m\u001b[0;34m,\u001b[0m \u001b[0mcallbacks\u001b[0m\u001b[0;34m=\u001b[0m\u001b[0;34m[\u001b[0m\u001b[0mes\u001b[0m\u001b[0;34m]\u001b[0m\u001b[0;34m)\u001b[0m\u001b[0;34m\u001b[0m\u001b[0;34m\u001b[0m\u001b[0m\n\u001b[0m",
            "\u001b[0;32m/usr/local/lib/python3.6/dist-packages/tensorflow/python/keras/engine/training.py\u001b[0m in \u001b[0;36mfit\u001b[0;34m(self, x, y, batch_size, epochs, verbose, callbacks, validation_split, validation_data, shuffle, class_weight, sample_weight, initial_epoch, steps_per_epoch, validation_steps, validation_batch_size, validation_freq, max_queue_size, workers, use_multiprocessing)\u001b[0m\n\u001b[1;32m   1098\u001b[0m                 _r=1):\n\u001b[1;32m   1099\u001b[0m               \u001b[0mcallbacks\u001b[0m\u001b[0;34m.\u001b[0m\u001b[0mon_train_batch_begin\u001b[0m\u001b[0;34m(\u001b[0m\u001b[0mstep\u001b[0m\u001b[0;34m)\u001b[0m\u001b[0;34m\u001b[0m\u001b[0;34m\u001b[0m\u001b[0m\n\u001b[0;32m-> 1100\u001b[0;31m               \u001b[0mtmp_logs\u001b[0m \u001b[0;34m=\u001b[0m \u001b[0mself\u001b[0m\u001b[0;34m.\u001b[0m\u001b[0mtrain_function\u001b[0m\u001b[0;34m(\u001b[0m\u001b[0miterator\u001b[0m\u001b[0;34m)\u001b[0m\u001b[0;34m\u001b[0m\u001b[0;34m\u001b[0m\u001b[0m\n\u001b[0m\u001b[1;32m   1101\u001b[0m               \u001b[0;32mif\u001b[0m \u001b[0mdata_handler\u001b[0m\u001b[0;34m.\u001b[0m\u001b[0mshould_sync\u001b[0m\u001b[0;34m:\u001b[0m\u001b[0;34m\u001b[0m\u001b[0;34m\u001b[0m\u001b[0m\n\u001b[1;32m   1102\u001b[0m                 \u001b[0mcontext\u001b[0m\u001b[0;34m.\u001b[0m\u001b[0masync_wait\u001b[0m\u001b[0;34m(\u001b[0m\u001b[0;34m)\u001b[0m\u001b[0;34m\u001b[0m\u001b[0;34m\u001b[0m\u001b[0m\n",
            "\u001b[0;32m/usr/local/lib/python3.6/dist-packages/tensorflow/python/eager/def_function.py\u001b[0m in \u001b[0;36m__call__\u001b[0;34m(self, *args, **kwds)\u001b[0m\n\u001b[1;32m    826\u001b[0m     \u001b[0mtracing_count\u001b[0m \u001b[0;34m=\u001b[0m \u001b[0mself\u001b[0m\u001b[0;34m.\u001b[0m\u001b[0mexperimental_get_tracing_count\u001b[0m\u001b[0;34m(\u001b[0m\u001b[0;34m)\u001b[0m\u001b[0;34m\u001b[0m\u001b[0;34m\u001b[0m\u001b[0m\n\u001b[1;32m    827\u001b[0m     \u001b[0;32mwith\u001b[0m \u001b[0mtrace\u001b[0m\u001b[0;34m.\u001b[0m\u001b[0mTrace\u001b[0m\u001b[0;34m(\u001b[0m\u001b[0mself\u001b[0m\u001b[0;34m.\u001b[0m\u001b[0m_name\u001b[0m\u001b[0;34m)\u001b[0m \u001b[0;32mas\u001b[0m \u001b[0mtm\u001b[0m\u001b[0;34m:\u001b[0m\u001b[0;34m\u001b[0m\u001b[0;34m\u001b[0m\u001b[0m\n\u001b[0;32m--> 828\u001b[0;31m       \u001b[0mresult\u001b[0m \u001b[0;34m=\u001b[0m \u001b[0mself\u001b[0m\u001b[0;34m.\u001b[0m\u001b[0m_call\u001b[0m\u001b[0;34m(\u001b[0m\u001b[0;34m*\u001b[0m\u001b[0margs\u001b[0m\u001b[0;34m,\u001b[0m \u001b[0;34m**\u001b[0m\u001b[0mkwds\u001b[0m\u001b[0;34m)\u001b[0m\u001b[0;34m\u001b[0m\u001b[0;34m\u001b[0m\u001b[0m\n\u001b[0m\u001b[1;32m    829\u001b[0m       \u001b[0mcompiler\u001b[0m \u001b[0;34m=\u001b[0m \u001b[0;34m\"xla\"\u001b[0m \u001b[0;32mif\u001b[0m \u001b[0mself\u001b[0m\u001b[0;34m.\u001b[0m\u001b[0m_experimental_compile\u001b[0m \u001b[0;32melse\u001b[0m \u001b[0;34m\"nonXla\"\u001b[0m\u001b[0;34m\u001b[0m\u001b[0;34m\u001b[0m\u001b[0m\n\u001b[1;32m    830\u001b[0m       \u001b[0mnew_tracing_count\u001b[0m \u001b[0;34m=\u001b[0m \u001b[0mself\u001b[0m\u001b[0;34m.\u001b[0m\u001b[0mexperimental_get_tracing_count\u001b[0m\u001b[0;34m(\u001b[0m\u001b[0;34m)\u001b[0m\u001b[0;34m\u001b[0m\u001b[0;34m\u001b[0m\u001b[0m\n",
            "\u001b[0;32m/usr/local/lib/python3.6/dist-packages/tensorflow/python/eager/def_function.py\u001b[0m in \u001b[0;36m_call\u001b[0;34m(self, *args, **kwds)\u001b[0m\n\u001b[1;32m    853\u001b[0m       \u001b[0;31m# In this case we have created variables on the first call, so we run the\u001b[0m\u001b[0;34m\u001b[0m\u001b[0;34m\u001b[0m\u001b[0;34m\u001b[0m\u001b[0m\n\u001b[1;32m    854\u001b[0m       \u001b[0;31m# defunned version which is guaranteed to never create variables.\u001b[0m\u001b[0;34m\u001b[0m\u001b[0;34m\u001b[0m\u001b[0;34m\u001b[0m\u001b[0m\n\u001b[0;32m--> 855\u001b[0;31m       \u001b[0;32mreturn\u001b[0m \u001b[0mself\u001b[0m\u001b[0;34m.\u001b[0m\u001b[0m_stateless_fn\u001b[0m\u001b[0;34m(\u001b[0m\u001b[0;34m*\u001b[0m\u001b[0margs\u001b[0m\u001b[0;34m,\u001b[0m \u001b[0;34m**\u001b[0m\u001b[0mkwds\u001b[0m\u001b[0;34m)\u001b[0m  \u001b[0;31m# pylint: disable=not-callable\u001b[0m\u001b[0;34m\u001b[0m\u001b[0;34m\u001b[0m\u001b[0m\n\u001b[0m\u001b[1;32m    856\u001b[0m     \u001b[0;32melif\u001b[0m \u001b[0mself\u001b[0m\u001b[0;34m.\u001b[0m\u001b[0m_stateful_fn\u001b[0m \u001b[0;32mis\u001b[0m \u001b[0;32mnot\u001b[0m \u001b[0;32mNone\u001b[0m\u001b[0;34m:\u001b[0m\u001b[0;34m\u001b[0m\u001b[0;34m\u001b[0m\u001b[0m\n\u001b[1;32m    857\u001b[0m       \u001b[0;31m# Release the lock early so that multiple threads can perform the call\u001b[0m\u001b[0;34m\u001b[0m\u001b[0;34m\u001b[0m\u001b[0;34m\u001b[0m\u001b[0m\n",
            "\u001b[0;32m/usr/local/lib/python3.6/dist-packages/tensorflow/python/eager/function.py\u001b[0m in \u001b[0;36m__call__\u001b[0;34m(self, *args, **kwargs)\u001b[0m\n\u001b[1;32m   2941\u001b[0m        filtered_flat_args) = self._maybe_define_function(args, kwargs)\n\u001b[1;32m   2942\u001b[0m     return graph_function._call_flat(\n\u001b[0;32m-> 2943\u001b[0;31m         filtered_flat_args, captured_inputs=graph_function.captured_inputs)  # pylint: disable=protected-access\n\u001b[0m\u001b[1;32m   2944\u001b[0m \u001b[0;34m\u001b[0m\u001b[0m\n\u001b[1;32m   2945\u001b[0m   \u001b[0;34m@\u001b[0m\u001b[0mproperty\u001b[0m\u001b[0;34m\u001b[0m\u001b[0;34m\u001b[0m\u001b[0m\n",
            "\u001b[0;32m/usr/local/lib/python3.6/dist-packages/tensorflow/python/eager/function.py\u001b[0m in \u001b[0;36m_call_flat\u001b[0;34m(self, args, captured_inputs, cancellation_manager)\u001b[0m\n\u001b[1;32m   1917\u001b[0m       \u001b[0;31m# No tape is watching; skip to running the function.\u001b[0m\u001b[0;34m\u001b[0m\u001b[0;34m\u001b[0m\u001b[0;34m\u001b[0m\u001b[0m\n\u001b[1;32m   1918\u001b[0m       return self._build_call_outputs(self._inference_function.call(\n\u001b[0;32m-> 1919\u001b[0;31m           ctx, args, cancellation_manager=cancellation_manager))\n\u001b[0m\u001b[1;32m   1920\u001b[0m     forward_backward = self._select_forward_and_backward_functions(\n\u001b[1;32m   1921\u001b[0m         \u001b[0margs\u001b[0m\u001b[0;34m,\u001b[0m\u001b[0;34m\u001b[0m\u001b[0;34m\u001b[0m\u001b[0m\n",
            "\u001b[0;32m/usr/local/lib/python3.6/dist-packages/tensorflow/python/eager/function.py\u001b[0m in \u001b[0;36mcall\u001b[0;34m(self, ctx, args, cancellation_manager)\u001b[0m\n\u001b[1;32m    558\u001b[0m               \u001b[0minputs\u001b[0m\u001b[0;34m=\u001b[0m\u001b[0margs\u001b[0m\u001b[0;34m,\u001b[0m\u001b[0;34m\u001b[0m\u001b[0;34m\u001b[0m\u001b[0m\n\u001b[1;32m    559\u001b[0m               \u001b[0mattrs\u001b[0m\u001b[0;34m=\u001b[0m\u001b[0mattrs\u001b[0m\u001b[0;34m,\u001b[0m\u001b[0;34m\u001b[0m\u001b[0;34m\u001b[0m\u001b[0m\n\u001b[0;32m--> 560\u001b[0;31m               ctx=ctx)\n\u001b[0m\u001b[1;32m    561\u001b[0m         \u001b[0;32melse\u001b[0m\u001b[0;34m:\u001b[0m\u001b[0;34m\u001b[0m\u001b[0;34m\u001b[0m\u001b[0m\n\u001b[1;32m    562\u001b[0m           outputs = execute.execute_with_cancellation(\n",
            "\u001b[0;32m/usr/local/lib/python3.6/dist-packages/tensorflow/python/eager/execute.py\u001b[0m in \u001b[0;36mquick_execute\u001b[0;34m(op_name, num_outputs, inputs, attrs, ctx, name)\u001b[0m\n\u001b[1;32m     58\u001b[0m     \u001b[0mctx\u001b[0m\u001b[0;34m.\u001b[0m\u001b[0mensure_initialized\u001b[0m\u001b[0;34m(\u001b[0m\u001b[0;34m)\u001b[0m\u001b[0;34m\u001b[0m\u001b[0;34m\u001b[0m\u001b[0m\n\u001b[1;32m     59\u001b[0m     tensors = pywrap_tfe.TFE_Py_Execute(ctx._handle, device_name, op_name,\n\u001b[0;32m---> 60\u001b[0;31m                                         inputs, attrs, num_outputs)\n\u001b[0m\u001b[1;32m     61\u001b[0m   \u001b[0;32mexcept\u001b[0m \u001b[0mcore\u001b[0m\u001b[0;34m.\u001b[0m\u001b[0m_NotOkStatusException\u001b[0m \u001b[0;32mas\u001b[0m \u001b[0me\u001b[0m\u001b[0;34m:\u001b[0m\u001b[0;34m\u001b[0m\u001b[0;34m\u001b[0m\u001b[0m\n\u001b[1;32m     62\u001b[0m     \u001b[0;32mif\u001b[0m \u001b[0mname\u001b[0m \u001b[0;32mis\u001b[0m \u001b[0;32mnot\u001b[0m \u001b[0;32mNone\u001b[0m\u001b[0;34m:\u001b[0m\u001b[0;34m\u001b[0m\u001b[0;34m\u001b[0m\u001b[0m\n",
            "\u001b[0;31mKeyboardInterrupt\u001b[0m: "
          ]
        }
      ]
    },
    {
      "cell_type": "markdown",
      "metadata": {
        "id": "Ie8Rhqf765N5"
      },
      "source": [
        "## Non Custom Loss"
      ]
    },
    {
      "cell_type": "code",
      "metadata": {
        "colab": {
          "base_uri": "https://localhost:8080/"
        },
        "id": "CpJHFBHy74vp",
        "outputId": "348e3bba-18d9-453d-8df8-a6af5dbc6573"
      },
      "source": [
        "# --==Not in use?==--\n",
        "# lr_schedule = keras.optimizers.schedules.ExponentialDecay(\n",
        "#     initial_learning_rate=1e-3,\n",
        "#     decay_steps=10000,\n",
        "#     decay_rate=0.8)\n",
        "\n",
        "nInput = 10\n",
        "\n",
        "# inputs = keras.layers.Input((None,nInput))\n",
        "# print(\"train shape of one batch:\", x_train.shape[1:])\n",
        "\n",
        "# --==Set seed to get identical results==-- begin\n",
        "# from tensorflow.random import set_seed\n",
        "# np.random.seed(1)\n",
        "# set_seed(2)\n",
        "# --==Set seed to get identical results==-- end\n",
        "\n",
        "\n",
        "#--==Set Weights==--\n",
        "# loss_weights = [1/(sd**2)]\n",
        "# loss_weights = np.array(loss_weights)/sum(loss_weights)\n",
        "# model.compile(optimizer=optimizer, loss=\"mse\", loss_weights=loss_weights, metrics=[\"mae\"])\n",
        "\n",
        "inputs = keras.Input((None,nInput),ragged=True)\n",
        "\n",
        "# --==Choose model==--\n",
        "# x = model(inputs)\n",
        "# x = model_timeless(inputs)\n",
        "# x = RNNTime(inputs)\n",
        "x = RNNTimeless(inputs)\n",
        "# x = RNNTimeStateful(inputs)\n",
        "\n",
        "# model = keras.Model(inputs=inputs, outputs=x, name=\"RNNModel\")\n",
        "model = keras.Model(inputs=inputs, outputs=x, name=\"RNNModel\")\n",
        "\n",
        "model.compile(optimizer=\"adam\", loss=\"mse\", metrics=[\"mae\"])\n",
        "\n",
        "model.summary()"
      ],
      "execution_count": null,
      "outputs": [
        {
          "output_type": "stream",
          "text": [
            "Model: \"RNNModel\"\n",
            "_________________________________________________________________\n",
            "Layer (type)                 Output Shape              Param #   \n",
            "=================================================================\n",
            "input_4 (InputLayer)         [(None, None, 10)]        0         \n",
            "_________________________________________________________________\n",
            "input_lstm1 (LSTM)           (None, None, 128)         71168     \n",
            "_________________________________________________________________\n",
            "lstm2 (LSTM)                 (None, None, 64)          49408     \n",
            "_________________________________________________________________\n",
            "lstm3 (LSTM)                 (None, 32)                12416     \n",
            "_________________________________________________________________\n",
            "Dense1 (Dense)               (None, 32)                1056      \n",
            "_________________________________________________________________\n",
            "output-Dense (Dense)         (None, 5)                 165       \n",
            "=================================================================\n",
            "Total params: 134,213\n",
            "Trainable params: 134,213\n",
            "Non-trainable params: 0\n",
            "_________________________________________________________________\n"
          ],
          "name": "stdout"
        }
      ]
    },
    {
      "cell_type": "code",
      "metadata": {
        "id": "Hw07sS4jFgJI"
      },
      "source": [
        "es = keras.callbacks.EarlyStopping(monitor='loss', min_delta=0.01, patience=50, mode='min', verbose=1, restore_best_weights=True)\n",
        "H = model.fit(x=x_train, y=y_train, batch_size=64, epochs=100, verbose=1, callbacks=[es])\n",
        "\n",
        "# Overfit\n",
        "# es = keras.callbacks.EarlyStopping(monitor='loss', min_delta=0.001, patience=100, mode='min', verbose=1, restore_best_weights=True)\n",
        "# H = model.fit(x=x_train[:10], y=y_train[:10], batch_size=1, epochs=200, verbose=1, shuffle=True, callbacks=[es])"
      ],
      "execution_count": null,
      "outputs": []
    },
    {
      "cell_type": "markdown",
      "metadata": {
        "id": "XZ5XBwDV7MGY"
      },
      "source": [
        "# Save model"
      ]
    },
    {
      "cell_type": "code",
      "metadata": {
        "id": "xWvST6o27MYI"
      },
      "source": [
        "# model.save('model.h5', save_format=\"h5\")\n",
        "# TODO check if file exists, increment counter\n",
        "model.save('drive/MyDrive/RealRNN_1-2-2021_2.h5', save_format=\"h5\")"
      ],
      "execution_count": null,
      "outputs": []
    },
    {
      "cell_type": "markdown",
      "metadata": {
        "id": "Xw4xzpuKYEld"
      },
      "source": [
        "# Test Model"
      ]
    },
    {
      "cell_type": "code",
      "metadata": {
        "colab": {
          "base_uri": "https://localhost:8080/",
          "height": 564
        },
        "id": "kZHLFMS1YE40",
        "outputId": "fe87424a-b424-45fa-84b8-29a4c6ea6743"
      },
      "source": [
        "np.set_printoptions(suppress=True, precision=3)\n",
        "from time import sleep\n",
        "\n",
        "for i in range(10):\n",
        "  # aax, aay = next(test_gen)\n",
        "  # x, o, y = aax\n",
        "  # print(x.shape)\n",
        "  # print(o.shape)\n",
        "  # print(y.shape)\n",
        "  aax = x_train[0][i:i+1]\n",
        "  oax = x_train[1][i]\n",
        "  yax = x_train[2][i]\n",
        "  aay = y_train[i]\n",
        "  # aax = np.expand_dims(aax,0)\n",
        "  oax = np.expand_dims(oax,0)\n",
        "  yax = np.expand_dims(yax,0)\n",
        "  # oth = other_train[i]\n",
        "  # oth = np.expand_dims(oth[8:],0)\n",
        "  # pred = model.predict([aax,oth,aay])\n",
        "  pred = model.predict([aax, oax, yax])[0]\n",
        "  # print(pred.shape)\n",
        "  diff = pred - aay\n",
        "  # print(\"i: \",i)\n",
        "  # print(\"aax:  \",aax[0,0])\n",
        "  # print(\"aay:  \",aay)\n",
        "  print(\"pred: \",pred)\n",
        "  # print(\"diff: \",diff)\n",
        "  print(\"\")\n",
        "\n",
        "  # plt.plot(aay[0])\n",
        "  # plt.plot(pred[0])\n",
        "  # plt.show()\n",
        "\n",
        "  # for i in range(23):\n",
        "  #   print(\"aax:  \",aax[0,i,:5])\n",
        "  #   print(\"pred: \",pred[0,:5])\n",
        "  #   print(\"aay:  \",aay[0,:5])\n",
        "  #   print(\"diff: \",diff[0,:5])\n",
        "  #   print(\"\")\n",
        "\n",
        "# [Q/PT, phi, tanl, D, z]\n"
      ],
      "execution_count": null,
      "outputs": [
        {
          "output_type": "stream",
          "text": [
            "pred:  [  0.224  -0.422   5.994  -8.799 138.081]\n",
            "\n",
            "pred:  [  0.224  -0.422   5.994  -8.799 138.081]\n",
            "\n",
            "pred:  [  0.224  -0.422   5.994  -8.799 138.081]\n",
            "\n",
            "pred:  [  0.224  -0.422   5.994  -8.799 138.081]\n",
            "\n",
            "pred:  [  0.224  -0.422   5.994  -8.799 138.081]\n",
            "\n",
            "pred:  [  0.224  -0.422   5.994  -8.799 138.081]\n",
            "\n",
            "pred:  [  0.224  -0.422   5.993  -8.799 138.073]\n",
            "\n",
            "pred:  [  0.224  -0.422   5.994  -8.799 138.081]\n",
            "\n",
            "pred:  [  0.224  -0.422   5.994  -8.799 138.081]\n",
            "\n"
          ],
          "name": "stdout"
        },
        {
          "output_type": "error",
          "ename": "IndexError",
          "evalue": "ignored",
          "traceback": [
            "\u001b[0;31m---------------------------------------------------------------------------\u001b[0m",
            "\u001b[0;31mIndexError\u001b[0m                                Traceback (most recent call last)",
            "\u001b[0;32m<ipython-input-36-58134edd724d>\u001b[0m in \u001b[0;36m<module>\u001b[0;34m()\u001b[0m\n\u001b[1;32m      9\u001b[0m   \u001b[0;31m# print(y.shape)\u001b[0m\u001b[0;34m\u001b[0m\u001b[0;34m\u001b[0m\u001b[0;34m\u001b[0m\u001b[0m\n\u001b[1;32m     10\u001b[0m   \u001b[0maax\u001b[0m \u001b[0;34m=\u001b[0m \u001b[0mx_train\u001b[0m\u001b[0;34m[\u001b[0m\u001b[0;36m0\u001b[0m\u001b[0;34m]\u001b[0m\u001b[0;34m[\u001b[0m\u001b[0mi\u001b[0m\u001b[0;34m:\u001b[0m\u001b[0mi\u001b[0m\u001b[0;34m+\u001b[0m\u001b[0;36m1\u001b[0m\u001b[0;34m]\u001b[0m\u001b[0;34m\u001b[0m\u001b[0;34m\u001b[0m\u001b[0m\n\u001b[0;32m---> 11\u001b[0;31m   \u001b[0moax\u001b[0m \u001b[0;34m=\u001b[0m \u001b[0mx_train\u001b[0m\u001b[0;34m[\u001b[0m\u001b[0;36m1\u001b[0m\u001b[0;34m]\u001b[0m\u001b[0;34m[\u001b[0m\u001b[0mi\u001b[0m\u001b[0;34m]\u001b[0m\u001b[0;34m\u001b[0m\u001b[0;34m\u001b[0m\u001b[0m\n\u001b[0m\u001b[1;32m     12\u001b[0m   \u001b[0myax\u001b[0m \u001b[0;34m=\u001b[0m \u001b[0mx_train\u001b[0m\u001b[0;34m[\u001b[0m\u001b[0;36m2\u001b[0m\u001b[0;34m]\u001b[0m\u001b[0;34m[\u001b[0m\u001b[0mi\u001b[0m\u001b[0;34m]\u001b[0m\u001b[0;34m\u001b[0m\u001b[0;34m\u001b[0m\u001b[0m\n\u001b[1;32m     13\u001b[0m   \u001b[0maay\u001b[0m \u001b[0;34m=\u001b[0m \u001b[0my_train\u001b[0m\u001b[0;34m[\u001b[0m\u001b[0mi\u001b[0m\u001b[0;34m]\u001b[0m\u001b[0;34m\u001b[0m\u001b[0;34m\u001b[0m\u001b[0m\n",
            "\u001b[0;31mIndexError\u001b[0m: index 9 is out of bounds for axis 0 with size 9"
          ]
        }
      ]
    },
    {
      "cell_type": "markdown",
      "metadata": {
        "id": "T56J0X6g7O2k"
      },
      "source": [
        "# Load Model"
      ]
    },
    {
      "cell_type": "code",
      "metadata": {
        "id": "zgLQh0jf7Ova"
      },
      "source": [
        "# model.save('drive/MyDrive/RealRNN_1-2-2021_2.h5', save_format=\"h5\")\n",
        "model = keras.models.load_model('drive/MyDrive/RealRNN_1-2-2021_2.h5')"
      ],
      "execution_count": null,
      "outputs": []
    },
    {
      "cell_type": "markdown",
      "metadata": {
        "id": "X72YH9S87cvW"
      },
      "source": [
        "# Graphs"
      ]
    },
    {
      "cell_type": "markdown",
      "metadata": {
        "id": "o6LGBSia7fg3"
      },
      "source": [
        "## Graph loss and mae"
      ]
    },
    {
      "cell_type": "code",
      "metadata": {
        "colab": {
          "base_uri": "https://localhost:8080/",
          "height": 704
        },
        "id": "OUPAStLMtq7m",
        "outputId": "147bf978-4ed8-4e5d-e7ce-a303d7761827"
      },
      "source": [
        "print(H.history.keys())\n",
        "print(\"loss: \", H.history[\"loss\"])\n",
        "print(\"mae: \", H.history[\"mae\"])\n",
        "# print(\"val_loss: \", H.history[\"val_loss\"])\n",
        "# print(\"val_mae: \", H.history[\"val_mae\"])\n",
        "\n",
        "lim = 2\n",
        "\n",
        "fig, ax = plt.subplots(2,1,figsize=(5,10))\n",
        "fig.subplots_adjust(hspace=0.35)\n",
        "\n",
        "ax[0].plot(H.history[\"loss\"][lim:])\n",
        "# ax[0].plot(H.history[\"val_loss\"][lim:])\n",
        "ax[0].set_title(\"loss vs epoch\", fontsize=20)\n",
        "ax[0].set_xlabel(\"epoch\", fontsize=15)\n",
        "ax[0].set_ylabel(\"loss\", fontsize=15)\n",
        "# ax[0].set_yscale(\"log\")\n",
        "ax[0].legend([\"train\",\"val\"])\n",
        "ax[0].grid(True)\n",
        "\n",
        "\n",
        "ax[1].plot(H.history[\"mae\"][lim:])\n",
        "# ax[1].plot(H.history[\"val_mae\"][lim:])\n",
        "ax[1].set_title(\"mae vs epoch\", fontsize=20)\n",
        "ax[1].set_xlabel(\"epoch\", fontsize=15)\n",
        "ax[1].set_ylabel(\"mae\", fontsize=15)\n",
        "ax[1].legend([\"train\",\"val\"])\n",
        "ax[1].grid(True)\n"
      ],
      "execution_count": 81,
      "outputs": [
        {
          "output_type": "stream",
          "text": [
            "dict_keys(['loss', 'mae'])\n",
            "loss:  [132694.765625, 120599.4921875, 67359.71875, 26227.009765625, 2986.28662109375, 6812.01416015625, 13554.5576171875, 9960.2158203125, 4260.216796875, 1458.557373046875, 1965.3916015625, 3721.33056640625, 4813.75927734375, 4629.2392578125, 3526.625, 2240.876953125, 1427.8046875, 1398.458740234375, 1956.1630859375, 2575.60791015625, 2791.57421875, 2502.7890625, 1950.98193359375, 1477.599365234375, 1294.2054443359375, 1401.6441650390625, 1650.385498046875, 1859.0533447265625, 1910.916015625, 1792.2158203125, 1575.9552001953125, 1372.5518798828125, 1271.354736328125, 1297.345703125, 1403.48291015625, 1504.3526611328125, 1531.147216796875, 1470.891845703125, 1365.156494140625, 1275.0384521484375, 1241.2061767578125, 1264.6641845703125, 1314.4920654296875, 1351.653564453125, 1351.9237060546875, 1316.287109375, 1266.07861328125, 1227.9464111328125, 1217.812744140625, 1232.8084716796875, 1255.3193359375, 1265.948486328125, 1256.099853515625, 1231.864013671875, 1207.62890625, 1195.3359375, 1197.293212890625, 1206.510009765625, 1212.802734375, 1209.75927734375, 1198.1082763671875, 1184.070556640625, 1174.4791259765625, 1172.2156982421875, 1174.856201171875, 1177.0958251953125, 1174.8212890625, 1167.7786865234375, 1159.129150390625, 1152.63818359375, 1149.9298095703125, 1149.7244873046875, 1149.24951171875, 1146.4361572265625, 1141.2510986328125, 1135.382080078125, 1130.73779296875, 1128.0352783203125, 1126.4637451171875, 1124.5242919921875, 1121.25390625, 1116.8758544921875, 1112.4039306640625, 1108.7640380859375, 1106.0936279296875, 1103.7618408203125, 1101.00732421875, 1097.5250244140625, 1093.626708984375, 1089.895263671875, 1086.6861572265625, 1083.87646484375, 1081.0504150390625, 1077.875732421875, 1074.354248046875, 1070.768798828125, 1067.4019775390625, 1064.3006591796875, 1061.292236328125, 1058.145263671875, 1054.7894287109375, 1051.3250732421875, 1047.9227294921875, 1044.6717529296875, 1041.507568359375, 1038.294921875, 1034.9656982421875, 1031.55126953125, 1028.1505126953125, 1024.818115234375, 1021.5376586914062, 1018.2464599609375, 1014.8869018554688, 1011.4662475585938, 1008.0399780273438, 1004.645751953125, 1001.2800903320312, 997.9039916992188, 994.4853515625, 991.0279541015625, 987.5616455078125, 984.106201171875, 980.6577758789062, 977.2001953125, 973.7134399414062, 970.1985473632812, 966.6732177734375, 963.1442260742188, 959.6138916015625, 956.071533203125, 952.5078125, 948.92138671875, 945.322509765625, 941.7153930664062, 938.098388671875, 934.4707641601562, 930.819091796875, 927.1463012695312, 923.4605712890625, 919.7606811523438, 916.0523681640625, 912.3193359375, 908.5717163085938, 904.80126953125, 901.019287109375, 897.2180786132812, 893.4049682617188, 889.5667114257812, 885.709228515625, 881.8339233398438, 877.9376220703125, 874.025146484375, 870.0905151367188, 866.1343383789062, 862.1585693359375, 858.1602172851562, 854.1441040039062, 850.1041259765625, 846.0410766601562, 841.95849609375, 837.8505859375, 833.7188110351562, 829.5692138671875, 825.3941650390625, 821.1918334960938, 816.9686279296875, 812.7222900390625, 808.453369140625, 804.1566162109375, 799.83984375, 795.496337890625, 791.1281127929688, 786.7362670898438, 782.3200073242188, 777.8800048828125, 773.416748046875, 768.9286499023438, 764.41650390625, 759.8820190429688, 755.3250122070312, 750.7423706054688, 746.138916015625, 741.5119018554688, 736.8644409179688, 732.192626953125, 727.5030517578125, 722.78857421875, 718.05615234375, 713.3035278320312, 708.5309448242188, 703.738525390625, 698.9284057617188, 694.0975341796875, 689.2505493164062, 684.384033203125, 679.5010375976562, 674.6011352539062, 669.683837890625, 664.751708984375, 659.8005981445312, 654.8356323242188, 649.8538818359375, 644.857666015625, 639.8462524414062, 634.8212280273438, 629.7809448242188, 624.7269287109375, 619.65869140625, 614.5775146484375, 609.483154296875, 604.3739013671875, 599.2531127929688, 594.119873046875, 588.9757080078125, 583.8180541992188, 578.6489868164062, 573.46875, 568.278076171875, 563.0769653320312, 557.8651123046875, 552.6437377929688, 547.4129028320312, 542.1729736328125, 536.9238891601562, 531.6678466796875, 526.4042358398438, 521.1328125, 515.8558349609375, 510.57122802734375, 505.28076171875, 499.98626708984375, 494.6873474121094, 489.3838195800781, 484.07696533203125, 478.7683410644531, 473.4572448730469, 468.1434326171875, 462.8283996582031, 457.5143737792969, 452.1989440917969, 446.8846740722656, 441.57135009765625, 436.2608947753906, 430.95208740234375, 425.6474609375, 420.34503173828125, 415.0476379394531, 409.75634765625, 404.47039794921875, 399.1903991699219, 393.91741943359375, 388.65283203125, 383.3961486816406, 378.14990234375, 372.91180419921875, 367.6866455078125, 362.47149658203125, 357.2684020996094, 352.0788879394531, 346.90240478515625, 341.7409973144531, 336.5954284667969, 331.4651794433594, 326.3525390625, 321.2567443847656, 316.1809997558594, 311.1228332519531, 306.086181640625, 301.070068359375, 296.0768127441406, 291.1064758300781, 286.1589050292969, 281.2368469238281, 276.3397216796875, 271.4701843261719, 266.62689208984375, 261.81256103515625, 257.0263366699219, 252.27076721191406, 247.54664611816406, 242.85374450683594, 238.1929473876953, 233.56741333007812, 228.97518920898438, 224.41864013671875, 219.89846801757812, 215.41519165039062, 210.97035217285156, 206.56417846679688, 202.19839477539062, 197.87269592285156, 193.58865356445312, 189.34637451171875, 185.14755249023438, 180.99264526367188, 176.88209533691406, 172.81729125976562, 168.7985076904297, 164.82608032226562, 160.90208435058594, 157.0260009765625, 153.19854736328125, 149.42095947265625, 145.69354248046875, 142.01646423339844, 138.39077758789062, 134.81692504882812, 131.2950897216797, 127.8263931274414, 124.41072845458984, 121.04840087890625, 117.74032592773438, 114.4866714477539, 111.28713989257812, 108.14260864257812, 105.05297088623047, 102.01911926269531, 99.0404281616211, 96.1170654296875, 93.2498779296875, 90.43792724609375, 87.6817398071289, 84.98146057128906, 82.33660125732422, 79.74723815917969, 77.2132797241211, 74.73465728759766, 72.31085968017578, 69.94205474853516, 67.62745666503906, 65.36705780029297, 63.16062545776367, 61.007633209228516, 58.907596588134766, 56.8602294921875, 54.86491394042969, 52.9212646484375, 51.028621673583984, 49.18653869628906, 47.39445495605469, 45.65169143676758, 43.957584381103516, 42.31148910522461, 40.712921142578125, 39.160831451416016, 37.654762268066406, 36.19391632080078, 34.777496337890625, 33.40480041503906, 32.07505416870117, 30.78738784790039, 29.54104995727539, 28.335323333740234, 27.16915512084961, 26.041866302490234, 24.95269775390625, 23.90072250366211, 22.885047912597656, 21.904903411865234, 20.95940399169922, 20.047719955444336, 19.169042587280273, 18.322528839111328, 17.507326126098633, 16.722597122192383, 15.967491149902344, 15.241226196289062, 14.542990684509277, 13.871978759765625, 13.227398872375488, 12.60838508605957, 12.014287948608398, 11.444250106811523, 10.897555351257324, 10.373443603515625, 9.871209144592285, 9.390093803405762, 8.92943000793457, 8.488451957702637, 8.066595077514648, 7.663142681121826, 7.277392387390137, 6.908781051635742, 6.556619644165039, 6.2203874588012695, 5.899447441101074, 5.593210697174072, 5.301120758056641, 5.022608757019043, 4.757206439971924, 4.504352569580078, 4.263561248779297, 4.034317970275879, 3.8161680698394775, 3.608646869659424, 3.411328077316284, 3.2237513065338135, 3.0455405712127686, 2.8762433528900146, 2.715505599975586, 2.5629191398620605, 2.4181761741638184, 2.280876874923706, 2.150704860687256, 2.027315378189087, 1.9104199409484863, 1.7997121810913086, 1.6948999166488647, 1.5956835746765137, 1.5018227100372314, 1.41305410861969, 1.3291231393814087, 1.2498071193695068, 1.1748563051223755, 1.104077696800232, 1.037241816520691, 0.9741746783256531, 0.9146525263786316, 0.8585177063941956, 0.8055942058563232, 0.7557007074356079, 0.7086975574493408, 0.6644183397293091, 0.6227205991744995, 0.5834777355194092, 0.5465360283851624, 0.5117976069450378, 0.47912245988845825, 0.44840124249458313, 0.4195344150066376, 0.39241093397140503, 0.366936057806015, 0.34301692247390747, 0.32056644558906555, 0.29949623346328735, 0.2797349989414215, 0.261203795671463, 0.24383366107940674, 0.2275516837835312, 0.2122977077960968, 0.19800999760627747, 0.18463286757469177, 0.17211104929447174, 0.1603919267654419, 0.14943021535873413, 0.1391800343990326, 0.12959465384483337, 0.12063752859830856, 0.11226855963468552, 0.10445073992013931, 0.0971502736210823, 0.09033523499965668, 0.08397535979747772, 0.07804006338119507, 0.07250621914863586, 0.06734634935855865, 0.06253482401371002, 0.05804990977048874, 0.05387226492166519, 0.04998276010155678, 0.04636165872216225, 0.04299122467637062, 0.03985266387462616, 0.03693211078643799, 0.03421913832426071, 0.031695205718278885, 0.02935069426894188, 0.027170106768608093, 0.025146150961518288, 0.023265046998858452, 0.021518856287002563, 0.019898919388651848, 0.018394973129034042, 0.01700037159025669, 0.015706945210695267, 0.014508032239973545, 0.013396874070167542, 0.012367026880383492, 0.011412370949983597, 0.010529942810535431, 0.009712125174701214, 0.008955001831054688, 0.008255237713456154, 0.007606542203575373, 0.007008809596300125, 0.006454602349549532, 0.005943825002759695, 0.005470738280564547, 0.005033817607909441, 0.004631063900887966, 0.004259645473212004, 0.0039158593863248825, 0.0035987363662570715, 0.003306803060695529, 0.003037409158423543, 0.0027894247323274612, 0.0025604860857129097, 0.0023498099762946367, 0.0021556736901402473, 0.0019770669750869274]\n",
            "mae:  [18.87639808654785, 18.739696502685547, 18.55951690673828, 18.29793930053711, 17.977397918701172, 17.855716705322266, 17.83377456665039, 17.827571868896484, 17.830907821655273, 17.836685180664062, 17.88982391357422, 17.942020416259766, 17.956384658813477, 17.936878204345703, 17.89065170288086, 17.826690673828125, 17.751123428344727, 17.706411361694336, 17.676794052124023, 17.650272369384766, 17.62795639038086, 17.610210418701172, 17.596637725830078, 17.586170196533203, 17.57724952697754, 17.578691482543945, 17.586328506469727, 17.58280372619629, 17.566864013671875, 17.538911819458008, 17.50075340270996, 17.455333709716797, 17.41610336303711, 17.385175704956055, 17.355531692504883, 17.328428268432617, 17.304691314697266, 17.284549713134766, 17.267629623413086, 17.25301742553711, 17.239442825317383, 17.22552490234375, 17.214702606201172, 17.201000213623047, 17.180072784423828, 17.152240753173828, 17.119821548461914, 17.091426849365234, 17.062536239624023, 17.034374237060547, 17.008018493652344, 16.984201431274414, 16.96318817138672, 16.94472885131836, 16.928129196166992, 16.912389755249023, 16.896408081054688, 16.879180908203125, 16.859975814819336, 16.838443756103516, 16.814661026000977, 16.78908920288086, 16.762493133544922, 16.735782623291016, 16.709842681884766, 16.685361862182617, 16.662715911865234, 16.64188003540039, 16.622474670410156, 16.60384750366211, 16.585222244262695, 16.56585121154785, 16.545175552368164, 16.522912979125977, 16.499107360839844, 16.474092483520508, 16.448421478271484, 16.422744750976562, 16.397668838500977, 16.37362289428711, 16.350801467895508, 16.329097747802734, 16.30817222595215, 16.28752326965332, 16.2665958404541, 16.24492645263672, 16.222213745117188, 16.198381423950195, 16.173580169677734, 16.148143768310547, 16.122499465942383, 16.09707260131836, 16.072195053100586, 16.048023223876953, 16.024526596069336, 16.00149154663086, 15.978594779968262, 15.955476760864258, 15.9318265914917, 15.90745735168457, 15.882333755493164, 15.856576919555664, 15.830424308776855, 15.804163932800293, 15.778068542480469, 15.752326965332031, 15.727002143859863, 15.7020263671875, 15.677227973937988, 15.652368545532227, 15.627218246459961, 15.601605415344238, 15.575448989868164, 15.54878044128418, 15.521726608276367, 15.494465827941895, 15.467178344726562, 15.440011978149414, 15.413029670715332, 15.386212348937988, 15.359458923339844, 15.332621574401855, 15.305551528930664, 15.278124809265137, 15.250287055969238, 15.222051620483398, 15.19349479675293, 15.164735794067383, 15.135904312133789, 15.109265327453613, 15.08268928527832, 15.05615234375, 15.029583930969238, 15.0028715133667, 14.975912094116211, 14.948633193969727, 14.921000480651855, 14.893035888671875, 14.864797592163086, 14.83636474609375, 14.807812690734863, 14.77918529510498, 14.750490188598633, 14.721694946289062, 14.69273853302002, 14.663549423217773, 14.634068489074707, 14.604257583618164, 14.574116706848145, 14.543673515319824, 14.512975692749023, 14.482070922851562, 14.450994491577148, 14.419755935668945, 14.388338088989258, 14.35669994354248, 14.324795722961426, 14.292577743530273, 14.260022163391113, 14.227117538452148, 14.193883895874023, 14.160346984863281, 14.12653636932373, 14.092473983764648, 14.05816650390625, 14.023595809936523, 13.988740921020508, 13.953564643859863, 13.918037414550781, 13.882145881652832, 13.8458890914917, 13.80927562713623, 13.772331237792969, 13.735069274902344, 13.697504043579102, 13.659631729125977, 13.621439933776855, 13.582908630371094, 13.544018745422363, 13.504751205444336, 13.465106010437012, 13.425085067749023, 13.38470458984375, 13.343976974487305, 13.302915573120117, 13.261520385742188, 13.2197904586792, 13.177709579467773, 13.135269165039062, 13.09245777130127, 13.049270629882812, 13.005711555480957, 12.961790084838867, 12.917516708374023, 12.872901916503906, 12.82794189453125, 12.782638549804688, 12.736976623535156, 12.690951347351074, 12.644553184509277, 12.59778118133545, 12.550638198852539, 12.503128051757812, 12.4552583694458, 12.40703010559082, 12.358444213867188, 12.309492111206055, 12.260167121887207, 12.210461616516113, 12.160369873046875, 12.109890937805176, 12.059027671813965, 12.007783889770508, 11.956159591674805, 11.904153823852539, 11.851761817932129, 11.798978805541992, 11.74580192565918, 11.692222595214844, 11.6382417678833, 11.5838623046875, 11.529084205627441, 11.473909378051758, 11.418339729309082, 11.362371444702148, 11.306001663208008, 11.249229431152344, 11.19205093383789, 11.134468078613281, 11.076482772827148, 11.018098831176758, 10.959317207336426, 10.900138854980469, 10.84056568145752, 10.780592918395996, 10.720224380493164, 10.659456253051758, 10.59829330444336, 10.536737442016602, 10.474793434143066, 10.412461280822754, 10.34974193572998, 10.286636352539062, 10.223145484924316, 10.159271240234375, 10.095012664794922, 10.030375480651855, 9.965362548828125, 9.899978637695312, 9.834223747253418, 9.768101692199707, 9.70161247253418, 9.634759902954102, 9.567548751831055, 9.499982833862305, 9.432065963745117, 9.363805770874023, 9.295202255249023, 9.226261138916016, 9.156988143920898, 9.087387084960938, 9.017462730407715, 8.947222709655762, 8.876673698425293, 8.80582046508789, 8.73466968536377, 8.663227081298828, 8.591498374938965, 8.519492149353027, 8.447216987609863, 8.374677658081055, 8.301883697509766, 8.228842735290527, 8.155563354492188, 8.082054138183594, 8.008320808410645, 7.9343767166137695, 7.860228061676025, 7.785884857177734, 7.711356163024902, 7.636656284332275, 7.561789035797119, 7.486769199371338, 7.4116058349609375, 7.336312770843506, 7.260894775390625, 7.185366630554199, 7.1097412109375, 7.03402853012085, 6.958242893218994, 6.882391929626465, 6.806490421295166, 6.730550289154053, 6.654585361480713, 6.578604698181152, 6.50262451171875, 6.426658630371094, 6.350718021392822, 6.274815559387207, 6.198964595794678, 6.123180389404297, 6.047475337982178, 5.971863746643066, 5.896359920501709, 5.820976257324219, 5.745728492736816, 5.670627593994141, 5.5956902503967285, 5.52092981338501, 5.446361541748047, 5.3719964027404785, 5.297850608825684, 5.22393798828125, 5.150271415710449, 5.07686710357666, 5.003737926483154, 4.9308977127075195, 4.858361721038818, 4.786139965057373, 4.714249610900879, 4.642702579498291, 4.571512699127197, 4.500694751739502, 4.430259704589844, 4.360221862792969, 4.290594100952148, 4.221388816833496, 4.152619361877441, 4.084298133850098, 4.016434669494629, 3.949042797088623, 3.882136583328247, 3.8157238960266113, 3.7498176097869873, 3.68442964553833, 3.6195690631866455, 3.5552477836608887, 3.4914755821228027, 3.428260326385498, 3.365615129470825, 3.3035483360290527, 3.2420687675476074, 3.181183338165283, 3.1209042072296143, 3.061234951019287, 3.0021884441375732, 2.943767547607422, 2.885982036590576, 2.8288369178771973, 2.7723400592803955, 2.716496467590332, 2.661313533782959, 2.606797456741333, 2.5529468059539795, 2.4997687339782715, 2.447274684906006, 2.3954601287841797, 2.3443312644958496, 2.2938904762268066, 2.2441422939300537, 2.1950843334198, 2.146726608276367, 2.099064350128174, 2.052100658416748, 2.0058364868164062, 1.9602711200714111, 1.9154081344604492, 1.8712434768676758, 1.827779769897461, 1.7850147485733032, 1.7429449558258057, 1.7015737295150757, 1.6608951091766357, 1.6209089756011963, 1.5816102027893066, 1.5430017709732056, 1.5050734281539917, 1.4678281545639038, 1.4312548637390137, 1.3953579664230347, 1.3601293563842773, 1.3255634307861328, 1.291656494140625, 1.2584035396575928, 1.2258011102676392, 1.1938424110412598, 1.162521481513977, 1.1318327188491821, 1.1017686128616333, 1.072326898574829, 1.0434989929199219, 1.0152777433395386, 0.987657368183136, 0.9606302380561829, 0.9341897964477539, 0.9083293676376343, 0.8830392956733704, 0.8583186864852905, 0.8341526985168457, 0.8105371594429016, 0.787462592124939, 0.7649258375167847, 0.7429143190383911, 0.7214227914810181, 0.7004410624504089, 0.6799631118774414, 0.6599812507629395, 0.6404871344566345, 0.6214703321456909, 0.6029255986213684, 0.5848439931869507, 0.5672171115875244, 0.5500389337539673, 0.5332974791526794, 0.5169883966445923, 0.5011011362075806, 0.485630601644516, 0.47056475281715393, 0.45589834451675415, 0.44162455201148987, 0.42773181200027466, 0.4142166078090668, 0.40106910467147827, 0.38828012347221375, 0.375846266746521, 0.36375343799591064, 0.35200273990631104, 0.3405795991420746, 0.32947903871536255, 0.3186960518360138, 0.3082210421562195, 0.2980464994907379, 0.2881680727005005, 0.27857697010040283, 0.26926425099372864, 0.2602275311946869, 0.25145888328552246, 0.24295258522033691, 0.23469996452331543, 0.22669482231140137, 0.21893250942230225, 0.2114059180021286, 0.20411022007465363, 0.19703805446624756, 0.1901840716600418, 0.18354380130767822, 0.17710986733436584, 0.17087875306606293, 0.16484412550926208, 0.15900000929832458, 0.15334174036979675, 0.14786508679389954, 0.14256441593170166, 0.13743312656879425, 0.13247022032737732, 0.12766869366168976, 0.12302382290363312, 0.11852999031543732, 0.11418483406305313, 0.1099846139550209, 0.10592523962259293, 0.10200290381908417, 0.09820930659770966, 0.0945417582988739, 0.09100259095430374, 0.0875820443034172, 0.08428089320659637, 0.08108986169099808, 0.07801134139299393, 0.07503695785999298, 0.07216561585664749, 0.06939634680747986, 0.06672246754169464, 0.06414355337619781, 0.06165642291307449, 0.05925669148564339, 0.056941308081150055, 0.054708629846572876, 0.05255588889122009, 0.05048388987779617, 0.048483677208423615, 0.046554677188396454, 0.044699735939502716, 0.04290826991200447, 0.04118715971708298, 0.03952605277299881, 0.037929944694042206, 0.0363897979259491, 0.03490665555000305, 0.033480506390333176, 0.03210954740643501, 0.030787557363510132, 0.029515301808714867, 0.028292780742049217, 0.027115005999803543, 0.02598446048796177, 0.024896269664168358, 0.023851042613387108, 0.022844290360808372, 0.0218767412006855]\n"
          ],
          "name": "stdout"
        },
        {
          "output_type": "display_data",
          "data": {
            "image/png": "[encoded data removed]",
            "text/plain": [
              "<Figure size 360x720 with 2 Axes>"
            ]
          },
          "metadata": {
            "tags": [],
            "needs_background": "light"
          }
        }
      ]
    },
    {
      "cell_type": "code",
      "metadata": {
        "id": "k6XSgSit7dE3",
        "colab": {
          "base_uri": "https://localhost:8080/",
          "height": 704
        },
        "outputId": "b3a1caaf-1b21-4348-bfe7-1315ccb39171"
      },
      "source": [
        "print(H.history.keys())\n",
        "print(\"loss: \", H.history[\"loss\"])\n",
        "print(\"mae: \", H.history[\"mae\"])\n",
        "# print(\"val_loss: \", H.history[\"val_loss\"])\n",
        "# print(\"val_mae: \", H.history[\"val_mae\"])\n",
        "\n",
        "lim = 2\n",
        "\n",
        "fig, ax = plt.subplots(2,1,figsize=(5,10))\n",
        "fig.subplots_adjust(hspace=0.35)\n",
        "\n",
        "ax[0].plot(H.history[\"loss\"][lim:])\n",
        "# ax[0].plot(H.history[\"val_loss\"][lim:])\n",
        "ax[0].set_title(\"loss vs epoch\", fontsize=20)\n",
        "ax[0].set_xlabel(\"epoch\", fontsize=15)\n",
        "ax[0].set_ylabel(\"loss\", fontsize=15)\n",
        "ax[0].set_yscale(\"log\")\n",
        "ax[0].legend([\"train\",\"val\"])\n",
        "ax[0].grid(True)\n",
        "\n",
        "\n",
        "ax[1].plot(H.history[\"mae\"][lim:])\n",
        "# ax[1].plot(H.history[\"val_mae\"][lim:])\n",
        "ax[1].set_title(\"mae vs epoch\", fontsize=20)\n",
        "ax[1].set_xlabel(\"epoch\", fontsize=15)\n",
        "ax[1].set_ylabel(\"mae\", fontsize=15)\n",
        "ax[1].legend([\"train\",\"val\"])\n",
        "ax[1].grid(True)\n"
      ],
      "execution_count": 46,
      "outputs": [
        {
          "output_type": "stream",
          "text": [
            "dict_keys(['loss', 'mae'])\n",
            "loss:  [126944.15625, 125522.3984375, 124109.0546875, 122704.2421875, 121308.1015625, 119920.734375, 118542.296875, 117172.9140625, 115812.6953125, 114461.796875, 113120.296875, 111788.3046875, 110465.9296875, 109153.2890625, 107850.4453125, 106557.4921875, 105274.5546875, 104001.6484375, 102738.8984375, 101486.3046875, 100243.9921875, 99011.9765625, 97790.296875, 96579.0546875, 95378.234375, 94187.8671875, 93007.9921875, 91838.6484375, 90679.8203125, 89531.53125, 88393.8125, 87266.6640625, 86150.0546875, 85043.9609375, 83948.4375, 82863.4296875, 81788.9375, 80724.9375, 79671.390625, 78628.3046875, 77595.609375, 76573.28125, 75561.328125, 74559.640625, 73568.2421875, 72587.078125, 71616.0859375, 70655.21875, 69704.4609375, 68763.75, 67833.0078125, 66912.2109375, 66001.3203125, 65100.234375, 64208.93359375, 63327.3671875, 62455.44140625, 61593.12890625, 60740.3671875, 59897.09375, 59063.25, 58238.7421875, 57423.5625, 56617.60546875, 55820.84375, 55033.1796875, 54254.58984375, 53484.98046875, 52724.28515625, 51972.453125, 51229.40234375, 50495.0859375, 49769.4375, 49052.37890625, 48343.87109375, 47643.8203125, 46952.1640625, 46268.8515625, 45593.8046875, 44926.95703125, 44268.25, 43617.62109375, 42974.99609375, 42340.3046875, 41713.5, 41094.4921875, 40483.23046875, 39879.65625, 39283.6796875, 38695.2578125, 38114.3125, 37540.7890625, 36974.62109375, 36415.7265625, 35864.0546875, 35319.5546875, 34782.13671875, 34251.73828125, 33728.3125, 33211.78515625, 32702.091796875, 32199.173828125, 31702.95703125, 31213.396484375, 30730.40625, 30253.9375, 29783.921875, 29320.302734375, 28863.0234375, 28411.99609375, 27967.1875, 27528.517578125, 27095.935546875, 26669.3828125, 26248.78125, 25834.08984375, 25425.232421875, 25022.162109375, 24624.814453125, 24233.12109375, 23847.03515625, 23466.486328125, 23091.4296875, 22721.79296875, 22357.52734375, 21998.57421875, 21644.86328125, 21296.349609375, 20952.9765625, 20614.677734375, 20281.408203125, 19953.09765625, 19629.71484375, 19311.173828125, 18997.44140625, 18688.453125, 18384.154296875, 18084.4921875, 17789.419921875, 17498.875, 17212.802734375, 16931.158203125, 16653.880859375, 16380.923828125, 16112.23046875, 15847.755859375, 15587.443359375, 15331.2421875, 15079.107421875, 14830.98046875, 14586.81640625, 14346.564453125, 14110.17578125, 13877.6015625, 13648.7919921875, 13423.7041015625, 13202.2783203125, 12984.474609375, 12770.25390625, 12559.5615234375, 12352.3486328125, 12148.57421875, 11948.1943359375, 11751.154296875, 11557.4189453125, 11366.939453125, 11179.67578125, 10995.576171875, 10814.609375, 10636.7236328125, 10461.8740234375, 10290.0283203125, 10121.140625, 9955.1630859375, 9792.060546875, 9631.794921875, 9474.3212890625, 9319.6015625, 9167.5947265625, 9018.267578125, 8871.5703125, 8727.4716796875, 8585.9326171875, 8446.91796875, 8310.384765625, 8176.3037109375, 8044.6318359375, 7915.33837890625, 7788.3779296875, 7663.7255859375, 7541.34375, 7421.19775390625, 7303.248046875, 7187.466796875, 7073.8203125, 6962.27490234375, 6852.796875, 6745.349609375, 6639.90673828125, 6536.4326171875, 6434.904296875, 6335.2822265625, 6237.5380859375, 6141.6435546875, 6047.5634765625, 5955.2734375, 5864.7431640625, 5775.947265625, 5688.8486328125, 5603.42578125, 5519.65087890625, 5437.49609375, 5356.9326171875, 5277.9306640625, 5200.4716796875, 5124.5205078125, 5050.0615234375, 4977.060546875, 4905.5, 4835.35009765625, 4766.587890625, 4699.189453125, 4633.1328125, 4568.38427734375, 4504.93359375, 4442.75537109375, 4381.82421875, 4322.11865234375, 4263.6171875, 4206.3017578125, 4150.140625, 4095.12548828125, 4041.22314453125, 3988.4248046875, 3936.708740234375, 3886.046875, 3836.42822265625, 3787.83154296875, 3740.2373046875, 3693.626220703125, 3647.973876953125, 3603.2734375, 3559.50048828125, 3516.64013671875, 3474.675537109375, 3433.587890625, 3393.358154296875, 3353.978515625, 3315.421875, 3277.6767578125, 3240.73388671875, 3204.5693359375, 3169.17138671875, 3134.52099609375, 3100.60986328125, 3067.421142578125, 3034.940185546875, 3003.14892578125, 2972.04248046875, 2941.6025390625, 2911.814453125, 2882.668212890625, 2854.140869140625, 2826.2353515625, 2798.930908203125, 2772.2158203125, 2746.080810546875, 2720.506591796875, 2695.48974609375, 2671.017578125, 2647.0751953125, 2623.6552734375, 2600.74365234375, 2578.33447265625, 2556.412109375, 2534.96630859375, 2513.9912109375, 2493.4794921875, 2473.40966796875, 2453.784423828125, 2434.5869140625, 2415.814453125, 2397.45166015625, 2379.491943359375, 2361.9296875, 2344.75146484375, 2327.9521484375, 2311.5244140625, 2295.45556640625, 2279.742919921875, 2264.3740234375, 2249.343017578125, 2234.6484375, 2220.27490234375, 2206.21923828125, 2192.4716796875, 2179.024658203125, 2165.877685546875, 2153.0205078125, 2140.44677734375, 2128.14599609375, 2116.11962890625, 2104.357666015625, 2092.85009765625, 2081.60009765625, 2070.593994140625, 2059.830322265625, 2049.306396484375, 2039.0087890625, 2028.936279296875, 2019.08837890625, 2009.4501953125, 2000.025390625, 1990.80126953125, 1981.7802734375, 1972.957763671875, 1964.32470703125, 1955.8739013671875, 1947.61669921875, 1939.5274658203125, 1931.617431640625, 1923.87646484375, 1916.300048828125, 1908.8916015625, 1901.6361083984375, 1894.5350341796875, 1887.585693359375, 1880.7877197265625, 1874.1258544921875, 1867.607421875, 1861.2275390625, 1854.98388671875, 1848.868896484375, 1842.880615234375, 1837.0172119140625, 1831.276611328125, 1825.6513671875, 1820.1416015625, 1814.7486572265625, 1809.46435546875, 1804.285888671875, 1799.21533203125, 1794.24609375, 1789.373291015625, 1784.60498046875, 1779.926025390625, 1775.34423828125, 1770.85009765625, 1766.443115234375, 1762.125732421875, 1757.890380859375, 1753.740234375, 1749.6630859375, 1745.6719970703125, 1741.751708984375, 1737.907470703125, 1734.1357421875, 1730.432861328125, 1726.802734375, 1723.236083984375, 1719.73291015625, 1716.29833984375, 1712.92822265625, 1709.6162109375, 1706.36181640625, 1703.168701171875, 1700.02978515625, 1696.94580078125, 1693.9141845703125, 1690.938232421875, 1688.013427734375, 1685.1357421875, 1682.3076171875, 1679.526123046875, 1676.79345703125, 1674.1046142578125, 1671.4578857421875, 1668.8551025390625, 1666.2960205078125, 1663.77978515625, 1661.29736328125, 1658.855712890625, 1656.453369140625, 1654.0902099609375, 1651.758544921875, 1649.46435546875, 1647.2032470703125, 1644.9755859375, 1642.7822265625, 1640.6201171875, 1638.491943359375, 1636.389404296875, 1634.31884765625, 1632.2774658203125, 1630.26318359375, 1628.281494140625, 1626.319091796875, 1624.3857421875, 1622.47607421875, 1620.596435546875, 1618.739990234375, 1616.904052734375, 1615.0919189453125, 1613.30615234375, 1611.541748046875, 1609.7974853515625, 1608.0751953125, 1606.375, 1604.69287109375, 1603.0303955078125, 1601.38818359375, 1599.760986328125, 1598.155029296875, 1596.5711669921875, 1595.0006103515625, 1593.447509765625, 1591.9105224609375, 1590.39111328125, 1588.8843994140625, 1587.399658203125, 1585.927978515625, 1584.470947265625, 1583.029541015625, 1581.5986328125, 1580.184814453125, 1578.785888671875, 1577.3990478515625, 1576.026123046875, 1574.666259765625, 1573.317138671875, 1571.978515625, 1570.656494140625, 1569.34521484375, 1568.0443115234375, 1566.7581787109375, 1565.482177734375, 1564.2169189453125, 1562.957275390625, 1561.715087890625, 1560.479248046875, 1559.255615234375, 1558.041259765625, 1556.8349609375, 1555.6416015625, 1554.454833984375, 1553.280517578125, 1552.1126708984375, 1550.9541015625, 1549.805419921875, 1548.6619873046875, 1547.529296875, 1546.40380859375, 1545.28857421875, 1544.1802978515625, 1543.079345703125, 1541.98681640625, 1540.90185546875, 1539.8258056640625, 1538.7548828125, 1537.689453125, 1536.6326904296875, 1535.586181640625, 1534.5439453125, 1533.50732421875, 1532.4764404296875, 1531.456787109375, 1530.4420166015625, 1529.433349609375, 1528.43017578125, 1527.434326171875, 1526.440185546875, 1525.4580078125, 1524.4794921875, 1523.5069580078125, 1522.5400390625, 1521.5791015625, 1520.619873046875, 1519.670654296875, 1518.728271484375, 1517.789306640625, 1516.8564453125, 1515.92724609375, 1515.0028076171875, 1514.08447265625, 1513.172607421875, 1512.263671875, 1511.35986328125, 1510.462890625, 1509.5673828125, 1508.6790771484375, 1507.795654296875, 1506.919921875, 1506.04150390625, 1505.1748046875, 1504.3092041015625, 1503.4471435546875, 1502.594482421875, 1501.738525390625, 1500.8916015625, 1500.049560546875, 1499.2099609375, 1498.3739013671875, 1497.545166015625, 1496.7181396484375, 1495.894775390625, 1495.080078125, 1494.263671875, 1493.45263671875, 1492.6492919921875, 1491.843994140625, 1491.0447998046875, 1490.2509765625, 1489.462646484375, 1488.673828125, 1487.890869140625, 1487.1083984375, 1486.33837890625, 1485.56103515625, 1484.7955322265625, 1484.02783203125, 1483.26708984375, 1482.5087890625, 1481.75830078125, 1481.0048828125, 1480.260009765625, 1479.5137939453125, 1478.7724609375, 1478.03662109375, 1477.302001953125, 1476.571044921875, 1475.847412109375, 1475.1204833984375, 1474.400390625, 1473.6805419921875, 1472.96826171875, 1472.2591552734375, 1471.550048828125, 1470.847900390625, 1470.144775390625, 1469.446044921875, 1468.7509765625, 1468.0562744140625, 1467.3671875, 1466.681640625, 1465.99951171875, 1465.31640625, 1464.64111328125, 1463.96728515625, 1463.2958984375, 1462.6260986328125, 1461.958740234375, 1461.29541015625, 1460.636962890625, 1459.979736328125, 1459.3258056640625, 1458.6767578125, 1458.0257568359375, 1457.3779296875, 1456.7344970703125, 1456.09326171875, 1455.456787109375, 1454.820556640625, 1454.1878662109375, 1453.55517578125, 1452.93017578125, 1452.3056640625, 1451.68212890625, 1451.06396484375, 1450.4482421875, 1449.832275390625, 1449.2205810546875, 1448.60888671875, 1448.00146484375, 1447.399658203125, 1446.799560546875, 1446.197021484375, 1445.6015625, 1445.00390625, 1444.413330078125, 1443.822998046875, 1443.234375, 1442.650146484375, 1442.06640625, 1441.485595703125, 1440.906982421875, 1440.330810546875, 1439.7591552734375, 1439.187255859375, 1438.6182861328125, 1438.046875, 1437.4862060546875, 1436.923828125, 1436.364013671875, 1435.8056640625, 1435.24560546875, 1434.69482421875, 1434.144287109375, 1433.59326171875, 1433.043212890625, 1432.49755859375, 1431.957763671875, 1431.4144287109375, 1430.8779296875, 1430.34130859375, 1429.804443359375, 1429.27197265625, 1428.738525390625, 1428.212890625, 1427.68359375, 1427.160888671875, 1426.6405029296875, 1426.11767578125, 1425.59765625, 1425.0794677734375, 1424.5655517578125, 1424.0478515625, 1423.5408935546875, 1423.029541015625, 1422.517822265625, 1422.013427734375, 1421.51123046875, 1421.0087890625, 1420.510009765625, 1420.011962890625, 1419.51611328125, 1419.0177001953125, 1418.526123046875, 1418.0321044921875, 1417.5450439453125, 1417.05712890625, 1416.56982421875, 1416.08642578125, 1415.6036376953125, 1415.120361328125, 1414.6390380859375, 1414.1617431640625, 1413.6864013671875, 1413.213623046875, 1412.7427978515625, 1412.26708984375, 1411.7982177734375, 1411.331298828125, 1410.865966796875, 1410.3988037109375, 1409.93994140625, 1409.472412109375, 1409.0155029296875, 1408.555908203125, 1408.09814453125, 1407.64306640625, 1407.193603515625, 1406.737548828125, 1406.284912109375, 1405.837646484375, 1405.3892822265625, 1404.9405517578125, 1404.4989013671875, 1404.054443359375, 1403.6112060546875, 1403.1695556640625, 1402.732177734375, 1402.2911376953125, 1401.857421875, 1401.4212646484375, 1400.9893798828125, 1400.5546875, 1400.123779296875, 1399.690673828125, 1399.265869140625, 1398.83740234375, 1398.411865234375, 1397.9873046875, 1397.5662841796875, 1397.14111328125, 1396.7215576171875, 1396.303955078125, 1395.8836669921875, 1395.46923828125, 1395.054443359375, 1394.634521484375, 1394.2275390625, 1393.810302734375, 1393.40185546875, 1392.98876953125, 1392.5849609375, 1392.17431640625, 1391.769775390625, 1391.36474609375, 1390.9610595703125, 1390.56103515625, 1390.157470703125, 1389.75830078125, 1389.3582763671875, 1388.961181640625, 1388.56201171875, 1388.1656494140625, 1387.7755126953125, 1387.380126953125, 1386.98681640625, 1386.592529296875, 1386.203369140625, 1385.8153076171875, 1385.4267578125, 1385.0390625, 1384.6512451171875, 1384.27099609375, 1383.8858642578125, 1383.4993896484375, 1383.11865234375, 1382.7364501953125, 1382.356201171875, 1381.9749755859375, 1381.599365234375, 1381.2227783203125, 1380.8463134765625, 1380.4725341796875, 1380.0968017578125, 1379.722900390625, 1379.3515625, 1378.9801025390625, 1378.605224609375, 1378.2354736328125, 1377.8701171875, 1377.5013427734375, 1377.134765625, 1376.7677001953125, 1376.40087890625, 1376.0384521484375, 1375.67333984375, 1375.31005859375, 1374.9447021484375, 1374.58740234375, 1374.22509765625, 1373.8658447265625, 1373.5068359375, 1373.149658203125, 1372.7906494140625, 1372.43701171875, 1372.080322265625, 1371.7242431640625, 1371.370849609375, 1371.018798828125, 1370.6630859375, 1370.3145751953125, 1369.961669921875, 1369.610595703125, 1369.2603759765625, 1368.9130859375, 1368.56689453125, 1368.2193603515625, 1367.8726806640625, 1367.52392578125, 1367.1798095703125, 1366.83544921875, 1366.4888916015625, 1366.1474609375, 1365.8037109375, 1365.463623046875, 1365.1224365234375, 1364.780029296875, 1364.44091796875, 1364.102294921875, 1363.763427734375, 1363.4267578125, 1363.089599609375, 1362.7550048828125, 1362.4166259765625, 1362.0833740234375, 1361.74462890625, 1361.41259765625, 1361.079345703125, 1360.7447509765625, 1360.41015625, 1360.080810546875, 1359.7496337890625, 1359.4207763671875, 1359.0908203125, 1358.76123046875, 1358.429931640625, 1358.1044921875, 1357.774658203125, 1357.4488525390625, 1357.12353515625, 1356.792236328125, 1356.4703369140625, 1356.14208984375, 1355.820556640625, 1355.4970703125, 1355.17236328125, 1354.847900390625, 1354.52978515625, 1354.20166015625, 1353.8802490234375, 1353.5616455078125, 1353.2384033203125, 1352.92236328125, 1352.6024169921875, 1352.2845458984375, 1351.96240234375, 1351.645751953125, 1351.326904296875, 1351.0089111328125, 1350.6943359375, 1350.3778076171875, 1350.0618896484375, 1349.7469482421875, 1349.4315185546875, 1349.116455078125, 1348.802001953125, 1348.48486328125, 1348.1719970703125, 1347.8594970703125, 1347.5517578125, 1347.23779296875, 1346.9251708984375, 1346.6138916015625, 1346.302001953125, 1345.990966796875, 1345.6812744140625, 1345.3740234375, 1345.0648193359375, 1344.75146484375, 1344.444091796875, 1344.1376953125, 1343.829345703125, 1343.52001953125, 1343.21533203125, 1342.908447265625, 1342.598388671875, 1342.295654296875, 1341.98681640625, 1341.68408203125, 1341.3797607421875, 1341.07080078125, 1340.7666015625, 1340.4658203125, 1340.15966796875, 1339.854736328125, 1339.5535888671875, 1339.24853515625, 1338.95068359375, 1338.645751953125, 1338.34228515625, 1338.043701171875, 1337.7418212890625, 1337.440185546875, 1337.1390380859375, 1336.837890625, 1336.538330078125, 1336.23876953125, 1335.93994140625, 1335.640380859375, 1335.3419189453125, 1335.0391845703125, 1334.7447509765625, 1334.446044921875, 1334.147216796875, 1333.8504638671875, 1333.55029296875, 1333.255126953125, 1332.959228515625, 1332.660888671875, 1332.3648681640625, 1332.0704345703125, 1331.77392578125, 1331.476318359375, 1331.1815185546875, 1330.8834228515625, 1330.5921630859375, 1330.2998046875, 1330.0013427734375, 1329.70849609375, 1329.415283203125, 1329.118408203125, 1328.824462890625, 1328.5325927734375, 1328.2381591796875, 1327.9439697265625, 1327.65234375, 1327.359130859375, 1327.068115234375, 1326.77392578125, 1326.4854736328125, 1326.192626953125, 1325.8984375, 1325.6065673828125, 1325.317138671875, 1325.0240478515625, 1324.7353515625, 1324.44384765625, 1324.1544189453125, 1323.86181640625, 1323.5731201171875, 1323.27978515625, 1322.991943359375, 1322.6998291015625, 1322.411865234375, 1322.12255859375, 1321.83447265625, 1321.544189453125, 1321.258544921875, 1320.96533203125, 1320.6776123046875, 1320.3900146484375, 1320.1014404296875, 1319.8165283203125, 1319.5234375, 1319.239990234375, 1318.948974609375, 1318.6661376953125, 1318.3763427734375, 1318.087890625, 1317.80029296875, 1317.5130615234375, 1317.224609375, 1316.9378662109375, 1316.650146484375, 1316.37060546875, 1316.0810546875, 1315.7923583984375, 1315.508056640625, 1315.2193603515625, 1314.9342041015625, 1314.6488037109375, 1314.3642578125, 1314.07666015625, 1313.790771484375, 1313.507080078125, 1313.2216796875, 1312.938232421875, 1312.64892578125, 1312.3677978515625, 1312.079345703125, 1311.79541015625, 1311.510009765625, 1311.2264404296875, 1310.943115234375, 1310.6575927734375, 1310.373046875, 1310.08837890625, 1309.8050537109375, 1309.5181884765625, 1309.2373046875, 1308.955078125, 1308.668212890625, 1308.38427734375, 1308.102294921875, 1307.8193359375, 1307.533447265625, 1307.25244140625, 1306.9688720703125, 1306.6827392578125, 1306.403076171875, 1306.1168212890625, 1305.8363037109375, 1305.552978515625, 1305.26806640625, 1304.9853515625, 1304.7008056640625, 1304.4219970703125, 1304.13818359375, 1303.853515625, 1303.571533203125, 1303.291259765625, 1303.005859375, 1302.723876953125, 1302.442626953125, 1302.160400390625, 1301.8795166015625, 1301.5960693359375, 1301.3160400390625, 1301.0323486328125, 1300.7470703125, 1300.4678955078125, 1300.187255859375, 1299.9019775390625, 1299.62158203125, 1299.3388671875, 1299.058837890625, 1298.775390625, 1298.4931640625, 1298.2169189453125, 1297.9326171875, 1297.6494140625, 1297.3677978515625, 1297.0872802734375, 1296.809326171875, 1296.5272216796875, 1296.24462890625, 1295.96142578125, 1295.6842041015625, 1295.4013671875, 1295.11962890625, 1294.8387451171875, 1294.556640625, 1294.2779541015625, 1293.994140625, 1293.713134765625, 1293.43310546875, 1293.150146484375]\n",
            "mae:  [18.873132705688477, 18.87113380432129, 18.8691349029541, 18.86713409423828, 18.865135192871094, 18.863134384155273, 18.861135482788086, 18.859140396118164, 18.85714340209961, 18.855144500732422, 18.853151321411133, 18.85115623474121, 18.849163055419922, 18.847171783447266, 18.84518051147461, 18.843191146850586, 18.841203689575195, 18.839216232299805, 18.83723258972168, 18.835248947143555, 18.833271026611328, 18.831289291381836, 18.82931137084961, 18.82733726501465, 18.825363159179688, 18.82339096069336, 18.821422576904297, 18.819456100463867, 18.817493438720703, 18.81553077697754, 18.81357192993164, 18.811614990234375, 18.809659957885742, 18.807708740234375, 18.80575942993164, 18.803813934326172, 18.801870346069336, 18.799930572509766, 18.797992706298828, 18.796056747436523, 18.794124603271484, 18.79219627380371, 18.790271759033203, 18.788349151611328, 18.786428451538086, 18.78451156616211, 18.7825984954834, 18.780689239501953, 18.77878189086914, 18.776880264282227, 18.774980545043945, 18.773082733154297, 18.771188735961914, 18.769298553466797, 18.767414093017578, 18.76552963256836, 18.76365089416504, 18.761775970458984, 18.759902954101562, 18.758031845092773, 18.756168365478516, 18.754304885864258, 18.7524471282959, 18.750591278076172, 18.748743057250977, 18.74689292907715, 18.74505043029785, 18.743209838867188, 18.741374969482422, 18.73954200744629, 18.737712860107422, 18.735889434814453, 18.734066009521484, 18.732250213623047, 18.73043441772461, 18.728626251220703, 18.72681999206543, 18.725017547607422, 18.72321891784668, 18.721426010131836, 18.719635009765625, 18.71784782409668, 18.716066360473633, 18.71428680419922, 18.712512969970703, 18.71074104309082, 18.708972930908203, 18.707210540771484, 18.7054500579834, 18.70369529724121, 18.70194435119629, 18.700197219848633, 18.698453903198242, 18.696714401245117, 18.69498062133789, 18.693248748779297, 18.69152069091797, 18.68979835510254, 18.688077926635742, 18.686363220214844, 18.68465232849121, 18.68294334411621, 18.68124008178711, 18.679540634155273, 18.677845001220703, 18.6761531829834, 18.67446517944336, 18.67278289794922, 18.67110252380371, 18.6694278717041, 18.667755126953125, 18.666088104248047, 18.664424896240234, 18.662765502929688, 18.661109924316406, 18.65945816040039, 18.65781021118164, 18.656166076660156, 18.654525756835938, 18.652889251708984, 18.651256561279297, 18.649629592895508, 18.648006439208984, 18.64638328552246, 18.644765853881836, 18.64315414428711, 18.641544342041016, 18.63994026184082, 18.638338088989258, 18.63673973083496, 18.635147094726562, 18.633556365966797, 18.631969451904297, 18.630386352539062, 18.628808975219727, 18.627233505249023, 18.625659942626953, 18.62409019470215, 18.622528076171875, 18.620967864990234, 18.619409561157227, 18.617855072021484, 18.61630630493164, 18.614757537841797, 18.61321449279785, 18.611675262451172, 18.610137939453125, 18.608606338500977, 18.60707664489746, 18.60555076599121, 18.60402488708496, 18.602506637573242, 18.60099220275879, 18.599477767944336, 18.59796714782715, 18.59646224975586, 18.594959259033203, 18.593456268310547, 18.591960906982422, 18.590465545654297, 18.58897590637207, 18.587488174438477, 18.586002349853516, 18.58452033996582, 18.58304214477539, 18.581565856933594, 18.580093383789062, 18.578622817993164, 18.5771541595459, 18.5756893157959, 18.574228286743164, 18.572769165039062, 18.571311950683594, 18.56985855102539, 18.568408966064453, 18.566957473754883, 18.56551170349121, 18.564067840576172, 18.562625885009766, 18.561189651489258, 18.55975341796875, 18.558319091796875, 18.556888580322266, 18.55545997619629, 18.554033279418945, 18.552608489990234, 18.55118751525879, 18.54976463317871, 18.548349380493164, 18.546932220458984, 18.545520782470703, 18.544109344482422, 18.54269790649414, 18.541292190551758, 18.539886474609375, 18.538482666015625, 18.53708267211914, 18.535682678222656, 18.534284591674805, 18.532888412475586, 18.531494140625, 18.53010368347168, 18.52871322631836, 18.527324676513672, 18.525936126708984, 18.524551391601562, 18.52316665649414, 18.52178382873535, 18.520404815673828, 18.519023895263672, 18.51764678955078, 18.51626968383789, 18.514894485473633, 18.51352310180664, 18.512149810791016, 18.510778427124023, 18.509408950805664, 18.508039474487305, 18.506671905517578, 18.505306243896484, 18.503942489624023, 18.502578735351562, 18.501216888427734, 18.499855041503906, 18.498493194580078, 18.497135162353516, 18.495777130126953, 18.49441909790039, 18.49306297302246, 18.491708755493164, 18.490352630615234, 18.48900032043457, 18.487646102905273, 18.48629379272461, 18.484943389892578, 18.483592987060547, 18.482242584228516, 18.480894088745117, 18.47954750061035, 18.478199005126953, 18.476850509643555, 18.475505828857422, 18.474159240722656, 18.472814559936523, 18.47146987915039, 18.47012710571289, 18.468782424926758, 18.467437744140625, 18.466096878051758, 18.464754104614258, 18.46341323852539, 18.46207046508789, 18.460729598999023, 18.45939064025879, 18.458049774169922, 18.456708908081055, 18.45536994934082, 18.454029083251953, 18.45269012451172, 18.451351165771484, 18.45001220703125, 18.448673248291016, 18.447336196899414, 18.445999145507812, 18.444660186767578, 18.443323135375977, 18.441984176635742, 18.44064712524414, 18.43931007385254, 18.437973022460938, 18.436634063720703, 18.4352970123291, 18.4339599609375, 18.432621002197266, 18.431283950805664, 18.429946899414062, 18.428607940673828, 18.42727279663086, 18.425933837890625, 18.42459487915039, 18.42325782775879, 18.421920776367188, 18.420581817626953, 18.41924476623535, 18.417903900146484, 18.41656494140625, 18.415225982666016, 18.41388702392578, 18.412548065185547, 18.411209106445312, 18.409870147705078, 18.408527374267578, 18.40718650817871, 18.405847549438477, 18.40450668334961, 18.40316390991211, 18.401823043823242, 18.400480270385742, 18.399139404296875, 18.397796630859375, 18.396453857421875, 18.395109176635742, 18.393766403198242, 18.39242172241211, 18.39107894897461, 18.389732360839844, 18.38838768005371, 18.387042999267578, 18.385696411132812, 18.384349822998047, 18.38300132751465, 18.38165283203125, 18.380306243896484, 18.378957748413086, 18.377607345581055, 18.376256942749023, 18.374908447265625, 18.37355613708496, 18.37220573425293, 18.370853424072266, 18.369503021240234, 18.368148803710938, 18.36679458618164, 18.365442276000977, 18.364086151123047, 18.36273193359375, 18.361377716064453, 18.36001968383789, 18.35866355895996, 18.3573055267334, 18.355945587158203, 18.35458755493164, 18.353229522705078, 18.351869583129883, 18.350509643554688, 18.34914779663086, 18.3477840423584, 18.34642219543457, 18.34505844116211, 18.34369468688965, 18.342330932617188, 18.340965270996094, 18.339599609375, 18.338232040405273, 18.336864471435547, 18.33549690246582, 18.33412742614746, 18.3327579498291, 18.33138656616211, 18.33001708984375, 18.328645706176758, 18.327274322509766, 18.325899124145508, 18.324525833129883, 18.323150634765625, 18.321775436401367, 18.32040023803711, 18.319021224975586, 18.317644119262695, 18.316265106201172, 18.31488609313965, 18.313507080078125, 18.31212615966797, 18.31074333190918, 18.30936050415039, 18.3079776763916, 18.306594848632812, 18.30521011352539, 18.303823471069336, 18.302438735961914, 18.301050186157227, 18.299663543701172, 18.29827308654785, 18.296884536743164, 18.295494079589844, 18.29410171508789, 18.292709350585938, 18.291316986083984, 18.2899227142334, 18.288528442382812, 18.287132263183594, 18.285736083984375, 18.284337997436523, 18.282939910888672, 18.281543731689453, 18.280141830444336, 18.278743743896484, 18.277341842651367, 18.27593994140625, 18.2745361328125, 18.27313232421875, 18.271728515625, 18.270320892333984, 18.2689151763916, 18.267507553100586, 18.26609992980957, 18.264690399169922, 18.263280868530273, 18.261869430541992, 18.26045799255371, 18.259044647216797, 18.257633209228516, 18.2562198638916, 18.254802703857422, 18.253387451171875, 18.251972198486328, 18.250553131103516, 18.249134063720703, 18.24771499633789, 18.246294021606445, 18.244873046875, 18.243450164794922, 18.24202537536621, 18.240604400634766, 18.239177703857422, 18.23775291442871, 18.236324310302734, 18.23489761352539, 18.233470916748047, 18.232040405273438, 18.230609893798828, 18.22918128967285, 18.227746963500977, 18.226314544677734, 18.22488021850586, 18.223445892333984, 18.222009658813477, 18.2205753326416, 18.21913719177246, 18.21769905090332, 18.216259002685547, 18.214818954467773, 18.21337890625, 18.211936950683594, 18.210494995117188, 18.209049224853516, 18.207605361938477, 18.206159591674805, 18.204715728759766, 18.203266143798828, 18.201818466186523, 18.200368881225586, 18.19891929626465, 18.19746971130371, 18.19601821899414, 18.194564819335938, 18.193111419677734, 18.1916561126709, 18.190202713012695, 18.18874740600586, 18.18729019165039, 18.18583106994629, 18.184371948242188, 18.182912826538086, 18.18145179748535, 18.179988861083984, 18.17852783203125, 18.177064895629883, 18.175601959228516, 18.174135208129883, 18.17266845703125, 18.17120361328125, 18.169734954833984, 18.168264389038086, 18.16679573059082, 18.165325164794922, 18.163854598999023, 18.162382125854492, 18.16090965270996, 18.159435272216797, 18.157962799072266, 18.156484603881836, 18.15500831604004, 18.15353012084961, 18.152053833007812, 18.15057373046875, 18.149091720581055, 18.14760971069336, 18.146129608154297, 18.1446475982666, 18.143163681030273, 18.141677856445312, 18.140193939208984, 18.13870620727539, 18.137218475341797, 18.135732650756836, 18.13424301147461, 18.132753372192383, 18.131261825561523, 18.129772186279297, 18.128276824951172, 18.126785278320312, 18.125289916992188, 18.123794555664062, 18.12230110168457, 18.120803833007812, 18.119304656982422, 18.117807388305664, 18.116308212280273, 18.11480712890625, 18.113306045532227, 18.111804962158203, 18.110301971435547, 18.10879898071289, 18.1072940826416, 18.10578727722168, 18.10428237915039, 18.102773666381836, 18.101268768310547, 18.09975814819336, 18.098247528076172, 18.096736907958984, 18.095226287841797, 18.093713760375977, 18.09220314025879, 18.090686798095703, 18.08917236328125, 18.087657928466797, 18.086139678955078, 18.084623336791992, 18.083105087280273, 18.081584930419922, 18.080066680908203, 18.078548431396484, 18.077024459838867, 18.075502395629883, 18.073978424072266, 18.07245635986328, 18.07093048095703, 18.06940460205078, 18.06787872314453, 18.06635093688965, 18.064823150634766, 18.06329345703125, 18.061763763427734, 18.06023406982422, 18.05870246887207, 18.057170867919922, 18.05563735961914, 18.05410385131836, 18.052568435668945, 18.05103302001953, 18.049495697021484, 18.04796028137207, 18.04642105102539, 18.044883728027344, 18.043344497680664, 18.04180335998535, 18.04026222229004, 18.038721084594727, 18.03717803955078, 18.035633087158203, 18.034090042114258, 18.032543182373047, 18.03099822998047, 18.029451370239258, 18.027904510498047, 18.026355743408203, 18.02480697631836, 18.023256301879883, 18.021705627441406, 18.020153045654297, 18.018600463867188, 18.017047882080078, 18.015493392944336, 18.013938903808594, 18.01238250732422, 18.010828018188477, 18.00926971435547, 18.00771141052246, 18.006153106689453, 18.004592895507812, 18.003032684326172, 18.00147247314453, 17.999910354614258, 17.998348236083984, 17.996784210205078, 17.995220184326172, 17.993656158447266, 17.992090225219727, 17.990522384643555, 17.988956451416016, 17.98738670349121, 17.985820770263672, 17.984249114990234, 17.982677459716797, 17.981107711791992, 17.979536056518555, 17.977962493896484, 17.976390838623047, 17.974815368652344, 17.97323989868164, 17.971664428710938, 17.970088958740234, 17.968509674072266, 17.966934204101562, 17.965354919433594, 17.963775634765625, 17.962194442749023, 17.960613250732422, 17.95903205871582, 17.95745086669922, 17.955867767333984, 17.954282760620117, 17.95269775390625, 17.951112747192383, 17.949527740478516, 17.947938919067383, 17.946352005004883, 17.94476318359375, 17.943174362182617, 17.941585540771484, 17.939992904663086, 17.93840217590332, 17.936809539794922, 17.935216903686523, 17.933624267578125, 17.93202781677246, 17.930435180664062, 17.9288387298584, 17.927242279052734, 17.92564582824707, 17.92404556274414, 17.922449111938477, 17.920848846435547, 17.919248580932617, 17.917648315429688, 17.916046142578125, 17.914445877075195, 17.912841796875, 17.911235809326172, 17.90963363647461, 17.90802764892578, 17.906421661376953, 17.904817581176758, 17.903209686279297, 17.901599884033203, 17.899991989135742, 17.89838218688965, 17.896772384643555, 17.895160675048828, 17.893550872802734, 17.891937255859375, 17.89032554626465, 17.88871192932129, 17.887096405029297, 17.885480880737305, 17.883867263793945, 17.882251739501953, 17.880634307861328, 17.87901496887207, 17.877397537231445, 17.875776290893555, 17.874156951904297, 17.87253761291504, 17.870914459228516, 17.869293212890625, 17.867671966552734, 17.866046905517578, 17.864421844482422, 17.8627986907959, 17.86117172241211, 17.859546661376953, 17.857921600341797, 17.856292724609375, 17.854665756225586, 17.853036880493164, 17.85140609741211, 17.849777221679688, 17.848146438598633, 17.846513748168945, 17.84488296508789, 17.843250274658203, 17.841617584228516, 17.839981079101562, 17.838346481323242, 17.836711883544922, 17.83507537841797, 17.833438873291016, 17.83180046081543, 17.830163955688477, 17.828523635864258, 17.826885223388672, 17.82524299621582, 17.823604583740234, 17.821962356567383, 17.8203182220459, 17.818675994873047, 17.817033767700195, 17.815387725830078, 17.813745498657227, 17.81209945678711, 17.81045150756836, 17.808805465698242, 17.807159423828125, 17.805509567260742, 17.803861618041992, 17.80221176147461, 17.800561904907227, 17.798912048339844, 17.797260284423828, 17.795608520507812, 17.793956756591797, 17.792301177978516, 17.790647506713867, 17.78899383544922, 17.78734016418457, 17.785682678222656, 17.784027099609375, 17.782367706298828, 17.780712127685547, 17.779052734375, 17.777393341064453, 17.77573585510254, 17.77407455444336, 17.772415161132812, 17.770751953125, 17.76909065246582, 17.76742935180664, 17.765764236450195, 17.764101028442383, 17.762435913085938, 17.76076889038086, 17.759103775024414, 17.757436752319336, 17.755769729614258, 17.75410270690918, 17.75243377685547, 17.750764846801758, 17.749095916748047, 17.747425079345703, 17.74575424194336, 17.744083404541016, 17.74241065979004, 17.740737915039062, 17.739063262939453, 17.737390518188477, 17.735713958740234, 17.734039306640625, 17.732364654541016, 17.730688095092773, 17.72901153564453, 17.727333068847656, 17.725656509399414, 17.723976135253906, 17.72229766845703, 17.720617294311523, 17.718936920166016, 17.717256546020508, 17.715572357177734, 17.713891983032227, 17.712207794189453, 17.71052360534668, 17.70884132385254, 17.707155227661133, 17.70547103881836, 17.703784942626953, 17.702096939086914, 17.700408935546875, 17.698720932006836, 17.697032928466797, 17.695344924926758, 17.693655014038086, 17.691965103149414, 17.69027328491211, 17.688581466674805, 17.6868896484375, 17.685197830200195, 17.683504104614258, 17.68181037902832, 17.68011474609375, 17.678421020507812, 17.676725387573242, 17.675029754638672, 17.6733341217041, 17.671634674072266, 17.669937133789062, 17.66823959350586, 17.666540145874023, 17.664840698242188, 17.66314125061035, 17.661439895629883, 17.659738540649414, 17.658035278320312, 17.656333923339844, 17.654630661010742, 17.65292739868164, 17.651222229003906, 17.649517059326172, 17.647811889648438, 17.646106719970703, 17.644399642944336, 17.64269256591797, 17.6409854888916, 17.6392765045166, 17.637569427490234, 17.635860443115234, 17.6341495513916, 17.63243865966797, 17.630725860595703, 17.629016876220703, 17.627304077148438, 17.625591278076172, 17.623876571655273, 17.622163772583008, 17.62044906616211, 17.61873435974121, 17.617019653320312, 17.61530303955078, 17.61358642578125, 17.61186981201172, 17.610151290893555, 17.60843276977539, 17.606714248657227, 17.60499382019043, 17.603275299072266, 17.60155487060547, 17.599834442138672, 17.598112106323242, 17.59638786315918, 17.59466552734375, 17.59294319152832, 17.591218948364258, 17.589494705200195, 17.587770462036133, 17.586044311523438, 17.584318161010742, 17.582592010498047, 17.58086395263672, 17.579137802124023, 17.577407836914062, 17.575679779052734, 17.573951721191406, 17.572221755981445, 17.570491790771484, 17.56875991821289, 17.567028045654297, 17.565296173095703, 17.56356430053711, 17.561830520629883, 17.560096740722656, 17.558361053466797, 17.556629180908203, 17.55489158630371, 17.553157806396484, 17.55141830444336, 17.549684524536133, 17.54794692993164, 17.54620933532715, 17.544469833374023, 17.5427303314209, 17.540990829467773, 17.539249420166016, 17.53750991821289, 17.535770416259766, 17.534027099609375, 17.532285690307617, 17.53054428100586, 17.528799057006836, 17.527055740356445, 17.525312423706055, 17.52356719970703, 17.521821975708008, 17.520076751708984, 17.518329620361328, 17.516582489013672, 17.514835357666016, 17.51308822631836, 17.51133918762207, 17.50959014892578, 17.50783920288086, 17.506092071533203, 17.50433921813965, 17.50259017944336, 17.500837326049805, 17.49908447265625, 17.497333526611328, 17.49557876586914, 17.493825912475586, 17.4920711517334, 17.49031639099121, 17.488561630249023, 17.486806869506836, 17.485050201416016, 17.483293533325195, 17.481536865234375, 17.479778289794922, 17.47801971435547, 17.476261138916016, 17.474502563476562, 17.47274398803711, 17.470983505249023, 17.469221115112305, 17.46746063232422, 17.4656982421875, 17.463937759399414, 17.462173461914062, 17.46040916442871, 17.45864486694336, 17.45688247680664, 17.45511817932129, 17.453351974487305, 17.451587677001953, 17.449819564819336, 17.44805335998535, 17.446285247802734, 17.444517135620117, 17.4427490234375, 17.440980911254883, 17.439210891723633, 17.437442779541016, 17.435672760009766, 17.433900833129883, 17.432126998901367, 17.430355072021484, 17.428585052490234, 17.42681121826172, 17.425037384033203, 17.42326545715332, 17.421489715576172, 17.419713973999023, 17.41794204711914, 17.41616439819336, 17.414386749267578, 17.41261100769043, 17.41083335876465, 17.409055709838867, 17.407278060913086, 17.405498504638672, 17.40372085571289, 17.401939392089844, 17.40015983581543, 17.398380279541016, 17.39659881591797, 17.394817352294922, 17.393033981323242, 17.391252517700195, 17.389469146728516, 17.387683868408203, 17.385900497436523, 17.384117126464844, 17.38233184814453, 17.380544662475586, 17.378759384155273, 17.376972198486328, 17.375186920166016, 17.37339973449707, 17.371610641479492, 17.369823455810547, 17.36803436279297, 17.36624526977539, 17.36445426940918, 17.3626651763916, 17.36087417602539, 17.359081268310547, 17.357290267944336, 17.355497360229492, 17.35370445251465, 17.351911544799805, 17.35011863708496, 17.348323822021484, 17.34653091430664, 17.344736099243164, 17.342939376831055, 17.341144561767578, 17.339345932006836, 17.337549209594727, 17.335750579833984, 17.333953857421875, 17.332157135009766, 17.33035659790039, 17.328556060791016, 17.326757431030273, 17.3249568939209, 17.323156356811523, 17.321353912353516, 17.31955337524414, 17.317752838134766, 17.315948486328125, 17.314144134521484, 17.312341690063477, 17.310537338256836, 17.308732986450195, 17.306926727294922, 17.305124282836914, 17.30331802368164, 17.301509857177734, 17.29970359802246, 17.297897338867188, 17.29608726501465, 17.294279098510742, 17.292470932006836, 17.29066276550293, 17.28885269165039, 17.28704261779785, 17.285232543945312, 17.28342056274414, 17.2816104888916, 17.27979850769043, 17.277986526489258]\n"
          ],
          "name": "stdout"
        },
        {
          "output_type": "display_data",
          "data": {
            "image/png": "[encoded data removed]",
            "text/plain": [
              "<Figure size 360x720 with 2 Axes>"
            ]
          },
          "metadata": {
            "tags": [],
            "needs_background": "light"
          }
        }
      ]
    },
    {
      "cell_type": "markdown",
      "metadata": {
        "id": "QOi6MC8u7swr"
      },
      "source": [
        "# Graphs"
      ]
    },
    {
      "cell_type": "code",
      "metadata": {
        "id": "Pqqb7Riq7tAY"
      },
      "source": [
        "# Maybe copy over previous function and edit that?\n",
        "def graph(pred, true, diff):\n",
        "\n",
        "  values = [\"u\",\"v\",\"sin(v)\",\"cos(v)\",\"sin(u)\",\"cos(u)\",\"s\",\"ds\",\"wire\",\"glayer\",\"z\",\"time\",\"dE_amp\",\"q\"]\n",
        "  limits = [[\"todo\"]]\n",
        "\n",
        "  size = len(values)\n",
        "\n",
        "  fig, axs = plt.subplots(4,size,figsize=(size*5,20))\n",
        "  fig.subplots_adjust(wspace=0.3, hspace=0.3)\n",
        "\n",
        "\n",
        "  for i in range(size):\n",
        "    (mu, sigma) = norm.fit(diff[:,i])\n",
        "    print(\"data\" , values[i] ,\" |: mu: \", mu, \"sigma: \" , sigma)\n",
        "    _, bins, _ = axs[0,i].hist(diff[:,i], 20, density=True)\n",
        "    y = norm.pdf(bins, mu, sigma)\n",
        "    l = axs[0,i].plot(bins, y, 'r--', linewidth=2)\n",
        "\n",
        "    axs[0,i].set_title(values[i] + ' diff')\n",
        "    axs[0,i].set_ylabel('freq')\n",
        "    axs[0,i].set_xlabel(values[i] + ' diff')\n",
        "\n",
        "  #--------------------------------------\n",
        "  # PREDICTED VS TRUE\n",
        "  #--------------------------------------\n",
        "    \n",
        "  for i in range(size):\n",
        "    axs[1,i].scatter(true[:,i],pred[:,i])\n",
        "    axs[1,i].grid(True)\n",
        "\n",
        "    axs[1,i].set_title(values[i] + ' (predicted vs true)')\n",
        "    axs[1,i].set_ylabel('pred ' + values[i])\n",
        "    axs[1,i].set_xlabel('true ' + values[i])\n",
        "\n",
        "    # axs[1,i].set_xlim(limits[i])\n",
        "    # axs[1,i].set_ylim(limits[i])\n",
        "    # axs[1,i].plot(limits[i],limits[i], color='b')\n",
        "\n",
        "  #--------------------------------------\n",
        "  # DIFFERENCE VS TRUE\n",
        "  #--------------------------------------\n",
        "\n",
        "  for i in range(size):\n",
        "    axs[2,i].scatter(true[:,i],diff[:,i])\n",
        "    l, r = axs[2,i].get_xlim()\n",
        "    axs[2,i].hlines(0, l, r)\n",
        "    axs[2,i].grid(True)\n",
        "\n",
        "    axs[2,i].set_title(values[i] + ' (difference vs true)')\n",
        "    axs[2,i].set_ylabel('diff ' + values[i])\n",
        "    axs[2,i].set_xlabel('true ' + values[i])\n",
        "\n",
        "  #--------------------------------------\n",
        "  # DIFFERENCE VS TRUE 2D HIST\n",
        "  #--------------------------------------\n",
        "\n",
        "  for i in range(size):\n",
        "    axs[3,i].hist2d(true[:,i],diff[:,i],bins=20)\n",
        "\n",
        "    axs[2,i].set_title(values[i] + ' (difference vs true)')\n",
        "    axs[2,i].set_ylabel('diff ' + values[i])\n",
        "    axs[2,i].set_xlabel('true ' + values[i])\n",
        "\n",
        "  fig.show()\n"
      ],
      "execution_count": null,
      "outputs": []
    },
    {
      "cell_type": "code",
      "metadata": {
        "id": "zHuUmXPCiXt9"
      },
      "source": [
        "def gen_test_data(x_test, y_test, size=1000):\n",
        "  pred = model.predict(x_test)\n",
        "  diff = pred - y_test\n",
        "  return pred, y_test, diff"
      ],
      "execution_count": null,
      "outputs": []
    },
    {
      "cell_type": "code",
      "metadata": {
        "id": "2AMRhD6Wi7Xh"
      },
      "source": [
        "graph(gen_test_data(x_test, y_test));"
      ],
      "execution_count": null,
      "outputs": []
    },
    {
      "cell_type": "markdown",
      "metadata": {
        "id": "ZAUyMneo7Xj1"
      },
      "source": [
        "# Test model"
      ]
    },
    {
      "cell_type": "code",
      "metadata": {
        "id": "sBsHjTgG7X2y"
      },
      "source": [
        "# make test function"
      ],
      "execution_count": null,
      "outputs": []
    },
    {
      "cell_type": "markdown",
      "metadata": {
        "id": "hWkYEQvFZ7HC"
      },
      "source": [
        "# Verification of proper data processing"
      ]
    },
    {
      "cell_type": "markdown",
      "metadata": {
        "id": "wqKxKcOQYEO4"
      },
      "source": [
        "## Using Generator"
      ]
    },
    {
      "cell_type": "code",
      "metadata": {
        "id": "ml3HHzoEaAhr"
      },
      "source": [
        "aax, aay = next(train_gen)\n",
        "print(aax.shape)\n",
        "print(aay.shape)"
      ],
      "execution_count": null,
      "outputs": []
    },
    {
      "cell_type": "code",
      "metadata": {
        "id": "gv72llYMaUYd"
      },
      "source": [
        "print(\"x\",aax[0])\n",
        "print(\"y\",aay[0])"
      ],
      "execution_count": null,
      "outputs": []
    },
    {
      "cell_type": "markdown",
      "metadata": {
        "id": "DcwDKKLLe079"
      },
      "source": [
        "## Non Genenerator"
      ]
    },
    {
      "cell_type": "code",
      "metadata": {
        "id": "DlU3tRGpYxQV",
        "colab": {
          "base_uri": "https://localhost:8080/"
        },
        "outputId": "a24ded2d-d1d0-4555-84a9-428edf5b2e7d"
      },
      "source": [
        "for i in range(10):\n",
        "  aax = x_train[i]\n",
        "  aay = y_train[i]\n",
        "  # print(aax.shape)\n",
        "  # print(aay.shape)\n",
        "  # print(\"x\",aax)\n",
        "  print(\"y\",aay)"
      ],
      "execution_count": null,
      "outputs": [
        {
          "output_type": "stream",
          "text": [
            "y [-4.805 -1.959  9.798  0.297 77.505]\n",
            "y [-5.881  1.876 19.786 -0.007 85.963]\n",
            "y [-13.532   2.467   1.919  -5.848 169.211]\n",
            "y [ -2.51   -1.784   7.588   0.107 138.047]\n",
            "y [-17.129   1.434  26.423  -0.118  77.014]\n",
            "y [-51.732  -0.04   20.991  -0.511  62.764]\n",
            "y [ -7.787  -2.598   6.704  -9.91  168.021]\n",
            "y [-755.88    -2.511   56.192  -11.262  177.016]\n",
            "y [-9.942 -1.74   6.379  0.622 62.467]\n",
            "y [-3.746  0.884 14.103 -0.305 66.462]\n"
          ],
          "name": "stdout"
        }
      ]
    },
    {
      "cell_type": "markdown",
      "metadata": {
        "id": "rCpP2wsfdeGl"
      },
      "source": [
        "## Graphs of Data"
      ]
    },
    {
      "cell_type": "markdown",
      "metadata": {
        "id": "fAxLbw94GYzm"
      },
      "source": [
        "### filter_ignore\n",
        "\n",
        "Filters out large and small values and graphs them"
      ]
    },
    {
      "cell_type": "code",
      "metadata": {
        "id": "FiUKfbtfAoLm"
      },
      "source": [
        "def filter_ignore(var,min=None,max=None,bins=25,ylog=False,xlog=False,cut=True):\n",
        "  list_ignore = []\n",
        "\n",
        "  print(\"--== {} ==--\\n\".format(var))\n",
        "\n",
        "  largest = 0\n",
        "  smallest = 0\n",
        "  for i in range(len(csv_train[var])):\n",
        "    if csv_train[var][i] > csv_train[var][largest]:\n",
        "      largest = i\n",
        "    if csv_train[var][i] < csv_train[var][smallest]:\n",
        "      smallest = i\n",
        "  print(\"largest value:  ({}, {:.3f})\".format(largest,csv_train[var][largest]))\n",
        "  print(\"smallest value: ({}, {:.3f})\".format(smallest,csv_train[var][smallest]))\n",
        "\n",
        "  print(\"\")\n",
        "\n",
        "  if min:\n",
        "    for i in range(len(csv_train[var])):\n",
        "      if csv_train[var][i] < min:\n",
        "        list_ignore.append(i)\n",
        "    print(\"min IDs to ignore for '{}':\".format(var))\n",
        "    print(csv_train[var][list_ignore])\n",
        "    print(\"\")\n",
        "  if max:\n",
        "    for i in range(len(csv_train[var])):\n",
        "      if csv_train[var][i] > max:\n",
        "        list_ignore.append(i)\n",
        "    print(\"max IDs to ignore for '{}':\".format(var))\n",
        "    print(csv_train[var][list_ignore])\n",
        "    print(\"\")\n",
        "  if min and max:\n",
        "    print(\"total IDs to ignore for '{}':\".format(var))\n",
        "    print(csv_train[var][list_ignore])\n",
        "    print(\"\")\n",
        "    plt.hist(csv_train[var],range=[min,max],bins=bins)\n",
        "  elif min:\n",
        "    plt.hist(csv_train[var],range=[min,csv_train[var][largest]],bins=bins)\n",
        "  elif max:\n",
        "    plt.hist(csv_train[var],range=[csv_train[var][smallest],max],bins=bins)\n",
        "  else:\n",
        "    plt.hist(csv_train[var],bins=bins)\n",
        "  \n",
        "  plt.title(var)\n",
        "  if cut:\n",
        "    plt.xlim(left=min,right=max)\n",
        "  if ylog:\n",
        "    plt.yscale(\"log\")\n",
        "  if xlog:\n",
        "    plt.xscale(\"log\")\n",
        "  plt.show()\n",
        "  return list_ignore"
      ],
      "execution_count": null,
      "outputs": []
    },
    {
      "cell_type": "code",
      "metadata": {
        "id": "BwsJ0YIoBiew",
        "colab": {
          "base_uri": "https://localhost:8080/",
          "height": 542
        },
        "outputId": "962724f0-0845-4ab5-8b27-043de6744e44"
      },
      "source": [
        "filter_ignore(\"q_over_pt\",min=-4000,bins=30,ylog=True)"
      ],
      "execution_count": null,
      "outputs": [
        {
          "output_type": "stream",
          "text": [
            "--== q_over_pt ==--\n",
            "\n",
            "largest value:  (3355, 381.860)\n",
            "smallest value: (9135, -20149.830)\n",
            "\n",
            "min IDs to ignore for 'q_over_pt':\n",
            "1317    -4724.393347\n",
            "1481    -7912.062393\n",
            "3410    -7389.880383\n",
            "8777    -9841.475468\n",
            "9135   -20149.829875\n",
            "9584    -5357.554147\n",
            "Name: q_over_pt, dtype: float64\n",
            "\n"
          ],
          "name": "stdout"
        },
        {
          "output_type": "display_data",
          "data": {
            "image/png": "[encoded data removed]",
            "text/plain": [
              "<Figure size 432x288 with 1 Axes>"
            ]
          },
          "metadata": {
            "tags": [],
            "needs_background": "light"
          }
        },
        {
          "output_type": "execute_result",
          "data": {
            "text/plain": [
              "[1317, 1481, 3410, 8777, 9135, 9584]"
            ]
          },
          "metadata": {
            "tags": []
          },
          "execution_count": 78
        }
      ]
    },
    {
      "cell_type": "code",
      "metadata": {
        "id": "2Wyjq07YGjBF",
        "colab": {
          "base_uri": "https://localhost:8080/",
          "height": 455
        },
        "outputId": "9a82db49-7e7e-49aa-8d4b-a0da738ec1f5"
      },
      "source": [
        "filter_ignore(\"tanl\",max=1000,bins=25,ylog=True)"
      ],
      "execution_count": null,
      "outputs": [
        {
          "output_type": "stream",
          "text": [
            "--== tanl ==--\n",
            "\n",
            "largest value:  (9135, 1908.868)\n",
            "smallest value: (2535, 0.001)\n",
            "\n",
            "max IDs to ignore for 'tanl':\n",
            "9135    1908.868217\n",
            "Name: tanl, dtype: float64\n",
            "\n"
          ],
          "name": "stdout"
        },
        {
          "output_type": "display_data",
          "data": {
            "image/png": "[encoded data removed]",
            "text/plain": [
              "<Figure size 432x288 with 1 Axes>"
            ]
          },
          "metadata": {
            "tags": [],
            "needs_background": "light"
          }
        },
        {
          "output_type": "execute_result",
          "data": {
            "text/plain": [
              "[9135]"
            ]
          },
          "metadata": {
            "tags": []
          },
          "execution_count": 79
        }
      ]
    },
    {
      "cell_type": "code",
      "metadata": {
        "id": "xauTTOyrHPyT"
      },
      "source": [
        "rms_ignore = filter_ignore(\"rms\",max=0.1,bins=25,ylog=True)"
      ],
      "execution_count": null,
      "outputs": []
    },
    {
      "cell_type": "code",
      "metadata": {
        "colab": {
          "base_uri": "https://localhost:8080/",
          "height": 385
        },
        "id": "ERa-RZDbN6Hm",
        "outputId": "ac4577c9-f719-47d4-bc16-8fdbb7e413a5"
      },
      "source": [
        "# 'q_over_pt', 'phi', 'tanl', 'D', 'z'\n",
        "# filter_ignore(\"D\", min=-200, ylog=True,bins=25)\n",
        "filter_ignore(\"z\",bins=100)"
      ],
      "execution_count": null,
      "outputs": [
        {
          "output_type": "stream",
          "text": [
            "--== z ==--\n",
            "\n",
            "largest value:  (5317, 340.485)\n",
            "smallest value: (1775, -101.769)\n",
            "\n"
          ],
          "name": "stdout"
        },
        {
          "output_type": "display_data",
          "data": {
            "image/png": "[encoded data removed]",
            "text/plain": [
              "<Figure size 432x288 with 1 Axes>"
            ]
          },
          "metadata": {
            "tags": [],
            "needs_background": "light"
          }
        },
        {
          "output_type": "execute_result",
          "data": {
            "text/plain": [
              "[]"
            ]
          },
          "metadata": {
            "tags": []
          },
          "execution_count": 90
        }
      ]
    },
    {
      "cell_type": "code",
      "metadata": {
        "id": "UBO9wKCH2ePH"
      },
      "source": [
        "csv_train.keys()"
      ],
      "execution_count": null,
      "outputs": []
    },
    {
      "cell_type": "markdown",
      "metadata": {
        "id": "yc3WNfPaYwaL"
      },
      "source": [
        "### 1D Hist of all Data"
      ]
    },
    {
      "cell_type": "code",
      "metadata": {
        "colab": {
          "base_uri": "https://localhost:8080/",
          "height": 809
        },
        "id": "2VqlQxZRgTB7",
        "outputId": "2a5ce7d3-1665-4d71-80f5-5b7ed7ceb673"
      },
      "source": [
        "plt.hist(csv_train[\"phi\"],bins=50) # -3 to 3, even distrib\n",
        "plt.title(\"phi\")\n",
        "plt.show()\n",
        "# ---\n",
        "plt.hist(csv_train[\"D\"],range=[-3000,80],bins=25) # -3000 to 50, but val in 65\n",
        "plt.yscale(\"log\")\n",
        "plt.title(\"D\")\n",
        "plt.show()\n",
        "# ---\n",
        "plt.hist(csv_train[\"z\"],bins=100)\n",
        "plt.title(\"z\")\n",
        "plt.show()"
      ],
      "execution_count": null,
      "outputs": [
        {
          "output_type": "display_data",
          "data": {
            "image/png": "[encoded data removed]",
            "text/plain": [
              "<Figure size 432x288 with 1 Axes>"
            ]
          },
          "metadata": {
            "tags": [],
            "needs_background": "light"
          }
        },
        {
          "output_type": "display_data",
          "data": {
            "image/png": "[encoded data removed]",
            "text/plain": [
              "<Figure size 432x288 with 1 Axes>"
            ]
          },
          "metadata": {
            "tags": [],
            "needs_background": "light"
          }
        },
        {
          "output_type": "display_data",
          "data": {
            "image/png": "[encoded data removed]",
            "text/plain": [
              "<Figure size 432x288 with 1 Axes>"
            ]
          },
          "metadata": {
            "tags": [],
            "needs_background": "light"
          }
        }
      ]
    },
    {
      "cell_type": "code",
      "metadata": {
        "id": "TbqYK55L05mB"
      },
      "source": [
        "# fig, ax = plt.subplots(2,1,figsize=(5,10))\n",
        "# fig.subplots_adjust(hspace=0.35)\n",
        "\n",
        "plt.hist(csv_train[\"cov_00\"],range=[0,1e8],bins=25) # 0 to 1e13\n",
        "plt.yscale(\"log\")\n",
        "plt.title(\"cov_00\")\n",
        "plt.show()\n",
        "# ---\n",
        "plt.hist(csv_train[\"cov_01\"],bins=25) # -1e6 to over 1e5\n",
        "plt.yscale(\"log\")\n",
        "plt.title(\"cov_01\")\n",
        "plt.show()\n",
        "# ---\n",
        "plt.hist(csv_train[\"chisq\"],bins=25) # 0 to 200\n",
        "plt.yscale(\"log\")\n",
        "plt.title(\"chisq\")\n",
        "plt.show()\n",
        "# ---\n",
        "plt.hist(csv_train[\"Ndof\"],range=[0,44],bins=45) # ? this one weird 0 to ~43\n",
        "plt.yscale(\"log\")\n",
        "plt.title(\"Ndof\")\n",
        "plt.show()\n",
        "# ---\n",
        "plt.hist(csv_train[\"rms\"],range=[0,0.1],bins=25) # \n",
        "# plt.xscale(\"log\")\n",
        "plt.yscale(\"log\")\n",
        "plt.title(\"rms\")\n",
        "plt.show()\n",
        "# ---\n",
        "# plt.hist(csv_train[\"t_start_cntr\"],bins=25) # -60 to ~50\n",
        "plt.hist(csv_train[csv_train[\"t_start_cntr_valid\"] == 1][\"t_start_cntr\"],bins=25) # -60 to ~50\n",
        "plt.title(\"t_start_cntr\")\n",
        "plt.show()\n",
        "\n",
        "# plt.hist(csv_train[\"t_tof\"],bins=25) # ~-120 to ~175\n",
        "plt.hist(csv_train[csv_train[\"t_tof_valid\"] == 1][\"t_tof\"],bins=25) # ~-120 to ~175\n",
        "plt.title(\"t_tof\")\n",
        "plt.show()\n",
        "plt.hist(csv_train[\"t_bcal\"],bins=25) # ~-22 to 20\n",
        "plt.title(\"t_bcal\")\n",
        "plt.show()\n",
        "plt.hist(csv_train[\"t_fcal\"],bins=25) # ~-100 to ~75\n",
        "plt.yscale(\"log\")\n",
        "plt.title(\"t_fcal\")\n",
        "plt.show()\n",
        "# ---\n",
        "plt.hist(csv_train[\"t_start_cntr_valid\"],bins=25) # a lot more 0s\n",
        "plt.title(\"t_start_cntr_valid\")\n",
        "plt.show()\n",
        "plt.hist(csv_train[\"t_tof_valid\"],bins=25) # about 5050\n",
        "plt.title(\"t_tof_valid\")\n",
        "plt.show()\n",
        "plt.hist(csv_train[\"t_bcal_valid\"],bins=25) # almost all 0s\n",
        "plt.title(\"t_bcal_valid\")\n",
        "plt.show()\n",
        "plt.hist(csv_train[\"t_fcal_valid\"],bins=25) # almost all 0s\n",
        "plt.title(\"t_fcal_valid\")\n",
        "plt.show()\n",
        "# ---\n",
        "\n"
      ],
      "execution_count": null,
      "outputs": []
    },
    {
      "cell_type": "markdown",
      "metadata": {
        "id": "LbzN70C9MCrQ"
      },
      "source": [
        "### 1D Hist of Hit1 Data"
      ]
    },
    {
      "cell_type": "code",
      "metadata": {
        "colab": {
          "base_uri": "https://localhost:8080/",
          "height": 1000
        },
        "id": "VGzHLbKsLUZ9",
        "outputId": "0e1a0a14-8881-439d-c2f3-f0ec09006cc4"
      },
      "source": [
        "plt.hist(csv_train[\"hit1_u\"],bins=25) # -42 to 42\n",
        "plt.title(\"hit1_u\")\n",
        "plt.show()\n",
        "plt.hist(csv_train[\"hit1_v\"],bins=25) # -42 to 42\n",
        "plt.title(\"hit1_v\")\n",
        "plt.show()\n",
        "# plt.hist(csv_train[\"hit1_sinv\"],bins=25) # most are 0.96603 almost all are around that though\n",
        "# plt.title(\"hit1_sinv\")\n",
        "# plt.show()\n",
        "# plt.hist(csv_train[\"hit1_cosv\"],bins=25) # most -0.2585\n",
        "# plt.title(\"hit1_cosv\")\n",
        "# plt.show()\n",
        "# plt.hist(csv_train[\"hit1_sinu\"],bins=25) # most 0.96585\n",
        "# plt.title(\"hit1_sinu\")\n",
        "# plt.show()\n",
        "# plt.hist(csv_train[\"hit1_cosu\"],bins=25) # most 0.2591\n",
        "# plt.title(\"hit1_cosu\")\n",
        "# plt.show()\n",
        "plt.hist(csv_train[\"hit1_s\"],bins=25) # -42 to 42\n",
        "plt.title(\"hit1_s\")\n",
        "plt.show()\n",
        "plt.hist(csv_train[\"hit1_ds\"],bins=25) # 0.01 to 0.04\n",
        "plt.title(\"hit1_ds\")\n",
        "plt.show()\n",
        "plt.hist(csv_train[\"hit1_wire\"],bins=101,range=[0,100]) # 0 to 100\n",
        "plt.title(\"hit1_wire\")\n",
        "plt.show()\n",
        "plt.hist(csv_train[\"hit1_glayer\"],bins=25,range=[0,26]) # 6 to 23\n",
        "plt.title(\"hit1_glayer\")\n",
        "plt.show()\n",
        "plt.hist(csv_train[\"hit1_z\"],bins=25) # spaced out between 180 and 340\n",
        "plt.title(\"hit1_z\")\n",
        "plt.show()\n",
        "plt.hist(csv_train[\"hit1_time\"],bins=25) # -75 to 270\n",
        "plt.title(\"hit1_time\")\n",
        "plt.show()\n",
        "plt.hist(csv_train[\"hit1_dE_amp\"],bins=25) # 0 to 2e-7\n",
        "plt.title(\"hit1_dE_amp\")\n",
        "plt.show()\n",
        "plt.hist(csv_train[\"hit1_q\"],bins=25) # 0 to 85\n",
        "plt.yscale(\"log\")\n",
        "plt.title(\"hit1_q\")\n",
        "plt.show()\n",
        "# ---"
      ],
      "execution_count": null,
      "outputs": [
        {
          "output_type": "display_data",
          "data": {
            "image/png": "[encoded data removed]",
            "text/plain": [
              "<Figure size 432x288 with 1 Axes>"
            ]
          },
          "metadata": {
            "tags": [],
            "needs_background": "light"
          }
        },
        {
          "output_type": "display_data",
          "data": {
            "image/png": "[encoded data removed]",
            "text/plain": [
              "<Figure size 432x288 with 1 Axes>"
            ]
          },
          "metadata": {
            "tags": [],
            "needs_background": "light"
          }
        },
        {
          "output_type": "display_data",
          "data": {
            "image/png": "[encoded data removed]",
            "text/plain": [
              "<Figure size 432x288 with 1 Axes>"
            ]
          },
          "metadata": {
            "tags": [],
            "needs_background": "light"
          }
        },
        {
          "output_type": "display_data",
          "data": {
            "image/png": "[encoded data removed]",
            "text/plain": [
              "<Figure size 432x288 with 1 Axes>"
            ]
          },
          "metadata": {
            "tags": [],
            "needs_background": "light"
          }
        },
        {
          "output_type": "display_data",
          "data": {
            "image/png": "[encoded data removed]",
            "text/plain": [
              "<Figure size 432x288 with 1 Axes>"
            ]
          },
          "metadata": {
            "tags": [],
            "needs_background": "light"
          }
        },
        {
          "output_type": "display_data",
          "data": {
            "image/png": "[encoded data removed]",
            "text/plain": [
              "<Figure size 432x288 with 1 Axes>"
            ]
          },
          "metadata": {
            "tags": [],
            "needs_background": "light"
          }
        },
        {
          "output_type": "display_data",
          "data": {
            "image/png": "[encoded data removed]",
            "text/plain": [
              "<Figure size 432x288 with 1 Axes>"
            ]
          },
          "metadata": {
            "tags": [],
            "needs_background": "light"
          }
        },
        {
          "output_type": "display_data",
          "data": {
            "image/png": "[encoded data removed]",
            "text/plain": [
              "<Figure size 432x288 with 1 Axes>"
            ]
          },
          "metadata": {
            "tags": [],
            "needs_background": "light"
          }
        },
        {
          "output_type": "display_data",
          "data": {
            "image/png": "[encoded data removed]",
            "text/plain": [
              "<Figure size 432x288 with 1 Axes>"
            ]
          },
          "metadata": {
            "tags": [],
            "needs_background": "light"
          }
        },
        {
          "output_type": "display_data",
          "data": {
            "image/png": "[encoded data removed]",
            "text/plain": [
              "<Figure size 432x288 with 1 Axes>"
            ]
          },
          "metadata": {
            "tags": [],
            "needs_background": "light"
          }
        }
      ]
    },
    {
      "cell_type": "markdown",
      "metadata": {
        "id": "oxIRSBXpYzU7"
      },
      "source": [
        "### 2D Scatters of various data"
      ]
    },
    {
      "cell_type": "code",
      "metadata": {
        "colab": {
          "base_uri": "https://localhost:8080/",
          "height": 299
        },
        "id": "8hgtNdVxY-4_",
        "outputId": "9e12924e-9cb0-492c-fcbb-8cbc7ed4680e"
      },
      "source": [
        "plt.scatter(csv_train[\"tanl\"],abs(csv_train[\"q_over_pt\"]),s=0.01) # a lot more 0s\n",
        "plt.title(\"q_over_pt vs tanl\")\n",
        "plt.xlabel(\"tanl\")\n",
        "plt.ylabel(\"q_over_pt\")\n",
        "plt.yscale(\"log\")\n",
        "plt.xscale(\"log\")\n",
        "plt.grid(True)\n",
        "plt.show()"
      ],
      "execution_count": null,
      "outputs": [
        {
          "output_type": "display_data",
          "data": {
            "image/png": "[encoded data removed]",
            "text/plain": [
              "<Figure size 432x288 with 1 Axes>"
            ]
          },
          "metadata": {
            "tags": [],
            "needs_background": "light"
          }
        }
      ]
    },
    {
      "cell_type": "code",
      "metadata": {
        "colab": {
          "base_uri": "https://localhost:8080/",
          "height": 296
        },
        "id": "4pjOeJd85uWM",
        "outputId": "887b1312-0399-4223-ff5d-576875baa7e8"
      },
      "source": [
        "# all create a plus sign\n",
        "plt.scatter(csv_train[\"t_start_cntr\"],csv_train[\"t_tof\"]) # a lot more 0s\n",
        "plt.title(\"t_tof vs t_start_cntr\")\n",
        "plt.xlabel(\"t_start_cntr\")\n",
        "plt.ylabel(\"t_tof\")\n",
        "plt.show()\n",
        "\n",
        "# plt.hist(csv_train[\"t_start_cntr\"],bins=25) # -60 to ~50\n",
        "# plt.hist(csv_train[\"t_tof\"],bins=25) # ~-120 to ~175\n",
        "# plt.hist(csv_train[\"t_bcal\"],bins=25) # ~-22 to 20\n",
        "# plt.hist(csv_train[\"t_fcal\"],bins=25) # ~-100 to ~75"
      ],
      "execution_count": null,
      "outputs": [
        {
          "output_type": "display_data",
          "data": {
            "image/png": "[encoded data removed]",
            "text/plain": [
              "<Figure size 432x288 with 1 Axes>"
            ]
          },
          "metadata": {
            "tags": [],
            "needs_background": "light"
          }
        }
      ]
    },
    {
      "cell_type": "code",
      "metadata": {
        "colab": {
          "base_uri": "https://localhost:8080/",
          "height": 265
        },
        "id": "IFF2_7npOseE",
        "outputId": "8e8bec48-6610-41d1-8faa-64814bb75af9"
      },
      "source": [
        "plt.hist(csv_train[\"hit1_glayer\"],bins=24)\n",
        "plt.hist(csv_train[\"hit2_glayer\"],bins=24)\n",
        "plt.hist(csv_train[\"hit3_glayer\"],bins=24)\n",
        "plt.hist(csv_train[\"hit4_glayer\"],bins=24)\n",
        "plt.hist(csv_train[\"hit5_glayer\"],bins=24)\n",
        "plt.hist(csv_train[\"hit6_glayer\"],bins=24)\n",
        "plt.hist(csv_train[\"hit10_glayer\"],bins=24)\n",
        "plt.show()"
      ],
      "execution_count": null,
      "outputs": [
        {
          "output_type": "display_data",
          "data": {
            "image/png": "[encoded data removed]",
            "text/plain": [
              "<Figure size 432x288 with 1 Axes>"
            ]
          },
          "metadata": {
            "tags": [],
            "needs_background": "light"
          }
        }
      ]
    },
    {
      "cell_type": "markdown",
      "metadata": {
        "id": "IdRImNvKZ0Fa"
      },
      "source": [
        "### 2D Scatters of various hit data"
      ]
    },
    {
      "cell_type": "code",
      "metadata": {
        "id": "4mxK94YV2FM2"
      },
      "source": [
        "# Oval\n",
        "plt.scatter(csv_train[\"hit1_u\"],csv_train[\"hit1_v\"]) # -3 to 3, even distrib\n",
        "plt.title(\"v vs u\")\n",
        "plt.xlabel(\"u\")\n",
        "plt.ylabel(\"v\")\n",
        "plt.show()\n",
        "\n",
        "# like a flame\n",
        "plt.scatter(csv_train[\"hit1_s\"],csv_train[\"hit1_ds\"]) # -3 to 3, even distrib\n",
        "plt.title(\"ds vs s\")\n",
        "plt.xlabel(\"s\")\n",
        "plt.ylabel(\"ds\")\n",
        "plt.show()\n",
        "\n",
        "# hit1_wire, with single letters, forms an oval\n",
        "plt.scatter(csv_train[\"hit1_wire\"],csv_train[\"hit1_s\"]) # -3 to 3, even distrib\n",
        "plt.title(\"hit1_s vs hit1_wire\")\n",
        "plt.xlabel(\"hit1_wire\")\n",
        "plt.ylabel(\"hit1_s\")\n",
        "plt.show()\n",
        "\n",
        "# go up in steps\n",
        "plt.scatter(csv_train[\"hit1_glayer\"],csv_train[\"hit1_z\"]) # -3 to 3, even distrib\n",
        "plt.title(\"z vs glayer\")\n",
        "plt.xlabel(\"glayer\")\n",
        "plt.ylabel(\"z\")\n",
        "plt.show()\n",
        "\n",
        "# 1:1\n",
        "plt.scatter(csv_train[\"hit1_q\"],csv_train[\"hit1_dE_amp\"]) # -3 to 3, even distrib\n",
        "plt.title(\"dE_amp vs q\")\n",
        "plt.xlabel(\"q\")\n",
        "plt.ylabel(\"dE_amp\")\n",
        "plt.show()\n",
        "\n"
      ],
      "execution_count": null,
      "outputs": []
    },
    {
      "cell_type": "code",
      "metadata": {
        "id": "bhNGqPbNQ8fX"
      },
      "source": [
        "aax = \n",
        "plt.plot()"
      ],
      "execution_count": null,
      "outputs": []
    }
  ]
}