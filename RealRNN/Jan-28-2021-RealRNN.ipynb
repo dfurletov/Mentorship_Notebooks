{
  "nbformat": 4,
  "nbformat_minor": 0,
  "metadata": {
    "colab": {
      "name": "CopyOfRNN.ipynb",
      "provenance": [],
      "collapsed_sections": [
        "AxV5Vpbluw0Q",
        "nXWxjgeBkSBE",
        "fqvIeNaLkOaF"
      ],
      "toc_visible": true
    },
    "kernelspec": {
      "name": "python3",
      "display_name": "Python 3"
    }
  },
  "cells": [
    {
      "cell_type": "markdown",
      "metadata": {
        "id": "Te6rdZgT5yAW"
      },
      "source": [
        "# Copy of Previous RNN"
      ]
    },
    {
      "cell_type": "markdown",
      "metadata": {
        "id": "fdsGeayZ523e"
      },
      "source": [
        "### Reminders:\n",
        "\n",
        "Read up on some of these:\n",
        "- https://machinelearningmastery.com/stateful-stateless-lstm-time-series-forecasting-python/\n",
        "- https://fairyonice.github.io/Stateful-LSTM-model-training-in-Keras.html \n",
        "- https://github.com/keras-team/keras/issues/5714\n",
        "- https://machinelearningmastery.com/use-different-batch-sizes-training-predicting-python-keras/\n",
        "\n"
      ]
    },
    {
      "cell_type": "code",
      "metadata": {
        "id": "ro1oh9-25xM9",
        "colab": {
          "base_uri": "https://localhost:8080/"
        },
        "outputId": "ddd20b6e-d05f-4c41-c512-ac8fd4c83333"
      },
      "source": [
        "from google.colab import drive\n",
        "drive.mount('/content/drive')"
      ],
      "execution_count": 1,
      "outputs": [
        {
          "output_type": "stream",
          "text": [
            "Mounted at /content/drive\n"
          ],
          "name": "stdout"
        }
      ]
    },
    {
      "cell_type": "markdown",
      "metadata": {
        "id": "l7yOaxkJ58hh"
      },
      "source": [
        "# Pre-processing"
      ]
    },
    {
      "cell_type": "markdown",
      "metadata": {
        "id": "o5Lupm0J6Hre"
      },
      "source": [
        "## Do Basic Imports"
      ]
    },
    {
      "cell_type": "code",
      "metadata": {
        "id": "gE8NHB9v6IDc"
      },
      "source": [
        "import numpy as np\n",
        "from tensorflow import keras\n",
        "import tensorflow as tf\n",
        "import pandas\n",
        "from matplotlib import pyplot as plt\n",
        "from math import isnan\n",
        "from scipy.stats import norm\n",
        "\n",
        "pandas.set_option('display.max_columns', None)\n",
        "np.set_printoptions(suppress=True, precision=3)"
      ],
      "execution_count": 2,
      "outputs": []
    },
    {
      "cell_type": "markdown",
      "metadata": {
        "id": "Yhg_bSj36CSt"
      },
      "source": [
        "## Obtain data"
      ]
    },
    {
      "cell_type": "code",
      "metadata": {
        "id": "1LMf25vB5_vs"
      },
      "source": [
        "# read data from drive\n",
        "csv_train = pandas.read_csv(\"drive/MyDrive/first_10k.csv\")\n",
        "unparsed_train = np.array(csv_train)"
      ],
      "execution_count": 3,
      "outputs": []
    },
    {
      "cell_type": "markdown",
      "metadata": {
        "id": "rzjvgYAH0oTD"
      },
      "source": [
        "The data is a 403 value array with the following splits:\n",
        "\n"
      ]
    },
    {
      "cell_type": "code",
      "metadata": {
        "colab": {
          "base_uri": "https://localhost:8080/"
        },
        "id": "-5zeu3jZDGM0",
        "outputId": "e6378535-31e2-4700-e015-6665e7dd9ceb"
      },
      "source": [
        "print(csv_train.keys()[0:6])  # labels\n",
        "print(csv_train.keys()[6:31]) # cov\n",
        "print(csv_train.keys()[31:56])# invcov\n",
        "print(csv_train.keys()[56:59])# fit\n",
        "print(csv_train.keys()[59:67])# timers\n",
        "# print(csv_train.keys()[67:81])# hit1\n",
        "print(\"\\n\")\n",
        "print(csv_train.keys()[67:69])# hit1\n",
        "print(csv_train.keys()[73:81],\"\\n\")# hit1\n",
        "print(csv_train.keys()[67:])  # hit\n",
        "print(unparsed_train.shape)"
      ],
      "execution_count": null,
      "outputs": [
        {
          "output_type": "stream",
          "text": [
            "Index(['event', 'q_over_pt', 'phi', 'tanl', 'D', 'z'], dtype='object')\n",
            "Index(['cov_00', 'cov_01', 'cov_02', 'cov_03', 'cov_04', 'cov_10', 'cov_11',\n",
            "       'cov_12', 'cov_13', 'cov_14', 'cov_20', 'cov_21', 'cov_22', 'cov_23',\n",
            "       'cov_24', 'cov_30', 'cov_31', 'cov_32', 'cov_33', 'cov_34', 'cov_40',\n",
            "       'cov_41', 'cov_42', 'cov_43', 'cov_44'],\n",
            "      dtype='object')\n",
            "Index(['invcov_00', 'invcov_01', 'invcov_02', 'invcov_03', 'invcov_04',\n",
            "       'invcov_10', 'invcov_11', 'invcov_12', 'invcov_13', 'invcov_14',\n",
            "       'invcov_20', 'invcov_21', 'invcov_22', 'invcov_23', 'invcov_24',\n",
            "       'invcov_30', 'invcov_31', 'invcov_32', 'invcov_33', 'invcov_34',\n",
            "       'invcov_40', 'invcov_41', 'invcov_42', 'invcov_43', 'invcov_44'],\n",
            "      dtype='object')\n",
            "Index(['chisq', 'Ndof', 'rms'], dtype='object')\n",
            "Index(['t_start_cntr', 't_start_cntr_valid', 't_tof', 't_tof_valid', 't_bcal',\n",
            "       't_bcal_valid', 't_fcal', 't_fcal_valid'],\n",
            "      dtype='object')\n",
            "\n",
            "\n",
            "Index(['hit1_u', 'hit1_v'], dtype='object')\n",
            "Index(['hit1_s', 'hit1_ds', 'hit1_wire', 'hit1_glayer', 'hit1_z', 'hit1_time',\n",
            "       'hit1_dE_amp', 'hit1_q'],\n",
            "      dtype='object') \n",
            "\n",
            "Index(['hit1_u', 'hit1_v', 'hit1_sinv', 'hit1_cosv', 'hit1_sinu', 'hit1_cosu',\n",
            "       'hit1_s', 'hit1_ds', 'hit1_wire', 'hit1_glayer',\n",
            "       ...\n",
            "       'hit24_sinu', 'hit24_cosu', 'hit24_s', 'hit24_ds', 'hit24_wire',\n",
            "       'hit24_glayer', 'hit24_z', 'hit24_time', 'hit24_dE_amp', 'hit24_q'],\n",
            "      dtype='object', length=336)\n",
            "(10000, 403)\n"
          ],
          "name": "stdout"
        }
      ]
    },
    {
      "cell_type": "markdown",
      "metadata": {
        "id": "DBknRRcl6LMm"
      },
      "source": [
        "## Parse Data"
      ]
    },
    {
      "cell_type": "markdown",
      "metadata": {
        "id": "KtCiBud4XMfC"
      },
      "source": [
        "### Normalize"
      ]
    },
    {
      "cell_type": "markdown",
      "metadata": {
        "id": "3jZ4O3AxXELw"
      },
      "source": [
        "#### Absolute Normalizer\n",
        "\n",
        "Find the smallest and largest values in training sample data (67,403) and store them for later use"
      ]
    },
    {
      "cell_type": "code",
      "metadata": {
        "id": "EXWGAuNcbMA0"
      },
      "source": [
        "max = -1000\n",
        "min = 1000\n",
        "for event in unparsed_train:\n",
        "  norm_data = []\n",
        "  for i in range(67,403):\n",
        "    if event[i] > max:\n",
        "      max = event[i]\n",
        "    if event[i] < min:\n",
        "      min = event[i]"
      ],
      "execution_count": null,
      "outputs": []
    },
    {
      "cell_type": "markdown",
      "metadata": {
        "id": "ZSRV0DM4XH0k"
      },
      "source": [
        "#### Variable Normalizer\n",
        "\n",
        "Find smallest and largest value for each of the 14 variables in train hit data and store them for later use"
      ]
    },
    {
      "cell_type": "code",
      "metadata": {
        "colab": {
          "base_uri": "https://localhost:8080/"
        },
        "id": "63AifPc8KntT",
        "outputId": "47f53a9b-457d-4bb9-dfcf-754a9f7920a4"
      },
      "source": [
        "_max = [-1000 for i in range(10)]\n",
        "_min = [1000 for i in range(10)]\n",
        "for index,event in enumerate(unparsed_train):\n",
        "  lower = 67\n",
        "  for upper in range(lower+14, event.shape[0]+1, 14):\n",
        "    d = event[lower:upper]\n",
        "    d = np.append(d[:2],d[6:])\n",
        "    for a in range(len(d)):\n",
        "      if d[a] > _max[a]:\n",
        "        _max[a] = d[a]\n",
        "      if d[a] < _min[a]:\n",
        "        _min[a] = d[a]\n",
        "    lower = upper\n",
        "print(_max)\n",
        "print(_min)"
      ],
      "execution_count": 4,
      "outputs": [
        {
          "output_type": "stream",
          "text": [
            "[47.588573718740314, 47.716949659038654, 47.920741252343745, 0.04333333333333333, 96.0, 24.0, 343.5052137331197, 274.8641357421875, 3.24600255369344e-07, 137.76808719278492]\n",
            "[-47.69482374702719, -47.64816097490715, -47.78196688638672, 0.010072585750472143, 1.0, 1.0, 176.8656847042481, -77.76896667480467, 7.068405941829982e-10, 0.3]\n"
          ],
          "name": "stdout"
        }
      ]
    },
    {
      "cell_type": "code",
      "metadata": {
        "id": "7S6MWEYLLhZA"
      },
      "source": [
        "_max = [ 15,  15,  15, 0.043333333333333333, 96.0, 24.0, 343.5052137331197, 274.8641357421875 , 3.24600255369344e-07 , 137.76808719278492]\n",
        "_min = [-15, -15, -15, 0.010072585750472143,  1.0,  1.0, 176.8656847042481, -77.76896667480467, 7.068405941829982e-10,   0.3]"
      ],
      "execution_count": null,
      "outputs": []
    },
    {
      "cell_type": "markdown",
      "metadata": {
        "id": "BGX_cUUwkVFa"
      },
      "source": [
        "### Whole data parser\n",
        "\n",
        "Take the data input and convert it into python list of numpy ndarrays of shape: (1,hits,14)\n",
        "\n",
        "It will normalize each of the 14 variables seperately using the \"Variable Normalizer\" from above.\n"
      ]
    },
    {
      "cell_type": "code",
      "metadata": {
        "id": "4DfVVuFT6Ld8"
      },
      "source": [
        "def parser(unparsed):\n",
        "  global _min, _max\n",
        "  x_final = []\n",
        "  y_final = []\n",
        "  other_final = []\n",
        "  for event in unparsed:\n",
        "    x = []\n",
        "    y = []\n",
        "    other = []\n",
        "\n",
        "    nEvent = event[0]\n",
        "    state = event[1:6]\n",
        "    coVar = event[6:31]\n",
        "    invCoVar = event[31:56]\n",
        "    goodnessOfFit = event[56:59]\n",
        "    TOF = event[59:67]\n",
        "\n",
        "\n",
        "    if goodnessOfFit[2] > 0.1:\n",
        "      continue\n",
        "\n",
        "    other = np.append(goodnessOfFit, TOF)\n",
        "\n",
        "\n",
        "    hits = []\n",
        "\n",
        "    lower = 67\n",
        "    for upper in range(lower+14, event.shape[0]+1, 14): # to flip just go from end to 67 by -14 steps?\n",
        "      hasNAN = False\n",
        "      for val in event[lower:upper]:\n",
        "        if isnan(val):\n",
        "          hasNAN = True\n",
        "      if not hasNAN:\n",
        "        hit_data = event[lower:upper]\n",
        "        hit_data = np.append(hit_data[:2],hit_data[6:])\n",
        "        # --== Using absolute normalizer ==--\n",
        "        # hit_data = (hit_data - min) / (max - min)\n",
        "        # hits.append(hit_data)\n",
        "        \n",
        "        for z in range(len(hit_data)):\n",
        "          hit_data[z] = (hit_data[z] - _min[z]) / (_max[z] - _min[z])\n",
        "        \n",
        "        hit_data = np.append(hit_data,TOF)\n",
        "\n",
        "        hits.append(hit_data)\n",
        "      else:\n",
        "        # hits.append([0 for z in range(10)])\n",
        "        hits.append([0 for z in range(18)])\n",
        "      lower = upper\n",
        "    hits = np.array(hits)\n",
        "\n",
        "    for i in range(hits.shape[0]):\n",
        "      x.append(hits[i])\n",
        "      # y.append(hits[i+1]) ## MAKE IT PREDICT EVERY STEP THE SAME THING, y.append(state)\n",
        "      y.append(state)\n",
        "    # y = state\n",
        "\n",
        "    # x = np.expand_dims(np.array(x),0)\n",
        "    # y = np.expand_dims(np.array(y),0)\n",
        "\n",
        "    x_final.append(x)\n",
        "    y_final.append(y)\n",
        "    other_final.append(other)\n",
        "\n",
        "  x_final = np.array(x_final)\n",
        "  y_final = np.array(y_final)\n",
        "  other_final = np.array(other_final)\n",
        "\n",
        "  return x_final, y_final, other_final"
      ],
      "execution_count": 52,
      "outputs": []
    },
    {
      "cell_type": "code",
      "metadata": {
        "colab": {
          "base_uri": "https://localhost:8080/"
        },
        "id": "BQ9LQDGfky27",
        "outputId": "52dc6857-b301-49b3-a6b7-d37952765818"
      },
      "source": [
        "x_train, y_train, other_train = parser(unparsed_train)\n",
        "# print(len(x_train))\n",
        "# if len(x_train) >= 5:\n",
        "#   for i in range(5):\n",
        "#     print(x_train[i].shape)\n",
        "# else:\n",
        "#   for i in range(len(x_train)):\n",
        "#     print(x_train[i].shape)\n",
        "\n",
        "# print(x_train.shape)\n",
        "\n",
        "i = 0\n",
        "print(\"x_shape:\", x_train[i].shape)\n",
        "print(\"y_shape:\", y_train[i].shape)\n",
        "print(\"other s:\", other_train[i].shape)\n",
        "print(\"x:\\n\",x_train[i])\n",
        "print(\"y:\\n\",y_train[i])\n",
        "print(\"o:\\n\",other_train[i])"
      ],
      "execution_count": 53,
      "outputs": [
        {
          "output_type": "stream",
          "text": [
            "x_shape: (24, 18)\n",
            "y_shape: (24, 5)\n",
            "other s: (11,)\n",
            "x:\n",
            " [[0.769 0.766 0.224 0.264 0.495 0.913 0.974 0.819 0.006 0.006 0.    0.\n",
            "  9.21  1.    0.    0.    0.    0.   ]\n",
            " [0.693 0.569 0.365 0.06  0.263 0.87  0.961 0.286 0.033 0.033 0.    0.\n",
            "  9.21  1.    0.    0.    0.    0.   ]\n",
            " [0.239 0.241 0.767 0.105 0.505 0.783 0.935 0.504 0.018 0.018 0.    0.\n",
            "  9.21  1.    0.    0.    0.    0.   ]\n",
            " [0.338 0.448 0.61  0.074 0.716 0.739 0.768 0.336 0.027 0.027 0.    0.\n",
            "  9.21  1.    0.    0.    0.    0.   ]\n",
            " [0.571 0.674 0.373 0.288 0.705 0.696 0.755 0.731 0.005 0.005 0.    0.\n",
            "  9.21  1.    0.    0.    0.    0.   ]\n",
            " [0.733 0.724 0.264 0.041 0.484 0.652 0.742 0.543 0.048 0.048 0.    0.\n",
            "  9.21  1.    0.    0.    0.    0.   ]\n",
            " [0.654 0.547 0.395 0.124 0.295 0.609 0.729 0.573 0.015 0.015 0.    0.\n",
            "  9.21  1.    0.    0.    0.    0.   ]\n",
            " [0.428 0.327 0.626 0.043 0.305 0.565 0.716 0.302 0.047 0.047 0.    0.\n",
            "  9.21  1.    0.    0.    0.    0.   ]\n",
            " [0.275 0.283 0.728 0.024 0.516 0.522 0.703 0.33  0.081 0.081 0.    0.\n",
            "  9.21  1.    0.    0.    0.    0.   ]\n",
            " [0.393 0.476 0.567 0.083 0.663 0.478 0.416 0.502 0.023 0.023 0.    0.\n",
            "  9.21  1.    0.    0.    0.    0.   ]\n",
            " [0.568 0.64  0.392 0.03  0.642 0.435 0.403 0.295 0.066 0.066 0.    0.\n",
            "  9.21  1.    0.    0.    0.    0.   ]\n",
            " [0.676 0.661 0.325 0.056 0.474 0.391 0.39  0.457 0.035 0.035 0.    0.\n",
            "  9.21  1.    0.    0.    0.    0.   ]\n",
            " [0.607 0.522 0.433 0.066 0.337 0.348 0.377 0.448 0.03  0.03  0.    0.\n",
            "  9.21  1.    0.    0.    0.    0.   ]\n",
            " [0.332 0.345 0.666 0.023 0.526 0.261 0.351 0.427 0.085 0.085 0.    0.\n",
            "  9.21  1.    0.    0.    0.    0.   ]\n",
            " [0.437 0.493 0.536 0.038 0.611 0.217 0.065 0.287 0.052 0.052 0.    0.\n",
            "  9.21  1.    0.    0.    0.    0.   ]\n",
            " [0.615 0.601 0.388 0.045 0.474 0.13  0.039 0.495 0.045 0.045 0.    0.\n",
            "  9.21  1.    0.    0.    0.    0.   ]\n",
            " [0.451 0.409 0.572 0.041 0.421 0.043 0.013 0.337 0.048 0.048 0.    0.\n",
            "  9.21  1.    0.    0.    0.    0.   ]\n",
            " [0.393 0.405 0.604 0.032 0.526 0.    0.    0.65  0.061 0.061 0.    0.\n",
            "  9.21  1.    0.    0.    0.    0.   ]\n",
            " [0.    0.    0.    0.    0.    0.    0.    0.    0.    0.    0.    0.\n",
            "  0.    0.    0.    0.    0.    0.   ]\n",
            " [0.    0.    0.    0.    0.    0.    0.    0.    0.    0.    0.    0.\n",
            "  0.    0.    0.    0.    0.    0.   ]\n",
            " [0.    0.    0.    0.    0.    0.    0.    0.    0.    0.    0.    0.\n",
            "  0.    0.    0.    0.    0.    0.   ]\n",
            " [0.    0.    0.    0.    0.    0.    0.    0.    0.    0.    0.    0.\n",
            "  0.    0.    0.    0.    0.    0.   ]\n",
            " [0.    0.    0.    0.    0.    0.    0.    0.    0.    0.    0.    0.\n",
            "  0.    0.    0.    0.    0.    0.   ]\n",
            " [0.    0.    0.    0.    0.    0.    0.    0.    0.    0.    0.    0.\n",
            "  0.    0.    0.    0.    0.    0.   ]]\n",
            "y:\n",
            " [[-4.805 -1.959  9.798  0.297 77.505]\n",
            " [-4.805 -1.959  9.798  0.297 77.505]\n",
            " [-4.805 -1.959  9.798  0.297 77.505]\n",
            " [-4.805 -1.959  9.798  0.297 77.505]\n",
            " [-4.805 -1.959  9.798  0.297 77.505]\n",
            " [-4.805 -1.959  9.798  0.297 77.505]\n",
            " [-4.805 -1.959  9.798  0.297 77.505]\n",
            " [-4.805 -1.959  9.798  0.297 77.505]\n",
            " [-4.805 -1.959  9.798  0.297 77.505]\n",
            " [-4.805 -1.959  9.798  0.297 77.505]\n",
            " [-4.805 -1.959  9.798  0.297 77.505]\n",
            " [-4.805 -1.959  9.798  0.297 77.505]\n",
            " [-4.805 -1.959  9.798  0.297 77.505]\n",
            " [-4.805 -1.959  9.798  0.297 77.505]\n",
            " [-4.805 -1.959  9.798  0.297 77.505]\n",
            " [-4.805 -1.959  9.798  0.297 77.505]\n",
            " [-4.805 -1.959  9.798  0.297 77.505]\n",
            " [-4.805 -1.959  9.798  0.297 77.505]\n",
            " [-4.805 -1.959  9.798  0.297 77.505]\n",
            " [-4.805 -1.959  9.798  0.297 77.505]\n",
            " [-4.805 -1.959  9.798  0.297 77.505]\n",
            " [-4.805 -1.959  9.798  0.297 77.505]\n",
            " [-4.805 -1.959  9.798  0.297 77.505]\n",
            " [-4.805 -1.959  9.798  0.297 77.505]]\n",
            "o:\n",
            " [29.832 31.     0.     0.     0.     9.21   1.     0.     0.     0.\n",
            "  0.   ]\n"
          ],
          "name": "stdout"
        }
      ]
    },
    {
      "cell_type": "code",
      "metadata": {
        "colab": {
          "base_uri": "https://localhost:8080/"
        },
        "id": "3muuDmEgtsz3",
        "outputId": "f38e01e3-e15e-4a2b-f425-cb839add742f"
      },
      "source": [
        "for i in range(100):\n",
        "  yy = y_train[i]\n",
        "  print(\"i:\",i,yy)"
      ],
      "execution_count": null,
      "outputs": [
        {
          "output_type": "stream",
          "text": [
            "i: 0 [-4.805 -1.959  9.798  0.297 77.505]\n",
            "i: 1 [-5.881  1.876 19.786 -0.007 85.963]\n",
            "i: 2 [-13.532   2.467   1.919  -5.848 169.211]\n",
            "i: 3 [ -2.51   -1.784   7.588   0.107 138.047]\n",
            "i: 4 [-17.129   1.434  26.423  -0.118  77.014]\n",
            "i: 5 [-51.732  -0.04   20.991  -0.511  62.764]\n",
            "i: 6 [ -7.787  -2.598   6.704  -9.91  168.021]\n",
            "i: 7 [-9.942 -1.74   6.379  0.622 62.467]\n",
            "i: 8 [-3.746  0.884 14.103 -0.305 66.462]\n",
            "i: 9 [-111.605    0.944   80.677    7.774  176.25 ]\n",
            "i: 10 [-4.192  2.393 10.499  0.135 73.459]\n",
            "i: 11 [-7.63  -0.251  5.875  4.503 83.849]\n",
            "i: 12 [-8.718 -3.042 40.032 -0.133 81.676]\n",
            "i: 13 [-22.806  -0.229  29.248  -0.165  66.385]\n",
            "i: 14 [-146.186    0.689   10.167    2.821  146.179]\n",
            "i: 15 [-2.058  3.104 17.606  0.162 71.93 ]\n",
            "i: 16 [-2.097 -1.06   6.33   0.198 59.175]\n",
            "i: 17 [-13.499   2.147  11.426   0.26   75.82 ]\n",
            "i: 18 [-51.695   2.108   6.699  -4.001 185.492]\n",
            "i: 19 [ -3.395  -1.761  10.441  -7.337 169.664]\n",
            "i: 20 [-8.773  0.468 16.163  0.358 69.704]\n",
            "i: 21 [ -1.127  -0.452  16.551  -2.241 170.123]\n",
            "i: 22 [ -1.503  -1.475   3.011 -11.505 169.764]\n",
            "i: 23 [ -2.533  -0.496  11.999  22.247 168.209]\n",
            "i: 24 [-13.102  -1.022  35.811   0.871  69.741]\n",
            "i: 25 [  -8.047   -1.229   36.703    1.289 -100.851]\n",
            "i: 26 [-1.423 -2.429 10.794 -0.188 73.061]\n",
            "i: 27 [-2.743 -2.186 11.603  0.194 80.802]\n",
            "i: 28 [-4.775 -1.892  9.652  0.196 75.516]\n",
            "i: 29 [-3.258  2.628 12.512 -0.165 77.64 ]\n",
            "i: 30 [-23.651  -2.861  15.723  -0.026 183.1  ]\n",
            "i: 31 [-3.017 -0.004 21.923 -0.063 76.075]\n",
            "i: 32 [-12.681   0.738   2.798  -9.54  107.898]\n",
            "i: 33 [-4.413 -2.169  8.898  0.094 75.466]\n",
            "i: 34 [ -6.737   0.01   24.605   5.784 331.75 ]\n",
            "i: 35 [-24.76   -0.802  22.354  -1.776 143.525]\n",
            "i: 36 [-7.58   0.912 13.311  0.115 76.998]\n",
            "i: 37 [-1.579 -0.472  5.885  0.099 67.636]\n",
            "i: 38 [-99.83    2.723  43.826   2.161 167.868]\n",
            "i: 39 [-8.651 -1.158 18.936  0.09  52.818]\n",
            "i: 40 [-196.622    1.101   14.633   35.255  186.146]\n",
            "i: 41 [-16.422   0.118   9.75  -31.663 179.127]\n",
            "i: 42 [-58.303   0.128   9.716   5.478 102.235]\n",
            "i: 43 [-62.978   0.136  10.218   5.633 107.073]\n",
            "i: 44 [-11.494   2.632   9.368  -0.476  63.895]\n",
            "i: 45 [-5.848  1.353 19.543  0.033 77.876]\n",
            "i: 46 [-15.086  -2.701  14.688  -0.231  68.113]\n",
            "i: 47 [ -9.464   1.449  14.027  -0.085 150.428]\n",
            "i: 48 [ -3.847  -0.514   5.834  11.134 133.888]\n",
            "i: 49 [-6.414 -1.809 34.239 -0.259 62.335]\n",
            "i: 50 [-10.909  -0.677   4.729  17.824 104.455]\n",
            "i: 51 [ -2.084   1.859   5.083 -14.176 168.927]\n",
            "i: 52 [-4.02  -0.118 19.348 -0.205 68.221]\n",
            "i: 53 [-13.517  -2.724   3.836 -12.905 170.139]\n",
            "i: 54 [-3.445  2.672 16.788 -0.387 66.718]\n",
            "i: 55 [-73.861  -0.577  43.221   0.433  65.743]\n",
            "i: 56 [-5.409  2.408 12.359 -0.34  60.761]\n",
            "i: 57 [-1.915 -1.844  5.934  0.406 64.34 ]\n",
            "i: 58 [-3.073  1.265 10.615 -0.231 63.488]\n",
            "i: 59 [-10.422   2.077   6.794  14.315 131.878]\n",
            "i: 60 [-1.788  1.678  9.973 -0.26  66.72 ]\n",
            "i: 61 [ -1.641  -1.1    18.843  -0.088 134.278]\n",
            "i: 62 [-42.488  -1.054  19.01   -5.29  169.522]\n",
            "i: 63 [ -5.45   -1.768  26.934   7.214 100.038]\n",
            "i: 64 [-9.816 -0.908  9.754  0.112 65.468]\n",
            "i: 65 [-19.492  -1.083   7.056  11.476 142.652]\n",
            "i: 66 [-76.649  -0.328  49.147   1.426  94.873]\n",
            "i: 67 [-4.123 -1.515  5.024  5.85  67.77 ]\n",
            "i: 68 [-75.706  -0.166  27.251  -0.091  72.94 ]\n",
            "i: 69 [-31.506   1.475   2.347 -10.429 168.201]\n",
            "i: 70 [ -6.201   1.64    2.349   2.012 169.259]\n",
            "i: 71 [ -3.629  -1.642   4.972  -0.303 107.902]\n",
            "i: 72 [-5.446 -0.857 10.816 -0.053 67.705]\n",
            "i: 73 [-1.148  1.344  9.338 -0.283 78.72 ]\n",
            "i: 74 [ -4.024  -2.281   1.276 -14.662 234.75 ]\n",
            "i: 75 [-3.58   2.154  6.615 -0.054 64.248]\n",
            "i: 76 [-3.507  3.069 11.349 -0.179 54.646]\n",
            "i: 77 [-10.378   2.026  35.759  -0.051  60.333]\n",
            "i: 78 [-12.454  -1.907   5.526  -2.203 168.62 ]\n",
            "i: 79 [-17.517  -3.048  18.53    0.669 177.75 ]\n",
            "i: 80 [ -1.285  -1.819   4.241  -5.    116.978]\n",
            "i: 81 [-4.794 -2.311  4.572  0.596 94.077]\n",
            "i: 82 [-41.986  -1.313  11.819   8.749 170.075]\n",
            "i: 83 [-50.616   1.345  31.197  -0.692  53.008]\n",
            "i: 84 [-1.703  2.897 11.674 -1.771 69.975]\n",
            "i: 85 [-1.711  1.844 12.012 -0.09  61.96 ]\n",
            "i: 86 [-57.935  -2.925  11.514  -0.743  81.905]\n",
            "i: 87 [ -0.237  -0.995  14.122  -2.647 182.35 ]\n",
            "i: 88 [-5.723  0.053 25.825 -0.104 79.89 ]\n",
            "i: 89 [-4.822 -1.214  7.72  -0.036 72.548]\n",
            "i: 90 [ -1.208   1.891   5.936 -16.272 170.068]\n",
            "i: 91 [-16.004  -1.361  16.39   -0.198  60.867]\n",
            "i: 92 [ -2.907  -1.751   5.225 -16.89  169.063]\n",
            "i: 93 [-2.869  1.13  15.074  0.593 48.364]\n",
            "i: 94 [ -5.127  -2.303   4.513  -4.584 164.74 ]\n",
            "i: 95 [ -1.44    1.576  18.446   7.792 336.25 ]\n",
            "i: 96 [-3.476 -0.056 11.862 -0.049 73.213]\n",
            "i: 97 [-13.477   2.425  10.849  -0.47   53.1  ]\n",
            "i: 98 [-271.      -3.115   35.382   -7.902  179.684]\n",
            "i: 99 [-11.256  -0.846   2.457  17.179 116.739]\n"
          ],
          "name": "stdout"
        }
      ]
    },
    {
      "cell_type": "markdown",
      "metadata": {
        "id": "AxV5Vpbluw0Q"
      },
      "source": [
        "### List parsing?"
      ]
    },
    {
      "cell_type": "code",
      "metadata": {
        "id": "1CxhVlB0uwqW"
      },
      "source": [
        "# parse data\n",
        "def list_parser(data):\n",
        "\n",
        "  x_final = []\n",
        "  y_final = []\n",
        "\n",
        "  for event in data:\n",
        "    x = []\n",
        "    y = []\n",
        "\n",
        "    nEvent = event[0]\n",
        "    state = event[1:6]\n",
        "    coVar = event[6:31]\n",
        "    invCoVar = event[31:56]\n",
        "    goodnessOfFit = event[56:59]\n",
        "    TOF = event[59:67]\n",
        "\n",
        "    hits = []\n",
        "\n",
        "    # for i in range(24):\n",
        "    # hits.append(event[67+(i)*14:67+(i+1)*14])\n",
        "\n",
        "    j = 67\n",
        "    upTo = event.shape[0]+1\n",
        "    for i in range(j+14,upTo,14):\n",
        "      hasNAN = False\n",
        "      for a in event[j:i]:\n",
        "        if isnan(a):\n",
        "          hasNAN = True\n",
        "      # print(j,i,hasNAN)\n",
        "      if not hasNAN:\n",
        "        # to_add = (event[j:i] - min) / (max - min)\n",
        "        # hits.append(to_add)\n",
        "        hits.append(event[j:i])\n",
        "      j = i\n",
        "    hits = np.array(hits)\n",
        "\n",
        "    for i in range(hits.shape[0]-1):\n",
        "      x.append(hits[i])\n",
        "      # y.append(hits[i+1])\n",
        "    y = state\n",
        "    x = np.expand_dims(np.array(x),0)\n",
        "    y = np.expand_dims(np.array(y),0)\n",
        "    # x = np.array(x)\n",
        "    # y = np.array(y)\n",
        "\n",
        "    x_final.append(x)\n",
        "    y_final.append(y)\n",
        "\n",
        "  # x_final = np.array(x_final)\n",
        "  # y_final = np.array(y_final)\n",
        "\n",
        "  return x_final, y_final"
      ],
      "execution_count": null,
      "outputs": []
    },
    {
      "cell_type": "code",
      "metadata": {
        "colab": {
          "base_uri": "https://localhost:8080/"
        },
        "id": "kRUpTfnEu67h",
        "outputId": "d80dcb0b-1db5-4c25-fea8-43b9e9d318bc"
      },
      "source": [
        "x_train, y_train = list_parser(unparsed_train)\n",
        "print(len(x_train))\n",
        "if len(x_train) >= 5:\n",
        "  for i in range(5):\n",
        "    print(x_train[i].shape)\n",
        "else:\n",
        "  for i in range(len(x_train)):\n",
        "    print(x_train[i].shape)\n",
        "# 1, 24, 14 would be the largest\n",
        "\n",
        "# x_raggedTensor = tf.ragged.constant(x_train)\n",
        "# y_raggedTensor = tf.ragged.constant(y_train)\n",
        "# print(x_raggedTensor)\n",
        "\n",
        "aax = x_train[0]\n",
        "aay = y_train[0]\n",
        "print(aax.shape)\n",
        "print(aay.shape)\n",
        "print(\"x: \",aax)\n",
        "print(\"y: \",aay)"
      ],
      "execution_count": null,
      "outputs": [
        {
          "output_type": "stream",
          "text": [
            "10000\n",
            "(1, 17, 14)\n",
            "(1, 20, 14)\n",
            "(1, 16, 14)\n",
            "(1, 19, 14)\n",
            "(1, 20, 14)\n",
            "(1, 17, 14)\n",
            "(1, 5)\n",
            "x:  [[[ 25.603  25.364   0.966  -0.26    0.966   0.259 -26.338   0.019\n",
            "    48.     22.    339.206 211.026   0.      1.129]\n",
            "  [ 18.303   6.622   0.966  -0.259   0.966   0.259 -12.895   0.012\n",
            "    26.     21.    337.037  23.258   0.      4.872]\n",
            "  [-24.945 -24.688   0.966  -0.259   0.966   0.259  25.644   0.014\n",
            "    49.     19.    332.723  99.966   0.      2.816]\n",
            "  [-15.501  -4.88    0.966  -0.26    0.966   0.258  10.577   0.013\n",
            "    69.     18.    304.788  40.585   0.      3.965]\n",
            "  [  6.719  16.67    0.966  -0.259   0.966   0.258 -12.08    0.02\n",
            "    68.     17.    302.649 180.      0.      1.035]\n",
            "  [ 22.178  21.387   0.966  -0.26    0.966   0.258 -22.553   0.011\n",
            "    47.     16.    300.484 113.732   0.      6.953]\n",
            "  [ 14.651   4.54    0.966  -0.259   0.966   0.258  -9.937   0.014\n",
            "    29.     15.    298.332 124.33    0.      2.383]\n",
            "  [ -6.891 -16.442   0.966  -0.259   0.966   0.258  12.081   0.011\n",
            "    30.     14.    296.195  28.837   0.      6.696]\n",
            "  [-21.492 -20.699   0.966  -0.26    0.966   0.259  21.87    0.011\n",
            "    50.     13.    294.027  38.607   0.     11.48 ]\n",
            "  [-10.272  -2.256   0.966  -0.258   0.966   0.259   6.502   0.013\n",
            "    64.     12.    246.228  99.415   0.      3.53 ]\n",
            "  [  6.406  13.369   0.966  -0.259   0.966   0.259 -10.253   0.011\n",
            "    62.     11.    244.027  26.103   0.      9.314]\n",
            "  [ 16.706  15.423   0.966  -0.258   0.966   0.258 -16.65    0.012\n",
            "    46.     10.    241.913  83.431   0.      5.169]\n",
            "  [ 10.121   2.114   0.966  -0.259   0.966   0.258  -6.309   0.012\n",
            "    33.      9.    239.69   80.233   0.      4.378]\n",
            "  [-16.042 -14.769   0.966  -0.259   0.966   0.258  15.965   0.011\n",
            "    51.      7.    235.395  72.967   0.     12.005]\n",
            "  [ -6.094  -0.634   0.966  -0.259   0.966   0.259   3.539   0.011\n",
            "    59.      6.    187.68   23.366   0.      7.45 ]\n",
            "  [ 10.939   9.639   0.966  -0.259   0.966   0.258 -10.673   0.012\n",
            "    46.      4.    183.323  96.744   0.      6.43 ]\n",
            "  [ -4.763  -8.639   0.966  -0.259   0.966   0.259   6.991   0.011\n",
            "    41.      2.    179.01   41.009   0.      6.952]]]\n",
            "y:  [[-4.805 -1.959  9.798  0.297 77.505]]\n"
          ],
          "name": "stdout"
        }
      ]
    },
    {
      "cell_type": "markdown",
      "metadata": {
        "id": "nXWxjgeBkSBE"
      },
      "source": [
        "### TimeDist Gen"
      ]
    },
    {
      "cell_type": "code",
      "metadata": {
        "id": "EcxvHN8ONKTG"
      },
      "source": [
        "# parse data\n",
        "def generator(data):\n",
        "\n",
        "  index = 0\n",
        "\n",
        "  while True:\n",
        "\n",
        "    if index >= len(data):\n",
        "      index = 0\n",
        "\n",
        "    event = data[index]\n",
        "\n",
        "    x = []\n",
        "    y = []\n",
        "\n",
        "    state = event[1:6]\n",
        "    coVar = event[6:31]\n",
        "    invCoVar = event[31:56]\n",
        "    goodnessOfFit = event[56:59]\n",
        "    TOF = event[59:67]\n",
        "\n",
        "    hits = []\n",
        "\n",
        "    # for i in range(24):\n",
        "    # hits.append(event[67+(i)*14:67+(i+1)*14])\n",
        "\n",
        "    j = 67\n",
        "    upTo = event.shape[0]+1\n",
        "    for i in range(j+14,upTo,14):\n",
        "      hasNAN = False\n",
        "      for a in event[j:i]:\n",
        "        if isnan(a):\n",
        "          hasNAN = True\n",
        "      # print(j,i,hasNAN)\n",
        "      if not hasNAN:\n",
        "        hits.append(event[j:i])\n",
        "      else:\n",
        "        hits.append([0 for z in range(14)])\n",
        "      j = i\n",
        "    hits = np.array(hits)\n",
        "\n",
        "    for i in range(hits.shape[0]-1):\n",
        "      x.append(hits[i])\n",
        "      y.append(hits[i+1])\n",
        "    # x = np.expand_dims(np.array(x),0)\n",
        "    # y = np.expand_dims(np.array(y),0)\n",
        "\n",
        "    # x_final.append(x)\n",
        "    # y_final.append(y)\n",
        "\n",
        "    # x_final = np.array(x_final)\n",
        "    # y_final = np.array(y_final)\n",
        "\n",
        "    x = np.expand_dims(np.array(x),0)\n",
        "    y = np.expand_dims(np.array(y),0)\n",
        "    index += 1\n",
        "    yield (x, y)"
      ],
      "execution_count": null,
      "outputs": []
    },
    {
      "cell_type": "code",
      "metadata": {
        "id": "RqC9yq97PXWu"
      },
      "source": [
        "train_gen = generator(unparsed_train)"
      ],
      "execution_count": null,
      "outputs": []
    },
    {
      "cell_type": "markdown",
      "metadata": {
        "id": "fqvIeNaLkOaF"
      },
      "source": [
        "### Only Final State Gen"
      ]
    },
    {
      "cell_type": "code",
      "metadata": {
        "id": "a30fxyKYkNEM"
      },
      "source": [
        "# parse data\n",
        "def generator_final_state(data):\n",
        "\n",
        "  index = 0\n",
        "\n",
        "  while True:\n",
        "\n",
        "    if index >= len(data):\n",
        "      index = 0\n",
        "\n",
        "    event = data[index]\n",
        "\n",
        "    x = []\n",
        "    y = []\n",
        "\n",
        "    state = event[1:6]\n",
        "    coVar = event[6:31]\n",
        "    invCoVar = event[31:56]\n",
        "    goodnessOfFit = event[56:59]\n",
        "    TOF = event[59:67]\n",
        "\n",
        "    j = 67\n",
        "    upTo = event.shape[0]+1\n",
        "    max = -1000\n",
        "    min = 1000\n",
        "    for i in range(j+14,upTo,14):\n",
        "      hasNAN = False\n",
        "      for a in event[j:i]:\n",
        "        if isnan(a):\n",
        "          hasNAN = True\n",
        "        else:\n",
        "          if a > max:\n",
        "            max = a\n",
        "          if a < min:\n",
        "            min = a\n",
        "\n",
        "      # print(j,i,hasNAN)\n",
        "      if not hasNAN:\n",
        "        x.append(event[j:i])\n",
        "      j = i\n",
        "\n",
        "    x = np.expand_dims(np.array(x),0)\n",
        "    y = np.expand_dims(np.array(state),0)\n",
        "\n",
        "    x = (x - min) / (max - min)\n",
        "\n",
        "    index += 1\n",
        "    yield (x, y)"
      ],
      "execution_count": null,
      "outputs": []
    },
    {
      "cell_type": "code",
      "metadata": {
        "id": "e-jnEnMPliDf"
      },
      "source": [
        "train_gen = generator_final_state(unparsed_train)"
      ],
      "execution_count": null,
      "outputs": []
    },
    {
      "cell_type": "markdown",
      "metadata": {
        "id": "hWkYEQvFZ7HC"
      },
      "source": [
        "# Verification of proper data processing"
      ]
    },
    {
      "cell_type": "markdown",
      "metadata": {
        "id": "wqKxKcOQYEO4"
      },
      "source": [
        "## Using Generator"
      ]
    },
    {
      "cell_type": "code",
      "metadata": {
        "id": "ml3HHzoEaAhr"
      },
      "source": [
        "aax, aay = next(train_gen)\n",
        "print(aax.shape)\n",
        "print(aay.shape)"
      ],
      "execution_count": null,
      "outputs": []
    },
    {
      "cell_type": "code",
      "metadata": {
        "id": "gv72llYMaUYd"
      },
      "source": [
        "print(\"x\",aax[0])\n",
        "print(\"y\",aay[0])"
      ],
      "execution_count": null,
      "outputs": []
    },
    {
      "cell_type": "markdown",
      "metadata": {
        "id": "DcwDKKLLe079"
      },
      "source": [
        "## Non Genenerator"
      ]
    },
    {
      "cell_type": "code",
      "metadata": {
        "id": "DlU3tRGpYxQV",
        "colab": {
          "base_uri": "https://localhost:8080/"
        },
        "outputId": "a24ded2d-d1d0-4555-84a9-428edf5b2e7d"
      },
      "source": [
        "for i in range(10):\n",
        "  aax = x_train[i]\n",
        "  aay = y_train[i]\n",
        "  # print(aax.shape)\n",
        "  # print(aay.shape)\n",
        "  # print(\"x\",aax)\n",
        "  print(\"y\",aay)"
      ],
      "execution_count": null,
      "outputs": [
        {
          "output_type": "stream",
          "text": [
            "y [-4.805 -1.959  9.798  0.297 77.505]\n",
            "y [-5.881  1.876 19.786 -0.007 85.963]\n",
            "y [-13.532   2.467   1.919  -5.848 169.211]\n",
            "y [ -2.51   -1.784   7.588   0.107 138.047]\n",
            "y [-17.129   1.434  26.423  -0.118  77.014]\n",
            "y [-51.732  -0.04   20.991  -0.511  62.764]\n",
            "y [ -7.787  -2.598   6.704  -9.91  168.021]\n",
            "y [-755.88    -2.511   56.192  -11.262  177.016]\n",
            "y [-9.942 -1.74   6.379  0.622 62.467]\n",
            "y [-3.746  0.884 14.103 -0.305 66.462]\n"
          ],
          "name": "stdout"
        }
      ]
    },
    {
      "cell_type": "markdown",
      "metadata": {
        "id": "rCpP2wsfdeGl"
      },
      "source": [
        "## Graphs of Data"
      ]
    },
    {
      "cell_type": "markdown",
      "metadata": {
        "id": "fAxLbw94GYzm"
      },
      "source": [
        "### filter_ignore\n",
        "\n",
        "Filters out large and small values and graphs them"
      ]
    },
    {
      "cell_type": "code",
      "metadata": {
        "id": "FiUKfbtfAoLm"
      },
      "source": [
        "def filter_ignore(var,min=None,max=None,bins=25,ylog=False,xlog=False,cut=True):\n",
        "  list_ignore = []\n",
        "\n",
        "  print(\"--== {} ==--\\n\".format(var))\n",
        "\n",
        "  largest = 0\n",
        "  smallest = 0\n",
        "  for i in range(len(csv_train[var])):\n",
        "    if csv_train[var][i] > csv_train[var][largest]:\n",
        "      largest = i\n",
        "    if csv_train[var][i] < csv_train[var][smallest]:\n",
        "      smallest = i\n",
        "  print(\"largest value:  ({}, {:.3f})\".format(largest,csv_train[var][largest]))\n",
        "  print(\"smallest value: ({}, {:.3f})\".format(smallest,csv_train[var][smallest]))\n",
        "\n",
        "  print(\"\")\n",
        "\n",
        "  if min:\n",
        "    for i in range(len(csv_train[var])):\n",
        "      if csv_train[var][i] < min:\n",
        "        list_ignore.append(i)\n",
        "    print(\"min IDs to ignore for '{}':\".format(var))\n",
        "    print(csv_train[var][list_ignore])\n",
        "    print(\"\")\n",
        "  if max:\n",
        "    for i in range(len(csv_train[var])):\n",
        "      if csv_train[var][i] > max:\n",
        "        list_ignore.append(i)\n",
        "    print(\"max IDs to ignore for '{}':\".format(var))\n",
        "    print(csv_train[var][list_ignore])\n",
        "    print(\"\")\n",
        "  if min and max:\n",
        "    print(\"total IDs to ignore for '{}':\".format(var))\n",
        "    print(csv_train[var][list_ignore])\n",
        "    print(\"\")\n",
        "    plt.hist(csv_train[var],range=[min,max],bins=bins)\n",
        "  elif min:\n",
        "    plt.hist(csv_train[var],range=[min,csv_train[var][largest]],bins=bins)\n",
        "  elif max:\n",
        "    plt.hist(csv_train[var],range=[csv_train[var][smallest],max],bins=bins)\n",
        "  else:\n",
        "    plt.hist(csv_train[var],bins=bins)\n",
        "  \n",
        "  plt.title(var)\n",
        "  if cut:\n",
        "    plt.xlim(left=min,right=max)\n",
        "  if ylog:\n",
        "    plt.yscale(\"log\")\n",
        "  if xlog:\n",
        "    plt.xscale(\"log\")\n",
        "  plt.show()\n",
        "  return list_ignore"
      ],
      "execution_count": null,
      "outputs": []
    },
    {
      "cell_type": "code",
      "metadata": {
        "id": "BwsJ0YIoBiew"
      },
      "source": [
        "filter_ignore(\"q_over_pt\",min=-7500,bins=25,ylog=True)"
      ],
      "execution_count": null,
      "outputs": []
    },
    {
      "cell_type": "code",
      "metadata": {
        "id": "2Wyjq07YGjBF"
      },
      "source": [
        "filter_ignore(\"tanl\",max=1000,bins=25,ylog=True)"
      ],
      "execution_count": null,
      "outputs": []
    },
    {
      "cell_type": "code",
      "metadata": {
        "id": "xauTTOyrHPyT"
      },
      "source": [
        "rms_ignore = filter_ignore(\"rms\",max=0.1,bins=25,ylog=True)"
      ],
      "execution_count": null,
      "outputs": []
    },
    {
      "cell_type": "code",
      "metadata": {
        "colab": {
          "base_uri": "https://localhost:8080/",
          "height": 385
        },
        "id": "ERa-RZDbN6Hm",
        "outputId": "d2e52a9b-8d8b-470b-d59f-0e0f82f96897"
      },
      "source": [
        "filter_ignore(\"hit1_glayer\",bins=25)"
      ],
      "execution_count": null,
      "outputs": [
        {
          "output_type": "stream",
          "text": [
            "--== hit1_glayer ==--\n",
            "\n",
            "largest value:  (1, 24.000)\n",
            "smallest value: (10, 6.000)\n",
            "\n"
          ],
          "name": "stdout"
        },
        {
          "output_type": "display_data",
          "data": {
            "image/png": "[encoded data removed]",
            "text/plain": [
              "<Figure size 432x288 with 1 Axes>"
            ]
          },
          "metadata": {
            "tags": [],
            "needs_background": "light"
          }
        },
        {
          "output_type": "execute_result",
          "data": {
            "text/plain": [
              "[]"
            ]
          },
          "metadata": {
            "tags": []
          },
          "execution_count": 219
        }
      ]
    },
    {
      "cell_type": "code",
      "metadata": {
        "id": "UBO9wKCH2ePH"
      },
      "source": [
        "csv_train.keys()"
      ],
      "execution_count": null,
      "outputs": []
    },
    {
      "cell_type": "markdown",
      "metadata": {
        "id": "yc3WNfPaYwaL"
      },
      "source": [
        "### 1D Hist of all Data"
      ]
    },
    {
      "cell_type": "code",
      "metadata": {
        "colab": {
          "base_uri": "https://localhost:8080/",
          "height": 809
        },
        "id": "2VqlQxZRgTB7",
        "outputId": "2a5ce7d3-1665-4d71-80f5-5b7ed7ceb673"
      },
      "source": [
        "plt.hist(csv_train[\"phi\"],bins=50) # -3 to 3, even distrib\n",
        "plt.title(\"phi\")\n",
        "plt.show()\n",
        "# ---\n",
        "plt.hist(csv_train[\"D\"],range=[-3000,80],bins=25) # -3000 to 50, but val in 65\n",
        "plt.yscale(\"log\")\n",
        "plt.title(\"D\")\n",
        "plt.show()\n",
        "# ---\n",
        "plt.hist(csv_train[\"z\"],bins=100)\n",
        "plt.title(\"z\")\n",
        "plt.show()"
      ],
      "execution_count": null,
      "outputs": [
        {
          "output_type": "display_data",
          "data": {
            "image/png": "[encoded data removed]",
            "text/plain": [
              "<Figure size 432x288 with 1 Axes>"
            ]
          },
          "metadata": {
            "tags": [],
            "needs_background": "light"
          }
        },
        {
          "output_type": "display_data",
          "data": {
            "image/png": "[encoded data removed]",
            "text/plain": [
              "<Figure size 432x288 with 1 Axes>"
            ]
          },
          "metadata": {
            "tags": [],
            "needs_background": "light"
          }
        },
        {
          "output_type": "display_data",
          "data": {
            "image/png": "[encoded data removed]",
            "text/plain": [
              "<Figure size 432x288 with 1 Axes>"
            ]
          },
          "metadata": {
            "tags": [],
            "needs_background": "light"
          }
        }
      ]
    },
    {
      "cell_type": "code",
      "metadata": {
        "id": "TbqYK55L05mB"
      },
      "source": [
        "# fig, ax = plt.subplots(2,1,figsize=(5,10))\n",
        "# fig.subplots_adjust(hspace=0.35)\n",
        "\n",
        "plt.hist(csv_train[\"cov_00\"],range=[0,1e8],bins=25) # 0 to 1e13\n",
        "plt.yscale(\"log\")\n",
        "plt.title(\"cov_00\")\n",
        "plt.show()\n",
        "# ---\n",
        "plt.hist(csv_train[\"cov_01\"],bins=25) # -1e6 to over 1e5\n",
        "plt.yscale(\"log\")\n",
        "plt.title(\"cov_01\")\n",
        "plt.show()\n",
        "# ---\n",
        "plt.hist(csv_train[\"chisq\"],bins=25) # 0 to 200\n",
        "plt.yscale(\"log\")\n",
        "plt.title(\"chisq\")\n",
        "plt.show()\n",
        "# ---\n",
        "plt.hist(csv_train[\"Ndof\"],range=[0,44],bins=45) # ? this one weird 0 to ~43\n",
        "plt.yscale(\"log\")\n",
        "plt.title(\"Ndof\")\n",
        "plt.show()\n",
        "# ---\n",
        "plt.hist(csv_train[\"rms\"],range=[0,0.1],bins=25) # \n",
        "# plt.xscale(\"log\")\n",
        "plt.yscale(\"log\")\n",
        "plt.title(\"rms\")\n",
        "plt.show()\n",
        "# ---\n",
        "# plt.hist(csv_train[\"t_start_cntr\"],bins=25) # -60 to ~50\n",
        "plt.hist(csv_train[csv_train[\"t_start_cntr_valid\"] == 1][\"t_start_cntr\"],bins=25) # -60 to ~50\n",
        "plt.title(\"t_start_cntr\")\n",
        "plt.show()\n",
        "\n",
        "# plt.hist(csv_train[\"t_tof\"],bins=25) # ~-120 to ~175\n",
        "plt.hist(csv_train[csv_train[\"t_tof_valid\"] == 1][\"t_tof\"],bins=25) # ~-120 to ~175\n",
        "plt.title(\"t_tof\")\n",
        "plt.show()\n",
        "plt.hist(csv_train[\"t_bcal\"],bins=25) # ~-22 to 20\n",
        "plt.title(\"t_bcal\")\n",
        "plt.show()\n",
        "plt.hist(csv_train[\"t_fcal\"],bins=25) # ~-100 to ~75\n",
        "plt.yscale(\"log\")\n",
        "plt.title(\"t_fcal\")\n",
        "plt.show()\n",
        "# ---\n",
        "plt.hist(csv_train[\"t_start_cntr_valid\"],bins=25) # a lot more 0s\n",
        "plt.title(\"t_start_cntr_valid\")\n",
        "plt.show()\n",
        "plt.hist(csv_train[\"t_tof_valid\"],bins=25) # about 5050\n",
        "plt.title(\"t_tof_valid\")\n",
        "plt.show()\n",
        "plt.hist(csv_train[\"t_bcal_valid\"],bins=25) # almost all 0s\n",
        "plt.title(\"t_bcal_valid\")\n",
        "plt.show()\n",
        "plt.hist(csv_train[\"t_fcal_valid\"],bins=25) # almost all 0s\n",
        "plt.title(\"t_fcal_valid\")\n",
        "plt.show()\n",
        "# ---\n",
        "\n"
      ],
      "execution_count": null,
      "outputs": []
    },
    {
      "cell_type": "markdown",
      "metadata": {
        "id": "LbzN70C9MCrQ"
      },
      "source": [
        "### 1D Hist of Hit1 Data"
      ]
    },
    {
      "cell_type": "code",
      "metadata": {
        "colab": {
          "base_uri": "https://localhost:8080/",
          "height": 1000
        },
        "id": "VGzHLbKsLUZ9",
        "outputId": "8f769c18-de07-4f55-89e0-cc28a56a5925"
      },
      "source": [
        "plt.hist(csv_train[\"hit1_u\"],bins=25) # -42 to 42\n",
        "plt.title(\"hit1_u\")\n",
        "plt.show()\n",
        "plt.hist(csv_train[\"hit1_v\"],bins=25) # -42 to 42\n",
        "plt.title(\"hit1_v\")\n",
        "plt.show()\n",
        "# plt.hist(csv_train[\"hit1_sinv\"],bins=25) # most are 0.96603 almost all are around that though\n",
        "# plt.title(\"hit1_sinv\")\n",
        "# plt.show()\n",
        "# plt.hist(csv_train[\"hit1_cosv\"],bins=25) # most -0.2585\n",
        "# plt.title(\"hit1_cosv\")\n",
        "# plt.show()\n",
        "# plt.hist(csv_train[\"hit1_sinu\"],bins=25) # most 0.96585\n",
        "# plt.title(\"hit1_sinu\")\n",
        "# plt.show()\n",
        "# plt.hist(csv_train[\"hit1_cosu\"],bins=25) # most 0.2591\n",
        "# plt.title(\"hit1_cosu\")\n",
        "# plt.show()\n",
        "plt.hist(csv_train[\"hit1_s\"],bins=25) # -42 to 42\n",
        "plt.title(\"hit1_s\")\n",
        "plt.show()\n",
        "plt.hist(csv_train[\"hit1_ds\"],bins=25) # 0.01 to 0.04\n",
        "plt.title(\"hit1_ds\")\n",
        "plt.show()\n",
        "plt.hist(csv_train[\"hit1_wire\"],bins=101,range=[0,100]) # 0 to 100\n",
        "plt.title(\"hit1_wire\")\n",
        "plt.show()\n",
        "plt.hist(csv_train[\"hit1_glayer\"],bins=25,range=[0,26]) # 6 to 23\n",
        "plt.title(\"hit1_glayer\")\n",
        "plt.show()\n",
        "plt.hist(csv_train[\"hit1_z\"],bins=25) # spaced out between 180 and 340\n",
        "plt.title(\"hit1_z\")\n",
        "plt.show()\n",
        "plt.hist(csv_train[\"hit1_time\"],bins=25) # -75 to 270\n",
        "plt.title(\"hit1_time\")\n",
        "plt.show()\n",
        "plt.hist(csv_train[\"hit1_dE_amp\"],bins=25) # 0 to 2e-7\n",
        "plt.title(\"hit1_dE_amp\")\n",
        "plt.show()\n",
        "plt.hist(csv_train[\"hit1_q\"],bins=25) # 0 to 85\n",
        "plt.yscale(\"log\")\n",
        "plt.title(\"hit1_q\")\n",
        "plt.show()\n",
        "# ---"
      ],
      "execution_count": null,
      "outputs": [
        {
          "output_type": "display_data",
          "data": {
            "image/png": "[encoded data removed]",
            "text/plain": [
              "<Figure size 432x288 with 1 Axes>"
            ]
          },
          "metadata": {
            "tags": [],
            "needs_background": "light"
          }
        },
        {
          "output_type": "display_data",
          "data": {
            "image/png": "[encoded data removed]",
            "text/plain": [
              "<Figure size 432x288 with 1 Axes>"
            ]
          },
          "metadata": {
            "tags": [],
            "needs_background": "light"
          }
        },
        {
          "output_type": "display_data",
          "data": {
            "image/png": "[encoded data removed]",
            "text/plain": [
              "<Figure size 432x288 with 1 Axes>"
            ]
          },
          "metadata": {
            "tags": [],
            "needs_background": "light"
          }
        },
        {
          "output_type": "display_data",
          "data": {
            "image/png": "[encoded data removed]",
            "text/plain": [
              "<Figure size 432x288 with 1 Axes>"
            ]
          },
          "metadata": {
            "tags": [],
            "needs_background": "light"
          }
        },
        {
          "output_type": "display_data",
          "data": {
            "image/png": "[encoded data removed]",
            "text/plain": [
              "<Figure size 432x288 with 1 Axes>"
            ]
          },
          "metadata": {
            "tags": [],
            "needs_background": "light"
          }
        },
        {
          "output_type": "display_data",
          "data": {
            "image/png": "[encoded data removed]",
            "text/plain": [
              "<Figure size 432x288 with 1 Axes>"
            ]
          },
          "metadata": {
            "tags": [],
            "needs_background": "light"
          }
        },
        {
          "output_type": "display_data",
          "data": {
            "image/png": "[encoded data removed]",
            "text/plain": [
              "<Figure size 432x288 with 1 Axes>"
            ]
          },
          "metadata": {
            "tags": [],
            "needs_background": "light"
          }
        },
        {
          "output_type": "display_data",
          "data": {
            "image/png": "[encoded data removed]",
            "text/plain": [
              "<Figure size 432x288 with 1 Axes>"
            ]
          },
          "metadata": {
            "tags": [],
            "needs_background": "light"
          }
        },
        {
          "output_type": "display_data",
          "data": {
            "image/png": "[encoded data removed]",
            "text/plain": [
              "<Figure size 432x288 with 1 Axes>"
            ]
          },
          "metadata": {
            "tags": [],
            "needs_background": "light"
          }
        },
        {
          "output_type": "display_data",
          "data": {
            "image/png": "[encoded data removed]",
            "text/plain": [
              "<Figure size 432x288 with 1 Axes>"
            ]
          },
          "metadata": {
            "tags": [],
            "needs_background": "light"
          }
        }
      ]
    },
    {
      "cell_type": "markdown",
      "metadata": {
        "id": "oxIRSBXpYzU7"
      },
      "source": [
        "### 2D Scatters of various data"
      ]
    },
    {
      "cell_type": "code",
      "metadata": {
        "colab": {
          "base_uri": "https://localhost:8080/",
          "height": 299
        },
        "id": "8hgtNdVxY-4_",
        "outputId": "9e12924e-9cb0-492c-fcbb-8cbc7ed4680e"
      },
      "source": [
        "plt.scatter(csv_train[\"tanl\"],abs(csv_train[\"q_over_pt\"]),s=0.01) # a lot more 0s\n",
        "plt.title(\"q_over_pt vs tanl\")\n",
        "plt.xlabel(\"tanl\")\n",
        "plt.ylabel(\"q_over_pt\")\n",
        "plt.yscale(\"log\")\n",
        "plt.xscale(\"log\")\n",
        "plt.grid(True)\n",
        "plt.show()"
      ],
      "execution_count": null,
      "outputs": [
        {
          "output_type": "display_data",
          "data": {
            "image/png": "[encoded data removed]",
            "text/plain": [
              "<Figure size 432x288 with 1 Axes>"
            ]
          },
          "metadata": {
            "tags": [],
            "needs_background": "light"
          }
        }
      ]
    },
    {
      "cell_type": "code",
      "metadata": {
        "colab": {
          "base_uri": "https://localhost:8080/",
          "height": 296
        },
        "id": "4pjOeJd85uWM",
        "outputId": "887b1312-0399-4223-ff5d-576875baa7e8"
      },
      "source": [
        "# all create a plus sign\n",
        "plt.scatter(csv_train[\"t_start_cntr\"],csv_train[\"t_tof\"]) # a lot more 0s\n",
        "plt.title(\"t_tof vs t_start_cntr\")\n",
        "plt.xlabel(\"t_start_cntr\")\n",
        "plt.ylabel(\"t_tof\")\n",
        "plt.show()\n",
        "\n",
        "# plt.hist(csv_train[\"t_start_cntr\"],bins=25) # -60 to ~50\n",
        "# plt.hist(csv_train[\"t_tof\"],bins=25) # ~-120 to ~175\n",
        "# plt.hist(csv_train[\"t_bcal\"],bins=25) # ~-22 to 20\n",
        "# plt.hist(csv_train[\"t_fcal\"],bins=25) # ~-100 to ~75"
      ],
      "execution_count": null,
      "outputs": [
        {
          "output_type": "display_data",
          "data": {
            "image/png": "[encoded data removed]",
            "text/plain": [
              "<Figure size 432x288 with 1 Axes>"
            ]
          },
          "metadata": {
            "tags": [],
            "needs_background": "light"
          }
        }
      ]
    },
    {
      "cell_type": "code",
      "metadata": {
        "colab": {
          "base_uri": "https://localhost:8080/",
          "height": 265
        },
        "id": "IFF2_7npOseE",
        "outputId": "8e8bec48-6610-41d1-8faa-64814bb75af9"
      },
      "source": [
        "plt.hist(csv_train[\"hit1_glayer\"],bins=24)\n",
        "plt.hist(csv_train[\"hit2_glayer\"],bins=24)\n",
        "plt.hist(csv_train[\"hit3_glayer\"],bins=24)\n",
        "plt.hist(csv_train[\"hit4_glayer\"],bins=24)\n",
        "plt.hist(csv_train[\"hit5_glayer\"],bins=24)\n",
        "plt.hist(csv_train[\"hit6_glayer\"],bins=24)\n",
        "plt.hist(csv_train[\"hit10_glayer\"],bins=24)\n",
        "plt.show()"
      ],
      "execution_count": null,
      "outputs": [
        {
          "output_type": "display_data",
          "data": {
            "image/png": "[encoded data removed]",
            "text/plain": [
              "<Figure size 432x288 with 1 Axes>"
            ]
          },
          "metadata": {
            "tags": [],
            "needs_background": "light"
          }
        }
      ]
    },
    {
      "cell_type": "markdown",
      "metadata": {
        "id": "IdRImNvKZ0Fa"
      },
      "source": [
        "### 2D Scatters of various hit data"
      ]
    },
    {
      "cell_type": "code",
      "metadata": {
        "colab": {
          "base_uri": "https://localhost:8080/",
          "height": 1000
        },
        "id": "4mxK94YV2FM2",
        "outputId": "7476bda8-2120-4f88-f2d9-3ca3db7a5c60"
      },
      "source": [
        "# Oval\n",
        "plt.scatter(csv_train[\"hit1_u\"],csv_train[\"hit1_v\"]) # -3 to 3, even distrib\n",
        "plt.title(\"v vs u\")\n",
        "plt.xlabel(\"u\")\n",
        "plt.ylabel(\"v\")\n",
        "plt.show()\n",
        "\n",
        "# like a flame\n",
        "plt.scatter(csv_train[\"hit1_s\"],csv_train[\"hit1_ds\"]) # -3 to 3, even distrib\n",
        "plt.title(\"ds vs s\")\n",
        "plt.xlabel(\"s\")\n",
        "plt.ylabel(\"ds\")\n",
        "plt.show()\n",
        "\n",
        "# hit1_wire, with single letters, forms an oval\n",
        "plt.scatter(csv_train[\"hit1_wire\"],csv_train[\"hit1_s\"]) # -3 to 3, even distrib\n",
        "plt.title(\"hit1_s vs hit1_wire\")\n",
        "plt.xlabel(\"hit1_wire\")\n",
        "plt.ylabel(\"hit1_s\")\n",
        "plt.show()\n",
        "\n",
        "# go up in steps\n",
        "plt.scatter(csv_train[\"hit1_glayer\"],csv_train[\"hit1_z\"]) # -3 to 3, even distrib\n",
        "plt.title(\"z vs glayer\")\n",
        "plt.xlabel(\"glayer\")\n",
        "plt.ylabel(\"z\")\n",
        "plt.show()\n",
        "\n",
        "# 1:1\n",
        "plt.scatter(csv_train[\"hit1_q\"],csv_train[\"hit1_dE_amp\"]) # -3 to 3, even distrib\n",
        "plt.title(\"dE_amp vs q\")\n",
        "plt.xlabel(\"q\")\n",
        "plt.ylabel(\"dE_amp\")\n",
        "plt.show()\n",
        "\n"
      ],
      "execution_count": null,
      "outputs": [
        {
          "output_type": "display_data",
          "data": {
            "image/png": "[encoded data removed]",
            "text/plain": [
              "<Figure size 432x288 with 1 Axes>"
            ]
          },
          "metadata": {
            "tags": [],
            "needs_background": "light"
          }
        },
        {
          "output_type": "display_data",
          "data": {
            "image/png": "[encoded data removed]",
            "text/plain": [
              "<Figure size 432x288 with 1 Axes>"
            ]
          },
          "metadata": {
            "tags": [],
            "needs_background": "light"
          }
        },
        {
          "output_type": "display_data",
          "data": {
            "image/png": "[encoded data removed]",
            "text/plain": [
              "<Figure size 432x288 with 1 Axes>"
            ]
          },
          "metadata": {
            "tags": [],
            "needs_background": "light"
          }
        },
        {
          "output_type": "display_data",
          "data": {
            "image/png": "[encoded data removed]",
            "text/plain": [
              "<Figure size 432x288 with 1 Axes>"
            ]
          },
          "metadata": {
            "tags": [],
            "needs_background": "light"
          }
        },
        {
          "output_type": "display_data",
          "data": {
            "image/png": "[encoded data removed]",
            "text/plain": [
              "<Figure size 432x288 with 1 Axes>"
            ]
          },
          "metadata": {
            "tags": [],
            "needs_background": "light"
          }
        }
      ]
    },
    {
      "cell_type": "markdown",
      "metadata": {
        "id": "SMvnihIl6ail"
      },
      "source": [
        "# Model"
      ]
    },
    {
      "cell_type": "markdown",
      "metadata": {
        "id": "zdreWH016c08"
      },
      "source": [
        "## Various Models"
      ]
    },
    {
      "cell_type": "code",
      "metadata": {
        "id": "e8qCwtNw6bFk"
      },
      "source": [
        "def model(x):\n",
        "  x = keras.layers.LSTM(64,activation=\"tanh\", name='input_lstm1', return_sequences=True)(x)\n",
        "  x = keras.layers.TimeDistributed(keras.layers.Dense(32, activation='relu'), name=\"TD1-Dense\")(x)\n",
        "  x = keras.layers.TimeDistributed(keras.layers.Dense(14, activation='linear'), name=\"output-Dense\")(x)\n",
        "  return x\n",
        "def model_timeless(x):\n",
        "  x = keras.layers.LSTM(64,activation=\"tanh\", name='input_lstm1', return_sequences=False)(x)\n",
        "  x = keras.layers.Dense(32, activation='relu', name=\"Dense1\")(x)\n",
        "  x = keras.layers.Dense(5, activation='relu', name=\"output-Dense\")(x)\n",
        "  return x\n",
        "\n",
        "def RNNTime(x):\n",
        "  x = keras.layers.LSTM(128,activation=\"tanh\", name='input_lstm1', stateful=False, return_sequences=True)(x) #, batch_input_shape=(128,None,6)\n",
        "  x = keras.layers.LSTM(64,activation=\"tanh\", name='lstm2', stateful=False, return_sequences=True)(x)\n",
        "  x = keras.layers.LSTM(32,activation=\"tanh\", name='lstm3', stateful=False, return_sequences=True)(x)\n",
        "  x = keras.layers.TimeDistributed(keras.layers.Dense(32, activation='relu'), name=\"TD1-Dense\")(x)\n",
        "  x = keras.layers.TimeDistributed(keras.layers.Dense(5, activation='linear'), name=\"output-Dense\")(x)\n",
        "  return x\n",
        "\n",
        "def RNNTimeless(x):\n",
        "  # x = keras.layers.LSTM(128,activation=\"tanh\", name='input_lstm1', batch_input_shape=() , stateful=False, return_sequences=True)(x) #, batch_input_shape=(128,None,6)\n",
        "  x = keras.layers.LSTM(128,activation=\"tanh\", name='input_lstm1', stateful=False, return_sequences=True)(x) #, batch_input_shape=(128,None,6)\n",
        "  x = keras.layers.LSTM(64,activation=\"tanh\", name='lstm2', stateful=False, return_sequences=True)(x)\n",
        "  x = keras.layers.LSTM(32,activation=\"tanh\", name='lstm3', stateful=False, return_sequences=False)(x)\n",
        "  x = keras.layers.Dense(32, activation='relu', name=\"Dense1\")(x)\n",
        "  x = keras.layers.Dense(5, activation='linear', name=\"output-Dense\")(x)\n",
        "  return x"
      ],
      "execution_count": 65,
      "outputs": []
    },
    {
      "cell_type": "markdown",
      "metadata": {
        "id": "tv5q6euL6nO6"
      },
      "source": [
        "## Build Model"
      ]
    },
    {
      "cell_type": "code",
      "metadata": {
        "id": "RhDo4-ih6nhL"
      },
      "source": [
        "# nInput = 14\n",
        "# nInput = 10\n",
        "nInput = 18\n",
        "\n",
        "inputs = keras.layers.Input((None,nInput))\n",
        "# print(\"train shape of one batch:\", x_train.shape[1:])\n",
        "\n",
        "# --==Set seed to get identical results==-- begin\n",
        "# from tensorflow.random import set_seed\n",
        "# np.random.seed(1)\n",
        "# set_seed(2)\n",
        "# --==Set seed to get identical results==-- end\n",
        "\n",
        "\n",
        "# --==Choose model==--\n",
        "# x = model(inputs)\n",
        "# x = model_timeless(inputs)\n",
        "x = RNNTime(inputs)\n",
        "# x = RNNTimeless(inputs)\n",
        "# x = RNNTimeStateful(inputs)\n",
        "\n",
        "model = keras.Model(inputs=inputs, outputs=x, name=\"RNNModel\")"
      ],
      "execution_count": 66,
      "outputs": []
    },
    {
      "cell_type": "markdown",
      "metadata": {
        "id": "Gtf37tFTB5HU"
      },
      "source": [
        "## Custom Loss"
      ]
    },
    {
      "cell_type": "code",
      "metadata": {
        "colab": {
          "base_uri": "https://localhost:8080/"
        },
        "id": "WdxYJ-2cB40_",
        "outputId": "3ed311cf-96b4-4897-acc7-2e09558902f5"
      },
      "source": [
        "import tensorflow as tf\n",
        "import tensorflow.keras.backend as K\n",
        "\n",
        "#--------------------------------------------\n",
        "# Define custom loss function \n",
        "def customLoss(y_true, y_pred):\n",
        "\n",
        "  print('y_true shape: ' + str(y_true.shape) )\n",
        "  print('y_pred shape: ' + str(y_pred.shape) )\n",
        "  \n",
        "  batch_size = y_pred.shape[0]\n",
        "  \n",
        "  diff = (y_pred - y_true)**2 # will this work?\n",
        "\n",
        "  # ---How to ID rms from label data?---\n",
        "  scaled = diff# * rms\n",
        "\n",
        "  sum = np.sum(scaled,2)\n",
        "\n",
        "  y_loss = sum/y_pred.shape[-1]\n",
        "\n",
        "  return y_loss\n",
        "\n",
        "#--------------------------------------------\n",
        "# Test loss function\n",
        "xx = []\n",
        "yy = []\n",
        "for i in range(3):\n",
        "  xx.append(y_train[i])\n",
        "  yy.append(y_train[i+1])\n",
        "\n",
        "\n",
        "loss = K.eval(customLoss(K.variable(xx), K.variable(yy)))\n",
        "print('loss shape: '    + str(loss.shape)    )\n",
        "print(loss)"
      ],
      "execution_count": 56,
      "outputs": [
        {
          "output_type": "stream",
          "text": [
            "y_true shape: (3, 24, 5)\n",
            "y_pred shape: (3, 24, 5)\n",
            "loss shape: (3, 24)\n",
            "[[  37.449   37.449   37.449   37.449   37.449   37.449   37.449   37.449\n",
            "    37.449   37.449   37.449   37.449   37.449   37.449   37.449   37.449\n",
            "    37.449   37.449   37.449   37.449   37.449   37.449   37.449   37.449]\n",
            " [1468.509 1468.509 1468.509 1468.509 1468.509 1468.509 1468.509 1468.509\n",
            "  1468.509 1468.509 1468.509 1468.509 1468.509 1468.509 1468.509 1468.509\n",
            "  1468.509 1468.509 1468.509 1468.509 1468.509 1468.509 1468.509 1468.509]\n",
            " [ 235.675  235.675  235.675  235.675  235.675  235.675  235.675  235.675\n",
            "   235.675  235.675  235.675  235.675  235.675  235.675  235.675  235.675\n",
            "   235.675  235.675  235.675  235.675  235.675  235.675  235.675  235.675]]\n"
          ],
          "name": "stdout"
        }
      ]
    },
    {
      "cell_type": "code",
      "metadata": {
        "colab": {
          "base_uri": "https://localhost:8080/",
          "height": 1000
        },
        "id": "v8iA9da3HLBs",
        "outputId": "ce53ca19-6ec7-483a-821f-ec81f592f3e2"
      },
      "source": [
        "#--------------------------------------------\n",
        "# Define custom loss function \n",
        "def customLoss(y_true, y_pred, rms):\n",
        "\n",
        "  batch_size = y_pred.shape[0]\n",
        "  print('y_pred shape: ' + str(y_pred.shape) )  # y_pred shape is (batch, 5)\n",
        "  print('y_true shape: ' + str(y_true.shape) )  # y_true shape is (batch, 5)\n",
        "  print('invcov shape: ' + str(rms.shape) )  # rms shape is (batch,)\n",
        "  \n",
        "  y_pred = K.reshape(y_pred, (batch_size, 5,1)) # y_pred  shape is now (batch, 5,1)\n",
        "  y_true = K.reshape(y_true, (batch_size, 5,1)) # y_state shape is now (batch, 5,1)\n",
        "  rms = K.reshape(rms, (batch_size, 1)) # tms  shape is now (batch, 1)\n",
        "  \n",
        "  # n.b. we must use tf.transpose here an not K.transpose since the latter does not allow perm argument\n",
        "  # rms = tf.transpose(rms, perm=[0,2,1])     # invcov shape is now (batch, 5,5)\n",
        "  \n",
        "  # Difference between prediction and true state vectors\n",
        "  y_diff = y_pred - y_true\n",
        "\n",
        "  y_diff2 = y_diff**2\n",
        "  scaled = y_diff2 * rms\n",
        "  sum = np.sum(scaled,2)\n",
        "  y_loss = scaled/5\n",
        "\n",
        "  \n",
        "  # n.b. use \"batch_dot\" and not \"dot\"!\n",
        "  # y_dot = K.batch_dot(invcov, y_diff)           # y_dot shape is (batch,5,1)\n",
        "  # y_dot = K.reshape(y_dot, (batch_size, 1, 5))  # y_dot shape is now (batch,1,5)\n",
        "  # y_loss = K.batch_dot(y_dot, y_diff)           # y_loss shape is (batch,1,1)\n",
        "  # y_loss = K.reshape(y_loss, (batch_size,))     # y_loss shape is now (batch)\n",
        "  return y_loss\n",
        "\n",
        "#--------------------------------------------\n",
        "# Test loss function\n",
        "x_test = y_train[0]\n",
        "y_test = y_train[1]\n",
        "rms = other_train[0,2]\n",
        "\n",
        "loss = K.eval(customLoss(K.variable([x_test,x_test,x_test]), K.variable([y_test,y_test,y_test]), K.variable([inconv_test,inconv_test,inconv_test])))\n",
        "print('loss shape: '    + str(loss.shape)    )\n",
        "print(loss)"
      ],
      "execution_count": 59,
      "outputs": [
        {
          "output_type": "stream",
          "text": [
            "y_pred shape: (3, 24, 5)\n",
            "y_true shape: (3, 24, 5)\n",
            "invcov shape: (3, 25)\n"
          ],
          "name": "stdout"
        },
        {
          "output_type": "error",
          "ename": "InvalidArgumentError",
          "evalue": "ignored",
          "traceback": [
            "\u001b[0;31m---------------------------------------------------------------------------\u001b[0m",
            "\u001b[0;31mInvalidArgumentError\u001b[0m                      Traceback (most recent call last)",
            "\u001b[0;32m<ipython-input-59-c167479148f2>\u001b[0m in \u001b[0;36m<module>\u001b[0;34m()\u001b[0m\n\u001b[1;32m     37\u001b[0m \u001b[0mrms\u001b[0m \u001b[0;34m=\u001b[0m \u001b[0mother_train\u001b[0m\u001b[0;34m[\u001b[0m\u001b[0;36m0\u001b[0m\u001b[0;34m,\u001b[0m\u001b[0;36m2\u001b[0m\u001b[0;34m]\u001b[0m\u001b[0;34m\u001b[0m\u001b[0;34m\u001b[0m\u001b[0m\n\u001b[1;32m     38\u001b[0m \u001b[0;34m\u001b[0m\u001b[0m\n\u001b[0;32m---> 39\u001b[0;31m \u001b[0mloss\u001b[0m \u001b[0;34m=\u001b[0m \u001b[0mK\u001b[0m\u001b[0;34m.\u001b[0m\u001b[0meval\u001b[0m\u001b[0;34m(\u001b[0m\u001b[0mcustomLoss\u001b[0m\u001b[0;34m(\u001b[0m\u001b[0mK\u001b[0m\u001b[0;34m.\u001b[0m\u001b[0mvariable\u001b[0m\u001b[0;34m(\u001b[0m\u001b[0;34m[\u001b[0m\u001b[0mx_test\u001b[0m\u001b[0;34m,\u001b[0m\u001b[0mx_test\u001b[0m\u001b[0;34m,\u001b[0m\u001b[0mx_test\u001b[0m\u001b[0;34m]\u001b[0m\u001b[0;34m)\u001b[0m\u001b[0;34m,\u001b[0m \u001b[0mK\u001b[0m\u001b[0;34m.\u001b[0m\u001b[0mvariable\u001b[0m\u001b[0;34m(\u001b[0m\u001b[0;34m[\u001b[0m\u001b[0my_test\u001b[0m\u001b[0;34m,\u001b[0m\u001b[0my_test\u001b[0m\u001b[0;34m,\u001b[0m\u001b[0my_test\u001b[0m\u001b[0;34m]\u001b[0m\u001b[0;34m)\u001b[0m\u001b[0;34m,\u001b[0m \u001b[0mK\u001b[0m\u001b[0;34m.\u001b[0m\u001b[0mvariable\u001b[0m\u001b[0;34m(\u001b[0m\u001b[0;34m[\u001b[0m\u001b[0minconv_test\u001b[0m\u001b[0;34m,\u001b[0m\u001b[0minconv_test\u001b[0m\u001b[0;34m,\u001b[0m\u001b[0minconv_test\u001b[0m\u001b[0;34m]\u001b[0m\u001b[0;34m)\u001b[0m\u001b[0;34m)\u001b[0m\u001b[0;34m)\u001b[0m\u001b[0;34m\u001b[0m\u001b[0;34m\u001b[0m\u001b[0m\n\u001b[0m\u001b[1;32m     40\u001b[0m \u001b[0mprint\u001b[0m\u001b[0;34m(\u001b[0m\u001b[0;34m'loss shape: '\u001b[0m    \u001b[0;34m+\u001b[0m \u001b[0mstr\u001b[0m\u001b[0;34m(\u001b[0m\u001b[0mloss\u001b[0m\u001b[0;34m.\u001b[0m\u001b[0mshape\u001b[0m\u001b[0;34m)\u001b[0m    \u001b[0;34m)\u001b[0m\u001b[0;34m\u001b[0m\u001b[0;34m\u001b[0m\u001b[0m\n\u001b[1;32m     41\u001b[0m \u001b[0mprint\u001b[0m\u001b[0;34m(\u001b[0m\u001b[0mloss\u001b[0m\u001b[0;34m)\u001b[0m\u001b[0;34m\u001b[0m\u001b[0;34m\u001b[0m\u001b[0m\n",
            "\u001b[0;32m<ipython-input-59-c167479148f2>\u001b[0m in \u001b[0;36mcustomLoss\u001b[0;34m(y_true, y_pred, rms)\u001b[0m\n\u001b[1;32m      8\u001b[0m   \u001b[0mprint\u001b[0m\u001b[0;34m(\u001b[0m\u001b[0;34m'invcov shape: '\u001b[0m \u001b[0;34m+\u001b[0m \u001b[0mstr\u001b[0m\u001b[0;34m(\u001b[0m\u001b[0mrms\u001b[0m\u001b[0;34m.\u001b[0m\u001b[0mshape\u001b[0m\u001b[0;34m)\u001b[0m \u001b[0;34m)\u001b[0m  \u001b[0;31m# rms shape is (batch,)\u001b[0m\u001b[0;34m\u001b[0m\u001b[0;34m\u001b[0m\u001b[0m\n\u001b[1;32m      9\u001b[0m \u001b[0;34m\u001b[0m\u001b[0m\n\u001b[0;32m---> 10\u001b[0;31m   \u001b[0my_pred\u001b[0m \u001b[0;34m=\u001b[0m \u001b[0mK\u001b[0m\u001b[0;34m.\u001b[0m\u001b[0mreshape\u001b[0m\u001b[0;34m(\u001b[0m\u001b[0my_pred\u001b[0m\u001b[0;34m,\u001b[0m \u001b[0;34m(\u001b[0m\u001b[0mbatch_size\u001b[0m\u001b[0;34m,\u001b[0m \u001b[0;36m5\u001b[0m\u001b[0;34m,\u001b[0m\u001b[0;36m1\u001b[0m\u001b[0;34m)\u001b[0m\u001b[0;34m)\u001b[0m \u001b[0;31m# y_pred  shape is now (batch, 5,1)\u001b[0m\u001b[0;34m\u001b[0m\u001b[0;34m\u001b[0m\u001b[0m\n\u001b[0m\u001b[1;32m     11\u001b[0m   \u001b[0my_true\u001b[0m \u001b[0;34m=\u001b[0m \u001b[0mK\u001b[0m\u001b[0;34m.\u001b[0m\u001b[0mreshape\u001b[0m\u001b[0;34m(\u001b[0m\u001b[0my_true\u001b[0m\u001b[0;34m,\u001b[0m \u001b[0;34m(\u001b[0m\u001b[0mbatch_size\u001b[0m\u001b[0;34m,\u001b[0m \u001b[0;36m5\u001b[0m\u001b[0;34m,\u001b[0m\u001b[0;36m1\u001b[0m\u001b[0;34m)\u001b[0m\u001b[0;34m)\u001b[0m \u001b[0;31m# y_state shape is now (batch, 5,1)\u001b[0m\u001b[0;34m\u001b[0m\u001b[0;34m\u001b[0m\u001b[0m\n\u001b[1;32m     12\u001b[0m   \u001b[0mrms\u001b[0m \u001b[0;34m=\u001b[0m \u001b[0mK\u001b[0m\u001b[0;34m.\u001b[0m\u001b[0mreshape\u001b[0m\u001b[0;34m(\u001b[0m\u001b[0mrms\u001b[0m\u001b[0;34m,\u001b[0m \u001b[0;34m(\u001b[0m\u001b[0mbatch_size\u001b[0m\u001b[0;34m,\u001b[0m \u001b[0;36m1\u001b[0m\u001b[0;34m)\u001b[0m\u001b[0;34m)\u001b[0m \u001b[0;31m# tms  shape is now (batch, 1)\u001b[0m\u001b[0;34m\u001b[0m\u001b[0;34m\u001b[0m\u001b[0m\n",
            "\u001b[0;32m/usr/local/lib/python3.6/dist-packages/tensorflow/python/util/dispatch.py\u001b[0m in \u001b[0;36mwrapper\u001b[0;34m(*args, **kwargs)\u001b[0m\n\u001b[1;32m    199\u001b[0m     \u001b[0;34m\"\"\"Call target, and fall back on dispatchers if there is a TypeError.\"\"\"\u001b[0m\u001b[0;34m\u001b[0m\u001b[0;34m\u001b[0m\u001b[0m\n\u001b[1;32m    200\u001b[0m     \u001b[0;32mtry\u001b[0m\u001b[0;34m:\u001b[0m\u001b[0;34m\u001b[0m\u001b[0;34m\u001b[0m\u001b[0m\n\u001b[0;32m--> 201\u001b[0;31m       \u001b[0;32mreturn\u001b[0m \u001b[0mtarget\u001b[0m\u001b[0;34m(\u001b[0m\u001b[0;34m*\u001b[0m\u001b[0margs\u001b[0m\u001b[0;34m,\u001b[0m \u001b[0;34m**\u001b[0m\u001b[0mkwargs\u001b[0m\u001b[0;34m)\u001b[0m\u001b[0;34m\u001b[0m\u001b[0;34m\u001b[0m\u001b[0m\n\u001b[0m\u001b[1;32m    202\u001b[0m     \u001b[0;32mexcept\u001b[0m \u001b[0;34m(\u001b[0m\u001b[0mTypeError\u001b[0m\u001b[0;34m,\u001b[0m \u001b[0mValueError\u001b[0m\u001b[0;34m)\u001b[0m\u001b[0;34m:\u001b[0m\u001b[0;34m\u001b[0m\u001b[0;34m\u001b[0m\u001b[0m\n\u001b[1;32m    203\u001b[0m       \u001b[0;31m# Note: convert_to_eager_tensor currently raises a ValueError, not a\u001b[0m\u001b[0;34m\u001b[0m\u001b[0;34m\u001b[0m\u001b[0;34m\u001b[0m\u001b[0m\n",
            "\u001b[0;32m/usr/local/lib/python3.6/dist-packages/tensorflow/python/keras/backend.py\u001b[0m in \u001b[0;36mreshape\u001b[0;34m(x, shape)\u001b[0m\n\u001b[1;32m   3018\u001b[0m \u001b[0;34m\u001b[0m\u001b[0m\n\u001b[1;32m   3019\u001b[0m   \"\"\"\n\u001b[0;32m-> 3020\u001b[0;31m   \u001b[0;32mreturn\u001b[0m \u001b[0marray_ops\u001b[0m\u001b[0;34m.\u001b[0m\u001b[0mreshape\u001b[0m\u001b[0;34m(\u001b[0m\u001b[0mx\u001b[0m\u001b[0;34m,\u001b[0m \u001b[0mshape\u001b[0m\u001b[0;34m)\u001b[0m\u001b[0;34m\u001b[0m\u001b[0;34m\u001b[0m\u001b[0m\n\u001b[0m\u001b[1;32m   3021\u001b[0m \u001b[0;34m\u001b[0m\u001b[0m\n\u001b[1;32m   3022\u001b[0m \u001b[0;34m\u001b[0m\u001b[0m\n",
            "\u001b[0;32m/usr/local/lib/python3.6/dist-packages/tensorflow/python/util/dispatch.py\u001b[0m in \u001b[0;36mwrapper\u001b[0;34m(*args, **kwargs)\u001b[0m\n\u001b[1;32m    199\u001b[0m     \u001b[0;34m\"\"\"Call target, and fall back on dispatchers if there is a TypeError.\"\"\"\u001b[0m\u001b[0;34m\u001b[0m\u001b[0;34m\u001b[0m\u001b[0m\n\u001b[1;32m    200\u001b[0m     \u001b[0;32mtry\u001b[0m\u001b[0;34m:\u001b[0m\u001b[0;34m\u001b[0m\u001b[0;34m\u001b[0m\u001b[0m\n\u001b[0;32m--> 201\u001b[0;31m       \u001b[0;32mreturn\u001b[0m \u001b[0mtarget\u001b[0m\u001b[0;34m(\u001b[0m\u001b[0;34m*\u001b[0m\u001b[0margs\u001b[0m\u001b[0;34m,\u001b[0m \u001b[0;34m**\u001b[0m\u001b[0mkwargs\u001b[0m\u001b[0;34m)\u001b[0m\u001b[0;34m\u001b[0m\u001b[0;34m\u001b[0m\u001b[0m\n\u001b[0m\u001b[1;32m    202\u001b[0m     \u001b[0;32mexcept\u001b[0m \u001b[0;34m(\u001b[0m\u001b[0mTypeError\u001b[0m\u001b[0;34m,\u001b[0m \u001b[0mValueError\u001b[0m\u001b[0;34m)\u001b[0m\u001b[0;34m:\u001b[0m\u001b[0;34m\u001b[0m\u001b[0;34m\u001b[0m\u001b[0m\n\u001b[1;32m    203\u001b[0m       \u001b[0;31m# Note: convert_to_eager_tensor currently raises a ValueError, not a\u001b[0m\u001b[0;34m\u001b[0m\u001b[0;34m\u001b[0m\u001b[0;34m\u001b[0m\u001b[0m\n",
            "\u001b[0;32m/usr/local/lib/python3.6/dist-packages/tensorflow/python/ops/array_ops.py\u001b[0m in \u001b[0;36mreshape\u001b[0;34m(tensor, shape, name)\u001b[0m\n\u001b[1;32m    193\u001b[0m     \u001b[0mA\u001b[0m\u001b[0;31m \u001b[0m\u001b[0;31m`\u001b[0m\u001b[0mTensor\u001b[0m\u001b[0;31m`\u001b[0m\u001b[0;34m.\u001b[0m \u001b[0mHas\u001b[0m \u001b[0mthe\u001b[0m \u001b[0msame\u001b[0m \u001b[0mtype\u001b[0m \u001b[0;32mas\u001b[0m\u001b[0;31m \u001b[0m\u001b[0;31m`\u001b[0m\u001b[0mtensor\u001b[0m\u001b[0;31m`\u001b[0m\u001b[0;34m.\u001b[0m\u001b[0;34m\u001b[0m\u001b[0;34m\u001b[0m\u001b[0m\n\u001b[1;32m    194\u001b[0m   \"\"\"\n\u001b[0;32m--> 195\u001b[0;31m   \u001b[0mresult\u001b[0m \u001b[0;34m=\u001b[0m \u001b[0mgen_array_ops\u001b[0m\u001b[0;34m.\u001b[0m\u001b[0mreshape\u001b[0m\u001b[0;34m(\u001b[0m\u001b[0mtensor\u001b[0m\u001b[0;34m,\u001b[0m \u001b[0mshape\u001b[0m\u001b[0;34m,\u001b[0m \u001b[0mname\u001b[0m\u001b[0;34m)\u001b[0m\u001b[0;34m\u001b[0m\u001b[0;34m\u001b[0m\u001b[0m\n\u001b[0m\u001b[1;32m    196\u001b[0m   \u001b[0mtensor_util\u001b[0m\u001b[0;34m.\u001b[0m\u001b[0mmaybe_set_static_shape\u001b[0m\u001b[0;34m(\u001b[0m\u001b[0mresult\u001b[0m\u001b[0;34m,\u001b[0m \u001b[0mshape\u001b[0m\u001b[0;34m)\u001b[0m\u001b[0;34m\u001b[0m\u001b[0;34m\u001b[0m\u001b[0m\n\u001b[1;32m    197\u001b[0m   \u001b[0;32mreturn\u001b[0m \u001b[0mresult\u001b[0m\u001b[0;34m\u001b[0m\u001b[0;34m\u001b[0m\u001b[0m\n",
            "\u001b[0;32m/usr/local/lib/python3.6/dist-packages/tensorflow/python/ops/gen_array_ops.py\u001b[0m in \u001b[0;36mreshape\u001b[0;34m(tensor, shape, name)\u001b[0m\n\u001b[1;32m   8371\u001b[0m     \u001b[0;32mtry\u001b[0m\u001b[0;34m:\u001b[0m\u001b[0;34m\u001b[0m\u001b[0;34m\u001b[0m\u001b[0m\n\u001b[1;32m   8372\u001b[0m       return reshape_eager_fallback(\n\u001b[0;32m-> 8373\u001b[0;31m           tensor, shape, name=name, ctx=_ctx)\n\u001b[0m\u001b[1;32m   8374\u001b[0m     \u001b[0;32mexcept\u001b[0m \u001b[0m_core\u001b[0m\u001b[0;34m.\u001b[0m\u001b[0m_SymbolicException\u001b[0m\u001b[0;34m:\u001b[0m\u001b[0;34m\u001b[0m\u001b[0;34m\u001b[0m\u001b[0m\n\u001b[1;32m   8375\u001b[0m       \u001b[0;32mpass\u001b[0m  \u001b[0;31m# Add nodes to the TensorFlow graph.\u001b[0m\u001b[0;34m\u001b[0m\u001b[0;34m\u001b[0m\u001b[0m\n",
            "\u001b[0;32m/usr/local/lib/python3.6/dist-packages/tensorflow/python/ops/gen_array_ops.py\u001b[0m in \u001b[0;36mreshape_eager_fallback\u001b[0;34m(tensor, shape, name, ctx)\u001b[0m\n\u001b[1;32m   8396\u001b[0m   \u001b[0m_attrs\u001b[0m \u001b[0;34m=\u001b[0m \u001b[0;34m(\u001b[0m\u001b[0;34m\"T\"\u001b[0m\u001b[0;34m,\u001b[0m \u001b[0m_attr_T\u001b[0m\u001b[0;34m,\u001b[0m \u001b[0;34m\"Tshape\"\u001b[0m\u001b[0;34m,\u001b[0m \u001b[0m_attr_Tshape\u001b[0m\u001b[0;34m)\u001b[0m\u001b[0;34m\u001b[0m\u001b[0;34m\u001b[0m\u001b[0m\n\u001b[1;32m   8397\u001b[0m   _result = _execute.execute(b\"Reshape\", 1, inputs=_inputs_flat, attrs=_attrs,\n\u001b[0;32m-> 8398\u001b[0;31m                              ctx=ctx, name=name)\n\u001b[0m\u001b[1;32m   8399\u001b[0m   \u001b[0;32mif\u001b[0m \u001b[0m_execute\u001b[0m\u001b[0;34m.\u001b[0m\u001b[0mmust_record_gradient\u001b[0m\u001b[0;34m(\u001b[0m\u001b[0;34m)\u001b[0m\u001b[0;34m:\u001b[0m\u001b[0;34m\u001b[0m\u001b[0;34m\u001b[0m\u001b[0m\n\u001b[1;32m   8400\u001b[0m     _execute.record_gradient(\n",
            "\u001b[0;32m/usr/local/lib/python3.6/dist-packages/tensorflow/python/eager/execute.py\u001b[0m in \u001b[0;36mquick_execute\u001b[0;34m(op_name, num_outputs, inputs, attrs, ctx, name)\u001b[0m\n\u001b[1;32m     58\u001b[0m     \u001b[0mctx\u001b[0m\u001b[0;34m.\u001b[0m\u001b[0mensure_initialized\u001b[0m\u001b[0;34m(\u001b[0m\u001b[0;34m)\u001b[0m\u001b[0;34m\u001b[0m\u001b[0;34m\u001b[0m\u001b[0m\n\u001b[1;32m     59\u001b[0m     tensors = pywrap_tfe.TFE_Py_Execute(ctx._handle, device_name, op_name,\n\u001b[0;32m---> 60\u001b[0;31m                                         inputs, attrs, num_outputs)\n\u001b[0m\u001b[1;32m     61\u001b[0m   \u001b[0;32mexcept\u001b[0m \u001b[0mcore\u001b[0m\u001b[0;34m.\u001b[0m\u001b[0m_NotOkStatusException\u001b[0m \u001b[0;32mas\u001b[0m \u001b[0me\u001b[0m\u001b[0;34m:\u001b[0m\u001b[0;34m\u001b[0m\u001b[0;34m\u001b[0m\u001b[0m\n\u001b[1;32m     62\u001b[0m     \u001b[0;32mif\u001b[0m \u001b[0mname\u001b[0m \u001b[0;32mis\u001b[0m \u001b[0;32mnot\u001b[0m \u001b[0;32mNone\u001b[0m\u001b[0;34m:\u001b[0m\u001b[0;34m\u001b[0m\u001b[0;34m\u001b[0m\u001b[0m\n",
            "\u001b[0;31mInvalidArgumentError\u001b[0m: Input to reshape is a tensor with 360 values, but the requested shape has 15 [Op:Reshape]"
          ]
        }
      ]
    },
    {
      "cell_type": "markdown",
      "metadata": {
        "id": "Ie8Rhqf765N5"
      },
      "source": [
        "## Compile Model"
      ]
    },
    {
      "cell_type": "code",
      "metadata": {
        "id": "SZ7d8PMx652m",
        "colab": {
          "base_uri": "https://localhost:8080/"
        },
        "outputId": "ca45fea4-b5a5-423f-fd23-31b1b22735b0"
      },
      "source": [
        "# --==Not in use?==--\n",
        "# lr_schedule = keras.optimizers.schedules.ExponentialDecay(\n",
        "#     initial_learning_rate=1e-3,\n",
        "#     decay_steps=10000,\n",
        "#     decay_rate=0.8)\n",
        "\n",
        "optimizer = keras.optimizers.Adam(learning_rate=0.001)\n",
        "\n",
        "#--==Set Weights==--\n",
        "# loss_weights = [1/(sd**2)]\n",
        "# loss_weights = np.array(loss_weights)/sum(loss_weights)\n",
        "# model.compile(optimizer=optimizer, loss=\"mse\", loss_weights=loss_weights, metrics=[\"mae\"])\n",
        "\n",
        "model.compile(optimizer=optimizer, loss=\"mse\", metrics=[\"mae\"])\n",
        "\n",
        "model.summary()"
      ],
      "execution_count": 67,
      "outputs": [
        {
          "output_type": "stream",
          "text": [
            "Model: \"RNNModel\"\n",
            "_________________________________________________________________\n",
            "Layer (type)                 Output Shape              Param #   \n",
            "=================================================================\n",
            "input_4 (InputLayer)         [(None, None, 18)]        0         \n",
            "_________________________________________________________________\n",
            "input_lstm1 (LSTM)           (None, None, 128)         75264     \n",
            "_________________________________________________________________\n",
            "lstm2 (LSTM)                 (None, None, 64)          49408     \n",
            "_________________________________________________________________\n",
            "lstm3 (LSTM)                 (None, None, 32)          12416     \n",
            "_________________________________________________________________\n",
            "TD1-Dense (TimeDistributed)  (None, None, 32)          1056      \n",
            "_________________________________________________________________\n",
            "output-Dense (TimeDistribute (None, None, 5)           165       \n",
            "=================================================================\n",
            "Total params: 138,309\n",
            "Trainable params: 138,309\n",
            "Non-trainable params: 0\n",
            "_________________________________________________________________\n"
          ],
          "name": "stdout"
        }
      ]
    },
    {
      "cell_type": "markdown",
      "metadata": {
        "id": "DSZuf31k7Haa"
      },
      "source": [
        "## Fit Model"
      ]
    },
    {
      "cell_type": "code",
      "metadata": {
        "id": "sjLh8Eh07HRW",
        "colab": {
          "base_uri": "https://localhost:8080/",
          "height": 518
        },
        "outputId": "4308c3b2-1053-4f10-f1b2-349b2faf57ff"
      },
      "source": [
        "# es = keras.callbacks.EarlyStopping(monitor='val_loss', min_delta=0.01, patience=20, mode='min', verbose=1, restore_best_weights=True)\n",
        "# H = model.fit(x=x_train, y=y_train, batch_size=128, epochs=100, shuffle=True, verbose=1, callbacks=[es], validation_data=(x_val, y_val))\n",
        "\n",
        "# H = model.fit(x=x_train, y=y_train, batch_size=32, epochs=100, validation_split=0.1, shuffle=True, verbose=1)\n",
        "H = model.fit(x=x_train, y=y_train, batch_size=64, epochs=100, shuffle=True, verbose=1)\n",
        "\n",
        "# H = model.fit(x=x_raggedTensor, y=y_train, batch_size=32, epochs=100, shuffle=True, verbose=1)\n",
        "# H = model.fit(train_gen, batch_size=1, steps_per_epoch=32, epochs=100, shuffle=True, verbose=1)\n",
        "# H = model.fit(train_gen, batch_size=32, steps_per_epoch=10000/32, epochs=100, verbose=1)\n",
        "\n",
        "# Overfit\n",
        "# es = keras.callbacks.EarlyStopping(monitor='loss', min_delta=0.001, patience=100, mode='min', verbose=1, restore_best_weights=True)\n",
        "# H = model.fit(x=x_train[:10], y=y_train[:10], batch_size=1, epochs=200, verbose=1, shuffle=True, callbacks=[es])\n"
      ],
      "execution_count": 70,
      "outputs": [
        {
          "output_type": "stream",
          "text": [
            "Epoch 1/100\n",
            "146/146 [==============================] - 11s 79ms/step - loss: 2323.8992 - mae: 19.6444\n",
            "Epoch 2/100\n",
            "146/146 [==============================] - 12s 79ms/step - loss: 2323.8501 - mae: 19.7024\n",
            "Epoch 3/100\n",
            " 72/146 [=============>................] - ETA: 5s - loss: 1994.3722 - mae: 19.6522"
          ],
          "name": "stdout"
        },
        {
          "output_type": "error",
          "ename": "KeyboardInterrupt",
          "evalue": "ignored",
          "traceback": [
            "\u001b[0;31m---------------------------------------------------------------------------\u001b[0m",
            "\u001b[0;31mKeyboardInterrupt\u001b[0m                         Traceback (most recent call last)",
            "\u001b[0;32m<ipython-input-70-934cfe913512>\u001b[0m in \u001b[0;36m<module>\u001b[0;34m()\u001b[0m\n\u001b[1;32m      3\u001b[0m \u001b[0;34m\u001b[0m\u001b[0m\n\u001b[1;32m      4\u001b[0m \u001b[0;31m# H = model.fit(x=x_train, y=y_train, batch_size=32, epochs=100, validation_split=0.1, shuffle=True, verbose=1)\u001b[0m\u001b[0;34m\u001b[0m\u001b[0;34m\u001b[0m\u001b[0;34m\u001b[0m\u001b[0m\n\u001b[0;32m----> 5\u001b[0;31m \u001b[0mH\u001b[0m \u001b[0;34m=\u001b[0m \u001b[0mmodel\u001b[0m\u001b[0;34m.\u001b[0m\u001b[0mfit\u001b[0m\u001b[0;34m(\u001b[0m\u001b[0mx\u001b[0m\u001b[0;34m=\u001b[0m\u001b[0mx_train\u001b[0m\u001b[0;34m,\u001b[0m \u001b[0my\u001b[0m\u001b[0;34m=\u001b[0m\u001b[0my_train\u001b[0m\u001b[0;34m,\u001b[0m \u001b[0mbatch_size\u001b[0m\u001b[0;34m=\u001b[0m\u001b[0;36m64\u001b[0m\u001b[0;34m,\u001b[0m \u001b[0mepochs\u001b[0m\u001b[0;34m=\u001b[0m\u001b[0;36m100\u001b[0m\u001b[0;34m,\u001b[0m \u001b[0mshuffle\u001b[0m\u001b[0;34m=\u001b[0m\u001b[0;32mTrue\u001b[0m\u001b[0;34m,\u001b[0m \u001b[0mverbose\u001b[0m\u001b[0;34m=\u001b[0m\u001b[0;36m1\u001b[0m\u001b[0;34m)\u001b[0m\u001b[0;34m\u001b[0m\u001b[0;34m\u001b[0m\u001b[0m\n\u001b[0m\u001b[1;32m      6\u001b[0m \u001b[0;34m\u001b[0m\u001b[0m\n\u001b[1;32m      7\u001b[0m \u001b[0;31m# H = model.fit(x=x_raggedTensor, y=y_train, batch_size=32, epochs=100, shuffle=True, verbose=1)\u001b[0m\u001b[0;34m\u001b[0m\u001b[0;34m\u001b[0m\u001b[0;34m\u001b[0m\u001b[0m\n",
            "\u001b[0;32m/usr/local/lib/python3.6/dist-packages/tensorflow/python/keras/engine/training.py\u001b[0m in \u001b[0;36mfit\u001b[0;34m(self, x, y, batch_size, epochs, verbose, callbacks, validation_split, validation_data, shuffle, class_weight, sample_weight, initial_epoch, steps_per_epoch, validation_steps, validation_batch_size, validation_freq, max_queue_size, workers, use_multiprocessing)\u001b[0m\n\u001b[1;32m   1098\u001b[0m                 _r=1):\n\u001b[1;32m   1099\u001b[0m               \u001b[0mcallbacks\u001b[0m\u001b[0;34m.\u001b[0m\u001b[0mon_train_batch_begin\u001b[0m\u001b[0;34m(\u001b[0m\u001b[0mstep\u001b[0m\u001b[0;34m)\u001b[0m\u001b[0;34m\u001b[0m\u001b[0;34m\u001b[0m\u001b[0m\n\u001b[0;32m-> 1100\u001b[0;31m               \u001b[0mtmp_logs\u001b[0m \u001b[0;34m=\u001b[0m \u001b[0mself\u001b[0m\u001b[0;34m.\u001b[0m\u001b[0mtrain_function\u001b[0m\u001b[0;34m(\u001b[0m\u001b[0miterator\u001b[0m\u001b[0;34m)\u001b[0m\u001b[0;34m\u001b[0m\u001b[0;34m\u001b[0m\u001b[0m\n\u001b[0m\u001b[1;32m   1101\u001b[0m               \u001b[0;32mif\u001b[0m \u001b[0mdata_handler\u001b[0m\u001b[0;34m.\u001b[0m\u001b[0mshould_sync\u001b[0m\u001b[0;34m:\u001b[0m\u001b[0;34m\u001b[0m\u001b[0;34m\u001b[0m\u001b[0m\n\u001b[1;32m   1102\u001b[0m                 \u001b[0mcontext\u001b[0m\u001b[0;34m.\u001b[0m\u001b[0masync_wait\u001b[0m\u001b[0;34m(\u001b[0m\u001b[0;34m)\u001b[0m\u001b[0;34m\u001b[0m\u001b[0;34m\u001b[0m\u001b[0m\n",
            "\u001b[0;32m/usr/local/lib/python3.6/dist-packages/tensorflow/python/eager/def_function.py\u001b[0m in \u001b[0;36m__call__\u001b[0;34m(self, *args, **kwds)\u001b[0m\n\u001b[1;32m    826\u001b[0m     \u001b[0mtracing_count\u001b[0m \u001b[0;34m=\u001b[0m \u001b[0mself\u001b[0m\u001b[0;34m.\u001b[0m\u001b[0mexperimental_get_tracing_count\u001b[0m\u001b[0;34m(\u001b[0m\u001b[0;34m)\u001b[0m\u001b[0;34m\u001b[0m\u001b[0;34m\u001b[0m\u001b[0m\n\u001b[1;32m    827\u001b[0m     \u001b[0;32mwith\u001b[0m \u001b[0mtrace\u001b[0m\u001b[0;34m.\u001b[0m\u001b[0mTrace\u001b[0m\u001b[0;34m(\u001b[0m\u001b[0mself\u001b[0m\u001b[0;34m.\u001b[0m\u001b[0m_name\u001b[0m\u001b[0;34m)\u001b[0m \u001b[0;32mas\u001b[0m \u001b[0mtm\u001b[0m\u001b[0;34m:\u001b[0m\u001b[0;34m\u001b[0m\u001b[0;34m\u001b[0m\u001b[0m\n\u001b[0;32m--> 828\u001b[0;31m       \u001b[0mresult\u001b[0m \u001b[0;34m=\u001b[0m \u001b[0mself\u001b[0m\u001b[0;34m.\u001b[0m\u001b[0m_call\u001b[0m\u001b[0;34m(\u001b[0m\u001b[0;34m*\u001b[0m\u001b[0margs\u001b[0m\u001b[0;34m,\u001b[0m \u001b[0;34m**\u001b[0m\u001b[0mkwds\u001b[0m\u001b[0;34m)\u001b[0m\u001b[0;34m\u001b[0m\u001b[0;34m\u001b[0m\u001b[0m\n\u001b[0m\u001b[1;32m    829\u001b[0m       \u001b[0mcompiler\u001b[0m \u001b[0;34m=\u001b[0m \u001b[0;34m\"xla\"\u001b[0m \u001b[0;32mif\u001b[0m \u001b[0mself\u001b[0m\u001b[0;34m.\u001b[0m\u001b[0m_experimental_compile\u001b[0m \u001b[0;32melse\u001b[0m \u001b[0;34m\"nonXla\"\u001b[0m\u001b[0;34m\u001b[0m\u001b[0;34m\u001b[0m\u001b[0m\n\u001b[1;32m    830\u001b[0m       \u001b[0mnew_tracing_count\u001b[0m \u001b[0;34m=\u001b[0m \u001b[0mself\u001b[0m\u001b[0;34m.\u001b[0m\u001b[0mexperimental_get_tracing_count\u001b[0m\u001b[0;34m(\u001b[0m\u001b[0;34m)\u001b[0m\u001b[0;34m\u001b[0m\u001b[0;34m\u001b[0m\u001b[0m\n",
            "\u001b[0;32m/usr/local/lib/python3.6/dist-packages/tensorflow/python/eager/def_function.py\u001b[0m in \u001b[0;36m_call\u001b[0;34m(self, *args, **kwds)\u001b[0m\n\u001b[1;32m    853\u001b[0m       \u001b[0;31m# In this case we have created variables on the first call, so we run the\u001b[0m\u001b[0;34m\u001b[0m\u001b[0;34m\u001b[0m\u001b[0;34m\u001b[0m\u001b[0m\n\u001b[1;32m    854\u001b[0m       \u001b[0;31m# defunned version which is guaranteed to never create variables.\u001b[0m\u001b[0;34m\u001b[0m\u001b[0;34m\u001b[0m\u001b[0;34m\u001b[0m\u001b[0m\n\u001b[0;32m--> 855\u001b[0;31m       \u001b[0;32mreturn\u001b[0m \u001b[0mself\u001b[0m\u001b[0;34m.\u001b[0m\u001b[0m_stateless_fn\u001b[0m\u001b[0;34m(\u001b[0m\u001b[0;34m*\u001b[0m\u001b[0margs\u001b[0m\u001b[0;34m,\u001b[0m \u001b[0;34m**\u001b[0m\u001b[0mkwds\u001b[0m\u001b[0;34m)\u001b[0m  \u001b[0;31m# pylint: disable=not-callable\u001b[0m\u001b[0;34m\u001b[0m\u001b[0;34m\u001b[0m\u001b[0m\n\u001b[0m\u001b[1;32m    856\u001b[0m     \u001b[0;32melif\u001b[0m \u001b[0mself\u001b[0m\u001b[0;34m.\u001b[0m\u001b[0m_stateful_fn\u001b[0m \u001b[0;32mis\u001b[0m \u001b[0;32mnot\u001b[0m \u001b[0;32mNone\u001b[0m\u001b[0;34m:\u001b[0m\u001b[0;34m\u001b[0m\u001b[0;34m\u001b[0m\u001b[0m\n\u001b[1;32m    857\u001b[0m       \u001b[0;31m# Release the lock early so that multiple threads can perform the call\u001b[0m\u001b[0;34m\u001b[0m\u001b[0;34m\u001b[0m\u001b[0;34m\u001b[0m\u001b[0m\n",
            "\u001b[0;32m/usr/local/lib/python3.6/dist-packages/tensorflow/python/eager/function.py\u001b[0m in \u001b[0;36m__call__\u001b[0;34m(self, *args, **kwargs)\u001b[0m\n\u001b[1;32m   2941\u001b[0m        filtered_flat_args) = self._maybe_define_function(args, kwargs)\n\u001b[1;32m   2942\u001b[0m     return graph_function._call_flat(\n\u001b[0;32m-> 2943\u001b[0;31m         filtered_flat_args, captured_inputs=graph_function.captured_inputs)  # pylint: disable=protected-access\n\u001b[0m\u001b[1;32m   2944\u001b[0m \u001b[0;34m\u001b[0m\u001b[0m\n\u001b[1;32m   2945\u001b[0m   \u001b[0;34m@\u001b[0m\u001b[0mproperty\u001b[0m\u001b[0;34m\u001b[0m\u001b[0;34m\u001b[0m\u001b[0m\n",
            "\u001b[0;32m/usr/local/lib/python3.6/dist-packages/tensorflow/python/eager/function.py\u001b[0m in \u001b[0;36m_call_flat\u001b[0;34m(self, args, captured_inputs, cancellation_manager)\u001b[0m\n\u001b[1;32m   1917\u001b[0m       \u001b[0;31m# No tape is watching; skip to running the function.\u001b[0m\u001b[0;34m\u001b[0m\u001b[0;34m\u001b[0m\u001b[0;34m\u001b[0m\u001b[0m\n\u001b[1;32m   1918\u001b[0m       return self._build_call_outputs(self._inference_function.call(\n\u001b[0;32m-> 1919\u001b[0;31m           ctx, args, cancellation_manager=cancellation_manager))\n\u001b[0m\u001b[1;32m   1920\u001b[0m     forward_backward = self._select_forward_and_backward_functions(\n\u001b[1;32m   1921\u001b[0m         \u001b[0margs\u001b[0m\u001b[0;34m,\u001b[0m\u001b[0;34m\u001b[0m\u001b[0;34m\u001b[0m\u001b[0m\n",
            "\u001b[0;32m/usr/local/lib/python3.6/dist-packages/tensorflow/python/eager/function.py\u001b[0m in \u001b[0;36mcall\u001b[0;34m(self, ctx, args, cancellation_manager)\u001b[0m\n\u001b[1;32m    558\u001b[0m               \u001b[0minputs\u001b[0m\u001b[0;34m=\u001b[0m\u001b[0margs\u001b[0m\u001b[0;34m,\u001b[0m\u001b[0;34m\u001b[0m\u001b[0;34m\u001b[0m\u001b[0m\n\u001b[1;32m    559\u001b[0m               \u001b[0mattrs\u001b[0m\u001b[0;34m=\u001b[0m\u001b[0mattrs\u001b[0m\u001b[0;34m,\u001b[0m\u001b[0;34m\u001b[0m\u001b[0;34m\u001b[0m\u001b[0m\n\u001b[0;32m--> 560\u001b[0;31m               ctx=ctx)\n\u001b[0m\u001b[1;32m    561\u001b[0m         \u001b[0;32melse\u001b[0m\u001b[0;34m:\u001b[0m\u001b[0;34m\u001b[0m\u001b[0;34m\u001b[0m\u001b[0m\n\u001b[1;32m    562\u001b[0m           outputs = execute.execute_with_cancellation(\n",
            "\u001b[0;32m/usr/local/lib/python3.6/dist-packages/tensorflow/python/eager/execute.py\u001b[0m in \u001b[0;36mquick_execute\u001b[0;34m(op_name, num_outputs, inputs, attrs, ctx, name)\u001b[0m\n\u001b[1;32m     58\u001b[0m     \u001b[0mctx\u001b[0m\u001b[0;34m.\u001b[0m\u001b[0mensure_initialized\u001b[0m\u001b[0;34m(\u001b[0m\u001b[0;34m)\u001b[0m\u001b[0;34m\u001b[0m\u001b[0;34m\u001b[0m\u001b[0m\n\u001b[1;32m     59\u001b[0m     tensors = pywrap_tfe.TFE_Py_Execute(ctx._handle, device_name, op_name,\n\u001b[0;32m---> 60\u001b[0;31m                                         inputs, attrs, num_outputs)\n\u001b[0m\u001b[1;32m     61\u001b[0m   \u001b[0;32mexcept\u001b[0m \u001b[0mcore\u001b[0m\u001b[0;34m.\u001b[0m\u001b[0m_NotOkStatusException\u001b[0m \u001b[0;32mas\u001b[0m \u001b[0me\u001b[0m\u001b[0;34m:\u001b[0m\u001b[0;34m\u001b[0m\u001b[0;34m\u001b[0m\u001b[0m\n\u001b[1;32m     62\u001b[0m     \u001b[0;32mif\u001b[0m \u001b[0mname\u001b[0m \u001b[0;32mis\u001b[0m \u001b[0;32mnot\u001b[0m \u001b[0;32mNone\u001b[0m\u001b[0;34m:\u001b[0m\u001b[0;34m\u001b[0m\u001b[0;34m\u001b[0m\u001b[0m\n",
            "\u001b[0;31mKeyboardInterrupt\u001b[0m: "
          ]
        }
      ]
    },
    {
      "cell_type": "markdown",
      "metadata": {
        "id": "XZ5XBwDV7MGY"
      },
      "source": [
        "## Save model"
      ]
    },
    {
      "cell_type": "code",
      "metadata": {
        "id": "xWvST6o27MYI"
      },
      "source": [
        "model.save('first.h5', save_format=\"h5\")"
      ],
      "execution_count": null,
      "outputs": []
    },
    {
      "cell_type": "markdown",
      "metadata": {
        "id": "Xw4xzpuKYEld"
      },
      "source": [
        "# Test Model"
      ]
    },
    {
      "cell_type": "code",
      "metadata": {
        "colab": {
          "base_uri": "https://localhost:8080/"
        },
        "id": "kZHLFMS1YE40",
        "outputId": "b280d6e2-f371-42cc-9066-bc5cbca4094a"
      },
      "source": [
        "np.set_printoptions(suppress=True, precision=3)\n",
        "from time import sleep\n",
        "\n",
        "for i in range(10):\n",
        "  aax = x_train[i]\n",
        "  aay = y_train[i]\n",
        "  aax = np.expand_dims(aax,0)\n",
        "  aay = np.expand_dims(aay,0)\n",
        "  pred = model.predict(aax)\n",
        "  diff = pred - aay\n",
        "  # print(\"i: \",i)\n",
        "  # print(\"aax:  \",aax[0,0])\n",
        "  print(\"pred: \",pred[0])\n",
        "  # print(\"aay:  \",aay[0])\n",
        "  # print(\"diff: \",diff[0])\n",
        "  # print(\"\")\n",
        "\n",
        "  # for i in range(23):\n",
        "  #   print(\"aax:  \",aax[0,i,:5])\n",
        "  #   print(\"pred: \",pred[0,:5])\n",
        "  #   print(\"aay:  \",aay[0,:5])\n",
        "  #   print(\"diff: \",diff[0,:5])\n",
        "  #   print(\"\")\n"
      ],
      "execution_count": 69,
      "outputs": [
        {
          "output_type": "stream",
          "text": [
            "pred:  [[-21.999   0.187  12.956  -0.805  77.392]\n",
            " [-27.637   0.24   16.276  -0.99   97.362]\n",
            " [-28.502   0.248  16.786  -1.019 100.425]\n",
            " [-28.622   0.249  16.857  -1.023 100.851]\n",
            " [-28.638   0.249  16.866  -1.023 100.91 ]\n",
            " [-28.64    0.249  16.868  -1.024 100.918]\n",
            " [-28.641   0.249  16.868  -1.024 100.919]\n",
            " [-28.641   0.249  16.868  -1.024 100.919]\n",
            " [-28.641   0.249  16.868  -1.024 100.919]\n",
            " [-28.641   0.249  16.868  -1.024 100.919]\n",
            " [-28.641   0.249  16.868  -1.024 100.919]\n",
            " [-28.641   0.249  16.868  -1.024 100.919]\n",
            " [-28.641   0.249  16.868  -1.024 100.919]\n",
            " [-28.641   0.249  16.868  -1.024 100.919]\n",
            " [-28.641   0.249  16.868  -1.024 100.919]\n",
            " [-28.641   0.249  16.868  -1.024 100.919]\n",
            " [-28.641   0.249  16.868  -1.024 100.919]\n",
            " [-28.641   0.249  16.868  -1.024 100.919]\n",
            " [-28.641   0.249  16.868  -1.024 100.919]\n",
            " [-28.641   0.249  16.868  -1.024 100.919]\n",
            " [-28.641   0.249  16.868  -1.024 100.919]\n",
            " [-28.641   0.249  16.868  -1.024 100.919]\n",
            " [-28.641   0.249  16.868  -1.024 100.919]\n",
            " [-28.641   0.249  16.868  -1.024 100.919]]\n",
            "pred:  [[-22.004   0.187  12.959  -0.805  77.411]\n",
            " [-27.637   0.24   16.276  -0.99   97.363]\n",
            " [-28.502   0.248  16.786  -1.019 100.425]\n",
            " [-28.622   0.249  16.857  -1.023 100.851]\n",
            " [-28.638   0.249  16.866  -1.023 100.91 ]\n",
            " [-28.64    0.249  16.868  -1.024 100.918]\n",
            " [-28.641   0.249  16.868  -1.024 100.919]\n",
            " [-28.641   0.249  16.868  -1.024 100.919]\n",
            " [-28.641   0.249  16.868  -1.024 100.919]\n",
            " [-28.641   0.249  16.868  -1.024 100.919]\n",
            " [-28.641   0.249  16.868  -1.024 100.919]\n",
            " [-28.641   0.249  16.868  -1.024 100.919]\n",
            " [-28.641   0.249  16.868  -1.024 100.919]\n",
            " [-28.641   0.249  16.868  -1.024 100.919]\n",
            " [-28.641   0.249  16.868  -1.024 100.919]\n",
            " [-28.641   0.249  16.868  -1.024 100.919]\n",
            " [-28.641   0.249  16.868  -1.024 100.919]\n",
            " [-28.641   0.249  16.868  -1.024 100.919]\n",
            " [-28.641   0.249  16.868  -1.024 100.919]\n",
            " [-28.641   0.249  16.868  -1.024 100.919]\n",
            " [-28.641   0.249  16.868  -1.024 100.919]\n",
            " [-28.641   0.249  16.868  -1.024 100.919]\n",
            " [-28.641   0.249  16.868  -1.024 100.919]\n",
            " [-28.641   0.249  16.868  -1.024 100.919]]\n",
            "pred:  [[-22.002   0.187  12.958  -0.805  77.406]\n",
            " [-27.637   0.24   16.276  -0.99   97.362]\n",
            " [-28.502   0.248  16.786  -1.019 100.425]\n",
            " [-28.622   0.249  16.857  -1.023 100.851]\n",
            " [-28.638   0.249  16.866  -1.023 100.91 ]\n",
            " [-28.64    0.249  16.868  -1.024 100.918]\n",
            " [-28.641   0.249  16.868  -1.024 100.919]\n",
            " [-28.641   0.249  16.868  -1.024 100.919]\n",
            " [-28.641   0.249  16.868  -1.024 100.919]\n",
            " [-28.641   0.249  16.868  -1.024 100.919]\n",
            " [-28.641   0.249  16.868  -1.024 100.919]\n",
            " [-28.641   0.249  16.868  -1.024 100.919]\n",
            " [-28.641   0.249  16.868  -1.024 100.919]\n",
            " [-28.641   0.249  16.868  -1.024 100.919]\n",
            " [-28.641   0.249  16.868  -1.024 100.919]\n",
            " [-28.641   0.249  16.868  -1.024 100.919]\n",
            " [-28.641   0.249  16.868  -1.024 100.919]\n",
            " [-28.641   0.249  16.868  -1.024 100.919]\n",
            " [-28.641   0.249  16.868  -1.024 100.919]\n",
            " [-28.641   0.249  16.868  -1.024 100.919]\n",
            " [-28.641   0.249  16.868  -1.024 100.919]\n",
            " [-28.641   0.249  16.868  -1.024 100.919]\n",
            " [-28.641   0.249  16.868  -1.024 100.919]\n",
            " [-28.641   0.249  16.868  -1.024 100.919]]\n",
            "pred:  [[-22.004   0.187  12.959  -0.805  77.413]\n",
            " [-27.637   0.24   16.277  -0.99   97.363]\n",
            " [-28.502   0.248  16.786  -1.019 100.426]\n",
            " [-28.622   0.249  16.857  -1.023 100.851]\n",
            " [-28.638   0.249  16.866  -1.023 100.91 ]\n",
            " [-28.64    0.249  16.868  -1.024 100.918]\n",
            " [-28.641   0.249  16.868  -1.024 100.919]\n",
            " [-28.641   0.249  16.868  -1.024 100.919]\n",
            " [-28.641   0.249  16.868  -1.024 100.919]\n",
            " [-28.641   0.249  16.868  -1.024 100.919]\n",
            " [-28.641   0.249  16.868  -1.024 100.919]\n",
            " [-28.641   0.249  16.868  -1.024 100.919]\n",
            " [-28.641   0.249  16.868  -1.024 100.919]\n",
            " [-28.641   0.249  16.868  -1.024 100.919]\n",
            " [-28.641   0.249  16.868  -1.024 100.919]\n",
            " [-28.641   0.249  16.868  -1.024 100.919]\n",
            " [-28.641   0.249  16.868  -1.024 100.919]\n",
            " [-28.641   0.249  16.868  -1.024 100.919]\n",
            " [-28.641   0.249  16.868  -1.024 100.919]\n",
            " [-28.641   0.249  16.868  -1.024 100.919]\n",
            " [-28.641   0.249  16.868  -1.024 100.919]\n",
            " [-28.641   0.249  16.868  -1.024 100.919]\n",
            " [-28.641   0.249  16.868  -1.024 100.919]\n",
            " [-28.641   0.249  16.868  -1.024 100.919]]\n",
            "pred:  [[-22.005   0.187  12.959  -0.805  77.413]\n",
            " [-27.637   0.24   16.277  -0.99   97.363]\n",
            " [-28.502   0.248  16.786  -1.019 100.426]\n",
            " [-28.622   0.249  16.857  -1.023 100.851]\n",
            " [-28.638   0.249  16.866  -1.023 100.91 ]\n",
            " [-28.64    0.249  16.868  -1.024 100.918]\n",
            " [-28.641   0.249  16.868  -1.024 100.919]\n",
            " [-28.641   0.249  16.868  -1.024 100.919]\n",
            " [-28.641   0.249  16.868  -1.024 100.919]\n",
            " [-28.641   0.249  16.868  -1.024 100.919]\n",
            " [-28.641   0.249  16.868  -1.024 100.919]\n",
            " [-28.641   0.249  16.868  -1.024 100.919]\n",
            " [-28.641   0.249  16.868  -1.024 100.919]\n",
            " [-28.641   0.249  16.868  -1.024 100.919]\n",
            " [-28.641   0.249  16.868  -1.024 100.919]\n",
            " [-28.641   0.249  16.868  -1.024 100.919]\n",
            " [-28.641   0.249  16.868  -1.024 100.919]\n",
            " [-28.641   0.249  16.868  -1.024 100.919]\n",
            " [-28.641   0.249  16.868  -1.024 100.919]\n",
            " [-28.641   0.249  16.868  -1.024 100.919]\n",
            " [-28.641   0.249  16.868  -1.024 100.919]\n",
            " [-28.641   0.249  16.868  -1.024 100.919]\n",
            " [-28.641   0.249  16.868  -1.024 100.919]\n",
            " [-28.641   0.249  16.868  -1.024 100.919]]\n",
            "pred:  [[-22.002   0.187  12.958  -0.805  77.405]\n",
            " [-27.637   0.24   16.276  -0.99   97.362]\n",
            " [-28.502   0.248  16.786  -1.019 100.425]\n",
            " [-28.622   0.249  16.857  -1.023 100.851]\n",
            " [-28.638   0.249  16.866  -1.023 100.91 ]\n",
            " [-28.64    0.249  16.868  -1.024 100.918]\n",
            " [-28.641   0.249  16.868  -1.024 100.919]\n",
            " [-28.641   0.249  16.868  -1.024 100.919]\n",
            " [-28.641   0.249  16.868  -1.024 100.919]\n",
            " [-28.641   0.249  16.868  -1.024 100.919]\n",
            " [-28.641   0.249  16.868  -1.024 100.919]\n",
            " [-28.641   0.249  16.868  -1.024 100.919]\n",
            " [-28.641   0.249  16.868  -1.024 100.919]\n",
            " [-28.641   0.249  16.868  -1.024 100.919]\n",
            " [-28.641   0.249  16.868  -1.024 100.919]\n",
            " [-28.641   0.249  16.868  -1.024 100.919]\n",
            " [-28.641   0.249  16.868  -1.024 100.919]\n",
            " [-28.641   0.249  16.868  -1.024 100.919]\n",
            " [-28.641   0.249  16.868  -1.024 100.919]\n",
            " [-28.641   0.249  16.868  -1.024 100.919]\n",
            " [-28.641   0.249  16.868  -1.024 100.919]\n",
            " [-28.641   0.249  16.868  -1.024 100.919]\n",
            " [-28.641   0.249  16.868  -1.024 100.919]\n",
            " [-28.641   0.249  16.868  -1.024 100.919]]\n",
            "pred:  [[-22.005   0.187  12.959  -0.805  77.414]\n",
            " [-27.637   0.24   16.277  -0.99   97.363]\n",
            " [-28.502   0.248  16.786  -1.019 100.426]\n",
            " [-28.622   0.249  16.857  -1.023 100.851]\n",
            " [-28.638   0.249  16.866  -1.023 100.91 ]\n",
            " [-28.64    0.249  16.868  -1.024 100.918]\n",
            " [-28.641   0.249  16.868  -1.024 100.919]\n",
            " [-28.641   0.249  16.868  -1.024 100.919]\n",
            " [-28.641   0.249  16.868  -1.024 100.919]\n",
            " [-28.641   0.249  16.868  -1.024 100.919]\n",
            " [-28.641   0.249  16.868  -1.024 100.919]\n",
            " [-28.641   0.249  16.868  -1.024 100.919]\n",
            " [-28.641   0.249  16.868  -1.024 100.919]\n",
            " [-28.641   0.249  16.868  -1.024 100.919]\n",
            " [-28.641   0.249  16.868  -1.024 100.919]\n",
            " [-28.641   0.249  16.868  -1.024 100.919]\n",
            " [-28.641   0.249  16.868  -1.024 100.919]\n",
            " [-28.641   0.249  16.868  -1.024 100.919]\n",
            " [-28.641   0.249  16.868  -1.024 100.919]\n",
            " [-28.641   0.249  16.868  -1.024 100.919]\n",
            " [-28.641   0.249  16.868  -1.024 100.919]\n",
            " [-28.641   0.249  16.868  -1.024 100.919]\n",
            " [-28.641   0.249  16.868  -1.024 100.919]\n",
            " [-28.641   0.249  16.868  -1.024 100.919]]\n",
            "pred:  [[-21.997   0.187  12.955  -0.805  77.387]\n",
            " [-27.637   0.24   16.276  -0.99   97.361]\n",
            " [-28.502   0.248  16.786  -1.019 100.425]\n",
            " [-28.622   0.249  16.857  -1.023 100.851]\n",
            " [-28.638   0.249  16.866  -1.023 100.91 ]\n",
            " [-28.64    0.249  16.868  -1.024 100.918]\n",
            " [-28.641   0.249  16.868  -1.024 100.919]\n",
            " [-28.641   0.249  16.868  -1.024 100.919]\n",
            " [-28.641   0.249  16.868  -1.024 100.919]\n",
            " [-28.641   0.249  16.868  -1.024 100.919]\n",
            " [-28.641   0.249  16.868  -1.024 100.919]\n",
            " [-28.641   0.249  16.868  -1.024 100.919]\n",
            " [-28.641   0.249  16.868  -1.024 100.919]\n",
            " [-28.641   0.249  16.868  -1.024 100.919]\n",
            " [-28.641   0.249  16.868  -1.024 100.919]\n",
            " [-28.641   0.249  16.868  -1.024 100.919]\n",
            " [-28.641   0.249  16.868  -1.024 100.919]\n",
            " [-28.641   0.249  16.868  -1.024 100.919]\n",
            " [-28.641   0.249  16.868  -1.024 100.919]\n",
            " [-28.641   0.249  16.868  -1.024 100.919]\n",
            " [-28.641   0.249  16.868  -1.024 100.919]\n",
            " [-28.641   0.249  16.868  -1.024 100.919]\n",
            " [-28.641   0.249  16.868  -1.024 100.919]\n",
            " [-28.641   0.249  16.868  -1.024 100.919]]\n",
            "pred:  [[-22.002   0.187  12.958  -0.805  77.404]\n",
            " [-27.637   0.24   16.276  -0.99   97.362]\n",
            " [-28.502   0.248  16.786  -1.019 100.425]\n",
            " [-28.622   0.249  16.857  -1.023 100.851]\n",
            " [-28.638   0.249  16.866  -1.023 100.91 ]\n",
            " [-28.64    0.249  16.868  -1.024 100.918]\n",
            " [-28.641   0.249  16.868  -1.024 100.919]\n",
            " [-28.641   0.249  16.868  -1.024 100.919]\n",
            " [-28.641   0.249  16.868  -1.024 100.919]\n",
            " [-28.641   0.249  16.868  -1.024 100.919]\n",
            " [-28.641   0.249  16.868  -1.024 100.919]\n",
            " [-28.641   0.249  16.868  -1.024 100.919]\n",
            " [-28.641   0.249  16.868  -1.024 100.919]\n",
            " [-28.641   0.249  16.868  -1.024 100.919]\n",
            " [-28.641   0.249  16.868  -1.024 100.919]\n",
            " [-28.641   0.249  16.868  -1.024 100.919]\n",
            " [-28.641   0.249  16.868  -1.024 100.919]\n",
            " [-28.641   0.249  16.868  -1.024 100.919]\n",
            " [-28.641   0.249  16.868  -1.024 100.919]\n",
            " [-28.641   0.249  16.868  -1.024 100.919]\n",
            " [-28.641   0.249  16.868  -1.024 100.919]\n",
            " [-28.641   0.249  16.868  -1.024 100.919]\n",
            " [-28.641   0.249  16.868  -1.024 100.919]\n",
            " [-28.641   0.249  16.868  -1.024 100.919]]\n",
            "pred:  [[-21.981   0.187  12.945  -0.804  77.328]\n",
            " [-27.636   0.24   16.276  -0.99   97.358]\n",
            " [-28.501   0.248  16.786  -1.019 100.425]\n",
            " [-28.622   0.249  16.857  -1.023 100.851]\n",
            " [-28.638   0.249  16.866  -1.023 100.909]\n",
            " [-28.64    0.249  16.868  -1.024 100.918]\n",
            " [-28.641   0.249  16.868  -1.024 100.919]\n",
            " [-28.641   0.249  16.868  -1.024 100.919]\n",
            " [-28.641   0.249  16.868  -1.024 100.919]\n",
            " [-28.641   0.249  16.868  -1.024 100.919]\n",
            " [-28.641   0.249  16.868  -1.024 100.919]\n",
            " [-28.641   0.249  16.868  -1.024 100.919]\n",
            " [-28.641   0.249  16.868  -1.024 100.919]\n",
            " [-28.641   0.249  16.868  -1.024 100.919]\n",
            " [-28.641   0.249  16.868  -1.024 100.919]\n",
            " [-28.641   0.249  16.868  -1.024 100.919]\n",
            " [-28.641   0.249  16.868  -1.024 100.919]\n",
            " [-28.641   0.249  16.868  -1.024 100.919]\n",
            " [-28.641   0.249  16.868  -1.024 100.919]\n",
            " [-28.641   0.249  16.868  -1.024 100.919]\n",
            " [-28.641   0.249  16.868  -1.024 100.919]\n",
            " [-28.641   0.249  16.868  -1.024 100.919]\n",
            " [-28.641   0.249  16.868  -1.024 100.919]\n",
            " [-28.641   0.249  16.868  -1.024 100.919]]\n"
          ],
          "name": "stdout"
        }
      ]
    },
    {
      "cell_type": "markdown",
      "metadata": {
        "id": "T56J0X6g7O2k"
      },
      "source": [
        "# Load Model"
      ]
    },
    {
      "cell_type": "code",
      "metadata": {
        "id": "zgLQh0jf7Ova"
      },
      "source": [
        "model = keras.models.load_model('modelName.h5')"
      ],
      "execution_count": null,
      "outputs": []
    },
    {
      "cell_type": "markdown",
      "metadata": {
        "id": "X72YH9S87cvW"
      },
      "source": [
        "# Graphs"
      ]
    },
    {
      "cell_type": "markdown",
      "metadata": {
        "id": "o6LGBSia7fg3"
      },
      "source": [
        "## Graph loss and mae"
      ]
    },
    {
      "cell_type": "code",
      "metadata": {
        "id": "k6XSgSit7dE3",
        "colab": {
          "base_uri": "https://localhost:8080/",
          "height": 704
        },
        "outputId": "e43bea3c-97ba-4741-f5e8-55bac8a56246"
      },
      "source": [
        "print(H.history.keys())\n",
        "print(\"loss: \", H.history[\"loss\"])\n",
        "print(\"mae: \", H.history[\"mae\"])\n",
        "# print(\"val_loss: \", H.history[\"val_loss\"])\n",
        "# print(\"val_mae: \", H.history[\"val_mae\"])\n",
        "\n",
        "lim = 2\n",
        "\n",
        "fig, ax = plt.subplots(2,1,figsize=(5,10))\n",
        "fig.subplots_adjust(hspace=0.35)\n",
        "\n",
        "ax[0].plot(H.history[\"loss\"][lim:])\n",
        "# ax[0].plot(H.history[\"val_loss\"][lim:])\n",
        "ax[0].set_title(\"loss vs epoch\", fontsize=20)\n",
        "ax[0].set_xlabel(\"epoch\", fontsize=15)\n",
        "ax[0].set_ylabel(\"loss\", fontsize=15)\n",
        "ax[0].legend([\"train\",\"val\"])\n",
        "ax[0].grid(True)\n",
        "\n",
        "\n",
        "ax[1].plot(H.history[\"mae\"][lim:])\n",
        "# ax[1].plot(H.history[\"val_mae\"][lim:])\n",
        "ax[1].set_title(\"mae vs epoch\", fontsize=20)\n",
        "ax[1].set_xlabel(\"epoch\", fontsize=15)\n",
        "ax[1].set_ylabel(\"mae\", fontsize=15)\n",
        "ax[1].legend([\"train\",\"val\"])\n",
        "ax[1].grid(True)\n"
      ],
      "execution_count": null,
      "outputs": [
        {
          "output_type": "stream",
          "text": [
            "dict_keys(['loss', 'mae'])\n",
            "loss:  [2565.33056640625, 686.5439453125, 390.1226501464844, 346.17633056640625, 327.9333190917969, 314.1062927246094, 298.1754455566406, 309.39630126953125, 290.9915771484375, 290.24755859375, 290.7102966308594, 297.9809265136719, 290.7976379394531, 269.4322814941406, 278.294189453125, 266.9839782714844, 279.2789611816406, 258.54827880859375, 251.42567443847656, 262.4107666015625, 255.81402587890625, 264.9518127441406, 255.0871124267578, 256.90655517578125, 251.31753540039062, 247.29437255859375, 235.9088897705078, 249.52786254882812, 251.63201904296875, 256.1289367675781, 242.56993103027344, 246.80833435058594, 249.73707580566406, 244.3120574951172, 247.50234985351562, 236.75741577148438, 240.47117614746094, 240.91732788085938, 238.36746215820312, 234.7778778076172, 241.64776611328125, 242.28102111816406, 245.24073791503906, 245.164306640625, 244.80685424804688, 231.73452758789062, 241.0179901123047, 232.6458740234375, 248.88258361816406, 233.95372009277344, 228.63771057128906, 240.67568969726562, 234.82070922851562, 242.31704711914062, 236.74700927734375, 242.02700805664062, 237.70933532714844, 234.19740295410156, 225.61000061035156, 238.11660766601562, 241.48818969726562, 240.67893981933594, 233.30538940429688, 239.08067321777344, 242.03628540039062, 235.79310607910156, 239.7788848876953, 227.30519104003906, 235.0032196044922, 235.97738647460938, 233.669921875, 225.51963806152344, 237.7063446044922, 238.79098510742188, 239.99520874023438, 235.95037841796875, 240.7503204345703, 230.743408203125, 230.679443359375, 229.30328369140625, 242.67709350585938, 231.9185333251953, 223.3761444091797, 237.5175018310547, 234.073974609375, 238.14047241210938, 236.7366943359375, 235.26763916015625, 234.19129943847656, 225.94680786132812, 222.27615356445312, 233.16128540039062, 236.04074096679688, 235.38870239257812, 231.48304748535156, 236.95387268066406, 234.73049926757812, 230.19346618652344, 236.84295654296875, 223.9075927734375]\n",
            "mae:  [14.77281379699707, 8.356350898742676, 6.402435779571533, 6.024747848510742, 5.842077255249023, 5.813892841339111, 5.431268215179443, 5.606868267059326, 5.430422782897949, 5.439415454864502, 5.322539806365967, 5.2982306480407715, 5.232251167297363, 5.22866678237915, 5.1457343101501465, 4.99934196472168, 4.909711837768555, 4.754685401916504, 4.709196090698242, 4.72963809967041, 4.624610900878906, 4.6435136795043945, 4.522431373596191, 4.606744766235352, 4.552390098571777, 4.462153434753418, 4.288762092590332, 4.601391792297363, 4.428595066070557, 4.53708553314209, 4.552310466766357, 4.536120891571045, 4.321816921234131, 4.460887908935547, 4.449131011962891, 4.397885322570801, 4.3747053146362305, 4.423060894012451, 4.255484580993652, 4.3267436027526855, 4.32064151763916, 4.370988368988037, 4.369482040405273, 4.288734436035156, 4.349950790405273, 4.397193431854248, 4.391788959503174, 4.339606285095215, 4.30642557144165, 4.2742109298706055, 4.217832565307617, 4.315456867218018, 4.212946891784668, 4.227806091308594, 4.162940979003906, 4.29371452331543, 4.28444766998291, 4.198859214782715, 4.089688777923584, 4.325285911560059, 4.215126037597656, 4.250462055206299, 4.295920372009277, 4.358571529388428, 4.104825019836426, 4.261349678039551, 4.26022481918335, 4.172535419464111, 4.225102424621582, 4.229775428771973, 4.143779277801514, 4.136096477508545, 4.215453624725342, 4.23224401473999, 4.199068546295166, 4.149468421936035, 4.22801399230957, 4.234271049499512, 4.213372230529785, 4.210705280303955, 4.145159721374512, 4.192019462585449, 4.087543964385986, 4.241781711578369, 4.0818328857421875, 4.1369123458862305, 4.077461242675781, 4.165098667144775, 4.129803657531738, 4.0738983154296875, 3.9843623638153076, 4.1449666023254395, 4.156123161315918, 4.1370954513549805, 4.208093643188477, 4.269640922546387, 3.9878804683685303, 4.126110076904297, 4.174638271331787, 4.105364799499512]\n"
          ],
          "name": "stdout"
        },
        {
          "output_type": "display_data",
          "data": {
            "image/png": "[encoded data removed]",
            "text/plain": [
              "<Figure size 360x720 with 2 Axes>"
            ]
          },
          "metadata": {
            "tags": [],
            "needs_background": "light"
          }
        }
      ]
    },
    {
      "cell_type": "markdown",
      "metadata": {
        "id": "QOi6MC8u7swr"
      },
      "source": [
        "# Graphs"
      ]
    },
    {
      "cell_type": "code",
      "metadata": {
        "id": "Pqqb7Riq7tAY"
      },
      "source": [
        "# Maybe copy over previous function and edit that?\n",
        "def graph(pred, true, diff):\n",
        "\n",
        "  values = [\"u\",\"v\",\"sin(v)\",\"cos(v)\",\"sin(u)\",\"cos(u)\",\"s\",\"ds\",\"wire\",\"glayer\",\"z\",\"time\",\"dE_amp\",\"q\"]\n",
        "  limits = [[\"todo\"]]\n",
        "\n",
        "  size = len(values)\n",
        "\n",
        "  fig, axs = plt.subplots(4,size,figsize=(size*5,20))\n",
        "  fig.subplots_adjust(wspace=0.3, hspace=0.3)\n",
        "\n",
        "\n",
        "  for i in range(size):\n",
        "    (mu, sigma) = norm.fit(diff[:,i])\n",
        "    print(\"data\" , values[i] ,\" |: mu: \", mu, \"sigma: \" , sigma)\n",
        "    _, bins, _ = axs[0,i].hist(diff[:,i], 20, density=True)\n",
        "    y = norm.pdf(bins, mu, sigma)\n",
        "    l = axs[0,i].plot(bins, y, 'r--', linewidth=2)\n",
        "\n",
        "    axs[0,i].set_title(values[i] + ' diff')\n",
        "    axs[0,i].set_ylabel('freq')\n",
        "    axs[0,i].set_xlabel(values[i] + ' diff')\n",
        "\n",
        "  #--------------------------------------\n",
        "  # PREDICTED VS TRUE\n",
        "  #--------------------------------------\n",
        "    \n",
        "  for i in range(size):\n",
        "    axs[1,i].scatter(true[:,i],pred[:,i])\n",
        "    axs[1,i].grid(True)\n",
        "\n",
        "    axs[1,i].set_title(values[i] + ' (predicted vs true)')\n",
        "    axs[1,i].set_ylabel('pred ' + values[i])\n",
        "    axs[1,i].set_xlabel('true ' + values[i])\n",
        "\n",
        "    # axs[1,i].set_xlim(limits[i])\n",
        "    # axs[1,i].set_ylim(limits[i])\n",
        "    # axs[1,i].plot(limits[i],limits[i], color='b')\n",
        "\n",
        "  #--------------------------------------\n",
        "  # DIFFERENCE VS TRUE\n",
        "  #--------------------------------------\n",
        "\n",
        "  for i in range(size):\n",
        "    axs[2,i].scatter(true[:,i],diff[:,i])\n",
        "    l, r = axs[2,i].get_xlim()\n",
        "    axs[2,i].hlines(0, l, r)\n",
        "    axs[2,i].grid(True)\n",
        "\n",
        "    axs[2,i].set_title(values[i] + ' (difference vs true)')\n",
        "    axs[2,i].set_ylabel('diff ' + values[i])\n",
        "    axs[2,i].set_xlabel('true ' + values[i])\n",
        "\n",
        "  #--------------------------------------\n",
        "  # DIFFERENCE VS TRUE 2D HIST\n",
        "  #--------------------------------------\n",
        "\n",
        "  for i in range(size):\n",
        "    axs[3,i].hist2d(true[:,i],diff[:,i],bins=20)\n",
        "\n",
        "    axs[2,i].set_title(values[i] + ' (difference vs true)')\n",
        "    axs[2,i].set_ylabel('diff ' + values[i])\n",
        "    axs[2,i].set_xlabel('true ' + values[i])\n",
        "\n",
        "  fig.show()\n"
      ],
      "execution_count": null,
      "outputs": []
    },
    {
      "cell_type": "code",
      "metadata": {
        "id": "zHuUmXPCiXt9"
      },
      "source": [
        "def gen_test_data(x_test, y_test, size=1000):\n",
        "  pred = model.predict(x_test)\n",
        "  diff = pred - y_test\n",
        "  return pred, y_test, diff"
      ],
      "execution_count": null,
      "outputs": []
    },
    {
      "cell_type": "code",
      "metadata": {
        "id": "2AMRhD6Wi7Xh"
      },
      "source": [
        "graph(gen_test_data(x_test, y_test));"
      ],
      "execution_count": null,
      "outputs": []
    },
    {
      "cell_type": "markdown",
      "metadata": {
        "id": "ZAUyMneo7Xj1"
      },
      "source": [
        "# Test model"
      ]
    },
    {
      "cell_type": "code",
      "metadata": {
        "id": "sBsHjTgG7X2y"
      },
      "source": [
        "# make test function"
      ],
      "execution_count": null,
      "outputs": []
    }
  ]
}